{
 "cells": [
  {
   "cell_type": "markdown",
   "metadata": {},
   "source": [
    "# What sells a car?\n",
    "\n",
    "I'm an analyst at Crankshaft List. Hundreds of free advertisements for vehicles are published on our site every day. I need to study data collected over the last few years and determine which factors influence the price of a vehicle.\n",
    "\n",
    "The goal of this project is to analyze what factors influence the process of selling a car through free advertisements.\n"
   ]
  },
  {
   "cell_type": "markdown",
   "metadata": {},
   "source": [
    "## Initialization"
   ]
  },
  {
   "cell_type": "code",
   "execution_count": 1,
   "metadata": {},
   "outputs": [],
   "source": [
    "# Loading all the libraries\n",
    "import pandas as pd\n",
    "import matplotlib.pyplot as plt\n",
    "import numpy as np"
   ]
  },
  {
   "cell_type": "markdown",
   "metadata": {},
   "source": [
    "### Load data"
   ]
  },
  {
   "cell_type": "markdown",
   "metadata": {},
   "source": [
    "Let's load the project data and have a look at the general information."
   ]
  },
  {
   "cell_type": "code",
   "execution_count": 2,
   "metadata": {},
   "outputs": [],
   "source": [
    "# Load the data file into a DataFrame\n",
    "try: \n",
    "    df = pd.read_csv('vehicles_us.csv')\n",
    "except:\n",
    "    df = pd.read_csv('/datasets/vehicles_us.csv')"
   ]
  },
  {
   "cell_type": "markdown",
   "metadata": {},
   "source": [
    "### Explore initial data"
   ]
  },
  {
   "cell_type": "markdown",
   "metadata": {},
   "source": [
    "The dataset contains the following fields:\n",
    "- `price`\n",
    "- `model_year`\n",
    "- `model`\n",
    "- `condition`\n",
    "- `cylinders`\n",
    "- `fuel` — gas, diesel, etc.\n",
    "- `odometer` — the vehicle's mileage when the ad was published\n",
    "- `transmission`\n",
    "- `paint_color`\n",
    "- `is_4wd` — whether the vehicle has 4-wheel drive (Boolean type)\n",
    "- `date_posted` — the date the ad was published\n",
    "- `days_listed` — from publication to removal\n",
    "\n"
   ]
  },
  {
   "cell_type": "code",
   "execution_count": 3,
   "metadata": {},
   "outputs": [
    {
     "name": "stdout",
     "output_type": "stream",
     "text": [
      "<class 'pandas.core.frame.DataFrame'>\n",
      "RangeIndex: 51525 entries, 0 to 51524\n",
      "Data columns (total 13 columns):\n",
      " #   Column        Non-Null Count  Dtype  \n",
      "---  ------        --------------  -----  \n",
      " 0   price         51525 non-null  int64  \n",
      " 1   model_year    47906 non-null  float64\n",
      " 2   model         51525 non-null  object \n",
      " 3   condition     51525 non-null  object \n",
      " 4   cylinders     46265 non-null  float64\n",
      " 5   fuel          51525 non-null  object \n",
      " 6   odometer      43633 non-null  float64\n",
      " 7   transmission  51525 non-null  object \n",
      " 8   type          51525 non-null  object \n",
      " 9   paint_color   42258 non-null  object \n",
      " 10  is_4wd        25572 non-null  float64\n",
      " 11  date_posted   51525 non-null  object \n",
      " 12  days_listed   51525 non-null  int64  \n",
      "dtypes: float64(4), int64(2), object(7)\n",
      "memory usage: 5.1+ MB\n"
     ]
    }
   ],
   "source": [
    "# Ivestigate general info about the data\n",
    "df.info()"
   ]
  },
  {
   "cell_type": "code",
   "execution_count": 4,
   "metadata": {},
   "outputs": [
    {
     "data": {
      "text/html": [
       "<div>\n",
       "<style scoped>\n",
       "    .dataframe tbody tr th:only-of-type {\n",
       "        vertical-align: middle;\n",
       "    }\n",
       "\n",
       "    .dataframe tbody tr th {\n",
       "        vertical-align: top;\n",
       "    }\n",
       "\n",
       "    .dataframe thead th {\n",
       "        text-align: right;\n",
       "    }\n",
       "</style>\n",
       "<table border=\"1\" class=\"dataframe\">\n",
       "  <thead>\n",
       "    <tr style=\"text-align: right;\">\n",
       "      <th></th>\n",
       "      <th>price</th>\n",
       "      <th>model_year</th>\n",
       "      <th>model</th>\n",
       "      <th>condition</th>\n",
       "      <th>cylinders</th>\n",
       "      <th>fuel</th>\n",
       "      <th>odometer</th>\n",
       "      <th>transmission</th>\n",
       "      <th>type</th>\n",
       "      <th>paint_color</th>\n",
       "      <th>is_4wd</th>\n",
       "      <th>date_posted</th>\n",
       "      <th>days_listed</th>\n",
       "    </tr>\n",
       "  </thead>\n",
       "  <tbody>\n",
       "    <tr>\n",
       "      <th>0</th>\n",
       "      <td>9400</td>\n",
       "      <td>2011.0</td>\n",
       "      <td>bmw x5</td>\n",
       "      <td>good</td>\n",
       "      <td>6.0</td>\n",
       "      <td>gas</td>\n",
       "      <td>145000.0</td>\n",
       "      <td>automatic</td>\n",
       "      <td>SUV</td>\n",
       "      <td>NaN</td>\n",
       "      <td>1.0</td>\n",
       "      <td>2018-06-23</td>\n",
       "      <td>19</td>\n",
       "    </tr>\n",
       "    <tr>\n",
       "      <th>1</th>\n",
       "      <td>25500</td>\n",
       "      <td>NaN</td>\n",
       "      <td>ford f-150</td>\n",
       "      <td>good</td>\n",
       "      <td>6.0</td>\n",
       "      <td>gas</td>\n",
       "      <td>88705.0</td>\n",
       "      <td>automatic</td>\n",
       "      <td>pickup</td>\n",
       "      <td>white</td>\n",
       "      <td>1.0</td>\n",
       "      <td>2018-10-19</td>\n",
       "      <td>50</td>\n",
       "    </tr>\n",
       "    <tr>\n",
       "      <th>2</th>\n",
       "      <td>5500</td>\n",
       "      <td>2013.0</td>\n",
       "      <td>hyundai sonata</td>\n",
       "      <td>like new</td>\n",
       "      <td>4.0</td>\n",
       "      <td>gas</td>\n",
       "      <td>110000.0</td>\n",
       "      <td>automatic</td>\n",
       "      <td>sedan</td>\n",
       "      <td>red</td>\n",
       "      <td>NaN</td>\n",
       "      <td>2019-02-07</td>\n",
       "      <td>79</td>\n",
       "    </tr>\n",
       "    <tr>\n",
       "      <th>3</th>\n",
       "      <td>1500</td>\n",
       "      <td>2003.0</td>\n",
       "      <td>ford f-150</td>\n",
       "      <td>fair</td>\n",
       "      <td>8.0</td>\n",
       "      <td>gas</td>\n",
       "      <td>NaN</td>\n",
       "      <td>automatic</td>\n",
       "      <td>pickup</td>\n",
       "      <td>NaN</td>\n",
       "      <td>NaN</td>\n",
       "      <td>2019-03-22</td>\n",
       "      <td>9</td>\n",
       "    </tr>\n",
       "    <tr>\n",
       "      <th>4</th>\n",
       "      <td>14900</td>\n",
       "      <td>2017.0</td>\n",
       "      <td>chrysler 200</td>\n",
       "      <td>excellent</td>\n",
       "      <td>4.0</td>\n",
       "      <td>gas</td>\n",
       "      <td>80903.0</td>\n",
       "      <td>automatic</td>\n",
       "      <td>sedan</td>\n",
       "      <td>black</td>\n",
       "      <td>NaN</td>\n",
       "      <td>2019-04-02</td>\n",
       "      <td>28</td>\n",
       "    </tr>\n",
       "    <tr>\n",
       "      <th>5</th>\n",
       "      <td>14990</td>\n",
       "      <td>2014.0</td>\n",
       "      <td>chrysler 300</td>\n",
       "      <td>excellent</td>\n",
       "      <td>6.0</td>\n",
       "      <td>gas</td>\n",
       "      <td>57954.0</td>\n",
       "      <td>automatic</td>\n",
       "      <td>sedan</td>\n",
       "      <td>black</td>\n",
       "      <td>1.0</td>\n",
       "      <td>2018-06-20</td>\n",
       "      <td>15</td>\n",
       "    </tr>\n",
       "    <tr>\n",
       "      <th>6</th>\n",
       "      <td>12990</td>\n",
       "      <td>2015.0</td>\n",
       "      <td>toyota camry</td>\n",
       "      <td>excellent</td>\n",
       "      <td>4.0</td>\n",
       "      <td>gas</td>\n",
       "      <td>79212.0</td>\n",
       "      <td>automatic</td>\n",
       "      <td>sedan</td>\n",
       "      <td>white</td>\n",
       "      <td>NaN</td>\n",
       "      <td>2018-12-27</td>\n",
       "      <td>73</td>\n",
       "    </tr>\n",
       "    <tr>\n",
       "      <th>7</th>\n",
       "      <td>15990</td>\n",
       "      <td>2013.0</td>\n",
       "      <td>honda pilot</td>\n",
       "      <td>excellent</td>\n",
       "      <td>6.0</td>\n",
       "      <td>gas</td>\n",
       "      <td>109473.0</td>\n",
       "      <td>automatic</td>\n",
       "      <td>SUV</td>\n",
       "      <td>black</td>\n",
       "      <td>1.0</td>\n",
       "      <td>2019-01-07</td>\n",
       "      <td>68</td>\n",
       "    </tr>\n",
       "    <tr>\n",
       "      <th>8</th>\n",
       "      <td>11500</td>\n",
       "      <td>2012.0</td>\n",
       "      <td>kia sorento</td>\n",
       "      <td>excellent</td>\n",
       "      <td>4.0</td>\n",
       "      <td>gas</td>\n",
       "      <td>104174.0</td>\n",
       "      <td>automatic</td>\n",
       "      <td>SUV</td>\n",
       "      <td>NaN</td>\n",
       "      <td>1.0</td>\n",
       "      <td>2018-07-16</td>\n",
       "      <td>19</td>\n",
       "    </tr>\n",
       "    <tr>\n",
       "      <th>9</th>\n",
       "      <td>9200</td>\n",
       "      <td>2008.0</td>\n",
       "      <td>honda pilot</td>\n",
       "      <td>excellent</td>\n",
       "      <td>NaN</td>\n",
       "      <td>gas</td>\n",
       "      <td>147191.0</td>\n",
       "      <td>automatic</td>\n",
       "      <td>SUV</td>\n",
       "      <td>blue</td>\n",
       "      <td>1.0</td>\n",
       "      <td>2019-02-15</td>\n",
       "      <td>17</td>\n",
       "    </tr>\n",
       "  </tbody>\n",
       "</table>\n",
       "</div>"
      ],
      "text/plain": [
       "   price  model_year           model  condition  cylinders fuel  odometer  \\\n",
       "0   9400      2011.0          bmw x5       good        6.0  gas  145000.0   \n",
       "1  25500         NaN      ford f-150       good        6.0  gas   88705.0   \n",
       "2   5500      2013.0  hyundai sonata   like new        4.0  gas  110000.0   \n",
       "3   1500      2003.0      ford f-150       fair        8.0  gas       NaN   \n",
       "4  14900      2017.0    chrysler 200  excellent        4.0  gas   80903.0   \n",
       "5  14990      2014.0    chrysler 300  excellent        6.0  gas   57954.0   \n",
       "6  12990      2015.0    toyota camry  excellent        4.0  gas   79212.0   \n",
       "7  15990      2013.0     honda pilot  excellent        6.0  gas  109473.0   \n",
       "8  11500      2012.0     kia sorento  excellent        4.0  gas  104174.0   \n",
       "9   9200      2008.0     honda pilot  excellent        NaN  gas  147191.0   \n",
       "\n",
       "  transmission    type paint_color  is_4wd date_posted  days_listed  \n",
       "0    automatic     SUV         NaN     1.0  2018-06-23           19  \n",
       "1    automatic  pickup       white     1.0  2018-10-19           50  \n",
       "2    automatic   sedan         red     NaN  2019-02-07           79  \n",
       "3    automatic  pickup         NaN     NaN  2019-03-22            9  \n",
       "4    automatic   sedan       black     NaN  2019-04-02           28  \n",
       "5    automatic   sedan       black     1.0  2018-06-20           15  \n",
       "6    automatic   sedan       white     NaN  2018-12-27           73  \n",
       "7    automatic     SUV       black     1.0  2019-01-07           68  \n",
       "8    automatic     SUV         NaN     1.0  2018-07-16           19  \n",
       "9    automatic     SUV        blue     1.0  2019-02-15           17  "
      ]
     },
     "execution_count": 4,
     "metadata": {},
     "output_type": "execute_result"
    }
   ],
   "source": [
    "# print a sample of data\n",
    "df.head(10)\n"
   ]
  },
  {
   "cell_type": "markdown",
   "metadata": {},
   "source": [
    "From the general info above we can conclude that there are five columns with missing data, about which we must make a decision about necessity to filling them in. \n",
    "The 'is_4wd' column contains the most mising values (about a half of total). \n",
    " \n",
    "The format of the data in 'model_year' and 'odometer' columns is 'float64' ans should be changed to 'int'\n",
    "\n",
    "Now let's see if we have any duplicates in our data. If we do, we'll need to decide what we will do with them."
   ]
  },
  {
   "cell_type": "code",
   "execution_count": 5,
   "metadata": {},
   "outputs": [
    {
     "name": "stdout",
     "output_type": "stream",
     "text": [
      "0\n"
     ]
    }
   ],
   "source": [
    "# Checking duplicates\n",
    "print(df.duplicated().sum())"
   ]
  },
  {
   "cell_type": "markdown",
   "metadata": {},
   "source": [
    "There are no duplicates in our dataset."
   ]
  },
  {
   "cell_type": "markdown",
   "metadata": {},
   "source": [
    "### Conclusions and further steps\n",
    "\n",
    "Initial data obviously should be preprossesed before working with them. Missing values should be investigated in order to make a conclusion should we fill them in or not. \n",
    "Format of some columns and register should be changed.\n",
    "We will investigate all the five columns with missing values and then change the data types of two columns from 'float' to 'int'.\n"
   ]
  },
  {
   "cell_type": "markdown",
   "metadata": {},
   "source": [
    "## Treat missing values (if any)"
   ]
  },
  {
   "cell_type": "markdown",
   "metadata": {},
   "source": [
    "\n",
    "Let's look at the percentage of missing data in the dataset"
   ]
  },
  {
   "cell_type": "code",
   "execution_count": 6,
   "metadata": {},
   "outputs": [
    {
     "data": {
      "text/html": [
       "<div>\n",
       "<style scoped>\n",
       "    .dataframe tbody tr th:only-of-type {\n",
       "        vertical-align: middle;\n",
       "    }\n",
       "\n",
       "    .dataframe tbody tr th {\n",
       "        vertical-align: top;\n",
       "    }\n",
       "\n",
       "    .dataframe thead th {\n",
       "        text-align: right;\n",
       "    }\n",
       "</style>\n",
       "<table border=\"1\" class=\"dataframe\">\n",
       "  <thead>\n",
       "    <tr style=\"text-align: right;\">\n",
       "      <th></th>\n",
       "      <th>missing_values</th>\n",
       "      <th>%</th>\n",
       "    </tr>\n",
       "  </thead>\n",
       "  <tbody>\n",
       "    <tr>\n",
       "      <th>is_4wd</th>\n",
       "      <td>25953</td>\n",
       "      <td>0.504</td>\n",
       "    </tr>\n",
       "    <tr>\n",
       "      <th>paint_color</th>\n",
       "      <td>9267</td>\n",
       "      <td>0.180</td>\n",
       "    </tr>\n",
       "    <tr>\n",
       "      <th>odometer</th>\n",
       "      <td>7892</td>\n",
       "      <td>0.153</td>\n",
       "    </tr>\n",
       "    <tr>\n",
       "      <th>cylinders</th>\n",
       "      <td>5260</td>\n",
       "      <td>0.102</td>\n",
       "    </tr>\n",
       "    <tr>\n",
       "      <th>model_year</th>\n",
       "      <td>3619</td>\n",
       "      <td>0.070</td>\n",
       "    </tr>\n",
       "    <tr>\n",
       "      <th>price</th>\n",
       "      <td>0</td>\n",
       "      <td>0.000</td>\n",
       "    </tr>\n",
       "    <tr>\n",
       "      <th>model</th>\n",
       "      <td>0</td>\n",
       "      <td>0.000</td>\n",
       "    </tr>\n",
       "    <tr>\n",
       "      <th>condition</th>\n",
       "      <td>0</td>\n",
       "      <td>0.000</td>\n",
       "    </tr>\n",
       "    <tr>\n",
       "      <th>fuel</th>\n",
       "      <td>0</td>\n",
       "      <td>0.000</td>\n",
       "    </tr>\n",
       "    <tr>\n",
       "      <th>transmission</th>\n",
       "      <td>0</td>\n",
       "      <td>0.000</td>\n",
       "    </tr>\n",
       "    <tr>\n",
       "      <th>type</th>\n",
       "      <td>0</td>\n",
       "      <td>0.000</td>\n",
       "    </tr>\n",
       "    <tr>\n",
       "      <th>date_posted</th>\n",
       "      <td>0</td>\n",
       "      <td>0.000</td>\n",
       "    </tr>\n",
       "    <tr>\n",
       "      <th>days_listed</th>\n",
       "      <td>0</td>\n",
       "      <td>0.000</td>\n",
       "    </tr>\n",
       "  </tbody>\n",
       "</table>\n",
       "</div>"
      ],
      "text/plain": [
       "              missing_values      %\n",
       "is_4wd                 25953  0.504\n",
       "paint_color             9267  0.180\n",
       "odometer                7892  0.153\n",
       "cylinders               5260  0.102\n",
       "model_year              3619  0.070\n",
       "price                      0  0.000\n",
       "model                      0  0.000\n",
       "condition                  0  0.000\n",
       "fuel                       0  0.000\n",
       "transmission               0  0.000\n",
       "type                       0  0.000\n",
       "date_posted                0  0.000\n",
       "days_listed                0  0.000"
      ]
     },
     "execution_count": 6,
     "metadata": {},
     "output_type": "execute_result"
    }
   ],
   "source": [
    "mis_values = df.isnull().sum().to_frame('missing_values')\n",
    "mis_values['%'] = round(df.isnull().sum()/len(df),3)\n",
    "mis_values.sort_values(by='%', ascending=False)"
   ]
  },
  {
   "cell_type": "markdown",
   "metadata": {},
   "source": [
    "Different part of data is missed for each column with missing values. \n",
    "7% of total data with model year may be not very significant while 'is_4wd' contain more than 50% of missing data. \n",
    "Let's decide what to do with each column.\n",
    "First column with the majority of missing values is 'is_4wd'. Let's look at data contained in this column.\n"
   ]
  },
  {
   "cell_type": "code",
   "execution_count": 7,
   "metadata": {},
   "outputs": [
    {
     "data": {
      "text/plain": [
       "array([ 1., nan])"
      ]
     },
     "execution_count": 7,
     "metadata": {},
     "output_type": "execute_result"
    }
   ],
   "source": [
    "df['is_4wd'].unique()"
   ]
  },
  {
   "cell_type": "markdown",
   "metadata": {},
   "source": [
    "There are only two values in  'is_4wd' column - 1 means that the car has 4-wheel drive and 'nan' - it's obvious that it means no 4-wheel drive for corresponding data. We can replace it to '0'."
   ]
  },
  {
   "cell_type": "code",
   "execution_count": 8,
   "metadata": {},
   "outputs": [],
   "source": [
    "# Replacing missing values to '0' - it means that corresponding car has no 4-wheel drive\n",
    "df['is_4wd'].fillna(0, inplace = True)\n"
   ]
  },
  {
   "cell_type": "code",
   "execution_count": 9,
   "metadata": {},
   "outputs": [
    {
     "data": {
      "text/plain": [
       "0.0    25953\n",
       "1.0    25572\n",
       "Name: is_4wd, dtype: int64"
      ]
     },
     "execution_count": 9,
     "metadata": {},
     "output_type": "execute_result"
    }
   ],
   "source": [
    "# Let's count values in order to make sure that amount of '0' is equal to the previous amount of 'nan'\n",
    "df['is_4wd'].value_counts()"
   ]
  },
  {
   "cell_type": "markdown",
   "metadata": {},
   "source": [
    "Amount of 'NaN' values identified above is equal to '0' values now.\n",
    "\n",
    "Let's look at the next column with missing values, 'paint_color'."
   ]
  },
  {
   "cell_type": "code",
   "execution_count": 10,
   "metadata": {},
   "outputs": [
    {
     "data": {
      "text/plain": [
       "white     0.237328\n",
       "black     0.182025\n",
       "silver    0.147759\n",
       "grey      0.119196\n",
       "blue      0.105897\n",
       "red       0.104619\n",
       "green     0.033035\n",
       "brown     0.028941\n",
       "custom    0.027285\n",
       "yellow    0.006034\n",
       "orange    0.005466\n",
       "purple    0.002414\n",
       "Name: paint_color, dtype: float64"
      ]
     },
     "execution_count": 10,
     "metadata": {},
     "output_type": "execute_result"
    }
   ],
   "source": [
    "# Check the distribution of values\n",
    "df['paint_color'].value_counts(normalize=True)"
   ]
  },
  {
   "cell_type": "markdown",
   "metadata": {},
   "source": [
    "We can't conclude that there is for example one main colour in our dataset and we can replace missing values to this colour. The car's colour depends only on the owner decision.\n",
    "So the best decision will be not to fill in these data.\n",
    "\n",
    "For columns with missing values such as 'cylinders' and 'model_year' we can try to fill in with the median values of grouped data basing on the model. "
   ]
  },
  {
   "cell_type": "code",
   "execution_count": 11,
   "metadata": {},
   "outputs": [
    {
     "name": "stdout",
     "output_type": "stream",
     "text": [
      "<class 'pandas.core.frame.DataFrame'>\n",
      "RangeIndex: 51525 entries, 0 to 51524\n",
      "Data columns (total 13 columns):\n",
      " #   Column        Non-Null Count  Dtype  \n",
      "---  ------        --------------  -----  \n",
      " 0   price         51525 non-null  int64  \n",
      " 1   model_year    51525 non-null  float64\n",
      " 2   model         51525 non-null  object \n",
      " 3   condition     51525 non-null  object \n",
      " 4   cylinders     51525 non-null  float64\n",
      " 5   fuel          51525 non-null  object \n",
      " 6   odometer      43633 non-null  float64\n",
      " 7   transmission  51525 non-null  object \n",
      " 8   type          51525 non-null  object \n",
      " 9   paint_color   42258 non-null  object \n",
      " 10  is_4wd        51525 non-null  float64\n",
      " 11  date_posted   51525 non-null  object \n",
      " 12  days_listed   51525 non-null  int64  \n",
      "dtypes: float64(4), int64(2), object(7)\n",
      "memory usage: 5.1+ MB\n"
     ]
    }
   ],
   "source": [
    "df_transformed_cylinders = df.groupby('model')['cylinders'].transform('median')\n",
    "\n",
    "df['cylinders'] = df['cylinders'].fillna(df_transformed_cylinders)\n",
    "\n",
    "df_transformed_model_year = df.groupby('model')['model_year'].transform('median')\n",
    "\n",
    "df['model_year'] = df['model_year'].fillna(df_transformed_model_year)\n",
    "\n",
    "df.info()"
   ]
  },
  {
   "cell_type": "markdown",
   "metadata": {},
   "source": [
    "## Fix data types"
   ]
  },
  {
   "cell_type": "markdown",
   "metadata": {},
   "source": [
    "\n",
    "From the info method above we can see that all numeric data are in correct format.\n",
    "The only column with wrong format is 'date_posted' - it's in 'object' type while it's better to have a 'date' type here.\n",
    "Let's change the data type for this column."
   ]
  },
  {
   "cell_type": "code",
   "execution_count": 12,
   "metadata": {},
   "outputs": [
    {
     "name": "stdout",
     "output_type": "stream",
     "text": [
      "<class 'pandas.core.frame.DataFrame'>\n",
      "RangeIndex: 51525 entries, 0 to 51524\n",
      "Data columns (total 13 columns):\n",
      " #   Column        Non-Null Count  Dtype         \n",
      "---  ------        --------------  -----         \n",
      " 0   price         51525 non-null  int64         \n",
      " 1   model_year    51525 non-null  float64       \n",
      " 2   model         51525 non-null  object        \n",
      " 3   condition     51525 non-null  object        \n",
      " 4   cylinders     51525 non-null  float64       \n",
      " 5   fuel          51525 non-null  object        \n",
      " 6   odometer      43633 non-null  float64       \n",
      " 7   transmission  51525 non-null  object        \n",
      " 8   type          51525 non-null  object        \n",
      " 9   paint_color   42258 non-null  object        \n",
      " 10  is_4wd        51525 non-null  float64       \n",
      " 11  date_posted   51525 non-null  datetime64[ns]\n",
      " 12  days_listed   51525 non-null  int64         \n",
      "dtypes: datetime64[ns](1), float64(4), int64(2), object(6)\n",
      "memory usage: 5.1+ MB\n"
     ]
    }
   ],
   "source": [
    "df['date_posted'] = pd.to_datetime(df['date_posted'])\n",
    "df.info()\n"
   ]
  },
  {
   "cell_type": "markdown",
   "metadata": {},
   "source": [
    "## Enrich data"
   ]
  },
  {
   "cell_type": "markdown",
   "metadata": {},
   "source": [
    "Let's add additional factors to the data to make the analysis easier."
   ]
  },
  {
   "cell_type": "code",
   "execution_count": 13,
   "metadata": {},
   "outputs": [
    {
     "data": {
      "text/html": [
       "<div>\n",
       "<style scoped>\n",
       "    .dataframe tbody tr th:only-of-type {\n",
       "        vertical-align: middle;\n",
       "    }\n",
       "\n",
       "    .dataframe tbody tr th {\n",
       "        vertical-align: top;\n",
       "    }\n",
       "\n",
       "    .dataframe thead th {\n",
       "        text-align: right;\n",
       "    }\n",
       "</style>\n",
       "<table border=\"1\" class=\"dataframe\">\n",
       "  <thead>\n",
       "    <tr style=\"text-align: right;\">\n",
       "      <th></th>\n",
       "      <th>price</th>\n",
       "      <th>model_year</th>\n",
       "      <th>model</th>\n",
       "      <th>condition</th>\n",
       "      <th>cylinders</th>\n",
       "      <th>fuel</th>\n",
       "      <th>odometer</th>\n",
       "      <th>transmission</th>\n",
       "      <th>type</th>\n",
       "      <th>paint_color</th>\n",
       "      <th>is_4wd</th>\n",
       "      <th>date_posted</th>\n",
       "      <th>days_listed</th>\n",
       "      <th>yyyy</th>\n",
       "      <th>mm</th>\n",
       "    </tr>\n",
       "  </thead>\n",
       "  <tbody>\n",
       "    <tr>\n",
       "      <th>0</th>\n",
       "      <td>9400</td>\n",
       "      <td>2011.0</td>\n",
       "      <td>bmw x5</td>\n",
       "      <td>good</td>\n",
       "      <td>6.0</td>\n",
       "      <td>gas</td>\n",
       "      <td>145000.0</td>\n",
       "      <td>automatic</td>\n",
       "      <td>SUV</td>\n",
       "      <td>NaN</td>\n",
       "      <td>1.0</td>\n",
       "      <td>2018-06-23</td>\n",
       "      <td>19</td>\n",
       "      <td>2018</td>\n",
       "      <td>6</td>\n",
       "    </tr>\n",
       "    <tr>\n",
       "      <th>1</th>\n",
       "      <td>25500</td>\n",
       "      <td>2011.0</td>\n",
       "      <td>ford f-150</td>\n",
       "      <td>good</td>\n",
       "      <td>6.0</td>\n",
       "      <td>gas</td>\n",
       "      <td>88705.0</td>\n",
       "      <td>automatic</td>\n",
       "      <td>pickup</td>\n",
       "      <td>white</td>\n",
       "      <td>1.0</td>\n",
       "      <td>2018-10-19</td>\n",
       "      <td>50</td>\n",
       "      <td>2018</td>\n",
       "      <td>10</td>\n",
       "    </tr>\n",
       "    <tr>\n",
       "      <th>2</th>\n",
       "      <td>5500</td>\n",
       "      <td>2013.0</td>\n",
       "      <td>hyundai sonata</td>\n",
       "      <td>like new</td>\n",
       "      <td>4.0</td>\n",
       "      <td>gas</td>\n",
       "      <td>110000.0</td>\n",
       "      <td>automatic</td>\n",
       "      <td>sedan</td>\n",
       "      <td>red</td>\n",
       "      <td>0.0</td>\n",
       "      <td>2019-02-07</td>\n",
       "      <td>79</td>\n",
       "      <td>2019</td>\n",
       "      <td>2</td>\n",
       "    </tr>\n",
       "    <tr>\n",
       "      <th>3</th>\n",
       "      <td>1500</td>\n",
       "      <td>2003.0</td>\n",
       "      <td>ford f-150</td>\n",
       "      <td>fair</td>\n",
       "      <td>8.0</td>\n",
       "      <td>gas</td>\n",
       "      <td>NaN</td>\n",
       "      <td>automatic</td>\n",
       "      <td>pickup</td>\n",
       "      <td>NaN</td>\n",
       "      <td>0.0</td>\n",
       "      <td>2019-03-22</td>\n",
       "      <td>9</td>\n",
       "      <td>2019</td>\n",
       "      <td>3</td>\n",
       "    </tr>\n",
       "    <tr>\n",
       "      <th>4</th>\n",
       "      <td>14900</td>\n",
       "      <td>2017.0</td>\n",
       "      <td>chrysler 200</td>\n",
       "      <td>excellent</td>\n",
       "      <td>4.0</td>\n",
       "      <td>gas</td>\n",
       "      <td>80903.0</td>\n",
       "      <td>automatic</td>\n",
       "      <td>sedan</td>\n",
       "      <td>black</td>\n",
       "      <td>0.0</td>\n",
       "      <td>2019-04-02</td>\n",
       "      <td>28</td>\n",
       "      <td>2019</td>\n",
       "      <td>4</td>\n",
       "    </tr>\n",
       "    <tr>\n",
       "      <th>5</th>\n",
       "      <td>14990</td>\n",
       "      <td>2014.0</td>\n",
       "      <td>chrysler 300</td>\n",
       "      <td>excellent</td>\n",
       "      <td>6.0</td>\n",
       "      <td>gas</td>\n",
       "      <td>57954.0</td>\n",
       "      <td>automatic</td>\n",
       "      <td>sedan</td>\n",
       "      <td>black</td>\n",
       "      <td>1.0</td>\n",
       "      <td>2018-06-20</td>\n",
       "      <td>15</td>\n",
       "      <td>2018</td>\n",
       "      <td>6</td>\n",
       "    </tr>\n",
       "    <tr>\n",
       "      <th>6</th>\n",
       "      <td>12990</td>\n",
       "      <td>2015.0</td>\n",
       "      <td>toyota camry</td>\n",
       "      <td>excellent</td>\n",
       "      <td>4.0</td>\n",
       "      <td>gas</td>\n",
       "      <td>79212.0</td>\n",
       "      <td>automatic</td>\n",
       "      <td>sedan</td>\n",
       "      <td>white</td>\n",
       "      <td>0.0</td>\n",
       "      <td>2018-12-27</td>\n",
       "      <td>73</td>\n",
       "      <td>2018</td>\n",
       "      <td>12</td>\n",
       "    </tr>\n",
       "    <tr>\n",
       "      <th>7</th>\n",
       "      <td>15990</td>\n",
       "      <td>2013.0</td>\n",
       "      <td>honda pilot</td>\n",
       "      <td>excellent</td>\n",
       "      <td>6.0</td>\n",
       "      <td>gas</td>\n",
       "      <td>109473.0</td>\n",
       "      <td>automatic</td>\n",
       "      <td>SUV</td>\n",
       "      <td>black</td>\n",
       "      <td>1.0</td>\n",
       "      <td>2019-01-07</td>\n",
       "      <td>68</td>\n",
       "      <td>2019</td>\n",
       "      <td>1</td>\n",
       "    </tr>\n",
       "    <tr>\n",
       "      <th>8</th>\n",
       "      <td>11500</td>\n",
       "      <td>2012.0</td>\n",
       "      <td>kia sorento</td>\n",
       "      <td>excellent</td>\n",
       "      <td>4.0</td>\n",
       "      <td>gas</td>\n",
       "      <td>104174.0</td>\n",
       "      <td>automatic</td>\n",
       "      <td>SUV</td>\n",
       "      <td>NaN</td>\n",
       "      <td>1.0</td>\n",
       "      <td>2018-07-16</td>\n",
       "      <td>19</td>\n",
       "      <td>2018</td>\n",
       "      <td>7</td>\n",
       "    </tr>\n",
       "    <tr>\n",
       "      <th>9</th>\n",
       "      <td>9200</td>\n",
       "      <td>2008.0</td>\n",
       "      <td>honda pilot</td>\n",
       "      <td>excellent</td>\n",
       "      <td>6.0</td>\n",
       "      <td>gas</td>\n",
       "      <td>147191.0</td>\n",
       "      <td>automatic</td>\n",
       "      <td>SUV</td>\n",
       "      <td>blue</td>\n",
       "      <td>1.0</td>\n",
       "      <td>2019-02-15</td>\n",
       "      <td>17</td>\n",
       "      <td>2019</td>\n",
       "      <td>2</td>\n",
       "    </tr>\n",
       "  </tbody>\n",
       "</table>\n",
       "</div>"
      ],
      "text/plain": [
       "   price  model_year           model  condition  cylinders fuel  odometer  \\\n",
       "0   9400      2011.0          bmw x5       good        6.0  gas  145000.0   \n",
       "1  25500      2011.0      ford f-150       good        6.0  gas   88705.0   \n",
       "2   5500      2013.0  hyundai sonata   like new        4.0  gas  110000.0   \n",
       "3   1500      2003.0      ford f-150       fair        8.0  gas       NaN   \n",
       "4  14900      2017.0    chrysler 200  excellent        4.0  gas   80903.0   \n",
       "5  14990      2014.0    chrysler 300  excellent        6.0  gas   57954.0   \n",
       "6  12990      2015.0    toyota camry  excellent        4.0  gas   79212.0   \n",
       "7  15990      2013.0     honda pilot  excellent        6.0  gas  109473.0   \n",
       "8  11500      2012.0     kia sorento  excellent        4.0  gas  104174.0   \n",
       "9   9200      2008.0     honda pilot  excellent        6.0  gas  147191.0   \n",
       "\n",
       "  transmission    type paint_color  is_4wd date_posted  days_listed  yyyy  mm  \n",
       "0    automatic     SUV         NaN     1.0  2018-06-23           19  2018   6  \n",
       "1    automatic  pickup       white     1.0  2018-10-19           50  2018  10  \n",
       "2    automatic   sedan         red     0.0  2019-02-07           79  2019   2  \n",
       "3    automatic  pickup         NaN     0.0  2019-03-22            9  2019   3  \n",
       "4    automatic   sedan       black     0.0  2019-04-02           28  2019   4  \n",
       "5    automatic   sedan       black     1.0  2018-06-20           15  2018   6  \n",
       "6    automatic   sedan       white     0.0  2018-12-27           73  2018  12  \n",
       "7    automatic     SUV       black     1.0  2019-01-07           68  2019   1  \n",
       "8    automatic     SUV         NaN     1.0  2018-07-16           19  2018   7  \n",
       "9    automatic     SUV        blue     1.0  2019-02-15           17  2019   2  "
      ]
     },
     "execution_count": 13,
     "metadata": {},
     "output_type": "execute_result"
    }
   ],
   "source": [
    "# Add datetime values for when the ad was placed\n",
    "df['yyyy'] = pd.to_datetime(df['date_posted']).dt.year\n",
    "df['mm'] = pd.to_datetime(df['date_posted']).dt.month\n",
    "df.head(10)"
   ]
  },
  {
   "cell_type": "code",
   "execution_count": 14,
   "metadata": {},
   "outputs": [
    {
     "data": {
      "text/html": [
       "<div>\n",
       "<style scoped>\n",
       "    .dataframe tbody tr th:only-of-type {\n",
       "        vertical-align: middle;\n",
       "    }\n",
       "\n",
       "    .dataframe tbody tr th {\n",
       "        vertical-align: top;\n",
       "    }\n",
       "\n",
       "    .dataframe thead th {\n",
       "        text-align: right;\n",
       "    }\n",
       "</style>\n",
       "<table border=\"1\" class=\"dataframe\">\n",
       "  <thead>\n",
       "    <tr style=\"text-align: right;\">\n",
       "      <th></th>\n",
       "      <th>price</th>\n",
       "      <th>model_year</th>\n",
       "      <th>model</th>\n",
       "      <th>condition</th>\n",
       "      <th>cylinders</th>\n",
       "      <th>fuel</th>\n",
       "      <th>odometer</th>\n",
       "      <th>transmission</th>\n",
       "      <th>type</th>\n",
       "      <th>paint_color</th>\n",
       "      <th>is_4wd</th>\n",
       "      <th>date_posted</th>\n",
       "      <th>days_listed</th>\n",
       "      <th>yyyy</th>\n",
       "      <th>mm</th>\n",
       "      <th>age</th>\n",
       "    </tr>\n",
       "  </thead>\n",
       "  <tbody>\n",
       "    <tr>\n",
       "      <th>0</th>\n",
       "      <td>9400</td>\n",
       "      <td>2011.0</td>\n",
       "      <td>bmw x5</td>\n",
       "      <td>good</td>\n",
       "      <td>6.0</td>\n",
       "      <td>gas</td>\n",
       "      <td>145000.0</td>\n",
       "      <td>automatic</td>\n",
       "      <td>SUV</td>\n",
       "      <td>NaN</td>\n",
       "      <td>1.0</td>\n",
       "      <td>2018-06-23</td>\n",
       "      <td>19</td>\n",
       "      <td>2018</td>\n",
       "      <td>6</td>\n",
       "      <td>7.0</td>\n",
       "    </tr>\n",
       "    <tr>\n",
       "      <th>1</th>\n",
       "      <td>25500</td>\n",
       "      <td>2011.0</td>\n",
       "      <td>ford f-150</td>\n",
       "      <td>good</td>\n",
       "      <td>6.0</td>\n",
       "      <td>gas</td>\n",
       "      <td>88705.0</td>\n",
       "      <td>automatic</td>\n",
       "      <td>pickup</td>\n",
       "      <td>white</td>\n",
       "      <td>1.0</td>\n",
       "      <td>2018-10-19</td>\n",
       "      <td>50</td>\n",
       "      <td>2018</td>\n",
       "      <td>10</td>\n",
       "      <td>7.0</td>\n",
       "    </tr>\n",
       "    <tr>\n",
       "      <th>2</th>\n",
       "      <td>5500</td>\n",
       "      <td>2013.0</td>\n",
       "      <td>hyundai sonata</td>\n",
       "      <td>like new</td>\n",
       "      <td>4.0</td>\n",
       "      <td>gas</td>\n",
       "      <td>110000.0</td>\n",
       "      <td>automatic</td>\n",
       "      <td>sedan</td>\n",
       "      <td>red</td>\n",
       "      <td>0.0</td>\n",
       "      <td>2019-02-07</td>\n",
       "      <td>79</td>\n",
       "      <td>2019</td>\n",
       "      <td>2</td>\n",
       "      <td>6.0</td>\n",
       "    </tr>\n",
       "    <tr>\n",
       "      <th>3</th>\n",
       "      <td>1500</td>\n",
       "      <td>2003.0</td>\n",
       "      <td>ford f-150</td>\n",
       "      <td>fair</td>\n",
       "      <td>8.0</td>\n",
       "      <td>gas</td>\n",
       "      <td>NaN</td>\n",
       "      <td>automatic</td>\n",
       "      <td>pickup</td>\n",
       "      <td>NaN</td>\n",
       "      <td>0.0</td>\n",
       "      <td>2019-03-22</td>\n",
       "      <td>9</td>\n",
       "      <td>2019</td>\n",
       "      <td>3</td>\n",
       "      <td>16.0</td>\n",
       "    </tr>\n",
       "    <tr>\n",
       "      <th>4</th>\n",
       "      <td>14900</td>\n",
       "      <td>2017.0</td>\n",
       "      <td>chrysler 200</td>\n",
       "      <td>excellent</td>\n",
       "      <td>4.0</td>\n",
       "      <td>gas</td>\n",
       "      <td>80903.0</td>\n",
       "      <td>automatic</td>\n",
       "      <td>sedan</td>\n",
       "      <td>black</td>\n",
       "      <td>0.0</td>\n",
       "      <td>2019-04-02</td>\n",
       "      <td>28</td>\n",
       "      <td>2019</td>\n",
       "      <td>4</td>\n",
       "      <td>2.0</td>\n",
       "    </tr>\n",
       "    <tr>\n",
       "      <th>5</th>\n",
       "      <td>14990</td>\n",
       "      <td>2014.0</td>\n",
       "      <td>chrysler 300</td>\n",
       "      <td>excellent</td>\n",
       "      <td>6.0</td>\n",
       "      <td>gas</td>\n",
       "      <td>57954.0</td>\n",
       "      <td>automatic</td>\n",
       "      <td>sedan</td>\n",
       "      <td>black</td>\n",
       "      <td>1.0</td>\n",
       "      <td>2018-06-20</td>\n",
       "      <td>15</td>\n",
       "      <td>2018</td>\n",
       "      <td>6</td>\n",
       "      <td>4.0</td>\n",
       "    </tr>\n",
       "    <tr>\n",
       "      <th>6</th>\n",
       "      <td>12990</td>\n",
       "      <td>2015.0</td>\n",
       "      <td>toyota camry</td>\n",
       "      <td>excellent</td>\n",
       "      <td>4.0</td>\n",
       "      <td>gas</td>\n",
       "      <td>79212.0</td>\n",
       "      <td>automatic</td>\n",
       "      <td>sedan</td>\n",
       "      <td>white</td>\n",
       "      <td>0.0</td>\n",
       "      <td>2018-12-27</td>\n",
       "      <td>73</td>\n",
       "      <td>2018</td>\n",
       "      <td>12</td>\n",
       "      <td>3.0</td>\n",
       "    </tr>\n",
       "    <tr>\n",
       "      <th>7</th>\n",
       "      <td>15990</td>\n",
       "      <td>2013.0</td>\n",
       "      <td>honda pilot</td>\n",
       "      <td>excellent</td>\n",
       "      <td>6.0</td>\n",
       "      <td>gas</td>\n",
       "      <td>109473.0</td>\n",
       "      <td>automatic</td>\n",
       "      <td>SUV</td>\n",
       "      <td>black</td>\n",
       "      <td>1.0</td>\n",
       "      <td>2019-01-07</td>\n",
       "      <td>68</td>\n",
       "      <td>2019</td>\n",
       "      <td>1</td>\n",
       "      <td>6.0</td>\n",
       "    </tr>\n",
       "    <tr>\n",
       "      <th>8</th>\n",
       "      <td>11500</td>\n",
       "      <td>2012.0</td>\n",
       "      <td>kia sorento</td>\n",
       "      <td>excellent</td>\n",
       "      <td>4.0</td>\n",
       "      <td>gas</td>\n",
       "      <td>104174.0</td>\n",
       "      <td>automatic</td>\n",
       "      <td>SUV</td>\n",
       "      <td>NaN</td>\n",
       "      <td>1.0</td>\n",
       "      <td>2018-07-16</td>\n",
       "      <td>19</td>\n",
       "      <td>2018</td>\n",
       "      <td>7</td>\n",
       "      <td>6.0</td>\n",
       "    </tr>\n",
       "    <tr>\n",
       "      <th>9</th>\n",
       "      <td>9200</td>\n",
       "      <td>2008.0</td>\n",
       "      <td>honda pilot</td>\n",
       "      <td>excellent</td>\n",
       "      <td>6.0</td>\n",
       "      <td>gas</td>\n",
       "      <td>147191.0</td>\n",
       "      <td>automatic</td>\n",
       "      <td>SUV</td>\n",
       "      <td>blue</td>\n",
       "      <td>1.0</td>\n",
       "      <td>2019-02-15</td>\n",
       "      <td>17</td>\n",
       "      <td>2019</td>\n",
       "      <td>2</td>\n",
       "      <td>11.0</td>\n",
       "    </tr>\n",
       "  </tbody>\n",
       "</table>\n",
       "</div>"
      ],
      "text/plain": [
       "   price  model_year           model  condition  cylinders fuel  odometer  \\\n",
       "0   9400      2011.0          bmw x5       good        6.0  gas  145000.0   \n",
       "1  25500      2011.0      ford f-150       good        6.0  gas   88705.0   \n",
       "2   5500      2013.0  hyundai sonata   like new        4.0  gas  110000.0   \n",
       "3   1500      2003.0      ford f-150       fair        8.0  gas       NaN   \n",
       "4  14900      2017.0    chrysler 200  excellent        4.0  gas   80903.0   \n",
       "5  14990      2014.0    chrysler 300  excellent        6.0  gas   57954.0   \n",
       "6  12990      2015.0    toyota camry  excellent        4.0  gas   79212.0   \n",
       "7  15990      2013.0     honda pilot  excellent        6.0  gas  109473.0   \n",
       "8  11500      2012.0     kia sorento  excellent        4.0  gas  104174.0   \n",
       "9   9200      2008.0     honda pilot  excellent        6.0  gas  147191.0   \n",
       "\n",
       "  transmission    type paint_color  is_4wd date_posted  days_listed  yyyy  mm  \\\n",
       "0    automatic     SUV         NaN     1.0  2018-06-23           19  2018   6   \n",
       "1    automatic  pickup       white     1.0  2018-10-19           50  2018  10   \n",
       "2    automatic   sedan         red     0.0  2019-02-07           79  2019   2   \n",
       "3    automatic  pickup         NaN     0.0  2019-03-22            9  2019   3   \n",
       "4    automatic   sedan       black     0.0  2019-04-02           28  2019   4   \n",
       "5    automatic   sedan       black     1.0  2018-06-20           15  2018   6   \n",
       "6    automatic   sedan       white     0.0  2018-12-27           73  2018  12   \n",
       "7    automatic     SUV       black     1.0  2019-01-07           68  2019   1   \n",
       "8    automatic     SUV         NaN     1.0  2018-07-16           19  2018   7   \n",
       "9    automatic     SUV        blue     1.0  2019-02-15           17  2019   2   \n",
       "\n",
       "    age  \n",
       "0   7.0  \n",
       "1   7.0  \n",
       "2   6.0  \n",
       "3  16.0  \n",
       "4   2.0  \n",
       "5   4.0  \n",
       "6   3.0  \n",
       "7   6.0  \n",
       "8   6.0  \n",
       "9  11.0  "
      ]
     },
     "execution_count": 14,
     "metadata": {},
     "output_type": "execute_result"
    }
   ],
   "source": [
    "# Add the vehicle's age when the ad was placed\n",
    "df['age'] = df['yyyy']-df['model_year']\n",
    "df.head(10)"
   ]
  },
  {
   "cell_type": "code",
   "execution_count": 15,
   "metadata": {},
   "outputs": [],
   "source": [
    "# Add the vehicle's average mileage per year\n",
    "df['odometer'] = df['odometer'].fillna(0)\n",
    "df['age'] = df['age'].fillna(0)\n",
    "def average_mileage(row):\n",
    "    odometer = row.odometer\n",
    "    age = row.age\n",
    "    if odometer != 0 and age != 0:\n",
    "        return odometer/age\n",
    "    return 0"
   ]
  },
  {
   "cell_type": "code",
   "execution_count": 16,
   "metadata": {},
   "outputs": [
    {
     "name": "stdout",
     "output_type": "stream",
     "text": [
      "20714.285714285714\n"
     ]
    }
   ],
   "source": [
    "# Test if the function works\n",
    "row = df.iloc[0,:]\n",
    "print(average_mileage(row)) "
   ]
  },
  {
   "cell_type": "code",
   "execution_count": 17,
   "metadata": {},
   "outputs": [
    {
     "data": {
      "text/plain": [
       "(0, 17)"
      ]
     },
     "execution_count": 17,
     "metadata": {},
     "output_type": "execute_result"
    }
   ],
   "source": [
    "# Creating new column based on function\n",
    "# Apply function to the average_mileage\n",
    "df['average_mileage'] = df.apply(average_mileage, axis = 1)\n",
    "df[df['average_mileage'].isna()].shape"
   ]
  },
  {
   "cell_type": "code",
   "execution_count": 18,
   "metadata": {},
   "outputs": [
    {
     "data": {
      "text/html": [
       "<div>\n",
       "<style scoped>\n",
       "    .dataframe tbody tr th:only-of-type {\n",
       "        vertical-align: middle;\n",
       "    }\n",
       "\n",
       "    .dataframe tbody tr th {\n",
       "        vertical-align: top;\n",
       "    }\n",
       "\n",
       "    .dataframe thead th {\n",
       "        text-align: right;\n",
       "    }\n",
       "</style>\n",
       "<table border=\"1\" class=\"dataframe\">\n",
       "  <thead>\n",
       "    <tr style=\"text-align: right;\">\n",
       "      <th></th>\n",
       "      <th>price</th>\n",
       "      <th>model_year</th>\n",
       "      <th>model</th>\n",
       "      <th>condition</th>\n",
       "      <th>cylinders</th>\n",
       "      <th>fuel</th>\n",
       "      <th>odometer</th>\n",
       "      <th>transmission</th>\n",
       "      <th>type</th>\n",
       "      <th>paint_color</th>\n",
       "      <th>is_4wd</th>\n",
       "      <th>date_posted</th>\n",
       "      <th>days_listed</th>\n",
       "      <th>yyyy</th>\n",
       "      <th>mm</th>\n",
       "      <th>age</th>\n",
       "      <th>average_mileage</th>\n",
       "    </tr>\n",
       "  </thead>\n",
       "  <tbody>\n",
       "    <tr>\n",
       "      <th>0</th>\n",
       "      <td>9400</td>\n",
       "      <td>2011.0</td>\n",
       "      <td>bmw x5</td>\n",
       "      <td>good</td>\n",
       "      <td>6.0</td>\n",
       "      <td>gas</td>\n",
       "      <td>145000.0</td>\n",
       "      <td>automatic</td>\n",
       "      <td>SUV</td>\n",
       "      <td>NaN</td>\n",
       "      <td>1.0</td>\n",
       "      <td>2018-06-23</td>\n",
       "      <td>19</td>\n",
       "      <td>2018</td>\n",
       "      <td>6</td>\n",
       "      <td>7.0</td>\n",
       "      <td>20714.285714</td>\n",
       "    </tr>\n",
       "    <tr>\n",
       "      <th>1</th>\n",
       "      <td>25500</td>\n",
       "      <td>2011.0</td>\n",
       "      <td>ford f-150</td>\n",
       "      <td>good</td>\n",
       "      <td>6.0</td>\n",
       "      <td>gas</td>\n",
       "      <td>88705.0</td>\n",
       "      <td>automatic</td>\n",
       "      <td>pickup</td>\n",
       "      <td>white</td>\n",
       "      <td>1.0</td>\n",
       "      <td>2018-10-19</td>\n",
       "      <td>50</td>\n",
       "      <td>2018</td>\n",
       "      <td>10</td>\n",
       "      <td>7.0</td>\n",
       "      <td>12672.142857</td>\n",
       "    </tr>\n",
       "    <tr>\n",
       "      <th>2</th>\n",
       "      <td>5500</td>\n",
       "      <td>2013.0</td>\n",
       "      <td>hyundai sonata</td>\n",
       "      <td>like new</td>\n",
       "      <td>4.0</td>\n",
       "      <td>gas</td>\n",
       "      <td>110000.0</td>\n",
       "      <td>automatic</td>\n",
       "      <td>sedan</td>\n",
       "      <td>red</td>\n",
       "      <td>0.0</td>\n",
       "      <td>2019-02-07</td>\n",
       "      <td>79</td>\n",
       "      <td>2019</td>\n",
       "      <td>2</td>\n",
       "      <td>6.0</td>\n",
       "      <td>18333.333333</td>\n",
       "    </tr>\n",
       "    <tr>\n",
       "      <th>3</th>\n",
       "      <td>1500</td>\n",
       "      <td>2003.0</td>\n",
       "      <td>ford f-150</td>\n",
       "      <td>fair</td>\n",
       "      <td>8.0</td>\n",
       "      <td>gas</td>\n",
       "      <td>0.0</td>\n",
       "      <td>automatic</td>\n",
       "      <td>pickup</td>\n",
       "      <td>NaN</td>\n",
       "      <td>0.0</td>\n",
       "      <td>2019-03-22</td>\n",
       "      <td>9</td>\n",
       "      <td>2019</td>\n",
       "      <td>3</td>\n",
       "      <td>16.0</td>\n",
       "      <td>0.000000</td>\n",
       "    </tr>\n",
       "    <tr>\n",
       "      <th>4</th>\n",
       "      <td>14900</td>\n",
       "      <td>2017.0</td>\n",
       "      <td>chrysler 200</td>\n",
       "      <td>excellent</td>\n",
       "      <td>4.0</td>\n",
       "      <td>gas</td>\n",
       "      <td>80903.0</td>\n",
       "      <td>automatic</td>\n",
       "      <td>sedan</td>\n",
       "      <td>black</td>\n",
       "      <td>0.0</td>\n",
       "      <td>2019-04-02</td>\n",
       "      <td>28</td>\n",
       "      <td>2019</td>\n",
       "      <td>4</td>\n",
       "      <td>2.0</td>\n",
       "      <td>40451.500000</td>\n",
       "    </tr>\n",
       "    <tr>\n",
       "      <th>5</th>\n",
       "      <td>14990</td>\n",
       "      <td>2014.0</td>\n",
       "      <td>chrysler 300</td>\n",
       "      <td>excellent</td>\n",
       "      <td>6.0</td>\n",
       "      <td>gas</td>\n",
       "      <td>57954.0</td>\n",
       "      <td>automatic</td>\n",
       "      <td>sedan</td>\n",
       "      <td>black</td>\n",
       "      <td>1.0</td>\n",
       "      <td>2018-06-20</td>\n",
       "      <td>15</td>\n",
       "      <td>2018</td>\n",
       "      <td>6</td>\n",
       "      <td>4.0</td>\n",
       "      <td>14488.500000</td>\n",
       "    </tr>\n",
       "    <tr>\n",
       "      <th>6</th>\n",
       "      <td>12990</td>\n",
       "      <td>2015.0</td>\n",
       "      <td>toyota camry</td>\n",
       "      <td>excellent</td>\n",
       "      <td>4.0</td>\n",
       "      <td>gas</td>\n",
       "      <td>79212.0</td>\n",
       "      <td>automatic</td>\n",
       "      <td>sedan</td>\n",
       "      <td>white</td>\n",
       "      <td>0.0</td>\n",
       "      <td>2018-12-27</td>\n",
       "      <td>73</td>\n",
       "      <td>2018</td>\n",
       "      <td>12</td>\n",
       "      <td>3.0</td>\n",
       "      <td>26404.000000</td>\n",
       "    </tr>\n",
       "    <tr>\n",
       "      <th>7</th>\n",
       "      <td>15990</td>\n",
       "      <td>2013.0</td>\n",
       "      <td>honda pilot</td>\n",
       "      <td>excellent</td>\n",
       "      <td>6.0</td>\n",
       "      <td>gas</td>\n",
       "      <td>109473.0</td>\n",
       "      <td>automatic</td>\n",
       "      <td>SUV</td>\n",
       "      <td>black</td>\n",
       "      <td>1.0</td>\n",
       "      <td>2019-01-07</td>\n",
       "      <td>68</td>\n",
       "      <td>2019</td>\n",
       "      <td>1</td>\n",
       "      <td>6.0</td>\n",
       "      <td>18245.500000</td>\n",
       "    </tr>\n",
       "    <tr>\n",
       "      <th>8</th>\n",
       "      <td>11500</td>\n",
       "      <td>2012.0</td>\n",
       "      <td>kia sorento</td>\n",
       "      <td>excellent</td>\n",
       "      <td>4.0</td>\n",
       "      <td>gas</td>\n",
       "      <td>104174.0</td>\n",
       "      <td>automatic</td>\n",
       "      <td>SUV</td>\n",
       "      <td>NaN</td>\n",
       "      <td>1.0</td>\n",
       "      <td>2018-07-16</td>\n",
       "      <td>19</td>\n",
       "      <td>2018</td>\n",
       "      <td>7</td>\n",
       "      <td>6.0</td>\n",
       "      <td>17362.333333</td>\n",
       "    </tr>\n",
       "    <tr>\n",
       "      <th>9</th>\n",
       "      <td>9200</td>\n",
       "      <td>2008.0</td>\n",
       "      <td>honda pilot</td>\n",
       "      <td>excellent</td>\n",
       "      <td>6.0</td>\n",
       "      <td>gas</td>\n",
       "      <td>147191.0</td>\n",
       "      <td>automatic</td>\n",
       "      <td>SUV</td>\n",
       "      <td>blue</td>\n",
       "      <td>1.0</td>\n",
       "      <td>2019-02-15</td>\n",
       "      <td>17</td>\n",
       "      <td>2019</td>\n",
       "      <td>2</td>\n",
       "      <td>11.0</td>\n",
       "      <td>13381.000000</td>\n",
       "    </tr>\n",
       "  </tbody>\n",
       "</table>\n",
       "</div>"
      ],
      "text/plain": [
       "   price  model_year           model  condition  cylinders fuel  odometer  \\\n",
       "0   9400      2011.0          bmw x5       good        6.0  gas  145000.0   \n",
       "1  25500      2011.0      ford f-150       good        6.0  gas   88705.0   \n",
       "2   5500      2013.0  hyundai sonata   like new        4.0  gas  110000.0   \n",
       "3   1500      2003.0      ford f-150       fair        8.0  gas       0.0   \n",
       "4  14900      2017.0    chrysler 200  excellent        4.0  gas   80903.0   \n",
       "5  14990      2014.0    chrysler 300  excellent        6.0  gas   57954.0   \n",
       "6  12990      2015.0    toyota camry  excellent        4.0  gas   79212.0   \n",
       "7  15990      2013.0     honda pilot  excellent        6.0  gas  109473.0   \n",
       "8  11500      2012.0     kia sorento  excellent        4.0  gas  104174.0   \n",
       "9   9200      2008.0     honda pilot  excellent        6.0  gas  147191.0   \n",
       "\n",
       "  transmission    type paint_color  is_4wd date_posted  days_listed  yyyy  mm  \\\n",
       "0    automatic     SUV         NaN     1.0  2018-06-23           19  2018   6   \n",
       "1    automatic  pickup       white     1.0  2018-10-19           50  2018  10   \n",
       "2    automatic   sedan         red     0.0  2019-02-07           79  2019   2   \n",
       "3    automatic  pickup         NaN     0.0  2019-03-22            9  2019   3   \n",
       "4    automatic   sedan       black     0.0  2019-04-02           28  2019   4   \n",
       "5    automatic   sedan       black     1.0  2018-06-20           15  2018   6   \n",
       "6    automatic   sedan       white     0.0  2018-12-27           73  2018  12   \n",
       "7    automatic     SUV       black     1.0  2019-01-07           68  2019   1   \n",
       "8    automatic     SUV         NaN     1.0  2018-07-16           19  2018   7   \n",
       "9    automatic     SUV        blue     1.0  2019-02-15           17  2019   2   \n",
       "\n",
       "    age  average_mileage  \n",
       "0   7.0     20714.285714  \n",
       "1   7.0     12672.142857  \n",
       "2   6.0     18333.333333  \n",
       "3  16.0         0.000000  \n",
       "4   2.0     40451.500000  \n",
       "5   4.0     14488.500000  \n",
       "6   3.0     26404.000000  \n",
       "7   6.0     18245.500000  \n",
       "8   6.0     17362.333333  \n",
       "9  11.0     13381.000000  "
      ]
     },
     "execution_count": 18,
     "metadata": {},
     "output_type": "execute_result"
    }
   ],
   "source": [
    "df.head(10)"
   ]
  },
  {
   "cell_type": "code",
   "execution_count": 19,
   "metadata": {},
   "outputs": [],
   "source": [
    "# It might help to replace the condition values with something that can be manipulated more easily\n",
    "df['average_mileage'] = df['average_mileage'].astype(int)\n",
    "df['price'] = df['price'].astype(int)"
   ]
  },
  {
   "cell_type": "code",
   "execution_count": 20,
   "metadata": {
    "scrolled": true
   },
   "outputs": [
    {
     "data": {
      "text/plain": [
       "array(['good', 'like new', 'fair', 'excellent', 'salvage', 'new'],\n",
       "      dtype=object)"
      ]
     },
     "execution_count": 20,
     "metadata": {},
     "output_type": "execute_result"
    }
   ],
   "source": [
    "# In the condition column, replace string values with a numeric scale\n",
    "df['condition'].unique()"
   ]
  },
  {
   "cell_type": "code",
   "execution_count": 21,
   "metadata": {},
   "outputs": [
    {
     "data": {
      "text/html": [
       "<div>\n",
       "<style scoped>\n",
       "    .dataframe tbody tr th:only-of-type {\n",
       "        vertical-align: middle;\n",
       "    }\n",
       "\n",
       "    .dataframe tbody tr th {\n",
       "        vertical-align: top;\n",
       "    }\n",
       "\n",
       "    .dataframe thead th {\n",
       "        text-align: right;\n",
       "    }\n",
       "</style>\n",
       "<table border=\"1\" class=\"dataframe\">\n",
       "  <thead>\n",
       "    <tr style=\"text-align: right;\">\n",
       "      <th></th>\n",
       "      <th>price</th>\n",
       "      <th>model_year</th>\n",
       "      <th>model</th>\n",
       "      <th>condition</th>\n",
       "      <th>cylinders</th>\n",
       "      <th>fuel</th>\n",
       "      <th>odometer</th>\n",
       "      <th>transmission</th>\n",
       "      <th>type</th>\n",
       "      <th>paint_color</th>\n",
       "      <th>is_4wd</th>\n",
       "      <th>date_posted</th>\n",
       "      <th>days_listed</th>\n",
       "      <th>yyyy</th>\n",
       "      <th>mm</th>\n",
       "      <th>age</th>\n",
       "      <th>average_mileage</th>\n",
       "    </tr>\n",
       "  </thead>\n",
       "  <tbody>\n",
       "    <tr>\n",
       "      <th>0</th>\n",
       "      <td>9400</td>\n",
       "      <td>2011.0</td>\n",
       "      <td>bmw x5</td>\n",
       "      <td>2</td>\n",
       "      <td>6.0</td>\n",
       "      <td>gas</td>\n",
       "      <td>145000.0</td>\n",
       "      <td>automatic</td>\n",
       "      <td>SUV</td>\n",
       "      <td>NaN</td>\n",
       "      <td>1.0</td>\n",
       "      <td>2018-06-23</td>\n",
       "      <td>19</td>\n",
       "      <td>2018</td>\n",
       "      <td>6</td>\n",
       "      <td>7.0</td>\n",
       "      <td>20714</td>\n",
       "    </tr>\n",
       "    <tr>\n",
       "      <th>1</th>\n",
       "      <td>25500</td>\n",
       "      <td>2011.0</td>\n",
       "      <td>ford f-150</td>\n",
       "      <td>2</td>\n",
       "      <td>6.0</td>\n",
       "      <td>gas</td>\n",
       "      <td>88705.0</td>\n",
       "      <td>automatic</td>\n",
       "      <td>pickup</td>\n",
       "      <td>white</td>\n",
       "      <td>1.0</td>\n",
       "      <td>2018-10-19</td>\n",
       "      <td>50</td>\n",
       "      <td>2018</td>\n",
       "      <td>10</td>\n",
       "      <td>7.0</td>\n",
       "      <td>12672</td>\n",
       "    </tr>\n",
       "    <tr>\n",
       "      <th>2</th>\n",
       "      <td>5500</td>\n",
       "      <td>2013.0</td>\n",
       "      <td>hyundai sonata</td>\n",
       "      <td>4</td>\n",
       "      <td>4.0</td>\n",
       "      <td>gas</td>\n",
       "      <td>110000.0</td>\n",
       "      <td>automatic</td>\n",
       "      <td>sedan</td>\n",
       "      <td>red</td>\n",
       "      <td>0.0</td>\n",
       "      <td>2019-02-07</td>\n",
       "      <td>79</td>\n",
       "      <td>2019</td>\n",
       "      <td>2</td>\n",
       "      <td>6.0</td>\n",
       "      <td>18333</td>\n",
       "    </tr>\n",
       "    <tr>\n",
       "      <th>3</th>\n",
       "      <td>1500</td>\n",
       "      <td>2003.0</td>\n",
       "      <td>ford f-150</td>\n",
       "      <td>1</td>\n",
       "      <td>8.0</td>\n",
       "      <td>gas</td>\n",
       "      <td>0.0</td>\n",
       "      <td>automatic</td>\n",
       "      <td>pickup</td>\n",
       "      <td>NaN</td>\n",
       "      <td>0.0</td>\n",
       "      <td>2019-03-22</td>\n",
       "      <td>9</td>\n",
       "      <td>2019</td>\n",
       "      <td>3</td>\n",
       "      <td>16.0</td>\n",
       "      <td>0</td>\n",
       "    </tr>\n",
       "    <tr>\n",
       "      <th>4</th>\n",
       "      <td>14900</td>\n",
       "      <td>2017.0</td>\n",
       "      <td>chrysler 200</td>\n",
       "      <td>3</td>\n",
       "      <td>4.0</td>\n",
       "      <td>gas</td>\n",
       "      <td>80903.0</td>\n",
       "      <td>automatic</td>\n",
       "      <td>sedan</td>\n",
       "      <td>black</td>\n",
       "      <td>0.0</td>\n",
       "      <td>2019-04-02</td>\n",
       "      <td>28</td>\n",
       "      <td>2019</td>\n",
       "      <td>4</td>\n",
       "      <td>2.0</td>\n",
       "      <td>40451</td>\n",
       "    </tr>\n",
       "    <tr>\n",
       "      <th>5</th>\n",
       "      <td>14990</td>\n",
       "      <td>2014.0</td>\n",
       "      <td>chrysler 300</td>\n",
       "      <td>3</td>\n",
       "      <td>6.0</td>\n",
       "      <td>gas</td>\n",
       "      <td>57954.0</td>\n",
       "      <td>automatic</td>\n",
       "      <td>sedan</td>\n",
       "      <td>black</td>\n",
       "      <td>1.0</td>\n",
       "      <td>2018-06-20</td>\n",
       "      <td>15</td>\n",
       "      <td>2018</td>\n",
       "      <td>6</td>\n",
       "      <td>4.0</td>\n",
       "      <td>14488</td>\n",
       "    </tr>\n",
       "    <tr>\n",
       "      <th>6</th>\n",
       "      <td>12990</td>\n",
       "      <td>2015.0</td>\n",
       "      <td>toyota camry</td>\n",
       "      <td>3</td>\n",
       "      <td>4.0</td>\n",
       "      <td>gas</td>\n",
       "      <td>79212.0</td>\n",
       "      <td>automatic</td>\n",
       "      <td>sedan</td>\n",
       "      <td>white</td>\n",
       "      <td>0.0</td>\n",
       "      <td>2018-12-27</td>\n",
       "      <td>73</td>\n",
       "      <td>2018</td>\n",
       "      <td>12</td>\n",
       "      <td>3.0</td>\n",
       "      <td>26404</td>\n",
       "    </tr>\n",
       "    <tr>\n",
       "      <th>7</th>\n",
       "      <td>15990</td>\n",
       "      <td>2013.0</td>\n",
       "      <td>honda pilot</td>\n",
       "      <td>3</td>\n",
       "      <td>6.0</td>\n",
       "      <td>gas</td>\n",
       "      <td>109473.0</td>\n",
       "      <td>automatic</td>\n",
       "      <td>SUV</td>\n",
       "      <td>black</td>\n",
       "      <td>1.0</td>\n",
       "      <td>2019-01-07</td>\n",
       "      <td>68</td>\n",
       "      <td>2019</td>\n",
       "      <td>1</td>\n",
       "      <td>6.0</td>\n",
       "      <td>18245</td>\n",
       "    </tr>\n",
       "    <tr>\n",
       "      <th>8</th>\n",
       "      <td>11500</td>\n",
       "      <td>2012.0</td>\n",
       "      <td>kia sorento</td>\n",
       "      <td>3</td>\n",
       "      <td>4.0</td>\n",
       "      <td>gas</td>\n",
       "      <td>104174.0</td>\n",
       "      <td>automatic</td>\n",
       "      <td>SUV</td>\n",
       "      <td>NaN</td>\n",
       "      <td>1.0</td>\n",
       "      <td>2018-07-16</td>\n",
       "      <td>19</td>\n",
       "      <td>2018</td>\n",
       "      <td>7</td>\n",
       "      <td>6.0</td>\n",
       "      <td>17362</td>\n",
       "    </tr>\n",
       "    <tr>\n",
       "      <th>9</th>\n",
       "      <td>9200</td>\n",
       "      <td>2008.0</td>\n",
       "      <td>honda pilot</td>\n",
       "      <td>3</td>\n",
       "      <td>6.0</td>\n",
       "      <td>gas</td>\n",
       "      <td>147191.0</td>\n",
       "      <td>automatic</td>\n",
       "      <td>SUV</td>\n",
       "      <td>blue</td>\n",
       "      <td>1.0</td>\n",
       "      <td>2019-02-15</td>\n",
       "      <td>17</td>\n",
       "      <td>2019</td>\n",
       "      <td>2</td>\n",
       "      <td>11.0</td>\n",
       "      <td>13381</td>\n",
       "    </tr>\n",
       "  </tbody>\n",
       "</table>\n",
       "</div>"
      ],
      "text/plain": [
       "   price  model_year           model  condition  cylinders fuel  odometer  \\\n",
       "0   9400      2011.0          bmw x5          2        6.0  gas  145000.0   \n",
       "1  25500      2011.0      ford f-150          2        6.0  gas   88705.0   \n",
       "2   5500      2013.0  hyundai sonata          4        4.0  gas  110000.0   \n",
       "3   1500      2003.0      ford f-150          1        8.0  gas       0.0   \n",
       "4  14900      2017.0    chrysler 200          3        4.0  gas   80903.0   \n",
       "5  14990      2014.0    chrysler 300          3        6.0  gas   57954.0   \n",
       "6  12990      2015.0    toyota camry          3        4.0  gas   79212.0   \n",
       "7  15990      2013.0     honda pilot          3        6.0  gas  109473.0   \n",
       "8  11500      2012.0     kia sorento          3        4.0  gas  104174.0   \n",
       "9   9200      2008.0     honda pilot          3        6.0  gas  147191.0   \n",
       "\n",
       "  transmission    type paint_color  is_4wd date_posted  days_listed  yyyy  mm  \\\n",
       "0    automatic     SUV         NaN     1.0  2018-06-23           19  2018   6   \n",
       "1    automatic  pickup       white     1.0  2018-10-19           50  2018  10   \n",
       "2    automatic   sedan         red     0.0  2019-02-07           79  2019   2   \n",
       "3    automatic  pickup         NaN     0.0  2019-03-22            9  2019   3   \n",
       "4    automatic   sedan       black     0.0  2019-04-02           28  2019   4   \n",
       "5    automatic   sedan       black     1.0  2018-06-20           15  2018   6   \n",
       "6    automatic   sedan       white     0.0  2018-12-27           73  2018  12   \n",
       "7    automatic     SUV       black     1.0  2019-01-07           68  2019   1   \n",
       "8    automatic     SUV         NaN     1.0  2018-07-16           19  2018   7   \n",
       "9    automatic     SUV        blue     1.0  2019-02-15           17  2019   2   \n",
       "\n",
       "    age  average_mileage  \n",
       "0   7.0            20714  \n",
       "1   7.0            12672  \n",
       "2   6.0            18333  \n",
       "3  16.0                0  \n",
       "4   2.0            40451  \n",
       "5   4.0            14488  \n",
       "6   3.0            26404  \n",
       "7   6.0            18245  \n",
       "8   6.0            17362  \n",
       "9  11.0            13381  "
      ]
     },
     "execution_count": 21,
     "metadata": {},
     "output_type": "execute_result"
    }
   ],
   "source": [
    "# Let's replace: new = 5 like new =  4 excellent = 3 good = 2 fair = 1 salvage = 0\n",
    "df = df.replace({'condition':{'new':5, 'like new':4, 'excellent':3, 'good':2, 'fair':1, 'salvage':0}})\n",
    "df.head(10)"
   ]
  },
  {
   "cell_type": "markdown",
   "metadata": {},
   "source": [
    "## Check clean data"
   ]
  },
  {
   "cell_type": "code",
   "execution_count": 22,
   "metadata": {},
   "outputs": [
    {
     "name": "stdout",
     "output_type": "stream",
     "text": [
      "<class 'pandas.core.frame.DataFrame'>\n",
      "RangeIndex: 51525 entries, 0 to 51524\n",
      "Data columns (total 17 columns):\n",
      " #   Column           Non-Null Count  Dtype         \n",
      "---  ------           --------------  -----         \n",
      " 0   price            51525 non-null  int32         \n",
      " 1   model_year       51525 non-null  float64       \n",
      " 2   model            51525 non-null  object        \n",
      " 3   condition        51525 non-null  int64         \n",
      " 4   cylinders        51525 non-null  float64       \n",
      " 5   fuel             51525 non-null  object        \n",
      " 6   odometer         51525 non-null  float64       \n",
      " 7   transmission     51525 non-null  object        \n",
      " 8   type             51525 non-null  object        \n",
      " 9   paint_color      42258 non-null  object        \n",
      " 10  is_4wd           51525 non-null  float64       \n",
      " 11  date_posted      51525 non-null  datetime64[ns]\n",
      " 12  days_listed      51525 non-null  int64         \n",
      " 13  yyyy             51525 non-null  int64         \n",
      " 14  mm               51525 non-null  int64         \n",
      " 15  age              51525 non-null  float64       \n",
      " 16  average_mileage  51525 non-null  int32         \n",
      "dtypes: datetime64[ns](1), float64(5), int32(2), int64(4), object(5)\n",
      "memory usage: 6.3+ MB\n"
     ]
    }
   ],
   "source": [
    "# print the general/summary information about the DataFrame\n",
    "df.info()\n"
   ]
  },
  {
   "cell_type": "code",
   "execution_count": 23,
   "metadata": {},
   "outputs": [
    {
     "data": {
      "text/html": [
       "<div>\n",
       "<style scoped>\n",
       "    .dataframe tbody tr th:only-of-type {\n",
       "        vertical-align: middle;\n",
       "    }\n",
       "\n",
       "    .dataframe tbody tr th {\n",
       "        vertical-align: top;\n",
       "    }\n",
       "\n",
       "    .dataframe thead th {\n",
       "        text-align: right;\n",
       "    }\n",
       "</style>\n",
       "<table border=\"1\" class=\"dataframe\">\n",
       "  <thead>\n",
       "    <tr style=\"text-align: right;\">\n",
       "      <th></th>\n",
       "      <th>price</th>\n",
       "      <th>model_year</th>\n",
       "      <th>model</th>\n",
       "      <th>condition</th>\n",
       "      <th>cylinders</th>\n",
       "      <th>fuel</th>\n",
       "      <th>odometer</th>\n",
       "      <th>transmission</th>\n",
       "      <th>type</th>\n",
       "      <th>paint_color</th>\n",
       "      <th>is_4wd</th>\n",
       "      <th>date_posted</th>\n",
       "      <th>days_listed</th>\n",
       "      <th>yyyy</th>\n",
       "      <th>mm</th>\n",
       "      <th>age</th>\n",
       "      <th>average_mileage</th>\n",
       "    </tr>\n",
       "  </thead>\n",
       "  <tbody>\n",
       "    <tr>\n",
       "      <th>0</th>\n",
       "      <td>9400</td>\n",
       "      <td>2011.0</td>\n",
       "      <td>bmw x5</td>\n",
       "      <td>2</td>\n",
       "      <td>6.0</td>\n",
       "      <td>gas</td>\n",
       "      <td>145000.0</td>\n",
       "      <td>automatic</td>\n",
       "      <td>SUV</td>\n",
       "      <td>NaN</td>\n",
       "      <td>1.0</td>\n",
       "      <td>2018-06-23</td>\n",
       "      <td>19</td>\n",
       "      <td>2018</td>\n",
       "      <td>6</td>\n",
       "      <td>7.0</td>\n",
       "      <td>20714</td>\n",
       "    </tr>\n",
       "    <tr>\n",
       "      <th>1</th>\n",
       "      <td>25500</td>\n",
       "      <td>2011.0</td>\n",
       "      <td>ford f-150</td>\n",
       "      <td>2</td>\n",
       "      <td>6.0</td>\n",
       "      <td>gas</td>\n",
       "      <td>88705.0</td>\n",
       "      <td>automatic</td>\n",
       "      <td>pickup</td>\n",
       "      <td>white</td>\n",
       "      <td>1.0</td>\n",
       "      <td>2018-10-19</td>\n",
       "      <td>50</td>\n",
       "      <td>2018</td>\n",
       "      <td>10</td>\n",
       "      <td>7.0</td>\n",
       "      <td>12672</td>\n",
       "    </tr>\n",
       "    <tr>\n",
       "      <th>2</th>\n",
       "      <td>5500</td>\n",
       "      <td>2013.0</td>\n",
       "      <td>hyundai sonata</td>\n",
       "      <td>4</td>\n",
       "      <td>4.0</td>\n",
       "      <td>gas</td>\n",
       "      <td>110000.0</td>\n",
       "      <td>automatic</td>\n",
       "      <td>sedan</td>\n",
       "      <td>red</td>\n",
       "      <td>0.0</td>\n",
       "      <td>2019-02-07</td>\n",
       "      <td>79</td>\n",
       "      <td>2019</td>\n",
       "      <td>2</td>\n",
       "      <td>6.0</td>\n",
       "      <td>18333</td>\n",
       "    </tr>\n",
       "    <tr>\n",
       "      <th>3</th>\n",
       "      <td>1500</td>\n",
       "      <td>2003.0</td>\n",
       "      <td>ford f-150</td>\n",
       "      <td>1</td>\n",
       "      <td>8.0</td>\n",
       "      <td>gas</td>\n",
       "      <td>0.0</td>\n",
       "      <td>automatic</td>\n",
       "      <td>pickup</td>\n",
       "      <td>NaN</td>\n",
       "      <td>0.0</td>\n",
       "      <td>2019-03-22</td>\n",
       "      <td>9</td>\n",
       "      <td>2019</td>\n",
       "      <td>3</td>\n",
       "      <td>16.0</td>\n",
       "      <td>0</td>\n",
       "    </tr>\n",
       "    <tr>\n",
       "      <th>4</th>\n",
       "      <td>14900</td>\n",
       "      <td>2017.0</td>\n",
       "      <td>chrysler 200</td>\n",
       "      <td>3</td>\n",
       "      <td>4.0</td>\n",
       "      <td>gas</td>\n",
       "      <td>80903.0</td>\n",
       "      <td>automatic</td>\n",
       "      <td>sedan</td>\n",
       "      <td>black</td>\n",
       "      <td>0.0</td>\n",
       "      <td>2019-04-02</td>\n",
       "      <td>28</td>\n",
       "      <td>2019</td>\n",
       "      <td>4</td>\n",
       "      <td>2.0</td>\n",
       "      <td>40451</td>\n",
       "    </tr>\n",
       "    <tr>\n",
       "      <th>5</th>\n",
       "      <td>14990</td>\n",
       "      <td>2014.0</td>\n",
       "      <td>chrysler 300</td>\n",
       "      <td>3</td>\n",
       "      <td>6.0</td>\n",
       "      <td>gas</td>\n",
       "      <td>57954.0</td>\n",
       "      <td>automatic</td>\n",
       "      <td>sedan</td>\n",
       "      <td>black</td>\n",
       "      <td>1.0</td>\n",
       "      <td>2018-06-20</td>\n",
       "      <td>15</td>\n",
       "      <td>2018</td>\n",
       "      <td>6</td>\n",
       "      <td>4.0</td>\n",
       "      <td>14488</td>\n",
       "    </tr>\n",
       "    <tr>\n",
       "      <th>6</th>\n",
       "      <td>12990</td>\n",
       "      <td>2015.0</td>\n",
       "      <td>toyota camry</td>\n",
       "      <td>3</td>\n",
       "      <td>4.0</td>\n",
       "      <td>gas</td>\n",
       "      <td>79212.0</td>\n",
       "      <td>automatic</td>\n",
       "      <td>sedan</td>\n",
       "      <td>white</td>\n",
       "      <td>0.0</td>\n",
       "      <td>2018-12-27</td>\n",
       "      <td>73</td>\n",
       "      <td>2018</td>\n",
       "      <td>12</td>\n",
       "      <td>3.0</td>\n",
       "      <td>26404</td>\n",
       "    </tr>\n",
       "    <tr>\n",
       "      <th>7</th>\n",
       "      <td>15990</td>\n",
       "      <td>2013.0</td>\n",
       "      <td>honda pilot</td>\n",
       "      <td>3</td>\n",
       "      <td>6.0</td>\n",
       "      <td>gas</td>\n",
       "      <td>109473.0</td>\n",
       "      <td>automatic</td>\n",
       "      <td>SUV</td>\n",
       "      <td>black</td>\n",
       "      <td>1.0</td>\n",
       "      <td>2019-01-07</td>\n",
       "      <td>68</td>\n",
       "      <td>2019</td>\n",
       "      <td>1</td>\n",
       "      <td>6.0</td>\n",
       "      <td>18245</td>\n",
       "    </tr>\n",
       "    <tr>\n",
       "      <th>8</th>\n",
       "      <td>11500</td>\n",
       "      <td>2012.0</td>\n",
       "      <td>kia sorento</td>\n",
       "      <td>3</td>\n",
       "      <td>4.0</td>\n",
       "      <td>gas</td>\n",
       "      <td>104174.0</td>\n",
       "      <td>automatic</td>\n",
       "      <td>SUV</td>\n",
       "      <td>NaN</td>\n",
       "      <td>1.0</td>\n",
       "      <td>2018-07-16</td>\n",
       "      <td>19</td>\n",
       "      <td>2018</td>\n",
       "      <td>7</td>\n",
       "      <td>6.0</td>\n",
       "      <td>17362</td>\n",
       "    </tr>\n",
       "    <tr>\n",
       "      <th>9</th>\n",
       "      <td>9200</td>\n",
       "      <td>2008.0</td>\n",
       "      <td>honda pilot</td>\n",
       "      <td>3</td>\n",
       "      <td>6.0</td>\n",
       "      <td>gas</td>\n",
       "      <td>147191.0</td>\n",
       "      <td>automatic</td>\n",
       "      <td>SUV</td>\n",
       "      <td>blue</td>\n",
       "      <td>1.0</td>\n",
       "      <td>2019-02-15</td>\n",
       "      <td>17</td>\n",
       "      <td>2019</td>\n",
       "      <td>2</td>\n",
       "      <td>11.0</td>\n",
       "      <td>13381</td>\n",
       "    </tr>\n",
       "  </tbody>\n",
       "</table>\n",
       "</div>"
      ],
      "text/plain": [
       "   price  model_year           model  condition  cylinders fuel  odometer  \\\n",
       "0   9400      2011.0          bmw x5          2        6.0  gas  145000.0   \n",
       "1  25500      2011.0      ford f-150          2        6.0  gas   88705.0   \n",
       "2   5500      2013.0  hyundai sonata          4        4.0  gas  110000.0   \n",
       "3   1500      2003.0      ford f-150          1        8.0  gas       0.0   \n",
       "4  14900      2017.0    chrysler 200          3        4.0  gas   80903.0   \n",
       "5  14990      2014.0    chrysler 300          3        6.0  gas   57954.0   \n",
       "6  12990      2015.0    toyota camry          3        4.0  gas   79212.0   \n",
       "7  15990      2013.0     honda pilot          3        6.0  gas  109473.0   \n",
       "8  11500      2012.0     kia sorento          3        4.0  gas  104174.0   \n",
       "9   9200      2008.0     honda pilot          3        6.0  gas  147191.0   \n",
       "\n",
       "  transmission    type paint_color  is_4wd date_posted  days_listed  yyyy  mm  \\\n",
       "0    automatic     SUV         NaN     1.0  2018-06-23           19  2018   6   \n",
       "1    automatic  pickup       white     1.0  2018-10-19           50  2018  10   \n",
       "2    automatic   sedan         red     0.0  2019-02-07           79  2019   2   \n",
       "3    automatic  pickup         NaN     0.0  2019-03-22            9  2019   3   \n",
       "4    automatic   sedan       black     0.0  2019-04-02           28  2019   4   \n",
       "5    automatic   sedan       black     1.0  2018-06-20           15  2018   6   \n",
       "6    automatic   sedan       white     0.0  2018-12-27           73  2018  12   \n",
       "7    automatic     SUV       black     1.0  2019-01-07           68  2019   1   \n",
       "8    automatic     SUV         NaN     1.0  2018-07-16           19  2018   7   \n",
       "9    automatic     SUV        blue     1.0  2019-02-15           17  2019   2   \n",
       "\n",
       "    age  average_mileage  \n",
       "0   7.0            20714  \n",
       "1   7.0            12672  \n",
       "2   6.0            18333  \n",
       "3  16.0                0  \n",
       "4   2.0            40451  \n",
       "5   4.0            14488  \n",
       "6   3.0            26404  \n",
       "7   6.0            18245  \n",
       "8   6.0            17362  \n",
       "9  11.0            13381  "
      ]
     },
     "execution_count": 23,
     "metadata": {},
     "output_type": "execute_result"
    }
   ],
   "source": [
    "# print a sample of data\n",
    "df.head(10)\n"
   ]
  },
  {
   "cell_type": "markdown",
   "metadata": {},
   "source": [
    "## Study core parameters\n",
    "\n",
    "Let's check the following parametres for outliers which can make the analysis more difficult.\n",
    "The parameters are:\n",
    "- Price\n",
    "- The vehicle's age when the ad was placed\n",
    "- Mileage\n",
    "- Number of cylinders\n",
    "- Condition"
   ]
  },
  {
   "cell_type": "code",
   "execution_count": 25,
   "metadata": {
    "scrolled": true
   },
   "outputs": [
    {
     "data": {
      "image/png": "[encoded data removed]",
      "text/plain": [
       "<Figure size 432x288 with 1 Axes>"
      ]
     },
     "metadata": {
      "needs_background": "light"
     },
     "output_type": "display_data"
    }
   ],
   "source": [
    "df.hist('price', bins=100, range=(0, 35000))\n",
    "plt.show()"
   ]
  },
  {
   "cell_type": "code",
   "execution_count": 25,
   "metadata": {},
   "outputs": [
    {
     "data": {
      "text/plain": [
       "count     51525.000000\n",
       "mean      12132.464920\n",
       "std       10040.803015\n",
       "min           1.000000\n",
       "25%        5000.000000\n",
       "50%        9000.000000\n",
       "75%       16839.000000\n",
       "max      375000.000000\n",
       "Name: price, dtype: float64"
      ]
     },
     "execution_count": 25,
     "metadata": {},
     "output_type": "execute_result"
    },
    {
     "data": {
      "image/png": "[encoded data removed]",
      "text/plain": [
       "<Figure size 432x288 with 1 Axes>"
      ]
     },
     "metadata": {
      "needs_background": "light"
     },
     "output_type": "display_data"
    }
   ],
   "source": [
    "df.boxplot(column=['price'])\n",
    "df['price'].describe()"
   ]
  },
  {
   "cell_type": "markdown",
   "metadata": {},
   "source": [
    "It looks like there are outliers in price data. High maximum value compared to the mean. High value of standard diviation.\n",
    "On the other side, minimum value is 1 which seems to be impossible price.\n",
    "Box plot also shows ouliers - 300 and more than 350 thousand."
   ]
  },
  {
   "cell_type": "code",
   "execution_count": 26,
   "metadata": {},
   "outputs": [
    {
     "data": {
      "image/png": "[encoded data removed]",
      "text/plain": [
       "<Figure size 432x288 with 1 Axes>"
      ]
     },
     "metadata": {
      "needs_background": "light"
     },
     "output_type": "display_data"
    }
   ],
   "source": [
    "df.hist('age', bins=100, range=(0, 100))\n",
    "plt.show()"
   ]
  },
  {
   "cell_type": "code",
   "execution_count": 27,
   "metadata": {},
   "outputs": [
    {
     "data": {
      "text/plain": [
       "count    51525.000000\n",
       "mean         8.513508\n",
       "std          6.112895\n",
       "min          0.000000\n",
       "25%          4.000000\n",
       "50%          7.500000\n",
       "75%         12.000000\n",
       "max        110.000000\n",
       "Name: age, dtype: float64"
      ]
     },
     "execution_count": 27,
     "metadata": {},
     "output_type": "execute_result"
    },
    {
     "data": {
      "image/png": "[encoded data removed]",
      "text/plain": [
       "<Figure size 432x288 with 1 Axes>"
      ]
     },
     "metadata": {
      "needs_background": "light"
     },
     "output_type": "display_data"
    }
   ],
   "source": [
    "df.boxplot(column=['age'])\n",
    "df['age'].describe()"
   ]
  },
  {
   "cell_type": "markdown",
   "metadata": {},
   "source": [
    "Age parameter also contains outliers which are seen at the boxplot. \n",
    "Maximum value is 110 while mean is 7.95. Also there are several otliers which are more than 80."
   ]
  },
  {
   "cell_type": "code",
   "execution_count": 27,
   "metadata": {},
   "outputs": [
    {
     "data": {
      "image/png": "[encoded data removed]",
      "text/plain": [
       "<Figure size 432x288 with 1 Axes>"
      ]
     },
     "metadata": {
      "needs_background": "light"
     },
     "output_type": "display_data"
    }
   ],
   "source": [
    "df.hist('average_mileage', bins=100, range=(0, 100000))\n",
    "plt.show()"
   ]
  },
  {
   "cell_type": "code",
   "execution_count": 29,
   "metadata": {},
   "outputs": [
    {
     "data": {
      "text/plain": [
       "count     51525.000000\n",
       "mean      14304.277846\n",
       "std       13362.763351\n",
       "min           0.000000\n",
       "25%        5884.000000\n",
       "50%       12909.000000\n",
       "75%       19273.000000\n",
       "max      279365.000000\n",
       "Name: average_mileage, dtype: float64"
      ]
     },
     "execution_count": 29,
     "metadata": {},
     "output_type": "execute_result"
    },
    {
     "data": {
      "image/png": "[encoded data removed]",
      "text/plain": [
       "<Figure size 432x288 with 1 Axes>"
      ]
     },
     "metadata": {
      "needs_background": "light"
     },
     "output_type": "display_data"
    }
   ],
   "source": [
    "df.boxplot(column=['average_mileage'])\n",
    "df['average_mileage'].describe()"
   ]
  },
  {
   "cell_type": "markdown",
   "metadata": {},
   "source": [
    "Again, some outliers are among average_mileage parameter. "
   ]
  },
  {
   "cell_type": "code",
   "execution_count": 28,
   "metadata": {},
   "outputs": [
    {
     "data": {
      "image/png": "[encoded data removed]",
      "text/plain": [
       "<Figure size 432x288 with 1 Axes>"
      ]
     },
     "metadata": {
      "needs_background": "light"
     },
     "output_type": "display_data"
    }
   ],
   "source": [
    "df.hist('cylinders', bins=10, range=(0, 15))\n",
    "plt.show()"
   ]
  },
  {
   "cell_type": "code",
   "execution_count": 29,
   "metadata": {},
   "outputs": [
    {
     "data": {
      "image/png": "[encoded data removed]",
      "text/plain": [
       "<Figure size 432x288 with 1 Axes>"
      ]
     },
     "metadata": {
      "needs_background": "light"
     },
     "output_type": "display_data"
    }
   ],
   "source": [
    "df.hist('condition', bins=10)\n",
    "plt.show()"
   ]
  },
  {
   "cell_type": "markdown",
   "metadata": {},
   "source": [
    "According to histograms there are no otliers in condition and cylinders were identified.\n",
    "\n"
   ]
  },
  {
   "cell_type": "markdown",
   "metadata": {},
   "source": [
    "## Study and treat outliers\n",
    "\n",
    "Let's remove outliners from the age, average_mileage and price columns.\n"
   ]
  },
  {
   "cell_type": "code",
   "execution_count": 32,
   "metadata": {},
   "outputs": [
    {
     "name": "stdout",
     "output_type": "stream",
     "text": [
      "Old Shape:  (51525, 17)\n"
     ]
    }
   ],
   "source": [
    "print(\"Old Shape: \", df.shape)"
   ]
  },
  {
   "cell_type": "code",
   "execution_count": 31,
   "metadata": {},
   "outputs": [],
   "source": [
    "# Determine the lower limits for outliers\n",
    "cols = ['age', 'average_mileage', 'price']\n",
    "Q1 = df[cols].quantile(0.25)"
   ]
  },
  {
   "cell_type": "code",
   "execution_count": 32,
   "metadata": {},
   "outputs": [],
   "source": [
    "# Determine the upper limits for outliers\n",
    "Q3 = df[cols].quantile(0.75)"
   ]
  },
  {
   "cell_type": "code",
   "execution_count": 33,
   "metadata": {},
   "outputs": [
    {
     "name": "stdout",
     "output_type": "stream",
     "text": [
      "New Shape:  (47242, 17)\n"
     ]
    }
   ],
   "source": [
    "# Store data without outliers in a separate DataFrame\n",
    "IQR = Q3 - Q1\n",
    "\n",
    "new_df = df[~((df[cols] < (Q1 - 1.5 * IQR)) |(df[cols] > (Q3 + 1.5 * IQR))).any(axis=1)]\n",
    "\n",
    "print(\"New Shape: \", new_df.shape)\n"
   ]
  },
  {
   "cell_type": "markdown",
   "metadata": {},
   "source": [
    "## Study core parameters without outliers"
   ]
  },
  {
   "cell_type": "markdown",
   "metadata": {},
   "source": [
    "Let's make new plots using filtered data and compare them with the previous ones.\n"
   ]
  },
  {
   "cell_type": "code",
   "execution_count": 34,
   "metadata": {},
   "outputs": [
    {
     "data": {
      "image/png": "[encoded data removed]",
      "text/plain": [
       "<Figure size 432x288 with 1 Axes>"
      ]
     },
     "metadata": {
      "needs_background": "light"
     },
     "output_type": "display_data"
    }
   ],
   "source": [
    "new_df.hist('price', bins=100, range=(0, 35000))\n",
    "plt.show()"
   ]
  },
  {
   "cell_type": "code",
   "execution_count": 37,
   "metadata": {},
   "outputs": [
    {
     "data": {
      "text/plain": [
       "count    47242.000000\n",
       "mean     10923.771707\n",
       "std       7724.255269\n",
       "min          1.000000\n",
       "25%       4995.000000\n",
       "50%       8847.000000\n",
       "75%      15453.750000\n",
       "max      34595.000000\n",
       "Name: price, dtype: float64"
      ]
     },
     "execution_count": 37,
     "metadata": {},
     "output_type": "execute_result"
    },
    {
     "data": {
      "image/png": "[encoded data removed]",
      "text/plain": [
       "<Figure size 432x288 with 1 Axes>"
      ]
     },
     "metadata": {
      "needs_background": "light"
     },
     "output_type": "display_data"
    }
   ],
   "source": [
    "new_df.boxplot(column=['price'])\n",
    "new_df['price'].describe()"
   ]
  },
  {
   "cell_type": "code",
   "execution_count": 35,
   "metadata": {
    "scrolled": true
   },
   "outputs": [
    {
     "data": {
      "image/png": "[encoded data removed]",
      "text/plain": [
       "<Figure size 432x288 with 1 Axes>"
      ]
     },
     "metadata": {
      "needs_background": "light"
     },
     "output_type": "display_data"
    }
   ],
   "source": [
    "new_df.hist('age', bins=100, range=(0, 40))\n",
    "plt.show()"
   ]
  },
  {
   "cell_type": "code",
   "execution_count": 39,
   "metadata": {},
   "outputs": [
    {
     "data": {
      "text/plain": [
       "count    47242.000000\n",
       "mean     10923.771707\n",
       "std       7724.255269\n",
       "min          1.000000\n",
       "25%       4995.000000\n",
       "50%       8847.000000\n",
       "75%      15453.750000\n",
       "max      34595.000000\n",
       "Name: price, dtype: float64"
      ]
     },
     "execution_count": 39,
     "metadata": {},
     "output_type": "execute_result"
    },
    {
     "data": {
      "image/png": "[encoded data removed]",
      "text/plain": [
       "<Figure size 432x288 with 1 Axes>"
      ]
     },
     "metadata": {
      "needs_background": "light"
     },
     "output_type": "display_data"
    }
   ],
   "source": [
    "new_df.boxplot(column=['age'])\n",
    "new_df['price'].describe()"
   ]
  },
  {
   "cell_type": "code",
   "execution_count": 36,
   "metadata": {},
   "outputs": [
    {
     "data": {
      "image/png": "[encoded data removed]",
      "text/plain": [
       "<Figure size 432x288 with 1 Axes>"
      ]
     },
     "metadata": {
      "needs_background": "light"
     },
     "output_type": "display_data"
    }
   ],
   "source": [
    "new_df.hist('average_mileage', bins=100, range=(0, 100000))\n",
    "plt.show()"
   ]
  },
  {
   "cell_type": "code",
   "execution_count": 37,
   "metadata": {},
   "outputs": [
    {
     "data": {
      "text/plain": [
       "count    47242.000000\n",
       "mean     12770.761928\n",
       "std       9234.994507\n",
       "min          0.000000\n",
       "25%       6319.000000\n",
       "50%      12744.500000\n",
       "75%      18427.000000\n",
       "max      39350.000000\n",
       "Name: average_mileage, dtype: float64"
      ]
     },
     "execution_count": 37,
     "metadata": {},
     "output_type": "execute_result"
    },
    {
     "data": {
      "image/png": "[encoded data removed]",
      "text/plain": [
       "<Figure size 432x288 with 1 Axes>"
      ]
     },
     "metadata": {
      "needs_background": "light"
     },
     "output_type": "display_data"
    }
   ],
   "source": [
    "new_df.boxplot(column=['average_mileage'])\n",
    "new_df['average_mileage'].describe()"
   ]
  },
  {
   "cell_type": "markdown",
   "metadata": {},
   "source": [
    "Outliers are removed, we can continue the analysis basing on cleared data."
   ]
  },
  {
   "cell_type": "markdown",
   "metadata": {},
   "source": [
    "## Ads lifetime\n",
    "\n",
    "Let's study how many days advertisements were displayed. \n",
    "\n"
   ]
  },
  {
   "cell_type": "code",
   "execution_count": 38,
   "metadata": {},
   "outputs": [
    {
     "name": "stdout",
     "output_type": "stream",
     "text": [
      "count    47242.000000\n",
      "mean        39.535413\n",
      "std         28.225942\n",
      "min          0.000000\n",
      "25%         19.000000\n",
      "50%         33.000000\n",
      "75%         53.000000\n",
      "max        271.000000\n",
      "Name: days_listed, dtype: float64\n",
      "Median: 33.0\n"
     ]
    },
    {
     "data": {
      "text/plain": [
       "<AxesSubplot:>"
      ]
     },
     "execution_count": 38,
     "metadata": {},
     "output_type": "execute_result"
    },
    {
     "data": {
      "image/png": "[encoded data removed]",
      "text/plain": [
       "<Figure size 432x288 with 1 Axes>"
      ]
     },
     "metadata": {
      "needs_background": "light"
     },
     "output_type": "display_data"
    }
   ],
   "source": [
    "print(new_df['days_listed'].describe())\n",
    "print(\"Median:\", new_df['days_listed'].median())\n",
    "new_df['days_listed'].hist()"
   ]
  },
  {
   "cell_type": "markdown",
   "metadata": {},
   "source": [
    "Let's remove the outliers before analysis."
   ]
  },
  {
   "cell_type": "code",
   "execution_count": 39,
   "metadata": {},
   "outputs": [
    {
     "name": "stdout",
     "output_type": "stream",
     "text": [
      "New Shape:  (45757, 17)\n",
      "AxesSubplot(0.125,0.125;0.775x0.755)\n",
      "Median: 32.0\n",
      "count    45757.000000\n",
      "mean        36.643596\n",
      "std         23.168563\n",
      "min          0.000000\n",
      "25%         18.000000\n",
      "50%         32.000000\n",
      "75%         51.000000\n",
      "max        104.000000\n",
      "Name: days_listed, dtype: float64\n"
     ]
    },
    {
     "data": {
      "image/png": "[encoded data removed]",
      "text/plain": [
       "<Figure size 432x288 with 1 Axes>"
      ]
     },
     "metadata": {
      "needs_background": "light"
     },
     "output_type": "display_data"
    }
   ],
   "source": [
    "# Creating lower and upper limits\n",
    "Q1_1 = new_df['days_listed'].quantile(0.25)\n",
    "Q3_1 = new_df['days_listed'].quantile(0.75)\n",
    "IQR_1 = Q3_1 - Q1_1\n",
    "\n",
    "new_df_2 = new_df[~((new_df['days_listed'] < (Q1_1 - 1.5 * IQR_1)) |(new_df['days_listed'] > (Q3_1 + 1.5 * IQR_1)))]\n",
    "\n",
    "print(\"New Shape: \", new_df_2.shape)\n",
    "print(new_df_2['days_listed'].hist())\n",
    "print(\"Median:\", new_df_2['days_listed'].median())\n",
    "print(new_df_2['days_listed'].describe())"
   ]
  },
  {
   "cell_type": "markdown",
   "metadata": {},
   "source": [
    "Mean (32) and median (36) are almost the same. Typical life of an ad is 36 days (1 month)\n",
    "\n",
    "Some ads were removed quickly (25% of dataset were removed within 18 days)\n",
    "\n",
    "There are also abnormally long time for ads for some reason - more than three months (even after removing outliers we still have the maximum period equal to 104 days)\n"
   ]
  },
  {
   "cell_type": "markdown",
   "metadata": {},
   "source": [
    "## Average price per each type of vehicle"
   ]
  },
  {
   "cell_type": "markdown",
   "metadata": {},
   "source": [
    "Let's analyze the number of ads and the average price for each type of vehicle. \n",
    "\n",
    "Plot a graph showing the dependence of the number of ads on the vehicle type. Select the two types with the greatest number of ads.]"
   ]
  },
  {
   "cell_type": "code",
   "execution_count": 40,
   "metadata": {},
   "outputs": [
    {
     "name": "stdout",
     "output_type": "stream",
     "text": [
      "                     mean\n",
      "                    price\n",
      "type                     \n",
      "SUV          10213.705081\n",
      "bus          17445.913043\n",
      "convertible  12829.288630\n",
      "coupe        13253.981987\n",
      "hatchback     6686.210913\n",
      "mini-van      7813.107750\n",
      "offroad      14080.520231\n",
      "other         9983.859031\n",
      "pickup       14544.537941\n",
      "sedan         6809.659159\n",
      "truck        14620.859788\n",
      "van           8508.915905\n",
      "wagon         8783.497214\n"
     ]
    },
    {
     "data": {
      "text/html": [
       "<div>\n",
       "<style scoped>\n",
       "    .dataframe tbody tr th:only-of-type {\n",
       "        vertical-align: middle;\n",
       "    }\n",
       "\n",
       "    .dataframe tbody tr th {\n",
       "        vertical-align: top;\n",
       "    }\n",
       "\n",
       "    .dataframe thead tr th {\n",
       "        text-align: left;\n",
       "    }\n",
       "</style>\n",
       "<table border=\"1\" class=\"dataframe\">\n",
       "  <thead>\n",
       "    <tr>\n",
       "      <th></th>\n",
       "      <th>mean</th>\n",
       "    </tr>\n",
       "    <tr>\n",
       "      <th></th>\n",
       "      <th>price</th>\n",
       "    </tr>\n",
       "  </thead>\n",
       "  <tbody>\n",
       "    <tr>\n",
       "      <th>count</th>\n",
       "      <td>13.000000</td>\n",
       "    </tr>\n",
       "    <tr>\n",
       "      <th>mean</th>\n",
       "      <td>11198.004360</td>\n",
       "    </tr>\n",
       "    <tr>\n",
       "      <th>std</th>\n",
       "      <td>3460.780662</td>\n",
       "    </tr>\n",
       "    <tr>\n",
       "      <th>min</th>\n",
       "      <td>6686.210913</td>\n",
       "    </tr>\n",
       "    <tr>\n",
       "      <th>25%</th>\n",
       "      <td>8508.915905</td>\n",
       "    </tr>\n",
       "    <tr>\n",
       "      <th>50%</th>\n",
       "      <td>10213.705081</td>\n",
       "    </tr>\n",
       "    <tr>\n",
       "      <th>75%</th>\n",
       "      <td>14080.520231</td>\n",
       "    </tr>\n",
       "    <tr>\n",
       "      <th>max</th>\n",
       "      <td>17445.913043</td>\n",
       "    </tr>\n",
       "  </tbody>\n",
       "</table>\n",
       "</div>"
      ],
      "text/plain": [
       "               mean\n",
       "              price\n",
       "count     13.000000\n",
       "mean   11198.004360\n",
       "std     3460.780662\n",
       "min     6686.210913\n",
       "25%     8508.915905\n",
       "50%    10213.705081\n",
       "75%    14080.520231\n",
       "max    17445.913043"
      ]
     },
     "execution_count": 40,
     "metadata": {},
     "output_type": "execute_result"
    }
   ],
   "source": [
    "average_price = new_df_2.pivot_table(\n",
    "    index='type', values='price', aggfunc=['mean']\n",
    ")\n",
    "print(average_price)\n",
    "average_price.describe()\n"
   ]
  },
  {
   "cell_type": "code",
   "execution_count": 41,
   "metadata": {},
   "outputs": [
    {
     "name": "stdout",
     "output_type": "stream",
     "text": [
      "             count\n",
      "             price\n",
      "type              \n",
      "SUV          11237\n",
      "bus             23\n",
      "convertible    343\n",
      "coupe         1943\n",
      "hatchback      953\n",
      "mini-van      1058\n",
      "offroad        173\n",
      "other          227\n",
      "pickup        6062\n",
      "sedan        11278\n",
      "truck        10477\n",
      "van            547\n",
      "wagon         1436\n"
     ]
    },
    {
     "data": {
      "text/html": [
       "<div>\n",
       "<style scoped>\n",
       "    .dataframe tbody tr th:only-of-type {\n",
       "        vertical-align: middle;\n",
       "    }\n",
       "\n",
       "    .dataframe tbody tr th {\n",
       "        vertical-align: top;\n",
       "    }\n",
       "\n",
       "    .dataframe thead tr th {\n",
       "        text-align: left;\n",
       "    }\n",
       "</style>\n",
       "<table border=\"1\" class=\"dataframe\">\n",
       "  <thead>\n",
       "    <tr>\n",
       "      <th></th>\n",
       "      <th>count</th>\n",
       "    </tr>\n",
       "    <tr>\n",
       "      <th></th>\n",
       "      <th>price</th>\n",
       "    </tr>\n",
       "  </thead>\n",
       "  <tbody>\n",
       "    <tr>\n",
       "      <th>count</th>\n",
       "      <td>13.000000</td>\n",
       "    </tr>\n",
       "    <tr>\n",
       "      <th>mean</th>\n",
       "      <td>3519.769231</td>\n",
       "    </tr>\n",
       "    <tr>\n",
       "      <th>std</th>\n",
       "      <td>4539.534744</td>\n",
       "    </tr>\n",
       "    <tr>\n",
       "      <th>min</th>\n",
       "      <td>23.000000</td>\n",
       "    </tr>\n",
       "    <tr>\n",
       "      <th>25%</th>\n",
       "      <td>343.000000</td>\n",
       "    </tr>\n",
       "    <tr>\n",
       "      <th>50%</th>\n",
       "      <td>1058.000000</td>\n",
       "    </tr>\n",
       "    <tr>\n",
       "      <th>75%</th>\n",
       "      <td>6062.000000</td>\n",
       "    </tr>\n",
       "    <tr>\n",
       "      <th>max</th>\n",
       "      <td>11278.000000</td>\n",
       "    </tr>\n",
       "  </tbody>\n",
       "</table>\n",
       "</div>"
      ],
      "text/plain": [
       "              count\n",
       "              price\n",
       "count     13.000000\n",
       "mean    3519.769231\n",
       "std     4539.534744\n",
       "min       23.000000\n",
       "25%      343.000000\n",
       "50%     1058.000000\n",
       "75%     6062.000000\n",
       "max    11278.000000"
      ]
     },
     "execution_count": 41,
     "metadata": {},
     "output_type": "execute_result"
    }
   ],
   "source": [
    "adv_count = new_df_2.pivot_table(\n",
    "    index='type', values='price', aggfunc=['count']\n",
    ")\n",
    "print(adv_count)\n",
    "adv_count.describe()"
   ]
  },
  {
   "cell_type": "code",
   "execution_count": 42,
   "metadata": {},
   "outputs": [
    {
     "data": {
      "image/png": "[encoded data removed]",
      "text/plain": [
       "<Figure size 432x288 with 1 Axes>"
      ]
     },
     "metadata": {
      "needs_background": "light"
     },
     "output_type": "display_data"
    }
   ],
   "source": [
    "adv_count.plot(kind='bar')\n",
    "plt.show()"
   ]
  },
  {
   "cell_type": "markdown",
   "metadata": {},
   "source": [
    "The two most popular types are SUV and sedan"
   ]
  },
  {
   "cell_type": "markdown",
   "metadata": {},
   "source": [
    "## Price factors"
   ]
  },
  {
   "cell_type": "markdown",
   "metadata": {},
   "source": [
    "Let's analyse What factors impact the price most. We will take each of the popular types (SUV and sedan) at the previous stage and study whether the price depends on age, mileage, condition, transmission type, and color. "
   ]
  },
  {
   "cell_type": "code",
   "execution_count": 43,
   "metadata": {
    "scrolled": true
   },
   "outputs": [
    {
     "data": {
      "image/png": "[encoded data removed]",
      "text/plain": [
       "<Figure size 432x288 with 1 Axes>"
      ]
     },
     "metadata": {
      "needs_background": "light"
     },
     "output_type": "display_data"
    },
    {
     "data": {
      "image/png": "[encoded data removed]",
      "text/plain": [
       "<Figure size 432x288 with 1 Axes>"
      ]
     },
     "metadata": {
      "needs_background": "light"
     },
     "output_type": "display_data"
    },
    {
     "data": {
      "image/png": "[encoded data removed]",
      "text/plain": [
       "<Figure size 432x288 with 1 Axes>"
      ]
     },
     "metadata": {
      "needs_background": "light"
     },
     "output_type": "display_data"
    }
   ],
   "source": [
    "new_df_2.query('type == \"SUV\"').plot(x = 'price', y='age', kind='scatter')\n",
    "new_df_2.query('type == \"SUV\"').plot(x = 'price', y='average_mileage', kind='scatter')\n",
    "new_df_2.query('type == \"SUV\"').plot(x = 'price', y='condition', kind='scatter')\n",
    "plt.show()"
   ]
  },
  {
   "cell_type": "markdown",
   "metadata": {},
   "source": [
    "It can be concluded from the plots above that there is some dependance between price and average_mileage."
   ]
  },
  {
   "cell_type": "code",
   "execution_count": 44,
   "metadata": {},
   "outputs": [
    {
     "name": "stderr",
     "output_type": "stream",
     "text": [
      "C:\\Users\\amass\\AppData\\Local\\Temp\\ipykernel_22172\\2619027795.py:11: UserWarning: FixedFormatter should only be used together with FixedLocator\n",
      "  ax.set_xticklabels(['automatic', 'manual', 'other'])\n"
     ]
    },
    {
     "data": {
      "image/png": "[encoded data removed]",
      "text/plain": [
       "<Figure size 720x504 with 1 Axes>"
      ]
     },
     "metadata": {
      "needs_background": "light"
     },
     "output_type": "display_data"
    }
   ],
   "source": [
    "#Creating datatset\n",
    "data_1 = new_df_2.query('transmission == \"automatic\" and type == \"SUV\"')['price']\n",
    "data_2 = new_df_2.query('transmission == \"manual\" and type == \"SUV\"')['price']\n",
    "data_3 = new_df_2.query('transmission == \"other\" and type == \"SUV\"')['price']\n",
    "data = [data_1, data_2, data_3]\n",
    "\n",
    "fig = plt.figure(figsize =(10,7))\n",
    "\n",
    "#Creating axes instance\n",
    "ax = fig.add_axes([0,0,1,1])\n",
    "ax.set_xticklabels(['automatic', 'manual', 'other'])\n",
    "\n",
    "#Creating plot\n",
    "bp = ax.boxplot(data)\n",
    "\n",
    "#Show plot\n",
    "plt.show()\n"
   ]
  },
  {
   "cell_type": "markdown",
   "metadata": {},
   "source": [
    "From the bopxplots above we can identify some large values for automatic transmission but they looks like outliers (above the upper limit) and can't be seriously treated as those which influence the price.\n",
    "In general, manual type of transmission is more expensive for SUV."
   ]
  },
  {
   "cell_type": "code",
   "execution_count": 45,
   "metadata": {},
   "outputs": [
    {
     "data": {
      "image/png": "[encoded data removed]",
      "text/plain": [
       "<Figure size 432x288 with 1 Axes>"
      ]
     },
     "metadata": {
      "needs_background": "light"
     },
     "output_type": "display_data"
    },
    {
     "data": {
      "image/png": "[encoded data removed]",
      "text/plain": [
       "<Figure size 432x288 with 1 Axes>"
      ]
     },
     "metadata": {
      "needs_background": "light"
     },
     "output_type": "display_data"
    },
    {
     "data": {
      "image/png": "[encoded data removed]",
      "text/plain": [
       "<Figure size 432x288 with 1 Axes>"
      ]
     },
     "metadata": {
      "needs_background": "light"
     },
     "output_type": "display_data"
    }
   ],
   "source": [
    "new_df_2.query('type == \"sedan\"').plot(x = 'price', y='age', kind='scatter')\n",
    "new_df_2.query('type == \"sedan\"').plot(x = 'price', y='average_mileage', kind='scatter')\n",
    "new_df_2.query('type == \"sedan\"').plot(x = 'price', y='condition', kind='scatter')\n",
    "plt.show()"
   ]
  },
  {
   "cell_type": "markdown",
   "metadata": {},
   "source": [
    "There is the similar plots for sedan type, the one with average_mileage also looks like showing factors connected to price."
   ]
  },
  {
   "cell_type": "code",
   "execution_count": 46,
   "metadata": {},
   "outputs": [
    {
     "name": "stderr",
     "output_type": "stream",
     "text": [
      "C:\\Users\\amass\\AppData\\Local\\Temp\\ipykernel_22172\\540839202.py:11: UserWarning: FixedFormatter should only be used together with FixedLocator\n",
      "  ax.set_xticklabels(['automatic', 'manual', 'other'])\n"
     ]
    },
    {
     "data": {
      "image/png": "[encoded data removed]",
      "text/plain": [
       "<Figure size 720x504 with 1 Axes>"
      ]
     },
     "metadata": {
      "needs_background": "light"
     },
     "output_type": "display_data"
    }
   ],
   "source": [
    "#Creating datatset\n",
    "data_4 = new_df_2.query('transmission == \"automatic\" and type == \"sedan\"')['price']\n",
    "data_5 = new_df_2.query('transmission == \"manual\" and type == \"sedan\"')['price']\n",
    "data_6 = new_df_2.query('transmission == \"other\" and type == \"sedan\"')['price']\n",
    "data = [data_4, data_5, data_6]\n",
    "\n",
    "fig = plt.figure(figsize =(10,7))\n",
    "\n",
    "#Creating axes instance\n",
    "ax = fig.add_axes([0,0,1,1])\n",
    "ax.set_xticklabels(['automatic', 'manual', 'other'])\n",
    "\n",
    "#Creating plot\n",
    "bp = ax.boxplot(data)\n",
    "\n",
    "#Show plot\n",
    "plt.show()"
   ]
  },
  {
   "cell_type": "markdown",
   "metadata": {},
   "source": [
    "Boxplots are also similar to those we have made for SUV type. The price for sedan with automatic transmission is more expensive in general."
   ]
  },
  {
   "cell_type": "code",
   "execution_count": 47,
   "metadata": {},
   "outputs": [
    {
     "name": "stdout",
     "output_type": "stream",
     "text": [
      "                      age  average_mileage  condition\n",
      "age              1.000000        -0.269875  -0.323075\n",
      "average_mileage -0.269875         1.000000  -0.009210\n",
      "condition       -0.323075        -0.009210   1.000000\n"
     ]
    },
    {
     "data": {
      "image/png": "[encoded data removed]",
      "text/plain": [
       "<Figure size 648x648 with 9 Axes>"
      ]
     },
     "metadata": {
      "needs_background": "light"
     },
     "output_type": "display_data"
    }
   ],
   "source": [
    "# Let's make a correlation matrix and correlation plots \n",
    "# to see the possible connection between price and age, average mileage and condition for SUV and for sedan separately.\n",
    "df_SUV = new_df_2.loc[new_df_2['type'] == \"SUV\", ['age', 'average_mileage', 'condition']]\n",
    "print(df_SUV.corr())\n",
    "pd.plotting.scatter_matrix(df_SUV, figsize=(9, 9))\n",
    "plt.show()"
   ]
  },
  {
   "cell_type": "code",
   "execution_count": 48,
   "metadata": {},
   "outputs": [
    {
     "name": "stdout",
     "output_type": "stream",
     "text": [
      "                      age  average_mileage  condition\n",
      "age              1.000000        -0.217747  -0.303571\n",
      "average_mileage -0.217747         1.000000  -0.039169\n",
      "condition       -0.303571        -0.039169   1.000000\n"
     ]
    },
    {
     "data": {
      "image/png": "[encoded data removed]",
      "text/plain": [
       "<Figure size 648x648 with 9 Axes>"
      ]
     },
     "metadata": {
      "needs_background": "light"
     },
     "output_type": "display_data"
    }
   ],
   "source": [
    "df_sedan = new_df_2.loc[new_df_2['type'] == \"sedan\", ['age', 'average_mileage', 'condition']]\n",
    "print(df_sedan.corr())\n",
    "pd.plotting.scatter_matrix(df_sedan, figsize=(9, 9))\n",
    "plt.show()"
   ]
  },
  {
   "cell_type": "markdown",
   "metadata": {},
   "source": [
    "According to correlation matrixes and correlation plots there isn't some strong correlation between parameters analysed."
   ]
  },
  {
   "cell_type": "markdown",
   "metadata": {},
   "source": [
    "## General conclusion\n",
    "\n"
   ]
  },
  {
   "cell_type": "markdown",
   "metadata": {},
   "source": [
    "We have addressed all the issued identified in the data received: missing values, duplicates, categorical data wich are not convinient to analyse ('condition' column).\n",
    "\n",
    "Five columns with missing data were identified. We have filled in the values for three of them (is_4wd, cylinders and model_year, odometer) and decided not to do anything with 'paint_color' column because the car's colour depends only on the owner's choice. These data might be forgotten to be filled in.\n",
    "\n",
    "For filling in values in is_4wd column we have chosen the zero value - it means that the vehicle has no 4-wheel drive.\n",
    "\n",
    "Missig values in 'odometer' were also filled in with zero.\n",
    "\n",
    "'Cylinders' and 'model_year' columns were filled in basing on median of corresponding model.\n",
    "\n",
    "We checked tha data for duplicates but they were not identified in our dataset.\n",
    "\n",
    "We have analysed the dataset given trying to identify any possible correlation between different criterias and price of a car as well as frequeancy of advertising of each type of vehicle.\n",
    "\n",
    "We have checked age, average mileage, condition and transmission type for possible correlation with price.\n",
    "\n",
    "We have identified that there is no connection between age and condition with price - correlation coeffiсient were far from 1 or -1. \n",
    "\n",
    "On the other hand, there can be a correlation between average mileage and price. It is seen from the corresponding scatter plots.\n",
    "\n",
    "Price is also can be connected with transmission type for different group of vehicles. We have checked this for the two most popular groups in our dataset: in general, price for manual transmission is higher for SUV but lower for for sedan.\n",
    "\n",
    "Overall conclusion is that among all the criterias analysed average mileage and transmission type are those which can potentially influence the price for the dataset given. "
   ]
  }
 ],
 "metadata": {
  "ExecuteTimeLog": [
   {
    "duration": 828,
    "start_time": "2021-11-16T09:21:11.304Z"
   },
   {
    "duration": 893,
    "start_time": "2021-11-16T09:21:17.728Z"
   },
   {
    "duration": 1150,
    "start_time": "2021-11-16T09:21:29.568Z"
   },
   {
    "duration": 3,
    "start_time": "2021-11-16T09:24:14.495Z"
   },
   {
    "duration": 120,
    "start_time": "2021-11-16T09:24:46.630Z"
   },
   {
    "duration": 3,
    "start_time": "2021-11-16T09:28:27.882Z"
   },
   {
    "duration": 4,
    "start_time": "2021-11-16T09:29:54.281Z"
   },
   {
    "duration": 3,
    "start_time": "2021-11-16T09:30:45.936Z"
   },
   {
    "duration": 4,
    "start_time": "2021-11-16T09:31:06.300Z"
   },
   {
    "duration": 113,
    "start_time": "2021-11-16T09:31:37.208Z"
   },
   {
    "duration": 143,
    "start_time": "2021-11-16T09:31:48.656Z"
   },
   {
    "duration": 98,
    "start_time": "2021-11-16T09:31:55.678Z"
   },
   {
    "duration": 3,
    "start_time": "2021-11-16T09:32:08.535Z"
   },
   {
    "duration": 111,
    "start_time": "2021-11-16T09:32:10.120Z"
   },
   {
    "duration": 3,
    "start_time": "2021-11-16T09:32:15.732Z"
   },
   {
    "duration": 4,
    "start_time": "2021-11-16T09:32:29.423Z"
   },
   {
    "duration": 3,
    "start_time": "2021-11-16T10:03:03.074Z"
   },
   {
    "duration": 3,
    "start_time": "2021-11-16T10:10:01.288Z"
   },
   {
    "duration": 3,
    "start_time": "2021-11-16T10:10:46.923Z"
   },
   {
    "duration": 121,
    "start_time": "2021-11-16T10:37:46.494Z"
   },
   {
    "duration": 125,
    "start_time": "2021-11-16T10:38:20.632Z"
   },
   {
    "duration": 112,
    "start_time": "2021-11-16T10:46:53.001Z"
   },
   {
    "duration": 110,
    "start_time": "2021-11-16T10:48:25.775Z"
   },
   {
    "duration": 3,
    "start_time": "2021-11-16T10:50:18.720Z"
   },
   {
    "duration": 4,
    "start_time": "2021-11-16T10:50:37.649Z"
   },
   {
    "duration": 2,
    "start_time": "2021-11-16T10:50:51.884Z"
   },
   {
    "duration": 3,
    "start_time": "2021-11-16T10:51:56.237Z"
   },
   {
    "duration": 101,
    "start_time": "2021-11-16T10:53:13.791Z"
   },
   {
    "duration": 3,
    "start_time": "2021-11-16T10:55:59.186Z"
   },
   {
    "duration": 3,
    "start_time": "2021-11-16T10:56:10.751Z"
   },
   {
    "duration": 3,
    "start_time": "2021-11-16T10:56:49.038Z"
   },
   {
    "duration": 3,
    "start_time": "2021-11-16T10:56:49.174Z"
   },
   {
    "duration": 4,
    "start_time": "2021-11-16T10:56:49.414Z"
   },
   {
    "duration": 3,
    "start_time": "2021-11-16T10:56:49.680Z"
   },
   {
    "duration": 3,
    "start_time": "2021-11-16T10:56:50.370Z"
   },
   {
    "duration": 114,
    "start_time": "2021-11-16T10:59:34.518Z"
   },
   {
    "duration": 3,
    "start_time": "2021-11-16T11:01:41.201Z"
   },
   {
    "duration": 116,
    "start_time": "2021-11-16T11:01:48.754Z"
   },
   {
    "duration": 3,
    "start_time": "2021-11-16T11:02:16.685Z"
   },
   {
    "duration": 3,
    "start_time": "2021-11-16T11:02:19.479Z"
   },
   {
    "duration": 3,
    "start_time": "2021-11-16T11:02:47.067Z"
   },
   {
    "duration": 3,
    "start_time": "2021-11-16T11:02:49.353Z"
   },
   {
    "duration": 3,
    "start_time": "2021-11-16T11:03:07.835Z"
   },
   {
    "duration": 3,
    "start_time": "2021-11-16T11:03:07.953Z"
   },
   {
    "duration": 112,
    "start_time": "2021-11-16T11:07:52.072Z"
   },
   {
    "duration": 187,
    "start_time": "2021-11-16T11:09:23.468Z"
   },
   {
    "duration": 4,
    "start_time": "2021-11-16T11:10:01.455Z"
   },
   {
    "duration": 3,
    "start_time": "2021-11-16T11:10:05.069Z"
   },
   {
    "duration": 4,
    "start_time": "2021-11-16T11:10:13.376Z"
   },
   {
    "duration": 3,
    "start_time": "2021-11-16T11:10:14.434Z"
   },
   {
    "duration": 3,
    "start_time": "2021-11-16T11:10:22.853Z"
   },
   {
    "duration": 4,
    "start_time": "2021-11-16T11:27:29.279Z"
   },
   {
    "duration": 4,
    "start_time": "2021-11-16T11:29:08.919Z"
   },
   {
    "duration": 118,
    "start_time": "2021-11-16T11:29:46.703Z"
   },
   {
    "duration": 437,
    "start_time": "2021-11-16T11:36:02.181Z"
   },
   {
    "duration": 157,
    "start_time": "2021-11-16T11:36:14.388Z"
   },
   {
    "duration": 207,
    "start_time": "2021-11-16T11:47:15.898Z"
   },
   {
    "duration": 3,
    "start_time": "2021-11-16T11:53:52.092Z"
   },
   {
    "duration": 3,
    "start_time": "2021-11-16T11:53:52.236Z"
   },
   {
    "duration": 3,
    "start_time": "2021-11-16T11:59:12.005Z"
   },
   {
    "duration": 112,
    "start_time": "2021-11-16T12:00:33.446Z"
   },
   {
    "duration": 3,
    "start_time": "2021-11-16T12:02:14.453Z"
   },
   {
    "duration": 3,
    "start_time": "2021-11-16T12:02:39.512Z"
   },
   {
    "duration": 106,
    "start_time": "2021-11-16T12:03:03.460Z"
   },
   {
    "duration": 55,
    "start_time": "2022-08-06T09:33:06.887Z"
   },
   {
    "duration": 789,
    "start_time": "2022-08-06T09:33:09.244Z"
   },
   {
    "duration": 376,
    "start_time": "2022-08-06T09:33:10.607Z"
   },
   {
    "duration": 94,
    "start_time": "2022-08-06T09:33:47.109Z"
   },
   {
    "duration": 31,
    "start_time": "2022-08-06T09:33:53.499Z"
   },
   {
    "duration": 9,
    "start_time": "2022-08-06T09:34:00.849Z"
   },
   {
    "duration": 27,
    "start_time": "2022-08-06T09:34:06.688Z"
   },
   {
    "duration": 15,
    "start_time": "2022-08-06T09:36:03.697Z"
   },
   {
    "duration": 28,
    "start_time": "2022-08-06T09:53:06.911Z"
   },
   {
    "duration": 17,
    "start_time": "2022-08-06T09:53:31.836Z"
   },
   {
    "duration": 30,
    "start_time": "2022-08-06T09:53:37.484Z"
   },
   {
    "duration": 3,
    "start_time": "2022-08-09T13:07:06.750Z"
   },
   {
    "duration": 101,
    "start_time": "2022-08-09T13:07:08.347Z"
   },
   {
    "duration": 24,
    "start_time": "2022-08-09T13:07:11.055Z"
   },
   {
    "duration": 20,
    "start_time": "2022-08-09T13:07:13.828Z"
   },
   {
    "duration": 37,
    "start_time": "2022-08-09T13:07:17.580Z"
   },
   {
    "duration": 43,
    "start_time": "2022-08-09T13:09:54.018Z"
   },
   {
    "duration": 8,
    "start_time": "2022-08-09T13:10:03.337Z"
   },
   {
    "duration": 7,
    "start_time": "2022-08-09T13:10:39.642Z"
   },
   {
    "duration": 4,
    "start_time": "2022-08-09T13:11:47.747Z"
   },
   {
    "duration": 7,
    "start_time": "2022-08-09T13:15:09.097Z"
   },
   {
    "duration": 6,
    "start_time": "2022-08-09T13:16:32.300Z"
   },
   {
    "duration": 6,
    "start_time": "2022-08-09T13:19:27.263Z"
   },
   {
    "duration": 5,
    "start_time": "2022-08-09T13:19:39.731Z"
   },
   {
    "duration": 6,
    "start_time": "2022-08-09T13:20:04.693Z"
   },
   {
    "duration": 6,
    "start_time": "2022-08-09T13:20:10.483Z"
   },
   {
    "duration": 5,
    "start_time": "2022-08-09T13:20:12.181Z"
   },
   {
    "duration": 5,
    "start_time": "2022-08-09T13:23:56.543Z"
   },
   {
    "duration": 6,
    "start_time": "2022-08-09T13:23:58.411Z"
   },
   {
    "duration": 6,
    "start_time": "2022-08-09T13:24:18.899Z"
   },
   {
    "duration": 5,
    "start_time": "2022-08-09T13:24:22.898Z"
   },
   {
    "duration": 9,
    "start_time": "2022-08-09T13:26:43.142Z"
   },
   {
    "duration": 5,
    "start_time": "2022-08-09T13:26:47.491Z"
   },
   {
    "duration": 10,
    "start_time": "2022-08-09T13:26:56.127Z"
   },
   {
    "duration": 5,
    "start_time": "2022-08-09T13:26:57.584Z"
   },
   {
    "duration": 4,
    "start_time": "2022-08-09T13:28:37.261Z"
   },
   {
    "duration": 5,
    "start_time": "2022-08-09T13:28:38.752Z"
   },
   {
    "duration": 6,
    "start_time": "2022-08-09T13:28:48.522Z"
   },
   {
    "duration": 11,
    "start_time": "2022-08-09T13:34:35.437Z"
   },
   {
    "duration": 6,
    "start_time": "2022-08-09T13:36:04.682Z"
   },
   {
    "duration": 5,
    "start_time": "2022-08-09T13:36:11.382Z"
   },
   {
    "duration": 6,
    "start_time": "2022-08-09T13:36:18.033Z"
   },
   {
    "duration": 9,
    "start_time": "2022-08-09T13:36:30.386Z"
   },
   {
    "duration": 44,
    "start_time": "2022-08-09T18:00:40.414Z"
   },
   {
    "duration": 706,
    "start_time": "2022-08-09T18:00:44.879Z"
   },
   {
    "duration": 376,
    "start_time": "2022-08-09T18:00:49.341Z"
   },
   {
    "duration": 20,
    "start_time": "2022-08-09T18:00:51.858Z"
   },
   {
    "duration": 19,
    "start_time": "2022-08-09T18:00:54.327Z"
   },
   {
    "duration": 31,
    "start_time": "2022-08-09T18:00:58.149Z"
   },
   {
    "duration": 4,
    "start_time": "2022-08-09T18:01:01.647Z"
   },
   {
    "duration": 3,
    "start_time": "2022-08-09T18:01:03.749Z"
   },
   {
    "duration": 5,
    "start_time": "2022-08-09T18:01:05.618Z"
   },
   {
    "duration": 9,
    "start_time": "2022-08-09T18:01:08.499Z"
   },
   {
    "duration": 37,
    "start_time": "2022-08-09T18:01:10.836Z"
   },
   {
    "duration": 11,
    "start_time": "2022-08-09T18:04:29.259Z"
   },
   {
    "duration": 19,
    "start_time": "2022-08-09T18:04:49.715Z"
   },
   {
    "duration": 24,
    "start_time": "2022-08-09T18:05:04.034Z"
   },
   {
    "duration": 28,
    "start_time": "2022-08-09T18:07:42.313Z"
   },
   {
    "duration": 32,
    "start_time": "2022-08-09T18:07:52.065Z"
   },
   {
    "duration": 37,
    "start_time": "2022-08-09T18:08:04.791Z"
   },
   {
    "duration": 32,
    "start_time": "2022-08-09T18:08:28.194Z"
   },
   {
    "duration": 69,
    "start_time": "2022-08-09T18:08:36.542Z"
   },
   {
    "duration": 808,
    "start_time": "2022-08-11T06:16:38.954Z"
   },
   {
    "duration": 184,
    "start_time": "2022-08-11T06:16:41.528Z"
   },
   {
    "duration": 43,
    "start_time": "2022-08-11T06:16:45.271Z"
   },
   {
    "duration": 21,
    "start_time": "2022-08-11T06:16:47.945Z"
   },
   {
    "duration": 35,
    "start_time": "2022-08-11T06:16:52.345Z"
   },
   {
    "duration": 5,
    "start_time": "2022-08-11T06:16:55.411Z"
   },
   {
    "duration": 3,
    "start_time": "2022-08-11T06:16:57.774Z"
   },
   {
    "duration": 6,
    "start_time": "2022-08-11T06:16:59.511Z"
   },
   {
    "duration": 9,
    "start_time": "2022-08-11T06:17:01.885Z"
   },
   {
    "duration": 27,
    "start_time": "2022-08-11T06:17:05.067Z"
   },
   {
    "duration": 913,
    "start_time": "2022-08-11T06:17:18.816Z"
   },
   {
    "duration": 27,
    "start_time": "2022-08-11T06:17:37.616Z"
   },
   {
    "duration": 38,
    "start_time": "2022-08-11T06:17:55.253Z"
   },
   {
    "duration": 4,
    "start_time": "2022-08-11T06:19:14.970Z"
   },
   {
    "duration": 21,
    "start_time": "2022-08-11T06:19:24.536Z"
   },
   {
    "duration": 26,
    "start_time": "2022-08-11T06:20:41.880Z"
   },
   {
    "duration": 7,
    "start_time": "2022-08-11T06:37:34.780Z"
   },
   {
    "duration": 35,
    "start_time": "2022-08-11T06:37:42.810Z"
   },
   {
    "duration": 13,
    "start_time": "2022-08-11T06:38:54.165Z"
   },
   {
    "duration": 15,
    "start_time": "2022-08-11T07:37:00.810Z"
   },
   {
    "duration": 12,
    "start_time": "2022-08-11T07:38:54.427Z"
   },
   {
    "duration": 11,
    "start_time": "2022-08-11T07:39:04.558Z"
   },
   {
    "duration": 49,
    "start_time": "2022-08-11T15:25:18.917Z"
   },
   {
    "duration": 793,
    "start_time": "2022-08-11T15:25:41.069Z"
   },
   {
    "duration": 184,
    "start_time": "2022-08-11T15:25:42.761Z"
   },
   {
    "duration": 22,
    "start_time": "2022-08-11T15:25:45.513Z"
   },
   {
    "duration": 21,
    "start_time": "2022-08-11T15:25:47.834Z"
   },
   {
    "duration": 37,
    "start_time": "2022-08-11T15:25:51.554Z"
   },
   {
    "duration": 5,
    "start_time": "2022-08-11T15:25:53.806Z"
   },
   {
    "duration": 3,
    "start_time": "2022-08-11T15:25:55.420Z"
   },
   {
    "duration": 5,
    "start_time": "2022-08-11T15:25:56.950Z"
   },
   {
    "duration": 11,
    "start_time": "2022-08-11T15:25:59.439Z"
   },
   {
    "duration": 29,
    "start_time": "2022-08-11T15:26:02.154Z"
   },
   {
    "duration": 38,
    "start_time": "2022-08-11T15:26:05.112Z"
   },
   {
    "duration": 17,
    "start_time": "2022-08-11T15:26:07.653Z"
   },
   {
    "duration": 4,
    "start_time": "2022-08-11T15:36:30.784Z"
   },
   {
    "duration": 35,
    "start_time": "2022-08-11T15:37:08.798Z"
   },
   {
    "duration": 3,
    "start_time": "2022-08-11T15:37:18.077Z"
   },
   {
    "duration": 7,
    "start_time": "2022-08-11T15:37:27.628Z"
   },
   {
    "duration": 9,
    "start_time": "2022-08-11T15:37:35.818Z"
   },
   {
    "duration": 10,
    "start_time": "2022-08-11T15:37:53.112Z"
   },
   {
    "duration": 85,
    "start_time": "2022-08-11T15:38:54.813Z"
   },
   {
    "duration": 58,
    "start_time": "2022-08-11T15:39:03.030Z"
   },
   {
    "duration": 78,
    "start_time": "2022-08-11T15:39:09.768Z"
   },
   {
    "duration": 48,
    "start_time": "2022-08-11T15:39:11.767Z"
   },
   {
    "duration": 5,
    "start_time": "2022-08-11T15:39:19.768Z"
   },
   {
    "duration": 8,
    "start_time": "2022-08-11T15:39:21.673Z"
   },
   {
    "duration": 9,
    "start_time": "2022-08-11T15:40:07.300Z"
   },
   {
    "duration": 9,
    "start_time": "2022-08-11T15:40:15.938Z"
   },
   {
    "duration": 6,
    "start_time": "2022-08-11T15:40:29.313Z"
   },
   {
    "duration": 5,
    "start_time": "2022-08-11T15:41:29.217Z"
   },
   {
    "duration": 4,
    "start_time": "2022-08-11T15:41:30.588Z"
   },
   {
    "duration": 5,
    "start_time": "2022-08-11T15:42:22.823Z"
   },
   {
    "duration": 10,
    "start_time": "2022-08-11T15:42:24.583Z"
   },
   {
    "duration": 3,
    "start_time": "2022-08-11T15:42:30.218Z"
   },
   {
    "duration": 8,
    "start_time": "2022-08-11T15:42:37.335Z"
   },
   {
    "duration": 6,
    "start_time": "2022-08-11T15:45:48.625Z"
   },
   {
    "duration": 3,
    "start_time": "2022-08-11T15:45:50.477Z"
   },
   {
    "duration": 3,
    "start_time": "2022-08-11T15:46:00.152Z"
   },
   {
    "duration": 4,
    "start_time": "2022-08-11T15:58:59.143Z"
   },
   {
    "duration": 5,
    "start_time": "2022-08-11T15:59:00.730Z"
   },
   {
    "duration": 5,
    "start_time": "2022-08-11T16:01:31.789Z"
   },
   {
    "duration": 3,
    "start_time": "2022-08-11T16:01:34.107Z"
   },
   {
    "duration": 1086,
    "start_time": "2022-08-11T16:03:19.474Z"
   },
   {
    "duration": 1019,
    "start_time": "2022-08-11T16:05:20.452Z"
   },
   {
    "duration": 2,
    "start_time": "2022-08-11T16:06:38.766Z"
   },
   {
    "duration": 3,
    "start_time": "2022-08-11T16:06:42.261Z"
   },
   {
    "duration": 3,
    "start_time": "2022-08-11T16:06:46.425Z"
   },
   {
    "duration": 4,
    "start_time": "2022-08-11T16:07:05.188Z"
   },
   {
    "duration": 1042,
    "start_time": "2022-08-11T16:07:30.051Z"
   },
   {
    "duration": 1384,
    "start_time": "2022-08-11T16:07:56.078Z"
   },
   {
    "duration": 1027,
    "start_time": "2022-08-11T16:08:14.591Z"
   },
   {
    "duration": 922,
    "start_time": "2022-08-11T16:10:00.478Z"
   },
   {
    "duration": 5,
    "start_time": "2022-08-11T16:31:23.880Z"
   },
   {
    "duration": 7,
    "start_time": "2022-08-11T16:31:25.524Z"
   },
   {
    "duration": 8,
    "start_time": "2022-08-11T16:31:47.949Z"
   },
   {
    "duration": 4,
    "start_time": "2022-08-11T16:32:06.748Z"
   },
   {
    "duration": 4,
    "start_time": "2022-08-11T16:32:47.609Z"
   },
   {
    "duration": 3,
    "start_time": "2022-08-11T16:32:49.130Z"
   },
   {
    "duration": 4,
    "start_time": "2022-08-11T16:34:54.326Z"
   },
   {
    "duration": 5,
    "start_time": "2022-08-11T16:35:01.548Z"
   },
   {
    "duration": 4,
    "start_time": "2022-08-11T16:35:03.484Z"
   },
   {
    "duration": 1010,
    "start_time": "2022-08-11T16:35:50.709Z"
   },
   {
    "duration": 4,
    "start_time": "2022-08-11T16:36:31.359Z"
   },
   {
    "duration": 3,
    "start_time": "2022-08-11T16:36:35.846Z"
   },
   {
    "duration": 4,
    "start_time": "2022-08-11T16:36:40.532Z"
   },
   {
    "duration": 7,
    "start_time": "2022-08-11T16:39:48.194Z"
   },
   {
    "duration": 850,
    "start_time": "2022-08-11T16:39:54.278Z"
   },
   {
    "duration": 797,
    "start_time": "2022-08-11T16:40:15.811Z"
   },
   {
    "duration": 17,
    "start_time": "2022-08-11T16:40:50.688Z"
   },
   {
    "duration": 7,
    "start_time": "2022-08-11T16:42:48.231Z"
   },
   {
    "duration": 4,
    "start_time": "2022-08-11T16:42:56.677Z"
   },
   {
    "duration": 7,
    "start_time": "2022-08-11T16:43:09.497Z"
   },
   {
    "duration": 20,
    "start_time": "2022-08-11T16:43:13.719Z"
   },
   {
    "duration": 17,
    "start_time": "2022-08-11T16:43:37.894Z"
   },
   {
    "duration": 6,
    "start_time": "2022-08-11T16:52:36.891Z"
   },
   {
    "duration": 3,
    "start_time": "2022-08-11T16:52:47.315Z"
   },
   {
    "duration": 131,
    "start_time": "2022-08-11T16:52:49.050Z"
   },
   {
    "duration": 21,
    "start_time": "2022-08-11T16:52:52.356Z"
   },
   {
    "duration": 14,
    "start_time": "2022-08-11T16:52:54.957Z"
   },
   {
    "duration": 32,
    "start_time": "2022-08-11T16:52:58.672Z"
   },
   {
    "duration": 6,
    "start_time": "2022-08-11T16:53:01.095Z"
   },
   {
    "duration": 3,
    "start_time": "2022-08-11T16:53:03.848Z"
   },
   {
    "duration": 5,
    "start_time": "2022-08-11T16:53:05.692Z"
   },
   {
    "duration": 11,
    "start_time": "2022-08-11T16:53:08.307Z"
   },
   {
    "duration": 28,
    "start_time": "2022-08-11T16:53:11.472Z"
   },
   {
    "duration": 71,
    "start_time": "2022-08-11T16:53:14.358Z"
   },
   {
    "duration": 18,
    "start_time": "2022-08-11T16:53:17.234Z"
   },
   {
    "duration": 5,
    "start_time": "2022-08-11T16:53:19.780Z"
   },
   {
    "duration": 4,
    "start_time": "2022-08-11T16:53:21.415Z"
   },
   {
    "duration": 817,
    "start_time": "2022-08-11T16:53:23.234Z"
   },
   {
    "duration": 16,
    "start_time": "2022-08-11T16:53:25.585Z"
   },
   {
    "duration": 4,
    "start_time": "2022-08-11T16:53:28.500Z"
   },
   {
    "duration": 22,
    "start_time": "2022-08-11T16:53:31.008Z"
   },
   {
    "duration": 17,
    "start_time": "2022-08-11T16:53:33.193Z"
   },
   {
    "duration": 7,
    "start_time": "2022-08-11T16:53:36.816Z"
   },
   {
    "duration": 6,
    "start_time": "2022-08-11T16:54:01.531Z"
   },
   {
    "duration": 142,
    "start_time": "2022-08-11T16:54:07.493Z"
   },
   {
    "duration": 139,
    "start_time": "2022-08-11T16:54:40.963Z"
   },
   {
    "duration": 131,
    "start_time": "2022-08-11T16:54:47.308Z"
   },
   {
    "duration": 1189,
    "start_time": "2022-08-11T16:54:51.168Z"
   },
   {
    "duration": 215,
    "start_time": "2022-08-11T16:54:57.607Z"
   },
   {
    "duration": 160,
    "start_time": "2022-08-11T16:55:27.407Z"
   },
   {
    "duration": 118,
    "start_time": "2022-08-11T16:55:33.183Z"
   },
   {
    "duration": 120,
    "start_time": "2022-08-11T16:55:37.754Z"
   },
   {
    "duration": 153,
    "start_time": "2022-08-11T16:57:39.136Z"
   },
   {
    "duration": 209,
    "start_time": "2022-08-11T16:57:51.064Z"
   },
   {
    "duration": 1157,
    "start_time": "2022-08-11T16:58:04.034Z"
   },
   {
    "duration": 432,
    "start_time": "2022-08-11T16:58:10.908Z"
   },
   {
    "duration": 215,
    "start_time": "2022-08-11T16:58:15.546Z"
   },
   {
    "duration": 212,
    "start_time": "2022-08-11T16:59:25.480Z"
   },
   {
    "duration": 265,
    "start_time": "2022-08-11T17:01:32.480Z"
   },
   {
    "duration": 127,
    "start_time": "2022-08-11T17:09:28.107Z"
   },
   {
    "duration": 209,
    "start_time": "2022-08-11T17:09:36.348Z"
   },
   {
    "duration": 125,
    "start_time": "2022-08-11T17:09:42.914Z"
   },
   {
    "duration": 119,
    "start_time": "2022-08-11T17:09:47.086Z"
   },
   {
    "duration": 7,
    "start_time": "2022-08-11T17:17:34.277Z"
   },
   {
    "duration": 7,
    "start_time": "2022-08-11T17:24:02.848Z"
   },
   {
    "duration": 48,
    "start_time": "2022-08-11T17:24:07.807Z"
   },
   {
    "duration": 14,
    "start_time": "2022-08-11T17:24:32.470Z"
   },
   {
    "duration": 7,
    "start_time": "2022-08-11T17:25:50.131Z"
   },
   {
    "duration": 9,
    "start_time": "2022-08-11T17:25:54.738Z"
   },
   {
    "duration": 12,
    "start_time": "2022-08-11T17:30:56.993Z"
   },
   {
    "duration": 54,
    "start_time": "2022-08-11T17:31:14.483Z"
   },
   {
    "duration": 84,
    "start_time": "2022-08-11T17:31:24.080Z"
   },
   {
    "duration": 7,
    "start_time": "2022-08-11T17:32:50.088Z"
   },
   {
    "duration": 50,
    "start_time": "2022-08-11T17:32:51.908Z"
   },
   {
    "duration": 47,
    "start_time": "2022-08-11T17:33:24.779Z"
   },
   {
    "duration": 17,
    "start_time": "2022-08-11T17:33:37.007Z"
   },
   {
    "duration": 331,
    "start_time": "2022-08-11T17:34:05.491Z"
   },
   {
    "duration": 113,
    "start_time": "2022-08-11T17:34:09.641Z"
   },
   {
    "duration": 215,
    "start_time": "2022-08-11T17:41:11.709Z"
   },
   {
    "duration": 224,
    "start_time": "2022-08-11T17:41:20.789Z"
   },
   {
    "duration": 203,
    "start_time": "2022-08-11T17:41:29.709Z"
   },
   {
    "duration": 211,
    "start_time": "2022-08-11T17:41:35.694Z"
   },
   {
    "duration": 202,
    "start_time": "2022-08-11T17:41:42.081Z"
   },
   {
    "duration": 210,
    "start_time": "2022-08-11T17:42:02.072Z"
   },
   {
    "duration": 161,
    "start_time": "2022-08-11T17:44:12.644Z"
   },
   {
    "duration": 8,
    "start_time": "2022-08-11T17:44:46.512Z"
   },
   {
    "duration": 8,
    "start_time": "2022-08-11T17:44:59.965Z"
   },
   {
    "duration": 6,
    "start_time": "2022-08-11T17:45:21.180Z"
   },
   {
    "duration": 7,
    "start_time": "2022-08-11T17:45:46.596Z"
   },
   {
    "duration": 8,
    "start_time": "2022-08-11T17:45:56.125Z"
   },
   {
    "duration": 146,
    "start_time": "2022-08-11T17:46:01.416Z"
   },
   {
    "duration": 137,
    "start_time": "2022-08-11T17:47:44.214Z"
   },
   {
    "duration": 114,
    "start_time": "2022-08-11T17:49:18.220Z"
   },
   {
    "duration": 353,
    "start_time": "2022-08-11T17:56:54.198Z"
   },
   {
    "duration": 217,
    "start_time": "2022-08-11T17:56:56.334Z"
   },
   {
    "duration": 56,
    "start_time": "2022-08-12T05:57:29.538Z"
   },
   {
    "duration": 887,
    "start_time": "2022-08-12T05:57:34.464Z"
   },
   {
    "duration": 262,
    "start_time": "2022-08-12T05:57:36.024Z"
   },
   {
    "duration": 27,
    "start_time": "2022-08-12T05:57:38.558Z"
   },
   {
    "duration": 22,
    "start_time": "2022-08-12T05:57:41.021Z"
   },
   {
    "duration": 56,
    "start_time": "2022-08-12T05:57:45.526Z"
   },
   {
    "duration": 5,
    "start_time": "2022-08-12T05:57:47.672Z"
   },
   {
    "duration": 3,
    "start_time": "2022-08-12T05:57:49.391Z"
   },
   {
    "duration": 6,
    "start_time": "2022-08-12T05:57:51.581Z"
   },
   {
    "duration": 13,
    "start_time": "2022-08-12T05:57:53.928Z"
   },
   {
    "duration": 31,
    "start_time": "2022-08-12T05:57:56.651Z"
   },
   {
    "duration": 45,
    "start_time": "2022-08-12T05:57:59.222Z"
   },
   {
    "duration": 21,
    "start_time": "2022-08-12T05:58:01.424Z"
   },
   {
    "duration": 7,
    "start_time": "2022-08-12T05:58:03.824Z"
   },
   {
    "duration": 4,
    "start_time": "2022-08-12T05:58:05.326Z"
   },
   {
    "duration": 1046,
    "start_time": "2022-08-12T05:58:07.366Z"
   },
   {
    "duration": 19,
    "start_time": "2022-08-12T05:58:09.774Z"
   },
   {
    "duration": 4,
    "start_time": "2022-08-12T05:58:12.470Z"
   },
   {
    "duration": 12,
    "start_time": "2022-08-12T05:58:14.635Z"
   },
   {
    "duration": 53,
    "start_time": "2022-08-12T05:58:16.131Z"
   },
   {
    "duration": 35,
    "start_time": "2022-08-12T05:58:18.357Z"
   },
   {
    "duration": 28,
    "start_time": "2022-08-12T05:58:21.034Z"
   },
   {
    "duration": 340,
    "start_time": "2022-08-12T05:58:24.447Z"
   },
   {
    "duration": 264,
    "start_time": "2022-08-12T05:58:58.798Z"
   },
   {
    "duration": 70,
    "start_time": "2022-08-12T06:13:51.569Z"
   },
   {
    "duration": 10,
    "start_time": "2022-08-12T06:13:57.037Z"
   },
   {
    "duration": 8,
    "start_time": "2022-08-12T06:14:03.131Z"
   },
   {
    "duration": 12,
    "start_time": "2022-08-12T06:14:20.819Z"
   },
   {
    "duration": 8,
    "start_time": "2022-08-12T06:14:34.254Z"
   },
   {
    "duration": 4,
    "start_time": "2022-08-12T06:15:14.332Z"
   },
   {
    "duration": 4,
    "start_time": "2022-08-12T06:15:25.370Z"
   },
   {
    "duration": 6,
    "start_time": "2022-08-12T06:15:35.125Z"
   },
   {
    "duration": 4,
    "start_time": "2022-08-12T06:15:41.981Z"
   },
   {
    "duration": 10,
    "start_time": "2022-08-12T06:27:33.873Z"
   },
   {
    "duration": 7,
    "start_time": "2022-08-12T06:27:41.067Z"
   },
   {
    "duration": 5,
    "start_time": "2022-08-12T06:27:44.477Z"
   },
   {
    "duration": 4,
    "start_time": "2022-08-12T06:28:05.890Z"
   },
   {
    "duration": 4,
    "start_time": "2022-08-12T06:29:27.823Z"
   },
   {
    "duration": 3,
    "start_time": "2022-08-12T06:30:01.968Z"
   },
   {
    "duration": 19,
    "start_time": "2022-08-12T06:30:54.662Z"
   },
   {
    "duration": 8,
    "start_time": "2022-08-12T06:31:37.261Z"
   },
   {
    "duration": 57,
    "start_time": "2022-08-12T10:05:56.311Z"
   },
   {
    "duration": 798,
    "start_time": "2022-08-12T10:05:59.084Z"
   },
   {
    "duration": 185,
    "start_time": "2022-08-12T10:06:01.523Z"
   },
   {
    "duration": 23,
    "start_time": "2022-08-12T10:06:04.083Z"
   },
   {
    "duration": 19,
    "start_time": "2022-08-12T10:06:06.218Z"
   },
   {
    "duration": 34,
    "start_time": "2022-08-12T10:06:09.327Z"
   },
   {
    "duration": 5,
    "start_time": "2022-08-12T10:06:11.925Z"
   },
   {
    "duration": 4,
    "start_time": "2022-08-12T10:06:13.666Z"
   },
   {
    "duration": 6,
    "start_time": "2022-08-12T10:06:15.052Z"
   },
   {
    "duration": 8,
    "start_time": "2022-08-12T10:06:16.964Z"
   },
   {
    "duration": 29,
    "start_time": "2022-08-12T10:06:19.364Z"
   },
   {
    "duration": 39,
    "start_time": "2022-08-12T10:06:22.178Z"
   },
   {
    "duration": 19,
    "start_time": "2022-08-12T10:06:24.583Z"
   },
   {
    "duration": 8,
    "start_time": "2022-08-12T10:06:26.914Z"
   },
   {
    "duration": 3,
    "start_time": "2022-08-12T10:06:28.284Z"
   },
   {
    "duration": 864,
    "start_time": "2022-08-12T10:06:29.853Z"
   },
   {
    "duration": 17,
    "start_time": "2022-08-12T10:06:32.017Z"
   },
   {
    "duration": 4,
    "start_time": "2022-08-12T10:06:34.403Z"
   },
   {
    "duration": 6,
    "start_time": "2022-08-12T10:06:36.700Z"
   },
   {
    "duration": 45,
    "start_time": "2022-08-12T10:06:38.892Z"
   },
   {
    "duration": 18,
    "start_time": "2022-08-12T10:06:41.652Z"
   },
   {
    "duration": 17,
    "start_time": "2022-08-12T10:06:43.493Z"
   },
   {
    "duration": 226,
    "start_time": "2022-08-12T10:06:47.045Z"
   },
   {
    "duration": 204,
    "start_time": "2022-08-12T10:06:49.487Z"
   },
   {
    "duration": 209,
    "start_time": "2022-08-12T10:06:51.532Z"
   },
   {
    "duration": 130,
    "start_time": "2022-08-12T10:06:53.723Z"
   },
   {
    "duration": 155,
    "start_time": "2022-08-12T10:06:55.729Z"
   },
   {
    "duration": 6,
    "start_time": "2022-08-12T10:07:00.820Z"
   },
   {
    "duration": 3,
    "start_time": "2022-08-12T10:07:04.043Z"
   },
   {
    "duration": 4,
    "start_time": "2022-08-12T10:07:05.331Z"
   },
   {
    "duration": 16,
    "start_time": "2022-08-12T10:07:06.714Z"
   },
   {
    "duration": 44,
    "start_time": "2022-08-12T10:07:08.114Z"
   },
   {
    "duration": 11,
    "start_time": "2022-08-12T10:07:29.383Z"
   },
   {
    "duration": 6,
    "start_time": "2022-08-12T10:07:43.616Z"
   },
   {
    "duration": 3,
    "start_time": "2022-08-12T10:07:47.215Z"
   },
   {
    "duration": 5,
    "start_time": "2022-08-12T10:07:48.821Z"
   },
   {
    "duration": 11,
    "start_time": "2022-08-12T10:07:50.186Z"
   },
   {
    "duration": 8,
    "start_time": "2022-08-12T10:07:52.645Z"
   },
   {
    "duration": 193,
    "start_time": "2022-08-12T10:09:08.762Z"
   },
   {
    "duration": 20,
    "start_time": "2022-08-12T10:09:12.215Z"
   },
   {
    "duration": 26,
    "start_time": "2022-08-12T10:09:19.417Z"
   },
   {
    "duration": 4,
    "start_time": "2022-08-12T10:09:24.369Z"
   },
   {
    "duration": 4,
    "start_time": "2022-08-12T10:09:26.063Z"
   },
   {
    "duration": 12,
    "start_time": "2022-08-12T10:09:27.691Z"
   },
   {
    "duration": 15,
    "start_time": "2022-08-12T10:09:43.122Z"
   },
   {
    "duration": 35,
    "start_time": "2022-08-12T10:09:48.502Z"
   },
   {
    "duration": 4,
    "start_time": "2022-08-12T10:09:51.492Z"
   },
   {
    "duration": 4,
    "start_time": "2022-08-12T10:09:53.122Z"
   },
   {
    "duration": 6,
    "start_time": "2022-08-12T10:09:54.578Z"
   },
   {
    "duration": 8,
    "start_time": "2022-08-12T10:09:56.728Z"
   },
   {
    "duration": 32,
    "start_time": "2022-08-12T10:09:59.251Z"
   },
   {
    "duration": 38,
    "start_time": "2022-08-12T10:10:02.219Z"
   },
   {
    "duration": 26,
    "start_time": "2022-08-12T10:10:05.427Z"
   },
   {
    "duration": 5,
    "start_time": "2022-08-12T10:10:07.643Z"
   },
   {
    "duration": 4,
    "start_time": "2022-08-12T10:10:09.088Z"
   },
   {
    "duration": 794,
    "start_time": "2022-08-12T10:10:11.537Z"
   },
   {
    "duration": 18,
    "start_time": "2022-08-12T10:10:14.715Z"
   },
   {
    "duration": 4,
    "start_time": "2022-08-12T10:10:17.371Z"
   },
   {
    "duration": 7,
    "start_time": "2022-08-12T10:10:18.655Z"
   },
   {
    "duration": 44,
    "start_time": "2022-08-12T10:10:20.856Z"
   },
   {
    "duration": 19,
    "start_time": "2022-08-12T10:10:23.455Z"
   },
   {
    "duration": 17,
    "start_time": "2022-08-12T10:10:27.170Z"
   },
   {
    "duration": 219,
    "start_time": "2022-08-12T10:10:31.203Z"
   },
   {
    "duration": 266,
    "start_time": "2022-08-12T10:10:34.883Z"
   },
   {
    "duration": 22,
    "start_time": "2022-08-12T10:10:38.733Z"
   },
   {
    "duration": 3,
    "start_time": "2022-08-12T10:10:44.145Z"
   },
   {
    "duration": 3,
    "start_time": "2022-08-12T10:10:45.923Z"
   },
   {
    "duration": 11,
    "start_time": "2022-08-12T10:10:48.043Z"
   },
   {
    "duration": 26,
    "start_time": "2022-08-12T10:11:15.139Z"
   },
   {
    "duration": 2,
    "start_time": "2022-08-12T10:11:48.527Z"
   },
   {
    "duration": 140,
    "start_time": "2022-08-12T10:11:50.415Z"
   },
   {
    "duration": 24,
    "start_time": "2022-08-12T10:11:53.143Z"
   },
   {
    "duration": 15,
    "start_time": "2022-08-12T10:11:58.315Z"
   },
   {
    "duration": 34,
    "start_time": "2022-08-12T10:12:01.935Z"
   },
   {
    "duration": 4,
    "start_time": "2022-08-12T10:12:04.015Z"
   },
   {
    "duration": 4,
    "start_time": "2022-08-12T10:12:06.166Z"
   },
   {
    "duration": 6,
    "start_time": "2022-08-12T10:12:07.696Z"
   },
   {
    "duration": 9,
    "start_time": "2022-08-12T10:12:10.015Z"
   },
   {
    "duration": 35,
    "start_time": "2022-08-12T10:12:12.590Z"
   },
   {
    "duration": 38,
    "start_time": "2022-08-12T10:12:15.126Z"
   },
   {
    "duration": 18,
    "start_time": "2022-08-12T10:12:18.103Z"
   },
   {
    "duration": 5,
    "start_time": "2022-08-12T10:12:20.769Z"
   },
   {
    "duration": 4,
    "start_time": "2022-08-12T10:12:22.894Z"
   },
   {
    "duration": 883,
    "start_time": "2022-08-12T10:12:24.793Z"
   },
   {
    "duration": 18,
    "start_time": "2022-08-12T10:12:28.294Z"
   },
   {
    "duration": 4,
    "start_time": "2022-08-12T10:12:30.873Z"
   },
   {
    "duration": 9,
    "start_time": "2022-08-12T10:12:32.663Z"
   },
   {
    "duration": 44,
    "start_time": "2022-08-12T10:12:34.717Z"
   },
   {
    "duration": 20,
    "start_time": "2022-08-12T10:12:37.167Z"
   },
   {
    "duration": 18,
    "start_time": "2022-08-12T10:12:39.382Z"
   },
   {
    "duration": 236,
    "start_time": "2022-08-12T10:12:43.260Z"
   },
   {
    "duration": 226,
    "start_time": "2022-08-12T10:12:45.668Z"
   },
   {
    "duration": 209,
    "start_time": "2022-08-12T10:12:47.991Z"
   },
   {
    "duration": 137,
    "start_time": "2022-08-12T10:12:50.101Z"
   },
   {
    "duration": 121,
    "start_time": "2022-08-12T10:12:52.221Z"
   },
   {
    "duration": 22,
    "start_time": "2022-08-12T10:12:55.831Z"
   },
   {
    "duration": 3,
    "start_time": "2022-08-12T10:13:00.103Z"
   },
   {
    "duration": 4,
    "start_time": "2022-08-12T10:13:01.895Z"
   },
   {
    "duration": 7,
    "start_time": "2022-08-12T10:13:12.716Z"
   },
   {
    "duration": 4,
    "start_time": "2022-08-12T10:13:14.767Z"
   },
   {
    "duration": 3,
    "start_time": "2022-08-12T10:13:16.528Z"
   },
   {
    "duration": 15,
    "start_time": "2022-08-12T10:13:18.220Z"
   },
   {
    "duration": 11,
    "start_time": "2022-08-12T10:23:30.490Z"
   },
   {
    "duration": 232,
    "start_time": "2022-08-12T10:23:37.657Z"
   },
   {
    "duration": 298,
    "start_time": "2022-08-12T10:23:40.419Z"
   },
   {
    "duration": 231,
    "start_time": "2022-08-12T10:23:42.683Z"
   },
   {
    "duration": 132,
    "start_time": "2022-08-12T10:23:45.783Z"
   },
   {
    "duration": 110,
    "start_time": "2022-08-12T10:23:48.129Z"
   },
   {
    "duration": 6,
    "start_time": "2022-08-12T10:23:50.971Z"
   },
   {
    "duration": 3,
    "start_time": "2022-08-12T10:23:54.267Z"
   },
   {
    "duration": 136,
    "start_time": "2022-08-12T10:23:55.722Z"
   },
   {
    "duration": 23,
    "start_time": "2022-08-12T10:23:57.775Z"
   },
   {
    "duration": 14,
    "start_time": "2022-08-12T10:23:59.916Z"
   },
   {
    "duration": 37,
    "start_time": "2022-08-12T10:24:03.428Z"
   },
   {
    "duration": 6,
    "start_time": "2022-08-12T10:24:05.427Z"
   },
   {
    "duration": 4,
    "start_time": "2022-08-12T10:24:07.378Z"
   },
   {
    "duration": 6,
    "start_time": "2022-08-12T10:24:08.547Z"
   },
   {
    "duration": 9,
    "start_time": "2022-08-12T10:24:10.650Z"
   },
   {
    "duration": 28,
    "start_time": "2022-08-12T10:24:12.803Z"
   },
   {
    "duration": 37,
    "start_time": "2022-08-12T10:24:15.130Z"
   },
   {
    "duration": 18,
    "start_time": "2022-08-12T10:24:17.180Z"
   },
   {
    "duration": 5,
    "start_time": "2022-08-12T10:24:19.350Z"
   },
   {
    "duration": 4,
    "start_time": "2022-08-12T10:24:21.109Z"
   },
   {
    "duration": 907,
    "start_time": "2022-08-12T10:24:22.816Z"
   },
   {
    "duration": 19,
    "start_time": "2022-08-12T10:24:25.010Z"
   },
   {
    "duration": 5,
    "start_time": "2022-08-12T10:24:27.522Z"
   },
   {
    "duration": 7,
    "start_time": "2022-08-12T10:24:28.851Z"
   },
   {
    "duration": 40,
    "start_time": "2022-08-12T10:24:30.723Z"
   },
   {
    "duration": 20,
    "start_time": "2022-08-12T10:24:33.601Z"
   },
   {
    "duration": 17,
    "start_time": "2022-08-12T10:24:36.250Z"
   },
   {
    "duration": 218,
    "start_time": "2022-08-12T10:24:39.303Z"
   },
   {
    "duration": 213,
    "start_time": "2022-08-12T10:24:41.379Z"
   },
   {
    "duration": 209,
    "start_time": "2022-08-12T10:24:43.579Z"
   },
   {
    "duration": 156,
    "start_time": "2022-08-12T10:24:46.004Z"
   },
   {
    "duration": 114,
    "start_time": "2022-08-12T10:24:48.051Z"
   },
   {
    "duration": 7,
    "start_time": "2022-08-12T10:24:50.745Z"
   },
   {
    "duration": 3,
    "start_time": "2022-08-12T10:24:52.819Z"
   },
   {
    "duration": 4,
    "start_time": "2022-08-12T10:24:54.059Z"
   },
   {
    "duration": 17,
    "start_time": "2022-08-12T10:24:55.459Z"
   },
   {
    "duration": 16,
    "start_time": "2022-08-12T10:24:58.990Z"
   },
   {
    "duration": 3,
    "start_time": "2022-08-12T10:25:20.337Z"
   },
   {
    "duration": 12,
    "start_time": "2022-08-12T10:25:36.008Z"
   },
   {
    "duration": 5,
    "start_time": "2022-08-12T10:25:38.171Z"
   },
   {
    "duration": 3,
    "start_time": "2022-08-12T10:25:44.149Z"
   },
   {
    "duration": 126,
    "start_time": "2022-08-12T10:25:48.280Z"
   },
   {
    "duration": 22,
    "start_time": "2022-08-12T10:25:48.415Z"
   },
   {
    "duration": 103,
    "start_time": "2022-08-12T10:25:50.072Z"
   },
   {
    "duration": 15,
    "start_time": "2022-08-12T10:25:53.706Z"
   },
   {
    "duration": 34,
    "start_time": "2022-08-12T10:25:57.191Z"
   },
   {
    "duration": 5,
    "start_time": "2022-08-12T10:26:00.121Z"
   },
   {
    "duration": 4,
    "start_time": "2022-08-12T10:26:02.425Z"
   },
   {
    "duration": 7,
    "start_time": "2022-08-12T10:26:03.775Z"
   },
   {
    "duration": 13,
    "start_time": "2022-08-12T10:26:06.088Z"
   },
   {
    "duration": 44,
    "start_time": "2022-08-12T10:26:08.650Z"
   },
   {
    "duration": 41,
    "start_time": "2022-08-12T10:26:11.870Z"
   },
   {
    "duration": 18,
    "start_time": "2022-08-12T10:26:13.943Z"
   },
   {
    "duration": 6,
    "start_time": "2022-08-12T10:26:16.778Z"
   },
   {
    "duration": 4,
    "start_time": "2022-08-12T10:26:18.307Z"
   },
   {
    "duration": 17,
    "start_time": "2022-08-12T10:26:20.871Z"
   },
   {
    "duration": 1192,
    "start_time": "2022-08-12T10:26:23.458Z"
   },
   {
    "duration": 7,
    "start_time": "2022-08-12T10:26:24.842Z"
   },
   {
    "duration": 945,
    "start_time": "2022-08-12T10:26:26.451Z"
   },
   {
    "duration": 1109,
    "start_time": "2022-08-12T10:26:35.668Z"
   },
   {
    "duration": 844,
    "start_time": "2022-08-12T10:26:39.292Z"
   },
   {
    "duration": 18,
    "start_time": "2022-08-12T10:26:41.947Z"
   },
   {
    "duration": 4,
    "start_time": "2022-08-12T10:26:46.498Z"
   },
   {
    "duration": 7,
    "start_time": "2022-08-12T10:26:53.832Z"
   },
   {
    "duration": 43,
    "start_time": "2022-08-12T10:26:55.875Z"
   },
   {
    "duration": 20,
    "start_time": "2022-08-12T10:27:00.558Z"
   },
   {
    "duration": 17,
    "start_time": "2022-08-12T10:27:05.486Z"
   },
   {
    "duration": 213,
    "start_time": "2022-08-12T10:27:08.503Z"
   },
   {
    "duration": 298,
    "start_time": "2022-08-12T10:27:10.874Z"
   },
   {
    "duration": 216,
    "start_time": "2022-08-12T10:27:13.385Z"
   },
   {
    "duration": 130,
    "start_time": "2022-08-12T10:27:15.518Z"
   },
   {
    "duration": 112,
    "start_time": "2022-08-12T10:27:17.972Z"
   },
   {
    "duration": 5,
    "start_time": "2022-08-12T10:27:39.930Z"
   },
   {
    "duration": 5,
    "start_time": "2022-08-12T10:27:44.011Z"
   },
   {
    "duration": 3,
    "start_time": "2022-08-12T10:27:45.658Z"
   },
   {
    "duration": 15,
    "start_time": "2022-08-12T10:27:47.786Z"
   },
   {
    "duration": 6,
    "start_time": "2022-08-12T10:37:32.211Z"
   },
   {
    "duration": 11,
    "start_time": "2022-08-12T10:37:35.183Z"
   },
   {
    "duration": 129,
    "start_time": "2022-08-12T10:37:40.377Z"
   },
   {
    "duration": 21,
    "start_time": "2022-08-12T10:37:42.208Z"
   },
   {
    "duration": 16,
    "start_time": "2022-08-12T10:37:44.608Z"
   },
   {
    "duration": 39,
    "start_time": "2022-08-12T10:37:47.859Z"
   },
   {
    "duration": 6,
    "start_time": "2022-08-12T10:37:50.180Z"
   },
   {
    "duration": 3,
    "start_time": "2022-08-12T10:37:52.018Z"
   },
   {
    "duration": 7,
    "start_time": "2022-08-12T10:37:53.456Z"
   },
   {
    "duration": 9,
    "start_time": "2022-08-12T10:37:55.635Z"
   },
   {
    "duration": 31,
    "start_time": "2022-08-12T10:37:57.808Z"
   },
   {
    "duration": 40,
    "start_time": "2022-08-12T10:38:00.347Z"
   },
   {
    "duration": 27,
    "start_time": "2022-08-12T10:38:02.298Z"
   },
   {
    "duration": 5,
    "start_time": "2022-08-12T10:38:04.425Z"
   },
   {
    "duration": 4,
    "start_time": "2022-08-12T10:38:06.502Z"
   },
   {
    "duration": 970,
    "start_time": "2022-08-12T10:38:08.059Z"
   },
   {
    "duration": 20,
    "start_time": "2022-08-12T10:38:10.347Z"
   },
   {
    "duration": 4,
    "start_time": "2022-08-12T10:38:13.059Z"
   },
   {
    "duration": 7,
    "start_time": "2022-08-12T10:38:15.305Z"
   },
   {
    "duration": 40,
    "start_time": "2022-08-12T10:38:16.832Z"
   },
   {
    "duration": 22,
    "start_time": "2022-08-12T10:38:19.018Z"
   },
   {
    "duration": 28,
    "start_time": "2022-08-12T10:38:20.957Z"
   },
   {
    "duration": 7,
    "start_time": "2022-08-12T10:38:29.130Z"
   },
   {
    "duration": 3,
    "start_time": "2022-08-12T10:38:32.153Z"
   },
   {
    "duration": 6,
    "start_time": "2022-08-12T10:38:33.588Z"
   },
   {
    "duration": 21,
    "start_time": "2022-08-12T10:38:35.090Z"
   },
   {
    "duration": 20,
    "start_time": "2022-08-12T10:38:39.617Z"
   },
   {
    "duration": 15,
    "start_time": "2022-08-12T10:40:32.253Z"
   },
   {
    "duration": 10,
    "start_time": "2022-08-12T10:40:55.497Z"
   },
   {
    "duration": 3,
    "start_time": "2022-08-12T10:41:03.376Z"
   },
   {
    "duration": 153,
    "start_time": "2022-08-12T10:41:04.850Z"
   },
   {
    "duration": 21,
    "start_time": "2022-08-12T10:41:07.729Z"
   },
   {
    "duration": 21,
    "start_time": "2022-08-12T10:41:09.815Z"
   },
   {
    "duration": 33,
    "start_time": "2022-08-12T10:41:12.956Z"
   },
   {
    "duration": 6,
    "start_time": "2022-08-12T10:41:15.050Z"
   },
   {
    "duration": 4,
    "start_time": "2022-08-12T10:41:17.233Z"
   },
   {
    "duration": 7,
    "start_time": "2022-08-12T10:41:18.551Z"
   },
   {
    "duration": 8,
    "start_time": "2022-08-12T10:41:20.627Z"
   },
   {
    "duration": 28,
    "start_time": "2022-08-12T10:41:23.097Z"
   },
   {
    "duration": 38,
    "start_time": "2022-08-12T10:41:25.673Z"
   },
   {
    "duration": 19,
    "start_time": "2022-08-12T10:41:27.941Z"
   },
   {
    "duration": 5,
    "start_time": "2022-08-12T10:41:30.387Z"
   },
   {
    "duration": 4,
    "start_time": "2022-08-12T10:41:32.225Z"
   },
   {
    "duration": 839,
    "start_time": "2022-08-12T10:41:34.378Z"
   },
   {
    "duration": 18,
    "start_time": "2022-08-12T10:41:36.369Z"
   },
   {
    "duration": 4,
    "start_time": "2022-08-12T10:41:39.409Z"
   },
   {
    "duration": 6,
    "start_time": "2022-08-12T10:41:40.859Z"
   },
   {
    "duration": 39,
    "start_time": "2022-08-12T10:41:42.905Z"
   },
   {
    "duration": 19,
    "start_time": "2022-08-12T10:41:45.369Z"
   },
   {
    "duration": 18,
    "start_time": "2022-08-12T10:41:47.849Z"
   },
   {
    "duration": 222,
    "start_time": "2022-08-12T10:41:51.394Z"
   },
   {
    "duration": 12,
    "start_time": "2022-08-12T10:41:56.394Z"
   },
   {
    "duration": 4,
    "start_time": "2022-08-12T10:42:40.133Z"
   },
   {
    "duration": 5,
    "start_time": "2022-08-12T10:43:09.297Z"
   },
   {
    "duration": 24,
    "start_time": "2022-08-12T10:43:33.956Z"
   },
   {
    "duration": 12,
    "start_time": "2022-08-12T11:12:20.183Z"
   },
   {
    "duration": 10,
    "start_time": "2022-08-12T11:12:43.536Z"
   },
   {
    "duration": 12,
    "start_time": "2022-08-12T11:12:56.079Z"
   },
   {
    "duration": 12,
    "start_time": "2022-08-12T11:55:31.216Z"
   },
   {
    "duration": 238,
    "start_time": "2022-08-12T12:00:20.302Z"
   },
   {
    "duration": 43,
    "start_time": "2022-08-13T09:34:10.007Z"
   },
   {
    "duration": 757,
    "start_time": "2022-08-13T09:34:15.736Z"
   },
   {
    "duration": 178,
    "start_time": "2022-08-13T09:34:17.446Z"
   },
   {
    "duration": 114,
    "start_time": "2022-08-13T09:34:20.476Z"
   },
   {
    "duration": 23,
    "start_time": "2022-08-13T09:34:22.685Z"
   },
   {
    "duration": 20,
    "start_time": "2022-08-13T09:34:24.647Z"
   },
   {
    "duration": 40,
    "start_time": "2022-08-13T09:34:27.957Z"
   },
   {
    "duration": 5,
    "start_time": "2022-08-13T09:34:30.000Z"
   },
   {
    "duration": 3,
    "start_time": "2022-08-13T09:34:31.608Z"
   },
   {
    "duration": 5,
    "start_time": "2022-08-13T09:34:33.198Z"
   },
   {
    "duration": 8,
    "start_time": "2022-08-13T09:34:35.218Z"
   },
   {
    "duration": 29,
    "start_time": "2022-08-13T09:34:38.469Z"
   },
   {
    "duration": 45,
    "start_time": "2022-08-13T09:34:41.003Z"
   },
   {
    "duration": 18,
    "start_time": "2022-08-13T09:34:42.785Z"
   },
   {
    "duration": 5,
    "start_time": "2022-08-13T09:34:44.843Z"
   },
   {
    "duration": 4,
    "start_time": "2022-08-13T09:34:47.157Z"
   },
   {
    "duration": 775,
    "start_time": "2022-08-13T09:34:49.514Z"
   },
   {
    "duration": 17,
    "start_time": "2022-08-13T09:34:52.236Z"
   },
   {
    "duration": 4,
    "start_time": "2022-08-13T09:34:54.836Z"
   },
   {
    "duration": 6,
    "start_time": "2022-08-13T09:34:57.100Z"
   },
   {
    "duration": 50,
    "start_time": "2022-08-13T09:34:59.332Z"
   },
   {
    "duration": 21,
    "start_time": "2022-08-13T09:35:01.807Z"
   },
   {
    "duration": 17,
    "start_time": "2022-08-13T09:35:03.723Z"
   },
   {
    "duration": 239,
    "start_time": "2022-08-13T09:35:06.679Z"
   },
   {
    "duration": 235,
    "start_time": "2022-08-13T09:35:19.849Z"
   },
   {
    "duration": 743,
    "start_time": "2022-08-14T13:57:19.433Z"
   },
   {
    "duration": 191,
    "start_time": "2022-08-14T13:57:22.266Z"
   },
   {
    "duration": 22,
    "start_time": "2022-08-14T13:57:25.848Z"
   },
   {
    "duration": 19,
    "start_time": "2022-08-14T13:57:28.033Z"
   },
   {
    "duration": 54,
    "start_time": "2022-08-14T13:58:12.719Z"
   },
   {
    "duration": 5,
    "start_time": "2022-08-14T13:58:14.744Z"
   },
   {
    "duration": 4,
    "start_time": "2022-08-14T13:58:16.434Z"
   },
   {
    "duration": 7,
    "start_time": "2022-08-14T13:58:17.816Z"
   },
   {
    "duration": 9,
    "start_time": "2022-08-14T13:58:20.154Z"
   },
   {
    "duration": 26,
    "start_time": "2022-08-14T13:58:22.963Z"
   },
   {
    "duration": 41,
    "start_time": "2022-08-14T13:58:25.100Z"
   },
   {
    "duration": 18,
    "start_time": "2022-08-14T13:58:27.269Z"
   },
   {
    "duration": 5,
    "start_time": "2022-08-14T13:58:31.937Z"
   },
   {
    "duration": 4,
    "start_time": "2022-08-14T13:58:33.360Z"
   },
   {
    "duration": 764,
    "start_time": "2022-08-14T13:58:35.507Z"
   },
   {
    "duration": 17,
    "start_time": "2022-08-14T13:58:37.484Z"
   },
   {
    "duration": 5,
    "start_time": "2022-08-14T13:58:40.036Z"
   },
   {
    "duration": 8,
    "start_time": "2022-08-14T13:58:41.532Z"
   },
   {
    "duration": 45,
    "start_time": "2022-08-14T13:58:43.218Z"
   },
   {
    "duration": 21,
    "start_time": "2022-08-14T13:58:46.094Z"
   },
   {
    "duration": 17,
    "start_time": "2022-08-14T13:58:48.474Z"
   },
   {
    "duration": 240,
    "start_time": "2022-08-14T13:58:51.675Z"
   },
   {
    "duration": 234,
    "start_time": "2022-08-14T13:58:53.836Z"
   },
   {
    "duration": 222,
    "start_time": "2022-08-14T13:58:56.290Z"
   },
   {
    "duration": 131,
    "start_time": "2022-08-14T13:58:58.558Z"
   },
   {
    "duration": 202,
    "start_time": "2022-08-14T13:59:00.643Z"
   },
   {
    "duration": 12,
    "start_time": "2022-08-14T13:59:05.275Z"
   },
   {
    "duration": 5,
    "start_time": "2022-08-14T13:59:07.847Z"
   },
   {
    "duration": 5,
    "start_time": "2022-08-14T13:59:09.765Z"
   },
   {
    "duration": 86,
    "start_time": "2022-08-14T13:59:12.299Z"
   },
   {
    "duration": 4,
    "start_time": "2022-08-14T13:59:52.595Z"
   },
   {
    "duration": 259,
    "start_time": "2022-08-14T14:10:57.518Z"
   },
   {
    "duration": 226,
    "start_time": "2022-08-14T14:11:10.615Z"
   },
   {
    "duration": 138,
    "start_time": "2022-08-14T14:11:16.564Z"
   },
   {
    "duration": 133,
    "start_time": "2022-08-14T14:12:39.797Z"
   },
   {
    "duration": 239,
    "start_time": "2022-08-14T14:13:11.062Z"
   },
   {
    "duration": 117,
    "start_time": "2022-08-14T14:14:13.356Z"
   },
   {
    "duration": 120,
    "start_time": "2022-08-14T14:14:58.143Z"
   },
   {
    "duration": 7,
    "start_time": "2022-08-14T14:18:43.673Z"
   },
   {
    "duration": 4,
    "start_time": "2022-08-14T14:19:04.452Z"
   },
   {
    "duration": 4,
    "start_time": "2022-08-14T14:19:05.971Z"
   },
   {
    "duration": 11,
    "start_time": "2022-08-14T14:19:08.056Z"
   },
   {
    "duration": 4,
    "start_time": "2022-08-14T14:19:18.663Z"
   },
   {
    "duration": 11,
    "start_time": "2022-08-14T14:19:48.267Z"
   },
   {
    "duration": 915,
    "start_time": "2022-08-14T17:40:23.801Z"
   },
   {
    "duration": 466,
    "start_time": "2022-08-14T17:40:27.068Z"
   },
   {
    "duration": 26,
    "start_time": "2022-08-14T17:40:30.157Z"
   },
   {
    "duration": 22,
    "start_time": "2022-08-14T17:40:32.620Z"
   },
   {
    "duration": 50,
    "start_time": "2022-08-14T17:40:36.490Z"
   },
   {
    "duration": 5,
    "start_time": "2022-08-14T17:40:38.830Z"
   },
   {
    "duration": 4,
    "start_time": "2022-08-14T17:40:40.551Z"
   },
   {
    "duration": 6,
    "start_time": "2022-08-14T17:40:41.900Z"
   },
   {
    "duration": 10,
    "start_time": "2022-08-14T17:40:43.652Z"
   },
   {
    "duration": 32,
    "start_time": "2022-08-14T17:40:46.099Z"
   },
   {
    "duration": 49,
    "start_time": "2022-08-14T17:40:48.177Z"
   },
   {
    "duration": 27,
    "start_time": "2022-08-14T17:40:49.777Z"
   },
   {
    "duration": 7,
    "start_time": "2022-08-14T17:40:52.016Z"
   },
   {
    "duration": 4,
    "start_time": "2022-08-14T17:40:53.997Z"
   },
   {
    "duration": 921,
    "start_time": "2022-08-14T17:40:55.492Z"
   },
   {
    "duration": 27,
    "start_time": "2022-08-14T17:40:57.516Z"
   },
   {
    "duration": 5,
    "start_time": "2022-08-14T17:41:00.048Z"
   },
   {
    "duration": 7,
    "start_time": "2022-08-14T17:41:01.536Z"
   },
   {
    "duration": 51,
    "start_time": "2022-08-14T17:41:02.817Z"
   },
   {
    "duration": 21,
    "start_time": "2022-08-14T17:41:05.369Z"
   },
   {
    "duration": 20,
    "start_time": "2022-08-14T17:41:07.377Z"
   },
   {
    "duration": 317,
    "start_time": "2022-08-14T17:41:10.257Z"
   },
   {
    "duration": 163,
    "start_time": "2022-08-14T17:41:12.430Z"
   },
   {
    "duration": 261,
    "start_time": "2022-08-14T17:41:14.696Z"
   },
   {
    "duration": 140,
    "start_time": "2022-08-14T17:41:16.888Z"
   },
   {
    "duration": 363,
    "start_time": "2022-08-14T17:41:19.292Z"
   },
   {
    "duration": 150,
    "start_time": "2022-08-14T17:41:22.128Z"
   },
   {
    "duration": 167,
    "start_time": "2022-08-14T17:41:24.494Z"
   },
   {
    "duration": 188,
    "start_time": "2022-08-14T17:41:26.476Z"
   },
   {
    "duration": 10,
    "start_time": "2022-08-14T17:41:32.013Z"
   },
   {
    "duration": 5,
    "start_time": "2022-08-14T17:41:37.008Z"
   },
   {
    "duration": 5,
    "start_time": "2022-08-14T17:41:38.288Z"
   },
   {
    "duration": 22,
    "start_time": "2022-08-14T17:42:01.377Z"
   },
   {
    "duration": 11,
    "start_time": "2022-08-14T17:42:31.224Z"
   },
   {
    "duration": 11,
    "start_time": "2022-08-14T17:42:34.625Z"
   },
   {
    "duration": 116,
    "start_time": "2022-08-14T17:42:40.182Z"
   },
   {
    "duration": 11,
    "start_time": "2022-08-14T17:42:46.048Z"
   },
   {
    "duration": 21,
    "start_time": "2022-08-14T18:09:48.946Z"
   },
   {
    "duration": 8,
    "start_time": "2022-08-14T18:10:38.795Z"
   },
   {
    "duration": 24,
    "start_time": "2022-08-14T18:10:43.848Z"
   },
   {
    "duration": 4,
    "start_time": "2022-08-14T18:10:46.124Z"
   },
   {
    "duration": 4,
    "start_time": "2022-08-14T18:11:50.460Z"
   },
   {
    "duration": 22,
    "start_time": "2022-08-14T18:11:54.075Z"
   },
   {
    "duration": 4,
    "start_time": "2022-08-14T18:11:56.067Z"
   },
   {
    "duration": 3,
    "start_time": "2022-08-14T18:12:02.888Z"
   },
   {
    "duration": 157,
    "start_time": "2022-08-14T18:12:04.329Z"
   },
   {
    "duration": 29,
    "start_time": "2022-08-14T18:12:06.700Z"
   },
   {
    "duration": 18,
    "start_time": "2022-08-14T18:12:08.541Z"
   },
   {
    "duration": 36,
    "start_time": "2022-08-14T18:12:12.028Z"
   },
   {
    "duration": 5,
    "start_time": "2022-08-14T18:12:14.064Z"
   },
   {
    "duration": 4,
    "start_time": "2022-08-14T18:12:15.844Z"
   },
   {
    "duration": 6,
    "start_time": "2022-08-14T18:12:17.069Z"
   },
   {
    "duration": 11,
    "start_time": "2022-08-14T18:12:19.059Z"
   },
   {
    "duration": 31,
    "start_time": "2022-08-14T18:12:21.277Z"
   },
   {
    "duration": 50,
    "start_time": "2022-08-14T18:12:23.780Z"
   },
   {
    "duration": 30,
    "start_time": "2022-08-14T18:12:25.960Z"
   },
   {
    "duration": 5,
    "start_time": "2022-08-14T18:12:28.398Z"
   },
   {
    "duration": 5,
    "start_time": "2022-08-14T18:12:29.744Z"
   },
   {
    "duration": 21,
    "start_time": "2022-08-14T18:12:31.748Z"
   },
   {
    "duration": 1301,
    "start_time": "2022-08-14T18:12:34.019Z"
   },
   {
    "duration": 0,
    "start_time": "2022-08-14T18:12:35.322Z"
   },
   {
    "duration": 1220,
    "start_time": "2022-08-14T18:12:37.347Z"
   },
   {
    "duration": 963,
    "start_time": "2022-08-14T18:12:47.369Z"
   },
   {
    "duration": 22,
    "start_time": "2022-08-14T18:12:49.619Z"
   },
   {
    "duration": 5,
    "start_time": "2022-08-14T18:12:52.085Z"
   },
   {
    "duration": 7,
    "start_time": "2022-08-14T18:12:55.108Z"
   },
   {
    "duration": 56,
    "start_time": "2022-08-14T18:12:56.626Z"
   },
   {
    "duration": 21,
    "start_time": "2022-08-14T18:12:58.781Z"
   },
   {
    "duration": 21,
    "start_time": "2022-08-14T18:13:00.988Z"
   },
   {
    "duration": 278,
    "start_time": "2022-08-14T18:13:03.819Z"
   },
   {
    "duration": 155,
    "start_time": "2022-08-14T18:13:05.744Z"
   },
   {
    "duration": 267,
    "start_time": "2022-08-14T18:13:08.065Z"
   },
   {
    "duration": 148,
    "start_time": "2022-08-14T18:13:09.862Z"
   },
   {
    "duration": 274,
    "start_time": "2022-08-14T18:13:17.400Z"
   },
   {
    "duration": 156,
    "start_time": "2022-08-14T18:13:17.677Z"
   },
   {
    "duration": 246,
    "start_time": "2022-08-14T18:13:24.304Z"
   },
   {
    "duration": 142,
    "start_time": "2022-08-14T18:13:26.268Z"
   },
   {
    "duration": 3,
    "start_time": "2022-08-14T18:13:30.626Z"
   },
   {
    "duration": 16,
    "start_time": "2022-08-14T18:14:21.861Z"
   },
   {
    "duration": 21,
    "start_time": "2022-08-14T18:14:25.629Z"
   },
   {
    "duration": 10,
    "start_time": "2022-08-14T18:14:31.884Z"
   },
   {
    "duration": 4,
    "start_time": "2022-08-14T18:14:33.067Z"
   },
   {
    "duration": 15,
    "start_time": "2022-08-14T18:14:36.635Z"
   },
   {
    "duration": 3,
    "start_time": "2022-08-14T18:15:03.829Z"
   },
   {
    "duration": 7,
    "start_time": "2022-08-14T18:15:05.876Z"
   },
   {
    "duration": 7,
    "start_time": "2022-08-14T18:15:07.041Z"
   },
   {
    "duration": 13,
    "start_time": "2022-08-14T18:15:08.861Z"
   },
   {
    "duration": 10,
    "start_time": "2022-08-14T18:15:10.729Z"
   },
   {
    "duration": 276,
    "start_time": "2022-08-14T18:19:03.573Z"
   },
   {
    "duration": 172,
    "start_time": "2022-08-14T18:19:05.978Z"
   },
   {
    "duration": 9,
    "start_time": "2022-08-14T18:19:55.539Z"
   },
   {
    "duration": 9,
    "start_time": "2022-08-14T18:19:56.977Z"
   },
   {
    "duration": 15,
    "start_time": "2022-08-14T18:19:58.494Z"
   },
   {
    "duration": 11,
    "start_time": "2022-08-14T18:19:59.948Z"
   },
   {
    "duration": 311,
    "start_time": "2022-08-14T18:20:22.041Z"
   },
   {
    "duration": 175,
    "start_time": "2022-08-14T18:20:41.269Z"
   },
   {
    "duration": 154,
    "start_time": "2022-08-14T18:20:51.158Z"
   },
   {
    "duration": 258,
    "start_time": "2022-08-14T18:21:27.941Z"
   },
   {
    "duration": 377,
    "start_time": "2022-08-14T18:21:35.266Z"
   },
   {
    "duration": 261,
    "start_time": "2022-08-14T18:21:41.142Z"
   },
   {
    "duration": 133,
    "start_time": "2022-08-14T18:22:02.893Z"
   },
   {
    "duration": 3,
    "start_time": "2022-08-14T18:22:49.242Z"
   },
   {
    "duration": 16,
    "start_time": "2022-08-14T18:23:00.296Z"
   },
   {
    "duration": 271,
    "start_time": "2022-08-14T18:23:28.500Z"
   },
   {
    "duration": 269,
    "start_time": "2022-08-14T18:23:57.502Z"
   },
   {
    "duration": 131,
    "start_time": "2022-08-14T18:24:17.238Z"
   },
   {
    "duration": 15,
    "start_time": "2022-08-14T18:24:34.946Z"
   },
   {
    "duration": 3,
    "start_time": "2022-08-14T18:31:18.252Z"
   },
   {
    "duration": 158,
    "start_time": "2022-08-14T18:31:19.675Z"
   },
   {
    "duration": 25,
    "start_time": "2022-08-14T18:31:21.587Z"
   },
   {
    "duration": 17,
    "start_time": "2022-08-14T18:31:23.814Z"
   },
   {
    "duration": 35,
    "start_time": "2022-08-14T18:31:31.347Z"
   },
   {
    "duration": 5,
    "start_time": "2022-08-14T18:31:33.946Z"
   },
   {
    "duration": 3,
    "start_time": "2022-08-14T18:31:35.851Z"
   },
   {
    "duration": 4,
    "start_time": "2022-08-14T18:31:39.614Z"
   },
   {
    "duration": 6,
    "start_time": "2022-08-14T18:31:40.984Z"
   },
   {
    "duration": 10,
    "start_time": "2022-08-14T18:31:43.215Z"
   },
   {
    "duration": 31,
    "start_time": "2022-08-14T18:31:45.667Z"
   },
   {
    "duration": 162,
    "start_time": "2022-08-14T18:31:48.147Z"
   },
   {
    "duration": 22,
    "start_time": "2022-08-14T18:31:50.432Z"
   },
   {
    "duration": 6,
    "start_time": "2022-08-14T18:31:52.749Z"
   },
   {
    "duration": 4,
    "start_time": "2022-08-14T18:31:54.619Z"
   },
   {
    "duration": 866,
    "start_time": "2022-08-14T18:31:57.832Z"
   },
   {
    "duration": 3,
    "start_time": "2022-08-14T18:41:02.218Z"
   },
   {
    "duration": 175,
    "start_time": "2022-08-14T18:41:04.013Z"
   },
   {
    "duration": 33,
    "start_time": "2022-08-14T18:41:06.685Z"
   },
   {
    "duration": 17,
    "start_time": "2022-08-14T18:41:08.402Z"
   },
   {
    "duration": 38,
    "start_time": "2022-08-14T18:41:11.756Z"
   },
   {
    "duration": 5,
    "start_time": "2022-08-14T18:41:14.118Z"
   },
   {
    "duration": 4,
    "start_time": "2022-08-14T18:41:15.445Z"
   },
   {
    "duration": 7,
    "start_time": "2022-08-14T18:41:16.600Z"
   },
   {
    "duration": 9,
    "start_time": "2022-08-14T18:41:18.658Z"
   },
   {
    "duration": 32,
    "start_time": "2022-08-14T18:41:21.004Z"
   },
   {
    "duration": 49,
    "start_time": "2022-08-14T18:41:23.206Z"
   },
   {
    "duration": 21,
    "start_time": "2022-08-14T18:41:25.318Z"
   },
   {
    "duration": 5,
    "start_time": "2022-08-14T18:41:27.645Z"
   },
   {
    "duration": 4,
    "start_time": "2022-08-14T18:41:28.822Z"
   },
   {
    "duration": 998,
    "start_time": "2022-08-14T18:41:30.500Z"
   },
   {
    "duration": 20,
    "start_time": "2022-08-14T18:41:32.725Z"
   },
   {
    "duration": 4,
    "start_time": "2022-08-14T18:41:35.337Z"
   },
   {
    "duration": 7,
    "start_time": "2022-08-14T18:41:37.778Z"
   },
   {
    "duration": 47,
    "start_time": "2022-08-14T18:41:39.301Z"
   },
   {
    "duration": 21,
    "start_time": "2022-08-14T18:41:43.420Z"
   },
   {
    "duration": 20,
    "start_time": "2022-08-14T18:41:45.870Z"
   },
   {
    "duration": 277,
    "start_time": "2022-08-14T18:41:49.436Z"
   },
   {
    "duration": 154,
    "start_time": "2022-08-14T18:41:51.645Z"
   },
   {
    "duration": 252,
    "start_time": "2022-08-14T18:41:54.357Z"
   },
   {
    "duration": 180,
    "start_time": "2022-08-14T18:41:56.542Z"
   },
   {
    "duration": 414,
    "start_time": "2022-08-14T18:41:59.289Z"
   },
   {
    "duration": 151,
    "start_time": "2022-08-14T18:42:01.835Z"
   },
   {
    "duration": 167,
    "start_time": "2022-08-14T18:42:04.438Z"
   },
   {
    "duration": 189,
    "start_time": "2022-08-14T18:42:06.609Z"
   },
   {
    "duration": 3,
    "start_time": "2022-08-14T18:42:09.836Z"
   },
   {
    "duration": 9,
    "start_time": "2022-08-14T18:42:11.301Z"
   },
   {
    "duration": 8,
    "start_time": "2022-08-14T18:42:12.901Z"
   },
   {
    "duration": 14,
    "start_time": "2022-08-14T18:42:14.376Z"
   },
   {
    "duration": 3,
    "start_time": "2022-08-14T18:50:24.064Z"
   },
   {
    "duration": 192,
    "start_time": "2022-08-14T18:50:25.344Z"
   },
   {
    "duration": 23,
    "start_time": "2022-08-14T18:50:27.399Z"
   },
   {
    "duration": 19,
    "start_time": "2022-08-14T18:50:29.246Z"
   },
   {
    "duration": 37,
    "start_time": "2022-08-14T18:50:32.535Z"
   },
   {
    "duration": 6,
    "start_time": "2022-08-14T18:50:34.365Z"
   },
   {
    "duration": 4,
    "start_time": "2022-08-14T18:50:35.718Z"
   },
   {
    "duration": 9,
    "start_time": "2022-08-14T18:50:37.102Z"
   },
   {
    "duration": 10,
    "start_time": "2022-08-14T18:50:38.982Z"
   },
   {
    "duration": 31,
    "start_time": "2022-08-14T18:50:41.382Z"
   },
   {
    "duration": 51,
    "start_time": "2022-08-14T18:50:43.335Z"
   },
   {
    "duration": 21,
    "start_time": "2022-08-14T18:50:45.161Z"
   },
   {
    "duration": 7,
    "start_time": "2022-08-14T18:50:47.093Z"
   },
   {
    "duration": 5,
    "start_time": "2022-08-14T18:50:48.533Z"
   },
   {
    "duration": 1019,
    "start_time": "2022-08-14T18:50:50.414Z"
   },
   {
    "duration": 20,
    "start_time": "2022-08-14T18:50:52.704Z"
   },
   {
    "duration": 5,
    "start_time": "2022-08-14T18:50:55.095Z"
   },
   {
    "duration": 9,
    "start_time": "2022-08-14T18:50:56.534Z"
   },
   {
    "duration": 46,
    "start_time": "2022-08-14T18:50:58.262Z"
   },
   {
    "duration": 22,
    "start_time": "2022-08-14T18:51:00.934Z"
   },
   {
    "duration": 21,
    "start_time": "2022-08-14T18:51:03.141Z"
   },
   {
    "duration": 279,
    "start_time": "2022-08-14T18:51:06.158Z"
   },
   {
    "duration": 5,
    "start_time": "2022-08-14T18:51:15.263Z"
   },
   {
    "duration": 10,
    "start_time": "2022-08-14T18:51:17.167Z"
   },
   {
    "duration": 8,
    "start_time": "2022-08-14T18:51:18.485Z"
   },
   {
    "duration": 15,
    "start_time": "2022-08-14T18:51:19.973Z"
   },
   {
    "duration": 10,
    "start_time": "2022-08-14T18:52:08.685Z"
   },
   {
    "duration": 11,
    "start_time": "2022-08-14T18:52:47.203Z"
   },
   {
    "duration": 13,
    "start_time": "2022-08-14T18:52:55.436Z"
   },
   {
    "duration": 74,
    "start_time": "2022-08-14T18:53:16.165Z"
   },
   {
    "duration": 15,
    "start_time": "2022-08-14T18:53:20.971Z"
   },
   {
    "duration": 11,
    "start_time": "2022-08-14T18:53:55.240Z"
   },
   {
    "duration": 3,
    "start_time": "2022-08-14T19:10:16.551Z"
   },
   {
    "duration": 160,
    "start_time": "2022-08-14T19:10:19.151Z"
   },
   {
    "duration": 24,
    "start_time": "2022-08-14T19:10:21.790Z"
   },
   {
    "duration": 23,
    "start_time": "2022-08-14T19:10:23.774Z"
   },
   {
    "duration": 60,
    "start_time": "2022-08-14T19:10:27.342Z"
   },
   {
    "duration": 6,
    "start_time": "2022-08-14T19:10:29.886Z"
   },
   {
    "duration": 4,
    "start_time": "2022-08-14T19:10:31.997Z"
   },
   {
    "duration": 8,
    "start_time": "2022-08-14T19:10:34.119Z"
   },
   {
    "duration": 15,
    "start_time": "2022-08-14T19:10:36.041Z"
   },
   {
    "duration": 48,
    "start_time": "2022-08-14T19:10:38.260Z"
   },
   {
    "duration": 62,
    "start_time": "2022-08-14T19:10:40.550Z"
   },
   {
    "duration": 22,
    "start_time": "2022-08-14T19:10:42.875Z"
   },
   {
    "duration": 7,
    "start_time": "2022-08-14T19:10:44.906Z"
   },
   {
    "duration": 4,
    "start_time": "2022-08-14T19:10:46.263Z"
   },
   {
    "duration": 873,
    "start_time": "2022-08-14T19:10:47.899Z"
   },
   {
    "duration": 21,
    "start_time": "2022-08-14T19:10:49.595Z"
   },
   {
    "duration": 4,
    "start_time": "2022-08-14T19:10:52.444Z"
   },
   {
    "duration": 7,
    "start_time": "2022-08-14T19:10:54.347Z"
   },
   {
    "duration": 51,
    "start_time": "2022-08-14T19:10:55.978Z"
   },
   {
    "duration": 23,
    "start_time": "2022-08-14T19:10:58.311Z"
   },
   {
    "duration": 26,
    "start_time": "2022-08-14T19:11:00.431Z"
   },
   {
    "duration": 277,
    "start_time": "2022-08-14T19:11:04.085Z"
   },
   {
    "duration": 354,
    "start_time": "2022-08-14T19:11:06.604Z"
   },
   {
    "duration": 258,
    "start_time": "2022-08-14T19:11:09.248Z"
   },
   {
    "duration": 133,
    "start_time": "2022-08-14T19:11:13.715Z"
   },
   {
    "duration": 322,
    "start_time": "2022-08-14T19:11:16.543Z"
   },
   {
    "duration": 148,
    "start_time": "2022-08-14T19:11:18.747Z"
   },
   {
    "duration": 170,
    "start_time": "2022-08-14T19:11:21.032Z"
   },
   {
    "duration": 152,
    "start_time": "2022-08-14T19:11:22.984Z"
   },
   {
    "duration": 4,
    "start_time": "2022-08-14T19:11:25.867Z"
   },
   {
    "duration": 8,
    "start_time": "2022-08-14T19:11:27.246Z"
   },
   {
    "duration": 9,
    "start_time": "2022-08-14T19:11:29.363Z"
   },
   {
    "duration": 15,
    "start_time": "2022-08-14T19:11:30.996Z"
   },
   {
    "duration": 276,
    "start_time": "2022-08-14T19:11:33.443Z"
   },
   {
    "duration": 145,
    "start_time": "2022-08-14T19:11:35.594Z"
   },
   {
    "duration": 277,
    "start_time": "2022-08-14T19:11:38.228Z"
   },
   {
    "duration": 130,
    "start_time": "2022-08-14T19:11:40.517Z"
   },
   {
    "duration": 434,
    "start_time": "2022-08-14T19:11:43.026Z"
   },
   {
    "duration": 136,
    "start_time": "2022-08-14T19:11:45.675Z"
   },
   {
    "duration": 11,
    "start_time": "2022-08-14T19:11:48.386Z"
   },
   {
    "duration": 5,
    "start_time": "2022-08-14T19:13:41.470Z"
   },
   {
    "duration": 4,
    "start_time": "2022-08-14T19:16:11.703Z"
   },
   {
    "duration": 173,
    "start_time": "2022-08-14T19:16:13.713Z"
   },
   {
    "duration": 36,
    "start_time": "2022-08-14T19:16:15.892Z"
   },
   {
    "duration": 24,
    "start_time": "2022-08-14T19:16:18.756Z"
   },
   {
    "duration": 38,
    "start_time": "2022-08-14T19:16:24.600Z"
   },
   {
    "duration": 6,
    "start_time": "2022-08-14T19:16:26.990Z"
   },
   {
    "duration": 3,
    "start_time": "2022-08-14T19:16:28.589Z"
   },
   {
    "duration": 8,
    "start_time": "2022-08-14T19:16:30.480Z"
   },
   {
    "duration": 9,
    "start_time": "2022-08-14T19:16:32.719Z"
   },
   {
    "duration": 31,
    "start_time": "2022-08-14T19:16:35.386Z"
   },
   {
    "duration": 48,
    "start_time": "2022-08-14T19:16:37.598Z"
   },
   {
    "duration": 20,
    "start_time": "2022-08-14T19:16:39.617Z"
   },
   {
    "duration": 6,
    "start_time": "2022-08-14T19:16:41.694Z"
   },
   {
    "duration": 5,
    "start_time": "2022-08-14T19:16:43.354Z"
   },
   {
    "duration": 930,
    "start_time": "2022-08-14T19:16:44.912Z"
   },
   {
    "duration": 20,
    "start_time": "2022-08-14T19:16:47.100Z"
   },
   {
    "duration": 5,
    "start_time": "2022-08-14T19:16:50.297Z"
   },
   {
    "duration": 7,
    "start_time": "2022-08-14T19:16:51.994Z"
   },
   {
    "duration": 47,
    "start_time": "2022-08-14T19:16:54.033Z"
   },
   {
    "duration": 20,
    "start_time": "2022-08-14T19:16:57.348Z"
   },
   {
    "duration": 20,
    "start_time": "2022-08-14T19:16:59.422Z"
   },
   {
    "duration": 271,
    "start_time": "2022-08-14T19:17:02.351Z"
   },
   {
    "duration": 149,
    "start_time": "2022-08-14T19:17:04.518Z"
   },
   {
    "duration": 263,
    "start_time": "2022-08-14T19:17:07.219Z"
   },
   {
    "duration": 317,
    "start_time": "2022-08-14T19:17:09.657Z"
   },
   {
    "duration": 275,
    "start_time": "2022-08-14T19:17:12.144Z"
   },
   {
    "duration": 152,
    "start_time": "2022-08-14T19:17:14.589Z"
   },
   {
    "duration": 176,
    "start_time": "2022-08-14T19:17:18.337Z"
   },
   {
    "duration": 138,
    "start_time": "2022-08-14T19:17:20.387Z"
   },
   {
    "duration": 3,
    "start_time": "2022-08-14T19:17:23.680Z"
   },
   {
    "duration": 9,
    "start_time": "2022-08-14T19:17:25.291Z"
   },
   {
    "duration": 9,
    "start_time": "2022-08-14T19:17:26.597Z"
   },
   {
    "duration": 17,
    "start_time": "2022-08-14T19:17:28.197Z"
   },
   {
    "duration": 293,
    "start_time": "2022-08-14T19:17:31.099Z"
   },
   {
    "duration": 154,
    "start_time": "2022-08-14T19:17:33.971Z"
   },
   {
    "duration": 6,
    "start_time": "2022-08-14T19:17:42.357Z"
   },
   {
    "duration": 8,
    "start_time": "2022-08-14T19:17:55.299Z"
   },
   {
    "duration": 157,
    "start_time": "2022-08-14T19:21:34.917Z"
   },
   {
    "duration": 3,
    "start_time": "2022-08-14T19:30:56.700Z"
   },
   {
    "duration": 152,
    "start_time": "2022-08-14T19:30:59.227Z"
   },
   {
    "duration": 23,
    "start_time": "2022-08-14T19:31:02.157Z"
   },
   {
    "duration": 20,
    "start_time": "2022-08-14T19:31:04.323Z"
   },
   {
    "duration": 155,
    "start_time": "2022-08-14T20:06:20.858Z"
   },
   {
    "duration": 754,
    "start_time": "2022-08-15T14:49:36.719Z"
   },
   {
    "duration": 187,
    "start_time": "2022-08-15T14:49:38.800Z"
   },
   {
    "duration": 23,
    "start_time": "2022-08-15T14:49:41.880Z"
   },
   {
    "duration": 19,
    "start_time": "2022-08-15T14:49:51.226Z"
   },
   {
    "duration": 18,
    "start_time": "2022-08-15T14:49:53.033Z"
   },
   {
    "duration": 33,
    "start_time": "2022-08-15T14:49:56.621Z"
   },
   {
    "duration": 5,
    "start_time": "2022-08-15T14:49:59.287Z"
   },
   {
    "duration": 3,
    "start_time": "2022-08-15T14:50:01.047Z"
   },
   {
    "duration": 6,
    "start_time": "2022-08-15T14:50:02.568Z"
   },
   {
    "duration": 8,
    "start_time": "2022-08-15T14:50:04.356Z"
   },
   {
    "duration": 26,
    "start_time": "2022-08-15T14:50:09.374Z"
   },
   {
    "duration": 38,
    "start_time": "2022-08-15T14:50:13.336Z"
   },
   {
    "duration": 16,
    "start_time": "2022-08-15T14:50:15.306Z"
   },
   {
    "duration": 5,
    "start_time": "2022-08-15T14:50:17.295Z"
   },
   {
    "duration": 3,
    "start_time": "2022-08-15T14:50:18.668Z"
   },
   {
    "duration": 789,
    "start_time": "2022-08-15T14:50:20.083Z"
   },
   {
    "duration": 16,
    "start_time": "2022-08-15T14:50:22.041Z"
   },
   {
    "duration": 4,
    "start_time": "2022-08-15T14:50:25.414Z"
   },
   {
    "duration": 7,
    "start_time": "2022-08-15T14:50:26.815Z"
   },
   {
    "duration": 41,
    "start_time": "2022-08-15T14:50:28.404Z"
   },
   {
    "duration": 18,
    "start_time": "2022-08-15T14:50:31.325Z"
   },
   {
    "duration": 16,
    "start_time": "2022-08-15T14:50:33.576Z"
   },
   {
    "duration": 239,
    "start_time": "2022-08-15T14:50:36.811Z"
   },
   {
    "duration": 121,
    "start_time": "2022-08-15T14:50:39.333Z"
   },
   {
    "duration": 193,
    "start_time": "2022-08-15T14:50:41.648Z"
   },
   {
    "duration": 120,
    "start_time": "2022-08-15T14:50:43.908Z"
   },
   {
    "duration": 247,
    "start_time": "2022-08-15T14:50:46.714Z"
   },
   {
    "duration": 119,
    "start_time": "2022-08-15T14:50:49.629Z"
   },
   {
    "duration": 129,
    "start_time": "2022-08-15T14:50:52.247Z"
   },
   {
    "duration": 106,
    "start_time": "2022-08-15T14:50:55.017Z"
   },
   {
    "duration": 3,
    "start_time": "2022-08-15T14:50:57.884Z"
   },
   {
    "duration": 8,
    "start_time": "2022-08-15T14:50:59.291Z"
   },
   {
    "duration": 7,
    "start_time": "2022-08-15T14:51:00.371Z"
   },
   {
    "duration": 15,
    "start_time": "2022-08-15T14:51:01.968Z"
   },
   {
    "duration": 214,
    "start_time": "2022-08-15T14:51:04.801Z"
   },
   {
    "duration": 119,
    "start_time": "2022-08-15T14:51:08.189Z"
   },
   {
    "duration": 191,
    "start_time": "2022-08-15T14:51:11.106Z"
   },
   {
    "duration": 110,
    "start_time": "2022-08-15T14:51:13.129Z"
   },
   {
    "duration": 249,
    "start_time": "2022-08-15T14:51:15.854Z"
   },
   {
    "duration": 112,
    "start_time": "2022-08-15T14:51:18.044Z"
   },
   {
    "duration": 801,
    "start_time": "2022-08-15T14:51:39.097Z"
   },
   {
    "duration": 130,
    "start_time": "2022-08-15T14:51:55.189Z"
   },
   {
    "duration": 12,
    "start_time": "2022-08-15T14:54:11.321Z"
   },
   {
    "duration": 126,
    "start_time": "2022-08-15T14:54:31.383Z"
   },
   {
    "duration": 72,
    "start_time": "2022-08-15T14:55:05.507Z"
   },
   {
    "duration": 12,
    "start_time": "2022-08-15T15:00:52.981Z"
   },
   {
    "duration": 9,
    "start_time": "2022-08-15T15:01:05.589Z"
   },
   {
    "duration": 10,
    "start_time": "2022-08-15T15:01:20.508Z"
   },
   {
    "duration": 11,
    "start_time": "2022-08-15T15:01:38.449Z"
   },
   {
    "duration": 117,
    "start_time": "2022-08-15T15:03:48.766Z"
   },
   {
    "duration": 9,
    "start_time": "2022-08-15T15:03:54.352Z"
   },
   {
    "duration": 18,
    "start_time": "2022-08-15T15:04:16.716Z"
   },
   {
    "duration": 16,
    "start_time": "2022-08-15T15:06:17.010Z"
   },
   {
    "duration": 8,
    "start_time": "2022-08-15T15:06:45.690Z"
   },
   {
    "duration": 2,
    "start_time": "2022-08-15T15:06:49.512Z"
   },
   {
    "duration": 191,
    "start_time": "2022-08-15T15:06:50.993Z"
   },
   {
    "duration": 20,
    "start_time": "2022-08-15T15:06:53.343Z"
   },
   {
    "duration": 14,
    "start_time": "2022-08-15T15:06:55.113Z"
   },
   {
    "duration": 31,
    "start_time": "2022-08-15T15:06:58.307Z"
   },
   {
    "duration": 5,
    "start_time": "2022-08-15T15:07:00.409Z"
   },
   {
    "duration": 3,
    "start_time": "2022-08-15T15:07:02.442Z"
   },
   {
    "duration": 6,
    "start_time": "2022-08-15T15:07:03.537Z"
   },
   {
    "duration": 9,
    "start_time": "2022-08-15T15:07:05.547Z"
   },
   {
    "duration": 114,
    "start_time": "2022-08-15T15:07:08.050Z"
   },
   {
    "duration": 37,
    "start_time": "2022-08-15T15:07:10.259Z"
   },
   {
    "duration": 19,
    "start_time": "2022-08-15T15:07:12.828Z"
   },
   {
    "duration": 6,
    "start_time": "2022-08-15T15:07:15.174Z"
   },
   {
    "duration": 4,
    "start_time": "2022-08-15T15:07:16.665Z"
   },
   {
    "duration": 785,
    "start_time": "2022-08-15T15:07:18.518Z"
   },
   {
    "duration": 17,
    "start_time": "2022-08-15T15:07:20.618Z"
   },
   {
    "duration": 5,
    "start_time": "2022-08-15T15:07:22.898Z"
   },
   {
    "duration": 7,
    "start_time": "2022-08-15T15:07:24.413Z"
   },
   {
    "duration": 46,
    "start_time": "2022-08-15T15:07:26.292Z"
   },
   {
    "duration": 17,
    "start_time": "2022-08-15T15:07:28.592Z"
   },
   {
    "duration": 16,
    "start_time": "2022-08-15T15:07:30.799Z"
   },
   {
    "duration": 220,
    "start_time": "2022-08-15T15:07:33.871Z"
   },
   {
    "duration": 132,
    "start_time": "2022-08-15T15:07:36.019Z"
   },
   {
    "duration": 262,
    "start_time": "2022-08-15T15:07:38.138Z"
   },
   {
    "duration": 111,
    "start_time": "2022-08-15T15:07:40.098Z"
   },
   {
    "duration": 202,
    "start_time": "2022-08-15T15:07:42.664Z"
   },
   {
    "duration": 115,
    "start_time": "2022-08-15T15:07:44.650Z"
   },
   {
    "duration": 124,
    "start_time": "2022-08-15T15:07:47.343Z"
   },
   {
    "duration": 105,
    "start_time": "2022-08-15T15:07:49.642Z"
   },
   {
    "duration": 3,
    "start_time": "2022-08-15T15:07:53.037Z"
   },
   {
    "duration": 8,
    "start_time": "2022-08-15T15:07:54.920Z"
   },
   {
    "duration": 7,
    "start_time": "2022-08-15T15:07:56.162Z"
   },
   {
    "duration": 16,
    "start_time": "2022-08-15T15:07:57.891Z"
   },
   {
    "duration": 215,
    "start_time": "2022-08-15T15:08:00.289Z"
   },
   {
    "duration": 123,
    "start_time": "2022-08-15T15:08:03.406Z"
   },
   {
    "duration": 284,
    "start_time": "2022-08-15T15:08:05.540Z"
   },
   {
    "duration": 190,
    "start_time": "2022-08-15T15:08:08.657Z"
   },
   {
    "duration": 114,
    "start_time": "2022-08-15T15:08:11.779Z"
   },
   {
    "duration": 120,
    "start_time": "2022-08-15T15:08:15.090Z"
   },
   {
    "duration": 15,
    "start_time": "2022-08-15T15:08:22.385Z"
   },
   {
    "duration": 15,
    "start_time": "2022-08-15T15:10:07.252Z"
   },
   {
    "duration": 13,
    "start_time": "2022-08-15T15:10:35.358Z"
   },
   {
    "duration": 17,
    "start_time": "2022-08-15T15:11:18.369Z"
   },
   {
    "duration": 15,
    "start_time": "2022-08-15T15:14:54.282Z"
   },
   {
    "duration": 12,
    "start_time": "2022-08-15T15:15:00.550Z"
   },
   {
    "duration": 13,
    "start_time": "2022-08-15T15:36:42.806Z"
   },
   {
    "duration": 12,
    "start_time": "2022-08-15T15:37:15.739Z"
   },
   {
    "duration": 102,
    "start_time": "2022-08-15T15:38:09.535Z"
   },
   {
    "duration": 20,
    "start_time": "2022-08-15T15:51:52.838Z"
   },
   {
    "duration": 775,
    "start_time": "2022-08-15T15:52:49.919Z"
   },
   {
    "duration": 4,
    "start_time": "2022-08-15T15:52:58.719Z"
   },
   {
    "duration": 5,
    "start_time": "2022-08-15T15:53:14.059Z"
   },
   {
    "duration": 21,
    "start_time": "2022-08-15T15:53:28.165Z"
   },
   {
    "duration": 38,
    "start_time": "2022-08-15T15:53:36.962Z"
   },
   {
    "duration": 19,
    "start_time": "2022-08-15T15:53:43.317Z"
   },
   {
    "duration": 17,
    "start_time": "2022-08-15T15:53:47.245Z"
   },
   {
    "duration": 4,
    "start_time": "2022-08-15T15:53:57.938Z"
   },
   {
    "duration": 7,
    "start_time": "2022-08-15T15:53:59.708Z"
   },
   {
    "duration": 7,
    "start_time": "2022-08-15T15:54:00.926Z"
   },
   {
    "duration": 14,
    "start_time": "2022-08-15T15:54:02.159Z"
   },
   {
    "duration": 113,
    "start_time": "2022-08-15T15:54:10.971Z"
   },
   {
    "duration": 114,
    "start_time": "2022-08-15T15:54:14.478Z"
   },
   {
    "duration": 20,
    "start_time": "2022-08-15T15:54:17.085Z"
   },
   {
    "duration": 45,
    "start_time": "2022-08-16T12:00:01.419Z"
   },
   {
    "duration": 7,
    "start_time": "2022-08-16T12:00:13.128Z"
   },
   {
    "duration": 721,
    "start_time": "2022-08-16T12:00:17.380Z"
   },
   {
    "duration": 193,
    "start_time": "2022-08-16T12:00:20.139Z"
   },
   {
    "duration": 25,
    "start_time": "2022-08-16T12:00:22.634Z"
   },
   {
    "duration": 19,
    "start_time": "2022-08-16T12:00:24.774Z"
   },
   {
    "duration": 37,
    "start_time": "2022-08-16T12:00:28.577Z"
   },
   {
    "duration": 5,
    "start_time": "2022-08-16T12:00:31.034Z"
   },
   {
    "duration": 3,
    "start_time": "2022-08-16T12:00:33.095Z"
   },
   {
    "duration": 6,
    "start_time": "2022-08-16T12:00:34.461Z"
   },
   {
    "duration": 8,
    "start_time": "2022-08-16T12:00:36.547Z"
   },
   {
    "duration": 33,
    "start_time": "2022-08-16T12:00:38.927Z"
   },
   {
    "duration": 42,
    "start_time": "2022-08-16T12:00:41.403Z"
   },
   {
    "duration": 19,
    "start_time": "2022-08-16T12:00:43.508Z"
   },
   {
    "duration": 5,
    "start_time": "2022-08-16T12:00:45.998Z"
   },
   {
    "duration": 4,
    "start_time": "2022-08-16T12:00:48.047Z"
   },
   {
    "duration": 824,
    "start_time": "2022-08-16T12:00:49.910Z"
   },
   {
    "duration": 20,
    "start_time": "2022-08-16T12:02:25.327Z"
   },
   {
    "duration": 6,
    "start_time": "2022-08-16T12:02:27.484Z"
   },
   {
    "duration": 52,
    "start_time": "2022-08-16T12:02:28.882Z"
   },
   {
    "duration": 19,
    "start_time": "2022-08-16T12:02:30.756Z"
   },
   {
    "duration": 17,
    "start_time": "2022-08-16T12:02:33.188Z"
   },
   {
    "duration": 258,
    "start_time": "2022-08-16T12:02:35.668Z"
   },
   {
    "duration": 128,
    "start_time": "2022-08-16T12:02:37.402Z"
   },
   {
    "duration": 209,
    "start_time": "2022-08-16T12:02:39.510Z"
   },
   {
    "duration": 221,
    "start_time": "2022-08-16T12:02:42.068Z"
   },
   {
    "duration": 172,
    "start_time": "2022-08-16T12:02:44.526Z"
   },
   {
    "duration": 120,
    "start_time": "2022-08-16T12:02:47.340Z"
   },
   {
    "duration": 3,
    "start_time": "2022-08-16T12:02:49.800Z"
   },
   {
    "duration": 8,
    "start_time": "2022-08-16T12:02:51.201Z"
   },
   {
    "duration": 7,
    "start_time": "2022-08-16T12:02:52.996Z"
   },
   {
    "duration": 15,
    "start_time": "2022-08-16T12:02:55.017Z"
   },
   {
    "duration": 219,
    "start_time": "2022-08-16T12:02:57.107Z"
   },
   {
    "duration": 165,
    "start_time": "2022-08-16T12:02:58.885Z"
   },
   {
    "duration": 111,
    "start_time": "2022-08-16T12:03:00.769Z"
   },
   {
    "duration": 220,
    "start_time": "2022-08-16T12:03:03.030Z"
   },
   {
    "duration": 126,
    "start_time": "2022-08-16T12:03:06.361Z"
   },
   {
    "duration": 149,
    "start_time": "2022-08-16T12:03:08.990Z"
   },
   {
    "duration": 36,
    "start_time": "2022-08-16T12:03:11.594Z"
   },
   {
    "duration": 993,
    "start_time": "2022-08-16T12:04:38.754Z"
   },
   {
    "duration": 189,
    "start_time": "2022-08-16T12:04:54.876Z"
   },
   {
    "duration": 952,
    "start_time": "2022-08-16T12:05:30.787Z"
   },
   {
    "duration": 904,
    "start_time": "2022-08-16T12:05:38.841Z"
   },
   {
    "duration": 187,
    "start_time": "2022-08-16T12:06:44.082Z"
   },
   {
    "duration": 2,
    "start_time": "2022-08-16T12:15:47.046Z"
   },
   {
    "duration": 138,
    "start_time": "2022-08-16T12:15:49.313Z"
   },
   {
    "duration": 23,
    "start_time": "2022-08-16T12:15:51.236Z"
   },
   {
    "duration": 15,
    "start_time": "2022-08-16T12:15:53.119Z"
   },
   {
    "duration": 41,
    "start_time": "2022-08-16T12:15:56.695Z"
   },
   {
    "duration": 5,
    "start_time": "2022-08-16T12:15:58.834Z"
   },
   {
    "duration": 3,
    "start_time": "2022-08-16T12:16:00.196Z"
   },
   {
    "duration": 5,
    "start_time": "2022-08-16T12:16:01.664Z"
   },
   {
    "duration": 10,
    "start_time": "2022-08-16T12:16:03.374Z"
   },
   {
    "duration": 30,
    "start_time": "2022-08-16T12:16:05.715Z"
   },
   {
    "duration": 40,
    "start_time": "2022-08-16T12:16:08.350Z"
   },
   {
    "duration": 18,
    "start_time": "2022-08-16T12:16:10.204Z"
   },
   {
    "duration": 4,
    "start_time": "2022-08-16T12:16:12.224Z"
   },
   {
    "duration": 3,
    "start_time": "2022-08-16T12:16:14.012Z"
   },
   {
    "duration": 844,
    "start_time": "2022-08-16T12:16:15.679Z"
   },
   {
    "duration": 19,
    "start_time": "2022-08-16T12:16:18.184Z"
   },
   {
    "duration": 6,
    "start_time": "2022-08-16T12:16:20.818Z"
   },
   {
    "duration": 6,
    "start_time": "2022-08-16T12:16:21.695Z"
   },
   {
    "duration": 42,
    "start_time": "2022-08-16T12:16:23.611Z"
   },
   {
    "duration": 20,
    "start_time": "2022-08-16T12:16:26.024Z"
   },
   {
    "duration": 17,
    "start_time": "2022-08-16T12:16:27.785Z"
   },
   {
    "duration": 223,
    "start_time": "2022-08-16T12:16:30.991Z"
   },
   {
    "duration": 133,
    "start_time": "2022-08-16T12:16:32.991Z"
   },
   {
    "duration": 211,
    "start_time": "2022-08-16T12:16:35.059Z"
   },
   {
    "duration": 120,
    "start_time": "2022-08-16T12:16:37.018Z"
   },
   {
    "duration": 234,
    "start_time": "2022-08-16T12:16:39.333Z"
   },
   {
    "duration": 137,
    "start_time": "2022-08-16T12:16:42.395Z"
   },
   {
    "duration": 140,
    "start_time": "2022-08-16T12:16:44.259Z"
   },
   {
    "duration": 3,
    "start_time": "2022-08-16T12:16:46.720Z"
   },
   {
    "duration": 9,
    "start_time": "2022-08-16T12:16:48.421Z"
   },
   {
    "duration": 9,
    "start_time": "2022-08-16T12:16:49.429Z"
   },
   {
    "duration": 16,
    "start_time": "2022-08-16T12:16:50.628Z"
   },
   {
    "duration": 311,
    "start_time": "2022-08-16T12:16:53.705Z"
   },
   {
    "duration": 122,
    "start_time": "2022-08-16T12:16:55.720Z"
   },
   {
    "duration": 216,
    "start_time": "2022-08-16T12:16:58.028Z"
   },
   {
    "duration": 112,
    "start_time": "2022-08-16T12:17:00.117Z"
   },
   {
    "duration": 212,
    "start_time": "2022-08-16T12:17:02.198Z"
   },
   {
    "duration": 113,
    "start_time": "2022-08-16T12:17:05.288Z"
   },
   {
    "duration": 140,
    "start_time": "2022-08-16T12:17:07.620Z"
   },
   {
    "duration": 121,
    "start_time": "2022-08-16T12:17:10.205Z"
   },
   {
    "duration": 33,
    "start_time": "2022-08-16T12:17:12.723Z"
   },
   {
    "duration": 3,
    "start_time": "2022-08-16T12:17:15.243Z"
   },
   {
    "duration": 11,
    "start_time": "2022-08-16T12:17:23.947Z"
   },
   {
    "duration": 11,
    "start_time": "2022-08-16T12:17:34.532Z"
   },
   {
    "duration": 143,
    "start_time": "2022-08-16T12:17:56.961Z"
   },
   {
    "duration": 806,
    "start_time": "2022-08-18T08:53:52.062Z"
   },
   {
    "duration": 209,
    "start_time": "2022-08-18T08:53:55.862Z"
   },
   {
    "duration": 23,
    "start_time": "2022-08-18T08:53:58.210Z"
   },
   {
    "duration": 19,
    "start_time": "2022-08-18T08:54:00.819Z"
   },
   {
    "duration": 35,
    "start_time": "2022-08-18T08:54:04.767Z"
   },
   {
    "duration": 5,
    "start_time": "2022-08-18T08:54:07.114Z"
   },
   {
    "duration": 4,
    "start_time": "2022-08-18T08:54:09.662Z"
   },
   {
    "duration": 6,
    "start_time": "2022-08-18T08:54:11.049Z"
   },
   {
    "duration": 8,
    "start_time": "2022-08-18T08:54:13.197Z"
   },
   {
    "duration": 27,
    "start_time": "2022-08-18T08:54:15.579Z"
   },
   {
    "duration": 38,
    "start_time": "2022-08-18T08:54:18.583Z"
   },
   {
    "duration": 18,
    "start_time": "2022-08-18T08:54:20.847Z"
   },
   {
    "duration": 5,
    "start_time": "2022-08-18T08:54:23.278Z"
   },
   {
    "duration": 5,
    "start_time": "2022-08-18T09:01:12.627Z"
   },
   {
    "duration": 5,
    "start_time": "2022-08-18T09:01:14.038Z"
   },
   {
    "duration": 872,
    "start_time": "2022-08-18T09:01:15.762Z"
   },
   {
    "duration": 17,
    "start_time": "2022-08-18T09:01:18.066Z"
   },
   {
    "duration": 4,
    "start_time": "2022-08-18T09:01:20.406Z"
   },
   {
    "duration": 6,
    "start_time": "2022-08-18T09:01:21.622Z"
   },
   {
    "duration": 44,
    "start_time": "2022-08-18T09:01:23.038Z"
   },
   {
    "duration": 17,
    "start_time": "2022-08-18T09:01:25.432Z"
   },
   {
    "duration": 17,
    "start_time": "2022-08-18T09:01:27.525Z"
   },
   {
    "duration": 232,
    "start_time": "2022-08-18T09:01:30.971Z"
   },
   {
    "duration": 124,
    "start_time": "2022-08-18T09:01:33.248Z"
   },
   {
    "duration": 209,
    "start_time": "2022-08-18T09:01:35.452Z"
   },
   {
    "duration": 113,
    "start_time": "2022-08-18T09:01:37.779Z"
   },
   {
    "duration": 291,
    "start_time": "2022-08-18T09:01:40.293Z"
   },
   {
    "duration": 124,
    "start_time": "2022-08-18T09:01:42.493Z"
   },
   {
    "duration": 134,
    "start_time": "2022-08-18T09:01:44.698Z"
   },
   {
    "duration": 115,
    "start_time": "2022-08-18T09:01:46.711Z"
   },
   {
    "duration": 4,
    "start_time": "2022-08-18T09:01:49.086Z"
   },
   {
    "duration": 8,
    "start_time": "2022-08-18T09:01:51.042Z"
   },
   {
    "duration": 8,
    "start_time": "2022-08-18T09:01:52.342Z"
   },
   {
    "duration": 15,
    "start_time": "2022-08-18T09:01:53.725Z"
   },
   {
    "duration": 212,
    "start_time": "2022-08-18T09:01:56.049Z"
   },
   {
    "duration": 141,
    "start_time": "2022-08-18T09:01:57.912Z"
   },
   {
    "duration": 312,
    "start_time": "2022-08-18T09:02:00.165Z"
   },
   {
    "duration": 132,
    "start_time": "2022-08-18T09:02:02.532Z"
   },
   {
    "duration": 275,
    "start_time": "2022-08-18T09:02:05.150Z"
   },
   {
    "duration": 121,
    "start_time": "2022-08-18T09:02:07.246Z"
   },
   {
    "duration": 152,
    "start_time": "2022-08-18T09:02:09.911Z"
   },
   {
    "duration": 113,
    "start_time": "2022-08-18T09:02:13.068Z"
   },
   {
    "duration": 40,
    "start_time": "2022-08-18T09:02:18.000Z"
   },
   {
    "duration": 199,
    "start_time": "2022-08-18T09:02:20.854Z"
   },
   {
    "duration": 94,
    "start_time": "2022-08-18T09:05:24.826Z"
   },
   {
    "duration": 103,
    "start_time": "2022-08-18T09:05:36.435Z"
   },
   {
    "duration": 57,
    "start_time": "2022-08-18T09:05:53.042Z"
   },
   {
    "duration": 291,
    "start_time": "2022-08-18T09:06:00.161Z"
   },
   {
    "duration": 15,
    "start_time": "2022-08-18T09:07:06.603Z"
   },
   {
    "duration": 74,
    "start_time": "2022-08-18T09:07:35.068Z"
   },
   {
    "duration": 84,
    "start_time": "2022-08-18T09:07:40.331Z"
   },
   {
    "duration": 28,
    "start_time": "2022-08-18T09:08:00.567Z"
   },
   {
    "duration": 23,
    "start_time": "2022-08-18T09:09:36.615Z"
   },
   {
    "duration": 19,
    "start_time": "2022-08-18T09:09:42.544Z"
   },
   {
    "duration": 27,
    "start_time": "2022-08-18T09:23:41.191Z"
   },
   {
    "duration": 32,
    "start_time": "2022-08-18T09:23:57.800Z"
   },
   {
    "duration": 161,
    "start_time": "2022-08-18T09:25:19.458Z"
   },
   {
    "duration": 178,
    "start_time": "2022-08-18T09:25:32.329Z"
   },
   {
    "duration": 352,
    "start_time": "2022-08-18T09:25:48.522Z"
   },
   {
    "duration": 81,
    "start_time": "2022-08-18T09:25:59.844Z"
   },
   {
    "duration": 120,
    "start_time": "2022-08-18T09:26:49.980Z"
   },
   {
    "duration": 102,
    "start_time": "2022-08-18T09:26:56.322Z"
   },
   {
    "duration": 58,
    "start_time": "2022-08-18T09:27:05.712Z"
   },
   {
    "duration": 58,
    "start_time": "2022-08-18T09:27:08.966Z"
   },
   {
    "duration": 30,
    "start_time": "2022-08-18T09:27:24.958Z"
   },
   {
    "duration": 140,
    "start_time": "2022-08-18T09:27:33.588Z"
   },
   {
    "duration": 445,
    "start_time": "2022-08-18T09:28:43.412Z"
   },
   {
    "duration": 433,
    "start_time": "2022-08-18T09:30:42.497Z"
   },
   {
    "duration": 514,
    "start_time": "2022-08-18T09:30:59.415Z"
   },
   {
    "duration": 440,
    "start_time": "2022-08-18T10:10:25.992Z"
   },
   {
    "duration": 22,
    "start_time": "2022-08-18T10:19:01.101Z"
   },
   {
    "duration": 156,
    "start_time": "2022-08-18T10:20:37.811Z"
   },
   {
    "duration": 144,
    "start_time": "2022-08-18T10:22:03.383Z"
   },
   {
    "duration": 36,
    "start_time": "2022-08-18T10:27:19.734Z"
   },
   {
    "duration": 160,
    "start_time": "2022-08-18T10:30:20.498Z"
   },
   {
    "duration": 136,
    "start_time": "2022-08-18T10:31:55.229Z"
   },
   {
    "duration": 129,
    "start_time": "2022-08-18T10:33:42.733Z"
   },
   {
    "duration": 153,
    "start_time": "2022-08-18T10:33:57.386Z"
   },
   {
    "duration": 20,
    "start_time": "2022-08-18T10:37:10.248Z"
   },
   {
    "duration": 151,
    "start_time": "2022-08-18T10:37:31.564Z"
   },
   {
    "duration": 417,
    "start_time": "2022-08-18T10:41:12.930Z"
   },
   {
    "duration": 156,
    "start_time": "2022-08-18T10:41:29.629Z"
   },
   {
    "duration": 154,
    "start_time": "2022-08-18T10:42:47.544Z"
   },
   {
    "duration": 10,
    "start_time": "2022-08-18T10:57:46.367Z"
   },
   {
    "duration": 931,
    "start_time": "2022-08-18T10:57:51.925Z"
   },
   {
    "duration": 23,
    "start_time": "2022-08-18T10:58:03.522Z"
   },
   {
    "duration": 7668,
    "start_time": "2022-08-18T10:58:42.302Z"
   },
   {
    "duration": 13,
    "start_time": "2022-08-18T11:00:14.274Z"
   },
   {
    "duration": 8067,
    "start_time": "2022-08-18T11:00:24.395Z"
   },
   {
    "duration": 1265,
    "start_time": "2022-08-18T11:11:43.002Z"
   },
   {
    "duration": 25,
    "start_time": "2022-08-18T11:12:16.352Z"
   },
   {
    "duration": 13,
    "start_time": "2022-08-18T11:29:24.277Z"
   },
   {
    "duration": 8,
    "start_time": "2022-08-18T11:33:13.871Z"
   },
   {
    "duration": 791,
    "start_time": "2022-08-18T11:33:24.778Z"
   },
   {
    "duration": 968,
    "start_time": "2022-08-18T11:34:17.980Z"
   },
   {
    "duration": 161,
    "start_time": "2022-08-18T12:51:04.311Z"
   },
   {
    "duration": 140,
    "start_time": "2022-08-18T12:51:16.930Z"
   },
   {
    "duration": 135,
    "start_time": "2022-08-18T12:51:39.171Z"
   },
   {
    "duration": 111,
    "start_time": "2022-08-18T12:58:26.754Z"
   },
   {
    "duration": 116,
    "start_time": "2022-08-18T12:58:53.752Z"
   },
   {
    "duration": 35,
    "start_time": "2022-08-18T13:44:29.738Z"
   },
   {
    "duration": 144,
    "start_time": "2022-08-18T13:44:33.447Z"
   },
   {
    "duration": 2517,
    "start_time": "2022-08-18T13:45:31.563Z"
   },
   {
    "duration": 1633,
    "start_time": "2022-08-18T13:45:46.002Z"
   },
   {
    "duration": 156,
    "start_time": "2022-08-18T13:46:10.596Z"
   },
   {
    "duration": 2108,
    "start_time": "2022-08-18T13:55:04.908Z"
   },
   {
    "duration": 22,
    "start_time": "2022-08-18T13:55:45.488Z"
   },
   {
    "duration": 31,
    "start_time": "2022-08-18T13:56:29.336Z"
   },
   {
    "duration": 155,
    "start_time": "2022-08-18T13:58:36.998Z"
   },
   {
    "duration": 168,
    "start_time": "2022-08-18T14:02:10.492Z"
   },
   {
    "duration": 730,
    "start_time": "2022-08-18T14:24:12.772Z"
   },
   {
    "duration": 38,
    "start_time": "2022-08-18T15:01:41.212Z"
   },
   {
    "duration": 856,
    "start_time": "2022-08-19T13:49:33.277Z"
   },
   {
    "duration": 229,
    "start_time": "2022-08-19T13:49:34.136Z"
   },
   {
    "duration": 23,
    "start_time": "2022-08-19T13:49:34.366Z"
   },
   {
    "duration": 18,
    "start_time": "2022-08-19T13:49:34.391Z"
   },
   {
    "duration": 36,
    "start_time": "2022-08-19T13:49:34.411Z"
   },
   {
    "duration": 33,
    "start_time": "2022-08-19T13:49:34.449Z"
   },
   {
    "duration": 19,
    "start_time": "2022-08-19T13:49:34.483Z"
   },
   {
    "duration": 10,
    "start_time": "2022-08-19T13:49:34.504Z"
   },
   {
    "duration": 10,
    "start_time": "2022-08-19T13:49:34.516Z"
   },
   {
    "duration": 8,
    "start_time": "2022-08-19T13:49:34.529Z"
   },
   {
    "duration": 29,
    "start_time": "2022-08-19T13:49:34.538Z"
   },
   {
    "duration": 56,
    "start_time": "2022-08-19T13:49:34.569Z"
   },
   {
    "duration": 16,
    "start_time": "2022-08-19T13:49:34.627Z"
   },
   {
    "duration": 6,
    "start_time": "2022-08-19T13:49:34.645Z"
   },
   {
    "duration": 4,
    "start_time": "2022-08-19T13:49:34.653Z"
   },
   {
    "duration": 858,
    "start_time": "2022-08-19T13:49:34.659Z"
   },
   {
    "duration": 18,
    "start_time": "2022-08-19T13:49:35.519Z"
   },
   {
    "duration": 7,
    "start_time": "2022-08-19T13:49:35.538Z"
   },
   {
    "duration": 8,
    "start_time": "2022-08-19T13:49:35.547Z"
   },
   {
    "duration": 59,
    "start_time": "2022-08-19T13:49:35.557Z"
   },
   {
    "duration": 18,
    "start_time": "2022-08-19T13:49:35.618Z"
   },
   {
    "duration": 17,
    "start_time": "2022-08-19T13:49:35.638Z"
   },
   {
    "duration": 274,
    "start_time": "2022-08-19T13:49:35.656Z"
   },
   {
    "duration": 140,
    "start_time": "2022-08-19T13:49:35.931Z"
   },
   {
    "duration": 237,
    "start_time": "2022-08-19T13:49:36.073Z"
   },
   {
    "duration": 127,
    "start_time": "2022-08-19T13:49:36.312Z"
   },
   {
    "duration": 304,
    "start_time": "2022-08-19T13:49:36.441Z"
   },
   {
    "duration": 134,
    "start_time": "2022-08-19T13:49:36.748Z"
   },
   {
    "duration": 155,
    "start_time": "2022-08-19T13:49:36.883Z"
   },
   {
    "duration": 150,
    "start_time": "2022-08-19T13:49:37.040Z"
   },
   {
    "duration": 9,
    "start_time": "2022-08-19T13:49:37.192Z"
   },
   {
    "duration": 10,
    "start_time": "2022-08-19T13:49:37.203Z"
   },
   {
    "duration": 7,
    "start_time": "2022-08-19T13:49:37.215Z"
   },
   {
    "duration": 18,
    "start_time": "2022-08-19T13:49:37.223Z"
   },
   {
    "duration": 253,
    "start_time": "2022-08-19T13:49:37.243Z"
   },
   {
    "duration": 132,
    "start_time": "2022-08-19T13:49:37.499Z"
   },
   {
    "duration": 235,
    "start_time": "2022-08-19T13:49:37.633Z"
   },
   {
    "duration": 115,
    "start_time": "2022-08-19T13:49:37.870Z"
   },
   {
    "duration": 337,
    "start_time": "2022-08-19T13:49:37.986Z"
   },
   {
    "duration": 125,
    "start_time": "2022-08-19T13:49:38.325Z"
   },
   {
    "duration": 152,
    "start_time": "2022-08-19T13:49:38.451Z"
   },
   {
    "duration": 134,
    "start_time": "2022-08-19T13:49:38.604Z"
   },
   {
    "duration": 25,
    "start_time": "2022-08-19T13:49:38.740Z"
   },
   {
    "duration": 40,
    "start_time": "2022-08-19T13:49:38.767Z"
   },
   {
    "duration": 183,
    "start_time": "2022-08-19T13:49:38.808Z"
   },
   {
    "duration": 465,
    "start_time": "2022-08-19T13:49:38.992Z"
   },
   {
    "duration": 161,
    "start_time": "2022-08-19T13:49:39.459Z"
   },
   {
    "duration": 491,
    "start_time": "2022-08-19T13:49:39.622Z"
   },
   {
    "duration": 171,
    "start_time": "2022-08-19T13:49:40.115Z"
   },
   {
    "duration": 875,
    "start_time": "2022-08-19T13:49:40.288Z"
   },
   {
    "duration": 806,
    "start_time": "2022-08-19T13:49:41.164Z"
   },
   {
    "duration": 22,
    "start_time": "2022-08-19T14:05:25.570Z"
   },
   {
    "duration": 45,
    "start_time": "2022-08-20T14:34:53.414Z"
   },
   {
    "duration": 7,
    "start_time": "2022-08-20T14:35:08.839Z"
   },
   {
    "duration": 848,
    "start_time": "2022-08-20T14:35:13.769Z"
   },
   {
    "duration": 3,
    "start_time": "2022-08-20T14:35:15.457Z"
   },
   {
    "duration": 199,
    "start_time": "2022-08-20T14:35:17.452Z"
   },
   {
    "duration": 25,
    "start_time": "2022-08-20T14:35:20.216Z"
   },
   {
    "duration": 19,
    "start_time": "2022-08-20T14:35:22.243Z"
   },
   {
    "duration": 39,
    "start_time": "2022-08-20T14:35:24.733Z"
   },
   {
    "duration": 41,
    "start_time": "2022-08-20T14:35:27.459Z"
   },
   {
    "duration": 5,
    "start_time": "2022-08-20T14:35:29.859Z"
   },
   {
    "duration": 3,
    "start_time": "2022-08-20T14:35:31.827Z"
   },
   {
    "duration": 6,
    "start_time": "2022-08-20T14:35:33.593Z"
   },
   {
    "duration": 6,
    "start_time": "2022-08-20T14:36:08.279Z"
   },
   {
    "duration": 10,
    "start_time": "2022-08-20T14:36:10.636Z"
   },
   {
    "duration": 11,
    "start_time": "2022-08-20T14:36:13.324Z"
   },
   {
    "duration": 13,
    "start_time": "2022-08-20T14:36:32.842Z"
   },
   {
    "duration": 12,
    "start_time": "2022-08-20T14:36:52.189Z"
   },
   {
    "duration": 21,
    "start_time": "2022-08-20T14:38:25.435Z"
   },
   {
    "duration": 39,
    "start_time": "2022-08-20T14:42:57.931Z"
   },
   {
    "duration": 10,
    "start_time": "2022-08-20T14:43:04.632Z"
   },
   {
    "duration": 22,
    "start_time": "2022-08-20T14:43:11.930Z"
   },
   {
    "duration": 30,
    "start_time": "2022-08-20T14:43:47.705Z"
   },
   {
    "duration": 29,
    "start_time": "2022-08-20T14:45:14.794Z"
   },
   {
    "duration": 55,
    "start_time": "2022-08-20T14:46:05.048Z"
   },
   {
    "duration": 31,
    "start_time": "2022-08-20T14:46:23.080Z"
   },
   {
    "duration": 57,
    "start_time": "2022-08-20T14:47:19.404Z"
   },
   {
    "duration": 47,
    "start_time": "2022-08-20T14:47:25.053Z"
   },
   {
    "duration": 49,
    "start_time": "2022-08-20T14:47:28.541Z"
   },
   {
    "duration": 871,
    "start_time": "2022-08-21T09:38:48.889Z"
   },
   {
    "duration": 432,
    "start_time": "2022-08-21T09:38:49.762Z"
   },
   {
    "duration": 25,
    "start_time": "2022-08-21T09:38:50.196Z"
   },
   {
    "duration": 28,
    "start_time": "2022-08-21T09:38:50.223Z"
   },
   {
    "duration": 43,
    "start_time": "2022-08-21T09:38:50.253Z"
   },
   {
    "duration": 38,
    "start_time": "2022-08-21T09:38:50.297Z"
   },
   {
    "duration": 4,
    "start_time": "2022-08-21T09:38:50.337Z"
   },
   {
    "duration": 20,
    "start_time": "2022-08-21T09:38:50.343Z"
   },
   {
    "duration": 13,
    "start_time": "2022-08-21T09:38:50.365Z"
   },
   {
    "duration": 11,
    "start_time": "2022-08-21T09:38:50.380Z"
   },
   {
    "duration": 42,
    "start_time": "2022-08-21T09:38:50.392Z"
   },
   {
    "duration": 40,
    "start_time": "2022-08-21T09:38:50.436Z"
   },
   {
    "duration": 49,
    "start_time": "2022-08-21T09:38:50.478Z"
   },
   {
    "duration": 40,
    "start_time": "2022-08-21T09:38:50.529Z"
   },
   {
    "duration": 11,
    "start_time": "2022-08-21T09:38:50.571Z"
   },
   {
    "duration": 16,
    "start_time": "2022-08-21T09:38:50.584Z"
   },
   {
    "duration": 919,
    "start_time": "2022-08-21T09:38:50.603Z"
   },
   {
    "duration": 21,
    "start_time": "2022-08-21T09:38:51.524Z"
   },
   {
    "duration": 20,
    "start_time": "2022-08-21T09:38:51.548Z"
   },
   {
    "duration": 8,
    "start_time": "2022-08-21T09:38:51.570Z"
   },
   {
    "duration": 53,
    "start_time": "2022-08-21T09:38:51.580Z"
   },
   {
    "duration": 41,
    "start_time": "2022-08-21T09:38:51.634Z"
   },
   {
    "duration": 19,
    "start_time": "2022-08-21T09:38:51.677Z"
   },
   {
    "duration": 305,
    "start_time": "2022-08-21T09:38:51.698Z"
   },
   {
    "duration": 164,
    "start_time": "2022-08-21T09:38:52.005Z"
   },
   {
    "duration": 282,
    "start_time": "2022-08-21T09:38:52.171Z"
   },
   {
    "duration": 150,
    "start_time": "2022-08-21T09:38:52.455Z"
   },
   {
    "duration": 334,
    "start_time": "2022-08-21T09:38:52.609Z"
   },
   {
    "duration": 166,
    "start_time": "2022-08-21T09:38:52.945Z"
   },
   {
    "duration": 176,
    "start_time": "2022-08-21T09:38:53.113Z"
   },
   {
    "duration": 151,
    "start_time": "2022-08-21T09:38:53.291Z"
   },
   {
    "duration": 3,
    "start_time": "2022-08-21T09:38:53.444Z"
   },
   {
    "duration": 23,
    "start_time": "2022-08-21T09:38:53.449Z"
   },
   {
    "duration": 10,
    "start_time": "2022-08-21T09:38:53.474Z"
   },
   {
    "duration": 17,
    "start_time": "2022-08-21T09:38:53.486Z"
   },
   {
    "duration": 294,
    "start_time": "2022-08-21T09:38:53.505Z"
   },
   {
    "duration": 154,
    "start_time": "2022-08-21T09:38:53.800Z"
   },
   {
    "duration": 279,
    "start_time": "2022-08-21T09:38:53.956Z"
   },
   {
    "duration": 141,
    "start_time": "2022-08-21T09:38:54.237Z"
   },
   {
    "duration": 351,
    "start_time": "2022-08-21T09:38:54.379Z"
   },
   {
    "duration": 174,
    "start_time": "2022-08-21T09:38:54.731Z"
   },
   {
    "duration": 179,
    "start_time": "2022-08-21T09:38:54.907Z"
   },
   {
    "duration": 159,
    "start_time": "2022-08-21T09:38:55.088Z"
   },
   {
    "duration": 38,
    "start_time": "2022-08-21T09:38:55.249Z"
   },
   {
    "duration": 32,
    "start_time": "2022-08-21T09:38:55.289Z"
   },
   {
    "duration": 231,
    "start_time": "2022-08-21T09:38:55.323Z"
   },
   {
    "duration": 557,
    "start_time": "2022-08-21T09:38:55.556Z"
   },
   {
    "duration": 189,
    "start_time": "2022-08-21T09:38:56.115Z"
   },
   {
    "duration": 587,
    "start_time": "2022-08-21T09:38:56.306Z"
   },
   {
    "duration": 189,
    "start_time": "2022-08-21T09:38:56.896Z"
   },
   {
    "duration": 954,
    "start_time": "2022-08-21T09:38:57.087Z"
   },
   {
    "duration": 809,
    "start_time": "2022-08-21T09:38:58.043Z"
   }
  ],
  "kernelspec": {
   "display_name": "Python 3 (ipykernel)",
   "language": "python",
   "name": "python3"
  },
  "language_info": {
   "codemirror_mode": {
    "name": "ipython",
    "version": 3
   },
   "file_extension": ".py",
   "mimetype": "text/x-python",
   "name": "python",
   "nbconvert_exporter": "python",
   "pygments_lexer": "ipython3",
   "version": "3.9.12"
  },
  "toc": {
   "base_numbering": 1,
   "nav_menu": {},
   "number_sections": true,
   "sideBar": true,
   "skip_h1_title": false,
   "title_cell": "Table of Contents",
   "title_sidebar": "Contents",
   "toc_cell": false,
   "toc_position": {},
   "toc_section_display": true,
   "toc_window_display": false
  }
 },
 "nbformat": 4,
 "nbformat_minor": 2
}
