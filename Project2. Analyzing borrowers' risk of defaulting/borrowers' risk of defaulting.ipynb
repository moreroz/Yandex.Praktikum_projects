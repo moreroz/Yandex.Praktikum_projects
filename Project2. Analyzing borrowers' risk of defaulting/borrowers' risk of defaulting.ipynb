{
 "cells": [
  {
   "cell_type": "markdown",
   "metadata": {},
   "source": [
    "# Analyzing borrowers’ risk of defaulting\n",
    "\n",
    "Our project is to prepare a report for a bank’s loan division. We need to find out if a customer’s marital status and number of children has an impact on whether they will default on a loan. The bank already has some data on customers’ credit worthiness.\n",
    "\n",
    "Our report will be considered when building the **credit score** of a potential customer. The **credit score** is used to evaluate the ability of a potential borrower to repay their loan.\n",
    "\n",
    "We need to test the following hypothesises:\n",
    "\n",
    "•\tIs there a connection between having kids and repaying a loan on time?\n",
    "\n",
    "•\tIs there a connection between marital status and repaying a loan on time?\n",
    "\n",
    "•\tIs there a connection between income level and repaying a loan on time?\n",
    "\n",
    "•\tHow do different loan purposes affect on-time loan repayment?\n",
    "\n"
   ]
  },
  {
   "cell_type": "markdown",
   "metadata": {},
   "source": [
    "## Open the data file and have a look at the general information. \n",
    "\n"
   ]
  },
  {
   "cell_type": "code",
   "execution_count": 1,
   "metadata": {},
   "outputs": [],
   "source": [
    "# Loading all the libraries\n",
    "\n",
    "import pandas as pd\n",
    "import matplotlib.pyplot as plt\n",
    "\n",
    "# Load the data\n",
    "\n",
    "try:\n",
    "    df = pd.read_csv('credit_scoring_eng.csv')\n",
    "except:\n",
    "    df = pd.read_csv('/datasets/credit_scoring_eng.csv')\n",
    "\n"
   ]
  },
  {
   "cell_type": "markdown",
   "metadata": {},
   "source": [
    "## Task 1. Data exploration\n",
    "\n",
    "**Description of the data**\n",
    "- `children` - the number of children in the family\n",
    "- `days_employed` - work experience in days\n",
    "- `dob_years` - client's age in years\n",
    "- `education` - client's education\n",
    "- `education_id` - education identifier\n",
    "- `family_status` - marital status\n",
    "- `family_status_id` - marital status identifier\n",
    "- `gender` - gender of the client\n",
    "- `income_type` - type of employment\n",
    "- `debt` - was there any debt on loan repayment\n",
    "- `total_income` - monthly income\n",
    "- `purpose` - the purpose of obtaining a loan\n",
    "\n"
   ]
  },
  {
   "cell_type": "markdown",
   "metadata": {},
   "source": [
    "Let's explore our data and check for potential issues with the data."
   ]
  },
  {
   "cell_type": "code",
   "execution_count": 2,
   "metadata": {
    "scrolled": true
   },
   "outputs": [
    {
     "name": "stdout",
     "output_type": "stream",
     "text": [
      "<class 'pandas.core.frame.DataFrame'>\n",
      "RangeIndex: 21525 entries, 0 to 21524\n",
      "Data columns (total 12 columns):\n",
      " #   Column            Non-Null Count  Dtype  \n",
      "---  ------            --------------  -----  \n",
      " 0   children          21525 non-null  int64  \n",
      " 1   days_employed     19351 non-null  float64\n",
      " 2   dob_years         21525 non-null  int64  \n",
      " 3   education         21525 non-null  object \n",
      " 4   education_id      21525 non-null  int64  \n",
      " 5   family_status     21525 non-null  object \n",
      " 6   family_status_id  21525 non-null  int64  \n",
      " 7   gender            21525 non-null  object \n",
      " 8   income_type       21525 non-null  object \n",
      " 9   debt              21525 non-null  int64  \n",
      " 10  total_income      19351 non-null  float64\n",
      " 11  purpose           21525 non-null  object \n",
      "dtypes: float64(2), int64(5), object(5)\n",
      "memory usage: 2.0+ MB\n"
     ]
    }
   ],
   "source": [
    "# Let's see how many rows and columns our dataset has\n",
    "\n",
    "df.info()\n"
   ]
  },
  {
   "cell_type": "markdown",
   "metadata": {},
   "source": [
    "From the info about our dataset we can see that there are 21525 rows in it, but the 'days_employed' and 'total_income' have 19351 rows. They may be missed in the same rows."
   ]
  },
  {
   "cell_type": "code",
   "execution_count": 3,
   "metadata": {
    "scrolled": true
   },
   "outputs": [
    {
     "data": {
      "text/html": [
       "<div>\n",
       "<style scoped>\n",
       "    .dataframe tbody tr th:only-of-type {\n",
       "        vertical-align: middle;\n",
       "    }\n",
       "\n",
       "    .dataframe tbody tr th {\n",
       "        vertical-align: top;\n",
       "    }\n",
       "\n",
       "    .dataframe thead th {\n",
       "        text-align: right;\n",
       "    }\n",
       "</style>\n",
       "<table border=\"1\" class=\"dataframe\">\n",
       "  <thead>\n",
       "    <tr style=\"text-align: right;\">\n",
       "      <th></th>\n",
       "      <th>children</th>\n",
       "      <th>days_employed</th>\n",
       "      <th>dob_years</th>\n",
       "      <th>education</th>\n",
       "      <th>education_id</th>\n",
       "      <th>family_status</th>\n",
       "      <th>family_status_id</th>\n",
       "      <th>gender</th>\n",
       "      <th>income_type</th>\n",
       "      <th>debt</th>\n",
       "      <th>total_income</th>\n",
       "      <th>purpose</th>\n",
       "    </tr>\n",
       "  </thead>\n",
       "  <tbody>\n",
       "    <tr>\n",
       "      <th>0</th>\n",
       "      <td>1</td>\n",
       "      <td>-8437.673028</td>\n",
       "      <td>42</td>\n",
       "      <td>bachelor's degree</td>\n",
       "      <td>0</td>\n",
       "      <td>married</td>\n",
       "      <td>0</td>\n",
       "      <td>F</td>\n",
       "      <td>employee</td>\n",
       "      <td>0</td>\n",
       "      <td>40620.102</td>\n",
       "      <td>purchase of the house</td>\n",
       "    </tr>\n",
       "    <tr>\n",
       "      <th>1</th>\n",
       "      <td>1</td>\n",
       "      <td>-4024.803754</td>\n",
       "      <td>36</td>\n",
       "      <td>secondary education</td>\n",
       "      <td>1</td>\n",
       "      <td>married</td>\n",
       "      <td>0</td>\n",
       "      <td>F</td>\n",
       "      <td>employee</td>\n",
       "      <td>0</td>\n",
       "      <td>17932.802</td>\n",
       "      <td>car purchase</td>\n",
       "    </tr>\n",
       "    <tr>\n",
       "      <th>2</th>\n",
       "      <td>0</td>\n",
       "      <td>-5623.422610</td>\n",
       "      <td>33</td>\n",
       "      <td>Secondary Education</td>\n",
       "      <td>1</td>\n",
       "      <td>married</td>\n",
       "      <td>0</td>\n",
       "      <td>M</td>\n",
       "      <td>employee</td>\n",
       "      <td>0</td>\n",
       "      <td>23341.752</td>\n",
       "      <td>purchase of the house</td>\n",
       "    </tr>\n",
       "    <tr>\n",
       "      <th>3</th>\n",
       "      <td>3</td>\n",
       "      <td>-4124.747207</td>\n",
       "      <td>32</td>\n",
       "      <td>secondary education</td>\n",
       "      <td>1</td>\n",
       "      <td>married</td>\n",
       "      <td>0</td>\n",
       "      <td>M</td>\n",
       "      <td>employee</td>\n",
       "      <td>0</td>\n",
       "      <td>42820.568</td>\n",
       "      <td>supplementary education</td>\n",
       "    </tr>\n",
       "    <tr>\n",
       "      <th>4</th>\n",
       "      <td>0</td>\n",
       "      <td>340266.072047</td>\n",
       "      <td>53</td>\n",
       "      <td>secondary education</td>\n",
       "      <td>1</td>\n",
       "      <td>civil partnership</td>\n",
       "      <td>1</td>\n",
       "      <td>F</td>\n",
       "      <td>retiree</td>\n",
       "      <td>0</td>\n",
       "      <td>25378.572</td>\n",
       "      <td>to have a wedding</td>\n",
       "    </tr>\n",
       "    <tr>\n",
       "      <th>5</th>\n",
       "      <td>0</td>\n",
       "      <td>-926.185831</td>\n",
       "      <td>27</td>\n",
       "      <td>bachelor's degree</td>\n",
       "      <td>0</td>\n",
       "      <td>civil partnership</td>\n",
       "      <td>1</td>\n",
       "      <td>M</td>\n",
       "      <td>business</td>\n",
       "      <td>0</td>\n",
       "      <td>40922.170</td>\n",
       "      <td>purchase of the house</td>\n",
       "    </tr>\n",
       "    <tr>\n",
       "      <th>6</th>\n",
       "      <td>0</td>\n",
       "      <td>-2879.202052</td>\n",
       "      <td>43</td>\n",
       "      <td>bachelor's degree</td>\n",
       "      <td>0</td>\n",
       "      <td>married</td>\n",
       "      <td>0</td>\n",
       "      <td>F</td>\n",
       "      <td>business</td>\n",
       "      <td>0</td>\n",
       "      <td>38484.156</td>\n",
       "      <td>housing transactions</td>\n",
       "    </tr>\n",
       "    <tr>\n",
       "      <th>7</th>\n",
       "      <td>0</td>\n",
       "      <td>-152.779569</td>\n",
       "      <td>50</td>\n",
       "      <td>SECONDARY EDUCATION</td>\n",
       "      <td>1</td>\n",
       "      <td>married</td>\n",
       "      <td>0</td>\n",
       "      <td>M</td>\n",
       "      <td>employee</td>\n",
       "      <td>0</td>\n",
       "      <td>21731.829</td>\n",
       "      <td>education</td>\n",
       "    </tr>\n",
       "    <tr>\n",
       "      <th>8</th>\n",
       "      <td>2</td>\n",
       "      <td>-6929.865299</td>\n",
       "      <td>35</td>\n",
       "      <td>BACHELOR'S DEGREE</td>\n",
       "      <td>0</td>\n",
       "      <td>civil partnership</td>\n",
       "      <td>1</td>\n",
       "      <td>F</td>\n",
       "      <td>employee</td>\n",
       "      <td>0</td>\n",
       "      <td>15337.093</td>\n",
       "      <td>having a wedding</td>\n",
       "    </tr>\n",
       "    <tr>\n",
       "      <th>9</th>\n",
       "      <td>0</td>\n",
       "      <td>-2188.756445</td>\n",
       "      <td>41</td>\n",
       "      <td>secondary education</td>\n",
       "      <td>1</td>\n",
       "      <td>married</td>\n",
       "      <td>0</td>\n",
       "      <td>M</td>\n",
       "      <td>employee</td>\n",
       "      <td>0</td>\n",
       "      <td>23108.150</td>\n",
       "      <td>purchase of the house for my family</td>\n",
       "    </tr>\n",
       "  </tbody>\n",
       "</table>\n",
       "</div>"
      ],
      "text/plain": [
       "   children  days_employed  dob_years            education  education_id  \\\n",
       "0         1   -8437.673028         42    bachelor's degree             0   \n",
       "1         1   -4024.803754         36  secondary education             1   \n",
       "2         0   -5623.422610         33  Secondary Education             1   \n",
       "3         3   -4124.747207         32  secondary education             1   \n",
       "4         0  340266.072047         53  secondary education             1   \n",
       "5         0    -926.185831         27    bachelor's degree             0   \n",
       "6         0   -2879.202052         43    bachelor's degree             0   \n",
       "7         0    -152.779569         50  SECONDARY EDUCATION             1   \n",
       "8         2   -6929.865299         35    BACHELOR'S DEGREE             0   \n",
       "9         0   -2188.756445         41  secondary education             1   \n",
       "\n",
       "       family_status  family_status_id gender income_type  debt  total_income  \\\n",
       "0            married                 0      F    employee     0     40620.102   \n",
       "1            married                 0      F    employee     0     17932.802   \n",
       "2            married                 0      M    employee     0     23341.752   \n",
       "3            married                 0      M    employee     0     42820.568   \n",
       "4  civil partnership                 1      F     retiree     0     25378.572   \n",
       "5  civil partnership                 1      M    business     0     40922.170   \n",
       "6            married                 0      F    business     0     38484.156   \n",
       "7            married                 0      M    employee     0     21731.829   \n",
       "8  civil partnership                 1      F    employee     0     15337.093   \n",
       "9            married                 0      M    employee     0     23108.150   \n",
       "\n",
       "                               purpose  \n",
       "0                purchase of the house  \n",
       "1                         car purchase  \n",
       "2                purchase of the house  \n",
       "3              supplementary education  \n",
       "4                    to have a wedding  \n",
       "5                purchase of the house  \n",
       "6                 housing transactions  \n",
       "7                            education  \n",
       "8                     having a wedding  \n",
       "9  purchase of the house for my family  "
      ]
     },
     "execution_count": 3,
     "metadata": {},
     "output_type": "execute_result"
    }
   ],
   "source": [
    "# let's print the first N rows\n",
    "\n",
    "df.head(10)"
   ]
  },
  {
   "cell_type": "markdown",
   "metadata": {},
   "source": [
    "\n"
   ]
  },
  {
   "cell_type": "markdown",
   "metadata": {
    "scrolled": false
   },
   "source": [
    "# Get info on data\n",
    "There are several issues indetified with the data:\n",
    "1. Days employed are negative\n",
    "2. Equal education degrees are written in different cases\n",
    "3. Some data are missed (empty boxes in total_income and days_employed columns)\n",
    "4. Negative data in children column\n"
   ]
  },
  {
   "cell_type": "code",
   "execution_count": 4,
   "metadata": {
    "scrolled": true
   },
   "outputs": [
    {
     "data": {
      "text/plain": [
       "children               0\n",
       "days_employed       2174\n",
       "dob_years              0\n",
       "education              0\n",
       "education_id           0\n",
       "family_status          0\n",
       "family_status_id       0\n",
       "gender                 0\n",
       "income_type            0\n",
       "debt                   0\n",
       "total_income        2174\n",
       "purpose                0\n",
       "dtype: int64"
      ]
     },
     "execution_count": 4,
     "metadata": {},
     "output_type": "execute_result"
    }
   ],
   "source": [
    "# Let's look in the filtered table at the first column with missing data\n",
    "\n",
    "df.isna().sum()\n"
   ]
  },
  {
   "cell_type": "markdown",
   "metadata": {},
   "source": [
    "Missed data described above can be symmetric. Having counted the missing values in all rows with missing values we noticed that the missing samples are of the same size.\n"
   ]
  },
  {
   "cell_type": "code",
   "execution_count": 5,
   "metadata": {},
   "outputs": [
    {
     "name": "stdout",
     "output_type": "stream",
     "text": [
      "<class 'pandas.core.frame.DataFrame'>\n",
      "Int64Index: 2174 entries, 12 to 21510\n",
      "Data columns (total 12 columns):\n",
      " #   Column            Non-Null Count  Dtype  \n",
      "---  ------            --------------  -----  \n",
      " 0   children          2174 non-null   int64  \n",
      " 1   days_employed     0 non-null      float64\n",
      " 2   dob_years         2174 non-null   int64  \n",
      " 3   education         2174 non-null   object \n",
      " 4   education_id      2174 non-null   int64  \n",
      " 5   family_status     2174 non-null   object \n",
      " 6   family_status_id  2174 non-null   int64  \n",
      " 7   gender            2174 non-null   object \n",
      " 8   income_type       2174 non-null   object \n",
      " 9   debt              2174 non-null   int64  \n",
      " 10  total_income      0 non-null      float64\n",
      " 11  purpose           2174 non-null   object \n",
      "dtypes: float64(2), int64(5), object(5)\n",
      "memory usage: 220.8+ KB\n"
     ]
    }
   ],
   "source": [
    "# Let's apply multiple conditions for filtering data and look at the number of rows in the filtered table.\n",
    "\n",
    "missing_values = df[df['days_employed'].isna()&df['total_income'].isna()]\n",
    "\n",
    "missing_values.info()"
   ]
  },
  {
   "cell_type": "markdown",
   "metadata": {},
   "source": [
    "**Intermediate conclusion**\n",
    "\n",
    "The number of rows in the filtered table matches the number of missing values - we can make a conclusion that they are missed in the same rows.\n",
    "\n",
    "Let's calculate the percentage of the missing values compared to the whole dataset. \n",
    "\n",
    "Let's try to investigate if there is some common criteria for those people with missing values in our data. \n",
    "We will take this group and check how the data that are not missing are distributed in it."
   ]
  },
  {
   "cell_type": "code",
   "execution_count": 6,
   "metadata": {
    "scrolled": true
   },
   "outputs": [
    {
     "name": "stdout",
     "output_type": "stream",
     "text": [
      "10%\n"
     ]
    }
   ],
   "source": [
    "# Let's calculate the percentage of the missing values compared to the whole dataset\n",
    "\n",
    "print(\"{:.0%}\".format(df['total_income'].isna().sum()/df['children'].count()))"
   ]
  },
  {
   "cell_type": "markdown",
   "metadata": {},
   "source": [
    "10% of total is considerably large piece of data. We probably need to fill the missing values.\n",
    "They could be due to specific client characteristics, such as education level. \n"
   ]
  },
  {
   "cell_type": "code",
   "execution_count": 7,
   "metadata": {},
   "outputs": [
    {
     "data": {
      "text/html": [
       "<div>\n",
       "<style scoped>\n",
       "    .dataframe tbody tr th:only-of-type {\n",
       "        vertical-align: middle;\n",
       "    }\n",
       "\n",
       "    .dataframe tbody tr th {\n",
       "        vertical-align: top;\n",
       "    }\n",
       "\n",
       "    .dataframe thead th {\n",
       "        text-align: right;\n",
       "    }\n",
       "</style>\n",
       "<table border=\"1\" class=\"dataframe\">\n",
       "  <thead>\n",
       "    <tr style=\"text-align: right;\">\n",
       "      <th></th>\n",
       "      <th>children</th>\n",
       "      <th>days_employed</th>\n",
       "      <th>dob_years</th>\n",
       "      <th>education_id</th>\n",
       "      <th>family_status_id</th>\n",
       "      <th>debt</th>\n",
       "      <th>total_income</th>\n",
       "    </tr>\n",
       "  </thead>\n",
       "  <tbody>\n",
       "    <tr>\n",
       "      <th>mean</th>\n",
       "      <td>0.552438</td>\n",
       "      <td>NaN</td>\n",
       "      <td>43.632015</td>\n",
       "      <td>0.800828</td>\n",
       "      <td>0.975161</td>\n",
       "      <td>0.078197</td>\n",
       "      <td>NaN</td>\n",
       "    </tr>\n",
       "    <tr>\n",
       "      <th>min</th>\n",
       "      <td>-1.000000</td>\n",
       "      <td>NaN</td>\n",
       "      <td>0.000000</td>\n",
       "      <td>0.000000</td>\n",
       "      <td>0.000000</td>\n",
       "      <td>0.000000</td>\n",
       "      <td>NaN</td>\n",
       "    </tr>\n",
       "    <tr>\n",
       "      <th>max</th>\n",
       "      <td>20.000000</td>\n",
       "      <td>NaN</td>\n",
       "      <td>73.000000</td>\n",
       "      <td>3.000000</td>\n",
       "      <td>4.000000</td>\n",
       "      <td>1.000000</td>\n",
       "      <td>NaN</td>\n",
       "    </tr>\n",
       "  </tbody>\n",
       "</table>\n",
       "</div>"
      ],
      "text/plain": [
       "       children  days_employed  dob_years  education_id  family_status_id  \\\n",
       "mean   0.552438            NaN  43.632015      0.800828          0.975161   \n",
       "min   -1.000000            NaN   0.000000      0.000000          0.000000   \n",
       "max   20.000000            NaN  73.000000      3.000000          4.000000   \n",
       "\n",
       "          debt  total_income  \n",
       "mean  0.078197           NaN  \n",
       "min   0.000000           NaN  \n",
       "max   1.000000           NaN  "
      ]
     },
     "execution_count": 7,
     "metadata": {},
     "output_type": "execute_result"
    }
   ],
   "source": [
    "# Let's investigate clients who do not have data on identified characteristic and the column with the missing values\n",
    "\n",
    "df[df['days_employed'].isna()].describe().loc[['mean', 'min', 'max'],:]\n"
   ]
  },
  {
   "cell_type": "code",
   "execution_count": 8,
   "metadata": {},
   "outputs": [
    {
     "data": {
      "text/plain": [
       "secondary education    0.647654\n",
       "bachelor's degree      0.228151\n",
       "SECONDARY EDUCATION    0.030819\n",
       "Secondary Education    0.029899\n",
       "some college           0.025299\n",
       "Bachelor's Degree      0.011500\n",
       "BACHELOR'S DEGREE      0.010580\n",
       "primary education      0.008740\n",
       "SOME COLLEGE           0.003220\n",
       "Some College           0.003220\n",
       "Primary Education      0.000460\n",
       "PRIMARY EDUCATION      0.000460\n",
       "Name: education, dtype: float64"
      ]
     },
     "execution_count": 8,
     "metadata": {},
     "output_type": "execute_result"
    }
   ],
   "source": [
    "# Checking distribution\n",
    "\n",
    "missing_values['education'].value_counts(normalize=True)"
   ]
  },
  {
   "cell_type": "markdown",
   "metadata": {},
   "source": [
    "We have not identified any particular dependance of missing values on education level.\n",
    "\n",
    "**Possible reasons for missing values in data**\n",
    "\n",
    "The data might have been missed randomly because of inaccuracy during their collection. \n",
    "\n",
    "We will compare frequiancy of each parameter of education level in missing rows and in the whole dataset."
   ]
  },
  {
   "cell_type": "code",
   "execution_count": 9,
   "metadata": {},
   "outputs": [
    {
     "data": {
      "text/plain": [
       "secondary education    0.638792\n",
       "bachelor's degree      0.219187\n",
       "SECONDARY EDUCATION    0.035865\n",
       "Secondary Education    0.033031\n",
       "some college           0.031034\n",
       "BACHELOR'S DEGREE      0.012729\n",
       "Bachelor's Degree      0.012451\n",
       "primary education      0.011614\n",
       "Some College           0.002184\n",
       "SOME COLLEGE           0.001347\n",
       "PRIMARY EDUCATION      0.000790\n",
       "Primary Education      0.000697\n",
       "graduate degree        0.000186\n",
       "GRADUATE DEGREE        0.000046\n",
       "Graduate Degree        0.000046\n",
       "Name: education, dtype: float64"
      ]
     },
     "execution_count": 9,
     "metadata": {},
     "output_type": "execute_result"
    }
   ],
   "source": [
    "# Checking the distribution in the whole dataset\n",
    "\n",
    "df['education'].value_counts(normalize=True)   "
   ]
  },
  {
   "cell_type": "markdown",
   "metadata": {},
   "source": [
    "**Intermediate conclusion**\n",
    "\n",
    "The distribution in the original dataset is similar to the distribution of the filtered table. It means that no particular characteristics of rows with missing data exist.\n"
   ]
  },
  {
   "cell_type": "markdown",
   "metadata": {},
   "source": [
    "**Conclusions**\n",
    "\n",
    "No specific patterns were identified. We have checked distributions for the whole dataset as well as for missing ones, they are similar.\n",
    "\n",
    "10% of data in missing columns is a probable subject for filling them in. \n",
    "It's may be not a good idea to fill in the total_income column because we don't actually know the reason why they are missed (may be there is no income at all). Filling in the income data could lead to abnormal data deviations and wrong conclusions.\n",
    "\n",
    "Days employed should be probably filled in with the mean values by corresponding categories of age groups.\n",
    "\n",
    "Also we need to transform our data - to remove duplicates, to correct names with different registers, to change unclear names.\n"
   ]
  },
  {
   "cell_type": "markdown",
   "metadata": {},
   "source": [
    "## Data transformation\n",
    "\n",
    "Let's go through each column to see what issues we may have in them.\n",
    "\n",
    "Let's remove duplicates and fix educational information if required."
   ]
  },
  {
   "cell_type": "code",
   "execution_count": 10,
   "metadata": {},
   "outputs": [
    {
     "data": {
      "text/plain": [
       "array([\"bachelor's degree\", 'secondary education', 'Secondary Education',\n",
       "       'SECONDARY EDUCATION', \"BACHELOR'S DEGREE\", 'some college',\n",
       "       'primary education', \"Bachelor's Degree\", 'SOME COLLEGE',\n",
       "       'Some College', 'PRIMARY EDUCATION', 'Primary Education',\n",
       "       'Graduate Degree', 'GRADUATE DEGREE', 'graduate degree'],\n",
       "      dtype=object)"
      ]
     },
     "execution_count": 10,
     "metadata": {},
     "output_type": "execute_result"
    }
   ],
   "source": [
    "# Let's see all values in education column to check if and what spellings will need to be fixed\n",
    "\n",
    "df['education'].unique()"
   ]
  },
  {
   "cell_type": "code",
   "execution_count": 11,
   "metadata": {
    "scrolled": true
   },
   "outputs": [
    {
     "data": {
      "text/html": [
       "<div>\n",
       "<style scoped>\n",
       "    .dataframe tbody tr th:only-of-type {\n",
       "        vertical-align: middle;\n",
       "    }\n",
       "\n",
       "    .dataframe tbody tr th {\n",
       "        vertical-align: top;\n",
       "    }\n",
       "\n",
       "    .dataframe thead th {\n",
       "        text-align: right;\n",
       "    }\n",
       "</style>\n",
       "<table border=\"1\" class=\"dataframe\">\n",
       "  <thead>\n",
       "    <tr style=\"text-align: right;\">\n",
       "      <th></th>\n",
       "      <th>children</th>\n",
       "      <th>days_employed</th>\n",
       "      <th>dob_years</th>\n",
       "      <th>education</th>\n",
       "      <th>education_id</th>\n",
       "      <th>family_status</th>\n",
       "      <th>family_status_id</th>\n",
       "      <th>gender</th>\n",
       "      <th>income_type</th>\n",
       "      <th>debt</th>\n",
       "      <th>total_income</th>\n",
       "      <th>purpose</th>\n",
       "      <th>education_lowercase</th>\n",
       "    </tr>\n",
       "  </thead>\n",
       "  <tbody>\n",
       "    <tr>\n",
       "      <th>0</th>\n",
       "      <td>1</td>\n",
       "      <td>-8437.673028</td>\n",
       "      <td>42</td>\n",
       "      <td>bachelor's degree</td>\n",
       "      <td>0</td>\n",
       "      <td>married</td>\n",
       "      <td>0</td>\n",
       "      <td>F</td>\n",
       "      <td>employee</td>\n",
       "      <td>0</td>\n",
       "      <td>40620.102</td>\n",
       "      <td>purchase of the house</td>\n",
       "      <td>bachelor's degree</td>\n",
       "    </tr>\n",
       "    <tr>\n",
       "      <th>1</th>\n",
       "      <td>1</td>\n",
       "      <td>-4024.803754</td>\n",
       "      <td>36</td>\n",
       "      <td>secondary education</td>\n",
       "      <td>1</td>\n",
       "      <td>married</td>\n",
       "      <td>0</td>\n",
       "      <td>F</td>\n",
       "      <td>employee</td>\n",
       "      <td>0</td>\n",
       "      <td>17932.802</td>\n",
       "      <td>car purchase</td>\n",
       "      <td>secondary education</td>\n",
       "    </tr>\n",
       "    <tr>\n",
       "      <th>2</th>\n",
       "      <td>0</td>\n",
       "      <td>-5623.422610</td>\n",
       "      <td>33</td>\n",
       "      <td>Secondary Education</td>\n",
       "      <td>1</td>\n",
       "      <td>married</td>\n",
       "      <td>0</td>\n",
       "      <td>M</td>\n",
       "      <td>employee</td>\n",
       "      <td>0</td>\n",
       "      <td>23341.752</td>\n",
       "      <td>purchase of the house</td>\n",
       "      <td>secondary education</td>\n",
       "    </tr>\n",
       "    <tr>\n",
       "      <th>3</th>\n",
       "      <td>3</td>\n",
       "      <td>-4124.747207</td>\n",
       "      <td>32</td>\n",
       "      <td>secondary education</td>\n",
       "      <td>1</td>\n",
       "      <td>married</td>\n",
       "      <td>0</td>\n",
       "      <td>M</td>\n",
       "      <td>employee</td>\n",
       "      <td>0</td>\n",
       "      <td>42820.568</td>\n",
       "      <td>supplementary education</td>\n",
       "      <td>secondary education</td>\n",
       "    </tr>\n",
       "    <tr>\n",
       "      <th>4</th>\n",
       "      <td>0</td>\n",
       "      <td>340266.072047</td>\n",
       "      <td>53</td>\n",
       "      <td>secondary education</td>\n",
       "      <td>1</td>\n",
       "      <td>civil partnership</td>\n",
       "      <td>1</td>\n",
       "      <td>F</td>\n",
       "      <td>retiree</td>\n",
       "      <td>0</td>\n",
       "      <td>25378.572</td>\n",
       "      <td>to have a wedding</td>\n",
       "      <td>secondary education</td>\n",
       "    </tr>\n",
       "    <tr>\n",
       "      <th>5</th>\n",
       "      <td>0</td>\n",
       "      <td>-926.185831</td>\n",
       "      <td>27</td>\n",
       "      <td>bachelor's degree</td>\n",
       "      <td>0</td>\n",
       "      <td>civil partnership</td>\n",
       "      <td>1</td>\n",
       "      <td>M</td>\n",
       "      <td>business</td>\n",
       "      <td>0</td>\n",
       "      <td>40922.170</td>\n",
       "      <td>purchase of the house</td>\n",
       "      <td>bachelor's degree</td>\n",
       "    </tr>\n",
       "    <tr>\n",
       "      <th>6</th>\n",
       "      <td>0</td>\n",
       "      <td>-2879.202052</td>\n",
       "      <td>43</td>\n",
       "      <td>bachelor's degree</td>\n",
       "      <td>0</td>\n",
       "      <td>married</td>\n",
       "      <td>0</td>\n",
       "      <td>F</td>\n",
       "      <td>business</td>\n",
       "      <td>0</td>\n",
       "      <td>38484.156</td>\n",
       "      <td>housing transactions</td>\n",
       "      <td>bachelor's degree</td>\n",
       "    </tr>\n",
       "    <tr>\n",
       "      <th>7</th>\n",
       "      <td>0</td>\n",
       "      <td>-152.779569</td>\n",
       "      <td>50</td>\n",
       "      <td>SECONDARY EDUCATION</td>\n",
       "      <td>1</td>\n",
       "      <td>married</td>\n",
       "      <td>0</td>\n",
       "      <td>M</td>\n",
       "      <td>employee</td>\n",
       "      <td>0</td>\n",
       "      <td>21731.829</td>\n",
       "      <td>education</td>\n",
       "      <td>secondary education</td>\n",
       "    </tr>\n",
       "    <tr>\n",
       "      <th>8</th>\n",
       "      <td>2</td>\n",
       "      <td>-6929.865299</td>\n",
       "      <td>35</td>\n",
       "      <td>BACHELOR'S DEGREE</td>\n",
       "      <td>0</td>\n",
       "      <td>civil partnership</td>\n",
       "      <td>1</td>\n",
       "      <td>F</td>\n",
       "      <td>employee</td>\n",
       "      <td>0</td>\n",
       "      <td>15337.093</td>\n",
       "      <td>having a wedding</td>\n",
       "      <td>bachelor's degree</td>\n",
       "    </tr>\n",
       "    <tr>\n",
       "      <th>9</th>\n",
       "      <td>0</td>\n",
       "      <td>-2188.756445</td>\n",
       "      <td>41</td>\n",
       "      <td>secondary education</td>\n",
       "      <td>1</td>\n",
       "      <td>married</td>\n",
       "      <td>0</td>\n",
       "      <td>M</td>\n",
       "      <td>employee</td>\n",
       "      <td>0</td>\n",
       "      <td>23108.150</td>\n",
       "      <td>purchase of the house for my family</td>\n",
       "      <td>secondary education</td>\n",
       "    </tr>\n",
       "  </tbody>\n",
       "</table>\n",
       "</div>"
      ],
      "text/plain": [
       "   children  days_employed  dob_years            education  education_id  \\\n",
       "0         1   -8437.673028         42    bachelor's degree             0   \n",
       "1         1   -4024.803754         36  secondary education             1   \n",
       "2         0   -5623.422610         33  Secondary Education             1   \n",
       "3         3   -4124.747207         32  secondary education             1   \n",
       "4         0  340266.072047         53  secondary education             1   \n",
       "5         0    -926.185831         27    bachelor's degree             0   \n",
       "6         0   -2879.202052         43    bachelor's degree             0   \n",
       "7         0    -152.779569         50  SECONDARY EDUCATION             1   \n",
       "8         2   -6929.865299         35    BACHELOR'S DEGREE             0   \n",
       "9         0   -2188.756445         41  secondary education             1   \n",
       "\n",
       "       family_status  family_status_id gender income_type  debt  total_income  \\\n",
       "0            married                 0      F    employee     0     40620.102   \n",
       "1            married                 0      F    employee     0     17932.802   \n",
       "2            married                 0      M    employee     0     23341.752   \n",
       "3            married                 0      M    employee     0     42820.568   \n",
       "4  civil partnership                 1      F     retiree     0     25378.572   \n",
       "5  civil partnership                 1      M    business     0     40922.170   \n",
       "6            married                 0      F    business     0     38484.156   \n",
       "7            married                 0      M    employee     0     21731.829   \n",
       "8  civil partnership                 1      F    employee     0     15337.093   \n",
       "9            married                 0      M    employee     0     23108.150   \n",
       "\n",
       "                               purpose  education_lowercase  \n",
       "0                purchase of the house    bachelor's degree  \n",
       "1                         car purchase  secondary education  \n",
       "2                purchase of the house  secondary education  \n",
       "3              supplementary education  secondary education  \n",
       "4                    to have a wedding  secondary education  \n",
       "5                purchase of the house    bachelor's degree  \n",
       "6                 housing transactions    bachelor's degree  \n",
       "7                            education  secondary education  \n",
       "8                     having a wedding    bachelor's degree  \n",
       "9  purchase of the house for my family  secondary education  "
      ]
     },
     "execution_count": 11,
     "metadata": {},
     "output_type": "execute_result"
    }
   ],
   "source": [
    "# Fix the registers and add a column with updated education names\n",
    "\n",
    "df['education_lowercase'] = df['education'].str.lower()\n",
    "df.head(10)"
   ]
  },
  {
   "cell_type": "code",
   "execution_count": 12,
   "metadata": {},
   "outputs": [
    {
     "data": {
      "text/plain": [
       "array([\"bachelor's degree\", 'secondary education', 'some college',\n",
       "       'primary education', 'graduate degree'], dtype=object)"
      ]
     },
     "execution_count": 12,
     "metadata": {},
     "output_type": "execute_result"
    }
   ],
   "source": [
    "# Checking all the values in the column to make sure we fixed them\n",
    "\n",
    "df['education_lowercase'].unique()"
   ]
  },
  {
   "cell_type": "markdown",
   "metadata": {},
   "source": [
    "Check the data in the `children` column"
   ]
  },
  {
   "cell_type": "code",
   "execution_count": 13,
   "metadata": {},
   "outputs": [
    {
     "data": {
      "text/plain": [
       " 0     0.657329\n",
       " 1     0.223833\n",
       " 2     0.095470\n",
       " 3     0.015331\n",
       " 20    0.003531\n",
       "-1     0.002184\n",
       " 4     0.001905\n",
       " 5     0.000418\n",
       "Name: children, dtype: float64"
      ]
     },
     "execution_count": 13,
     "metadata": {},
     "output_type": "execute_result"
    }
   ],
   "source": [
    "# Let's see the distribution of values in the `children` column\n",
    "df['children'].value_counts(normalize=True)"
   ]
  },
  {
   "cell_type": "markdown",
   "metadata": {},
   "source": [
    "There is incorrect data value equal to '-1'. This can be a misprint of '1'.\n",
    "\n",
    "Another strange value is '20'. This also can be a misprint (adding '0' after '2' by mistake). It's difficult to imagine that this amount of children is more popular than 4 of 5. Let's change '20' to '2'\n"
   ]
  },
  {
   "cell_type": "code",
   "execution_count": 14,
   "metadata": {},
   "outputs": [],
   "source": [
    "# Replacing incorrect data according to our description above\n",
    "\n",
    "df = df.replace({'children':{-1:1,20:2}})"
   ]
  },
  {
   "cell_type": "code",
   "execution_count": 15,
   "metadata": {},
   "outputs": [
    {
     "data": {
      "text/plain": [
       "0    0.657329\n",
       "1    0.226016\n",
       "2    0.099001\n",
       "3    0.015331\n",
       "4    0.001905\n",
       "5    0.000418\n",
       "Name: children, dtype: float64"
      ]
     },
     "execution_count": 15,
     "metadata": {},
     "output_type": "execute_result"
    }
   ],
   "source": [
    "# Checking the `children` column again to make sure it's all fixed\n",
    "\n",
    "df['children'].value_counts(normalize=True)"
   ]
  },
  {
   "cell_type": "markdown",
   "metadata": {},
   "source": [
    "Let's check the `days_employed` column for adequacy. \n",
    "First we will check if there are some negative values.\n",
    "Then we will divide amount of days by 365 in order to identify values that are too high (it's easier to asses in years)\n"
   ]
  },
  {
   "cell_type": "code",
   "execution_count": 16,
   "metadata": {},
   "outputs": [
    {
     "name": "stdout",
     "output_type": "stream",
     "text": [
      "False    18080\n",
      "True      3445\n",
      "Name: days_employed, dtype: int64\n",
      "82%\n"
     ]
    }
   ],
   "source": [
    "# Let's find problematic data in `days_employed`, if they exist, and calculate the percentage\n",
    "\n",
    "pos = df.loc[df[\"days_employed\"] >= 0, \"days_employed\"].count()  # sum of greater than 0\n",
    "neg = df.loc[df[\"days_employed\"] < 0, \"days_employed\"].count()\n",
    "\n",
    "\n",
    "big = (df['days_employed'] / 365)\n",
    "print((big>100).value_counts())\n",
    "print (\"{:.0%}\".format(neg/(pos+neg)))"
   ]
  },
  {
   "cell_type": "markdown",
   "metadata": {},
   "source": [
    "82% of days_employed are negative - it's very high percentage of problematic data.\n",
    "Although there is a huge amount of too high days of employment - no one can work more than 100 years.\n",
    "There must be a mistake in negative sign - we can remove them so negative figures will become positive.\n",
    "Rows with unbelievably high working days could be filled in with current value divided by 100.\n",
    "\n"
   ]
  },
  {
   "cell_type": "code",
   "execution_count": 17,
   "metadata": {},
   "outputs": [],
   "source": [
    "# Address the problematic values, which are negative\n",
    "df.loc[ df['days_employed'] < 0, 'days_employed'] = -df['days_employed']\n"
   ]
  },
  {
   "cell_type": "code",
   "execution_count": 18,
   "metadata": {},
   "outputs": [
    {
     "data": {
      "text/plain": [
       "0"
      ]
     },
     "execution_count": 18,
     "metadata": {},
     "output_type": "execute_result"
    }
   ],
   "source": [
    "# Check the result - make sure it's fixed\n",
    "df.loc[df['days_employed'] < 0, 'days_employed'].count()"
   ]
  },
  {
   "cell_type": "code",
   "execution_count": 19,
   "metadata": {},
   "outputs": [
    {
     "name": "stdout",
     "output_type": "stream",
     "text": [
      "False    18080\n",
      "True      3445\n",
      "Name: days_employed, dtype: int64\n"
     ]
    }
   ],
   "source": [
    "# Address the problematic values which are too high\n",
    "df.loc[df['days_employed']/365 > 100, 'days_employed'] = df['days_employed']/100\n",
    "\n",
    "print((big>100).value_counts())"
   ]
  },
  {
   "cell_type": "markdown",
   "metadata": {},
   "source": [
    "Let's now look at the client's age and whether there are any issues there. "
   ]
  },
  {
   "cell_type": "code",
   "execution_count": 20,
   "metadata": {
    "scrolled": true
   },
   "outputs": [
    {
     "data": {
      "text/plain": [
       "35    2.866434\n",
       "40    2.829268\n",
       "41    2.819977\n",
       "34    2.801394\n",
       "38    2.778165\n",
       "42    2.773519\n",
       "33    2.699187\n",
       "39    2.662021\n",
       "31    2.601626\n",
       "36    2.578397\n",
       "44    2.541231\n",
       "29    2.531940\n",
       "30    2.508711\n",
       "48    2.499419\n",
       "37    2.494774\n",
       "50    2.387921\n",
       "43    2.383275\n",
       "32    2.369338\n",
       "49    2.360046\n",
       "28    2.336818\n",
       "45    2.308943\n",
       "27    2.290360\n",
       "56    2.262485\n",
       "52    2.248548\n",
       "47    2.229965\n",
       "54    2.225319\n",
       "46    2.206736\n",
       "58    2.141696\n",
       "57    2.137050\n",
       "53    2.132404\n",
       "51    2.081301\n",
       "59    2.062718\n",
       "55    2.058072\n",
       "26    1.895470\n",
       "60    1.751452\n",
       "25    1.658537\n",
       "61    1.649245\n",
       "62    1.635308\n",
       "63    1.249710\n",
       "64    1.231127\n",
       "24    1.226481\n",
       "23    1.180023\n",
       "65    0.901278\n",
       "66    0.850174\n",
       "22    0.850174\n",
       "67    0.775842\n",
       "21    0.515679\n",
       "0     0.469222\n",
       "68    0.459930\n",
       "69    0.394890\n",
       "70    0.301974\n",
       "71    0.269454\n",
       "20    0.236934\n",
       "72    0.153310\n",
       "19    0.065041\n",
       "73    0.037166\n",
       "74    0.027875\n",
       "75    0.004646\n",
       "Name: dob_years, dtype: float64"
      ]
     },
     "execution_count": 20,
     "metadata": {},
     "output_type": "execute_result"
    }
   ],
   "source": [
    "# Check the `dob_years` for suspicious values and count the percentage\n",
    "df['dob_years'].value_counts(normalize=True)*100\n",
    "\n"
   ]
  },
  {
   "cell_type": "markdown",
   "metadata": {},
   "source": [
    "Problematic values are those equal to '0' - 0,469% of total - they look strange as it can't be someone's age.\n",
    "It seems to be just missed from the dataset - we can fill in these values with median without the isk of significant influence on the dataset.\n"
   ]
  },
  {
   "cell_type": "code",
   "execution_count": 21,
   "metadata": {},
   "outputs": [],
   "source": [
    "# Address the issues in the `dob_years` column, if they exist\n",
    "\n",
    "df['dob_years']=df['dob_years'].replace(0,df['dob_years'].median())"
   ]
  },
  {
   "cell_type": "code",
   "execution_count": 22,
   "metadata": {},
   "outputs": [
    {
     "data": {
      "text/plain": [
       "0"
      ]
     },
     "execution_count": 22,
     "metadata": {},
     "output_type": "execute_result"
    }
   ],
   "source": [
    "# Check the result - make sure it's fixed\n",
    "df[df['dob_years'] == 0]['dob_years'].count()"
   ]
  },
  {
   "cell_type": "markdown",
   "metadata": {},
   "source": [
    "Now let's check the `family_status` column. "
   ]
  },
  {
   "cell_type": "code",
   "execution_count": 23,
   "metadata": {},
   "outputs": [
    {
     "data": {
      "text/plain": [
       "array(['married', 'civil partnership', 'widow / widower', 'divorced',\n",
       "       'unmarried'], dtype=object)"
      ]
     },
     "execution_count": 23,
     "metadata": {},
     "output_type": "execute_result"
    }
   ],
   "source": [
    "# Let's see the values for the column\n",
    "df['family_status'].unique()"
   ]
  },
  {
   "cell_type": "markdown",
   "metadata": {},
   "source": [
    "\n",
    "There are no problematic values in this column\n"
   ]
  },
  {
   "cell_type": "markdown",
   "metadata": {},
   "source": [
    "Now let's check the `gender` column. Let's see what kind of values there are and what problems we may need to address."
   ]
  },
  {
   "cell_type": "code",
   "execution_count": 24,
   "metadata": {},
   "outputs": [
    {
     "data": {
      "text/plain": [
       "array(['F', 'M', 'XNA'], dtype=object)"
      ]
     },
     "execution_count": 24,
     "metadata": {},
     "output_type": "execute_result"
    }
   ],
   "source": [
    "# Let's see the values in the column\n",
    "df['gender'].unique()"
   ]
  },
  {
   "cell_type": "code",
   "execution_count": 25,
   "metadata": {},
   "outputs": [],
   "source": [
    "# Address the problematic values, if they exist\n",
    "df['gender']=df['gender'].replace('XNA','Not defined') #Replacing not clear names on 'Not defined'"
   ]
  },
  {
   "cell_type": "code",
   "execution_count": 26,
   "metadata": {},
   "outputs": [
    {
     "data": {
      "text/plain": [
       "0"
      ]
     },
     "execution_count": 26,
     "metadata": {},
     "output_type": "execute_result"
    }
   ],
   "source": [
    "# Check the result - make sure it's fixed\n",
    "\n",
    "df[df['gender'] == 'XNA']['gender'].count()"
   ]
  },
  {
   "cell_type": "markdown",
   "metadata": {},
   "source": [
    "Now let's check the `income_type` column."
   ]
  },
  {
   "cell_type": "code",
   "execution_count": 27,
   "metadata": {},
   "outputs": [
    {
     "data": {
      "text/plain": [
       "array(['employee', 'retiree', 'business', 'civil servant', 'unemployed',\n",
       "       'entrepreneur', 'student', 'paternity / maternity leave'],\n",
       "      dtype=object)"
      ]
     },
     "execution_count": 27,
     "metadata": {},
     "output_type": "execute_result"
    }
   ],
   "source": [
    "# Let's see the values in the column\n",
    "df['income_type'].unique()"
   ]
  },
  {
   "cell_type": "code",
   "execution_count": 28,
   "metadata": {},
   "outputs": [],
   "source": [
    "# Address the problematic values, if they exist\n",
    "\n",
    "#The difference between 'business' and 'entrepreneur' is not clear - but actually they must be the same. \n",
    "#So let's replace 'business' to 'entrepreneur'\n",
    "df['income_type']=df['income_type'].replace('business','entrepreneur')\n"
   ]
  },
  {
   "cell_type": "code",
   "execution_count": 29,
   "metadata": {},
   "outputs": [
    {
     "data": {
      "text/plain": [
       "0"
      ]
     },
     "execution_count": 29,
     "metadata": {},
     "output_type": "execute_result"
    }
   ],
   "source": [
    "# Check the result - make sure it's fixed\n",
    "df[df['income_type'] == 'business']['income_type'].count()\n"
   ]
  },
  {
   "cell_type": "markdown",
   "metadata": {},
   "source": [
    "Now let's see if we have any duplicates in our data. If we do, we'll need to decide what we will do with them."
   ]
  },
  {
   "cell_type": "code",
   "execution_count": 30,
   "metadata": {},
   "outputs": [
    {
     "name": "stdout",
     "output_type": "stream",
     "text": [
      "55\n"
     ]
    }
   ],
   "source": [
    "# Checking duplicates\n",
    "print(df.duplicated().sum())\n"
   ]
  },
  {
   "cell_type": "code",
   "execution_count": 31,
   "metadata": {},
   "outputs": [],
   "source": [
    "# There are 55 duplicates in our dataset - we need to remove them because they are repeated and give nothing to our analysis\n",
    "df = df.drop_duplicates()"
   ]
  },
  {
   "cell_type": "code",
   "execution_count": 32,
   "metadata": {},
   "outputs": [
    {
     "name": "stdout",
     "output_type": "stream",
     "text": [
      "0\n"
     ]
    }
   ],
   "source": [
    "# Last check whether we have any duplicates\n",
    "print(df.duplicated().sum())\n"
   ]
  },
  {
   "cell_type": "code",
   "execution_count": 33,
   "metadata": {},
   "outputs": [
    {
     "name": "stdout",
     "output_type": "stream",
     "text": [
      "<class 'pandas.core.frame.DataFrame'>\n",
      "Int64Index: 21470 entries, 0 to 21524\n",
      "Data columns (total 13 columns):\n",
      " #   Column               Non-Null Count  Dtype  \n",
      "---  ------               --------------  -----  \n",
      " 0   children             21470 non-null  int64  \n",
      " 1   days_employed        19351 non-null  float64\n",
      " 2   dob_years            21470 non-null  float64\n",
      " 3   education            21470 non-null  object \n",
      " 4   education_id         21470 non-null  int64  \n",
      " 5   family_status        21470 non-null  object \n",
      " 6   family_status_id     21470 non-null  int64  \n",
      " 7   gender               21470 non-null  object \n",
      " 8   income_type          21470 non-null  object \n",
      " 9   debt                 21470 non-null  int64  \n",
      " 10  total_income         19351 non-null  float64\n",
      " 11  purpose              21470 non-null  object \n",
      " 12  education_lowercase  21470 non-null  object \n",
      "dtypes: float64(3), int64(4), object(6)\n",
      "memory usage: 2.3+ MB\n"
     ]
    }
   ],
   "source": [
    "# Check the size of the dataset that you now have after your first manipulations with it\n",
    "df.info()"
   ]
  },
  {
   "cell_type": "markdown",
   "metadata": {},
   "source": [
    "The following changes were made:\n",
    "\n",
    "1) Removing of incorrect data (like negative amount of children and days_employed or days_employed equal to more than 100 years)\n",
    "\n",
    "2) Changing some values that are not understandable (like XNA for gender - to 'Not defined')\n",
    "\n",
    "3) Replacement some values which have different names but the same sence (like 'buseness' and 'eunterpeneur')\n",
    "\n",
    "4) Creating the column with education level in lower case\n",
    "\n",
    "5) Duplicates were removed - and the size of dataset decreased by 55 entries\n",
    "\n"
   ]
  },
  {
   "cell_type": "markdown",
   "metadata": {},
   "source": [
    "# Working with missing values"
   ]
  },
  {
   "cell_type": "markdown",
   "metadata": {},
   "source": [
    "To speed up working with some data, sometimes it's convinient to work with dictionaries for some values, where IDs are provided. \n",
    "\n",
    "Columns like 'education_id' and 'education_lowercase' could be used for dictionary creation because of single-valued correspondance between their values."
   ]
  },
  {
   "cell_type": "code",
   "execution_count": 34,
   "metadata": {},
   "outputs": [
    {
     "name": "stdout",
     "output_type": "stream",
     "text": [
      "[0 1 2 3 4]\n",
      "[\"bachelor's degree\" 'secondary education' 'some college'\n",
      " 'primary education' 'graduate degree']\n",
      "{0: \"bachelor's degree\", 1: 'secondary education', 2: 'some college', 3: 'primary education', 4: 'graduate degree'}\n"
     ]
    }
   ],
   "source": [
    "# Find the dictionaries\n",
    "\n",
    "print(df['education_id'].unique())\n",
    "print(df['education_lowercase'].unique())\n",
    "dct = {x[0]:x[1] for x in df[['education_id','education']].values.tolist()}\n",
    "print(dct)"
   ]
  },
  {
   "cell_type": "markdown",
   "metadata": {},
   "source": [
    "### Restoring missing values in `total_income`"
   ]
  },
  {
   "cell_type": "markdown",
   "metadata": {},
   "source": [
    "There are two columns in our dataset which have missing values - total_income and days_employed. \n",
    "\n",
    "We should investigate them more precisely before making decision about filling in values.\n",
    "\n",
    "Let's start with addressing total income missing values. \n"
   ]
  },
  {
   "cell_type": "code",
   "execution_count": 35,
   "metadata": {},
   "outputs": [],
   "source": [
    "# Let's write a function that calculates the age category\n",
    "def age_group(dob_years):\n",
    "    if dob_years <= 18:\n",
    "        return 'children'\n",
    "    if dob_years <= 64:\n",
    "        return 'adult'\n",
    "    return 'retired'    "
   ]
  },
  {
   "cell_type": "code",
   "execution_count": 36,
   "metadata": {},
   "outputs": [
    {
     "name": "stdout",
     "output_type": "stream",
     "text": [
      "adult\n"
     ]
    }
   ],
   "source": [
    "# Test if the function works\n",
    "print(age_group(20)) "
   ]
  },
  {
   "cell_type": "code",
   "execution_count": 37,
   "metadata": {},
   "outputs": [],
   "source": [
    "# Creating new column based on function\n",
    "df['age_group'] = df['dob_years'].apply(age_group)\n"
   ]
  },
  {
   "cell_type": "code",
   "execution_count": 38,
   "metadata": {},
   "outputs": [
    {
     "name": "stdout",
     "output_type": "stream",
     "text": [
      "   children  days_employed  dob_years            education  education_id  \\\n",
      "0         1    8437.673028       42.0    bachelor's degree             0   \n",
      "1         1    4024.803754       36.0  secondary education             1   \n",
      "2         0    5623.422610       33.0  Secondary Education             1   \n",
      "3         3    4124.747207       32.0  secondary education             1   \n",
      "4         0    3402.660720       53.0  secondary education             1   \n",
      "5         0     926.185831       27.0    bachelor's degree             0   \n",
      "6         0    2879.202052       43.0    bachelor's degree             0   \n",
      "7         0     152.779569       50.0  SECONDARY EDUCATION             1   \n",
      "8         2    6929.865299       35.0    BACHELOR'S DEGREE             0   \n",
      "9         0    2188.756445       41.0  secondary education             1   \n",
      "\n",
      "       family_status  family_status_id gender   income_type  debt  \\\n",
      "0            married                 0      F      employee     0   \n",
      "1            married                 0      F      employee     0   \n",
      "2            married                 0      M      employee     0   \n",
      "3            married                 0      M      employee     0   \n",
      "4  civil partnership                 1      F       retiree     0   \n",
      "5  civil partnership                 1      M  entrepreneur     0   \n",
      "6            married                 0      F  entrepreneur     0   \n",
      "7            married                 0      M      employee     0   \n",
      "8  civil partnership                 1      F      employee     0   \n",
      "9            married                 0      M      employee     0   \n",
      "\n",
      "   total_income                              purpose  education_lowercase  \\\n",
      "0     40620.102                purchase of the house    bachelor's degree   \n",
      "1     17932.802                         car purchase  secondary education   \n",
      "2     23341.752                purchase of the house  secondary education   \n",
      "3     42820.568              supplementary education  secondary education   \n",
      "4     25378.572                    to have a wedding  secondary education   \n",
      "5     40922.170                purchase of the house    bachelor's degree   \n",
      "6     38484.156                 housing transactions    bachelor's degree   \n",
      "7     21731.829                            education  secondary education   \n",
      "8     15337.093                     having a wedding    bachelor's degree   \n",
      "9     23108.150  purchase of the house for my family  secondary education   \n",
      "\n",
      "  age_group  \n",
      "0     adult  \n",
      "1     adult  \n",
      "2     adult  \n",
      "3     adult  \n",
      "4     adult  \n",
      "5     adult  \n",
      "6     adult  \n",
      "7     adult  \n",
      "8     adult  \n",
      "9     adult  \n"
     ]
    }
   ],
   "source": [
    "# Checking how values in the new column\n",
    "print(df.head(10))\n"
   ]
  },
  {
   "cell_type": "markdown",
   "metadata": {},
   "source": [
    "Income tends to depend on several factors like education, age, type of employment. \n",
    "\n",
    "Let's look at mean and median values of income for data where values are not missed (depending on age group)\n"
   ]
  },
  {
   "cell_type": "code",
   "execution_count": 39,
   "metadata": {},
   "outputs": [
    {
     "data": {
      "text/html": [
       "<div>\n",
       "<style scoped>\n",
       "    .dataframe tbody tr th:only-of-type {\n",
       "        vertical-align: middle;\n",
       "    }\n",
       "\n",
       "    .dataframe tbody tr th {\n",
       "        vertical-align: top;\n",
       "    }\n",
       "\n",
       "    .dataframe thead th {\n",
       "        text-align: right;\n",
       "    }\n",
       "</style>\n",
       "<table border=\"1\" class=\"dataframe\">\n",
       "  <thead>\n",
       "    <tr style=\"text-align: right;\">\n",
       "      <th></th>\n",
       "      <th>children</th>\n",
       "      <th>days_employed</th>\n",
       "      <th>dob_years</th>\n",
       "      <th>education</th>\n",
       "      <th>education_id</th>\n",
       "      <th>family_status</th>\n",
       "      <th>family_status_id</th>\n",
       "      <th>gender</th>\n",
       "      <th>income_type</th>\n",
       "      <th>debt</th>\n",
       "      <th>total_income</th>\n",
       "      <th>purpose</th>\n",
       "      <th>education_lowercase</th>\n",
       "      <th>age_group</th>\n",
       "    </tr>\n",
       "  </thead>\n",
       "  <tbody>\n",
       "    <tr>\n",
       "      <th>0</th>\n",
       "      <td>1</td>\n",
       "      <td>8437.673028</td>\n",
       "      <td>42.0</td>\n",
       "      <td>bachelor's degree</td>\n",
       "      <td>0</td>\n",
       "      <td>married</td>\n",
       "      <td>0</td>\n",
       "      <td>F</td>\n",
       "      <td>employee</td>\n",
       "      <td>0</td>\n",
       "      <td>40620.102</td>\n",
       "      <td>purchase of the house</td>\n",
       "      <td>bachelor's degree</td>\n",
       "      <td>adult</td>\n",
       "    </tr>\n",
       "    <tr>\n",
       "      <th>1</th>\n",
       "      <td>1</td>\n",
       "      <td>4024.803754</td>\n",
       "      <td>36.0</td>\n",
       "      <td>secondary education</td>\n",
       "      <td>1</td>\n",
       "      <td>married</td>\n",
       "      <td>0</td>\n",
       "      <td>F</td>\n",
       "      <td>employee</td>\n",
       "      <td>0</td>\n",
       "      <td>17932.802</td>\n",
       "      <td>car purchase</td>\n",
       "      <td>secondary education</td>\n",
       "      <td>adult</td>\n",
       "    </tr>\n",
       "    <tr>\n",
       "      <th>2</th>\n",
       "      <td>0</td>\n",
       "      <td>5623.422610</td>\n",
       "      <td>33.0</td>\n",
       "      <td>Secondary Education</td>\n",
       "      <td>1</td>\n",
       "      <td>married</td>\n",
       "      <td>0</td>\n",
       "      <td>M</td>\n",
       "      <td>employee</td>\n",
       "      <td>0</td>\n",
       "      <td>23341.752</td>\n",
       "      <td>purchase of the house</td>\n",
       "      <td>secondary education</td>\n",
       "      <td>adult</td>\n",
       "    </tr>\n",
       "    <tr>\n",
       "      <th>3</th>\n",
       "      <td>3</td>\n",
       "      <td>4124.747207</td>\n",
       "      <td>32.0</td>\n",
       "      <td>secondary education</td>\n",
       "      <td>1</td>\n",
       "      <td>married</td>\n",
       "      <td>0</td>\n",
       "      <td>M</td>\n",
       "      <td>employee</td>\n",
       "      <td>0</td>\n",
       "      <td>42820.568</td>\n",
       "      <td>supplementary education</td>\n",
       "      <td>secondary education</td>\n",
       "      <td>adult</td>\n",
       "    </tr>\n",
       "    <tr>\n",
       "      <th>4</th>\n",
       "      <td>0</td>\n",
       "      <td>3402.660720</td>\n",
       "      <td>53.0</td>\n",
       "      <td>secondary education</td>\n",
       "      <td>1</td>\n",
       "      <td>civil partnership</td>\n",
       "      <td>1</td>\n",
       "      <td>F</td>\n",
       "      <td>retiree</td>\n",
       "      <td>0</td>\n",
       "      <td>25378.572</td>\n",
       "      <td>to have a wedding</td>\n",
       "      <td>secondary education</td>\n",
       "      <td>adult</td>\n",
       "    </tr>\n",
       "    <tr>\n",
       "      <th>5</th>\n",
       "      <td>0</td>\n",
       "      <td>926.185831</td>\n",
       "      <td>27.0</td>\n",
       "      <td>bachelor's degree</td>\n",
       "      <td>0</td>\n",
       "      <td>civil partnership</td>\n",
       "      <td>1</td>\n",
       "      <td>M</td>\n",
       "      <td>entrepreneur</td>\n",
       "      <td>0</td>\n",
       "      <td>40922.170</td>\n",
       "      <td>purchase of the house</td>\n",
       "      <td>bachelor's degree</td>\n",
       "      <td>adult</td>\n",
       "    </tr>\n",
       "    <tr>\n",
       "      <th>6</th>\n",
       "      <td>0</td>\n",
       "      <td>2879.202052</td>\n",
       "      <td>43.0</td>\n",
       "      <td>bachelor's degree</td>\n",
       "      <td>0</td>\n",
       "      <td>married</td>\n",
       "      <td>0</td>\n",
       "      <td>F</td>\n",
       "      <td>entrepreneur</td>\n",
       "      <td>0</td>\n",
       "      <td>38484.156</td>\n",
       "      <td>housing transactions</td>\n",
       "      <td>bachelor's degree</td>\n",
       "      <td>adult</td>\n",
       "    </tr>\n",
       "    <tr>\n",
       "      <th>7</th>\n",
       "      <td>0</td>\n",
       "      <td>152.779569</td>\n",
       "      <td>50.0</td>\n",
       "      <td>SECONDARY EDUCATION</td>\n",
       "      <td>1</td>\n",
       "      <td>married</td>\n",
       "      <td>0</td>\n",
       "      <td>M</td>\n",
       "      <td>employee</td>\n",
       "      <td>0</td>\n",
       "      <td>21731.829</td>\n",
       "      <td>education</td>\n",
       "      <td>secondary education</td>\n",
       "      <td>adult</td>\n",
       "    </tr>\n",
       "    <tr>\n",
       "      <th>8</th>\n",
       "      <td>2</td>\n",
       "      <td>6929.865299</td>\n",
       "      <td>35.0</td>\n",
       "      <td>BACHELOR'S DEGREE</td>\n",
       "      <td>0</td>\n",
       "      <td>civil partnership</td>\n",
       "      <td>1</td>\n",
       "      <td>F</td>\n",
       "      <td>employee</td>\n",
       "      <td>0</td>\n",
       "      <td>15337.093</td>\n",
       "      <td>having a wedding</td>\n",
       "      <td>bachelor's degree</td>\n",
       "      <td>adult</td>\n",
       "    </tr>\n",
       "    <tr>\n",
       "      <th>9</th>\n",
       "      <td>0</td>\n",
       "      <td>2188.756445</td>\n",
       "      <td>41.0</td>\n",
       "      <td>secondary education</td>\n",
       "      <td>1</td>\n",
       "      <td>married</td>\n",
       "      <td>0</td>\n",
       "      <td>M</td>\n",
       "      <td>employee</td>\n",
       "      <td>0</td>\n",
       "      <td>23108.150</td>\n",
       "      <td>purchase of the house for my family</td>\n",
       "      <td>secondary education</td>\n",
       "      <td>adult</td>\n",
       "    </tr>\n",
       "  </tbody>\n",
       "</table>\n",
       "</div>"
      ],
      "text/plain": [
       "   children  days_employed  dob_years            education  education_id  \\\n",
       "0         1    8437.673028       42.0    bachelor's degree             0   \n",
       "1         1    4024.803754       36.0  secondary education             1   \n",
       "2         0    5623.422610       33.0  Secondary Education             1   \n",
       "3         3    4124.747207       32.0  secondary education             1   \n",
       "4         0    3402.660720       53.0  secondary education             1   \n",
       "5         0     926.185831       27.0    bachelor's degree             0   \n",
       "6         0    2879.202052       43.0    bachelor's degree             0   \n",
       "7         0     152.779569       50.0  SECONDARY EDUCATION             1   \n",
       "8         2    6929.865299       35.0    BACHELOR'S DEGREE             0   \n",
       "9         0    2188.756445       41.0  secondary education             1   \n",
       "\n",
       "       family_status  family_status_id gender   income_type  debt  \\\n",
       "0            married                 0      F      employee     0   \n",
       "1            married                 0      F      employee     0   \n",
       "2            married                 0      M      employee     0   \n",
       "3            married                 0      M      employee     0   \n",
       "4  civil partnership                 1      F       retiree     0   \n",
       "5  civil partnership                 1      M  entrepreneur     0   \n",
       "6            married                 0      F  entrepreneur     0   \n",
       "7            married                 0      M      employee     0   \n",
       "8  civil partnership                 1      F      employee     0   \n",
       "9            married                 0      M      employee     0   \n",
       "\n",
       "   total_income                              purpose  education_lowercase  \\\n",
       "0     40620.102                purchase of the house    bachelor's degree   \n",
       "1     17932.802                         car purchase  secondary education   \n",
       "2     23341.752                purchase of the house  secondary education   \n",
       "3     42820.568              supplementary education  secondary education   \n",
       "4     25378.572                    to have a wedding  secondary education   \n",
       "5     40922.170                purchase of the house    bachelor's degree   \n",
       "6     38484.156                 housing transactions    bachelor's degree   \n",
       "7     21731.829                            education  secondary education   \n",
       "8     15337.093                     having a wedding    bachelor's degree   \n",
       "9     23108.150  purchase of the house for my family  secondary education   \n",
       "\n",
       "  age_group  \n",
       "0     adult  \n",
       "1     adult  \n",
       "2     adult  \n",
       "3     adult  \n",
       "4     adult  \n",
       "5     adult  \n",
       "6     adult  \n",
       "7     adult  \n",
       "8     adult  \n",
       "9     adult  "
      ]
     },
     "execution_count": 39,
     "metadata": {},
     "output_type": "execute_result"
    }
   ],
   "source": [
    "# Create a table without missing values and print a few of its rows to make sure it looks fine\n",
    "new_df = df.dropna()\n",
    "new_df.head(10)"
   ]
  },
  {
   "cell_type": "code",
   "execution_count": 40,
   "metadata": {},
   "outputs": [
    {
     "data": {
      "text/plain": [
       "age_group\n",
       "adult      27019.065837\n",
       "retired    21542.650450\n",
       "Name: total_income, dtype: float64"
      ]
     },
     "execution_count": 40,
     "metadata": {},
     "output_type": "execute_result"
    }
   ],
   "source": [
    "# Look at the mean values for income based on your identified factors\n",
    "new_df.groupby('age_group')['total_income'].mean()"
   ]
  },
  {
   "cell_type": "code",
   "execution_count": 41,
   "metadata": {
    "scrolled": false
   },
   "outputs": [
    {
     "data": {
      "text/plain": [
       "age_group\n",
       "adult      23382.756\n",
       "retired    18471.391\n",
       "Name: total_income, dtype: float64"
      ]
     },
     "execution_count": 41,
     "metadata": {},
     "output_type": "execute_result"
    }
   ],
   "source": [
    "# Look at the median values for income based on your identified factors\n",
    "new_df.groupby('age_group')['total_income'].median()\n"
   ]
  },
  {
   "cell_type": "code",
   "execution_count": 42,
   "metadata": {},
   "outputs": [
    {
     "name": "stdout",
     "output_type": "stream",
     "text": [
      "education_lowercase\n",
      "bachelor's degree      28054.5310\n",
      "graduate degree        25161.5835\n",
      "primary education      18741.9760\n",
      "secondary education    21836.5830\n",
      "some college           25618.4640\n",
      "Name: total_income, dtype: float64\n",
      "education_lowercase\n",
      "bachelor's degree      33142.802434\n",
      "graduate degree        27960.024667\n",
      "primary education      21144.882211\n",
      "secondary education    24594.503037\n",
      "some college           29045.443644\n",
      "Name: total_income, dtype: float64\n"
     ]
    }
   ],
   "source": [
    "print(new_df.groupby('education_lowercase')['total_income'].median())\n",
    "print(new_df.groupby('education_lowercase')['total_income'].mean())"
   ]
  },
  {
   "cell_type": "markdown",
   "metadata": {},
   "source": [
    "We have calculated mean and median values for total income based on age group and education.\n",
    "\n",
    "But actually we don't know the reasons why these data are missed. Coresponding people may not have any income at all.\n",
    "\n",
    "So the best decision will be not to fill in these rows.\n",
    "\n"
   ]
  },
  {
   "cell_type": "code",
   "execution_count": 43,
   "metadata": {},
   "outputs": [
    {
     "name": "stdout",
     "output_type": "stream",
     "text": [
      "income_type\n",
      "civil servant                  24071.6695\n",
      "employee                       22815.1035\n",
      "entrepreneur                   27583.3600\n",
      "paternity / maternity leave     8612.6610\n",
      "retiree                        18962.3180\n",
      "student                        15712.2600\n",
      "unemployed                     21014.3605\n",
      "Name: total_income, dtype: float64\n",
      "income_type\n",
      "civil servant                  27343.729582\n",
      "employee                       25820.841683\n",
      "entrepreneur                   32397.165026\n",
      "paternity / maternity leave     8612.661000\n",
      "retiree                        21940.394503\n",
      "student                        15712.260000\n",
      "unemployed                     21014.360500\n",
      "Name: total_income, dtype: float64\n"
     ]
    }
   ],
   "source": [
    "# Let's check values per grouped categories (based on income_type)\n",
    "\n",
    "print(new_df.groupby('income_type')['total_income'].median())\n",
    "print(new_df.groupby('income_type')['total_income'].mean())"
   ]
  },
  {
   "cell_type": "code",
   "execution_count": 44,
   "metadata": {},
   "outputs": [],
   "source": [
    "#  Write a function that we will use for filling in missing values\n",
    "median_civil_servant = new_df[new_df['income_type'] == 'civil servant']['total_income'].median()\n",
    "median_employee = new_df[new_df['income_type'] == 'employee']['total_income'].median()\n",
    "median_entrepreneur = new_df[new_df['income_type'] == 'entrepreneur']['total_income'].median()\n",
    "median_paternity_maternity = new_df[new_df['income_type'] == 'paternity / maternity leave']['total_income'].median()\n",
    "median_retiree = new_df[new_df['income_type'] == 'retiree']['total_income'].median()\n",
    "median_student = new_df[new_df['income_type'] == 'student']['total_income'].median()\n",
    "median_unemployed = new_df[new_df['income_type'] == 'unemployed']['total_income'].median()\n",
    "def fill_total_income(row):\n",
    "    income_type = row.income_type\n",
    "    total_income = row.total_income\n",
    "    if pd.isna(total_income):\n",
    "        if income_type == 'civil servant':\n",
    "            return median_civil_servant\n",
    "        elif income_type == 'employee':\n",
    "            return median_employee\n",
    "        elif income_type == 'entrepreneur':\n",
    "            return median_entrepreneur\n",
    "        elif income_type == 'paternity / maternity leave':\n",
    "            return median_paternity_maternity\n",
    "        elif income_type == 'retiree':\n",
    "            return median_retiree\n",
    "        elif income_type == 'student':\n",
    "            return median_student\n",
    "        else:\n",
    "            return median_unemployed\n",
    "    return total_income"
   ]
  },
  {
   "cell_type": "code",
   "execution_count": 45,
   "metadata": {},
   "outputs": [
    {
     "name": "stdout",
     "output_type": "stream",
     "text": [
      "40620.102\n"
     ]
    }
   ],
   "source": [
    "# Check if it works\n",
    "row = df.iloc[0,:]\n",
    "print(fill_total_income(row)) "
   ]
  },
  {
   "cell_type": "code",
   "execution_count": 46,
   "metadata": {},
   "outputs": [
    {
     "data": {
      "text/plain": [
       "(0, 14)"
      ]
     },
     "execution_count": 46,
     "metadata": {},
     "output_type": "execute_result"
    }
   ],
   "source": [
    "# Apply function to the income_type\n",
    "df['total_income'] = df.apply(fill_total_income, axis = 1)\n",
    "df[df['total_income'].isna()].shape"
   ]
  },
  {
   "cell_type": "code",
   "execution_count": 47,
   "metadata": {},
   "outputs": [
    {
     "data": {
      "text/html": [
       "<div>\n",
       "<style scoped>\n",
       "    .dataframe tbody tr th:only-of-type {\n",
       "        vertical-align: middle;\n",
       "    }\n",
       "\n",
       "    .dataframe tbody tr th {\n",
       "        vertical-align: top;\n",
       "    }\n",
       "\n",
       "    .dataframe thead th {\n",
       "        text-align: right;\n",
       "    }\n",
       "</style>\n",
       "<table border=\"1\" class=\"dataframe\">\n",
       "  <thead>\n",
       "    <tr style=\"text-align: right;\">\n",
       "      <th></th>\n",
       "      <th>children</th>\n",
       "      <th>days_employed</th>\n",
       "      <th>dob_years</th>\n",
       "      <th>education</th>\n",
       "      <th>education_id</th>\n",
       "      <th>family_status</th>\n",
       "      <th>family_status_id</th>\n",
       "      <th>gender</th>\n",
       "      <th>income_type</th>\n",
       "      <th>debt</th>\n",
       "      <th>total_income</th>\n",
       "      <th>purpose</th>\n",
       "      <th>education_lowercase</th>\n",
       "      <th>age_group</th>\n",
       "    </tr>\n",
       "  </thead>\n",
       "  <tbody>\n",
       "    <tr>\n",
       "      <th>0</th>\n",
       "      <td>1</td>\n",
       "      <td>8437.673028</td>\n",
       "      <td>42.0</td>\n",
       "      <td>bachelor's degree</td>\n",
       "      <td>0</td>\n",
       "      <td>married</td>\n",
       "      <td>0</td>\n",
       "      <td>F</td>\n",
       "      <td>employee</td>\n",
       "      <td>0</td>\n",
       "      <td>40620.102</td>\n",
       "      <td>purchase of the house</td>\n",
       "      <td>bachelor's degree</td>\n",
       "      <td>adult</td>\n",
       "    </tr>\n",
       "    <tr>\n",
       "      <th>1</th>\n",
       "      <td>1</td>\n",
       "      <td>4024.803754</td>\n",
       "      <td>36.0</td>\n",
       "      <td>secondary education</td>\n",
       "      <td>1</td>\n",
       "      <td>married</td>\n",
       "      <td>0</td>\n",
       "      <td>F</td>\n",
       "      <td>employee</td>\n",
       "      <td>0</td>\n",
       "      <td>17932.802</td>\n",
       "      <td>car purchase</td>\n",
       "      <td>secondary education</td>\n",
       "      <td>adult</td>\n",
       "    </tr>\n",
       "    <tr>\n",
       "      <th>2</th>\n",
       "      <td>0</td>\n",
       "      <td>5623.422610</td>\n",
       "      <td>33.0</td>\n",
       "      <td>Secondary Education</td>\n",
       "      <td>1</td>\n",
       "      <td>married</td>\n",
       "      <td>0</td>\n",
       "      <td>M</td>\n",
       "      <td>employee</td>\n",
       "      <td>0</td>\n",
       "      <td>23341.752</td>\n",
       "      <td>purchase of the house</td>\n",
       "      <td>secondary education</td>\n",
       "      <td>adult</td>\n",
       "    </tr>\n",
       "    <tr>\n",
       "      <th>3</th>\n",
       "      <td>3</td>\n",
       "      <td>4124.747207</td>\n",
       "      <td>32.0</td>\n",
       "      <td>secondary education</td>\n",
       "      <td>1</td>\n",
       "      <td>married</td>\n",
       "      <td>0</td>\n",
       "      <td>M</td>\n",
       "      <td>employee</td>\n",
       "      <td>0</td>\n",
       "      <td>42820.568</td>\n",
       "      <td>supplementary education</td>\n",
       "      <td>secondary education</td>\n",
       "      <td>adult</td>\n",
       "    </tr>\n",
       "    <tr>\n",
       "      <th>4</th>\n",
       "      <td>0</td>\n",
       "      <td>3402.660720</td>\n",
       "      <td>53.0</td>\n",
       "      <td>secondary education</td>\n",
       "      <td>1</td>\n",
       "      <td>civil partnership</td>\n",
       "      <td>1</td>\n",
       "      <td>F</td>\n",
       "      <td>retiree</td>\n",
       "      <td>0</td>\n",
       "      <td>25378.572</td>\n",
       "      <td>to have a wedding</td>\n",
       "      <td>secondary education</td>\n",
       "      <td>adult</td>\n",
       "    </tr>\n",
       "    <tr>\n",
       "      <th>5</th>\n",
       "      <td>0</td>\n",
       "      <td>926.185831</td>\n",
       "      <td>27.0</td>\n",
       "      <td>bachelor's degree</td>\n",
       "      <td>0</td>\n",
       "      <td>civil partnership</td>\n",
       "      <td>1</td>\n",
       "      <td>M</td>\n",
       "      <td>entrepreneur</td>\n",
       "      <td>0</td>\n",
       "      <td>40922.170</td>\n",
       "      <td>purchase of the house</td>\n",
       "      <td>bachelor's degree</td>\n",
       "      <td>adult</td>\n",
       "    </tr>\n",
       "    <tr>\n",
       "      <th>6</th>\n",
       "      <td>0</td>\n",
       "      <td>2879.202052</td>\n",
       "      <td>43.0</td>\n",
       "      <td>bachelor's degree</td>\n",
       "      <td>0</td>\n",
       "      <td>married</td>\n",
       "      <td>0</td>\n",
       "      <td>F</td>\n",
       "      <td>entrepreneur</td>\n",
       "      <td>0</td>\n",
       "      <td>38484.156</td>\n",
       "      <td>housing transactions</td>\n",
       "      <td>bachelor's degree</td>\n",
       "      <td>adult</td>\n",
       "    </tr>\n",
       "    <tr>\n",
       "      <th>7</th>\n",
       "      <td>0</td>\n",
       "      <td>152.779569</td>\n",
       "      <td>50.0</td>\n",
       "      <td>SECONDARY EDUCATION</td>\n",
       "      <td>1</td>\n",
       "      <td>married</td>\n",
       "      <td>0</td>\n",
       "      <td>M</td>\n",
       "      <td>employee</td>\n",
       "      <td>0</td>\n",
       "      <td>21731.829</td>\n",
       "      <td>education</td>\n",
       "      <td>secondary education</td>\n",
       "      <td>adult</td>\n",
       "    </tr>\n",
       "    <tr>\n",
       "      <th>8</th>\n",
       "      <td>2</td>\n",
       "      <td>6929.865299</td>\n",
       "      <td>35.0</td>\n",
       "      <td>BACHELOR'S DEGREE</td>\n",
       "      <td>0</td>\n",
       "      <td>civil partnership</td>\n",
       "      <td>1</td>\n",
       "      <td>F</td>\n",
       "      <td>employee</td>\n",
       "      <td>0</td>\n",
       "      <td>15337.093</td>\n",
       "      <td>having a wedding</td>\n",
       "      <td>bachelor's degree</td>\n",
       "      <td>adult</td>\n",
       "    </tr>\n",
       "    <tr>\n",
       "      <th>9</th>\n",
       "      <td>0</td>\n",
       "      <td>2188.756445</td>\n",
       "      <td>41.0</td>\n",
       "      <td>secondary education</td>\n",
       "      <td>1</td>\n",
       "      <td>married</td>\n",
       "      <td>0</td>\n",
       "      <td>M</td>\n",
       "      <td>employee</td>\n",
       "      <td>0</td>\n",
       "      <td>23108.150</td>\n",
       "      <td>purchase of the house for my family</td>\n",
       "      <td>secondary education</td>\n",
       "      <td>adult</td>\n",
       "    </tr>\n",
       "  </tbody>\n",
       "</table>\n",
       "</div>"
      ],
      "text/plain": [
       "   children  days_employed  dob_years            education  education_id  \\\n",
       "0         1    8437.673028       42.0    bachelor's degree             0   \n",
       "1         1    4024.803754       36.0  secondary education             1   \n",
       "2         0    5623.422610       33.0  Secondary Education             1   \n",
       "3         3    4124.747207       32.0  secondary education             1   \n",
       "4         0    3402.660720       53.0  secondary education             1   \n",
       "5         0     926.185831       27.0    bachelor's degree             0   \n",
       "6         0    2879.202052       43.0    bachelor's degree             0   \n",
       "7         0     152.779569       50.0  SECONDARY EDUCATION             1   \n",
       "8         2    6929.865299       35.0    BACHELOR'S DEGREE             0   \n",
       "9         0    2188.756445       41.0  secondary education             1   \n",
       "\n",
       "       family_status  family_status_id gender   income_type  debt  \\\n",
       "0            married                 0      F      employee     0   \n",
       "1            married                 0      F      employee     0   \n",
       "2            married                 0      M      employee     0   \n",
       "3            married                 0      M      employee     0   \n",
       "4  civil partnership                 1      F       retiree     0   \n",
       "5  civil partnership                 1      M  entrepreneur     0   \n",
       "6            married                 0      F  entrepreneur     0   \n",
       "7            married                 0      M      employee     0   \n",
       "8  civil partnership                 1      F      employee     0   \n",
       "9            married                 0      M      employee     0   \n",
       "\n",
       "   total_income                              purpose  education_lowercase  \\\n",
       "0     40620.102                purchase of the house    bachelor's degree   \n",
       "1     17932.802                         car purchase  secondary education   \n",
       "2     23341.752                purchase of the house  secondary education   \n",
       "3     42820.568              supplementary education  secondary education   \n",
       "4     25378.572                    to have a wedding  secondary education   \n",
       "5     40922.170                purchase of the house    bachelor's degree   \n",
       "6     38484.156                 housing transactions    bachelor's degree   \n",
       "7     21731.829                            education  secondary education   \n",
       "8     15337.093                     having a wedding    bachelor's degree   \n",
       "9     23108.150  purchase of the house for my family  secondary education   \n",
       "\n",
       "  age_group  \n",
       "0     adult  \n",
       "1     adult  \n",
       "2     adult  \n",
       "3     adult  \n",
       "4     adult  \n",
       "5     adult  \n",
       "6     adult  \n",
       "7     adult  \n",
       "8     adult  \n",
       "9     adult  "
      ]
     },
     "execution_count": 47,
     "metadata": {},
     "output_type": "execute_result"
    }
   ],
   "source": [
    "df.head(10)"
   ]
  },
  {
   "cell_type": "markdown",
   "metadata": {},
   "source": [
    "###  Restoring values in `days_employed`"
   ]
  },
  {
   "cell_type": "markdown",
   "metadata": {},
   "source": [
    "Let's identified parameters that may help to restore the missing values in this column. \n",
    "\n",
    "Let's calculate median and mean values based on age group."
   ]
  },
  {
   "cell_type": "code",
   "execution_count": 48,
   "metadata": {
    "pycharm": {
     "name": "#%%\n"
    }
   },
   "outputs": [
    {
     "data": {
      "text/plain": [
       "age_group\n",
       "adult      2050.159363\n",
       "retired    3646.615594\n",
       "Name: days_employed, dtype: float64"
      ]
     },
     "execution_count": 48,
     "metadata": {},
     "output_type": "execute_result"
    }
   ],
   "source": [
    "# Distribution of `days_employed` medians based on your identified parameters\n",
    "\n",
    "new_df.groupby('age_group')['days_employed'].median()"
   ]
  },
  {
   "cell_type": "code",
   "execution_count": 49,
   "metadata": {
    "scrolled": true
   },
   "outputs": [
    {
     "data": {
      "text/plain": [
       "age_group\n",
       "adult      2534.277098\n",
       "retired    3708.694906\n",
       "Name: days_employed, dtype: float64"
      ]
     },
     "execution_count": 49,
     "metadata": {},
     "output_type": "execute_result"
    }
   ],
   "source": [
    "# Distribution of `days_employed` means based on your identified parameters\n",
    "\n",
    "new_df.groupby('age_group')['days_employed'].mean()"
   ]
  },
  {
   "cell_type": "code",
   "execution_count": 50,
   "metadata": {},
   "outputs": [
    {
     "data": {
      "text/plain": [
       "<AxesSubplot:>"
      ]
     },
     "execution_count": 50,
     "metadata": {},
     "output_type": "execute_result"
    },
    {
     "data": {
      "image/png": "[encoded data removed]",
      "text/plain": [
       "<Figure size 432x288 with 1 Axes>"
      ]
     },
     "metadata": {
      "needs_background": "light"
     },
     "output_type": "display_data"
    }
   ],
   "source": [
    "# Let's see the distribution of values in days_employed column\n",
    "df['total_income'].hist(bins=1000, range=(0, 150000)) "
   ]
  },
  {
   "cell_type": "markdown",
   "metadata": {},
   "source": [
    "We can see from the graphic above that the distribution is far from normal and has significant outliers. \n",
    "\n",
    "So based on this it's probably good idea to take a median value (depending on age group, for example) for filling in missing values."
   ]
  },
  {
   "cell_type": "code",
   "execution_count": 51,
   "metadata": {},
   "outputs": [],
   "source": [
    "# Let's write a function that calculates means or medians (depending on your decision) based on your identified parameter\n",
    "median_adult = new_df[new_df['age_group'] == 'adult']['days_employed'].median()\n",
    "median_retired = new_df[new_df['age_group'] == 'retired']['days_employed'].median()\n",
    "def fill_days_employed(row):\n",
    "    age_group = row.age_group\n",
    "    days_employed = row.days_employed\n",
    "    if pd.isna(days_employed):\n",
    "        if age_group == 'adult':\n",
    "            return median_adult\n",
    "        else:\n",
    "            return median_retired\n",
    "    return days_employed"
   ]
  },
  {
   "cell_type": "code",
   "execution_count": 52,
   "metadata": {},
   "outputs": [
    {
     "name": "stdout",
     "output_type": "stream",
     "text": [
      "8437.673027760233\n"
     ]
    }
   ],
   "source": [
    "# Check that the function works\n",
    "row = df.iloc[0,:]\n",
    "print(fill_days_employed(row)) "
   ]
  },
  {
   "cell_type": "code",
   "execution_count": 53,
   "metadata": {},
   "outputs": [
    {
     "data": {
      "text/plain": [
       "(0, 14)"
      ]
     },
     "execution_count": 53,
     "metadata": {},
     "output_type": "execute_result"
    }
   ],
   "source": [
    "# Apply function to the age_group\n",
    "df['days_employed'] = df.apply(fill_days_employed, axis = 1)\n",
    "df[df['days_employed'].isna()].shape\n",
    "\n"
   ]
  },
  {
   "cell_type": "code",
   "execution_count": 54,
   "metadata": {
    "scrolled": true
   },
   "outputs": [
    {
     "data": {
      "text/html": [
       "<div>\n",
       "<style scoped>\n",
       "    .dataframe tbody tr th:only-of-type {\n",
       "        vertical-align: middle;\n",
       "    }\n",
       "\n",
       "    .dataframe tbody tr th {\n",
       "        vertical-align: top;\n",
       "    }\n",
       "\n",
       "    .dataframe thead th {\n",
       "        text-align: right;\n",
       "    }\n",
       "</style>\n",
       "<table border=\"1\" class=\"dataframe\">\n",
       "  <thead>\n",
       "    <tr style=\"text-align: right;\">\n",
       "      <th></th>\n",
       "      <th>children</th>\n",
       "      <th>days_employed</th>\n",
       "      <th>dob_years</th>\n",
       "      <th>education</th>\n",
       "      <th>education_id</th>\n",
       "      <th>family_status</th>\n",
       "      <th>family_status_id</th>\n",
       "      <th>gender</th>\n",
       "      <th>income_type</th>\n",
       "      <th>debt</th>\n",
       "      <th>total_income</th>\n",
       "      <th>purpose</th>\n",
       "      <th>education_lowercase</th>\n",
       "      <th>age_group</th>\n",
       "    </tr>\n",
       "  </thead>\n",
       "  <tbody>\n",
       "    <tr>\n",
       "      <th>0</th>\n",
       "      <td>1</td>\n",
       "      <td>8437.673028</td>\n",
       "      <td>42.0</td>\n",
       "      <td>bachelor's degree</td>\n",
       "      <td>0</td>\n",
       "      <td>married</td>\n",
       "      <td>0</td>\n",
       "      <td>F</td>\n",
       "      <td>employee</td>\n",
       "      <td>0</td>\n",
       "      <td>40620.102</td>\n",
       "      <td>purchase of the house</td>\n",
       "      <td>bachelor's degree</td>\n",
       "      <td>adult</td>\n",
       "    </tr>\n",
       "    <tr>\n",
       "      <th>1</th>\n",
       "      <td>1</td>\n",
       "      <td>4024.803754</td>\n",
       "      <td>36.0</td>\n",
       "      <td>secondary education</td>\n",
       "      <td>1</td>\n",
       "      <td>married</td>\n",
       "      <td>0</td>\n",
       "      <td>F</td>\n",
       "      <td>employee</td>\n",
       "      <td>0</td>\n",
       "      <td>17932.802</td>\n",
       "      <td>car purchase</td>\n",
       "      <td>secondary education</td>\n",
       "      <td>adult</td>\n",
       "    </tr>\n",
       "    <tr>\n",
       "      <th>2</th>\n",
       "      <td>0</td>\n",
       "      <td>5623.422610</td>\n",
       "      <td>33.0</td>\n",
       "      <td>Secondary Education</td>\n",
       "      <td>1</td>\n",
       "      <td>married</td>\n",
       "      <td>0</td>\n",
       "      <td>M</td>\n",
       "      <td>employee</td>\n",
       "      <td>0</td>\n",
       "      <td>23341.752</td>\n",
       "      <td>purchase of the house</td>\n",
       "      <td>secondary education</td>\n",
       "      <td>adult</td>\n",
       "    </tr>\n",
       "    <tr>\n",
       "      <th>3</th>\n",
       "      <td>3</td>\n",
       "      <td>4124.747207</td>\n",
       "      <td>32.0</td>\n",
       "      <td>secondary education</td>\n",
       "      <td>1</td>\n",
       "      <td>married</td>\n",
       "      <td>0</td>\n",
       "      <td>M</td>\n",
       "      <td>employee</td>\n",
       "      <td>0</td>\n",
       "      <td>42820.568</td>\n",
       "      <td>supplementary education</td>\n",
       "      <td>secondary education</td>\n",
       "      <td>adult</td>\n",
       "    </tr>\n",
       "    <tr>\n",
       "      <th>4</th>\n",
       "      <td>0</td>\n",
       "      <td>3402.660720</td>\n",
       "      <td>53.0</td>\n",
       "      <td>secondary education</td>\n",
       "      <td>1</td>\n",
       "      <td>civil partnership</td>\n",
       "      <td>1</td>\n",
       "      <td>F</td>\n",
       "      <td>retiree</td>\n",
       "      <td>0</td>\n",
       "      <td>25378.572</td>\n",
       "      <td>to have a wedding</td>\n",
       "      <td>secondary education</td>\n",
       "      <td>adult</td>\n",
       "    </tr>\n",
       "    <tr>\n",
       "      <th>5</th>\n",
       "      <td>0</td>\n",
       "      <td>926.185831</td>\n",
       "      <td>27.0</td>\n",
       "      <td>bachelor's degree</td>\n",
       "      <td>0</td>\n",
       "      <td>civil partnership</td>\n",
       "      <td>1</td>\n",
       "      <td>M</td>\n",
       "      <td>entrepreneur</td>\n",
       "      <td>0</td>\n",
       "      <td>40922.170</td>\n",
       "      <td>purchase of the house</td>\n",
       "      <td>bachelor's degree</td>\n",
       "      <td>adult</td>\n",
       "    </tr>\n",
       "    <tr>\n",
       "      <th>6</th>\n",
       "      <td>0</td>\n",
       "      <td>2879.202052</td>\n",
       "      <td>43.0</td>\n",
       "      <td>bachelor's degree</td>\n",
       "      <td>0</td>\n",
       "      <td>married</td>\n",
       "      <td>0</td>\n",
       "      <td>F</td>\n",
       "      <td>entrepreneur</td>\n",
       "      <td>0</td>\n",
       "      <td>38484.156</td>\n",
       "      <td>housing transactions</td>\n",
       "      <td>bachelor's degree</td>\n",
       "      <td>adult</td>\n",
       "    </tr>\n",
       "    <tr>\n",
       "      <th>7</th>\n",
       "      <td>0</td>\n",
       "      <td>152.779569</td>\n",
       "      <td>50.0</td>\n",
       "      <td>SECONDARY EDUCATION</td>\n",
       "      <td>1</td>\n",
       "      <td>married</td>\n",
       "      <td>0</td>\n",
       "      <td>M</td>\n",
       "      <td>employee</td>\n",
       "      <td>0</td>\n",
       "      <td>21731.829</td>\n",
       "      <td>education</td>\n",
       "      <td>secondary education</td>\n",
       "      <td>adult</td>\n",
       "    </tr>\n",
       "    <tr>\n",
       "      <th>8</th>\n",
       "      <td>2</td>\n",
       "      <td>6929.865299</td>\n",
       "      <td>35.0</td>\n",
       "      <td>BACHELOR'S DEGREE</td>\n",
       "      <td>0</td>\n",
       "      <td>civil partnership</td>\n",
       "      <td>1</td>\n",
       "      <td>F</td>\n",
       "      <td>employee</td>\n",
       "      <td>0</td>\n",
       "      <td>15337.093</td>\n",
       "      <td>having a wedding</td>\n",
       "      <td>bachelor's degree</td>\n",
       "      <td>adult</td>\n",
       "    </tr>\n",
       "    <tr>\n",
       "      <th>9</th>\n",
       "      <td>0</td>\n",
       "      <td>2188.756445</td>\n",
       "      <td>41.0</td>\n",
       "      <td>secondary education</td>\n",
       "      <td>1</td>\n",
       "      <td>married</td>\n",
       "      <td>0</td>\n",
       "      <td>M</td>\n",
       "      <td>employee</td>\n",
       "      <td>0</td>\n",
       "      <td>23108.150</td>\n",
       "      <td>purchase of the house for my family</td>\n",
       "      <td>secondary education</td>\n",
       "      <td>adult</td>\n",
       "    </tr>\n",
       "  </tbody>\n",
       "</table>\n",
       "</div>"
      ],
      "text/plain": [
       "   children  days_employed  dob_years            education  education_id  \\\n",
       "0         1    8437.673028       42.0    bachelor's degree             0   \n",
       "1         1    4024.803754       36.0  secondary education             1   \n",
       "2         0    5623.422610       33.0  Secondary Education             1   \n",
       "3         3    4124.747207       32.0  secondary education             1   \n",
       "4         0    3402.660720       53.0  secondary education             1   \n",
       "5         0     926.185831       27.0    bachelor's degree             0   \n",
       "6         0    2879.202052       43.0    bachelor's degree             0   \n",
       "7         0     152.779569       50.0  SECONDARY EDUCATION             1   \n",
       "8         2    6929.865299       35.0    BACHELOR'S DEGREE             0   \n",
       "9         0    2188.756445       41.0  secondary education             1   \n",
       "\n",
       "       family_status  family_status_id gender   income_type  debt  \\\n",
       "0            married                 0      F      employee     0   \n",
       "1            married                 0      F      employee     0   \n",
       "2            married                 0      M      employee     0   \n",
       "3            married                 0      M      employee     0   \n",
       "4  civil partnership                 1      F       retiree     0   \n",
       "5  civil partnership                 1      M  entrepreneur     0   \n",
       "6            married                 0      F  entrepreneur     0   \n",
       "7            married                 0      M      employee     0   \n",
       "8  civil partnership                 1      F      employee     0   \n",
       "9            married                 0      M      employee     0   \n",
       "\n",
       "   total_income                              purpose  education_lowercase  \\\n",
       "0     40620.102                purchase of the house    bachelor's degree   \n",
       "1     17932.802                         car purchase  secondary education   \n",
       "2     23341.752                purchase of the house  secondary education   \n",
       "3     42820.568              supplementary education  secondary education   \n",
       "4     25378.572                    to have a wedding  secondary education   \n",
       "5     40922.170                purchase of the house    bachelor's degree   \n",
       "6     38484.156                 housing transactions    bachelor's degree   \n",
       "7     21731.829                            education  secondary education   \n",
       "8     15337.093                     having a wedding    bachelor's degree   \n",
       "9     23108.150  purchase of the house for my family  secondary education   \n",
       "\n",
       "  age_group  \n",
       "0     adult  \n",
       "1     adult  \n",
       "2     adult  \n",
       "3     adult  \n",
       "4     adult  \n",
       "5     adult  \n",
       "6     adult  \n",
       "7     adult  \n",
       "8     adult  \n",
       "9     adult  "
      ]
     },
     "execution_count": 54,
     "metadata": {},
     "output_type": "execute_result"
    }
   ],
   "source": [
    "df.head(10)"
   ]
  },
  {
   "cell_type": "code",
   "execution_count": 55,
   "metadata": {
    "scrolled": true
   },
   "outputs": [
    {
     "name": "stdout",
     "output_type": "stream",
     "text": [
      "<class 'pandas.core.frame.DataFrame'>\n",
      "Int64Index: 21470 entries, 0 to 21524\n",
      "Data columns (total 14 columns):\n",
      " #   Column               Non-Null Count  Dtype  \n",
      "---  ------               --------------  -----  \n",
      " 0   children             21470 non-null  int64  \n",
      " 1   days_employed        21470 non-null  float64\n",
      " 2   dob_years            21470 non-null  float64\n",
      " 3   education            21470 non-null  object \n",
      " 4   education_id         21470 non-null  int64  \n",
      " 5   family_status        21470 non-null  object \n",
      " 6   family_status_id     21470 non-null  int64  \n",
      " 7   gender               21470 non-null  object \n",
      " 8   income_type          21470 non-null  object \n",
      " 9   debt                 21470 non-null  int64  \n",
      " 10  total_income         21470 non-null  float64\n",
      " 11  purpose              21470 non-null  object \n",
      " 12  education_lowercase  21470 non-null  object \n",
      " 13  age_group            21470 non-null  object \n",
      "dtypes: float64(3), int64(4), object(7)\n",
      "memory usage: 2.5+ MB\n"
     ]
    }
   ],
   "source": [
    "# Check the entries in all columns - make sure we fixed all missing values\n",
    "df.info()\n"
   ]
  },
  {
   "cell_type": "markdown",
   "metadata": {},
   "source": [
    "## Categorization of data\n",
    "To answer the question about the connection between different loan purposes and on-time loan repayment we need to categorize data in the 'purpose' column.\n",
    "\n",
    "There are different purposes bu actually all of them can be described with 4 types of purposes. Let's look at the current list of purposes.\n",
    "\n"
   ]
  },
  {
   "cell_type": "code",
   "execution_count": 56,
   "metadata": {
    "scrolled": true
   },
   "outputs": [
    {
     "data": {
      "text/plain": [
       "array(['purchase of the house', 'car purchase', 'supplementary education',\n",
       "       'to have a wedding', 'housing transactions', 'education',\n",
       "       'having a wedding', 'purchase of the house for my family',\n",
       "       'buy real estate', 'buy commercial real estate',\n",
       "       'buy residential real estate', 'construction of own property',\n",
       "       'property', 'building a property', 'buying a second-hand car',\n",
       "       'buying my own car', 'transactions with commercial real estate',\n",
       "       'building a real estate', 'housing',\n",
       "       'transactions with my real estate', 'cars', 'to become educated',\n",
       "       'second-hand car purchase', 'getting an education', 'car',\n",
       "       'wedding ceremony', 'to get a supplementary education',\n",
       "       'purchase of my own house', 'real estate transactions',\n",
       "       'getting higher education', 'to own a car', 'purchase of a car',\n",
       "       'profile education', 'university education',\n",
       "       'buying property for renting out', 'to buy a car',\n",
       "       'housing renovation', 'going to university'], dtype=object)"
      ]
     },
     "execution_count": 56,
     "metadata": {},
     "output_type": "execute_result"
    }
   ],
   "source": [
    "# Print the values for purposes\n",
    "df['purpose'].unique()\n"
   ]
  },
  {
   "cell_type": "markdown",
   "metadata": {},
   "source": [
    "We can identfy the following groups of purposes:\n",
    "- to buy a car\n",
    "\n",
    "- to by a real estate\n",
    "\n",
    "- to study\n",
    "\n",
    "- to celebrate a wedding\n",
    "\n",
    "Let's categoize our data based on these themes.\n"
   ]
  },
  {
   "cell_type": "code",
   "execution_count": 57,
   "metadata": {},
   "outputs": [],
   "source": [
    "# Let's write a function to categorize the data based on common topics\n",
    "\n",
    "def purpose_categorised(purpose):\n",
    "    if 'car' in purpose:\n",
    "        return 'car'\n",
    "    if 'house' in purpose:\n",
    "        return 'real estate'\n",
    "    if 'estate' in purpose:\n",
    "        return 'real estate'\n",
    "    if 'property' in purpose:\n",
    "        return 'real estate'\n",
    "    if 'hous' in purpose:\n",
    "        return 'real estate'\n",
    "    if 'educat' in purpose: \n",
    "        return 'education'\n",
    "    if 'university' in purpose: \n",
    "        return 'education'\n",
    "    return 'wedding'"
   ]
  },
  {
   "cell_type": "code",
   "execution_count": 58,
   "metadata": {},
   "outputs": [
    {
     "name": "stdout",
     "output_type": "stream",
     "text": [
      "education\n"
     ]
    }
   ],
   "source": [
    "# Check that function works\n",
    "\n",
    "print(purpose_categorised('going to university'))"
   ]
  },
  {
   "cell_type": "code",
   "execution_count": 59,
   "metadata": {},
   "outputs": [
    {
     "name": "stdout",
     "output_type": "stream",
     "text": [
      "   children  days_employed  dob_years            education  education_id  \\\n",
      "0         1    8437.673028       42.0    bachelor's degree             0   \n",
      "1         1    4024.803754       36.0  secondary education             1   \n",
      "2         0    5623.422610       33.0  Secondary Education             1   \n",
      "3         3    4124.747207       32.0  secondary education             1   \n",
      "4         0    3402.660720       53.0  secondary education             1   \n",
      "5         0     926.185831       27.0    bachelor's degree             0   \n",
      "6         0    2879.202052       43.0    bachelor's degree             0   \n",
      "7         0     152.779569       50.0  SECONDARY EDUCATION             1   \n",
      "8         2    6929.865299       35.0    BACHELOR'S DEGREE             0   \n",
      "9         0    2188.756445       41.0  secondary education             1   \n",
      "\n",
      "       family_status  family_status_id gender   income_type  debt  \\\n",
      "0            married                 0      F      employee     0   \n",
      "1            married                 0      F      employee     0   \n",
      "2            married                 0      M      employee     0   \n",
      "3            married                 0      M      employee     0   \n",
      "4  civil partnership                 1      F       retiree     0   \n",
      "5  civil partnership                 1      M  entrepreneur     0   \n",
      "6            married                 0      F  entrepreneur     0   \n",
      "7            married                 0      M      employee     0   \n",
      "8  civil partnership                 1      F      employee     0   \n",
      "9            married                 0      M      employee     0   \n",
      "\n",
      "   total_income                              purpose  education_lowercase  \\\n",
      "0     40620.102                purchase of the house    bachelor's degree   \n",
      "1     17932.802                         car purchase  secondary education   \n",
      "2     23341.752                purchase of the house  secondary education   \n",
      "3     42820.568              supplementary education  secondary education   \n",
      "4     25378.572                    to have a wedding  secondary education   \n",
      "5     40922.170                purchase of the house    bachelor's degree   \n",
      "6     38484.156                 housing transactions    bachelor's degree   \n",
      "7     21731.829                            education  secondary education   \n",
      "8     15337.093                     having a wedding    bachelor's degree   \n",
      "9     23108.150  purchase of the house for my family  secondary education   \n",
      "\n",
      "  age_group purpose_categorised  \n",
      "0     adult         real estate  \n",
      "1     adult                 car  \n",
      "2     adult         real estate  \n",
      "3     adult           education  \n",
      "4     adult             wedding  \n",
      "5     adult         real estate  \n",
      "6     adult         real estate  \n",
      "7     adult           education  \n",
      "8     adult             wedding  \n",
      "9     adult         real estate  \n",
      "real estate    10814\n",
      "car             4308\n",
      "education       4014\n",
      "wedding         2334\n",
      "Name: purpose_categorised, dtype: int64\n"
     ]
    }
   ],
   "source": [
    "# Create a column with the categories and count the values for them\n",
    "\n",
    "df['purpose_categorised'] = df['purpose'].apply(purpose_categorised)\n",
    "print(df.head(10))\n",
    "print(df['purpose_categorised'].value_counts())"
   ]
  },
  {
   "cell_type": "markdown",
   "metadata": {},
   "source": [
    "Let's also categorize data with amount of children\n",
    "\n"
   ]
  },
  {
   "cell_type": "code",
   "execution_count": 60,
   "metadata": {},
   "outputs": [
    {
     "data": {
      "text/plain": [
       "array([1, 0, 3, 2, 4, 5])"
      ]
     },
     "execution_count": 60,
     "metadata": {},
     "output_type": "execute_result"
    }
   ],
   "source": [
    "# Looking through all the numerical data in `children` column\n",
    "df['children'].unique()"
   ]
  },
  {
   "cell_type": "code",
   "execution_count": 61,
   "metadata": {},
   "outputs": [
    {
     "data": {
      "text/plain": [
       "0    14106\n",
       "1     4856\n",
       "2     2128\n",
       "3      330\n",
       "4       41\n",
       "5        9\n",
       "Name: children, dtype: int64"
      ]
     },
     "execution_count": 61,
     "metadata": {},
     "output_type": "execute_result"
    }
   ],
   "source": [
    "# Getting summary statistics for the column\n",
    "df['children'].value_counts()\n"
   ]
  },
  {
   "cell_type": "markdown",
   "metadata": {},
   "source": [
    "We will create 3 groups - no children, 1 or 2 children and more than 3 children - we'll try to identify possible connection between loan repayment for people with no kids, for those with  average amount of children and for big families. "
   ]
  },
  {
   "cell_type": "code",
   "execution_count": 62,
   "metadata": {},
   "outputs": [],
   "source": [
    "# Creating function for categorizing into different numerical groups based on ranges\n",
    "def child_group(children):\n",
    "    if children ==0:\n",
    "        return 0\n",
    "    if children <= 2:\n",
    "        return 1\n",
    "    return 2\n"
   ]
  },
  {
   "cell_type": "code",
   "execution_count": 63,
   "metadata": {},
   "outputs": [
    {
     "data": {
      "text/html": [
       "<div>\n",
       "<style scoped>\n",
       "    .dataframe tbody tr th:only-of-type {\n",
       "        vertical-align: middle;\n",
       "    }\n",
       "\n",
       "    .dataframe tbody tr th {\n",
       "        vertical-align: top;\n",
       "    }\n",
       "\n",
       "    .dataframe thead th {\n",
       "        text-align: right;\n",
       "    }\n",
       "</style>\n",
       "<table border=\"1\" class=\"dataframe\">\n",
       "  <thead>\n",
       "    <tr style=\"text-align: right;\">\n",
       "      <th></th>\n",
       "      <th>children</th>\n",
       "      <th>days_employed</th>\n",
       "      <th>dob_years</th>\n",
       "      <th>education</th>\n",
       "      <th>education_id</th>\n",
       "      <th>family_status</th>\n",
       "      <th>family_status_id</th>\n",
       "      <th>gender</th>\n",
       "      <th>income_type</th>\n",
       "      <th>debt</th>\n",
       "      <th>total_income</th>\n",
       "      <th>purpose</th>\n",
       "      <th>education_lowercase</th>\n",
       "      <th>age_group</th>\n",
       "      <th>purpose_categorised</th>\n",
       "      <th>child_group</th>\n",
       "    </tr>\n",
       "  </thead>\n",
       "  <tbody>\n",
       "    <tr>\n",
       "      <th>0</th>\n",
       "      <td>1</td>\n",
       "      <td>8437.673028</td>\n",
       "      <td>42.0</td>\n",
       "      <td>bachelor's degree</td>\n",
       "      <td>0</td>\n",
       "      <td>married</td>\n",
       "      <td>0</td>\n",
       "      <td>F</td>\n",
       "      <td>employee</td>\n",
       "      <td>0</td>\n",
       "      <td>40620.102</td>\n",
       "      <td>purchase of the house</td>\n",
       "      <td>bachelor's degree</td>\n",
       "      <td>adult</td>\n",
       "      <td>real estate</td>\n",
       "      <td>1</td>\n",
       "    </tr>\n",
       "    <tr>\n",
       "      <th>1</th>\n",
       "      <td>1</td>\n",
       "      <td>4024.803754</td>\n",
       "      <td>36.0</td>\n",
       "      <td>secondary education</td>\n",
       "      <td>1</td>\n",
       "      <td>married</td>\n",
       "      <td>0</td>\n",
       "      <td>F</td>\n",
       "      <td>employee</td>\n",
       "      <td>0</td>\n",
       "      <td>17932.802</td>\n",
       "      <td>car purchase</td>\n",
       "      <td>secondary education</td>\n",
       "      <td>adult</td>\n",
       "      <td>car</td>\n",
       "      <td>1</td>\n",
       "    </tr>\n",
       "    <tr>\n",
       "      <th>2</th>\n",
       "      <td>0</td>\n",
       "      <td>5623.422610</td>\n",
       "      <td>33.0</td>\n",
       "      <td>Secondary Education</td>\n",
       "      <td>1</td>\n",
       "      <td>married</td>\n",
       "      <td>0</td>\n",
       "      <td>M</td>\n",
       "      <td>employee</td>\n",
       "      <td>0</td>\n",
       "      <td>23341.752</td>\n",
       "      <td>purchase of the house</td>\n",
       "      <td>secondary education</td>\n",
       "      <td>adult</td>\n",
       "      <td>real estate</td>\n",
       "      <td>0</td>\n",
       "    </tr>\n",
       "    <tr>\n",
       "      <th>3</th>\n",
       "      <td>3</td>\n",
       "      <td>4124.747207</td>\n",
       "      <td>32.0</td>\n",
       "      <td>secondary education</td>\n",
       "      <td>1</td>\n",
       "      <td>married</td>\n",
       "      <td>0</td>\n",
       "      <td>M</td>\n",
       "      <td>employee</td>\n",
       "      <td>0</td>\n",
       "      <td>42820.568</td>\n",
       "      <td>supplementary education</td>\n",
       "      <td>secondary education</td>\n",
       "      <td>adult</td>\n",
       "      <td>education</td>\n",
       "      <td>2</td>\n",
       "    </tr>\n",
       "    <tr>\n",
       "      <th>4</th>\n",
       "      <td>0</td>\n",
       "      <td>3402.660720</td>\n",
       "      <td>53.0</td>\n",
       "      <td>secondary education</td>\n",
       "      <td>1</td>\n",
       "      <td>civil partnership</td>\n",
       "      <td>1</td>\n",
       "      <td>F</td>\n",
       "      <td>retiree</td>\n",
       "      <td>0</td>\n",
       "      <td>25378.572</td>\n",
       "      <td>to have a wedding</td>\n",
       "      <td>secondary education</td>\n",
       "      <td>adult</td>\n",
       "      <td>wedding</td>\n",
       "      <td>0</td>\n",
       "    </tr>\n",
       "    <tr>\n",
       "      <th>5</th>\n",
       "      <td>0</td>\n",
       "      <td>926.185831</td>\n",
       "      <td>27.0</td>\n",
       "      <td>bachelor's degree</td>\n",
       "      <td>0</td>\n",
       "      <td>civil partnership</td>\n",
       "      <td>1</td>\n",
       "      <td>M</td>\n",
       "      <td>entrepreneur</td>\n",
       "      <td>0</td>\n",
       "      <td>40922.170</td>\n",
       "      <td>purchase of the house</td>\n",
       "      <td>bachelor's degree</td>\n",
       "      <td>adult</td>\n",
       "      <td>real estate</td>\n",
       "      <td>0</td>\n",
       "    </tr>\n",
       "    <tr>\n",
       "      <th>6</th>\n",
       "      <td>0</td>\n",
       "      <td>2879.202052</td>\n",
       "      <td>43.0</td>\n",
       "      <td>bachelor's degree</td>\n",
       "      <td>0</td>\n",
       "      <td>married</td>\n",
       "      <td>0</td>\n",
       "      <td>F</td>\n",
       "      <td>entrepreneur</td>\n",
       "      <td>0</td>\n",
       "      <td>38484.156</td>\n",
       "      <td>housing transactions</td>\n",
       "      <td>bachelor's degree</td>\n",
       "      <td>adult</td>\n",
       "      <td>real estate</td>\n",
       "      <td>0</td>\n",
       "    </tr>\n",
       "    <tr>\n",
       "      <th>7</th>\n",
       "      <td>0</td>\n",
       "      <td>152.779569</td>\n",
       "      <td>50.0</td>\n",
       "      <td>SECONDARY EDUCATION</td>\n",
       "      <td>1</td>\n",
       "      <td>married</td>\n",
       "      <td>0</td>\n",
       "      <td>M</td>\n",
       "      <td>employee</td>\n",
       "      <td>0</td>\n",
       "      <td>21731.829</td>\n",
       "      <td>education</td>\n",
       "      <td>secondary education</td>\n",
       "      <td>adult</td>\n",
       "      <td>education</td>\n",
       "      <td>0</td>\n",
       "    </tr>\n",
       "    <tr>\n",
       "      <th>8</th>\n",
       "      <td>2</td>\n",
       "      <td>6929.865299</td>\n",
       "      <td>35.0</td>\n",
       "      <td>BACHELOR'S DEGREE</td>\n",
       "      <td>0</td>\n",
       "      <td>civil partnership</td>\n",
       "      <td>1</td>\n",
       "      <td>F</td>\n",
       "      <td>employee</td>\n",
       "      <td>0</td>\n",
       "      <td>15337.093</td>\n",
       "      <td>having a wedding</td>\n",
       "      <td>bachelor's degree</td>\n",
       "      <td>adult</td>\n",
       "      <td>wedding</td>\n",
       "      <td>1</td>\n",
       "    </tr>\n",
       "    <tr>\n",
       "      <th>9</th>\n",
       "      <td>0</td>\n",
       "      <td>2188.756445</td>\n",
       "      <td>41.0</td>\n",
       "      <td>secondary education</td>\n",
       "      <td>1</td>\n",
       "      <td>married</td>\n",
       "      <td>0</td>\n",
       "      <td>M</td>\n",
       "      <td>employee</td>\n",
       "      <td>0</td>\n",
       "      <td>23108.150</td>\n",
       "      <td>purchase of the house for my family</td>\n",
       "      <td>secondary education</td>\n",
       "      <td>adult</td>\n",
       "      <td>real estate</td>\n",
       "      <td>0</td>\n",
       "    </tr>\n",
       "  </tbody>\n",
       "</table>\n",
       "</div>"
      ],
      "text/plain": [
       "   children  days_employed  dob_years            education  education_id  \\\n",
       "0         1    8437.673028       42.0    bachelor's degree             0   \n",
       "1         1    4024.803754       36.0  secondary education             1   \n",
       "2         0    5623.422610       33.0  Secondary Education             1   \n",
       "3         3    4124.747207       32.0  secondary education             1   \n",
       "4         0    3402.660720       53.0  secondary education             1   \n",
       "5         0     926.185831       27.0    bachelor's degree             0   \n",
       "6         0    2879.202052       43.0    bachelor's degree             0   \n",
       "7         0     152.779569       50.0  SECONDARY EDUCATION             1   \n",
       "8         2    6929.865299       35.0    BACHELOR'S DEGREE             0   \n",
       "9         0    2188.756445       41.0  secondary education             1   \n",
       "\n",
       "       family_status  family_status_id gender   income_type  debt  \\\n",
       "0            married                 0      F      employee     0   \n",
       "1            married                 0      F      employee     0   \n",
       "2            married                 0      M      employee     0   \n",
       "3            married                 0      M      employee     0   \n",
       "4  civil partnership                 1      F       retiree     0   \n",
       "5  civil partnership                 1      M  entrepreneur     0   \n",
       "6            married                 0      F  entrepreneur     0   \n",
       "7            married                 0      M      employee     0   \n",
       "8  civil partnership                 1      F      employee     0   \n",
       "9            married                 0      M      employee     0   \n",
       "\n",
       "   total_income                              purpose  education_lowercase  \\\n",
       "0     40620.102                purchase of the house    bachelor's degree   \n",
       "1     17932.802                         car purchase  secondary education   \n",
       "2     23341.752                purchase of the house  secondary education   \n",
       "3     42820.568              supplementary education  secondary education   \n",
       "4     25378.572                    to have a wedding  secondary education   \n",
       "5     40922.170                purchase of the house    bachelor's degree   \n",
       "6     38484.156                 housing transactions    bachelor's degree   \n",
       "7     21731.829                            education  secondary education   \n",
       "8     15337.093                     having a wedding    bachelor's degree   \n",
       "9     23108.150  purchase of the house for my family  secondary education   \n",
       "\n",
       "  age_group purpose_categorised  child_group  \n",
       "0     adult         real estate            1  \n",
       "1     adult                 car            1  \n",
       "2     adult         real estate            0  \n",
       "3     adult           education            2  \n",
       "4     adult             wedding            0  \n",
       "5     adult         real estate            0  \n",
       "6     adult         real estate            0  \n",
       "7     adult           education            0  \n",
       "8     adult             wedding            1  \n",
       "9     adult         real estate            0  "
      ]
     },
     "execution_count": 63,
     "metadata": {},
     "output_type": "execute_result"
    }
   ],
   "source": [
    "# Creating column with categories\n",
    "df['child_group'] = df['children'].apply(child_group)\n",
    "df.head(10)"
   ]
  },
  {
   "cell_type": "code",
   "execution_count": 64,
   "metadata": {
    "scrolled": true
   },
   "outputs": [
    {
     "data": {
      "text/plain": [
       "0    14106\n",
       "1     6984\n",
       "2      380\n",
       "Name: child_group, dtype: int64"
      ]
     },
     "execution_count": 64,
     "metadata": {},
     "output_type": "execute_result"
    }
   ],
   "source": [
    "# Count each categories values to see the distribution\n",
    "df['child_group'].value_counts()"
   ]
  },
  {
   "cell_type": "markdown",
   "metadata": {},
   "source": [
    "## Checking the Hypotheses\n"
   ]
  },
  {
   "cell_type": "markdown",
   "metadata": {},
   "source": [
    "**Is there a correlation between having children and paying back on time?**"
   ]
  },
  {
   "cell_type": "code",
   "execution_count": 65,
   "metadata": {},
   "outputs": [
    {
     "name": "stdout",
     "output_type": "stream",
     "text": [
      "child_group\n",
      "0    1063\n",
      "1     647\n",
      "2      31\n",
      "Name: debt, dtype: int64\n",
      "child_group\n",
      "0    7.535800\n",
      "1    9.264032\n",
      "2    8.157895\n",
      "Name: debt, dtype: float64\n"
     ]
    }
   ],
   "source": [
    "# Check the children data and paying back on time\n",
    "print(df.groupby(['child_group'])['debt'].sum())\n",
    "\n",
    "# Calculating default-rate based on the number of children\n",
    "print(df.groupby(['child_group'])['debt'].sum()/df.groupby(['child_group'])['debt'].count()*100)\n"
   ]
  },
  {
   "cell_type": "markdown",
   "metadata": {},
   "source": [
    "**Conclusion**\n",
    "\n",
    "There is no correlation between amount of children and default rate (it's almost the same for all categories).\n"
   ]
  },
  {
   "cell_type": "markdown",
   "metadata": {},
   "source": [
    "**Is there a correlation between family status and paying back on time?**"
   ]
  },
  {
   "cell_type": "code",
   "execution_count": 66,
   "metadata": {},
   "outputs": [
    {
     "name": "stdout",
     "output_type": "stream",
     "text": [
      "family_status\n",
      "civil partnership    388\n",
      "divorced              85\n",
      "married              931\n",
      "unmarried            274\n",
      "widow / widower       63\n",
      "Name: debt, dtype: int64\n",
      "family_status\n",
      "civil partnership    9.322441\n",
      "divorced             7.112971\n",
      "married              7.542126\n",
      "unmarried            9.750890\n",
      "widow / widower      6.569343\n",
      "Name: debt, dtype: float64\n"
     ]
    }
   ],
   "source": [
    "# Check the family status data and paying back on time\n",
    "print(df.groupby(['family_status'])['debt'].sum())\n",
    "\n",
    "\n",
    "# Calculating default-rate based on family status\n",
    "\n",
    "print(df.groupby(['family_status'])['debt'].sum()/df.groupby(['family_status'])['debt'].count()*100)"
   ]
  },
  {
   "cell_type": "markdown",
   "metadata": {},
   "source": [
    "**Conclusion**\n",
    "\n",
    "The default rate for all categories is almost the same except for widow / widower for whom default rate is a little less than for other categories. This could mean that these categories of people tend to pay their debts more often."
   ]
  },
  {
   "cell_type": "markdown",
   "metadata": {},
   "source": [
    "**Is there a correlation between income level and paying back on time?**"
   ]
  },
  {
   "cell_type": "code",
   "execution_count": 67,
   "metadata": {
    "scrolled": true
   },
   "outputs": [
    {
     "name": "stdout",
     "output_type": "stream",
     "text": [
      "count     21470.000000\n",
      "mean      26445.218696\n",
      "std       15700.679253\n",
      "min        3306.762000\n",
      "25%       17224.471500\n",
      "50%       22815.103500\n",
      "75%       31320.366500\n",
      "max      362496.645000\n",
      "Name: total_income, dtype: float64\n",
      "22815.103499999997\n"
     ]
    }
   ],
   "source": [
    "# Check the income level data and paying back on time\n",
    "\n",
    "print(df['total_income'].describe())\n",
    "print(df['total_income'].median())\n",
    "# Calculating default-rate based on income level\n"
   ]
  },
  {
   "cell_type": "code",
   "execution_count": 68,
   "metadata": {},
   "outputs": [],
   "source": [
    "# Creating function for categorizing into different numerical groups based on ranges\n",
    "\n",
    "def income_group(total_income):\n",
    "    if total_income <= 16488.504500:\n",
    "        return 'low'\n",
    "    if total_income <= 32549.611000:\n",
    "        return 'medium'\n",
    "    return 'high'"
   ]
  },
  {
   "cell_type": "code",
   "execution_count": 69,
   "metadata": {},
   "outputs": [
    {
     "data": {
      "text/html": [
       "<div>\n",
       "<style scoped>\n",
       "    .dataframe tbody tr th:only-of-type {\n",
       "        vertical-align: middle;\n",
       "    }\n",
       "\n",
       "    .dataframe tbody tr th {\n",
       "        vertical-align: top;\n",
       "    }\n",
       "\n",
       "    .dataframe thead th {\n",
       "        text-align: right;\n",
       "    }\n",
       "</style>\n",
       "<table border=\"1\" class=\"dataframe\">\n",
       "  <thead>\n",
       "    <tr style=\"text-align: right;\">\n",
       "      <th></th>\n",
       "      <th>children</th>\n",
       "      <th>days_employed</th>\n",
       "      <th>dob_years</th>\n",
       "      <th>education</th>\n",
       "      <th>education_id</th>\n",
       "      <th>family_status</th>\n",
       "      <th>family_status_id</th>\n",
       "      <th>gender</th>\n",
       "      <th>income_type</th>\n",
       "      <th>debt</th>\n",
       "      <th>total_income</th>\n",
       "      <th>purpose</th>\n",
       "      <th>education_lowercase</th>\n",
       "      <th>age_group</th>\n",
       "      <th>purpose_categorised</th>\n",
       "      <th>child_group</th>\n",
       "      <th>income_group</th>\n",
       "    </tr>\n",
       "  </thead>\n",
       "  <tbody>\n",
       "    <tr>\n",
       "      <th>0</th>\n",
       "      <td>1</td>\n",
       "      <td>8437.673028</td>\n",
       "      <td>42.0</td>\n",
       "      <td>bachelor's degree</td>\n",
       "      <td>0</td>\n",
       "      <td>married</td>\n",
       "      <td>0</td>\n",
       "      <td>F</td>\n",
       "      <td>employee</td>\n",
       "      <td>0</td>\n",
       "      <td>40620.102</td>\n",
       "      <td>purchase of the house</td>\n",
       "      <td>bachelor's degree</td>\n",
       "      <td>adult</td>\n",
       "      <td>real estate</td>\n",
       "      <td>1</td>\n",
       "      <td>high</td>\n",
       "    </tr>\n",
       "    <tr>\n",
       "      <th>1</th>\n",
       "      <td>1</td>\n",
       "      <td>4024.803754</td>\n",
       "      <td>36.0</td>\n",
       "      <td>secondary education</td>\n",
       "      <td>1</td>\n",
       "      <td>married</td>\n",
       "      <td>0</td>\n",
       "      <td>F</td>\n",
       "      <td>employee</td>\n",
       "      <td>0</td>\n",
       "      <td>17932.802</td>\n",
       "      <td>car purchase</td>\n",
       "      <td>secondary education</td>\n",
       "      <td>adult</td>\n",
       "      <td>car</td>\n",
       "      <td>1</td>\n",
       "      <td>medium</td>\n",
       "    </tr>\n",
       "    <tr>\n",
       "      <th>2</th>\n",
       "      <td>0</td>\n",
       "      <td>5623.422610</td>\n",
       "      <td>33.0</td>\n",
       "      <td>Secondary Education</td>\n",
       "      <td>1</td>\n",
       "      <td>married</td>\n",
       "      <td>0</td>\n",
       "      <td>M</td>\n",
       "      <td>employee</td>\n",
       "      <td>0</td>\n",
       "      <td>23341.752</td>\n",
       "      <td>purchase of the house</td>\n",
       "      <td>secondary education</td>\n",
       "      <td>adult</td>\n",
       "      <td>real estate</td>\n",
       "      <td>0</td>\n",
       "      <td>medium</td>\n",
       "    </tr>\n",
       "    <tr>\n",
       "      <th>3</th>\n",
       "      <td>3</td>\n",
       "      <td>4124.747207</td>\n",
       "      <td>32.0</td>\n",
       "      <td>secondary education</td>\n",
       "      <td>1</td>\n",
       "      <td>married</td>\n",
       "      <td>0</td>\n",
       "      <td>M</td>\n",
       "      <td>employee</td>\n",
       "      <td>0</td>\n",
       "      <td>42820.568</td>\n",
       "      <td>supplementary education</td>\n",
       "      <td>secondary education</td>\n",
       "      <td>adult</td>\n",
       "      <td>education</td>\n",
       "      <td>2</td>\n",
       "      <td>high</td>\n",
       "    </tr>\n",
       "    <tr>\n",
       "      <th>4</th>\n",
       "      <td>0</td>\n",
       "      <td>3402.660720</td>\n",
       "      <td>53.0</td>\n",
       "      <td>secondary education</td>\n",
       "      <td>1</td>\n",
       "      <td>civil partnership</td>\n",
       "      <td>1</td>\n",
       "      <td>F</td>\n",
       "      <td>retiree</td>\n",
       "      <td>0</td>\n",
       "      <td>25378.572</td>\n",
       "      <td>to have a wedding</td>\n",
       "      <td>secondary education</td>\n",
       "      <td>adult</td>\n",
       "      <td>wedding</td>\n",
       "      <td>0</td>\n",
       "      <td>medium</td>\n",
       "    </tr>\n",
       "    <tr>\n",
       "      <th>5</th>\n",
       "      <td>0</td>\n",
       "      <td>926.185831</td>\n",
       "      <td>27.0</td>\n",
       "      <td>bachelor's degree</td>\n",
       "      <td>0</td>\n",
       "      <td>civil partnership</td>\n",
       "      <td>1</td>\n",
       "      <td>M</td>\n",
       "      <td>entrepreneur</td>\n",
       "      <td>0</td>\n",
       "      <td>40922.170</td>\n",
       "      <td>purchase of the house</td>\n",
       "      <td>bachelor's degree</td>\n",
       "      <td>adult</td>\n",
       "      <td>real estate</td>\n",
       "      <td>0</td>\n",
       "      <td>high</td>\n",
       "    </tr>\n",
       "    <tr>\n",
       "      <th>6</th>\n",
       "      <td>0</td>\n",
       "      <td>2879.202052</td>\n",
       "      <td>43.0</td>\n",
       "      <td>bachelor's degree</td>\n",
       "      <td>0</td>\n",
       "      <td>married</td>\n",
       "      <td>0</td>\n",
       "      <td>F</td>\n",
       "      <td>entrepreneur</td>\n",
       "      <td>0</td>\n",
       "      <td>38484.156</td>\n",
       "      <td>housing transactions</td>\n",
       "      <td>bachelor's degree</td>\n",
       "      <td>adult</td>\n",
       "      <td>real estate</td>\n",
       "      <td>0</td>\n",
       "      <td>high</td>\n",
       "    </tr>\n",
       "    <tr>\n",
       "      <th>7</th>\n",
       "      <td>0</td>\n",
       "      <td>152.779569</td>\n",
       "      <td>50.0</td>\n",
       "      <td>SECONDARY EDUCATION</td>\n",
       "      <td>1</td>\n",
       "      <td>married</td>\n",
       "      <td>0</td>\n",
       "      <td>M</td>\n",
       "      <td>employee</td>\n",
       "      <td>0</td>\n",
       "      <td>21731.829</td>\n",
       "      <td>education</td>\n",
       "      <td>secondary education</td>\n",
       "      <td>adult</td>\n",
       "      <td>education</td>\n",
       "      <td>0</td>\n",
       "      <td>medium</td>\n",
       "    </tr>\n",
       "    <tr>\n",
       "      <th>8</th>\n",
       "      <td>2</td>\n",
       "      <td>6929.865299</td>\n",
       "      <td>35.0</td>\n",
       "      <td>BACHELOR'S DEGREE</td>\n",
       "      <td>0</td>\n",
       "      <td>civil partnership</td>\n",
       "      <td>1</td>\n",
       "      <td>F</td>\n",
       "      <td>employee</td>\n",
       "      <td>0</td>\n",
       "      <td>15337.093</td>\n",
       "      <td>having a wedding</td>\n",
       "      <td>bachelor's degree</td>\n",
       "      <td>adult</td>\n",
       "      <td>wedding</td>\n",
       "      <td>1</td>\n",
       "      <td>low</td>\n",
       "    </tr>\n",
       "    <tr>\n",
       "      <th>9</th>\n",
       "      <td>0</td>\n",
       "      <td>2188.756445</td>\n",
       "      <td>41.0</td>\n",
       "      <td>secondary education</td>\n",
       "      <td>1</td>\n",
       "      <td>married</td>\n",
       "      <td>0</td>\n",
       "      <td>M</td>\n",
       "      <td>employee</td>\n",
       "      <td>0</td>\n",
       "      <td>23108.150</td>\n",
       "      <td>purchase of the house for my family</td>\n",
       "      <td>secondary education</td>\n",
       "      <td>adult</td>\n",
       "      <td>real estate</td>\n",
       "      <td>0</td>\n",
       "      <td>medium</td>\n",
       "    </tr>\n",
       "  </tbody>\n",
       "</table>\n",
       "</div>"
      ],
      "text/plain": [
       "   children  days_employed  dob_years            education  education_id  \\\n",
       "0         1    8437.673028       42.0    bachelor's degree             0   \n",
       "1         1    4024.803754       36.0  secondary education             1   \n",
       "2         0    5623.422610       33.0  Secondary Education             1   \n",
       "3         3    4124.747207       32.0  secondary education             1   \n",
       "4         0    3402.660720       53.0  secondary education             1   \n",
       "5         0     926.185831       27.0    bachelor's degree             0   \n",
       "6         0    2879.202052       43.0    bachelor's degree             0   \n",
       "7         0     152.779569       50.0  SECONDARY EDUCATION             1   \n",
       "8         2    6929.865299       35.0    BACHELOR'S DEGREE             0   \n",
       "9         0    2188.756445       41.0  secondary education             1   \n",
       "\n",
       "       family_status  family_status_id gender   income_type  debt  \\\n",
       "0            married                 0      F      employee     0   \n",
       "1            married                 0      F      employee     0   \n",
       "2            married                 0      M      employee     0   \n",
       "3            married                 0      M      employee     0   \n",
       "4  civil partnership                 1      F       retiree     0   \n",
       "5  civil partnership                 1      M  entrepreneur     0   \n",
       "6            married                 0      F  entrepreneur     0   \n",
       "7            married                 0      M      employee     0   \n",
       "8  civil partnership                 1      F      employee     0   \n",
       "9            married                 0      M      employee     0   \n",
       "\n",
       "   total_income                              purpose  education_lowercase  \\\n",
       "0     40620.102                purchase of the house    bachelor's degree   \n",
       "1     17932.802                         car purchase  secondary education   \n",
       "2     23341.752                purchase of the house  secondary education   \n",
       "3     42820.568              supplementary education  secondary education   \n",
       "4     25378.572                    to have a wedding  secondary education   \n",
       "5     40922.170                purchase of the house    bachelor's degree   \n",
       "6     38484.156                 housing transactions    bachelor's degree   \n",
       "7     21731.829                            education  secondary education   \n",
       "8     15337.093                     having a wedding    bachelor's degree   \n",
       "9     23108.150  purchase of the house for my family  secondary education   \n",
       "\n",
       "  age_group purpose_categorised  child_group income_group  \n",
       "0     adult         real estate            1         high  \n",
       "1     adult                 car            1       medium  \n",
       "2     adult         real estate            0       medium  \n",
       "3     adult           education            2         high  \n",
       "4     adult             wedding            0       medium  \n",
       "5     adult         real estate            0         high  \n",
       "6     adult         real estate            0         high  \n",
       "7     adult           education            0       medium  \n",
       "8     adult             wedding            1          low  \n",
       "9     adult         real estate            0       medium  "
      ]
     },
     "execution_count": 69,
     "metadata": {},
     "output_type": "execute_result"
    }
   ],
   "source": [
    "# Creating additional column with income group\n",
    "\n",
    "df['income_group'] = df['total_income'].apply(income_group)\n",
    "df.head(10)"
   ]
  },
  {
   "cell_type": "code",
   "execution_count": 70,
   "metadata": {},
   "outputs": [
    {
     "name": "stdout",
     "output_type": "stream",
     "text": [
      "income_group\n",
      "high       341\n",
      "low        383\n",
      "medium    1017\n",
      "Name: debt, dtype: int64\n",
      "income_group\n",
      "high      7.048367\n",
      "low       7.916494\n",
      "medium    8.623029\n",
      "Name: debt, dtype: float64\n"
     ]
    }
   ],
   "source": [
    "# Check the income level data and paying back on time\n",
    "\n",
    "print(df.groupby(['income_group'])['debt'].sum())\n",
    "\n",
    "# Calculating default-rate based on income level\n",
    "\n",
    "print(df.groupby(['income_group'])['debt'].sum()/df.groupby(['income_group'])['debt'].count()*100)"
   ]
  },
  {
   "cell_type": "markdown",
   "metadata": {},
   "source": [
    "**Conclusion**\n",
    "\n",
    "Default rate is almost the same for each income category - so we don't identify any correlation between them."
   ]
  },
  {
   "cell_type": "markdown",
   "metadata": {},
   "source": [
    "**How does credit purpose affect the default rate?**"
   ]
  },
  {
   "cell_type": "code",
   "execution_count": 71,
   "metadata": {},
   "outputs": [
    {
     "name": "stdout",
     "output_type": "stream",
     "text": [
      "purpose_categorised\n",
      "car            403\n",
      "education      370\n",
      "real estate    782\n",
      "wedding        186\n",
      "Name: debt, dtype: int64\n",
      "purpose_categorised\n",
      "car            9.354689\n",
      "education      9.217738\n",
      "real estate    7.231367\n",
      "wedding        7.969152\n",
      "Name: debt, dtype: float64\n"
     ]
    }
   ],
   "source": [
    "# Check the percentages for default rate for each credit purpose and analyze them\n",
    "# Check the income level data and paying back on time\n",
    "\n",
    "print(df.groupby(['purpose_categorised'])['debt'].sum())\n",
    "\n",
    "# Calculating default-rate based on income level\n",
    "\n",
    "print(df.groupby(['purpose_categorised'])['debt'].sum()/df.groupby(['purpose_categorised'])['debt'].count()*100)\n"
   ]
  },
  {
   "cell_type": "markdown",
   "metadata": {},
   "source": [
    "**Conclusion**\n",
    "\n",
    "Default rate of those who is going to buy a car or pay for the education is higher than for those who is planning wedding or want to buy a house. "
   ]
  },
  {
   "cell_type": "markdown",
   "metadata": {},
   "source": [
    "# General Conclusion \n",
    "\n",
    "We have addressed all the issued identified in the data received: missing values, duplicates, values with not clear names. \n",
    "\n",
    "Two columns with missing data were identified. We have filled in the values for one of them (days_employed) and decided not to do anything with another one (total income) because of having no info about the reason of their abscence and potential influence on the result. These data could be missed because zero income or abscence of days at work. Or they might be forgotten to be filled in.\n",
    "\n",
    "For filling in values in days_employed columns we have chosen the mean value for coresponding age group.\n",
    "\n",
    "Duplicates were removed by applying drop_duplicates method (based on all columns). Duplicated data could have occured because of multiple filling in the electronic forms by people or some other technical issues.\n",
    "\n",
    "We have analysed the dataset given trying to identify any possible correlation between different criteria and default rate.\n",
    "\n",
    "We have checked income level, amount of children, marital status and purpose of loan for possible correlation with defualt rate.\n",
    "\n",
    "We have identified that there is no connection between income level and amount of children with default rate - for all categories of these criteria default rate was almost the same.\n",
    "\n",
    "On the other hand, there can be a correlation between marital status and default rate. We have analysed all the statuses and noticed that the lowest default rate is for widows and widowers.\n",
    "\n",
    "Purpose of the loan is also connected with the default rate - according to our calculations loans for buying of real estate and on wedding ceremonies is lower than for buying a car or study.\n",
    "\n",
    "Overall conclusion is that among all the criteria analysed marital status and purpose of the loan are those which can potentially influence the default rate for the dataset given. So may be the credit score must be higher for widows and widowers as well as for those who want to buy a house o to celebrate a wedding.\n",
    "\n"
   ]
  }
 ],
 "metadata": {
  "ExecuteTimeLog": [
   {
    "duration": 2741,
    "start_time": "2021-10-21T01:08:49.480Z"
   },
   {
    "duration": 52,
    "start_time": "2021-10-21T01:08:53.315Z"
   },
   {
    "duration": 49,
    "start_time": "2021-10-21T01:08:57.432Z"
   },
   {
    "duration": 70,
    "start_time": "2021-10-21T01:09:07.706Z"
   },
   {
    "duration": 660,
    "start_time": "2022-07-24T13:45:13.659Z"
   },
   {
    "duration": 131,
    "start_time": "2022-07-24T13:45:26.709Z"
   },
   {
    "duration": 92,
    "start_time": "2022-07-24T13:45:33.973Z"
   },
   {
    "duration": 17,
    "start_time": "2022-07-24T13:47:06.419Z"
   },
   {
    "duration": 12,
    "start_time": "2022-07-24T13:47:40.111Z"
   },
   {
    "duration": 614,
    "start_time": "2022-07-25T07:38:19.068Z"
   },
   {
    "duration": 15,
    "start_time": "2022-07-25T07:38:19.684Z"
   },
   {
    "duration": 13,
    "start_time": "2022-07-25T09:05:56.542Z"
   },
   {
    "duration": 18,
    "start_time": "2022-07-25T09:06:44.514Z"
   },
   {
    "duration": 2,
    "start_time": "2022-07-25T09:10:44.804Z"
   },
   {
    "duration": 91,
    "start_time": "2022-07-25T09:35:54.709Z"
   },
   {
    "duration": 6,
    "start_time": "2022-07-25T09:36:19.806Z"
   },
   {
    "duration": 11,
    "start_time": "2022-07-25T09:37:01.541Z"
   },
   {
    "duration": 7,
    "start_time": "2022-07-25T09:37:04.291Z"
   },
   {
    "duration": 6,
    "start_time": "2022-07-25T09:37:42.385Z"
   },
   {
    "duration": 6,
    "start_time": "2022-07-25T09:38:01.558Z"
   },
   {
    "duration": 1436,
    "start_time": "2022-07-25T09:38:35.130Z"
   },
   {
    "duration": 1323,
    "start_time": "2022-07-25T09:38:37.254Z"
   },
   {
    "duration": 29,
    "start_time": "2022-07-25T09:38:52.341Z"
   },
   {
    "duration": 18,
    "start_time": "2022-07-25T09:52:45.365Z"
   },
   {
    "duration": 13,
    "start_time": "2022-07-25T10:05:19.344Z"
   },
   {
    "duration": 200,
    "start_time": "2022-07-25T10:05:44.047Z"
   },
   {
    "duration": 13,
    "start_time": "2022-07-25T10:05:53.707Z"
   },
   {
    "duration": 25,
    "start_time": "2022-07-25T10:06:11.419Z"
   },
   {
    "duration": 8,
    "start_time": "2022-07-25T10:06:25.293Z"
   },
   {
    "duration": 9,
    "start_time": "2022-07-25T10:06:32.856Z"
   },
   {
    "duration": 26,
    "start_time": "2022-07-25T10:06:43.135Z"
   },
   {
    "duration": 10,
    "start_time": "2022-07-25T10:08:14.452Z"
   },
   {
    "duration": 4,
    "start_time": "2022-07-25T10:08:35.881Z"
   },
   {
    "duration": 3,
    "start_time": "2022-07-25T10:09:04.551Z"
   },
   {
    "duration": 5,
    "start_time": "2022-07-25T10:09:06.113Z"
   },
   {
    "duration": 4,
    "start_time": "2022-07-25T10:09:24.408Z"
   },
   {
    "duration": 6,
    "start_time": "2022-07-25T10:10:48.381Z"
   },
   {
    "duration": 11,
    "start_time": "2022-07-25T10:10:53.810Z"
   },
   {
    "duration": 4,
    "start_time": "2022-07-25T10:11:18.047Z"
   },
   {
    "duration": 64,
    "start_time": "2022-07-25T10:11:43.163Z"
   },
   {
    "duration": 89,
    "start_time": "2022-07-25T10:11:50.238Z"
   },
   {
    "duration": 4,
    "start_time": "2022-07-25T10:11:53.597Z"
   },
   {
    "duration": 107,
    "start_time": "2022-07-25T10:16:13.737Z"
   },
   {
    "duration": 58,
    "start_time": "2022-07-25T10:16:32.650Z"
   },
   {
    "duration": 54,
    "start_time": "2022-07-25T10:16:38.368Z"
   },
   {
    "duration": 66,
    "start_time": "2022-07-25T10:16:43.092Z"
   },
   {
    "duration": 53,
    "start_time": "2022-07-25T10:16:46.645Z"
   },
   {
    "duration": 374,
    "start_time": "2022-07-25T10:16:50.504Z"
   },
   {
    "duration": 5,
    "start_time": "2022-07-25T10:16:52.638Z"
   },
   {
    "duration": 5,
    "start_time": "2022-07-25T10:20:14.946Z"
   },
   {
    "duration": 6,
    "start_time": "2022-07-25T10:36:20.274Z"
   },
   {
    "duration": 20,
    "start_time": "2022-07-25T10:36:34.872Z"
   },
   {
    "duration": 110,
    "start_time": "2022-07-25T12:32:40.451Z"
   },
   {
    "duration": 117,
    "start_time": "2022-07-25T12:33:02.270Z"
   },
   {
    "duration": 730,
    "start_time": "2022-07-25T12:33:56.852Z"
   },
   {
    "duration": 95,
    "start_time": "2022-07-25T12:34:12.779Z"
   },
   {
    "duration": 5,
    "start_time": "2022-07-25T12:41:07.249Z"
   },
   {
    "duration": 6,
    "start_time": "2022-07-25T12:41:24.680Z"
   },
   {
    "duration": 10,
    "start_time": "2022-07-25T12:42:17.148Z"
   },
   {
    "duration": 6,
    "start_time": "2022-07-25T12:42:33.773Z"
   },
   {
    "duration": 10,
    "start_time": "2022-07-25T12:50:25.999Z"
   },
   {
    "duration": 11,
    "start_time": "2022-07-25T12:50:34.283Z"
   },
   {
    "duration": 13,
    "start_time": "2022-07-25T12:56:27.961Z"
   },
   {
    "duration": 9,
    "start_time": "2022-07-25T12:56:49.672Z"
   },
   {
    "duration": 9,
    "start_time": "2022-07-25T12:57:50.858Z"
   },
   {
    "duration": 7,
    "start_time": "2022-07-25T13:02:53.702Z"
   },
   {
    "duration": 7,
    "start_time": "2022-07-25T13:02:58.857Z"
   },
   {
    "duration": 6,
    "start_time": "2022-07-25T13:03:16.065Z"
   },
   {
    "duration": 6,
    "start_time": "2022-07-25T13:04:01.616Z"
   },
   {
    "duration": 8,
    "start_time": "2022-07-25T13:04:23.075Z"
   },
   {
    "duration": 16,
    "start_time": "2022-07-25T13:07:56.335Z"
   },
   {
    "duration": 21,
    "start_time": "2022-07-25T13:08:18.719Z"
   },
   {
    "duration": 0,
    "start_time": "2022-07-25T13:10:23.458Z"
   },
   {
    "duration": 14,
    "start_time": "2022-07-25T13:41:40.100Z"
   },
   {
    "duration": 0,
    "start_time": "2022-07-25T15:08:07.134Z"
   },
   {
    "duration": 1458,
    "start_time": "2022-07-25T15:08:12.994Z"
   },
   {
    "duration": 21,
    "start_time": "2022-07-25T15:08:33.443Z"
   },
   {
    "duration": 22,
    "start_time": "2022-07-25T15:08:39.101Z"
   },
   {
    "duration": 103,
    "start_time": "2022-07-25T15:34:17.940Z"
   },
   {
    "duration": 782,
    "start_time": "2022-07-25T15:34:31.802Z"
   },
   {
    "duration": 37,
    "start_time": "2022-07-25T15:34:50.804Z"
   },
   {
    "duration": 90,
    "start_time": "2022-07-25T15:35:54.291Z"
   },
   {
    "duration": 87,
    "start_time": "2022-07-25T15:36:02.582Z"
   },
   {
    "duration": 100,
    "start_time": "2022-07-25T15:36:17.837Z"
   },
   {
    "duration": 95,
    "start_time": "2022-07-25T15:36:28.813Z"
   },
   {
    "duration": 10,
    "start_time": "2022-07-25T15:36:53.712Z"
   },
   {
    "duration": 128,
    "start_time": "2022-07-25T15:36:57.481Z"
   },
   {
    "duration": 5,
    "start_time": "2022-07-25T15:45:44.353Z"
   },
   {
    "duration": 5,
    "start_time": "2022-07-25T15:46:09.693Z"
   },
   {
    "duration": 5,
    "start_time": "2022-07-25T15:46:17.965Z"
   },
   {
    "duration": 6,
    "start_time": "2022-07-25T15:46:27.481Z"
   },
   {
    "duration": 51,
    "start_time": "2022-07-25T15:50:43.134Z"
   },
   {
    "duration": 3,
    "start_time": "2022-07-25T15:50:53.899Z"
   },
   {
    "duration": 3,
    "start_time": "2022-07-25T15:50:55.512Z"
   },
   {
    "duration": 21,
    "start_time": "2022-07-25T15:58:44.334Z"
   },
   {
    "duration": 8,
    "start_time": "2022-07-25T16:01:58.704Z"
   },
   {
    "duration": 10,
    "start_time": "2022-07-25T16:52:24.664Z"
   },
   {
    "duration": 67,
    "start_time": "2022-07-25T16:52:30.380Z"
   },
   {
    "duration": 50,
    "start_time": "2022-07-25T16:52:56.273Z"
   },
   {
    "duration": 7,
    "start_time": "2022-07-25T16:59:23.298Z"
   },
   {
    "duration": 9,
    "start_time": "2022-07-25T16:59:31.156Z"
   },
   {
    "duration": 6,
    "start_time": "2022-07-25T17:10:32.954Z"
   },
   {
    "duration": 7,
    "start_time": "2022-07-25T17:13:05.622Z"
   },
   {
    "duration": 6,
    "start_time": "2022-07-25T17:13:50.992Z"
   },
   {
    "duration": 5,
    "start_time": "2022-07-25T17:14:00.973Z"
   },
   {
    "duration": 6,
    "start_time": "2022-07-25T17:14:23.548Z"
   },
   {
    "duration": 18,
    "start_time": "2022-07-25T17:14:40.890Z"
   },
   {
    "duration": 4,
    "start_time": "2022-07-25T17:15:07.889Z"
   },
   {
    "duration": 6,
    "start_time": "2022-07-25T17:15:13.173Z"
   },
   {
    "duration": 5,
    "start_time": "2022-07-25T17:15:31.701Z"
   },
   {
    "duration": 6,
    "start_time": "2022-07-25T17:15:55.016Z"
   },
   {
    "duration": 15,
    "start_time": "2022-07-25T17:16:06.459Z"
   },
   {
    "duration": 14,
    "start_time": "2022-07-25T17:16:18.190Z"
   },
   {
    "duration": 6,
    "start_time": "2022-07-25T17:19:44.357Z"
   },
   {
    "duration": 5,
    "start_time": "2022-07-25T17:19:57.885Z"
   },
   {
    "duration": 5,
    "start_time": "2022-07-25T17:20:16.965Z"
   },
   {
    "duration": 5,
    "start_time": "2022-07-25T17:20:49.843Z"
   },
   {
    "duration": 5,
    "start_time": "2022-07-25T17:20:57.703Z"
   },
   {
    "duration": 7,
    "start_time": "2022-07-25T17:21:05.305Z"
   },
   {
    "duration": 5,
    "start_time": "2022-07-25T17:21:11.651Z"
   },
   {
    "duration": 5,
    "start_time": "2022-07-25T17:21:20.854Z"
   },
   {
    "duration": 268,
    "start_time": "2022-07-25T17:22:03.908Z"
   },
   {
    "duration": 3,
    "start_time": "2022-07-25T17:22:21.675Z"
   },
   {
    "duration": 4,
    "start_time": "2022-07-25T17:22:36.018Z"
   },
   {
    "duration": 5,
    "start_time": "2022-07-25T17:23:07.366Z"
   },
   {
    "duration": 4,
    "start_time": "2022-07-25T17:23:31.792Z"
   },
   {
    "duration": 3,
    "start_time": "2022-07-25T17:23:38.497Z"
   },
   {
    "duration": 3,
    "start_time": "2022-07-25T17:23:40.697Z"
   },
   {
    "duration": 11,
    "start_time": "2022-07-25T17:23:42.687Z"
   },
   {
    "duration": 10,
    "start_time": "2022-07-25T17:24:16.284Z"
   },
   {
    "duration": 14,
    "start_time": "2022-07-25T17:24:54.423Z"
   },
   {
    "duration": 10,
    "start_time": "2022-07-25T17:24:57.952Z"
   },
   {
    "duration": 12,
    "start_time": "2022-07-25T17:25:11.639Z"
   },
   {
    "duration": 14,
    "start_time": "2022-07-25T17:25:17.121Z"
   },
   {
    "duration": 14,
    "start_time": "2022-07-25T17:25:21.221Z"
   },
   {
    "duration": 73,
    "start_time": "2022-07-25T17:25:52.615Z"
   },
   {
    "duration": 49,
    "start_time": "2022-07-25T17:25:56.336Z"
   },
   {
    "duration": 58,
    "start_time": "2022-07-25T17:26:05.383Z"
   },
   {
    "duration": 61,
    "start_time": "2022-07-25T17:26:10.838Z"
   },
   {
    "duration": 6,
    "start_time": "2022-07-25T17:26:23.774Z"
   },
   {
    "duration": 7,
    "start_time": "2022-07-25T17:29:49.844Z"
   },
   {
    "duration": 10,
    "start_time": "2022-07-25T17:33:07.839Z"
   },
   {
    "duration": 5,
    "start_time": "2022-07-25T17:33:16.302Z"
   },
   {
    "duration": 5,
    "start_time": "2022-07-25T17:33:25.657Z"
   },
   {
    "duration": 6,
    "start_time": "2022-07-25T17:33:33.497Z"
   },
   {
    "duration": 5,
    "start_time": "2022-07-25T17:33:38.650Z"
   },
   {
    "duration": 6,
    "start_time": "2022-07-25T17:33:45.436Z"
   },
   {
    "duration": 83,
    "start_time": "2022-07-25T17:34:03.122Z"
   },
   {
    "duration": 7,
    "start_time": "2022-07-25T17:34:06.850Z"
   },
   {
    "duration": 4,
    "start_time": "2022-07-25T17:34:13.707Z"
   },
   {
    "duration": 23,
    "start_time": "2022-07-25T17:34:20.472Z"
   },
   {
    "duration": 30,
    "start_time": "2022-07-25T17:34:32.442Z"
   },
   {
    "duration": 9,
    "start_time": "2022-07-25T17:35:18.350Z"
   },
   {
    "duration": 8,
    "start_time": "2022-07-25T17:35:27.901Z"
   },
   {
    "duration": 9,
    "start_time": "2022-07-25T17:36:15.606Z"
   },
   {
    "duration": 23,
    "start_time": "2022-07-25T17:36:47.548Z"
   },
   {
    "duration": 19,
    "start_time": "2022-07-25T17:37:39.801Z"
   },
   {
    "duration": 271,
    "start_time": "2022-07-25T17:37:49.378Z"
   },
   {
    "duration": 3,
    "start_time": "2022-07-25T17:37:59.893Z"
   },
   {
    "duration": 57,
    "start_time": "2022-07-25T17:38:08.861Z"
   },
   {
    "duration": 63,
    "start_time": "2022-07-25T17:39:18.712Z"
   },
   {
    "duration": 48,
    "start_time": "2022-07-25T17:39:40.638Z"
   },
   {
    "duration": 4,
    "start_time": "2022-07-25T17:40:32.249Z"
   },
   {
    "duration": 4,
    "start_time": "2022-07-25T17:40:57.979Z"
   },
   {
    "duration": 69,
    "start_time": "2022-07-25T17:41:07.497Z"
   },
   {
    "duration": 62,
    "start_time": "2022-07-25T17:41:11.189Z"
   },
   {
    "duration": 3,
    "start_time": "2022-07-25T17:41:16.804Z"
   },
   {
    "duration": 7,
    "start_time": "2022-07-25T17:41:33.877Z"
   },
   {
    "duration": 206,
    "start_time": "2022-07-25T17:41:43.478Z"
   },
   {
    "duration": 200,
    "start_time": "2022-07-25T17:42:12.553Z"
   },
   {
    "duration": 21,
    "start_time": "2022-07-25T17:47:42.767Z"
   },
   {
    "duration": 16,
    "start_time": "2022-07-25T17:48:07.238Z"
   },
   {
    "duration": 20,
    "start_time": "2022-07-25T17:49:30.244Z"
   },
   {
    "duration": 13,
    "start_time": "2022-07-25T17:50:09.773Z"
   },
   {
    "duration": 6,
    "start_time": "2022-07-25T17:50:58.748Z"
   },
   {
    "duration": 16,
    "start_time": "2022-07-25T17:51:05.316Z"
   },
   {
    "duration": 9,
    "start_time": "2022-07-25T17:51:09.347Z"
   },
   {
    "duration": 9,
    "start_time": "2022-07-25T17:53:24.352Z"
   },
   {
    "duration": 111,
    "start_time": "2022-07-25T17:59:38.022Z"
   },
   {
    "duration": 10,
    "start_time": "2022-07-25T17:59:42.139Z"
   },
   {
    "duration": 9,
    "start_time": "2022-07-25T18:01:49.993Z"
   },
   {
    "duration": 9,
    "start_time": "2022-07-25T18:01:52.082Z"
   },
   {
    "duration": 4,
    "start_time": "2022-07-25T18:02:02.697Z"
   },
   {
    "duration": 8,
    "start_time": "2022-07-25T18:02:29.540Z"
   },
   {
    "duration": 8,
    "start_time": "2022-07-25T18:02:50.402Z"
   },
   {
    "duration": 3,
    "start_time": "2022-07-25T18:03:48.361Z"
   },
   {
    "duration": 27,
    "start_time": "2022-07-25T18:04:06.769Z"
   },
   {
    "duration": 19,
    "start_time": "2022-07-25T18:09:19.497Z"
   },
   {
    "duration": 51,
    "start_time": "2022-07-26T07:49:28.061Z"
   },
   {
    "duration": 6,
    "start_time": "2022-07-26T07:53:31.243Z"
   },
   {
    "duration": 596,
    "start_time": "2022-07-26T07:53:39.777Z"
   },
   {
    "duration": 19,
    "start_time": "2022-07-26T07:53:42.278Z"
   },
   {
    "duration": 23,
    "start_time": "2022-07-26T07:53:44.745Z"
   },
   {
    "duration": 12,
    "start_time": "2022-07-26T07:53:47.659Z"
   },
   {
    "duration": 23,
    "start_time": "2022-07-26T07:53:50.479Z"
   },
   {
    "duration": 4,
    "start_time": "2022-07-26T07:53:54.050Z"
   },
   {
    "duration": 6,
    "start_time": "2022-07-26T07:53:55.972Z"
   },
   {
    "duration": 5,
    "start_time": "2022-07-26T07:54:18.251Z"
   },
   {
    "duration": 47,
    "start_time": "2022-07-26T07:54:31.943Z"
   },
   {
    "duration": 9,
    "start_time": "2022-07-26T07:55:17.751Z"
   },
   {
    "duration": 14,
    "start_time": "2022-07-26T07:56:03.038Z"
   },
   {
    "duration": 14,
    "start_time": "2022-07-26T07:56:06.444Z"
   },
   {
    "duration": 13,
    "start_time": "2022-07-26T07:56:08.046Z"
   },
   {
    "duration": 10,
    "start_time": "2022-07-26T08:10:56.443Z"
   },
   {
    "duration": 10,
    "start_time": "2022-07-26T08:11:13.539Z"
   },
   {
    "duration": 9,
    "start_time": "2022-07-26T08:11:26.096Z"
   },
   {
    "duration": 17,
    "start_time": "2022-07-26T08:13:42.248Z"
   },
   {
    "duration": 11,
    "start_time": "2022-07-26T08:13:49.035Z"
   },
   {
    "duration": 47,
    "start_time": "2022-07-26T08:16:23.635Z"
   },
   {
    "duration": 15,
    "start_time": "2022-07-26T08:16:32.401Z"
   },
   {
    "duration": 14,
    "start_time": "2022-07-26T08:16:34.238Z"
   },
   {
    "duration": 16,
    "start_time": "2022-07-26T08:16:42.237Z"
   },
   {
    "duration": 54,
    "start_time": "2022-07-26T08:18:02.336Z"
   },
   {
    "duration": 22,
    "start_time": "2022-07-26T08:18:17.386Z"
   },
   {
    "duration": 19,
    "start_time": "2022-07-26T08:18:39.807Z"
   },
   {
    "duration": 54,
    "start_time": "2022-07-26T08:30:44.767Z"
   },
   {
    "duration": 29,
    "start_time": "2022-07-26T08:31:10.686Z"
   },
   {
    "duration": 30,
    "start_time": "2022-07-26T08:52:14.961Z"
   },
   {
    "duration": 69,
    "start_time": "2022-07-26T08:53:38.451Z"
   },
   {
    "duration": 34,
    "start_time": "2022-07-26T08:53:53.010Z"
   },
   {
    "duration": 65,
    "start_time": "2022-07-26T12:48:43.067Z"
   },
   {
    "duration": 10,
    "start_time": "2022-07-26T12:50:16.886Z"
   },
   {
    "duration": 7,
    "start_time": "2022-07-26T12:51:49.146Z"
   },
   {
    "duration": 8,
    "start_time": "2022-07-26T12:55:00.526Z"
   },
   {
    "duration": 8,
    "start_time": "2022-07-26T12:55:20.690Z"
   },
   {
    "duration": 11,
    "start_time": "2022-07-26T12:56:12.684Z"
   },
   {
    "duration": 6,
    "start_time": "2022-07-26T12:56:25.263Z"
   },
   {
    "duration": 7,
    "start_time": "2022-07-26T13:00:27.827Z"
   },
   {
    "duration": 9,
    "start_time": "2022-07-26T13:00:44.576Z"
   },
   {
    "duration": 15,
    "start_time": "2022-07-26T13:04:13.348Z"
   },
   {
    "duration": 87,
    "start_time": "2022-07-26T13:04:24.763Z"
   },
   {
    "duration": 67,
    "start_time": "2022-07-26T13:04:26.437Z"
   },
   {
    "duration": 14,
    "start_time": "2022-07-26T13:04:34.069Z"
   },
   {
    "duration": 12,
    "start_time": "2022-07-26T13:05:12.963Z"
   },
   {
    "duration": 9,
    "start_time": "2022-07-26T13:05:29.974Z"
   },
   {
    "duration": 14,
    "start_time": "2022-07-26T13:05:37.527Z"
   },
   {
    "duration": 4,
    "start_time": "2022-07-26T13:05:52.535Z"
   },
   {
    "duration": 20,
    "start_time": "2022-07-26T13:05:56.019Z"
   },
   {
    "duration": 12,
    "start_time": "2022-07-26T13:06:15.155Z"
   },
   {
    "duration": 8,
    "start_time": "2022-07-26T13:06:29.812Z"
   },
   {
    "duration": 6,
    "start_time": "2022-07-26T13:06:46.164Z"
   },
   {
    "duration": 11,
    "start_time": "2022-07-26T13:07:25.414Z"
   },
   {
    "duration": 8,
    "start_time": "2022-07-26T13:08:29.911Z"
   },
   {
    "duration": 14,
    "start_time": "2022-07-26T13:16:23.152Z"
   },
   {
    "duration": 63,
    "start_time": "2022-07-26T13:16:42.364Z"
   },
   {
    "duration": 9,
    "start_time": "2022-07-26T13:16:47.968Z"
   },
   {
    "duration": 7,
    "start_time": "2022-07-26T13:17:50.198Z"
   },
   {
    "duration": 12,
    "start_time": "2022-07-26T13:20:55.521Z"
   },
   {
    "duration": 33,
    "start_time": "2022-07-26T13:21:45.084Z"
   },
   {
    "duration": 10,
    "start_time": "2022-07-26T13:22:01.174Z"
   },
   {
    "duration": 8,
    "start_time": "2022-07-26T13:24:20.532Z"
   },
   {
    "duration": 5,
    "start_time": "2022-07-26T13:24:21.924Z"
   },
   {
    "duration": 5,
    "start_time": "2022-07-26T13:27:44.493Z"
   },
   {
    "duration": 7,
    "start_time": "2022-07-26T13:28:00.972Z"
   },
   {
    "duration": 8,
    "start_time": "2022-07-26T13:34:19.489Z"
   },
   {
    "duration": 6,
    "start_time": "2022-07-26T13:34:57.719Z"
   },
   {
    "duration": 18,
    "start_time": "2022-07-26T13:35:10.052Z"
   },
   {
    "duration": 5,
    "start_time": "2022-07-26T13:35:37.225Z"
   },
   {
    "duration": 8,
    "start_time": "2022-07-26T13:36:00.689Z"
   },
   {
    "duration": 8,
    "start_time": "2022-07-26T13:36:18.542Z"
   },
   {
    "duration": 6,
    "start_time": "2022-07-26T13:36:43.474Z"
   },
   {
    "duration": 45,
    "start_time": "2022-07-27T09:09:21.943Z"
   },
   {
    "duration": 511,
    "start_time": "2022-07-27T09:09:28.623Z"
   },
   {
    "duration": 19,
    "start_time": "2022-07-27T09:09:31.529Z"
   },
   {
    "duration": 18,
    "start_time": "2022-07-27T09:09:34.509Z"
   },
   {
    "duration": 9,
    "start_time": "2022-07-27T09:09:37.675Z"
   },
   {
    "duration": 11,
    "start_time": "2022-07-27T09:09:41.671Z"
   },
   {
    "duration": 4,
    "start_time": "2022-07-27T09:09:45.501Z"
   },
   {
    "duration": 25,
    "start_time": "2022-07-27T09:09:48.100Z"
   },
   {
    "duration": 7,
    "start_time": "2022-07-27T09:09:50.901Z"
   },
   {
    "duration": 7,
    "start_time": "2022-07-27T09:09:54.443Z"
   },
   {
    "duration": 985,
    "start_time": "2022-07-27T09:10:33.057Z"
   },
   {
    "duration": 23,
    "start_time": "2022-07-27T09:10:37.471Z"
   },
   {
    "duration": 6,
    "start_time": "2022-07-27T09:10:40.150Z"
   },
   {
    "duration": 7,
    "start_time": "2022-07-27T09:10:43.381Z"
   },
   {
    "duration": 18,
    "start_time": "2022-07-27T09:10:47.143Z"
   },
   {
    "duration": 13,
    "start_time": "2022-07-27T09:12:18.633Z"
   },
   {
    "duration": 20,
    "start_time": "2022-07-27T09:50:13.085Z"
   },
   {
    "duration": 6,
    "start_time": "2022-07-27T09:50:53.462Z"
   },
   {
    "duration": 20,
    "start_time": "2022-07-27T09:51:19.674Z"
   },
   {
    "duration": 6,
    "start_time": "2022-07-27T09:51:22.826Z"
   },
   {
    "duration": 7,
    "start_time": "2022-07-27T09:51:37.983Z"
   },
   {
    "duration": 81,
    "start_time": "2022-07-27T09:51:55.546Z"
   },
   {
    "duration": 15,
    "start_time": "2022-07-27T09:51:57.907Z"
   },
   {
    "duration": 12,
    "start_time": "2022-07-27T09:52:01.422Z"
   },
   {
    "duration": 8,
    "start_time": "2022-07-27T09:52:04.390Z"
   },
   {
    "duration": 12,
    "start_time": "2022-07-27T09:52:06.819Z"
   },
   {
    "duration": 5,
    "start_time": "2022-07-27T09:52:11.872Z"
   },
   {
    "duration": 25,
    "start_time": "2022-07-27T09:52:14.562Z"
   },
   {
    "duration": 6,
    "start_time": "2022-07-27T09:52:18.566Z"
   },
   {
    "duration": 7,
    "start_time": "2022-07-27T09:52:21.346Z"
   },
   {
    "duration": 4,
    "start_time": "2022-07-27T09:52:27.730Z"
   },
   {
    "duration": 19,
    "start_time": "2022-07-27T09:52:29.388Z"
   },
   {
    "duration": 6,
    "start_time": "2022-07-27T09:52:31.606Z"
   },
   {
    "duration": 5,
    "start_time": "2022-07-27T09:52:33.488Z"
   },
   {
    "duration": 22,
    "start_time": "2022-07-27T09:52:39.535Z"
   },
   {
    "duration": 6,
    "start_time": "2022-07-27T09:52:43.288Z"
   },
   {
    "duration": 20,
    "start_time": "2022-07-27T09:53:51.011Z"
   },
   {
    "duration": 7,
    "start_time": "2022-07-27T09:53:53.942Z"
   },
   {
    "duration": 20,
    "start_time": "2022-07-27T09:54:13.147Z"
   },
   {
    "duration": 7,
    "start_time": "2022-07-27T09:54:15.492Z"
   },
   {
    "duration": 15,
    "start_time": "2022-07-27T09:55:08.127Z"
   },
   {
    "duration": 5,
    "start_time": "2022-07-27T09:55:13.020Z"
   },
   {
    "duration": 14,
    "start_time": "2022-07-27T09:55:23.440Z"
   },
   {
    "duration": 6,
    "start_time": "2022-07-27T09:55:25.988Z"
   },
   {
    "duration": 9,
    "start_time": "2022-07-27T09:56:37.417Z"
   },
   {
    "duration": 8,
    "start_time": "2022-07-27T09:57:04.239Z"
   },
   {
    "duration": 7,
    "start_time": "2022-07-27T09:57:13.909Z"
   },
   {
    "duration": 7,
    "start_time": "2022-07-27T09:58:36.191Z"
   },
   {
    "duration": 5,
    "start_time": "2022-07-27T10:00:55.876Z"
   },
   {
    "duration": 292,
    "start_time": "2022-07-27T10:03:26.651Z"
   },
   {
    "duration": 61,
    "start_time": "2022-07-27T10:03:47.275Z"
   },
   {
    "duration": 7,
    "start_time": "2022-07-27T10:03:54.227Z"
   },
   {
    "duration": 5,
    "start_time": "2022-07-27T10:04:02.403Z"
   },
   {
    "duration": 4,
    "start_time": "2022-07-27T10:04:17.437Z"
   },
   {
    "duration": 8,
    "start_time": "2022-07-27T10:07:00.458Z"
   },
   {
    "duration": 4,
    "start_time": "2022-07-27T10:07:54.972Z"
   },
   {
    "duration": 9,
    "start_time": "2022-07-27T10:08:01.548Z"
   },
   {
    "duration": 7,
    "start_time": "2022-07-27T10:08:17.693Z"
   },
   {
    "duration": 323,
    "start_time": "2022-07-27T10:08:34.739Z"
   },
   {
    "duration": 71,
    "start_time": "2022-07-27T10:09:47.518Z"
   },
   {
    "duration": 65,
    "start_time": "2022-07-27T10:09:51.200Z"
   },
   {
    "duration": 339,
    "start_time": "2022-07-27T10:10:03.242Z"
   },
   {
    "duration": 324,
    "start_time": "2022-07-27T10:14:25.284Z"
   },
   {
    "duration": 895,
    "start_time": "2022-07-27T10:17:59.942Z"
   },
   {
    "duration": 5,
    "start_time": "2022-07-27T10:18:13.549Z"
   },
   {
    "duration": 305,
    "start_time": "2022-07-27T10:18:29.089Z"
   },
   {
    "duration": 78,
    "start_time": "2022-07-27T10:19:21.141Z"
   },
   {
    "duration": 295,
    "start_time": "2022-07-27T10:19:26.006Z"
   },
   {
    "duration": 338,
    "start_time": "2022-07-27T10:26:45.465Z"
   },
   {
    "duration": 941,
    "start_time": "2022-07-27T10:26:59.817Z"
   },
   {
    "duration": 8,
    "start_time": "2022-07-27T10:28:35.981Z"
   },
   {
    "duration": 8,
    "start_time": "2022-07-27T10:28:56.236Z"
   },
   {
    "duration": 7,
    "start_time": "2022-07-27T10:29:35.052Z"
   },
   {
    "duration": 11,
    "start_time": "2022-07-27T10:30:02.053Z"
   },
   {
    "duration": 7,
    "start_time": "2022-07-27T10:30:07.083Z"
   },
   {
    "duration": 1021,
    "start_time": "2022-07-27T10:37:01.176Z"
   },
   {
    "duration": 7,
    "start_time": "2022-07-27T10:37:21.548Z"
   },
   {
    "duration": 6,
    "start_time": "2022-07-27T10:37:32.062Z"
   },
   {
    "duration": 6,
    "start_time": "2022-07-27T10:37:47.641Z"
   },
   {
    "duration": 6,
    "start_time": "2022-07-27T10:37:54.192Z"
   },
   {
    "duration": 28,
    "start_time": "2022-07-27T10:43:20.522Z"
   },
   {
    "duration": 8,
    "start_time": "2022-07-27T10:45:41.101Z"
   },
   {
    "duration": 7,
    "start_time": "2022-07-27T10:46:07.079Z"
   },
   {
    "duration": 8,
    "start_time": "2022-07-27T10:46:35.599Z"
   },
   {
    "duration": 10,
    "start_time": "2022-07-27T10:48:08.619Z"
   },
   {
    "duration": 11,
    "start_time": "2022-07-27T10:48:24.987Z"
   },
   {
    "duration": 10,
    "start_time": "2022-07-27T10:48:40.903Z"
   },
   {
    "duration": 6,
    "start_time": "2022-07-27T10:48:45.921Z"
   },
   {
    "duration": 10,
    "start_time": "2022-07-27T10:52:03.559Z"
   },
   {
    "duration": 51,
    "start_time": "2022-07-27T10:52:26.253Z"
   },
   {
    "duration": 7,
    "start_time": "2022-07-27T10:52:36.359Z"
   },
   {
    "duration": 7,
    "start_time": "2022-07-27T10:52:46.938Z"
   },
   {
    "duration": 8,
    "start_time": "2022-07-27T10:59:11.098Z"
   },
   {
    "duration": 7,
    "start_time": "2022-07-27T11:59:32.493Z"
   },
   {
    "duration": 13,
    "start_time": "2022-07-27T11:59:37.763Z"
   },
   {
    "duration": 5,
    "start_time": "2022-07-27T12:01:56.631Z"
   },
   {
    "duration": 13,
    "start_time": "2022-07-27T12:02:10.623Z"
   },
   {
    "duration": 4,
    "start_time": "2022-07-27T12:04:38.197Z"
   },
   {
    "duration": 7,
    "start_time": "2022-07-27T12:05:06.225Z"
   },
   {
    "duration": 6,
    "start_time": "2022-07-27T12:05:56.857Z"
   },
   {
    "duration": 58,
    "start_time": "2022-07-27T12:08:18.963Z"
   },
   {
    "duration": 7,
    "start_time": "2022-07-27T12:08:25.915Z"
   },
   {
    "duration": 63,
    "start_time": "2022-07-27T12:08:44.796Z"
   },
   {
    "duration": 3,
    "start_time": "2022-07-27T12:09:17.357Z"
   },
   {
    "duration": 7,
    "start_time": "2022-07-27T12:09:31.947Z"
   },
   {
    "duration": 8,
    "start_time": "2022-07-27T12:09:53.926Z"
   },
   {
    "duration": 8,
    "start_time": "2022-07-27T12:11:44.199Z"
   },
   {
    "duration": 8,
    "start_time": "2022-07-27T12:12:03.286Z"
   },
   {
    "duration": 7,
    "start_time": "2022-07-27T12:12:28.530Z"
   },
   {
    "duration": 9,
    "start_time": "2022-07-27T12:12:34.998Z"
   },
   {
    "duration": 7,
    "start_time": "2022-07-27T12:12:49.360Z"
   },
   {
    "duration": 8,
    "start_time": "2022-07-27T12:12:52.394Z"
   },
   {
    "duration": 96,
    "start_time": "2022-07-27T12:13:25.870Z"
   },
   {
    "duration": 13,
    "start_time": "2022-07-27T12:13:28.553Z"
   },
   {
    "duration": 12,
    "start_time": "2022-07-27T12:13:31.106Z"
   },
   {
    "duration": 9,
    "start_time": "2022-07-27T12:13:34.686Z"
   },
   {
    "duration": 14,
    "start_time": "2022-07-27T12:13:37.240Z"
   },
   {
    "duration": 4,
    "start_time": "2022-07-27T12:13:43.494Z"
   },
   {
    "duration": 29,
    "start_time": "2022-07-27T12:13:45.830Z"
   },
   {
    "duration": 7,
    "start_time": "2022-07-27T12:13:48.364Z"
   },
   {
    "duration": 9,
    "start_time": "2022-07-27T12:13:50.426Z"
   },
   {
    "duration": 7,
    "start_time": "2022-07-27T12:13:55.542Z"
   },
   {
    "duration": 18,
    "start_time": "2022-07-27T12:13:57.154Z"
   },
   {
    "duration": 6,
    "start_time": "2022-07-27T12:14:00.466Z"
   },
   {
    "duration": 6,
    "start_time": "2022-07-27T12:14:05.024Z"
   },
   {
    "duration": 13,
    "start_time": "2022-07-27T12:14:08.586Z"
   },
   {
    "duration": 7,
    "start_time": "2022-07-27T12:14:12.184Z"
   },
   {
    "duration": 9,
    "start_time": "2022-07-27T12:14:15.279Z"
   },
   {
    "duration": 8,
    "start_time": "2022-07-27T12:14:19.550Z"
   },
   {
    "duration": 5,
    "start_time": "2022-07-27T12:16:25.477Z"
   },
   {
    "duration": 6,
    "start_time": "2022-07-27T12:16:27.758Z"
   },
   {
    "duration": 7,
    "start_time": "2022-07-27T12:24:09.947Z"
   },
   {
    "duration": 6,
    "start_time": "2022-07-27T12:26:01.891Z"
   },
   {
    "duration": 10,
    "start_time": "2022-07-27T12:27:36.634Z"
   },
   {
    "duration": 9,
    "start_time": "2022-07-27T14:40:16.403Z"
   },
   {
    "duration": 50,
    "start_time": "2022-07-27T14:42:47.197Z"
   },
   {
    "duration": 9,
    "start_time": "2022-07-27T14:42:53.585Z"
   },
   {
    "duration": 9,
    "start_time": "2022-07-27T14:43:38.514Z"
   },
   {
    "duration": 5,
    "start_time": "2022-07-27T14:46:52.436Z"
   },
   {
    "duration": 7,
    "start_time": "2022-07-27T14:47:14.948Z"
   },
   {
    "duration": 6,
    "start_time": "2022-07-27T14:47:37.840Z"
   },
   {
    "duration": 7,
    "start_time": "2022-07-27T14:47:39.946Z"
   },
   {
    "duration": 7,
    "start_time": "2022-07-27T14:48:40.821Z"
   },
   {
    "duration": 66,
    "start_time": "2022-07-27T14:51:43.839Z"
   },
   {
    "duration": 6,
    "start_time": "2022-07-27T14:51:53.461Z"
   },
   {
    "duration": 5,
    "start_time": "2022-07-27T14:52:12.930Z"
   },
   {
    "duration": 10,
    "start_time": "2022-07-27T14:52:32.507Z"
   },
   {
    "duration": 48,
    "start_time": "2022-07-27T14:52:44.348Z"
   },
   {
    "duration": 180,
    "start_time": "2022-07-27T14:52:48.084Z"
   },
   {
    "duration": 7,
    "start_time": "2022-07-27T14:54:17.722Z"
   },
   {
    "duration": 7,
    "start_time": "2022-07-27T14:57:57.044Z"
   },
   {
    "duration": 9,
    "start_time": "2022-07-27T15:18:47.090Z"
   },
   {
    "duration": 4,
    "start_time": "2022-07-27T15:18:50.226Z"
   },
   {
    "duration": 8,
    "start_time": "2022-07-27T15:19:40.485Z"
   },
   {
    "duration": 9,
    "start_time": "2022-07-27T15:24:36.328Z"
   },
   {
    "duration": 6,
    "start_time": "2022-07-27T15:24:45.474Z"
   },
   {
    "duration": 6,
    "start_time": "2022-07-27T15:26:52.148Z"
   },
   {
    "duration": 5,
    "start_time": "2022-07-27T15:27:48.857Z"
   },
   {
    "duration": 4,
    "start_time": "2022-07-27T15:34:24.316Z"
   },
   {
    "duration": 77,
    "start_time": "2022-07-27T15:35:31.844Z"
   },
   {
    "duration": 4,
    "start_time": "2022-07-27T15:35:49.290Z"
   },
   {
    "duration": 6,
    "start_time": "2022-07-27T15:36:23.244Z"
   },
   {
    "duration": 6,
    "start_time": "2022-07-27T15:37:00.967Z"
   },
   {
    "duration": 4,
    "start_time": "2022-07-27T15:40:58.338Z"
   },
   {
    "duration": 7,
    "start_time": "2022-07-27T15:41:34.276Z"
   },
   {
    "duration": 15,
    "start_time": "2022-07-27T15:42:20.185Z"
   },
   {
    "duration": 16,
    "start_time": "2022-07-27T15:43:23.928Z"
   },
   {
    "duration": 20,
    "start_time": "2022-07-27T15:43:35.547Z"
   },
   {
    "duration": 13,
    "start_time": "2022-07-27T15:44:10.070Z"
   },
   {
    "duration": 5,
    "start_time": "2022-07-27T15:54:10.773Z"
   },
   {
    "duration": 4,
    "start_time": "2022-07-27T17:07:23.253Z"
   },
   {
    "duration": 5,
    "start_time": "2022-07-27T17:07:25.312Z"
   },
   {
    "duration": 7,
    "start_time": "2022-07-28T10:37:21.414Z"
   },
   {
    "duration": 3,
    "start_time": "2022-07-28T10:38:44.120Z"
   },
   {
    "duration": 3,
    "start_time": "2022-07-28T10:38:59.274Z"
   },
   {
    "duration": 44,
    "start_time": "2022-07-28T10:39:05.583Z"
   },
   {
    "duration": 586,
    "start_time": "2022-07-28T10:39:11.023Z"
   },
   {
    "duration": 18,
    "start_time": "2022-07-28T10:39:14.282Z"
   },
   {
    "duration": 20,
    "start_time": "2022-07-28T10:39:16.986Z"
   },
   {
    "duration": 10,
    "start_time": "2022-07-28T10:39:20.256Z"
   },
   {
    "duration": 12,
    "start_time": "2022-07-28T10:39:22.824Z"
   },
   {
    "duration": 4,
    "start_time": "2022-07-28T10:39:25.964Z"
   },
   {
    "duration": 28,
    "start_time": "2022-07-28T10:39:28.538Z"
   },
   {
    "duration": 8,
    "start_time": "2022-07-28T10:39:32.855Z"
   },
   {
    "duration": 8,
    "start_time": "2022-07-28T10:39:35.096Z"
   },
   {
    "duration": 5,
    "start_time": "2022-07-28T10:39:41.571Z"
   },
   {
    "duration": 19,
    "start_time": "2022-07-28T10:39:43.699Z"
   },
   {
    "duration": 5,
    "start_time": "2022-07-28T10:39:46.254Z"
   },
   {
    "duration": 6,
    "start_time": "2022-07-28T10:39:48.160Z"
   },
   {
    "duration": 8,
    "start_time": "2022-07-28T10:39:50.951Z"
   },
   {
    "duration": 5,
    "start_time": "2022-07-28T10:39:52.685Z"
   },
   {
    "duration": 8,
    "start_time": "2022-07-28T10:39:55.569Z"
   },
   {
    "duration": 6,
    "start_time": "2022-07-28T10:39:58.798Z"
   },
   {
    "duration": 5,
    "start_time": "2022-07-28T10:40:00.137Z"
   },
   {
    "duration": 8,
    "start_time": "2022-07-28T10:40:02.040Z"
   },
   {
    "duration": 7,
    "start_time": "2022-07-28T10:40:04.297Z"
   },
   {
    "duration": 10,
    "start_time": "2022-07-28T10:40:12.046Z"
   },
   {
    "duration": 5,
    "start_time": "2022-07-28T10:40:13.388Z"
   },
   {
    "duration": 6,
    "start_time": "2022-07-28T10:40:15.833Z"
   },
   {
    "duration": 5,
    "start_time": "2022-07-28T10:40:22.670Z"
   },
   {
    "duration": 5,
    "start_time": "2022-07-28T10:40:24.677Z"
   },
   {
    "duration": 6,
    "start_time": "2022-07-28T10:40:25.968Z"
   },
   {
    "duration": 5,
    "start_time": "2022-07-28T10:40:27.686Z"
   },
   {
    "duration": 4,
    "start_time": "2022-07-28T10:40:29.671Z"
   },
   {
    "duration": 6,
    "start_time": "2022-07-28T10:40:31.500Z"
   },
   {
    "duration": 18,
    "start_time": "2022-07-28T10:40:33.408Z"
   },
   {
    "duration": 19,
    "start_time": "2022-07-28T10:40:36.260Z"
   },
   {
    "duration": 17,
    "start_time": "2022-07-28T10:40:37.688Z"
   },
   {
    "duration": 30,
    "start_time": "2022-07-28T10:40:41.733Z"
   },
   {
    "duration": 11,
    "start_time": "2022-07-28T10:40:45.622Z"
   },
   {
    "duration": 14,
    "start_time": "2022-07-28T10:41:23.949Z"
   },
   {
    "duration": 9,
    "start_time": "2022-07-28T10:41:26.292Z"
   },
   {
    "duration": 9,
    "start_time": "2022-07-28T10:41:46.796Z"
   },
   {
    "duration": 3,
    "start_time": "2022-07-28T10:43:30.258Z"
   },
   {
    "duration": 8,
    "start_time": "2022-07-28T10:43:42.019Z"
   },
   {
    "duration": 9,
    "start_time": "2022-07-28T10:43:43.458Z"
   },
   {
    "duration": 7,
    "start_time": "2022-07-28T10:49:15.672Z"
   },
   {
    "duration": 18,
    "start_time": "2022-07-28T10:49:40.245Z"
   },
   {
    "duration": 16,
    "start_time": "2022-07-28T10:49:56.647Z"
   },
   {
    "duration": 15,
    "start_time": "2022-07-28T10:50:19.528Z"
   },
   {
    "duration": 16,
    "start_time": "2022-07-28T10:50:54.295Z"
   },
   {
    "duration": 16,
    "start_time": "2022-07-28T10:54:59.036Z"
   },
   {
    "duration": 13,
    "start_time": "2022-07-28T10:55:00.913Z"
   },
   {
    "duration": 20,
    "start_time": "2022-07-28T10:55:18.520Z"
   },
   {
    "duration": 7,
    "start_time": "2022-07-28T10:55:57.083Z"
   },
   {
    "duration": 7,
    "start_time": "2022-07-28T10:56:07.322Z"
   },
   {
    "duration": 8,
    "start_time": "2022-07-28T11:11:52.943Z"
   },
   {
    "duration": 8,
    "start_time": "2022-07-28T11:13:29.364Z"
   },
   {
    "duration": 19,
    "start_time": "2022-07-28T11:15:19.260Z"
   },
   {
    "duration": 11,
    "start_time": "2022-07-28T11:16:20.598Z"
   },
   {
    "duration": 3,
    "start_time": "2022-07-28T11:18:39.951Z"
   },
   {
    "duration": 3,
    "start_time": "2022-07-28T11:18:43.086Z"
   },
   {
    "duration": 8,
    "start_time": "2022-07-28T11:18:47.453Z"
   },
   {
    "duration": 22,
    "start_time": "2022-07-28T11:18:50.692Z"
   },
   {
    "duration": 10,
    "start_time": "2022-07-28T11:18:54.598Z"
   },
   {
    "duration": 12,
    "start_time": "2022-07-28T11:21:47.405Z"
   },
   {
    "duration": 3,
    "start_time": "2022-07-28T11:40:28.475Z"
   },
   {
    "duration": 3,
    "start_time": "2022-07-28T11:40:30.009Z"
   },
   {
    "duration": 9,
    "start_time": "2022-07-28T11:40:32.755Z"
   },
   {
    "duration": 21,
    "start_time": "2022-07-28T11:40:36.552Z"
   },
   {
    "duration": 10,
    "start_time": "2022-07-28T11:40:40.437Z"
   },
   {
    "duration": 3,
    "start_time": "2022-07-28T11:42:08.359Z"
   },
   {
    "duration": 3,
    "start_time": "2022-07-28T11:42:09.916Z"
   },
   {
    "duration": 11,
    "start_time": "2022-07-28T11:42:23.297Z"
   },
   {
    "duration": 3,
    "start_time": "2022-07-28T11:43:24.037Z"
   },
   {
    "duration": 15,
    "start_time": "2022-07-28T11:43:42.961Z"
   },
   {
    "duration": 12,
    "start_time": "2022-07-28T11:44:09.127Z"
   },
   {
    "duration": 8,
    "start_time": "2022-07-28T11:44:22.821Z"
   },
   {
    "duration": 23,
    "start_time": "2022-07-28T11:44:49.239Z"
   },
   {
    "duration": 11,
    "start_time": "2022-07-28T11:44:57.558Z"
   },
   {
    "duration": 11,
    "start_time": "2022-07-28T11:45:10.679Z"
   },
   {
    "duration": 3,
    "start_time": "2022-07-28T11:45:36.129Z"
   },
   {
    "duration": 2,
    "start_time": "2022-07-28T11:45:38.634Z"
   },
   {
    "duration": 7,
    "start_time": "2022-07-28T11:45:44.870Z"
   },
   {
    "duration": 21,
    "start_time": "2022-07-28T11:45:48.089Z"
   },
   {
    "duration": 10,
    "start_time": "2022-07-28T11:45:51.898Z"
   },
   {
    "duration": 30,
    "start_time": "2022-07-28T11:50:31.596Z"
   },
   {
    "duration": 35,
    "start_time": "2022-07-28T11:50:43.628Z"
   },
   {
    "duration": 34,
    "start_time": "2022-07-28T11:51:08.891Z"
   },
   {
    "duration": 19,
    "start_time": "2022-07-28T11:51:20.691Z"
   },
   {
    "duration": 10,
    "start_time": "2022-07-28T11:52:45.741Z"
   },
   {
    "duration": 37,
    "start_time": "2022-07-28T11:54:09.560Z"
   },
   {
    "duration": 26,
    "start_time": "2022-07-28T11:54:24.034Z"
   },
   {
    "duration": 13,
    "start_time": "2022-07-28T11:56:16.338Z"
   },
   {
    "duration": 11,
    "start_time": "2022-07-28T11:56:44.184Z"
   },
   {
    "duration": 11,
    "start_time": "2022-07-28T12:04:03.979Z"
   },
   {
    "duration": 17,
    "start_time": "2022-07-28T12:04:18.223Z"
   },
   {
    "duration": 17,
    "start_time": "2022-07-28T12:04:29.910Z"
   },
   {
    "duration": 6,
    "start_time": "2022-07-28T12:05:53.744Z"
   },
   {
    "duration": 10,
    "start_time": "2022-07-28T12:06:16.393Z"
   },
   {
    "duration": 16,
    "start_time": "2022-07-28T12:07:02.430Z"
   },
   {
    "duration": 11,
    "start_time": "2022-07-28T12:07:04.786Z"
   },
   {
    "duration": 8,
    "start_time": "2022-07-28T12:09:58.255Z"
   },
   {
    "duration": 10,
    "start_time": "2022-07-28T12:10:45.971Z"
   },
   {
    "duration": 9,
    "start_time": "2022-07-28T12:11:08.373Z"
   },
   {
    "duration": 7,
    "start_time": "2022-07-28T12:11:33.249Z"
   },
   {
    "duration": 7,
    "start_time": "2022-07-28T12:11:50.261Z"
   },
   {
    "duration": 28,
    "start_time": "2022-07-28T12:32:08.539Z"
   },
   {
    "duration": 62,
    "start_time": "2022-07-28T12:32:18.301Z"
   },
   {
    "duration": 15,
    "start_time": "2022-07-28T12:32:31.195Z"
   },
   {
    "duration": 9,
    "start_time": "2022-07-28T12:33:49.810Z"
   },
   {
    "duration": 8,
    "start_time": "2022-07-28T12:34:13.939Z"
   },
   {
    "duration": 5,
    "start_time": "2022-07-28T12:34:31.570Z"
   },
   {
    "duration": 15,
    "start_time": "2022-07-28T12:34:33.669Z"
   },
   {
    "duration": 6,
    "start_time": "2022-07-28T12:34:40.999Z"
   },
   {
    "duration": 17,
    "start_time": "2022-07-28T12:34:42.921Z"
   },
   {
    "duration": 20,
    "start_time": "2022-07-28T12:39:16.399Z"
   },
   {
    "duration": 12,
    "start_time": "2022-07-28T12:45:29.350Z"
   },
   {
    "duration": 58,
    "start_time": "2022-07-28T12:51:11.436Z"
   },
   {
    "duration": 89,
    "start_time": "2022-07-28T12:51:20.641Z"
   },
   {
    "duration": 5,
    "start_time": "2022-07-28T12:51:28.949Z"
   },
   {
    "duration": 9,
    "start_time": "2022-07-28T12:52:12.490Z"
   },
   {
    "duration": 9,
    "start_time": "2022-07-28T12:52:22.482Z"
   },
   {
    "duration": 52,
    "start_time": "2022-07-28T12:53:09.498Z"
   },
   {
    "duration": 4,
    "start_time": "2022-07-28T12:53:16.762Z"
   },
   {
    "duration": 9,
    "start_time": "2022-07-28T12:53:21.118Z"
   },
   {
    "duration": 3,
    "start_time": "2022-07-28T12:58:37.957Z"
   },
   {
    "duration": 6,
    "start_time": "2022-07-28T12:58:43.236Z"
   },
   {
    "duration": 9,
    "start_time": "2022-07-28T12:58:51.176Z"
   },
   {
    "duration": 11,
    "start_time": "2022-07-28T12:59:32.919Z"
   },
   {
    "duration": 7,
    "start_time": "2022-07-28T13:14:53.350Z"
   },
   {
    "duration": 6,
    "start_time": "2022-07-28T13:15:07.154Z"
   },
   {
    "duration": 9,
    "start_time": "2022-07-28T13:20:17.424Z"
   },
   {
    "duration": 10,
    "start_time": "2022-07-28T13:20:26.833Z"
   },
   {
    "duration": 19,
    "start_time": "2022-07-28T13:20:38.129Z"
   },
   {
    "duration": 9,
    "start_time": "2022-07-28T13:23:19.031Z"
   },
   {
    "duration": 6,
    "start_time": "2022-07-28T13:24:42.449Z"
   },
   {
    "duration": 6,
    "start_time": "2022-07-28T13:24:50.947Z"
   },
   {
    "duration": 4,
    "start_time": "2022-07-28T13:28:30.856Z"
   },
   {
    "duration": 10,
    "start_time": "2022-07-28T13:29:16.158Z"
   },
   {
    "duration": 7,
    "start_time": "2022-07-28T13:31:43.717Z"
   },
   {
    "duration": 9,
    "start_time": "2022-07-28T13:34:24.630Z"
   },
   {
    "duration": 7,
    "start_time": "2022-07-28T13:58:10.152Z"
   },
   {
    "duration": 8,
    "start_time": "2022-07-28T13:59:19.524Z"
   },
   {
    "duration": 6,
    "start_time": "2022-07-28T13:59:23.979Z"
   },
   {
    "duration": 14,
    "start_time": "2022-07-28T13:59:30.462Z"
   },
   {
    "duration": 10,
    "start_time": "2022-07-28T14:05:07.777Z"
   },
   {
    "duration": 8,
    "start_time": "2022-07-28T14:05:20.055Z"
   },
   {
    "duration": 9,
    "start_time": "2022-07-28T14:05:22.747Z"
   },
   {
    "duration": 11,
    "start_time": "2022-07-28T14:36:09.431Z"
   },
   {
    "duration": 6,
    "start_time": "2022-07-28T14:36:22.721Z"
   },
   {
    "duration": 8,
    "start_time": "2022-07-28T14:37:02.720Z"
   },
   {
    "duration": 9,
    "start_time": "2022-07-28T14:37:38.270Z"
   },
   {
    "duration": 47,
    "start_time": "2022-07-28T14:54:13.444Z"
   },
   {
    "duration": 62,
    "start_time": "2022-07-28T14:54:35.896Z"
   },
   {
    "duration": 24,
    "start_time": "2022-07-28T14:54:43.848Z"
   },
   {
    "duration": 24,
    "start_time": "2022-07-28T14:54:54.540Z"
   },
   {
    "duration": 22,
    "start_time": "2022-07-28T14:57:31.472Z"
   },
   {
    "duration": 8,
    "start_time": "2022-07-28T15:03:40.995Z"
   },
   {
    "duration": 7,
    "start_time": "2022-07-28T15:04:06.943Z"
   },
   {
    "duration": 6,
    "start_time": "2022-07-28T15:04:31.639Z"
   },
   {
    "duration": 908,
    "start_time": "2022-07-28T15:52:06.143Z"
   },
   {
    "duration": 8,
    "start_time": "2022-07-28T15:52:25.389Z"
   },
   {
    "duration": 50,
    "start_time": "2022-07-28T15:53:13.938Z"
   },
   {
    "duration": 7,
    "start_time": "2022-07-28T15:53:25.747Z"
   },
   {
    "duration": 2,
    "start_time": "2022-07-28T16:34:45.769Z"
   },
   {
    "duration": 3,
    "start_time": "2022-07-28T16:35:00.178Z"
   },
   {
    "duration": 2,
    "start_time": "2022-07-28T16:35:04.047Z"
   },
   {
    "duration": 10,
    "start_time": "2022-07-28T17:58:17.808Z"
   },
   {
    "duration": 7,
    "start_time": "2022-07-28T17:59:23.609Z"
   },
   {
    "duration": 11,
    "start_time": "2022-07-28T17:59:39.098Z"
   },
   {
    "duration": 9,
    "start_time": "2022-07-28T17:59:40.544Z"
   },
   {
    "duration": 295,
    "start_time": "2022-07-28T18:00:03.848Z"
   },
   {
    "duration": 331,
    "start_time": "2022-07-28T18:00:12.811Z"
   },
   {
    "duration": 54,
    "start_time": "2022-07-29T07:41:19.762Z"
   },
   {
    "duration": 9,
    "start_time": "2022-07-29T07:41:24.774Z"
   },
   {
    "duration": 703,
    "start_time": "2022-07-29T07:41:34.580Z"
   },
   {
    "duration": 15,
    "start_time": "2022-07-29T07:41:39.462Z"
   },
   {
    "duration": 19,
    "start_time": "2022-07-29T07:41:41.880Z"
   },
   {
    "duration": 10,
    "start_time": "2022-07-29T07:41:44.446Z"
   },
   {
    "duration": 13,
    "start_time": "2022-07-29T07:41:47.809Z"
   },
   {
    "duration": 5,
    "start_time": "2022-07-29T07:41:51.433Z"
   },
   {
    "duration": 30,
    "start_time": "2022-07-29T07:41:53.257Z"
   },
   {
    "duration": 8,
    "start_time": "2022-07-29T07:41:56.083Z"
   },
   {
    "duration": 7,
    "start_time": "2022-07-29T07:41:57.829Z"
   },
   {
    "duration": 6,
    "start_time": "2022-07-29T07:42:02.763Z"
   },
   {
    "duration": 22,
    "start_time": "2022-07-29T07:42:04.549Z"
   },
   {
    "duration": 6,
    "start_time": "2022-07-29T07:42:06.659Z"
   },
   {
    "duration": 6,
    "start_time": "2022-07-29T07:42:08.569Z"
   },
   {
    "duration": 9,
    "start_time": "2022-07-29T07:42:10.729Z"
   },
   {
    "duration": 6,
    "start_time": "2022-07-29T07:42:12.271Z"
   },
   {
    "duration": 9,
    "start_time": "2022-07-29T07:42:14.777Z"
   },
   {
    "duration": 5,
    "start_time": "2022-07-29T07:42:17.289Z"
   },
   {
    "duration": 5,
    "start_time": "2022-07-29T07:42:18.755Z"
   },
   {
    "duration": 8,
    "start_time": "2022-07-29T07:42:20.169Z"
   },
   {
    "duration": 7,
    "start_time": "2022-07-29T07:42:22.633Z"
   },
   {
    "duration": 9,
    "start_time": "2022-07-29T07:42:26.117Z"
   },
   {
    "duration": 6,
    "start_time": "2022-07-29T07:42:27.467Z"
   },
   {
    "duration": 6,
    "start_time": "2022-07-29T07:42:29.122Z"
   },
   {
    "duration": 5,
    "start_time": "2022-07-29T07:42:34.491Z"
   },
   {
    "duration": 6,
    "start_time": "2022-07-29T07:42:36.055Z"
   },
   {
    "duration": 7,
    "start_time": "2022-07-29T07:42:37.349Z"
   },
   {
    "duration": 5,
    "start_time": "2022-07-29T07:42:39.634Z"
   },
   {
    "duration": 5,
    "start_time": "2022-07-29T07:42:42.043Z"
   },
   {
    "duration": 8,
    "start_time": "2022-07-29T07:42:43.273Z"
   },
   {
    "duration": 6,
    "start_time": "2022-07-29T07:42:44.578Z"
   },
   {
    "duration": 18,
    "start_time": "2022-07-29T07:42:47.344Z"
   },
   {
    "duration": 19,
    "start_time": "2022-07-29T07:42:49.153Z"
   },
   {
    "duration": 16,
    "start_time": "2022-07-29T07:42:51.429Z"
   },
   {
    "duration": 3,
    "start_time": "2022-07-29T07:42:55.383Z"
   },
   {
    "duration": 3,
    "start_time": "2022-07-29T07:42:57.313Z"
   },
   {
    "duration": 3,
    "start_time": "2022-07-29T07:42:58.647Z"
   },
   {
    "duration": 9,
    "start_time": "2022-07-29T07:43:01.052Z"
   },
   {
    "duration": 10,
    "start_time": "2022-07-29T07:43:03.227Z"
   },
   {
    "duration": 28,
    "start_time": "2022-07-29T07:43:06.083Z"
   },
   {
    "duration": 8,
    "start_time": "2022-07-29T07:43:08.823Z"
   },
   {
    "duration": 7,
    "start_time": "2022-07-29T07:43:10.981Z"
   },
   {
    "duration": 13,
    "start_time": "2022-07-29T07:43:12.963Z"
   },
   {
    "duration": 7,
    "start_time": "2022-07-29T07:43:18.049Z"
   },
   {
    "duration": 7,
    "start_time": "2022-07-29T07:43:20.119Z"
   },
   {
    "duration": 10,
    "start_time": "2022-07-29T07:43:22.157Z"
   },
   {
    "duration": 32,
    "start_time": "2022-07-29T07:43:25.047Z"
   },
   {
    "duration": 327,
    "start_time": "2022-07-29T07:43:49.193Z"
   },
   {
    "duration": 321,
    "start_time": "2022-07-29T07:43:55.929Z"
   },
   {
    "duration": 330,
    "start_time": "2022-07-29T07:43:58.055Z"
   },
   {
    "duration": 311,
    "start_time": "2022-07-29T07:43:59.903Z"
   },
   {
    "duration": 307,
    "start_time": "2022-07-29T07:44:01.683Z"
   },
   {
    "duration": 315,
    "start_time": "2022-07-29T07:44:03.397Z"
   },
   {
    "duration": 325,
    "start_time": "2022-07-29T07:51:33.613Z"
   },
   {
    "duration": 311,
    "start_time": "2022-07-29T07:51:35.206Z"
   },
   {
    "duration": 334,
    "start_time": "2022-07-29T07:51:36.877Z"
   },
   {
    "duration": 383,
    "start_time": "2022-07-29T07:51:38.685Z"
   },
   {
    "duration": 341,
    "start_time": "2022-07-29T07:54:57.889Z"
   },
   {
    "duration": 1291,
    "start_time": "2022-07-29T07:54:59.595Z"
   },
   {
    "duration": 320,
    "start_time": "2022-07-29T07:55:43.913Z"
   },
   {
    "duration": 325,
    "start_time": "2022-07-29T07:56:37.022Z"
   },
   {
    "duration": 321,
    "start_time": "2022-07-29T07:59:13.036Z"
   },
   {
    "duration": 10,
    "start_time": "2022-07-29T08:08:29.731Z"
   },
   {
    "duration": 9,
    "start_time": "2022-07-29T08:08:38.438Z"
   },
   {
    "duration": 10,
    "start_time": "2022-07-29T08:08:44.728Z"
   },
   {
    "duration": 53,
    "start_time": "2022-07-29T08:09:12.531Z"
   },
   {
    "duration": 7,
    "start_time": "2022-07-29T08:09:25.096Z"
   },
   {
    "duration": 7,
    "start_time": "2022-07-29T08:23:38.302Z"
   },
   {
    "duration": 4,
    "start_time": "2022-07-29T08:23:48.018Z"
   },
   {
    "duration": 5,
    "start_time": "2022-07-29T08:24:05.089Z"
   },
   {
    "duration": 13,
    "start_time": "2022-07-29T08:24:13.821Z"
   },
   {
    "duration": 4,
    "start_time": "2022-07-29T08:31:44.768Z"
   },
   {
    "duration": 5,
    "start_time": "2022-07-29T08:31:49.410Z"
   },
   {
    "duration": 4,
    "start_time": "2022-07-29T08:32:02.087Z"
   },
   {
    "duration": 4,
    "start_time": "2022-07-29T08:32:07.894Z"
   },
   {
    "duration": 9,
    "start_time": "2022-07-29T09:00:57.906Z"
   },
   {
    "duration": 16,
    "start_time": "2022-07-29T09:01:49.348Z"
   },
   {
    "duration": 9,
    "start_time": "2022-07-29T09:01:57.976Z"
   },
   {
    "duration": 5,
    "start_time": "2022-07-29T09:04:57.079Z"
   },
   {
    "duration": 4,
    "start_time": "2022-07-29T10:06:10.786Z"
   },
   {
    "duration": 16,
    "start_time": "2022-07-29T10:06:37.228Z"
   },
   {
    "duration": 10,
    "start_time": "2022-07-29T10:10:37.644Z"
   },
   {
    "duration": 3,
    "start_time": "2022-07-29T10:11:23.630Z"
   },
   {
    "duration": 16,
    "start_time": "2022-07-29T10:11:26.524Z"
   },
   {
    "duration": 342,
    "start_time": "2022-07-29T10:11:39.710Z"
   },
   {
    "duration": 23,
    "start_time": "2022-07-29T10:12:36.652Z"
   },
   {
    "duration": 15,
    "start_time": "2022-07-29T10:12:37.914Z"
   },
   {
    "duration": 18,
    "start_time": "2022-07-29T10:13:11.712Z"
   },
   {
    "duration": 10,
    "start_time": "2022-07-29T10:19:07.964Z"
   },
   {
    "duration": 17,
    "start_time": "2022-07-29T10:19:09.749Z"
   },
   {
    "duration": 27,
    "start_time": "2022-07-29T10:20:01.988Z"
   },
   {
    "duration": 17,
    "start_time": "2022-07-29T10:20:09.714Z"
   },
   {
    "duration": 4,
    "start_time": "2022-07-29T10:21:57.811Z"
   },
   {
    "duration": 4,
    "start_time": "2022-07-29T10:21:59.711Z"
   },
   {
    "duration": 16,
    "start_time": "2022-07-29T10:22:02.166Z"
   },
   {
    "duration": 12,
    "start_time": "2022-07-29T10:22:05.506Z"
   },
   {
    "duration": 4,
    "start_time": "2022-07-29T10:22:06.906Z"
   },
   {
    "duration": 77,
    "start_time": "2022-07-29T10:22:12.820Z"
   },
   {
    "duration": 14,
    "start_time": "2022-07-29T10:22:14.677Z"
   },
   {
    "duration": 13,
    "start_time": "2022-07-29T10:22:16.662Z"
   },
   {
    "duration": 10,
    "start_time": "2022-07-29T10:22:19.520Z"
   },
   {
    "duration": 13,
    "start_time": "2022-07-29T10:22:21.839Z"
   },
   {
    "duration": 4,
    "start_time": "2022-07-29T10:22:24.970Z"
   },
   {
    "duration": 113,
    "start_time": "2022-07-29T10:44:40.468Z"
   },
   {
    "duration": 22,
    "start_time": "2022-07-29T10:44:42.858Z"
   },
   {
    "duration": 18,
    "start_time": "2022-07-29T10:44:49.383Z"
   },
   {
    "duration": 9,
    "start_time": "2022-07-29T10:44:52.276Z"
   },
   {
    "duration": 20,
    "start_time": "2022-07-29T10:44:54.218Z"
   },
   {
    "duration": 5,
    "start_time": "2022-07-29T10:44:58.043Z"
   },
   {
    "duration": 35,
    "start_time": "2022-07-29T10:44:59.754Z"
   },
   {
    "duration": 7,
    "start_time": "2022-07-29T10:45:02.058Z"
   },
   {
    "duration": 8,
    "start_time": "2022-07-29T10:45:04.408Z"
   },
   {
    "duration": 5,
    "start_time": "2022-07-29T10:45:08.466Z"
   },
   {
    "duration": 26,
    "start_time": "2022-07-29T10:45:10.076Z"
   },
   {
    "duration": 6,
    "start_time": "2022-07-29T10:45:12.368Z"
   },
   {
    "duration": 6,
    "start_time": "2022-07-29T10:45:14.035Z"
   },
   {
    "duration": 9,
    "start_time": "2022-07-29T10:45:16.206Z"
   },
   {
    "duration": 6,
    "start_time": "2022-07-29T10:45:17.660Z"
   },
   {
    "duration": 14,
    "start_time": "2022-07-29T10:45:21.114Z"
   },
   {
    "duration": 14,
    "start_time": "2022-07-29T10:45:23.720Z"
   },
   {
    "duration": 5,
    "start_time": "2022-07-29T10:45:24.984Z"
   },
   {
    "duration": 8,
    "start_time": "2022-07-29T10:45:26.810Z"
   },
   {
    "duration": 8,
    "start_time": "2022-07-29T10:45:29.449Z"
   },
   {
    "duration": 10,
    "start_time": "2022-07-29T10:45:32.260Z"
   },
   {
    "duration": 6,
    "start_time": "2022-07-29T10:45:33.559Z"
   },
   {
    "duration": 6,
    "start_time": "2022-07-29T10:45:35.562Z"
   },
   {
    "duration": 5,
    "start_time": "2022-07-29T10:45:41.550Z"
   },
   {
    "duration": 4,
    "start_time": "2022-07-29T10:45:43.306Z"
   },
   {
    "duration": 7,
    "start_time": "2022-07-29T10:45:44.858Z"
   },
   {
    "duration": 5,
    "start_time": "2022-07-29T10:45:46.854Z"
   },
   {
    "duration": 6,
    "start_time": "2022-07-29T10:45:48.902Z"
   },
   {
    "duration": 15,
    "start_time": "2022-07-29T10:45:50.319Z"
   },
   {
    "duration": 17,
    "start_time": "2022-07-29T10:45:52.391Z"
   },
   {
    "duration": 28,
    "start_time": "2022-07-29T10:45:53.917Z"
   },
   {
    "duration": 19,
    "start_time": "2022-07-29T10:45:55.239Z"
   },
   {
    "duration": 15,
    "start_time": "2022-07-29T10:45:57.491Z"
   },
   {
    "duration": 3,
    "start_time": "2022-07-29T10:46:00.906Z"
   },
   {
    "duration": 4,
    "start_time": "2022-07-29T10:46:02.221Z"
   },
   {
    "duration": 13,
    "start_time": "2022-07-29T10:46:04.108Z"
   },
   {
    "duration": 10,
    "start_time": "2022-07-29T10:46:05.280Z"
   },
   {
    "duration": 30,
    "start_time": "2022-07-29T10:46:12.806Z"
   },
   {
    "duration": 9,
    "start_time": "2022-07-29T10:46:15.422Z"
   },
   {
    "duration": 10,
    "start_time": "2022-07-29T10:46:17.238Z"
   },
   {
    "duration": 14,
    "start_time": "2022-07-29T10:46:18.598Z"
   },
   {
    "duration": 8,
    "start_time": "2022-07-29T10:46:22.292Z"
   },
   {
    "duration": 10,
    "start_time": "2022-07-29T10:46:23.942Z"
   },
   {
    "duration": 15,
    "start_time": "2022-07-29T10:46:25.813Z"
   },
   {
    "duration": 4,
    "start_time": "2022-07-29T10:46:27.546Z"
   },
   {
    "duration": 4,
    "start_time": "2022-07-29T10:46:30.195Z"
   },
   {
    "duration": 2,
    "start_time": "2022-07-29T10:46:38.503Z"
   },
   {
    "duration": 5,
    "start_time": "2022-07-29T10:46:50.665Z"
   },
   {
    "duration": 5,
    "start_time": "2022-07-29T10:47:00.975Z"
   },
   {
    "duration": 4,
    "start_time": "2022-07-29T10:47:12.814Z"
   },
   {
    "duration": 6,
    "start_time": "2022-07-29T10:47:29.160Z"
   },
   {
    "duration": 4,
    "start_time": "2022-07-29T10:47:43.468Z"
   },
   {
    "duration": 3,
    "start_time": "2022-07-29T10:47:44.984Z"
   },
   {
    "duration": 14,
    "start_time": "2022-07-29T10:47:49.257Z"
   },
   {
    "duration": 4,
    "start_time": "2022-07-29T10:47:50.792Z"
   },
   {
    "duration": 4,
    "start_time": "2022-07-29T10:48:42.543Z"
   },
   {
    "duration": 4,
    "start_time": "2022-07-29T10:48:48.406Z"
   },
   {
    "duration": 11,
    "start_time": "2022-07-29T10:50:34.520Z"
   },
   {
    "duration": 5,
    "start_time": "2022-07-29T10:50:36.245Z"
   },
   {
    "duration": 88,
    "start_time": "2022-07-29T10:50:49.016Z"
   },
   {
    "duration": 8,
    "start_time": "2022-07-29T10:52:02.782Z"
   },
   {
    "duration": 8,
    "start_time": "2022-07-29T10:52:07.676Z"
   },
   {
    "duration": 23,
    "start_time": "2022-07-29T10:52:14.651Z"
   },
   {
    "duration": 13,
    "start_time": "2022-07-29T10:52:22.456Z"
   },
   {
    "duration": 19,
    "start_time": "2022-07-29T10:52:24.721Z"
   },
   {
    "duration": 11,
    "start_time": "2022-07-29T10:52:27.864Z"
   },
   {
    "duration": 121,
    "start_time": "2022-07-29T10:52:33.099Z"
   },
   {
    "duration": 25,
    "start_time": "2022-07-29T10:52:35.423Z"
   },
   {
    "duration": 14,
    "start_time": "2022-07-29T10:52:37.880Z"
   },
   {
    "duration": 52,
    "start_time": "2022-07-29T10:52:40.449Z"
   },
   {
    "duration": 140,
    "start_time": "2022-07-29T10:52:43.301Z"
   },
   {
    "duration": 11,
    "start_time": "2022-07-29T10:53:09.702Z"
   },
   {
    "duration": 13,
    "start_time": "2022-07-29T10:53:12.690Z"
   },
   {
    "duration": 7,
    "start_time": "2022-07-29T10:53:15.919Z"
   },
   {
    "duration": 29,
    "start_time": "2022-07-29T10:53:18.043Z"
   },
   {
    "duration": 7,
    "start_time": "2022-07-29T10:53:21.101Z"
   },
   {
    "duration": 6,
    "start_time": "2022-07-29T10:53:25.442Z"
   },
   {
    "duration": 35,
    "start_time": "2022-07-29T10:53:37.223Z"
   },
   {
    "duration": 6,
    "start_time": "2022-07-29T10:53:40.358Z"
   },
   {
    "duration": 7,
    "start_time": "2022-07-29T10:53:42.549Z"
   },
   {
    "duration": 9,
    "start_time": "2022-07-29T10:53:44.741Z"
   },
   {
    "duration": 6,
    "start_time": "2022-07-29T10:53:46.405Z"
   },
   {
    "duration": 11,
    "start_time": "2022-07-29T10:53:48.898Z"
   },
   {
    "duration": 5,
    "start_time": "2022-07-29T10:53:51.207Z"
   },
   {
    "duration": 6,
    "start_time": "2022-07-29T10:53:52.674Z"
   },
   {
    "duration": 10,
    "start_time": "2022-07-29T10:53:54.346Z"
   },
   {
    "duration": 7,
    "start_time": "2022-07-29T10:53:57.191Z"
   },
   {
    "duration": 9,
    "start_time": "2022-07-29T10:53:59.642Z"
   },
   {
    "duration": 7,
    "start_time": "2022-07-29T10:54:01.070Z"
   },
   {
    "duration": 6,
    "start_time": "2022-07-29T10:54:02.875Z"
   },
   {
    "duration": 69,
    "start_time": "2022-07-29T10:54:05.353Z"
   },
   {
    "duration": 6,
    "start_time": "2022-07-29T10:54:23.269Z"
   },
   {
    "duration": 4,
    "start_time": "2022-07-29T10:54:25.096Z"
   },
   {
    "duration": 6,
    "start_time": "2022-07-29T10:54:26.775Z"
   },
   {
    "duration": 13,
    "start_time": "2022-07-29T10:54:28.821Z"
   },
   {
    "duration": 5,
    "start_time": "2022-07-29T10:54:31.143Z"
   },
   {
    "duration": 7,
    "start_time": "2022-07-29T10:54:32.762Z"
   },
   {
    "duration": 24,
    "start_time": "2022-07-29T10:54:34.822Z"
   },
   {
    "duration": 20,
    "start_time": "2022-07-29T10:54:36.562Z"
   },
   {
    "duration": 18,
    "start_time": "2022-07-29T10:54:38.543Z"
   },
   {
    "duration": 3,
    "start_time": "2022-07-29T10:54:42.976Z"
   },
   {
    "duration": 9,
    "start_time": "2022-07-29T10:54:44.980Z"
   },
   {
    "duration": 11,
    "start_time": "2022-07-29T10:54:47.469Z"
   },
   {
    "duration": 27,
    "start_time": "2022-07-29T10:54:51.095Z"
   },
   {
    "duration": 8,
    "start_time": "2022-07-29T10:55:02.555Z"
   },
   {
    "duration": 8,
    "start_time": "2022-07-29T10:55:05.542Z"
   },
   {
    "duration": 15,
    "start_time": "2022-07-29T10:55:10.655Z"
   },
   {
    "duration": 8,
    "start_time": "2022-07-29T10:55:24.398Z"
   },
   {
    "duration": 14,
    "start_time": "2022-07-29T10:55:26.521Z"
   },
   {
    "duration": 14,
    "start_time": "2022-07-29T10:55:29.205Z"
   },
   {
    "duration": 5,
    "start_time": "2022-07-29T10:55:31.193Z"
   },
   {
    "duration": 5,
    "start_time": "2022-07-29T10:57:28.782Z"
   },
   {
    "duration": 4,
    "start_time": "2022-07-29T10:57:35.974Z"
   },
   {
    "duration": 6,
    "start_time": "2022-07-29T11:13:49.008Z"
   },
   {
    "duration": 380,
    "start_time": "2022-07-29T11:15:31.803Z"
   },
   {
    "duration": 21,
    "start_time": "2022-07-29T11:15:59.098Z"
   },
   {
    "duration": 380,
    "start_time": "2022-07-29T11:16:32.821Z"
   },
   {
    "duration": 5,
    "start_time": "2022-07-29T11:24:23.906Z"
   },
   {
    "duration": 4,
    "start_time": "2022-07-29T11:24:29.694Z"
   },
   {
    "duration": 3,
    "start_time": "2022-07-29T11:24:33.861Z"
   },
   {
    "duration": 413,
    "start_time": "2022-07-29T12:10:54.867Z"
   },
   {
    "duration": 23,
    "start_time": "2022-07-29T12:10:59.387Z"
   },
   {
    "duration": 14,
    "start_time": "2022-07-29T12:33:02.226Z"
   },
   {
    "duration": 4,
    "start_time": "2022-07-29T12:33:04.962Z"
   },
   {
    "duration": 411,
    "start_time": "2022-07-29T12:33:08.753Z"
   },
   {
    "duration": 373,
    "start_time": "2022-07-29T12:33:12.221Z"
   },
   {
    "duration": 25,
    "start_time": "2022-07-29T12:33:16.315Z"
   },
   {
    "duration": 6,
    "start_time": "2022-07-29T12:43:23.453Z"
   },
   {
    "duration": 5,
    "start_time": "2022-07-29T13:47:07.119Z"
   },
   {
    "duration": 3,
    "start_time": "2022-07-29T13:47:26.726Z"
   },
   {
    "duration": 6,
    "start_time": "2022-07-29T13:47:32.423Z"
   },
   {
    "duration": 77,
    "start_time": "2022-07-29T13:49:59.030Z"
   },
   {
    "duration": 3,
    "start_time": "2022-07-29T13:50:04.708Z"
   },
   {
    "duration": 10,
    "start_time": "2022-07-29T13:50:56.394Z"
   },
   {
    "duration": 24,
    "start_time": "2022-07-29T13:51:25.630Z"
   },
   {
    "duration": 6,
    "start_time": "2022-07-29T13:51:56.021Z"
   },
   {
    "duration": 7,
    "start_time": "2022-07-29T13:53:30.044Z"
   },
   {
    "duration": 10,
    "start_time": "2022-07-29T13:53:47.368Z"
   },
   {
    "duration": 10,
    "start_time": "2022-07-29T13:54:32.385Z"
   },
   {
    "duration": 20,
    "start_time": "2022-07-29T13:55:00.375Z"
   },
   {
    "duration": 6,
    "start_time": "2022-07-29T13:55:14.052Z"
   },
   {
    "duration": 7,
    "start_time": "2022-07-29T13:55:25.380Z"
   },
   {
    "duration": 5,
    "start_time": "2022-07-29T13:56:00.891Z"
   },
   {
    "duration": 6,
    "start_time": "2022-07-29T13:56:14.416Z"
   },
   {
    "duration": 10,
    "start_time": "2022-07-29T13:56:47.431Z"
   },
   {
    "duration": 10,
    "start_time": "2022-07-29T13:57:00.031Z"
   },
   {
    "duration": 70,
    "start_time": "2022-07-29T13:57:19.831Z"
   },
   {
    "duration": 66,
    "start_time": "2022-07-29T13:57:58.501Z"
   },
   {
    "duration": 13,
    "start_time": "2022-07-29T13:58:06.826Z"
   },
   {
    "duration": 14,
    "start_time": "2022-07-29T13:58:24.719Z"
   },
   {
    "duration": 9,
    "start_time": "2022-07-29T13:59:07.846Z"
   },
   {
    "duration": 13,
    "start_time": "2022-07-29T13:59:58.017Z"
   },
   {
    "duration": 72,
    "start_time": "2022-07-29T14:00:13.389Z"
   },
   {
    "duration": 370,
    "start_time": "2022-07-29T14:00:16.716Z"
   },
   {
    "duration": 50,
    "start_time": "2022-07-29T14:00:20.148Z"
   },
   {
    "duration": 9,
    "start_time": "2022-07-29T14:00:24.438Z"
   },
   {
    "duration": 6,
    "start_time": "2022-07-29T14:02:03.062Z"
   },
   {
    "duration": 12,
    "start_time": "2022-07-29T14:02:49.620Z"
   },
   {
    "duration": 13,
    "start_time": "2022-07-29T14:03:41.767Z"
   },
   {
    "duration": 9,
    "start_time": "2022-07-29T14:03:52.618Z"
   },
   {
    "duration": 28,
    "start_time": "2022-07-29T14:11:36.190Z"
   },
   {
    "duration": 60,
    "start_time": "2022-07-29T14:20:08.003Z"
   },
   {
    "duration": 3,
    "start_time": "2022-07-29T14:28:09.506Z"
   },
   {
    "duration": 82,
    "start_time": "2022-07-29T14:28:38.073Z"
   },
   {
    "duration": 4,
    "start_time": "2022-07-29T14:28:46.134Z"
   },
   {
    "duration": 4,
    "start_time": "2022-07-29T14:29:07.965Z"
   },
   {
    "duration": 3,
    "start_time": "2022-07-29T14:29:41.257Z"
   },
   {
    "duration": 3,
    "start_time": "2022-07-29T14:29:43.144Z"
   },
   {
    "duration": 3,
    "start_time": "2022-07-29T14:29:48.712Z"
   },
   {
    "duration": 4,
    "start_time": "2022-07-29T14:29:50.203Z"
   },
   {
    "duration": 100,
    "start_time": "2022-07-29T14:30:47.343Z"
   },
   {
    "duration": 4,
    "start_time": "2022-07-29T14:30:53.483Z"
   },
   {
    "duration": 3,
    "start_time": "2022-07-29T14:30:55.084Z"
   },
   {
    "duration": 3,
    "start_time": "2022-07-29T14:32:40.165Z"
   },
   {
    "duration": 3,
    "start_time": "2022-07-29T14:32:41.866Z"
   },
   {
    "duration": 3,
    "start_time": "2022-07-29T14:32:46.285Z"
   },
   {
    "duration": 3,
    "start_time": "2022-07-29T14:32:47.997Z"
   },
   {
    "duration": 7,
    "start_time": "2022-07-29T14:36:15.095Z"
   },
   {
    "duration": 23,
    "start_time": "2022-07-29T14:36:36.087Z"
   },
   {
    "duration": 3,
    "start_time": "2022-07-29T14:37:00.612Z"
   },
   {
    "duration": 4,
    "start_time": "2022-07-29T14:37:09.153Z"
   },
   {
    "duration": 4,
    "start_time": "2022-07-29T14:39:23.047Z"
   },
   {
    "duration": 3,
    "start_time": "2022-07-29T14:39:35.151Z"
   },
   {
    "duration": 3,
    "start_time": "2022-07-29T14:39:36.748Z"
   },
   {
    "duration": 22,
    "start_time": "2022-07-29T14:39:43.769Z"
   },
   {
    "duration": 61,
    "start_time": "2022-07-29T14:42:07.393Z"
   },
   {
    "duration": 12,
    "start_time": "2022-07-29T14:42:12.309Z"
   },
   {
    "duration": 9,
    "start_time": "2022-07-29T14:43:13.165Z"
   },
   {
    "duration": 10,
    "start_time": "2022-07-29T14:43:20.809Z"
   },
   {
    "duration": 9,
    "start_time": "2022-07-29T14:56:25.578Z"
   },
   {
    "duration": 3,
    "start_time": "2022-07-29T14:58:06.620Z"
   },
   {
    "duration": 324,
    "start_time": "2022-07-29T14:59:40.888Z"
   },
   {
    "duration": 3,
    "start_time": "2022-07-29T15:00:00.058Z"
   },
   {
    "duration": 24,
    "start_time": "2022-07-29T15:00:02.995Z"
   },
   {
    "duration": 15,
    "start_time": "2022-07-29T15:01:17.989Z"
   },
   {
    "duration": 14,
    "start_time": "2022-07-29T15:02:53.155Z"
   },
   {
    "duration": 9,
    "start_time": "2022-07-29T15:23:28.348Z"
   },
   {
    "duration": 5,
    "start_time": "2022-07-29T15:23:34.088Z"
   },
   {
    "duration": 7,
    "start_time": "2022-07-29T15:23:54.614Z"
   },
   {
    "duration": 66,
    "start_time": "2022-07-29T15:25:26.354Z"
   },
   {
    "duration": 57,
    "start_time": "2022-07-29T15:25:36.978Z"
   },
   {
    "duration": 63,
    "start_time": "2022-07-29T15:25:43.530Z"
   },
   {
    "duration": 71,
    "start_time": "2022-07-29T15:25:49.608Z"
   },
   {
    "duration": 57,
    "start_time": "2022-07-29T15:25:51.607Z"
   },
   {
    "duration": 112,
    "start_time": "2022-07-29T15:26:01.986Z"
   },
   {
    "duration": 3,
    "start_time": "2022-07-29T15:26:08.084Z"
   },
   {
    "duration": 6,
    "start_time": "2022-07-29T15:26:20.040Z"
   },
   {
    "duration": 13,
    "start_time": "2022-07-29T15:36:51.059Z"
   },
   {
    "duration": 7,
    "start_time": "2022-07-29T15:37:00.887Z"
   },
   {
    "duration": 50,
    "start_time": "2022-07-29T15:37:12.621Z"
   },
   {
    "duration": 65,
    "start_time": "2022-07-29T15:37:15.730Z"
   },
   {
    "duration": 55,
    "start_time": "2022-07-29T15:38:38.133Z"
   },
   {
    "duration": 5,
    "start_time": "2022-07-29T15:38:50.536Z"
   },
   {
    "duration": 51,
    "start_time": "2022-07-29T16:04:33.315Z"
   },
   {
    "duration": 13,
    "start_time": "2022-07-29T16:05:24.390Z"
   },
   {
    "duration": 41,
    "start_time": "2022-07-29T16:11:38.821Z"
   },
   {
    "duration": 81,
    "start_time": "2022-07-30T09:08:34.173Z"
   },
   {
    "duration": 42,
    "start_time": "2022-07-30T10:37:01.265Z"
   },
   {
    "duration": 613,
    "start_time": "2022-07-30T10:37:07.652Z"
   },
   {
    "duration": 83,
    "start_time": "2022-07-30T10:37:27.323Z"
   },
   {
    "duration": 13,
    "start_time": "2022-07-30T10:37:30.051Z"
   },
   {
    "duration": 17,
    "start_time": "2022-07-30T10:37:32.323Z"
   },
   {
    "duration": 9,
    "start_time": "2022-07-30T10:37:35.641Z"
   },
   {
    "duration": 16,
    "start_time": "2022-07-30T10:37:37.651Z"
   },
   {
    "duration": 5,
    "start_time": "2022-07-30T10:37:40.981Z"
   },
   {
    "duration": 28,
    "start_time": "2022-07-30T10:37:43.867Z"
   },
   {
    "duration": 8,
    "start_time": "2022-07-30T10:37:47.242Z"
   },
   {
    "duration": 5,
    "start_time": "2022-07-30T10:37:50.254Z"
   },
   {
    "duration": 18,
    "start_time": "2022-07-30T10:37:52.299Z"
   },
   {
    "duration": 5,
    "start_time": "2022-07-30T10:37:54.978Z"
   },
   {
    "duration": 6,
    "start_time": "2022-07-30T10:37:57.263Z"
   },
   {
    "duration": 7,
    "start_time": "2022-07-30T10:37:59.393Z"
   },
   {
    "duration": 6,
    "start_time": "2022-07-30T10:38:00.793Z"
   },
   {
    "duration": 8,
    "start_time": "2022-07-30T10:38:03.251Z"
   },
   {
    "duration": 6,
    "start_time": "2022-07-30T10:38:05.471Z"
   },
   {
    "duration": 5,
    "start_time": "2022-07-30T10:38:06.542Z"
   },
   {
    "duration": 7,
    "start_time": "2022-07-30T10:38:07.914Z"
   },
   {
    "duration": 9,
    "start_time": "2022-07-30T10:38:10.356Z"
   },
   {
    "duration": 8,
    "start_time": "2022-07-30T10:38:12.616Z"
   },
   {
    "duration": 4,
    "start_time": "2022-07-30T10:38:13.791Z"
   },
   {
    "duration": 4,
    "start_time": "2022-07-30T10:38:15.713Z"
   },
   {
    "duration": 5,
    "start_time": "2022-07-30T10:38:17.498Z"
   },
   {
    "duration": 4,
    "start_time": "2022-07-30T10:38:22.317Z"
   },
   {
    "duration": 6,
    "start_time": "2022-07-30T10:38:23.475Z"
   },
   {
    "duration": 5,
    "start_time": "2022-07-30T10:38:25.501Z"
   },
   {
    "duration": 4,
    "start_time": "2022-07-30T10:38:28.134Z"
   },
   {
    "duration": 5,
    "start_time": "2022-07-30T10:38:29.667Z"
   },
   {
    "duration": 16,
    "start_time": "2022-07-30T10:38:31.209Z"
   },
   {
    "duration": 15,
    "start_time": "2022-07-30T10:38:33.123Z"
   },
   {
    "duration": 15,
    "start_time": "2022-07-30T10:38:34.358Z"
   },
   {
    "duration": 12,
    "start_time": "2022-07-30T10:38:36.244Z"
   },
   {
    "duration": 39,
    "start_time": "2022-07-30T10:38:58.413Z"
   },
   {
    "duration": 3,
    "start_time": "2022-07-30T10:39:00.455Z"
   },
   {
    "duration": 3,
    "start_time": "2022-07-30T10:39:01.656Z"
   },
   {
    "duration": 7,
    "start_time": "2022-07-30T10:39:03.487Z"
   },
   {
    "duration": 8,
    "start_time": "2022-07-30T10:39:05.069Z"
   },
   {
    "duration": 24,
    "start_time": "2022-07-30T10:39:08.587Z"
   },
   {
    "duration": 7,
    "start_time": "2022-07-30T10:39:12.849Z"
   },
   {
    "duration": 7,
    "start_time": "2022-07-30T10:39:14.617Z"
   },
   {
    "duration": 9,
    "start_time": "2022-07-30T10:39:16.899Z"
   },
   {
    "duration": 8,
    "start_time": "2022-07-30T10:39:21.056Z"
   },
   {
    "duration": 8,
    "start_time": "2022-07-30T10:39:22.823Z"
   },
   {
    "duration": 10,
    "start_time": "2022-07-30T10:39:25.162Z"
   },
   {
    "duration": 3,
    "start_time": "2022-07-30T10:39:27.303Z"
   },
   {
    "duration": 275,
    "start_time": "2022-07-30T10:39:28.954Z"
   },
   {
    "duration": 14,
    "start_time": "2022-07-30T10:39:31.734Z"
   },
   {
    "duration": 26,
    "start_time": "2022-07-30T10:39:34.959Z"
   },
   {
    "duration": 14,
    "start_time": "2022-07-30T10:39:43.635Z"
   },
   {
    "duration": 7,
    "start_time": "2022-07-30T10:49:51.371Z"
   },
   {
    "duration": 4,
    "start_time": "2022-07-30T10:49:57.645Z"
   },
   {
    "duration": 2,
    "start_time": "2022-07-30T10:49:59.329Z"
   },
   {
    "duration": 17,
    "start_time": "2022-07-30T10:50:55.708Z"
   },
   {
    "duration": 5,
    "start_time": "2022-07-30T10:53:37.960Z"
   },
   {
    "duration": 840,
    "start_time": "2022-07-31T11:24:30.831Z"
   },
   {
    "duration": 23,
    "start_time": "2022-07-31T11:24:31.674Z"
   },
   {
    "duration": 35,
    "start_time": "2022-07-31T11:24:31.700Z"
   },
   {
    "duration": 21,
    "start_time": "2022-07-31T11:24:31.738Z"
   },
   {
    "duration": 17,
    "start_time": "2022-07-31T11:24:31.762Z"
   },
   {
    "duration": 9,
    "start_time": "2022-07-31T11:24:31.781Z"
   },
   {
    "duration": 50,
    "start_time": "2022-07-31T11:24:31.807Z"
   },
   {
    "duration": 10,
    "start_time": "2022-07-31T11:24:31.859Z"
   },
   {
    "duration": 8,
    "start_time": "2022-07-31T11:24:31.871Z"
   },
   {
    "duration": 32,
    "start_time": "2022-07-31T11:24:31.880Z"
   },
   {
    "duration": 44,
    "start_time": "2022-07-31T11:24:31.914Z"
   },
   {
    "duration": 14,
    "start_time": "2022-07-31T11:24:31.960Z"
   },
   {
    "duration": 7,
    "start_time": "2022-07-31T11:24:31.976Z"
   },
   {
    "duration": 12,
    "start_time": "2022-07-31T11:24:31.986Z"
   },
   {
    "duration": 35,
    "start_time": "2022-07-31T11:24:32.000Z"
   },
   {
    "duration": 9,
    "start_time": "2022-07-31T11:24:32.036Z"
   },
   {
    "duration": 7,
    "start_time": "2022-07-31T11:24:32.047Z"
   },
   {
    "duration": 13,
    "start_time": "2022-07-31T11:24:32.056Z"
   },
   {
    "duration": 9,
    "start_time": "2022-07-31T11:24:32.070Z"
   },
   {
    "duration": 8,
    "start_time": "2022-07-31T11:24:32.080Z"
   },
   {
    "duration": 38,
    "start_time": "2022-07-31T11:24:32.090Z"
   },
   {
    "duration": 15,
    "start_time": "2022-07-31T11:24:32.134Z"
   },
   {
    "duration": 10,
    "start_time": "2022-07-31T11:24:32.151Z"
   },
   {
    "duration": 12,
    "start_time": "2022-07-31T11:24:32.162Z"
   },
   {
    "duration": 9,
    "start_time": "2022-07-31T11:24:32.176Z"
   },
   {
    "duration": 11,
    "start_time": "2022-07-31T11:24:32.186Z"
   },
   {
    "duration": 34,
    "start_time": "2022-07-31T11:24:32.199Z"
   },
   {
    "duration": 12,
    "start_time": "2022-07-31T11:24:32.234Z"
   },
   {
    "duration": 21,
    "start_time": "2022-07-31T11:24:32.248Z"
   },
   {
    "duration": 24,
    "start_time": "2022-07-31T11:24:32.270Z"
   },
   {
    "duration": 26,
    "start_time": "2022-07-31T11:24:32.297Z"
   },
   {
    "duration": 32,
    "start_time": "2022-07-31T11:24:32.325Z"
   },
   {
    "duration": 15,
    "start_time": "2022-07-31T11:24:32.359Z"
   },
   {
    "duration": 67,
    "start_time": "2022-07-31T11:24:32.375Z"
   },
   {
    "duration": 4,
    "start_time": "2022-07-31T11:24:32.443Z"
   },
   {
    "duration": 6,
    "start_time": "2022-07-31T11:24:32.448Z"
   },
   {
    "duration": 11,
    "start_time": "2022-07-31T11:24:32.456Z"
   },
   {
    "duration": 12,
    "start_time": "2022-07-31T11:24:32.469Z"
   },
   {
    "duration": 55,
    "start_time": "2022-07-31T11:24:32.482Z"
   },
   {
    "duration": 9,
    "start_time": "2022-07-31T11:24:32.538Z"
   },
   {
    "duration": 8,
    "start_time": "2022-07-31T11:24:32.552Z"
   },
   {
    "duration": 10,
    "start_time": "2022-07-31T11:24:32.561Z"
   },
   {
    "duration": 2,
    "start_time": "2022-07-31T11:24:32.573Z"
   },
   {
    "duration": 4,
    "start_time": "2022-07-31T11:24:32.577Z"
   },
   {
    "duration": 9,
    "start_time": "2022-07-31T11:24:32.605Z"
   },
   {
    "duration": 26,
    "start_time": "2022-07-31T11:24:32.615Z"
   },
   {
    "duration": 11,
    "start_time": "2022-07-31T11:24:32.642Z"
   },
   {
    "duration": 5,
    "start_time": "2022-07-31T11:24:32.654Z"
   },
   {
    "duration": 374,
    "start_time": "2022-07-31T11:24:32.662Z"
   },
   {
    "duration": 16,
    "start_time": "2022-07-31T11:24:33.037Z"
   },
   {
    "duration": 4,
    "start_time": "2022-07-31T11:24:33.055Z"
   },
   {
    "duration": 18,
    "start_time": "2022-07-31T11:24:33.060Z"
   },
   {
    "duration": 25,
    "start_time": "2022-07-31T11:24:33.080Z"
   },
   {
    "duration": 12,
    "start_time": "2022-07-31T11:24:33.113Z"
   },
   {
    "duration": 7,
    "start_time": "2022-07-31T11:24:33.133Z"
   },
   {
    "duration": 19,
    "start_time": "2022-07-31T11:24:33.142Z"
   },
   {
    "duration": 5,
    "start_time": "2022-07-31T11:24:33.163Z"
   },
   {
    "duration": 12,
    "start_time": "2022-07-31T11:24:33.171Z"
   },
   {
    "duration": 7,
    "start_time": "2022-07-31T11:24:33.185Z"
   },
   {
    "duration": 44,
    "start_time": "2022-07-31T11:24:33.194Z"
   },
   {
    "duration": 6,
    "start_time": "2022-07-31T11:24:33.239Z"
   },
   {
    "duration": 10,
    "start_time": "2022-07-31T11:24:33.246Z"
   },
   {
    "duration": 15,
    "start_time": "2022-07-31T11:24:33.257Z"
   },
   {
    "duration": 32,
    "start_time": "2022-07-31T11:24:33.274Z"
   },
   {
    "duration": 4,
    "start_time": "2022-07-31T11:24:33.308Z"
   },
   {
    "duration": 45,
    "start_time": "2022-07-31T11:24:33.320Z"
   },
   {
    "duration": 14,
    "start_time": "2022-07-31T11:24:33.367Z"
   },
   {
    "duration": 12,
    "start_time": "2022-07-31T11:24:33.383Z"
   },
   {
    "duration": 184,
    "start_time": "2022-07-31T11:25:44.079Z"
   },
   {
    "duration": 13,
    "start_time": "2022-07-31T11:38:35.085Z"
   },
   {
    "duration": 58,
    "start_time": "2022-08-01T14:35:21.276Z"
   },
   {
    "duration": 648,
    "start_time": "2022-08-01T14:35:33.326Z"
   },
   {
    "duration": 19,
    "start_time": "2022-08-01T14:35:35.321Z"
   },
   {
    "duration": 20,
    "start_time": "2022-08-01T14:35:37.795Z"
   },
   {
    "duration": 14,
    "start_time": "2022-08-01T14:35:40.906Z"
   },
   {
    "duration": 13,
    "start_time": "2022-08-01T14:35:45.584Z"
   },
   {
    "duration": 6,
    "start_time": "2022-08-01T14:35:59.786Z"
   },
   {
    "duration": 28,
    "start_time": "2022-08-01T14:36:10.894Z"
   },
   {
    "duration": 9,
    "start_time": "2022-08-01T14:36:13.405Z"
   },
   {
    "duration": 14,
    "start_time": "2022-08-01T14:36:27.834Z"
   },
   {
    "duration": 13,
    "start_time": "2022-08-01T14:36:51.182Z"
   },
   {
    "duration": 28,
    "start_time": "2022-08-01T14:37:04.097Z"
   },
   {
    "duration": 13,
    "start_time": "2022-08-01T14:37:10.885Z"
   },
   {
    "duration": 5,
    "start_time": "2022-08-01T14:37:31.926Z"
   },
   {
    "duration": 7,
    "start_time": "2022-08-01T14:37:34.824Z"
   },
   {
    "duration": 9,
    "start_time": "2022-08-01T14:37:36.938Z"
   },
   {
    "duration": 5,
    "start_time": "2022-08-01T14:37:40.586Z"
   },
   {
    "duration": 20,
    "start_time": "2022-08-01T14:37:42.466Z"
   },
   {
    "duration": 7,
    "start_time": "2022-08-01T14:37:50.266Z"
   },
   {
    "duration": 8,
    "start_time": "2022-08-01T14:37:52.127Z"
   },
   {
    "duration": 11,
    "start_time": "2022-08-01T14:37:54.756Z"
   },
   {
    "duration": 8,
    "start_time": "2022-08-01T14:37:57.141Z"
   },
   {
    "duration": 8,
    "start_time": "2022-08-01T14:37:59.306Z"
   },
   {
    "duration": 5,
    "start_time": "2022-08-01T14:38:01.386Z"
   },
   {
    "duration": 4,
    "start_time": "2022-08-01T14:38:04.696Z"
   },
   {
    "duration": 9,
    "start_time": "2022-08-01T14:38:06.228Z"
   },
   {
    "duration": 9,
    "start_time": "2022-08-01T14:38:08.176Z"
   },
   {
    "duration": 12,
    "start_time": "2022-08-01T14:38:10.739Z"
   },
   {
    "duration": 7,
    "start_time": "2022-08-01T14:38:11.967Z"
   },
   {
    "duration": 5,
    "start_time": "2022-08-01T14:38:13.334Z"
   },
   {
    "duration": 5,
    "start_time": "2022-08-01T14:38:15.798Z"
   },
   {
    "duration": 4,
    "start_time": "2022-08-01T14:38:17.686Z"
   },
   {
    "duration": 6,
    "start_time": "2022-08-01T14:38:19.336Z"
   },
   {
    "duration": 7,
    "start_time": "2022-08-01T14:38:21.556Z"
   },
   {
    "duration": 5,
    "start_time": "2022-08-01T14:38:25.636Z"
   },
   {
    "duration": 6,
    "start_time": "2022-08-01T14:38:27.535Z"
   },
   {
    "duration": 18,
    "start_time": "2022-08-01T14:38:36.118Z"
   },
   {
    "duration": 19,
    "start_time": "2022-08-01T14:38:38.237Z"
   },
   {
    "duration": 18,
    "start_time": "2022-08-01T14:38:39.676Z"
   },
   {
    "duration": 14,
    "start_time": "2022-08-01T14:38:43.310Z"
   },
   {
    "duration": 49,
    "start_time": "2022-08-01T14:38:46.265Z"
   },
   {
    "duration": 4,
    "start_time": "2022-08-01T14:38:48.734Z"
   },
   {
    "duration": 3,
    "start_time": "2022-08-01T14:38:51.087Z"
   },
   {
    "duration": 13,
    "start_time": "2022-08-01T14:38:52.786Z"
   },
   {
    "duration": 12,
    "start_time": "2022-08-01T14:38:54.016Z"
   },
   {
    "duration": 39,
    "start_time": "2022-08-01T14:38:57.082Z"
   },
   {
    "duration": 8,
    "start_time": "2022-08-01T14:39:00.378Z"
   },
   {
    "duration": 11,
    "start_time": "2022-08-01T14:39:02.044Z"
   },
   {
    "duration": 11,
    "start_time": "2022-08-01T14:39:09.666Z"
   },
   {
    "duration": 13,
    "start_time": "2022-08-01T14:39:30.779Z"
   },
   {
    "duration": 32,
    "start_time": "2022-08-01T15:04:00.267Z"
   },
   {
    "duration": 4,
    "start_time": "2022-08-01T15:04:51.739Z"
   },
   {
    "duration": 4,
    "start_time": "2022-08-01T15:05:03.153Z"
   },
   {
    "duration": 1522,
    "start_time": "2022-08-01T15:08:23.093Z"
   },
   {
    "duration": 290,
    "start_time": "2022-08-01T15:08:35.885Z"
   },
   {
    "duration": 24,
    "start_time": "2022-08-01T15:08:57.997Z"
   },
   {
    "duration": 51,
    "start_time": "2022-08-01T15:10:14.765Z"
   },
   {
    "duration": 17,
    "start_time": "2022-08-01T15:12:27.183Z"
   },
   {
    "duration": 8,
    "start_time": "2022-08-01T15:12:48.427Z"
   },
   {
    "duration": 13,
    "start_time": "2022-08-01T15:12:51.557Z"
   },
   {
    "duration": 4,
    "start_time": "2022-08-01T15:12:53.705Z"
   },
   {
    "duration": 293,
    "start_time": "2022-08-01T15:12:55.487Z"
   },
   {
    "duration": 16,
    "start_time": "2022-08-01T15:12:58.996Z"
   },
   {
    "duration": 16,
    "start_time": "2022-08-01T15:13:01.920Z"
   },
   {
    "duration": 8,
    "start_time": "2022-08-01T15:18:17.057Z"
   },
   {
    "duration": 416,
    "start_time": "2022-08-01T15:19:11.737Z"
   },
   {
    "duration": 303,
    "start_time": "2022-08-01T15:21:19.788Z"
   },
   {
    "duration": 156,
    "start_time": "2022-08-01T15:21:38.288Z"
   },
   {
    "duration": 235,
    "start_time": "2022-08-01T15:22:24.949Z"
   },
   {
    "duration": 169,
    "start_time": "2022-08-01T15:22:32.817Z"
   },
   {
    "duration": 1403,
    "start_time": "2022-08-01T15:22:37.149Z"
   },
   {
    "duration": 1285,
    "start_time": "2022-08-01T15:23:01.955Z"
   },
   {
    "duration": 63,
    "start_time": "2022-08-01T15:25:00.136Z"
   },
   {
    "duration": 12,
    "start_time": "2022-08-01T15:28:51.288Z"
   },
   {
    "duration": 22,
    "start_time": "2022-08-01T15:28:53.138Z"
   },
   {
    "duration": 11,
    "start_time": "2022-08-01T15:29:10.368Z"
   },
   {
    "duration": 11,
    "start_time": "2022-08-01T15:29:14.618Z"
   },
   {
    "duration": 11,
    "start_time": "2022-08-01T15:29:15.809Z"
   },
   {
    "duration": 8,
    "start_time": "2022-08-01T15:29:39.731Z"
   },
   {
    "duration": 7,
    "start_time": "2022-08-01T15:29:41.654Z"
   },
   {
    "duration": 1319,
    "start_time": "2022-08-01T15:29:43.988Z"
   },
   {
    "duration": 12,
    "start_time": "2022-08-01T15:29:53.520Z"
   },
   {
    "duration": 14,
    "start_time": "2022-08-01T15:29:55.036Z"
   },
   {
    "duration": 27,
    "start_time": "2022-08-01T15:30:09.978Z"
   },
   {
    "duration": 3,
    "start_time": "2022-08-01T15:35:40.178Z"
   },
   {
    "duration": 8,
    "start_time": "2022-08-01T15:35:41.958Z"
   },
   {
    "duration": 9,
    "start_time": "2022-08-01T15:35:43.603Z"
   },
   {
    "duration": 23,
    "start_time": "2022-08-01T15:35:46.058Z"
   },
   {
    "duration": 8,
    "start_time": "2022-08-01T15:35:48.868Z"
   },
   {
    "duration": 4,
    "start_time": "2022-08-01T15:35:56.920Z"
   },
   {
    "duration": 296,
    "start_time": "2022-08-01T15:35:59.049Z"
   },
   {
    "duration": 16,
    "start_time": "2022-08-01T15:36:08.006Z"
   },
   {
    "duration": 265,
    "start_time": "2022-08-01T15:36:43.298Z"
   },
   {
    "duration": 22,
    "start_time": "2022-08-01T15:37:38.129Z"
   },
   {
    "duration": 275,
    "start_time": "2022-08-01T15:37:55.168Z"
   },
   {
    "duration": 14,
    "start_time": "2022-08-01T15:37:57.658Z"
   },
   {
    "duration": 15,
    "start_time": "2022-08-01T15:38:08.269Z"
   },
   {
    "duration": 23,
    "start_time": "2022-08-01T15:40:11.708Z"
   },
   {
    "duration": 16,
    "start_time": "2022-08-01T15:40:21.688Z"
   },
   {
    "duration": 19,
    "start_time": "2022-08-01T15:41:28.496Z"
   },
   {
    "duration": 9,
    "start_time": "2022-08-01T15:44:26.478Z"
   },
   {
    "duration": 8,
    "start_time": "2022-08-01T15:44:35.128Z"
   },
   {
    "duration": 11,
    "start_time": "2022-08-01T15:44:45.258Z"
   },
   {
    "duration": 22,
    "start_time": "2022-08-01T15:45:45.488Z"
   },
   {
    "duration": 14,
    "start_time": "2022-08-01T15:45:55.628Z"
   },
   {
    "duration": 19,
    "start_time": "2022-08-01T15:46:04.389Z"
   },
   {
    "duration": 295,
    "start_time": "2022-08-01T15:46:28.583Z"
   },
   {
    "duration": 16,
    "start_time": "2022-08-01T15:46:30.421Z"
   },
   {
    "duration": 4,
    "start_time": "2022-08-01T15:46:31.820Z"
   },
   {
    "duration": 15,
    "start_time": "2022-08-01T15:46:56.470Z"
   },
   {
    "duration": 18,
    "start_time": "2022-08-01T15:47:00.999Z"
   },
   {
    "duration": 844,
    "start_time": "2022-08-01T21:50:15.776Z"
   },
   {
    "duration": 16,
    "start_time": "2022-08-01T21:50:16.623Z"
   },
   {
    "duration": 19,
    "start_time": "2022-08-01T21:50:16.640Z"
   },
   {
    "duration": 9,
    "start_time": "2022-08-01T21:50:16.661Z"
   },
   {
    "duration": 14,
    "start_time": "2022-08-01T21:50:16.671Z"
   },
   {
    "duration": 4,
    "start_time": "2022-08-01T21:50:16.686Z"
   },
   {
    "duration": 51,
    "start_time": "2022-08-01T21:50:16.692Z"
   },
   {
    "duration": 7,
    "start_time": "2022-08-01T21:50:16.745Z"
   },
   {
    "duration": 11,
    "start_time": "2022-08-01T21:50:16.753Z"
   },
   {
    "duration": 10,
    "start_time": "2022-08-01T21:50:16.766Z"
   },
   {
    "duration": 19,
    "start_time": "2022-08-01T21:50:16.778Z"
   },
   {
    "duration": 26,
    "start_time": "2022-08-01T21:50:16.798Z"
   },
   {
    "duration": 16,
    "start_time": "2022-08-01T21:50:16.826Z"
   },
   {
    "duration": 17,
    "start_time": "2022-08-01T21:50:16.844Z"
   },
   {
    "duration": 11,
    "start_time": "2022-08-01T21:50:16.863Z"
   },
   {
    "duration": 21,
    "start_time": "2022-08-01T21:50:16.875Z"
   },
   {
    "duration": 15,
    "start_time": "2022-08-01T21:50:16.897Z"
   },
   {
    "duration": 19,
    "start_time": "2022-08-01T21:50:16.914Z"
   },
   {
    "duration": 22,
    "start_time": "2022-08-01T21:50:16.934Z"
   },
   {
    "duration": 20,
    "start_time": "2022-08-01T21:50:16.958Z"
   },
   {
    "duration": 22,
    "start_time": "2022-08-01T21:50:16.979Z"
   },
   {
    "duration": 28,
    "start_time": "2022-08-01T21:50:17.003Z"
   },
   {
    "duration": 17,
    "start_time": "2022-08-01T21:50:17.032Z"
   },
   {
    "duration": 14,
    "start_time": "2022-08-01T21:50:17.051Z"
   },
   {
    "duration": 16,
    "start_time": "2022-08-01T21:50:17.067Z"
   },
   {
    "duration": 24,
    "start_time": "2022-08-01T21:50:17.085Z"
   },
   {
    "duration": 23,
    "start_time": "2022-08-01T21:50:17.110Z"
   },
   {
    "duration": 16,
    "start_time": "2022-08-01T21:50:17.139Z"
   },
   {
    "duration": 29,
    "start_time": "2022-08-01T21:50:17.157Z"
   },
   {
    "duration": 27,
    "start_time": "2022-08-01T21:50:17.188Z"
   },
   {
    "duration": 22,
    "start_time": "2022-08-01T21:50:17.217Z"
   },
   {
    "duration": 22,
    "start_time": "2022-08-01T21:50:17.241Z"
   },
   {
    "duration": 20,
    "start_time": "2022-08-01T21:50:17.265Z"
   },
   {
    "duration": 41,
    "start_time": "2022-08-01T21:50:17.287Z"
   },
   {
    "duration": 3,
    "start_time": "2022-08-01T21:50:17.330Z"
   },
   {
    "duration": 26,
    "start_time": "2022-08-01T21:50:17.334Z"
   },
   {
    "duration": 18,
    "start_time": "2022-08-01T21:50:17.362Z"
   },
   {
    "duration": 19,
    "start_time": "2022-08-01T21:50:17.382Z"
   },
   {
    "duration": 38,
    "start_time": "2022-08-01T21:50:17.403Z"
   },
   {
    "duration": 7,
    "start_time": "2022-08-01T21:50:17.442Z"
   },
   {
    "duration": 8,
    "start_time": "2022-08-01T21:50:17.451Z"
   },
   {
    "duration": 11,
    "start_time": "2022-08-01T21:50:17.461Z"
   },
   {
    "duration": 10,
    "start_time": "2022-08-01T21:50:17.474Z"
   },
   {
    "duration": 53,
    "start_time": "2022-08-01T21:50:17.486Z"
   },
   {
    "duration": 3,
    "start_time": "2022-08-01T21:50:17.541Z"
   },
   {
    "duration": 288,
    "start_time": "2022-08-01T21:50:17.545Z"
   },
   {
    "duration": 15,
    "start_time": "2022-08-01T21:50:17.835Z"
   },
   {
    "duration": 9,
    "start_time": "2022-08-01T21:50:17.852Z"
   },
   {
    "duration": 6,
    "start_time": "2022-08-01T21:50:17.862Z"
   },
   {
    "duration": 1312,
    "start_time": "2022-08-01T21:50:17.870Z"
   },
   {
    "duration": 11,
    "start_time": "2022-08-01T21:50:19.184Z"
   },
   {
    "duration": 3,
    "start_time": "2022-08-01T21:50:19.197Z"
   },
   {
    "duration": 291,
    "start_time": "2022-08-01T21:50:19.201Z"
   },
   {
    "duration": 14,
    "start_time": "2022-08-01T21:50:19.494Z"
   },
   {
    "duration": 29,
    "start_time": "2022-08-01T21:50:19.509Z"
   },
   {
    "duration": 6,
    "start_time": "2022-08-01T21:50:19.539Z"
   },
   {
    "duration": 6,
    "start_time": "2022-08-01T21:50:19.547Z"
   },
   {
    "duration": 7,
    "start_time": "2022-08-01T21:50:19.554Z"
   },
   {
    "duration": 106,
    "start_time": "2022-08-01T21:50:19.562Z"
   },
   {
    "duration": 4,
    "start_time": "2022-08-01T21:50:19.670Z"
   },
   {
    "duration": 8,
    "start_time": "2022-08-01T21:50:19.675Z"
   },
   {
    "duration": 7,
    "start_time": "2022-08-01T21:50:19.684Z"
   },
   {
    "duration": 39,
    "start_time": "2022-08-01T21:50:19.692Z"
   },
   {
    "duration": 5,
    "start_time": "2022-08-01T21:50:19.733Z"
   },
   {
    "duration": 10,
    "start_time": "2022-08-01T21:50:19.740Z"
   },
   {
    "duration": 13,
    "start_time": "2022-08-01T21:50:19.752Z"
   },
   {
    "duration": 9,
    "start_time": "2022-08-01T21:50:19.766Z"
   },
   {
    "duration": 3,
    "start_time": "2022-08-01T21:50:19.777Z"
   },
   {
    "duration": 62,
    "start_time": "2022-08-01T21:50:19.781Z"
   },
   {
    "duration": 13,
    "start_time": "2022-08-01T21:50:19.844Z"
   },
   {
    "duration": 12,
    "start_time": "2022-08-01T21:50:19.858Z"
   }
  ],
  "kernelspec": {
   "display_name": "Python 3 (ipykernel)",
   "language": "python",
   "name": "python3"
  },
  "language_info": {
   "codemirror_mode": {
    "name": "ipython",
    "version": 3
   },
   "file_extension": ".py",
   "mimetype": "text/x-python",
   "name": "python",
   "nbconvert_exporter": "python",
   "pygments_lexer": "ipython3",
   "version": "3.9.12"
  },
  "toc": {
   "base_numbering": 1,
   "nav_menu": {},
   "number_sections": true,
   "sideBar": true,
   "skip_h1_title": true,
   "title_cell": "Table of Contents",
   "title_sidebar": "Contents",
   "toc_cell": false,
   "toc_position": {},
   "toc_section_display": true,
   "toc_window_display": false
  }
 },
 "nbformat": 4,
 "nbformat_minor": 2
}
