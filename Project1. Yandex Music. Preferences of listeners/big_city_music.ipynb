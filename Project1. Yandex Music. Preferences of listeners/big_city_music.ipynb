{
 "cells": [
  {
   "cell_type": "markdown",
   "metadata": {
    "id": "E0vqbgi9ay0H"
   },
   "source": [
    "# Yandex.Music"
   ]
  },
  {
   "cell_type": "markdown",
   "metadata": {
    "id": "fhq_eyov_Zcs"
   },
   "source": [
    "# Contents <a id='back'></a>\n",
    "\n",
    "* [Introduction](#intro)\n",
    "* [Stage 1. Data overview](#data_review)\n",
    "    * [Conclusions](#data_review_conclusions)\n",
    "* [Stage 2. Data preprocessing](#data_preprocessing)\n",
    "    * [2.1 Header style](#header_style)\n",
    "    * [2.2 Missing values](#missing_values)\n",
    "    * [2.3 Duplicates](#duplicates)\n",
    "    * [2.4 Conclusions](#data_preprocessing_conclusions)\n",
    "* [Stage 3. Testing the hypotheses](#hypotheses)\n",
    "    * [3.1 Hypothesis 1: user activity in the two cities](#activity)\n",
    "    * [3.2 Hypothesis 2: music preferences on Monday and Friday](#week)\n",
    "    * [3.3 Hypothesis 3: genre preferences in Springfield and Shelbyville](#genre)\n",
    "* [Findings](#end)"
   ]
  },
  {
   "cell_type": "markdown",
   "metadata": {
    "id": "VUC88oWjTJw2"
   },
   "source": [
    "## Introduction <a id='intro'></a>\n",
    "Whenever we're doing research, we need to formulate hypotheses that we can then test. Sometimes we accept these hypotheses; other times, we reject them. To make the right decisions, a business must be able to understand whether or not it's making the right assumptions.\n",
    "\n",
    "In this project, you'll compare the music preferences of the cities of Springfield and Shelbyville. You'll study real Yandex.Music data to test the hypotheses below and compare user behavior for these two cities.\n",
    "\n",
    "### Goal: \n",
    "Test three hypotheses:\n",
    "1. User activity differs depending on the day of the week and from city to city. \n",
    "2. On Monday mornings, Springfield and Shelbyville residents listen to different genres. This is also true for Friday evenings. \n",
    "3. Springfield and Shelbyville listeners have different preferences. In Springfield, they prefer pop, while Shelbyville has more rap fans.\n",
    "\n",
    "### Stages \n",
    "Data on user behavior is stored in the file `/datasets/music_project_en.csv`. There is no information about the quality of the data, so you will need to explore it before testing the hypotheses. \n",
    "\n",
    "First, you'll evaluate the quality of the data and see whether its issues are significant. Then, during data preprocessing, you will try to account for the most critical problems.\n",
    " \n",
    "Your project will consist of three stages:\n",
    " 1. Data overview\n",
    " 2. Data preprocessing\n",
    " 3. Testing the hypotheses\n",
    " \n",
    "[Back to Contents](#back)"
   ]
  },
  {
   "cell_type": "markdown",
   "metadata": {
    "id": "Ml1hmfXC_Zcs"
   },
   "source": [
    "## Stage 1. Data overview <a id='data_review'></a>\n",
    "\n",
    "Open the data on Yandex.Music and explore it."
   ]
  },
  {
   "cell_type": "code",
   "execution_count": 1,
   "metadata": {
    "id": "AXN7PHPN_Zcs"
   },
   "outputs": [],
   "source": [
    "# importing pandas\n",
    "import pandas as pd"
   ]
  },
  {
   "cell_type": "code",
   "execution_count": 2,
   "metadata": {
    "id": "fFVu7vqh_Zct"
   },
   "outputs": [
    {
     "data": {
      "text/html": [
       "<div>\n",
       "<style scoped>\n",
       "    .dataframe tbody tr th:only-of-type {\n",
       "        vertical-align: middle;\n",
       "    }\n",
       "\n",
       "    .dataframe tbody tr th {\n",
       "        vertical-align: top;\n",
       "    }\n",
       "\n",
       "    .dataframe thead th {\n",
       "        text-align: right;\n",
       "    }\n",
       "</style>\n",
       "<table border=\"1\" class=\"dataframe\">\n",
       "  <thead>\n",
       "    <tr style=\"text-align: right;\">\n",
       "      <th></th>\n",
       "      <th>userID</th>\n",
       "      <th>Track</th>\n",
       "      <th>artist</th>\n",
       "      <th>genre</th>\n",
       "      <th>City</th>\n",
       "      <th>time</th>\n",
       "      <th>Day</th>\n",
       "    </tr>\n",
       "  </thead>\n",
       "  <tbody>\n",
       "    <tr>\n",
       "      <th>count</th>\n",
       "      <td>65079</td>\n",
       "      <td>63736</td>\n",
       "      <td>57512</td>\n",
       "      <td>63881</td>\n",
       "      <td>65079</td>\n",
       "      <td>65079</td>\n",
       "      <td>65079</td>\n",
       "    </tr>\n",
       "    <tr>\n",
       "      <th>unique</th>\n",
       "      <td>41748</td>\n",
       "      <td>39666</td>\n",
       "      <td>37806</td>\n",
       "      <td>268</td>\n",
       "      <td>2</td>\n",
       "      <td>20392</td>\n",
       "      <td>3</td>\n",
       "    </tr>\n",
       "    <tr>\n",
       "      <th>top</th>\n",
       "      <td>A8AE9169</td>\n",
       "      <td>Brand</td>\n",
       "      <td>Kartvelli</td>\n",
       "      <td>pop</td>\n",
       "      <td>Springfield</td>\n",
       "      <td>08:14:07</td>\n",
       "      <td>Friday</td>\n",
       "    </tr>\n",
       "    <tr>\n",
       "      <th>freq</th>\n",
       "      <td>76</td>\n",
       "      <td>136</td>\n",
       "      <td>136</td>\n",
       "      <td>8850</td>\n",
       "      <td>45360</td>\n",
       "      <td>14</td>\n",
       "      <td>23149</td>\n",
       "    </tr>\n",
       "  </tbody>\n",
       "</table>\n",
       "</div>"
      ],
      "text/plain": [
       "          userID  Track     artist  genre       City        time     Day\n",
       "count      65079  63736      57512  63881        65079     65079   65079\n",
       "unique     41748  39666      37806    268            2     20392       3\n",
       "top     A8AE9169  Brand  Kartvelli    pop  Springfield  08:14:07  Friday\n",
       "freq          76    136        136   8850        45360        14   23149"
      ]
     },
     "execution_count": 2,
     "metadata": {},
     "output_type": "execute_result"
    }
   ],
   "source": [
    "# reading the file and storing it to df\n",
    "df = pd.read_csv('/datasets/credit_scoring_eng.csv ')\n",
    "df.describe()"
   ]
  },
  {
   "cell_type": "code",
   "execution_count": 3,
   "metadata": {
    "id": "oWTVX3gW_Zct"
   },
   "outputs": [
    {
     "name": "stdout",
     "output_type": "stream",
     "text": [
      "     userID                        Track            artist   genre  \\\n",
      "0  FFB692EC            Kamigata To Boots  The Mass Missile    rock   \n",
      "1  55204538  Delayed Because of Accident  Andreas Rönnberg    rock   \n",
      "2    20EC38            Funiculì funiculà       Mario Lanza     pop   \n",
      "3  A3DD03C9        Dragons in the Sunset        Fire + Ice    folk   \n",
      "4  E2DC1FAE                  Soul People        Space Echo   dance   \n",
      "5  842029A1                       Chains          Obladaet  rusrap   \n",
      "6  4CB90AA5                         True      Roman Messer   dance   \n",
      "7  F03E1C1F             Feeling This Way   Polina Griffith   dance   \n",
      "8  8FA1D3BE                     L’estate       Julia Dalia  ruspop   \n",
      "9  E772D5C0                    Pessimist               NaN   dance   \n",
      "\n",
      "        City        time        Day  \n",
      "0  Shelbyville  20:28:33  Wednesday  \n",
      "1  Springfield  14:07:09     Friday  \n",
      "2  Shelbyville  20:58:07  Wednesday  \n",
      "3  Shelbyville  08:37:09     Monday  \n",
      "4  Springfield  08:34:34     Monday  \n",
      "5  Shelbyville  13:09:41     Friday  \n",
      "6  Springfield  13:00:07  Wednesday  \n",
      "7  Springfield  20:47:49  Wednesday  \n",
      "8  Springfield  09:17:40     Friday  \n",
      "9  Shelbyville  21:20:49  Wednesday  \n"
     ]
    }
   ],
   "source": [
    "# obtaining the first 10 rows from the df table\n",
    "\n",
    "print(df.head(10))"
   ]
  },
  {
   "cell_type": "code",
   "execution_count": 4,
   "metadata": {
    "id": "DSf2kIb-_Zct"
   },
   "outputs": [
    {
     "name": "stdout",
     "output_type": "stream",
     "text": [
      "<class 'pandas.core.frame.DataFrame'>\n",
      "RangeIndex: 65079 entries, 0 to 65078\n",
      "Data columns (total 7 columns):\n",
      " #   Column    Non-Null Count  Dtype \n",
      "---  ------    --------------  ----- \n",
      " 0     userID  65079 non-null  object\n",
      " 1   Track     63736 non-null  object\n",
      " 2   artist    57512 non-null  object\n",
      " 3   genre     63881 non-null  object\n",
      " 4     City    65079 non-null  object\n",
      " 5   time      65079 non-null  object\n",
      " 6   Day       65079 non-null  object\n",
      "dtypes: object(7)\n",
      "memory usage: 3.5+ MB\n"
     ]
    }
   ],
   "source": [
    "# obtaining general information about the data in df\n",
    "df.info() "
   ]
  },
  {
   "cell_type": "markdown",
   "metadata": {
    "id": "TaQ2Iwbr_Zct"
   },
   "source": [
    "The table contains seven columns. They all store the same data type: `object`.\n",
    "\n",
    "According to the documentation:\n",
    "- `'userID'` — user identifier\n",
    "- `'Track'` — track title\n",
    "- `'artist'` — artist's name\n",
    "- `'genre'`\n",
    "- `'City'` — user's city\n",
    "- `'time'` — the exact time the track was played\n",
    "- `'Day'` — day of the week\n",
    "\n",
    "We can see three issues with style in the column names:\n",
    "1. Some names are uppercase, some are lowercase.\n",
    "2. There are spaces in some names.\n",
    "3. Mixed uppercase and lowercase - need to use snake_case.\n",
    "\n",
    "The number of column values is different. This means the data contains missing values.\n"
   ]
  },
  {
   "cell_type": "markdown",
   "metadata": {
    "id": "MCB6-dXG_Zct"
   },
   "source": [
    "### Conclusions <a id='data_review_conclusions'></a> \n",
    "\n",
    "Each row in the table stores data on a track that was played. Some columns describe the track itself: its title, artist and genre. The rest convey information about the user: the city they come from, the time they played the track. \n",
    "\n",
    "It's clear that the data is sufficient to test the hypotheses. However, there are missing values.\n",
    "\n",
    "To move forward, we need to preprocess the data."
   ]
  },
  {
   "cell_type": "markdown",
   "metadata": {
    "id": "3eL__vcwViOi"
   },
   "source": [
    "[Back to Contents](#back)"
   ]
  },
  {
   "cell_type": "markdown",
   "metadata": {
    "id": "SjYF6Ub9_Zct"
   },
   "source": [
    "## Stage 2. Data preprocessing <a id='data_preprocessing'></a>\n",
    "We'll Correct the formatting in the column headers and deal with the missing values. Then, we'll check whether there are duplicates in the data."
   ]
  },
  {
   "cell_type": "code",
   "execution_count": 5,
   "metadata": {
    "id": "ISlFqs5y_Zct"
   },
   "outputs": [],
   "source": [
    "# renaming columns\n",
    "df = df.rename(\n",
    "    columns={\n",
    "        '  userID': 'user_id',\n",
    "        'Track': 'track',\n",
    "        '  City  ': 'city',\n",
    "        'Day': 'day'\n",
    "    }\n",
    ")"
   ]
  },
  {
   "cell_type": "code",
   "execution_count": 6,
   "metadata": {
    "id": "oKOTdF_Q_Zct"
   },
   "outputs": [
    {
     "name": "stdout",
     "output_type": "stream",
     "text": [
      "Index(['user_id', 'track', 'artist', 'genre', 'city', 'time', 'day'], dtype='object')\n"
     ]
    }
   ],
   "source": [
    "# the list of column names in the df table\n",
    "print(df.columns) "
   ]
  },
  {
   "cell_type": "code",
   "execution_count": 7,
   "metadata": {
    "id": "d4NOAmTW_Zct"
   },
   "outputs": [
    {
     "name": "stdout",
     "output_type": "stream",
     "text": [
      "Index(['user_id', 'track', 'artist', 'genre', 'city', 'time', 'day'], dtype='object')\n"
     ]
    }
   ],
   "source": [
    "# checking result: the list of column names\n",
    "print(df.columns)"
   ]
  },
  {
   "cell_type": "markdown",
   "metadata": {
    "id": "xYJk6ksJVpOl"
   },
   "source": [
    "[Back to Contents](#back)"
   ]
  },
  {
   "cell_type": "markdown",
   "metadata": {
    "id": "5ISfbcfY_Zct"
   },
   "source": [
    "### Missing values <a id='missing_values'></a>\n"
   ]
  },
  {
   "cell_type": "code",
   "execution_count": 8,
   "metadata": {
    "id": "RskX29qr_Zct"
   },
   "outputs": [
    {
     "name": "stdout",
     "output_type": "stream",
     "text": [
      "user_id       0\n",
      "track      1343\n",
      "artist     7567\n",
      "genre      1198\n",
      "city          0\n",
      "time          0\n",
      "day           0\n",
      "dtype: int64\n"
     ]
    }
   ],
   "source": [
    "# calculating missing values\n",
    "print(df.isna().sum())"
   ]
  },
  {
   "cell_type": "markdown",
   "metadata": {
    "id": "qubhgnlO_Zct"
   },
   "source": [
    "Not all missing values affect the research. For instance, the missing values in `track` and `artist` are not critical. We can simply replace them with clear markers.\n",
    "\n",
    "But missing values in `'genre'` can affect the comparison of music preferences in Springfield and Shelbyville. In real life, it would be useful to learn the reasons why the data is missing and try to make up for them. But we do not have that opportunity in this project. So we will have to:\n",
    "* Fill in these missing values with markers\n",
    "* Evaluate how much the missing values may affect your computations"
   ]
  },
  {
   "cell_type": "markdown",
   "metadata": {
    "id": "fSv2laPA_Zct"
   },
   "source": [
    "Let's replace the missing values in `'track'`, `'artist'`, and `'genre'` with the string `'unknown'`. To do this, we'll create the `columns_to_replace` list, loop over it with `for`, and replace the missing values in each of the columns:"
   ]
  },
  {
   "cell_type": "code",
   "execution_count": 9,
   "metadata": {
    "id": "KplB5qWs_Zct"
   },
   "outputs": [],
   "source": [
    "# looping over column names and replacing missing values with 'unknown'\n",
    "columns_to_replace = ['track', 'artist', 'genre']\n",
    "for col in columns_to_replace:\n",
    "    df[columns_to_replace]=df[columns_to_replace].fillna('unknown')"
   ]
  },
  {
   "cell_type": "code",
   "execution_count": 10,
   "metadata": {
    "id": "Tq4nYRX4_Zct"
   },
   "outputs": [
    {
     "name": "stdout",
     "output_type": "stream",
     "text": [
      "track     0\n",
      "artist    0\n",
      "genre     0\n",
      "dtype: int64\n"
     ]
    }
   ],
   "source": [
    "# counting missing values\n",
    "print(df[columns_to_replace].isna().sum())"
   ]
  },
  {
   "cell_type": "markdown",
   "metadata": {
    "id": "74ZIBmq9VrsK"
   },
   "source": [
    "[Back to Contents](#back)"
   ]
  },
  {
   "cell_type": "markdown",
   "metadata": {
    "id": "BWKRtBJ3_Zct"
   },
   "source": [
    "### Duplicates <a id='duplicates'></a>\n"
   ]
  },
  {
   "cell_type": "code",
   "execution_count": 11,
   "metadata": {
    "id": "36eES_S0_Zct"
   },
   "outputs": [
    {
     "name": "stdout",
     "output_type": "stream",
     "text": [
      "3826\n"
     ]
    }
   ],
   "source": [
    "# counting clear duplicates\n",
    "print(df.duplicated().sum())"
   ]
  },
  {
   "cell_type": "markdown",
   "metadata": {
    "id": "Ot25h6XR_Zct"
   },
   "source": [
    "Call the `pandas` method for getting rid of obvious duplicates:"
   ]
  },
  {
   "cell_type": "code",
   "execution_count": 12,
   "metadata": {
    "id": "exFHq6tt_Zct"
   },
   "outputs": [],
   "source": [
    "# removing obvious duplicates\n",
    "df = df.drop_duplicates()"
   ]
  },
  {
   "cell_type": "code",
   "execution_count": 13,
   "metadata": {
    "id": "-8PuNWQ0_Zct"
   },
   "outputs": [
    {
     "name": "stdout",
     "output_type": "stream",
     "text": [
      "0\n"
     ]
    }
   ],
   "source": [
    "# checking for duplicates\n",
    "print(df.duplicated().sum())"
   ]
  },
  {
   "cell_type": "markdown",
   "metadata": {
    "id": "QlFBsxAr_Zct"
   },
   "source": [
    "Now we'll get rid of implicit duplicates in the `genre` column. For example, the name of a genre can be written in different ways. Such errors will also affect the result."
   ]
  },
  {
   "cell_type": "markdown",
   "metadata": {
    "id": "eSjWwsOh_Zct"
   },
   "source": [
    "Let's print a list of unique genre names, sorted in alphabetical order. To do so we will:\n",
    "* Retrieve the intended DataFrame column \n",
    "* Apply a sorting method to it\n",
    "* For the sorted column, call the method that will return all unique column values"
   ]
  },
  {
   "cell_type": "code",
   "execution_count": 14,
   "metadata": {
    "id": "JIUcqzZN_Zct"
   },
   "outputs": [
    {
     "name": "stdout",
     "output_type": "stream",
     "text": [
      "['acid' 'acoustic' 'action' 'adult' 'africa' 'afrikaans' 'alternative'\n",
      " 'ambient' 'americana' 'animated' 'anime' 'arabesk' 'arabic' 'arena'\n",
      " 'argentinetango' 'art' 'audiobook' 'avantgarde' 'axé' 'baile' 'balkan'\n",
      " 'beats' 'bigroom' 'black' 'bluegrass' 'blues' 'bollywood' 'bossa'\n",
      " 'brazilian' 'breakbeat' 'breaks' 'broadway' 'cantautori' 'cantopop'\n",
      " 'canzone' 'caribbean' 'caucasian' 'celtic' 'chamber' 'children' 'chill'\n",
      " 'chinese' 'choral' 'christian' 'christmas' 'classical' 'classicmetal'\n",
      " 'club' 'colombian' 'comedy' 'conjazz' 'contemporary' 'country' 'cuban'\n",
      " 'dance' 'dancehall' 'dancepop' 'dark' 'death' 'deep' 'deutschrock'\n",
      " 'deutschspr' 'dirty' 'disco' 'dnb' 'documentary' 'downbeat' 'downtempo'\n",
      " 'drum' 'dub' 'dubstep' 'eastern' 'easy' 'electronic' 'electropop' 'emo'\n",
      " 'entehno' 'epicmetal' 'estrada' 'ethnic' 'eurofolk' 'european'\n",
      " 'experimental' 'extrememetal' 'fado' 'film' 'fitness' 'flamenco' 'folk'\n",
      " 'folklore' 'folkmetal' 'folkrock' 'folktronica' 'forró' 'frankreich'\n",
      " 'französisch' 'french' 'funk' 'future' 'gangsta' 'garage' 'german'\n",
      " 'ghazal' 'gitarre' 'glitch' 'gospel' 'gothic' 'grime' 'grunge' 'gypsy'\n",
      " 'handsup' \"hard'n'heavy\" 'hardcore' 'hardstyle' 'hardtechno' 'hip'\n",
      " 'hip-hop' 'hiphop' 'historisch' 'holiday' 'hop' 'horror' 'house' 'idm'\n",
      " 'independent' 'indian' 'indie' 'indipop' 'industrial' 'inspirational'\n",
      " 'instrumental' 'international' 'irish' 'jam' 'japanese' 'jazz' 'jewish'\n",
      " 'jpop' 'jungle' 'k-pop' 'karadeniz' 'karaoke' 'kayokyoku' 'korean'\n",
      " 'laiko' 'latin' 'latino' 'leftfield' 'local' 'lounge' 'loungeelectronic'\n",
      " 'lovers' 'malaysian' 'mandopop' 'marschmusik' 'meditative'\n",
      " 'mediterranean' 'melodic' 'metal' 'metalcore' 'mexican' 'middle'\n",
      " 'minimal' 'miscellaneous' 'modern' 'mood' 'mpb' 'muslim' 'native'\n",
      " 'neoklassik' 'neue' 'new' 'newage' 'newwave' 'nu' 'nujazz' 'numetal'\n",
      " 'oceania' 'old' 'opera' 'orchestral' 'other' 'piano' 'pop'\n",
      " 'popelectronic' 'popeurodance' 'post' 'posthardcore' 'postrock' 'power'\n",
      " 'progmetal' 'progressive' 'psychedelic' 'punjabi' 'punk' 'quebecois'\n",
      " 'ragga' 'ram' 'rancheras' 'rap' 'rave' 'reggae' 'reggaeton' 'regional'\n",
      " 'relax' 'religious' 'retro' 'rhythm' 'rnb' 'rnr' 'rock' 'rockabilly'\n",
      " 'romance' 'roots' 'ruspop' 'rusrap' 'rusrock' 'salsa' 'samba' 'schlager'\n",
      " 'self' 'sertanejo' 'shoegazing' 'showtunes' 'singer' 'ska' 'slow'\n",
      " 'smooth' 'soul' 'soulful' 'sound' 'soundtrack' 'southern' 'specialty'\n",
      " 'speech' 'spiritual' 'sport' 'stonerrock' 'surf' 'swing' 'synthpop'\n",
      " 'sängerportrait' 'tango' 'tanzorchester' 'taraftar' 'tech' 'techno'\n",
      " 'thrash' 'top' 'traditional' 'tradjazz' 'trance' 'tribal' 'trip'\n",
      " 'triphop' 'tropical' 'türk' 'türkçe' 'unknown' 'urban' 'uzbek' 'variété'\n",
      " 'vi' 'videogame' 'vocal' 'western' 'world' 'worldbeat' 'ïîï']\n"
     ]
    }
   ],
   "source": [
    "# viewing unique genre names\n",
    "part_df = df[['genre']]\n",
    "part_df = part_df.sort_values(by='genre')\n",
    "print(part_df['genre'].unique())\n"
   ]
  },
  {
   "cell_type": "markdown",
   "metadata": {
    "id": "qej-Qmuo_Zct"
   },
   "source": [
    "Let's look through the list to find implicit duplicates of the genre `hiphop`. These could be names written incorrectly or alternative names of the same genre.\n",
    "\n",
    "We will see the following implicit duplicates:\n",
    "* `hip`\n",
    "* `hop`\n",
    "* `hip-hop`\n",
    "\n",
    "To get rid of them, we'll declare the function `replace_wrong_genres()` with two parameters: \n",
    "* `wrong_genres=` — the list of duplicates\n",
    "* `correct_genre=` — the string with the correct value\n",
    "\n",
    "The function should correct the names in the `'genre'` column from the `df` table, i.e. replace each value from the `wrong_genres` list with the value in `correct_genre`."
   ]
  },
  {
   "cell_type": "code",
   "execution_count": 15,
   "metadata": {
    "id": "ErNDkmns_Zct"
   },
   "outputs": [],
   "source": [
    "# function for replacing implicit duplicates\n",
    "def replace_wrong_genres(wrong_genre, correct_genre): # passing a list of wrong genre and a string with the correct genre on the function's input\n",
    "    for wrong_genre in wrong_genre: # looping over misspelled genre\n",
    "        df['genre'] = df['genre'].replace(wrong_genre, correct_genre) # calling replace() for each wrong\n",
    "duplicates = ['hip', 'hip-hop', 'hop'] # a list of misspelled names\n",
    "genre = 'hiphop' # correct name\n",
    "replace_wrong_genres(duplicates, genre)\n"
   ]
  },
  {
   "cell_type": "markdown",
   "metadata": {
    "id": "aDoBJxbA_Zct"
   },
   "source": [
    "Call `replace_wrong_genres()` and pass it arguments so that it clears implicit duplcates (`hip`, `hop`, and `hip-hop`) and replaces them with `hiphop`:"
   ]
  },
  {
   "cell_type": "code",
   "execution_count": 16,
   "metadata": {
    "id": "YN5i2hpmSo09"
   },
   "outputs": [
    {
     "name": "stdout",
     "output_type": "stream",
     "text": [
      "           genre\n",
      "32883       acid\n",
      "3650    acoustic\n",
      "20644   acoustic\n",
      "39129   acoustic\n",
      "14811   acoustic\n",
      "...          ...\n",
      "6189       world\n",
      "18268      world\n",
      "28665  worldbeat\n",
      "40493  worldbeat\n",
      "8514         ïîï\n",
      "\n",
      "[61253 rows x 1 columns]\n"
     ]
    }
   ],
   "source": [
    "print(part_df) # the new DataFrame without duplicates "
   ]
  },
  {
   "cell_type": "markdown",
   "metadata": {
    "id": "zQKF16_RG15m"
   },
   "source": [
    "Making sure the duplicate names were removed. Printing the list of unique values from the `'genre'` column:"
   ]
  },
  {
   "cell_type": "code",
   "execution_count": 17,
   "metadata": {
    "id": "wvixALnFG15m"
   },
   "outputs": [
    {
     "name": "stdout",
     "output_type": "stream",
     "text": [
      "['acid' 'acoustic' 'action' 'adult' 'africa' 'afrikaans' 'alternative'\n",
      " 'ambient' 'americana' 'animated' 'anime' 'arabesk' 'arabic' 'arena'\n",
      " 'argentinetango' 'art' 'audiobook' 'avantgarde' 'axé' 'baile' 'balkan'\n",
      " 'beats' 'bigroom' 'black' 'bluegrass' 'blues' 'bollywood' 'bossa'\n",
      " 'brazilian' 'breakbeat' 'breaks' 'broadway' 'cantautori' 'cantopop'\n",
      " 'canzone' 'caribbean' 'caucasian' 'celtic' 'chamber' 'children' 'chill'\n",
      " 'chinese' 'choral' 'christian' 'christmas' 'classical' 'classicmetal'\n",
      " 'club' 'colombian' 'comedy' 'conjazz' 'contemporary' 'country' 'cuban'\n",
      " 'dance' 'dancehall' 'dancepop' 'dark' 'death' 'deep' 'deutschrock'\n",
      " 'deutschspr' 'dirty' 'disco' 'dnb' 'documentary' 'downbeat' 'downtempo'\n",
      " 'drum' 'dub' 'dubstep' 'eastern' 'easy' 'electronic' 'electropop' 'emo'\n",
      " 'entehno' 'epicmetal' 'estrada' 'ethnic' 'eurofolk' 'european'\n",
      " 'experimental' 'extrememetal' 'fado' 'film' 'fitness' 'flamenco' 'folk'\n",
      " 'folklore' 'folkmetal' 'folkrock' 'folktronica' 'forró' 'frankreich'\n",
      " 'französisch' 'french' 'funk' 'future' 'gangsta' 'garage' 'german'\n",
      " 'ghazal' 'gitarre' 'glitch' 'gospel' 'gothic' 'grime' 'grunge' 'gypsy'\n",
      " 'handsup' \"hard'n'heavy\" 'hardcore' 'hardstyle' 'hardtechno' 'hip'\n",
      " 'hip-hop' 'hiphop' 'historisch' 'holiday' 'hop' 'horror' 'house' 'idm'\n",
      " 'independent' 'indian' 'indie' 'indipop' 'industrial' 'inspirational'\n",
      " 'instrumental' 'international' 'irish' 'jam' 'japanese' 'jazz' 'jewish'\n",
      " 'jpop' 'jungle' 'k-pop' 'karadeniz' 'karaoke' 'kayokyoku' 'korean'\n",
      " 'laiko' 'latin' 'latino' 'leftfield' 'local' 'lounge' 'loungeelectronic'\n",
      " 'lovers' 'malaysian' 'mandopop' 'marschmusik' 'meditative'\n",
      " 'mediterranean' 'melodic' 'metal' 'metalcore' 'mexican' 'middle'\n",
      " 'minimal' 'miscellaneous' 'modern' 'mood' 'mpb' 'muslim' 'native'\n",
      " 'neoklassik' 'neue' 'new' 'newage' 'newwave' 'nu' 'nujazz' 'numetal'\n",
      " 'oceania' 'old' 'opera' 'orchestral' 'other' 'piano' 'pop'\n",
      " 'popelectronic' 'popeurodance' 'post' 'posthardcore' 'postrock' 'power'\n",
      " 'progmetal' 'progressive' 'psychedelic' 'punjabi' 'punk' 'quebecois'\n",
      " 'ragga' 'ram' 'rancheras' 'rap' 'rave' 'reggae' 'reggaeton' 'regional'\n",
      " 'relax' 'religious' 'retro' 'rhythm' 'rnb' 'rnr' 'rock' 'rockabilly'\n",
      " 'romance' 'roots' 'ruspop' 'rusrap' 'rusrock' 'salsa' 'samba' 'schlager'\n",
      " 'self' 'sertanejo' 'shoegazing' 'showtunes' 'singer' 'ska' 'slow'\n",
      " 'smooth' 'soul' 'soulful' 'sound' 'soundtrack' 'southern' 'specialty'\n",
      " 'speech' 'spiritual' 'sport' 'stonerrock' 'surf' 'swing' 'synthpop'\n",
      " 'sängerportrait' 'tango' 'tanzorchester' 'taraftar' 'tech' 'techno'\n",
      " 'thrash' 'top' 'traditional' 'tradjazz' 'trance' 'tribal' 'trip'\n",
      " 'triphop' 'tropical' 'türk' 'türkçe' 'unknown' 'urban' 'uzbek' 'variété'\n",
      " 'vi' 'videogame' 'vocal' 'western' 'world' 'worldbeat' 'ïîï']\n"
     ]
    }
   ],
   "source": [
    "# checking for implicit duplicates\n",
    "print(part_df['genre'].unique())"
   ]
  },
  {
   "cell_type": "markdown",
   "metadata": {
    "id": "ALgNbvF3VtPA"
   },
   "source": [
    "[Back to Contents](#back)"
   ]
  },
  {
   "cell_type": "markdown",
   "metadata": {
    "id": "jz6a9-7HQUDd"
   },
   "source": [
    "### Conclusions <a id='data_preprocessing_conclusions'></a>\n",
    "We detected three issues with the data:\n",
    "\n",
    "- Incorrect header styles\n",
    "- Missing values\n",
    "- Obvious and implicit duplicates\n",
    "\n",
    "The headers have been cleaned up to make processing the table simpler.\n",
    "\n",
    "All missing values have been replaced with `'unknown'`. But we still have to see whether the missing values in `'genre'` will affect our calculations.\n",
    "\n",
    "The absence of duplicates will make the results more precise and easier to understand.\n",
    "\n",
    "Now we can move on to testing hypotheses. "
   ]
  },
  {
   "cell_type": "markdown",
   "metadata": {
    "id": "eK1es74rVujj"
   },
   "source": [
    "[Back to Contents](#back)"
   ]
  },
  {
   "cell_type": "markdown",
   "metadata": {
    "id": "WttZHXH0SqKk"
   },
   "source": [
    "## Stage 3. Testing hypotheses <a id='hypotheses'></a>"
   ]
  },
  {
   "cell_type": "markdown",
   "metadata": {
    "id": "Im936VVi_Zcu"
   },
   "source": [
    "### Hypothesis 1: comparing user behavior in two cities <a id='activity'></a>"
   ]
  },
  {
   "cell_type": "markdown",
   "metadata": {
    "id": "nwt_MuaL_Zcu"
   },
   "source": [
    "According to the first hypothesis, users from Springfield and Shelbyville listen to music differently. Let's test this using the data on three days of the week: Monday, Wednesday, and Friday. We will:\n",
    "\n",
    "* Divide the users into groups by city.\n",
    "* Compare how many tracks each group played on Monday, Wednesday, and Friday.\n"
   ]
  },
  {
   "cell_type": "markdown",
   "metadata": {
    "id": "8Dw_YMmT_Zcu"
   },
   "source": [
    "For the sake of practice, let's perform each computation separately. \n",
    "\n",
    "Then we'll evaluate user activity in each city, group the data by city and find the number of songs played in each group.\n",
    "\n"
   ]
  },
  {
   "cell_type": "code",
   "execution_count": 18,
   "metadata": {
    "id": "0_Qs96oh_Zcu"
   },
   "outputs": [
    {
     "name": "stdout",
     "output_type": "stream",
     "text": [
      "city\n",
      "Shelbyville    18512\n",
      "Springfield    42741\n",
      "Name: genre, dtype: int64\n"
     ]
    }
   ],
   "source": [
    "# Counting up the tracks played in each city\n",
    "\n",
    "print(df.groupby('city')['genre'].count())"
   ]
  },
  {
   "cell_type": "markdown",
   "metadata": {
    "id": "dzli3w8o_Zcu"
   },
   "source": [
    "Springfield has more tracks played than Shelbyville. But that does not imply that citizens of Springfield listen to music more often. This city is simply bigger, and there are more users.\n",
    "\n",
    "Now we'll group the data by day of the week and find the number of tracks played on Monday, Wednesday, and Friday.\n"
   ]
  },
  {
   "cell_type": "code",
   "execution_count": 19,
   "metadata": {
    "id": "uZMKjiJz_Zcu"
   },
   "outputs": [
    {
     "name": "stdout",
     "output_type": "stream",
     "text": [
      "day\n",
      "Friday       21840\n",
      "Monday       21354\n",
      "Wednesday    18059\n",
      "Name: genre, dtype: int64\n"
     ]
    }
   ],
   "source": [
    "# Calculating tracks played on each of the three days\n",
    "\n",
    "print(df.groupby('day')['genre'].count())"
   ]
  },
  {
   "cell_type": "markdown",
   "metadata": {
    "id": "cC2tNrlL_Zcu"
   },
   "source": [
    "Wednesday is the quietest day overall. But if we consider the two cities separately, we might come to a different conclusion."
   ]
  },
  {
   "cell_type": "markdown",
   "metadata": {
    "id": "POzs8bGa_Zcu"
   },
   "source": [
    "We have seen how grouping by city or day works. Now let's write a function that will group by both.\n",
    "\n",
    "We'll create the `number_tracks()` function to calculate the number of songs played for a given day and city. It will require two parameters:\n",
    "* day of the week\n",
    "* name of the city\n",
    "\n",
    "In the function, we'll use a variable to store the rows from the original table, where:\n",
    "  * `'day'` column value is equal to the `day` parameter\n",
    "  * `'city'` column value is equal to the `city` parameter\n",
    "\n",
    "We'll apply consecutive filtering with logical indexing.\n",
    "\n",
    "Then we'll calculate the `'user_id'` column values in the resulting table and store the result to a new variable. Then we'll return this variable from the function."
   ]
  },
  {
   "cell_type": "code",
   "execution_count": 20,
   "metadata": {
    "id": "Nz3GdQB1_Zcu"
   },
   "outputs": [
    {
     "name": "stdout",
     "output_type": "stream",
     "text": [
      "15740\n"
     ]
    }
   ],
   "source": [
    "# <creating the function number_tracks()>\n",
    "# We'll declare a function with two parameters: day=, city=.\n",
    "def number_tracks(day,city):\n",
    "    \n",
    "# Let the track_list variable store the df rows where\n",
    "# the value in the 'day' column is equal to the day= parameter and, at the same time, \n",
    "# the value in the 'city' column is equal to the city= parameter (apply consecutive filtering \n",
    "# with logical indexing).\n",
    "    track_list=df[df['day']==day]\n",
    "    track_list=track_list[track_list['city']==city]\n",
    "    \n",
    "# Let the track_list_count variable store the number of 'user_id' column values in track_list\n",
    "# (found with the count() method).\n",
    "  \n",
    "    track_list_count=track_list['user_id'].count()\n",
    "\n",
    "# Let the function return a number: the value of track_list_count.\n",
    "    return track_list_count\n",
    "\n",
    "# The function counts tracked played for a certain city and day.\n",
    "# It first retrieves the rows with the intended day from the table,\n",
    "# then filters out the rows with the intended city from the result,\n",
    "# then finds the number of 'user_id' values in the filtered table,\n",
    "# then returns that number.\n",
    "# To see what it returns, wrap the function call in print().\n",
    "print(number_tracks('Monday','Springfield'))"
   ]
  },
  {
   "cell_type": "markdown",
   "metadata": {
    "id": "ytf7xFrFJQ2r"
   },
   "source": [
    "Let's call `number_tracks()` six times, changing the parameter values, so that we retrieve the data on both cities for each of the three days."
   ]
  },
  {
   "cell_type": "code",
   "execution_count": 21,
   "metadata": {
    "id": "rJcRATNQ_Zcu"
   },
   "outputs": [
    {
     "data": {
      "text/plain": [
       "15740"
      ]
     },
     "execution_count": 21,
     "metadata": {},
     "output_type": "execute_result"
    }
   ],
   "source": [
    "# the number of songs played in Springfield on Monday\n",
    "number_tracks(day='Monday',city='Springfield')"
   ]
  },
  {
   "cell_type": "code",
   "execution_count": 22,
   "metadata": {
    "id": "hq_ncZ5T_Zcu"
   },
   "outputs": [
    {
     "name": "stdout",
     "output_type": "stream",
     "text": [
      "5614\n"
     ]
    }
   ],
   "source": [
    "# the number of songs played in Shelbyville on Monday\n",
    "print(number_tracks('Monday','Shelbyville'))"
   ]
  },
  {
   "cell_type": "code",
   "execution_count": 23,
   "metadata": {
    "id": "_NTy2VPU_Zcu"
   },
   "outputs": [
    {
     "data": {
      "text/plain": [
       "11056"
      ]
     },
     "execution_count": 23,
     "metadata": {},
     "output_type": "execute_result"
    }
   ],
   "source": [
    "# the number of songs played in Springfield on Wednesday\n",
    "number_tracks(day='Wednesday',city='Springfield')"
   ]
  },
  {
   "cell_type": "code",
   "execution_count": 24,
   "metadata": {
    "id": "j2y3TAwo_Zcu"
   },
   "outputs": [
    {
     "data": {
      "text/plain": [
       "7003"
      ]
     },
     "execution_count": 24,
     "metadata": {},
     "output_type": "execute_result"
    }
   ],
   "source": [
    "# the number of songs played in Shelbyville on Wednesday\n",
    "number_tracks(day='Wednesday',city='Shelbyville')"
   ]
  },
  {
   "cell_type": "code",
   "execution_count": 25,
   "metadata": {
    "id": "vYDw5u_K_Zcu"
   },
   "outputs": [
    {
     "data": {
      "text/plain": [
       "15945"
      ]
     },
     "execution_count": 25,
     "metadata": {},
     "output_type": "execute_result"
    }
   ],
   "source": [
    "# the number of songs played in Springfield on Friday\n",
    "number_tracks(day='Friday',city='Springfield')"
   ]
  },
  {
   "cell_type": "code",
   "execution_count": 26,
   "metadata": {
    "id": "8_yzFtW3_Zcu"
   },
   "outputs": [
    {
     "data": {
      "text/plain": [
       "5895"
      ]
     },
     "execution_count": 26,
     "metadata": {},
     "output_type": "execute_result"
    }
   ],
   "source": [
    "# the number of songs played in Shelbyville on Friday\n",
    "number_tracks(day='Friday',city='Shelbyville')"
   ]
  },
  {
   "cell_type": "markdown",
   "metadata": {
    "id": "7QXffbO-_Zcu"
   },
   "source": [
    "We'll create the table with results, using `pd.DataFrame`, where\n",
    "* Column names are: `['city', 'monday', 'wednesday', 'friday']`\n",
    "* The data is the results you got from `number_tracks()`"
   ]
  },
  {
   "cell_type": "code",
   "execution_count": 27,
   "metadata": {
    "id": "APAcLpOr_Zcu"
   },
   "outputs": [
    {
     "name": "stdout",
     "output_type": "stream",
     "text": [
      "          city monday wednesday friday\n",
      "0  Springfield  16715     11755  16890\n",
      "1  Shelbyville   5982      7478   6259\n"
     ]
    }
   ],
   "source": [
    "# table with results\n",
    "music=[\n",
    "     ['Springfield', '16715', '11755', '16890'],  \n",
    "        ['Shelbyville', '5982', '7478', '6259'],  \n",
    "       ]\n",
    "column_names = ['city', 'monday', 'wednesday', 'friday']\n",
    "music_analysis = pd.DataFrame(music, columns=column_names)\n",
    "print(music_analysis)"
   ]
  },
  {
   "cell_type": "markdown",
   "metadata": {
    "id": "-EgPIHYu_Zcu"
   },
   "source": [
    "**Conclusions**\n",
    "\n",
    "The data reveals differences in user behavior:\n",
    "\n",
    "- In Springfield, the number of songs played peaks on Mondays and Fridays, while on Wednesday there is a decrease in activity.\n",
    "- In Shelbyville, on the contrary, users listen to music more on Wednesday. User activity on Monday and Friday is smaller.\n",
    "\n",
    "So the first hypothesis seems to be correct."
   ]
  },
  {
   "cell_type": "markdown",
   "metadata": {
    "id": "p7nFQajCVw5B"
   },
   "source": [
    "[Back to Contents](#back)"
   ]
  },
  {
   "cell_type": "markdown",
   "metadata": {
    "id": "atZAxtq4_Zcu"
   },
   "source": [
    "### Hypothesis 2: music at the beginning and end of the week <a id='week'></a>"
   ]
  },
  {
   "cell_type": "markdown",
   "metadata": {
    "id": "eXrQqXFH_Zcu"
   },
   "source": [
    "According to the second hypothesis, on Monday morning and Friday night, citizens of Springfield listen to genres that differ from ones users from Shelbyville enjoy."
   ]
  },
  {
   "cell_type": "markdown",
   "metadata": {
    "id": "S8UcW6Hw_Zcu"
   },
   "source": [
    "Let's get tables (make sure that the name of your combined table matches the DataFrame given in the two code blocks below):\n",
    "* For Springfield — `spr_general`\n",
    "* For Shelbyville — `shel_general`"
   ]
  },
  {
   "cell_type": "code",
   "execution_count": 28,
   "metadata": {
    "id": "qeaFfM_P_Zcu",
    "pycharm": {
     "is_executing": true
    }
   },
   "outputs": [
    {
     "name": "stdout",
     "output_type": "stream",
     "text": [
      "        user_id                          track                   artist  \\\n",
      "1      55204538    Delayed Because of Accident         Andreas Rönnberg   \n",
      "4      E2DC1FAE                    Soul People               Space Echo   \n",
      "6      4CB90AA5                           True             Roman Messer   \n",
      "7      F03E1C1F               Feeling This Way          Polina Griffith   \n",
      "8      8FA1D3BE                       L’estate              Julia Dalia   \n",
      "...         ...                            ...                      ...   \n",
      "65073  83A474E7  I Worship Only What You Bleed  The Black Dahlia Murder   \n",
      "65074  729CBB09                        My Name                   McLean   \n",
      "65076  C5E3A0D5                      Jalopiina                  unknown   \n",
      "65077  321D0506                  Freight Train            Chas McDevitt   \n",
      "65078  3A64EF84      Tell Me Sweet Little Lies             Monica Lopez   \n",
      "\n",
      "              genre         city      time        day  \n",
      "1              rock  Springfield  14:07:09     Friday  \n",
      "4             dance  Springfield  08:34:34     Monday  \n",
      "6             dance  Springfield  13:00:07  Wednesday  \n",
      "7             dance  Springfield  20:47:49  Wednesday  \n",
      "8            ruspop  Springfield  09:17:40     Friday  \n",
      "...             ...          ...       ...        ...  \n",
      "65073  extrememetal  Springfield  21:07:12     Monday  \n",
      "65074           rnb  Springfield  13:32:28  Wednesday  \n",
      "65076    industrial  Springfield  20:09:26     Friday  \n",
      "65077          rock  Springfield  21:43:59     Friday  \n",
      "65078       country  Springfield  21:59:46     Friday  \n",
      "\n",
      "[42741 rows x 7 columns]\n"
     ]
    }
   ],
   "source": [
    "# create the spr_general table from the df rows, \n",
    "# where the value in the 'city' column is 'Springfield'\n",
    "spr_general=df[df['city'] == 'Springfield'] \n",
    "print(spr_general)\n"
   ]
  },
  {
   "cell_type": "code",
   "execution_count": 29,
   "metadata": {
    "id": "ORaVRKto_Zcu",
    "scrolled": false
   },
   "outputs": [
    {
     "name": "stdout",
     "output_type": "stream",
     "text": [
      "        user_id                              track              artist  \\\n",
      "0      FFB692EC                  Kamigata To Boots    The Mass Missile   \n",
      "2        20EC38                  Funiculì funiculà         Mario Lanza   \n",
      "3      A3DD03C9              Dragons in the Sunset          Fire + Ice   \n",
      "5      842029A1                             Chains            Obladaet   \n",
      "9      E772D5C0                          Pessimist             unknown   \n",
      "...         ...                                ...                 ...   \n",
      "65063  D94F810B        Theme from the Walking Dead  Proyecto Halloween   \n",
      "65064  BC8EC5CF       Red Lips: Gta (Rover Rework)               Rover   \n",
      "65065  29E04611                       Bre Petrunko       Perunika Trio   \n",
      "65066  1B91C621             (Hello) Cloud Mountain     sleepmakeswaves   \n",
      "65075  D08D4A55  Maybe One Day (feat. Black Spade)         Blu & Exile   \n",
      "\n",
      "            genre         city      time        day  \n",
      "0            rock  Shelbyville  20:28:33  Wednesday  \n",
      "2             pop  Shelbyville  20:58:07  Wednesday  \n",
      "3            folk  Shelbyville  08:37:09     Monday  \n",
      "5          rusrap  Shelbyville  13:09:41     Friday  \n",
      "9           dance  Shelbyville  21:20:49  Wednesday  \n",
      "...           ...          ...       ...        ...  \n",
      "65063        film  Shelbyville  21:14:40     Monday  \n",
      "65064  electronic  Shelbyville  21:06:50     Monday  \n",
      "65065       world  Shelbyville  13:56:00     Monday  \n",
      "65066    postrock  Shelbyville  09:22:13     Monday  \n",
      "65075      hiphop  Shelbyville  10:00:00     Monday  \n",
      "\n",
      "[18512 rows x 7 columns]\n"
     ]
    }
   ],
   "source": [
    "# create the shel_general from the df rows,\n",
    "# where the value in the 'city' column is 'Shelbyville'\n",
    "shel_general=df[df['city'] == 'Shelbyville'] \n",
    "print(shel_general)"
   ]
  },
  {
   "cell_type": "markdown",
   "metadata": {
    "id": "MEJV-CX2_Zcu"
   },
   "source": [
    "Let's write the `genre_weekday()` function with four parameters:\n",
    "* A table for data (`df`)\n",
    "* The day of the week (`day`)\n",
    "* The first timestamp, in 'hh:mm' format (`time1`)\n",
    "* The last timestamp, in 'hh:mm' format (`time2`)\n",
    "\n",
    "The function should return info on the 15 most popular genres on a given day within the period between the two timestamps."
   ]
  },
  {
   "cell_type": "code",
   "execution_count": 30,
   "metadata": {
    "id": "laJT9BYl_Zcu"
   },
   "outputs": [
    {
     "name": "stdout",
     "output_type": "stream",
     "text": [
      "genre\n",
      "pop            2914\n",
      "dance          2241\n",
      "rock           2090\n",
      "electronic     1986\n",
      "hiphop         1143\n",
      "classical       825\n",
      "alternative     725\n",
      "ruspop          706\n",
      "world           694\n",
      "rusrap          614\n",
      "jazz            502\n",
      "metal           428\n",
      "soundtrack      406\n",
      "unknown         358\n",
      "latin           345\n",
      "Name: genre, dtype: int64\n"
     ]
    }
   ],
   "source": [
    "# 1) Let the genre_df variable store the rows that meet several conditions:\n",
    "#    - the value in the 'day' column is equal to the value of the day= argument\n",
    "#    - the value in the 'time' column is greater than the value of the time1= argument\n",
    "#    - the value in the 'time' column is smaller than the value of the time2= argument\n",
    "#    Use consecutive filtering with logical indexing.\n",
    "\n",
    "# 2) Group genre_df by the 'genre' column, take one of its columns, \n",
    "#    and use the count() method to find the number of entries for each of \n",
    "#    the represented genres; store the resulting Series to the\n",
    "#    genre_df_count variable\n",
    "\n",
    "# 3) Sort genre_df_count in descending order of frequency and store the result\n",
    "#    to the genre_df_sorted variable\n",
    "      \n",
    "# 4) Return a Series object with the first 15 genre_df_sorted value - the 15 most\n",
    "#    popular genres (on a given day, within a certain timeframe)\n",
    "\n",
    "# Write your function here\n",
    "\n",
    "def genre_weekday (day, time1, time2):\n",
    "    \n",
    "    # consecutive filtering\n",
    "    # Create the variable genre_df which will store only those df rows where the day is equal to day=\n",
    "    genre_df = df[df['day']==day] # write your code here\n",
    "\n",
    "    \n",
    "    # filter again so that genre_df will store only those rows where the time is smaller than time2=\n",
    "    genre_df = genre_df[genre_df['time']<time2] # write your code here\n",
    "\n",
    "    # filter once more so that genre_df will store only rows where the time is greater than time1=\n",
    "    genre_df = genre_df[genre_df['time']>time1] # write your code here\n",
    "\n",
    "    # group the filtered DataFrame by the column with the names of genres, take the genre column, and find the number of rows for each genre with the count() method\n",
    "    genre_df_count = genre_df.groupby('genre')['genre'].count() # write your code here\n",
    "  \n",
    "\n",
    "    # sort the result in descending order (so that the most popular genres come first in the Series object)\n",
    "    genre_df_sorted = genre_df_count.sort_values(ascending=False).head(15) # write your code here\n",
    "\n",
    "    # we will return the Series object storing the 15 most popular genres on a given day in a given timeframe\n",
    "    return genre_df_sorted\n",
    "\n",
    "print(genre_weekday('Friday','01:00:00','23:00:00'))"
   ]
  },
  {
   "cell_type": "markdown",
   "metadata": {
    "id": "la2s2_PF_Zcu"
   },
   "source": [
    "Let's compare the results of the `genre_weekday()` function for Springfield and Shelbyville on Monday morning (from 7AM to 11AM) and on Friday evening (from 17:00 to 23:00):"
   ]
  },
  {
   "cell_type": "code",
   "execution_count": 31,
   "metadata": {
    "id": "yz7itPUQ_Zcu"
   },
   "outputs": [
    {
     "name": "stdout",
     "output_type": "stream",
     "text": [
      "genre\n",
      "pop            781\n",
      "dance          549\n",
      "electronic     480\n",
      "rock           474\n",
      "hiphop         286\n",
      "ruspop         186\n",
      "world          181\n",
      "rusrap         175\n",
      "alternative    164\n",
      "unknown        161\n",
      "classical      157\n",
      "metal          120\n",
      "jazz           100\n",
      "folk            97\n",
      "soundtrack      95\n",
      "Name: genre, dtype: int64\n"
     ]
    }
   ],
   "source": [
    "# calling the function for Monday morning in Springfield (use spr_general instead of the df table)\n",
    "\n",
    "\n",
    "def genre_weekday (city, day, time1, time2):\n",
    "    \n",
    "    # consecutive filtering\n",
    "    # Create the variable genre_df which will store only those df rows where the day is equal to day=\n",
    "    genre_df = df[df['city']==city]\n",
    "    genre_df=genre_df[genre_df['day']==day]\n",
    "    # write your code here\n",
    "\n",
    "    \n",
    "    # filter again so that genre_df will store only those rows where the time is smaller than time2=\n",
    "    genre_df = genre_df[genre_df['time']<time2] # write your code here\n",
    "\n",
    "    # filter once more so that genre_df will store only rows where the time is greater than time1=\n",
    "    genre_df = genre_df[genre_df['time']>time1] # write your code here\n",
    "\n",
    "    # group the filtered DataFrame by the column with the names of genres, take the genre column, and find the number of rows for each genre with the count() method\n",
    "    genre_df_count = genre_df.groupby('genre')['genre'].count() # write your code here\n",
    "  \n",
    "\n",
    "    # sort the result in descending order (so that the most popular genres come first in the Series object)\n",
    "    genre_df_sorted = genre_df_count.sort_values(ascending=False).head(15) # write your code here\n",
    "\n",
    "    # we will return the Series object storing the 15 most popular genres on a given day in a given timeframe\n",
    "    return genre_df_sorted\n",
    "\n",
    "print(genre_weekday('Springfield','Monday','07:00:00','11:00:00'))\n"
   ]
  },
  {
   "cell_type": "code",
   "execution_count": 32,
   "metadata": {
    "id": "kwUcHPdy_Zcu"
   },
   "outputs": [
    {
     "name": "stdout",
     "output_type": "stream",
     "text": [
      "genre\n",
      "pop            218\n",
      "dance          182\n",
      "rock           162\n",
      "electronic     147\n",
      "hiphop          80\n",
      "ruspop          64\n",
      "alternative     58\n",
      "rusrap          55\n",
      "jazz            44\n",
      "classical       40\n",
      "world           36\n",
      "rap             32\n",
      "soundtrack      31\n",
      "rnb             27\n",
      "metal           27\n",
      "Name: genre, dtype: int64\n"
     ]
    }
   ],
   "source": [
    "# calling the function for Monday morning in Shelbyville (use shel_general instead of the df table)\n",
    "def genre_weekday (city, day, time1, time2):\n",
    "    \n",
    "    # consecutive filtering\n",
    "    # Create the variable genre_df which will store only those df rows where the day is equal to day=\n",
    "    genre_df = df[df['city']==city]\n",
    "    genre_df=genre_df[genre_df['day']==day]\n",
    "    # write your code here\n",
    "\n",
    "    \n",
    "    # filter again so that genre_df will store only those rows where the time is smaller than time2=\n",
    "    genre_df = genre_df[genre_df['time']<time2] # write your code here\n",
    "\n",
    "    # filter once more so that genre_df will store only rows where the time is greater than time1=\n",
    "    genre_df = genre_df[genre_df['time']>time1] # write your code here\n",
    "\n",
    "    # group the filtered DataFrame by the column with the names of genres, take the genre column, and find the number of rows for each genre with the count() method\n",
    "    genre_df_count = genre_df.groupby('genre')['genre'].count() # write your code here\n",
    "  \n",
    "\n",
    "    # sort the result in descending order (so that the most popular genres come first in the Series object)\n",
    "    genre_df_sorted = genre_df_count.sort_values(ascending=False).head(15) # write your code here\n",
    "\n",
    "    # we will return the Series object storing the 15 most popular genres on a given day in a given timeframe\n",
    "    return genre_df_sorted\n",
    "\n",
    "print(genre_weekday('Shelbyville','Monday','07:00:00','11:00:00'))\n",
    "\n",
    "\n"
   ]
  },
  {
   "cell_type": "code",
   "execution_count": 33,
   "metadata": {
    "id": "EzXVRE1o_Zcu"
   },
   "outputs": [
    {
     "name": "stdout",
     "output_type": "stream",
     "text": [
      "genre\n",
      "pop            713\n",
      "rock           517\n",
      "dance          495\n",
      "electronic     482\n",
      "hiphop         273\n",
      "world          208\n",
      "ruspop         170\n",
      "classical      163\n",
      "alternative    163\n",
      "rusrap         142\n",
      "jazz           111\n",
      "unknown        110\n",
      "soundtrack     105\n",
      "rnb             90\n",
      "metal           88\n",
      "Name: genre, dtype: int64\n"
     ]
    }
   ],
   "source": [
    "# calling the function for Friday evening in Springfield\n",
    "print(genre_weekday('Springfield','Friday','17:00:00','23:00:00'))"
   ]
  },
  {
   "cell_type": "code",
   "execution_count": 34,
   "metadata": {
    "id": "JZaEKu5v_Zcu"
   },
   "outputs": [
    {
     "name": "stdout",
     "output_type": "stream",
     "text": [
      "genre\n",
      "pop            256\n",
      "rock           216\n",
      "electronic     216\n",
      "dance          210\n",
      "hiphop          97\n",
      "alternative     63\n",
      "jazz            61\n",
      "classical       60\n",
      "rusrap          59\n",
      "world           54\n",
      "unknown         47\n",
      "ruspop          47\n",
      "soundtrack      40\n",
      "metal           39\n",
      "rap             36\n",
      "Name: genre, dtype: int64\n"
     ]
    }
   ],
   "source": [
    "# calling the function for Friday evening in Shelbyville\n",
    "print(genre_weekday('Shelbyville','Friday','17:00:00','23:00:00'))"
   ]
  },
  {
   "cell_type": "markdown",
   "metadata": {
    "id": "wrCe4MNX_Zcu"
   },
   "source": [
    "**Conclusion**\n",
    "\n",
    "Having compared the top 15 genres on Monday morning, we can draw the following conclusions:\n",
    "\n",
    "1. Users from Springfield and Shelbyville listen to similar music. The top five genres are the same, only rock and electronic have switched places.\n",
    "\n",
    "2. In Springfield, the number of missing values turned out to be so big that the value `'unknown'` came in 10th. This means that missing values make up a considerable portion of the data, which may be a basis for questioning the reliability of our conclusions.\n",
    "\n",
    "For Friday evening, the situation is similar. Individual genres vary somewhat, but on the whole, the top 15 is similar for the two cities.\n",
    "\n",
    "Thus, the second hypothesis has been partially proven true:\n",
    "* Users listen to similar music at the beginning and end of the week.\n",
    "* There is no major difference between Springfield and Shelbyville. In both cities, pop is the most popular genre.\n",
    "\n",
    "However, the number of missing values makes this result questionable. In Springfield, there are so many that they affect our top 15. Were we not missing these values, things might look different."
   ]
  },
  {
   "cell_type": "markdown",
   "metadata": {
    "id": "jLmXgdanVyhP"
   },
   "source": [
    "[Back to Contents](#back)"
   ]
  },
  {
   "cell_type": "markdown",
   "metadata": {
    "id": "JolODAqr_Zcu"
   },
   "source": [
    "### Hypothesis 3: genre preferences in Springfield and Shelbyville <a id='genre'></a>\n",
    "\n",
    "Hypothesis: Shelbyville loves rap music. Springfield's citizens are more into pop."
   ]
  },
  {
   "cell_type": "markdown",
   "metadata": {
    "id": "DlegSvaT_Zcu"
   },
   "source": [
    "Let's group the `spr_general` table by genre and find the number of songs played for each genre with the `count()` method. Then we'll sort the result in descending order and store it to `spr_genres`."
   ]
  },
  {
   "cell_type": "code",
   "execution_count": 35,
   "metadata": {
    "id": "r19lIPke_Zcu"
   },
   "outputs": [
    {
     "name": "stdout",
     "output_type": "stream",
     "text": [
      "genre\n",
      "pop            5892\n",
      "dance          4435\n",
      "rock           3965\n",
      "electronic     3786\n",
      "hiphop         2096\n",
      "               ... \n",
      "metalcore         1\n",
      "marschmusik       1\n",
      "malaysian         1\n",
      "lovers            1\n",
      "ïîï               1\n",
      "Name: genre, Length: 250, dtype: int64\n"
     ]
    }
   ],
   "source": [
    "# on one line: group the spr_general table by the 'genre' column,\n",
    "# count the 'genre' values with count() in the grouping, \n",
    "# sort the resulting Series in descending order, and store it to spr_genres\n",
    "spr_genres = (spr_general.groupby('genre')['genre'].count()).sort_values(ascending=False)\n",
    "print(spr_genres)\n"
   ]
  },
  {
   "cell_type": "markdown",
   "metadata": {
    "id": "6kMuomxTiIr8"
   },
   "source": [
    "Print the first 10 rows from `spr_genres`:"
   ]
  },
  {
   "cell_type": "code",
   "execution_count": 36,
   "metadata": {
    "id": "WhCSooF8_Zcv"
   },
   "outputs": [
    {
     "name": "stdout",
     "output_type": "stream",
     "text": [
      "genre\n",
      "pop            5892\n",
      "dance          4435\n",
      "rock           3965\n",
      "electronic     3786\n",
      "hiphop         2096\n",
      "classical      1616\n",
      "world          1432\n",
      "alternative    1379\n",
      "ruspop         1372\n",
      "rusrap         1161\n",
      "Name: genre, dtype: int64\n"
     ]
    }
   ],
   "source": [
    "# printing the first 10 rows of spr_genres\n",
    "print(spr_genres.head(10))"
   ]
  },
  {
   "cell_type": "markdown",
   "metadata": {
    "id": "cnPG2vnN_Zcv"
   },
   "source": [
    "Now do the same with the data on Shelbyville.\n",
    "\n",
    "Group the `shel_general` table by genre and find the number of songs played for each genre. Then sort the result in descending order and store it to the `shel_genres` table:\n"
   ]
  },
  {
   "cell_type": "code",
   "execution_count": 37,
   "metadata": {
    "id": "gluLIpE7_Zcv"
   },
   "outputs": [
    {
     "name": "stdout",
     "output_type": "stream",
     "text": [
      "genre\n",
      "pop           2431\n",
      "dance         1932\n",
      "rock          1879\n",
      "electronic    1736\n",
      "hiphop         960\n",
      "              ... \n",
      "mandopop         1\n",
      "leftfield        1\n",
      "laiko            1\n",
      "jungle           1\n",
      "worldbeat        1\n",
      "Name: genre, Length: 202, dtype: int64\n"
     ]
    }
   ],
   "source": [
    "# on one line: group the shel_general table by the 'genre' column, \n",
    "# count the 'genre' values in the grouping with count(), \n",
    "# sort the resulting Series in descending order and store it to shel_genres\n",
    "shel_genres = (shel_general.groupby('genre')['genre'].count()).sort_values(ascending=False)\n",
    "print(shel_genres)"
   ]
  },
  {
   "cell_type": "markdown",
   "metadata": {
    "id": "5Doha_ODgyQ8"
   },
   "source": [
    "Print the first 10 rows of `shel_genres`:"
   ]
  },
  {
   "cell_type": "code",
   "execution_count": 38,
   "metadata": {
    "id": "uaGJHjVU_Zcv"
   },
   "outputs": [
    {
     "name": "stdout",
     "output_type": "stream",
     "text": [
      "genre\n",
      "pop            2431\n",
      "dance          1932\n",
      "rock           1879\n",
      "electronic     1736\n",
      "hiphop          960\n",
      "alternative     649\n",
      "classical       646\n",
      "rusrap          564\n",
      "ruspop          538\n",
      "world           515\n",
      "Name: genre, dtype: int64\n"
     ]
    }
   ],
   "source": [
    "# printing the first 10 rows from shel_genres\n",
    "print(shel_genres.head(10))"
   ]
  },
  {
   "cell_type": "markdown",
   "metadata": {
    "id": "RY51YJYu_Zcv"
   },
   "source": [
    "**Conclusion**"
   ]
  },
  {
   "cell_type": "markdown",
   "metadata": {
    "id": "nVhnJEm__Zcv"
   },
   "source": [
    "The hypothesis has been partially proven true:\n",
    "* Pop music is the most popular genre in Springfield, as expected.\n",
    "* However, pop music turned out to be equally popular in Springfield and Shelbyville, and rap wasn't in the top 5 for either city.\n"
   ]
  },
  {
   "cell_type": "markdown",
   "metadata": {
    "id": "Byr0RfpPVz14"
   },
   "source": [
    "[Back to Contents](#back)"
   ]
  },
  {
   "cell_type": "markdown",
   "metadata": {
    "id": "ykKQ0N65_Zcv"
   },
   "source": [
    "# Findings <a id='end'></a>"
   ]
  },
  {
   "cell_type": "markdown",
   "metadata": {
    "id": "tjUwbHb3_Zcv"
   },
   "source": [
    "We have tested the following three hypotheses:\n",
    "\n",
    "1. User activity differs depending on the day of the week and from city to city. \n",
    "2. On Monday mornings, Springfield and Shelbyville residents listen to different genres. This is also true for Friday evenings. \n",
    "3. Springfield and Shelbyville listeners have different preferences. In both Springfield and Shelbyville, they prefer pop.\n",
    "\n",
    "After analyzing the data, we concluded:\n",
    "\n",
    "1. User activity in Springfield and Shelbyville depends on the day of the week, though the cities vary in different ways. \n",
    "\n",
    "The first hypothesis is fully accepted.\n",
    "\n",
    "2. Musical preferences do not vary significantly over the course of the week in both Springfield and Shelbyville. We can see small differences in order on Mondays, but:\n",
    "* In Springfield and Shelbyville, people listen to pop music most.\n",
    "\n",
    "So we can't accept this hypothesis. We must also keep in mind that the result could have been different if not for the missing values.\n",
    "\n",
    "3. It turns out that the musical preferences of users from Springfield and Shelbyville are quite similar.\n",
    "\n",
    "The third hypothesis is rejected. If there is any difference in preferences, it cannot be seen from this data.\n",
    "\n"
   ]
  },
  {
   "cell_type": "markdown",
   "metadata": {
    "id": "Ju4AHDSgV1FE"
   },
   "source": [
    "[Back to Contents](#back)"
   ]
  }
 ],
 "metadata": {
  "ExecuteTimeLog": [
   {
    "duration": 375,
    "start_time": "2022-07-14T10:00:45.365Z"
   },
   {
    "duration": 56,
    "start_time": "2022-07-14T10:01:02.974Z"
   },
   {
    "duration": 10,
    "start_time": "2022-07-14T10:14:25.407Z"
   },
   {
    "duration": 39,
    "start_time": "2022-07-14T10:14:36.508Z"
   },
   {
    "duration": 776,
    "start_time": "2022-07-14T10:15:13.534Z"
   },
   {
    "duration": 42,
    "start_time": "2022-07-14T10:16:26.406Z"
   },
   {
    "duration": 163,
    "start_time": "2022-07-14T10:16:50.497Z"
   },
   {
    "duration": 142,
    "start_time": "2022-07-14T10:17:16.837Z"
   },
   {
    "duration": 150,
    "start_time": "2022-07-14T10:17:57.320Z"
   },
   {
    "duration": 152,
    "start_time": "2022-07-14T10:18:11.553Z"
   },
   {
    "duration": 142,
    "start_time": "2022-07-14T10:19:48.314Z"
   },
   {
    "duration": 154,
    "start_time": "2022-07-14T10:20:20.189Z"
   },
   {
    "duration": 21,
    "start_time": "2022-07-14T10:34:25.335Z"
   },
   {
    "duration": 168,
    "start_time": "2022-07-14T10:46:28.450Z"
   },
   {
    "duration": 4,
    "start_time": "2022-07-14T11:02:10.779Z"
   },
   {
    "duration": 767,
    "start_time": "2022-07-14T12:46:25.303Z"
   },
   {
    "duration": 175,
    "start_time": "2022-07-14T12:46:33.434Z"
   },
   {
    "duration": 29,
    "start_time": "2022-07-14T12:47:36.541Z"
   },
   {
    "duration": 3,
    "start_time": "2022-07-14T12:47:42.912Z"
   },
   {
    "duration": 47,
    "start_time": "2022-07-15T07:02:48.410Z"
   },
   {
    "duration": 6,
    "start_time": "2022-07-15T07:02:53.791Z"
   },
   {
    "duration": 586,
    "start_time": "2022-07-15T07:03:49.846Z"
   },
   {
    "duration": 201,
    "start_time": "2022-07-15T07:03:55.033Z"
   },
   {
    "duration": 4,
    "start_time": "2022-07-15T07:04:10.373Z"
   },
   {
    "duration": 4,
    "start_time": "2022-07-15T07:05:16.733Z"
   },
   {
    "duration": 173,
    "start_time": "2022-07-15T07:05:22.766Z"
   },
   {
    "duration": 180,
    "start_time": "2022-07-15T07:05:33.018Z"
   },
   {
    "duration": 174,
    "start_time": "2022-07-15T07:05:53.293Z"
   },
   {
    "duration": 4,
    "start_time": "2022-07-15T07:05:55.395Z"
   },
   {
    "duration": 46,
    "start_time": "2022-07-15T09:14:02.556Z"
   },
   {
    "duration": 857,
    "start_time": "2022-07-15T09:14:18.051Z"
   },
   {
    "duration": 112,
    "start_time": "2022-07-15T09:24:25.490Z"
   },
   {
    "duration": 117,
    "start_time": "2022-07-15T09:24:27.684Z"
   },
   {
    "duration": 23,
    "start_time": "2022-07-15T09:24:41.190Z"
   },
   {
    "duration": 178,
    "start_time": "2022-07-15T09:25:25.829Z"
   },
   {
    "duration": 4,
    "start_time": "2022-07-15T09:25:28.245Z"
   },
   {
    "duration": 174,
    "start_time": "2022-07-15T09:25:34.487Z"
   },
   {
    "duration": 3,
    "start_time": "2022-07-15T09:25:35.778Z"
   },
   {
    "duration": 180,
    "start_time": "2022-07-15T09:25:39.763Z"
   },
   {
    "duration": 163,
    "start_time": "2022-07-15T09:26:08.429Z"
   },
   {
    "duration": 4,
    "start_time": "2022-07-15T09:26:10.369Z"
   },
   {
    "duration": 180,
    "start_time": "2022-07-15T09:26:13.636Z"
   },
   {
    "duration": 31,
    "start_time": "2022-07-15T09:26:25.130Z"
   },
   {
    "duration": 24,
    "start_time": "2022-07-15T09:26:32.554Z"
   },
   {
    "duration": 4,
    "start_time": "2022-07-15T09:27:04.763Z"
   },
   {
    "duration": 160,
    "start_time": "2022-07-15T09:27:06.165Z"
   },
   {
    "duration": 4,
    "start_time": "2022-07-15T09:27:07.874Z"
   },
   {
    "duration": 175,
    "start_time": "2022-07-15T09:27:20.970Z"
   },
   {
    "duration": 3,
    "start_time": "2022-07-15T09:27:22.417Z"
   },
   {
    "duration": 178,
    "start_time": "2022-07-15T09:27:24.821Z"
   },
   {
    "duration": 23,
    "start_time": "2022-07-15T09:27:37.103Z"
   },
   {
    "duration": 4,
    "start_time": "2022-07-15T09:27:45.264Z"
   },
   {
    "duration": 179,
    "start_time": "2022-07-15T09:28:09.637Z"
   },
   {
    "duration": 4,
    "start_time": "2022-07-15T09:28:10.939Z"
   },
   {
    "duration": 26,
    "start_time": "2022-07-15T09:28:13.841Z"
   },
   {
    "duration": 92,
    "start_time": "2022-07-15T09:28:16.821Z"
   },
   {
    "duration": 25,
    "start_time": "2022-07-15T09:28:18.318Z"
   },
   {
    "duration": 59,
    "start_time": "2022-07-15T09:28:54.945Z"
   },
   {
    "duration": 74,
    "start_time": "2022-07-15T09:33:38.205Z"
   },
   {
    "duration": 55,
    "start_time": "2022-07-15T09:34:04.778Z"
   },
   {
    "duration": 1574,
    "start_time": "2022-07-15T09:42:45.087Z"
   },
   {
    "duration": 55,
    "start_time": "2022-07-15T09:46:46.801Z"
   },
   {
    "duration": 236,
    "start_time": "2022-07-15T09:48:18.036Z"
   },
   {
    "duration": 4,
    "start_time": "2022-07-15T09:51:27.458Z"
   },
   {
    "duration": 8,
    "start_time": "2022-07-15T09:51:43.164Z"
   },
   {
    "duration": 5,
    "start_time": "2022-07-15T09:51:47.433Z"
   },
   {
    "duration": 6,
    "start_time": "2022-07-15T09:54:26.369Z"
   },
   {
    "duration": 7,
    "start_time": "2022-07-15T09:56:08.699Z"
   },
   {
    "duration": 13,
    "start_time": "2022-07-15T09:56:21.953Z"
   },
   {
    "duration": 51,
    "start_time": "2022-07-15T09:57:45.573Z"
   },
   {
    "duration": 5,
    "start_time": "2022-07-15T10:00:57.868Z"
   },
   {
    "duration": 37,
    "start_time": "2022-07-15T10:01:32.355Z"
   },
   {
    "duration": 45,
    "start_time": "2022-07-15T10:01:54.503Z"
   },
   {
    "duration": 45,
    "start_time": "2022-07-15T10:03:41.721Z"
   },
   {
    "duration": 81,
    "start_time": "2022-07-15T10:04:38.027Z"
   },
   {
    "duration": 54,
    "start_time": "2022-07-15T10:12:59.617Z"
   },
   {
    "duration": 40,
    "start_time": "2022-07-15T10:22:12.173Z"
   },
   {
    "duration": 3,
    "start_time": "2022-07-15T10:28:22.969Z"
   },
   {
    "duration": 7,
    "start_time": "2022-07-15T10:30:17.013Z"
   },
   {
    "duration": 9,
    "start_time": "2022-07-15T10:30:46.361Z"
   },
   {
    "duration": 10,
    "start_time": "2022-07-15T10:31:09.819Z"
   },
   {
    "duration": 3,
    "start_time": "2022-07-15T10:31:49.590Z"
   },
   {
    "duration": 15,
    "start_time": "2022-07-15T10:31:51.252Z"
   },
   {
    "duration": 7,
    "start_time": "2022-07-15T10:32:23.457Z"
   },
   {
    "duration": 3,
    "start_time": "2022-07-15T10:41:19.195Z"
   },
   {
    "duration": 16,
    "start_time": "2022-07-15T10:41:21.256Z"
   },
   {
    "duration": 8,
    "start_time": "2022-07-15T10:41:25.033Z"
   },
   {
    "duration": 7,
    "start_time": "2022-07-15T10:41:36.927Z"
   },
   {
    "duration": 7,
    "start_time": "2022-07-15T10:41:50.697Z"
   },
   {
    "duration": 3,
    "start_time": "2022-07-15T10:42:23.665Z"
   },
   {
    "duration": 25,
    "start_time": "2022-07-15T10:42:33.034Z"
   },
   {
    "duration": 7,
    "start_time": "2022-07-15T10:42:38.469Z"
   },
   {
    "duration": 13,
    "start_time": "2022-07-15T10:44:45.494Z"
   },
   {
    "duration": 7,
    "start_time": "2022-07-15T10:44:48.678Z"
   },
   {
    "duration": 3,
    "start_time": "2022-07-15T10:45:16.071Z"
   },
   {
    "duration": 20,
    "start_time": "2022-07-15T10:45:21.302Z"
   },
   {
    "duration": 16,
    "start_time": "2022-07-15T10:45:24.138Z"
   },
   {
    "duration": 20,
    "start_time": "2022-07-15T10:57:12.435Z"
   },
   {
    "duration": 10,
    "start_time": "2022-07-15T10:58:20.266Z"
   },
   {
    "duration": 86,
    "start_time": "2022-07-15T10:58:38.761Z"
   },
   {
    "duration": 84,
    "start_time": "2022-07-15T10:58:48.078Z"
   },
   {
    "duration": 90,
    "start_time": "2022-07-15T10:58:54.829Z"
   },
   {
    "duration": 134,
    "start_time": "2022-07-15T10:59:00.402Z"
   },
   {
    "duration": 85,
    "start_time": "2022-07-15T10:59:18.204Z"
   },
   {
    "duration": 33,
    "start_time": "2022-07-15T10:59:56.555Z"
   },
   {
    "duration": 184,
    "start_time": "2022-07-15T11:00:21.366Z"
   },
   {
    "duration": 4,
    "start_time": "2022-07-15T11:00:23.459Z"
   },
   {
    "duration": 31,
    "start_time": "2022-07-15T11:00:42.173Z"
   },
   {
    "duration": 8,
    "start_time": "2022-07-15T11:01:35.823Z"
   },
   {
    "duration": 9,
    "start_time": "2022-07-15T11:01:43.119Z"
   },
   {
    "duration": 36,
    "start_time": "2022-07-15T11:01:51.424Z"
   },
   {
    "duration": 192,
    "start_time": "2022-07-15T11:02:55.721Z"
   },
   {
    "duration": 13,
    "start_time": "2022-07-15T11:02:59.640Z"
   },
   {
    "duration": 24,
    "start_time": "2022-07-15T11:03:08.280Z"
   },
   {
    "duration": 33,
    "start_time": "2022-07-15T11:03:24.969Z"
   },
   {
    "duration": 35,
    "start_time": "2022-07-15T11:03:53.767Z"
   },
   {
    "duration": 4,
    "start_time": "2022-07-15T11:22:07.330Z"
   },
   {
    "duration": 6,
    "start_time": "2022-07-15T11:22:30.500Z"
   },
   {
    "duration": 9,
    "start_time": "2022-07-15T11:24:16.973Z"
   },
   {
    "duration": 40,
    "start_time": "2022-07-15T11:24:26.036Z"
   },
   {
    "duration": 4,
    "start_time": "2022-07-15T11:30:14.255Z"
   },
   {
    "duration": 9,
    "start_time": "2022-07-15T11:30:31.655Z"
   },
   {
    "duration": 4,
    "start_time": "2022-07-15T11:30:36.467Z"
   },
   {
    "duration": 119,
    "start_time": "2022-07-15T11:45:11.536Z"
   },
   {
    "duration": 5,
    "start_time": "2022-07-15T11:45:19.919Z"
   },
   {
    "duration": 6,
    "start_time": "2022-07-15T11:45:35.062Z"
   },
   {
    "duration": 18,
    "start_time": "2022-07-15T11:46:08.801Z"
   },
   {
    "duration": 7,
    "start_time": "2022-07-15T11:46:22.106Z"
   },
   {
    "duration": 108,
    "start_time": "2022-07-15T11:46:49.580Z"
   },
   {
    "duration": 3,
    "start_time": "2022-07-15T11:46:55.895Z"
   },
   {
    "duration": 9,
    "start_time": "2022-07-15T11:46:57.361Z"
   },
   {
    "duration": 2,
    "start_time": "2022-07-15T11:46:59.222Z"
   },
   {
    "duration": 10,
    "start_time": "2022-07-15T11:47:16.643Z"
   },
   {
    "duration": 96,
    "start_time": "2022-07-15T11:47:36.560Z"
   },
   {
    "duration": 9,
    "start_time": "2022-07-15T11:50:41.658Z"
   },
   {
    "duration": 4,
    "start_time": "2022-07-15T11:51:52.765Z"
   },
   {
    "duration": 39,
    "start_time": "2022-07-15T12:06:55.108Z"
   },
   {
    "duration": 8,
    "start_time": "2022-07-15T12:08:32.162Z"
   },
   {
    "duration": 9,
    "start_time": "2022-07-15T12:09:20.383Z"
   },
   {
    "duration": 44,
    "start_time": "2022-07-15T12:09:43.309Z"
   },
   {
    "duration": 38,
    "start_time": "2022-07-15T12:14:56.828Z"
   },
   {
    "duration": 25,
    "start_time": "2022-07-15T12:15:34.091Z"
   },
   {
    "duration": 18,
    "start_time": "2022-07-15T12:15:40.378Z"
   },
   {
    "duration": 28,
    "start_time": "2022-07-15T12:15:45.532Z"
   },
   {
    "duration": 15,
    "start_time": "2022-07-15T12:17:14.560Z"
   },
   {
    "duration": 25,
    "start_time": "2022-07-15T12:17:31.728Z"
   },
   {
    "duration": 16,
    "start_time": "2022-07-15T12:17:47.066Z"
   },
   {
    "duration": 18,
    "start_time": "2022-07-15T12:18:09.181Z"
   },
   {
    "duration": 18,
    "start_time": "2022-07-15T12:18:16.155Z"
   },
   {
    "duration": 9,
    "start_time": "2022-07-15T12:54:45.229Z"
   },
   {
    "duration": 88,
    "start_time": "2022-07-15T12:55:05.336Z"
   },
   {
    "duration": 75,
    "start_time": "2022-07-15T12:55:11.319Z"
   },
   {
    "duration": 76,
    "start_time": "2022-07-15T12:55:15.411Z"
   },
   {
    "duration": 13,
    "start_time": "2022-07-15T12:55:41.377Z"
   },
   {
    "duration": 23,
    "start_time": "2022-07-15T12:56:06.552Z"
   },
   {
    "duration": 31,
    "start_time": "2022-07-15T12:56:20.264Z"
   },
   {
    "duration": 29,
    "start_time": "2022-07-15T12:56:33.209Z"
   },
   {
    "duration": 24,
    "start_time": "2022-07-15T12:57:20.526Z"
   },
   {
    "duration": 76,
    "start_time": "2022-07-15T12:59:37.002Z"
   },
   {
    "duration": 9,
    "start_time": "2022-07-15T12:59:58.521Z"
   },
   {
    "duration": 34,
    "start_time": "2022-07-15T13:00:30.256Z"
   },
   {
    "duration": 23,
    "start_time": "2022-07-15T13:06:35.128Z"
   },
   {
    "duration": 9,
    "start_time": "2022-07-15T13:09:36.774Z"
   },
   {
    "duration": 14,
    "start_time": "2022-07-15T13:09:55.098Z"
   },
   {
    "duration": 9,
    "start_time": "2022-07-15T13:10:02.876Z"
   },
   {
    "duration": 16,
    "start_time": "2022-07-15T13:16:11.511Z"
   },
   {
    "duration": 15,
    "start_time": "2022-07-15T13:17:26.825Z"
   },
   {
    "duration": 98,
    "start_time": "2022-07-15T13:59:56.050Z"
   },
   {
    "duration": 95,
    "start_time": "2022-07-15T14:00:15.829Z"
   },
   {
    "duration": 80,
    "start_time": "2022-07-15T14:00:22.722Z"
   },
   {
    "duration": 107,
    "start_time": "2022-07-15T14:01:21.188Z"
   },
   {
    "duration": 88,
    "start_time": "2022-07-15T14:02:29.859Z"
   },
   {
    "duration": 94,
    "start_time": "2022-07-15T14:03:05.275Z"
   },
   {
    "duration": 95,
    "start_time": "2022-07-15T14:05:00.539Z"
   },
   {
    "duration": 126,
    "start_time": "2022-07-15T14:05:40.032Z"
   },
   {
    "duration": 95,
    "start_time": "2022-07-15T14:07:53.124Z"
   },
   {
    "duration": 114,
    "start_time": "2022-07-15T14:15:08.535Z"
   },
   {
    "duration": 113,
    "start_time": "2022-07-15T14:16:29.186Z"
   },
   {
    "duration": 91,
    "start_time": "2022-07-15T14:17:22.227Z"
   },
   {
    "duration": 10,
    "start_time": "2022-07-15T14:17:34.201Z"
   },
   {
    "duration": 105,
    "start_time": "2022-07-15T14:32:09.548Z"
   },
   {
    "duration": 10,
    "start_time": "2022-07-15T14:32:31.457Z"
   },
   {
    "duration": 10,
    "start_time": "2022-07-15T14:33:54.519Z"
   },
   {
    "duration": 92,
    "start_time": "2022-07-15T14:35:51.116Z"
   },
   {
    "duration": 13,
    "start_time": "2022-07-15T14:36:05.908Z"
   },
   {
    "duration": 13,
    "start_time": "2022-07-15T14:37:55.509Z"
   },
   {
    "duration": 10,
    "start_time": "2022-07-15T14:40:08.560Z"
   },
   {
    "duration": 12,
    "start_time": "2022-07-15T14:43:02.941Z"
   },
   {
    "duration": 14,
    "start_time": "2022-07-15T14:46:43.543Z"
   },
   {
    "duration": 11,
    "start_time": "2022-07-15T14:50:29.690Z"
   },
   {
    "duration": 11,
    "start_time": "2022-07-15T14:53:54.579Z"
   },
   {
    "duration": 10,
    "start_time": "2022-07-15T14:56:10.430Z"
   },
   {
    "duration": 12,
    "start_time": "2022-07-15T14:56:38.914Z"
   },
   {
    "duration": 11,
    "start_time": "2022-07-15T15:13:26.480Z"
   },
   {
    "duration": 12,
    "start_time": "2022-07-15T15:13:51.338Z"
   },
   {
    "duration": 13,
    "start_time": "2022-07-15T15:17:32.190Z"
   },
   {
    "duration": 25,
    "start_time": "2022-07-15T15:28:59.086Z"
   },
   {
    "duration": 21,
    "start_time": "2022-07-15T15:37:56.175Z"
   },
   {
    "duration": 6,
    "start_time": "2022-07-15T15:38:48.881Z"
   },
   {
    "duration": 5,
    "start_time": "2022-07-15T15:42:06.374Z"
   },
   {
    "duration": 122,
    "start_time": "2022-07-15T15:42:23.072Z"
   },
   {
    "duration": 13,
    "start_time": "2022-07-15T15:42:28.797Z"
   },
   {
    "duration": 8,
    "start_time": "2022-07-15T15:42:40.609Z"
   },
   {
    "duration": 48,
    "start_time": "2022-07-15T15:42:52.197Z"
   },
   {
    "duration": 9,
    "start_time": "2022-07-15T15:42:56.179Z"
   },
   {
    "duration": 11,
    "start_time": "2022-07-15T16:01:31.920Z"
   },
   {
    "duration": 10,
    "start_time": "2022-07-15T16:01:50.210Z"
   },
   {
    "duration": 28,
    "start_time": "2022-07-15T16:01:57.971Z"
   },
   {
    "duration": 6,
    "start_time": "2022-07-15T16:03:05.811Z"
   },
   {
    "duration": 23,
    "start_time": "2022-07-15T16:08:09.693Z"
   },
   {
    "duration": 11,
    "start_time": "2022-07-15T16:08:11.364Z"
   },
   {
    "duration": 6,
    "start_time": "2022-07-15T16:09:01.293Z"
   },
   {
    "duration": 10,
    "start_time": "2022-07-15T16:09:40.816Z"
   },
   {
    "duration": 5,
    "start_time": "2022-07-15T16:10:13.814Z"
   },
   {
    "duration": 11,
    "start_time": "2022-07-15T16:12:31.782Z"
   },
   {
    "duration": 5,
    "start_time": "2022-07-15T16:12:39.875Z"
   },
   {
    "duration": 16,
    "start_time": "2022-07-15T16:14:09.034Z"
   },
   {
    "duration": 18,
    "start_time": "2022-07-15T16:17:07.270Z"
   },
   {
    "duration": 10,
    "start_time": "2022-07-15T16:17:31.402Z"
   },
   {
    "duration": 8,
    "start_time": "2022-07-15T16:19:02.318Z"
   },
   {
    "duration": 13,
    "start_time": "2022-07-15T16:19:13.972Z"
   },
   {
    "duration": 8,
    "start_time": "2022-07-15T16:19:30.006Z"
   },
   {
    "duration": 15,
    "start_time": "2022-07-15T16:19:38.367Z"
   },
   {
    "duration": 5,
    "start_time": "2022-07-15T16:19:58.795Z"
   },
   {
    "duration": 8,
    "start_time": "2022-07-15T16:24:21.415Z"
   },
   {
    "duration": 4,
    "start_time": "2022-07-15T16:24:43.073Z"
   },
   {
    "duration": 4,
    "start_time": "2022-07-15T16:48:18.289Z"
   },
   {
    "duration": 13,
    "start_time": "2022-07-15T16:52:10.682Z"
   },
   {
    "duration": 13,
    "start_time": "2022-07-15T16:52:40.577Z"
   },
   {
    "duration": 12,
    "start_time": "2022-07-15T16:52:44.794Z"
   },
   {
    "duration": 26,
    "start_time": "2022-07-15T16:54:02.594Z"
   },
   {
    "duration": 34,
    "start_time": "2022-07-15T16:55:58.787Z"
   },
   {
    "duration": 50,
    "start_time": "2022-07-15T16:56:25.779Z"
   },
   {
    "duration": 50,
    "start_time": "2022-07-15T16:56:52.620Z"
   },
   {
    "duration": 41,
    "start_time": "2022-07-15T16:57:17.795Z"
   },
   {
    "duration": 16,
    "start_time": "2022-07-15T17:01:02.796Z"
   },
   {
    "duration": 49,
    "start_time": "2022-07-15T17:04:46.016Z"
   },
   {
    "duration": 7,
    "start_time": "2022-07-15T17:05:26.388Z"
   },
   {
    "duration": 16,
    "start_time": "2022-07-15T17:05:59.976Z"
   },
   {
    "duration": 22,
    "start_time": "2022-07-15T17:07:42.066Z"
   },
   {
    "duration": 12,
    "start_time": "2022-07-15T17:08:00.115Z"
   },
   {
    "duration": 13,
    "start_time": "2022-07-15T17:08:15.085Z"
   },
   {
    "duration": 28,
    "start_time": "2022-07-15T17:08:51.238Z"
   },
   {
    "duration": 12,
    "start_time": "2022-07-15T17:08:52.971Z"
   },
   {
    "duration": 41,
    "start_time": "2022-07-15T17:10:29.172Z"
   },
   {
    "duration": 125,
    "start_time": "2022-07-15T17:11:27.356Z"
   },
   {
    "duration": 32,
    "start_time": "2022-07-15T17:11:37.496Z"
   },
   {
    "duration": 60,
    "start_time": "2022-07-15T18:40:10.258Z"
   },
   {
    "duration": 33,
    "start_time": "2022-07-15T18:43:58.559Z"
   },
   {
    "duration": 13,
    "start_time": "2022-07-15T18:44:05.324Z"
   },
   {
    "duration": 3,
    "start_time": "2022-07-15T18:44:06.293Z"
   },
   {
    "duration": 7,
    "start_time": "2022-07-15T18:44:31.004Z"
   },
   {
    "duration": 949,
    "start_time": "2022-07-15T18:45:16.676Z"
   },
   {
    "duration": 33,
    "start_time": "2022-07-15T18:45:20.727Z"
   },
   {
    "duration": 193,
    "start_time": "2022-07-15T18:45:25.980Z"
   },
   {
    "duration": 4,
    "start_time": "2022-07-15T18:45:27.536Z"
   },
   {
    "duration": 14,
    "start_time": "2022-07-15T18:45:29.645Z"
   },
   {
    "duration": 25,
    "start_time": "2022-07-15T18:45:32.716Z"
   },
   {
    "duration": 124,
    "start_time": "2022-07-15T18:45:35.059Z"
   },
   {
    "duration": 29,
    "start_time": "2022-07-15T18:45:36.721Z"
   },
   {
    "duration": 75,
    "start_time": "2022-07-15T18:45:39.129Z"
   },
   {
    "duration": 89,
    "start_time": "2022-07-15T18:45:40.438Z"
   },
   {
    "duration": 77,
    "start_time": "2022-07-15T18:45:42.125Z"
   },
   {
    "duration": 67,
    "start_time": "2022-07-15T18:45:45.066Z"
   },
   {
    "duration": 4,
    "start_time": "2022-07-15T18:45:50.124Z"
   },
   {
    "duration": 19,
    "start_time": "2022-07-15T18:45:51.998Z"
   },
   {
    "duration": 31,
    "start_time": "2022-07-15T18:46:02.877Z"
   },
   {
    "duration": 31,
    "start_time": "2022-07-15T18:46:05.579Z"
   },
   {
    "duration": 20,
    "start_time": "2022-07-15T18:46:09.596Z"
   },
   {
    "duration": 11,
    "start_time": "2022-07-15T18:46:18.282Z"
   },
   {
    "duration": 11,
    "start_time": "2022-07-15T18:47:49.728Z"
   },
   {
    "duration": 30,
    "start_time": "2022-07-15T18:49:06.236Z"
   },
   {
    "duration": 31,
    "start_time": "2022-07-15T18:58:39.590Z"
   },
   {
    "duration": 30,
    "start_time": "2022-07-15T18:59:13.276Z"
   },
   {
    "duration": 23,
    "start_time": "2022-07-15T19:02:08.164Z"
   },
   {
    "duration": 15,
    "start_time": "2022-07-15T19:02:17.290Z"
   },
   {
    "duration": 503,
    "start_time": "2022-07-16T08:55:38.669Z"
   },
   {
    "duration": 703,
    "start_time": "2022-07-16T08:55:41.497Z"
   },
   {
    "duration": 424,
    "start_time": "2022-07-16T08:55:57.213Z"
   },
   {
    "duration": 18,
    "start_time": "2022-07-16T08:56:05.686Z"
   },
   {
    "duration": 46,
    "start_time": "2022-07-16T08:56:10.077Z"
   },
   {
    "duration": 21,
    "start_time": "2022-07-16T08:56:22.384Z"
   },
   {
    "duration": 24,
    "start_time": "2022-07-16T08:56:32.036Z"
   },
   {
    "duration": 4,
    "start_time": "2022-07-16T08:56:34.982Z"
   },
   {
    "duration": 4,
    "start_time": "2022-07-16T08:56:48.693Z"
   },
   {
    "duration": 26,
    "start_time": "2022-07-16T08:57:02.510Z"
   },
   {
    "duration": 34,
    "start_time": "2022-07-16T08:57:58.624Z"
   },
   {
    "duration": 68,
    "start_time": "2022-07-16T09:02:22.907Z"
   },
   {
    "duration": 33,
    "start_time": "2022-07-16T09:02:34.387Z"
   },
   {
    "duration": 19,
    "start_time": "2022-07-16T09:04:20.182Z"
   },
   {
    "duration": 10,
    "start_time": "2022-07-16T09:04:30.512Z"
   },
   {
    "duration": 19,
    "start_time": "2022-07-16T09:04:50.179Z"
   },
   {
    "duration": 20,
    "start_time": "2022-07-16T09:06:02.102Z"
   },
   {
    "duration": 59,
    "start_time": "2022-07-16T09:06:09.316Z"
   },
   {
    "duration": 40,
    "start_time": "2022-07-16T09:07:02.496Z"
   },
   {
    "duration": 46,
    "start_time": "2022-07-16T09:07:26.378Z"
   },
   {
    "duration": 34,
    "start_time": "2022-07-16T09:08:03.380Z"
   },
   {
    "duration": 39,
    "start_time": "2022-07-16T09:09:48.200Z"
   },
   {
    "duration": 66,
    "start_time": "2022-07-16T09:13:59.286Z"
   },
   {
    "duration": 53,
    "start_time": "2022-07-16T09:14:31.210Z"
   },
   {
    "duration": 44,
    "start_time": "2022-07-16T09:21:08.562Z"
   },
   {
    "duration": 48,
    "start_time": "2022-07-16T09:21:46.545Z"
   },
   {
    "duration": 43,
    "start_time": "2022-07-16T09:21:55.494Z"
   },
   {
    "duration": 37,
    "start_time": "2022-07-16T09:23:15.489Z"
   },
   {
    "duration": 37,
    "start_time": "2022-07-16T09:23:20.056Z"
   },
   {
    "duration": 56,
    "start_time": "2022-07-16T09:24:39.074Z"
   },
   {
    "duration": 45,
    "start_time": "2022-07-16T09:26:56.673Z"
   },
   {
    "duration": 51,
    "start_time": "2022-07-16T09:28:08.933Z"
   },
   {
    "duration": 39,
    "start_time": "2022-07-16T09:29:42.849Z"
   },
   {
    "duration": 44,
    "start_time": "2022-07-16T09:29:51.024Z"
   },
   {
    "duration": 67,
    "start_time": "2022-07-16T09:30:35.650Z"
   },
   {
    "duration": 34,
    "start_time": "2022-07-16T09:31:09.258Z"
   },
   {
    "duration": 68,
    "start_time": "2022-07-16T09:39:32.236Z"
   },
   {
    "duration": 5,
    "start_time": "2022-07-16T09:39:40.005Z"
   },
   {
    "duration": 12,
    "start_time": "2022-07-16T09:39:41.829Z"
   },
   {
    "duration": 43,
    "start_time": "2022-07-16T09:39:48.290Z"
   },
   {
    "duration": 30,
    "start_time": "2022-07-16T09:39:52.395Z"
   },
   {
    "duration": 29,
    "start_time": "2022-07-16T09:40:13.445Z"
   },
   {
    "duration": 15,
    "start_time": "2022-07-16T09:40:15.827Z"
   },
   {
    "duration": 54,
    "start_time": "2022-07-16T09:40:20.193Z"
   },
   {
    "duration": 8,
    "start_time": "2022-07-16T09:40:48.723Z"
   },
   {
    "duration": 5,
    "start_time": "2022-07-16T09:40:57.669Z"
   },
   {
    "duration": 30,
    "start_time": "2022-07-16T09:41:00.367Z"
   },
   {
    "duration": 13,
    "start_time": "2022-07-16T09:41:06.875Z"
   },
   {
    "duration": 56,
    "start_time": "2022-07-16T09:41:18.626Z"
   },
   {
    "duration": 5,
    "start_time": "2022-07-16T09:41:23.698Z"
   },
   {
    "duration": 21,
    "start_time": "2022-07-16T09:41:25.709Z"
   },
   {
    "duration": 13,
    "start_time": "2022-07-16T09:41:30.773Z"
   },
   {
    "duration": 4,
    "start_time": "2022-07-16T09:41:45.011Z"
   },
   {
    "duration": 21,
    "start_time": "2022-07-16T09:41:47.293Z"
   },
   {
    "duration": 8,
    "start_time": "2022-07-16T09:41:49.429Z"
   },
   {
    "duration": 73,
    "start_time": "2022-07-16T09:41:59.705Z"
   },
   {
    "duration": 76,
    "start_time": "2022-07-16T09:42:01.317Z"
   },
   {
    "duration": 59,
    "start_time": "2022-07-16T09:42:02.825Z"
   },
   {
    "duration": 40,
    "start_time": "2022-07-16T09:42:05.302Z"
   },
   {
    "duration": 4,
    "start_time": "2022-07-16T09:42:09.244Z"
   },
   {
    "duration": 28,
    "start_time": "2022-07-16T09:42:12.031Z"
   },
   {
    "duration": 12,
    "start_time": "2022-07-16T09:42:13.910Z"
   },
   {
    "duration": 3,
    "start_time": "2022-07-16T09:42:22.638Z"
   },
   {
    "duration": 322,
    "start_time": "2022-07-16T09:42:24.169Z"
   },
   {
    "duration": 7,
    "start_time": "2022-07-16T09:42:26.451Z"
   },
   {
    "duration": 30,
    "start_time": "2022-07-16T09:42:28.772Z"
   },
   {
    "duration": 10,
    "start_time": "2022-07-16T09:42:32.450Z"
   },
   {
    "duration": 3,
    "start_time": "2022-07-16T09:42:34.330Z"
   },
   {
    "duration": 3,
    "start_time": "2022-07-16T09:42:36.045Z"
   },
   {
    "duration": 29,
    "start_time": "2022-07-16T09:42:38.315Z"
   },
   {
    "duration": 107,
    "start_time": "2022-07-16T09:42:41.912Z"
   },
   {
    "duration": 34,
    "start_time": "2022-07-16T09:42:43.897Z"
   },
   {
    "duration": 68,
    "start_time": "2022-07-16T09:42:46.516Z"
   },
   {
    "duration": 78,
    "start_time": "2022-07-16T09:42:48.216Z"
   },
   {
    "duration": 66,
    "start_time": "2022-07-16T09:42:49.889Z"
   },
   {
    "duration": 44,
    "start_time": "2022-07-16T09:42:52.892Z"
   },
   {
    "duration": 3,
    "start_time": "2022-07-16T09:43:17.397Z"
   },
   {
    "duration": 20,
    "start_time": "2022-07-16T09:43:19.907Z"
   },
   {
    "duration": 7,
    "start_time": "2022-07-16T09:43:22.293Z"
   },
   {
    "duration": 8,
    "start_time": "2022-07-16T09:43:46.120Z"
   },
   {
    "duration": 21,
    "start_time": "2022-07-16T09:43:48.279Z"
   },
   {
    "duration": 8,
    "start_time": "2022-07-16T09:43:49.753Z"
   },
   {
    "duration": 4,
    "start_time": "2022-07-16T09:44:48.994Z"
   },
   {
    "duration": 18,
    "start_time": "2022-07-16T09:44:50.524Z"
   },
   {
    "duration": 6,
    "start_time": "2022-07-16T09:44:52.703Z"
   },
   {
    "duration": 4,
    "start_time": "2022-07-16T09:45:05.110Z"
   },
   {
    "duration": 30,
    "start_time": "2022-07-16T09:45:08.282Z"
   },
   {
    "duration": 7,
    "start_time": "2022-07-16T09:45:09.717Z"
   },
   {
    "duration": 5,
    "start_time": "2022-07-16T09:45:58.254Z"
   },
   {
    "duration": 20,
    "start_time": "2022-07-16T09:46:00.084Z"
   },
   {
    "duration": 8,
    "start_time": "2022-07-16T09:46:04.682Z"
   },
   {
    "duration": 22,
    "start_time": "2022-07-16T09:53:49.000Z"
   },
   {
    "duration": 22,
    "start_time": "2022-07-16T09:53:52.261Z"
   },
   {
    "duration": 6,
    "start_time": "2022-07-16T09:53:54.303Z"
   },
   {
    "duration": 12,
    "start_time": "2022-07-16T10:01:49.256Z"
   },
   {
    "duration": 13,
    "start_time": "2022-07-16T10:01:51.690Z"
   },
   {
    "duration": 7,
    "start_time": "2022-07-16T10:01:54.053Z"
   },
   {
    "duration": 10,
    "start_time": "2022-07-16T10:02:24.769Z"
   },
   {
    "duration": 44,
    "start_time": "2022-07-16T10:05:52.269Z"
   },
   {
    "duration": 11,
    "start_time": "2022-07-16T10:06:25.204Z"
   },
   {
    "duration": 12,
    "start_time": "2022-07-16T10:06:26.831Z"
   },
   {
    "duration": 7,
    "start_time": "2022-07-16T10:06:28.664Z"
   },
   {
    "duration": 29,
    "start_time": "2022-07-16T10:07:04.426Z"
   },
   {
    "duration": 33,
    "start_time": "2022-07-16T10:07:08.580Z"
   },
   {
    "duration": 23,
    "start_time": "2022-07-16T10:07:16.644Z"
   },
   {
    "duration": 39,
    "start_time": "2022-07-16T10:07:20.482Z"
   },
   {
    "duration": 25,
    "start_time": "2022-07-16T10:07:24.486Z"
   },
   {
    "duration": 10,
    "start_time": "2022-07-16T10:08:36.088Z"
   },
   {
    "duration": 6,
    "start_time": "2022-07-16T10:08:38.004Z"
   },
   {
    "duration": 7,
    "start_time": "2022-07-16T10:08:40.645Z"
   },
   {
    "duration": 468,
    "start_time": "2022-07-16T20:10:37.439Z"
   },
   {
    "duration": 403,
    "start_time": "2022-07-16T20:10:37.909Z"
   },
   {
    "duration": 7,
    "start_time": "2022-07-16T20:10:38.314Z"
   },
   {
    "duration": 56,
    "start_time": "2022-07-16T20:10:38.323Z"
   },
   {
    "duration": 26,
    "start_time": "2022-07-16T20:10:38.382Z"
   },
   {
    "duration": 7,
    "start_time": "2022-07-16T20:10:38.411Z"
   },
   {
    "duration": 7,
    "start_time": "2022-07-16T20:10:38.420Z"
   },
   {
    "duration": 53,
    "start_time": "2022-07-16T20:10:38.428Z"
   },
   {
    "duration": 147,
    "start_time": "2022-07-16T20:10:38.484Z"
   },
   {
    "duration": 33,
    "start_time": "2022-07-16T20:10:38.634Z"
   },
   {
    "duration": 91,
    "start_time": "2022-07-16T20:10:38.671Z"
   },
   {
    "duration": 107,
    "start_time": "2022-07-16T20:10:38.772Z"
   },
   {
    "duration": 105,
    "start_time": "2022-07-16T20:10:38.881Z"
   },
   {
    "duration": 55,
    "start_time": "2022-07-16T20:10:38.988Z"
   },
   {
    "duration": 23,
    "start_time": "2022-07-16T20:10:39.045Z"
   },
   {
    "duration": 26,
    "start_time": "2022-07-16T20:10:39.069Z"
   },
   {
    "duration": 14,
    "start_time": "2022-07-16T20:10:39.097Z"
   },
   {
    "duration": 39,
    "start_time": "2022-07-16T20:10:39.113Z"
   },
   {
    "duration": 35,
    "start_time": "2022-07-16T20:10:39.154Z"
   },
   {
    "duration": 19,
    "start_time": "2022-07-16T20:10:39.191Z"
   },
   {
    "duration": 21,
    "start_time": "2022-07-16T20:10:39.212Z"
   },
   {
    "duration": 43,
    "start_time": "2022-07-16T20:10:39.235Z"
   },
   {
    "duration": 27,
    "start_time": "2022-07-16T20:10:39.280Z"
   },
   {
    "duration": 35,
    "start_time": "2022-07-16T20:10:39.309Z"
   },
   {
    "duration": 31,
    "start_time": "2022-07-16T20:10:39.346Z"
   },
   {
    "duration": 19,
    "start_time": "2022-07-16T20:10:39.379Z"
   },
   {
    "duration": 8,
    "start_time": "2022-07-16T20:10:39.400Z"
   },
   {
    "duration": 31,
    "start_time": "2022-07-16T20:10:39.412Z"
   },
   {
    "duration": 35,
    "start_time": "2022-07-16T20:10:39.445Z"
   },
   {
    "duration": 36,
    "start_time": "2022-07-16T20:10:39.482Z"
   },
   {
    "duration": 58,
    "start_time": "2022-07-16T20:10:39.520Z"
   },
   {
    "duration": 25,
    "start_time": "2022-07-16T20:10:39.579Z"
   },
   {
    "duration": 38,
    "start_time": "2022-07-16T20:10:39.607Z"
   },
   {
    "duration": 20,
    "start_time": "2022-07-16T20:10:39.661Z"
   },
   {
    "duration": 9,
    "start_time": "2022-07-16T20:10:39.683Z"
   },
   {
    "duration": 8,
    "start_time": "2022-07-16T20:10:39.693Z"
   },
   {
    "duration": 10,
    "start_time": "2022-07-16T20:10:39.703Z"
   },
   {
    "duration": 12,
    "start_time": "2022-07-16T20:10:39.714Z"
   },
   {
    "duration": 54,
    "start_time": "2022-07-17T16:47:47.770Z"
   },
   {
    "duration": 9,
    "start_time": "2022-07-17T16:47:58.227Z"
   },
   {
    "duration": 439,
    "start_time": "2022-07-17T16:48:13.890Z"
   },
   {
    "duration": 564,
    "start_time": "2022-07-17T16:48:15.800Z"
   },
   {
    "duration": 10,
    "start_time": "2022-07-17T16:48:20.474Z"
   },
   {
    "duration": 31,
    "start_time": "2022-07-17T16:48:27.178Z"
   },
   {
    "duration": 16,
    "start_time": "2022-07-17T16:48:31.894Z"
   },
   {
    "duration": 135,
    "start_time": "2022-07-17T16:48:54.520Z"
   },
   {
    "duration": 29,
    "start_time": "2022-07-17T16:49:14.481Z"
   },
   {
    "duration": 127,
    "start_time": "2022-07-17T16:51:06.418Z"
   },
   {
    "duration": 27,
    "start_time": "2022-07-17T16:51:09.306Z"
   },
   {
    "duration": 1319,
    "start_time": "2022-07-17T16:54:20.507Z"
   },
   {
    "duration": 126,
    "start_time": "2022-07-17T16:54:37.718Z"
   },
   {
    "duration": 10,
    "start_time": "2022-07-17T16:55:52.104Z"
   },
   {
    "duration": 102,
    "start_time": "2022-07-17T16:56:02.705Z"
   },
   {
    "duration": 55,
    "start_time": "2022-07-17T16:57:51.314Z"
   },
   {
    "duration": 24,
    "start_time": "2022-07-17T16:57:54.695Z"
   },
   {
    "duration": 50,
    "start_time": "2022-07-17T16:57:59.862Z"
   },
   {
    "duration": 25,
    "start_time": "2022-07-17T16:58:01.736Z"
   },
   {
    "duration": 18,
    "start_time": "2022-07-17T16:58:13.040Z"
   },
   {
    "duration": 8,
    "start_time": "2022-07-17T16:59:57.144Z"
   },
   {
    "duration": 80,
    "start_time": "2022-07-17T17:00:14.646Z"
   },
   {
    "duration": 9,
    "start_time": "2022-07-17T17:00:31.857Z"
   },
   {
    "duration": 11,
    "start_time": "2022-07-17T17:00:44.202Z"
   },
   {
    "duration": 49,
    "start_time": "2022-07-18T08:48:17.612Z"
   },
   {
    "duration": 382,
    "start_time": "2022-07-18T08:48:28.573Z"
   },
   {
    "duration": 572,
    "start_time": "2022-07-18T08:48:30.473Z"
   },
   {
    "duration": 8,
    "start_time": "2022-07-18T08:48:33.392Z"
   },
   {
    "duration": 35,
    "start_time": "2022-07-18T08:48:47.993Z"
   },
   {
    "duration": 7,
    "start_time": "2022-07-18T08:49:04.637Z"
   },
   {
    "duration": 27,
    "start_time": "2022-07-18T08:49:08.492Z"
   },
   {
    "duration": 11,
    "start_time": "2022-07-18T08:49:12.362Z"
   },
   {
    "duration": 4,
    "start_time": "2022-07-18T08:49:15.672Z"
   },
   {
    "duration": 3,
    "start_time": "2022-07-18T08:49:19.952Z"
   },
   {
    "duration": 22,
    "start_time": "2022-07-18T08:49:23.092Z"
   },
   {
    "duration": 61,
    "start_time": "2022-07-18T08:49:30.212Z"
   },
   {
    "duration": 16,
    "start_time": "2022-07-18T08:49:31.960Z"
   },
   {
    "duration": 61,
    "start_time": "2022-07-18T08:49:34.660Z"
   },
   {
    "duration": 68,
    "start_time": "2022-07-18T08:49:36.362Z"
   },
   {
    "duration": 59,
    "start_time": "2022-07-18T08:49:39.181Z"
   },
   {
    "duration": 38,
    "start_time": "2022-07-18T08:49:43.282Z"
   },
   {
    "duration": 10,
    "start_time": "2022-07-18T08:49:59.933Z"
   },
   {
    "duration": 8,
    "start_time": "2022-07-18T08:51:03.208Z"
   },
   {
    "duration": 20,
    "start_time": "2022-07-18T08:52:40.072Z"
   },
   {
    "duration": 14,
    "start_time": "2022-07-18T08:52:44.416Z"
   },
   {
    "duration": 27,
    "start_time": "2022-07-18T08:52:50.688Z"
   },
   {
    "duration": 50,
    "start_time": "2022-07-18T08:52:57.770Z"
   },
   {
    "duration": 8,
    "start_time": "2022-07-18T08:53:01.113Z"
   },
   {
    "duration": 72,
    "start_time": "2022-07-18T08:58:01.371Z"
   },
   {
    "duration": 16,
    "start_time": "2022-07-18T08:58:08.230Z"
   },
   {
    "duration": 11,
    "start_time": "2022-07-18T09:20:16.410Z"
   },
   {
    "duration": 17,
    "start_time": "2022-07-18T09:20:17.952Z"
   },
   {
    "duration": 133,
    "start_time": "2022-07-18T09:22:10.780Z"
   },
   {
    "duration": 79,
    "start_time": "2022-07-18T09:23:44.470Z"
   },
   {
    "duration": 88,
    "start_time": "2022-07-18T09:23:51.466Z"
   },
   {
    "duration": 76,
    "start_time": "2022-07-18T09:24:28.442Z"
   },
   {
    "duration": 49,
    "start_time": "2022-07-19T06:38:59.133Z"
   },
   {
    "duration": 360,
    "start_time": "2022-07-19T06:39:04.051Z"
   },
   {
    "duration": 267,
    "start_time": "2022-07-19T06:39:04.412Z"
   },
   {
    "duration": 7,
    "start_time": "2022-07-19T06:39:04.680Z"
   },
   {
    "duration": 32,
    "start_time": "2022-07-19T06:39:04.689Z"
   },
   {
    "duration": 12,
    "start_time": "2022-07-19T06:39:04.723Z"
   },
   {
    "duration": 5,
    "start_time": "2022-07-19T06:39:04.737Z"
   },
   {
    "duration": 5,
    "start_time": "2022-07-19T06:39:04.744Z"
   },
   {
    "duration": 24,
    "start_time": "2022-07-19T06:39:04.750Z"
   },
   {
    "duration": 66,
    "start_time": "2022-07-19T06:39:04.775Z"
   },
   {
    "duration": 109,
    "start_time": "2022-07-19T06:39:04.844Z"
   },
   {
    "duration": 0,
    "start_time": "2022-07-19T06:39:04.955Z"
   },
   {
    "duration": 0,
    "start_time": "2022-07-19T06:39:04.956Z"
   },
   {
    "duration": 0,
    "start_time": "2022-07-19T06:39:04.957Z"
   },
   {
    "duration": 0,
    "start_time": "2022-07-19T06:39:04.958Z"
   },
   {
    "duration": 0,
    "start_time": "2022-07-19T06:39:04.959Z"
   },
   {
    "duration": 0,
    "start_time": "2022-07-19T06:39:04.960Z"
   },
   {
    "duration": 0,
    "start_time": "2022-07-19T06:39:04.961Z"
   },
   {
    "duration": 0,
    "start_time": "2022-07-19T06:39:04.962Z"
   },
   {
    "duration": 0,
    "start_time": "2022-07-19T06:39:04.963Z"
   },
   {
    "duration": 0,
    "start_time": "2022-07-19T06:39:04.964Z"
   },
   {
    "duration": 0,
    "start_time": "2022-07-19T06:39:04.965Z"
   },
   {
    "duration": 0,
    "start_time": "2022-07-19T06:39:04.966Z"
   },
   {
    "duration": 0,
    "start_time": "2022-07-19T06:39:04.967Z"
   },
   {
    "duration": 0,
    "start_time": "2022-07-19T06:39:04.968Z"
   },
   {
    "duration": 0,
    "start_time": "2022-07-19T06:39:04.969Z"
   },
   {
    "duration": 0,
    "start_time": "2022-07-19T06:39:04.970Z"
   },
   {
    "duration": 0,
    "start_time": "2022-07-19T06:39:04.971Z"
   },
   {
    "duration": 0,
    "start_time": "2022-07-19T06:39:04.971Z"
   },
   {
    "duration": 0,
    "start_time": "2022-07-19T06:39:04.972Z"
   },
   {
    "duration": 0,
    "start_time": "2022-07-19T06:39:04.973Z"
   },
   {
    "duration": 0,
    "start_time": "2022-07-19T06:39:04.974Z"
   },
   {
    "duration": 0,
    "start_time": "2022-07-19T06:39:04.975Z"
   },
   {
    "duration": 0,
    "start_time": "2022-07-19T06:39:04.976Z"
   },
   {
    "duration": 0,
    "start_time": "2022-07-19T06:39:04.977Z"
   },
   {
    "duration": 0,
    "start_time": "2022-07-19T06:39:04.978Z"
   },
   {
    "duration": 0,
    "start_time": "2022-07-19T06:39:04.979Z"
   },
   {
    "duration": 0,
    "start_time": "2022-07-19T06:39:04.980Z"
   },
   {
    "duration": 0,
    "start_time": "2022-07-19T06:39:04.981Z"
   },
   {
    "duration": 0,
    "start_time": "2022-07-19T06:39:04.982Z"
   },
   {
    "duration": 375,
    "start_time": "2022-07-19T06:39:13.429Z"
   },
   {
    "duration": 282,
    "start_time": "2022-07-19T06:39:13.806Z"
   },
   {
    "duration": 7,
    "start_time": "2022-07-19T06:39:14.091Z"
   },
   {
    "duration": 35,
    "start_time": "2022-07-19T06:39:14.099Z"
   },
   {
    "duration": 14,
    "start_time": "2022-07-19T06:39:14.136Z"
   },
   {
    "duration": 9,
    "start_time": "2022-07-19T06:39:14.152Z"
   },
   {
    "duration": 5,
    "start_time": "2022-07-19T06:39:14.163Z"
   },
   {
    "duration": 39,
    "start_time": "2022-07-19T06:39:14.171Z"
   },
   {
    "duration": 45,
    "start_time": "2022-07-19T06:39:14.212Z"
   },
   {
    "duration": 15,
    "start_time": "2022-07-19T06:39:14.258Z"
   },
   {
    "duration": 77,
    "start_time": "2022-07-19T06:39:14.274Z"
   },
   {
    "duration": 83,
    "start_time": "2022-07-19T06:39:14.354Z"
   },
   {
    "duration": 60,
    "start_time": "2022-07-19T06:39:14.439Z"
   },
   {
    "duration": 37,
    "start_time": "2022-07-19T06:39:14.501Z"
   },
   {
    "duration": 11,
    "start_time": "2022-07-19T06:39:14.540Z"
   },
   {
    "duration": 6,
    "start_time": "2022-07-19T06:39:14.552Z"
   },
   {
    "duration": 38,
    "start_time": "2022-07-19T06:39:14.560Z"
   },
   {
    "duration": 10,
    "start_time": "2022-07-19T06:39:14.600Z"
   },
   {
    "duration": 9,
    "start_time": "2022-07-19T06:39:14.612Z"
   },
   {
    "duration": 17,
    "start_time": "2022-07-19T06:39:14.623Z"
   },
   {
    "duration": 15,
    "start_time": "2022-07-19T06:39:14.641Z"
   },
   {
    "duration": 44,
    "start_time": "2022-07-19T06:39:14.658Z"
   },
   {
    "duration": 15,
    "start_time": "2022-07-19T06:39:14.705Z"
   },
   {
    "duration": 13,
    "start_time": "2022-07-19T06:39:14.722Z"
   },
   {
    "duration": 16,
    "start_time": "2022-07-19T06:39:14.737Z"
   },
   {
    "duration": 45,
    "start_time": "2022-07-19T06:39:14.754Z"
   },
   {
    "duration": 7,
    "start_time": "2022-07-19T06:39:14.801Z"
   },
   {
    "duration": 20,
    "start_time": "2022-07-19T06:39:14.810Z"
   },
   {
    "duration": 13,
    "start_time": "2022-07-19T06:39:14.832Z"
   },
   {
    "duration": 24,
    "start_time": "2022-07-19T06:39:14.847Z"
   },
   {
    "duration": 29,
    "start_time": "2022-07-19T06:39:14.898Z"
   },
   {
    "duration": 75,
    "start_time": "2022-07-19T06:39:14.929Z"
   },
   {
    "duration": 0,
    "start_time": "2022-07-19T06:39:15.006Z"
   },
   {
    "duration": 0,
    "start_time": "2022-07-19T06:39:15.007Z"
   },
   {
    "duration": 0,
    "start_time": "2022-07-19T06:39:15.008Z"
   },
   {
    "duration": 0,
    "start_time": "2022-07-19T06:39:15.010Z"
   },
   {
    "duration": 0,
    "start_time": "2022-07-19T06:39:15.010Z"
   },
   {
    "duration": 0,
    "start_time": "2022-07-19T06:39:15.011Z"
   },
   {
    "duration": 57,
    "start_time": "2022-07-19T06:40:01.473Z"
   },
   {
    "duration": 39,
    "start_time": "2022-07-19T06:42:20.287Z"
   },
   {
    "duration": 81,
    "start_time": "2022-07-20T08:16:23.343Z"
   },
   {
    "duration": 76,
    "start_time": "2022-07-20T08:16:43.437Z"
   },
   {
    "duration": 46,
    "start_time": "2022-07-20T08:16:52.137Z"
   },
   {
    "duration": 3,
    "start_time": "2022-07-20T08:16:59.527Z"
   },
   {
    "duration": 3,
    "start_time": "2022-07-20T08:17:01.647Z"
   },
   {
    "duration": 3,
    "start_time": "2022-07-20T08:17:12.828Z"
   },
   {
    "duration": 11,
    "start_time": "2022-07-20T08:22:50.047Z"
   },
   {
    "duration": 416,
    "start_time": "2022-07-20T08:22:58.379Z"
   },
   {
    "duration": 602,
    "start_time": "2022-07-20T08:23:00.047Z"
   },
   {
    "duration": 10,
    "start_time": "2022-07-20T08:23:03.209Z"
   },
   {
    "duration": 31,
    "start_time": "2022-07-20T08:23:07.644Z"
   },
   {
    "duration": 14,
    "start_time": "2022-07-20T08:23:12.645Z"
   },
   {
    "duration": 25,
    "start_time": "2022-07-20T08:23:19.174Z"
   },
   {
    "duration": 53,
    "start_time": "2022-07-20T08:23:31.216Z"
   },
   {
    "duration": 16,
    "start_time": "2022-07-20T08:23:33.947Z"
   },
   {
    "duration": 12,
    "start_time": "2022-07-20T08:24:22.048Z"
   },
   {
    "duration": 18,
    "start_time": "2022-07-20T08:24:33.662Z"
   },
   {
    "duration": 11,
    "start_time": "2022-07-20T08:24:37.196Z"
   },
   {
    "duration": 20,
    "start_time": "2022-07-20T08:24:45.377Z"
   },
   {
    "duration": 17,
    "start_time": "2022-07-20T08:24:58.399Z"
   },
   {
    "duration": 15,
    "start_time": "2022-07-20T08:25:02.485Z"
   },
   {
    "duration": 37,
    "start_time": "2022-07-20T08:25:11.107Z"
   },
   {
    "duration": 4,
    "start_time": "2022-07-20T08:25:14.914Z"
   },
   {
    "duration": 79,
    "start_time": "2022-07-20T08:25:21.744Z"
   },
   {
    "duration": 30,
    "start_time": "2022-07-20T08:25:29.896Z"
   },
   {
    "duration": 36,
    "start_time": "2022-07-20T08:28:34.107Z"
   },
   {
    "duration": 9,
    "start_time": "2022-07-20T08:28:36.503Z"
   },
   {
    "duration": 12,
    "start_time": "2022-07-20T08:54:12.918Z"
   },
   {
    "duration": 13,
    "start_time": "2022-07-20T08:55:18.125Z"
   },
   {
    "duration": 15,
    "start_time": "2022-07-20T08:55:47.749Z"
   },
   {
    "duration": 16,
    "start_time": "2022-07-20T08:56:37.351Z"
   },
   {
    "duration": 12,
    "start_time": "2022-07-20T08:56:46.448Z"
   },
   {
    "duration": 9,
    "start_time": "2022-07-20T09:09:32.031Z"
   },
   {
    "duration": 13,
    "start_time": "2022-07-20T09:10:05.552Z"
   },
   {
    "duration": 9,
    "start_time": "2022-07-20T09:13:53.838Z"
   },
   {
    "duration": 12,
    "start_time": "2022-07-20T09:14:02.469Z"
   },
   {
    "duration": 10,
    "start_time": "2022-07-20T09:14:32.605Z"
   },
   {
    "duration": 79,
    "start_time": "2022-07-20T09:16:24.799Z"
   },
   {
    "duration": 11,
    "start_time": "2022-07-20T09:16:35.079Z"
   },
   {
    "duration": 36,
    "start_time": "2022-07-20T09:40:25.075Z"
   },
   {
    "duration": 31,
    "start_time": "2022-07-20T09:41:06.539Z"
   },
   {
    "duration": 8,
    "start_time": "2022-07-20T09:41:22.182Z"
   },
   {
    "duration": 16,
    "start_time": "2022-07-20T09:41:37.755Z"
   },
   {
    "duration": 40,
    "start_time": "2022-07-20T09:42:08.982Z"
   },
   {
    "duration": 43,
    "start_time": "2022-07-20T09:42:17.393Z"
   },
   {
    "duration": 75,
    "start_time": "2022-07-20T09:44:03.326Z"
   },
   {
    "duration": 400,
    "start_time": "2022-07-20T16:32:51.155Z"
   },
   {
    "duration": 297,
    "start_time": "2022-07-20T16:32:51.557Z"
   },
   {
    "duration": 7,
    "start_time": "2022-07-20T16:32:51.855Z"
   },
   {
    "duration": 36,
    "start_time": "2022-07-20T16:32:51.863Z"
   },
   {
    "duration": 13,
    "start_time": "2022-07-20T16:32:51.902Z"
   },
   {
    "duration": 23,
    "start_time": "2022-07-20T16:32:51.918Z"
   },
   {
    "duration": 3,
    "start_time": "2022-07-20T16:32:51.943Z"
   },
   {
    "duration": 25,
    "start_time": "2022-07-20T16:32:51.948Z"
   },
   {
    "duration": 69,
    "start_time": "2022-07-20T16:32:51.974Z"
   },
   {
    "duration": 17,
    "start_time": "2022-07-20T16:32:52.045Z"
   },
   {
    "duration": 63,
    "start_time": "2022-07-20T16:32:52.064Z"
   },
   {
    "duration": 69,
    "start_time": "2022-07-20T16:32:52.141Z"
   },
   {
    "duration": 75,
    "start_time": "2022-07-20T16:32:52.212Z"
   },
   {
    "duration": 49,
    "start_time": "2022-07-20T16:32:52.291Z"
   },
   {
    "duration": 11,
    "start_time": "2022-07-20T16:32:52.343Z"
   },
   {
    "duration": 6,
    "start_time": "2022-07-20T16:32:52.356Z"
   },
   {
    "duration": 9,
    "start_time": "2022-07-20T16:32:52.364Z"
   },
   {
    "duration": 13,
    "start_time": "2022-07-20T16:32:52.375Z"
   },
   {
    "duration": 12,
    "start_time": "2022-07-20T16:32:52.389Z"
   },
   {
    "duration": 48,
    "start_time": "2022-07-20T16:32:52.403Z"
   },
   {
    "duration": 15,
    "start_time": "2022-07-20T16:32:52.453Z"
   },
   {
    "duration": 14,
    "start_time": "2022-07-20T16:32:52.470Z"
   },
   {
    "duration": 15,
    "start_time": "2022-07-20T16:32:52.486Z"
   },
   {
    "duration": 47,
    "start_time": "2022-07-20T16:32:52.502Z"
   },
   {
    "duration": 17,
    "start_time": "2022-07-20T16:32:52.551Z"
   },
   {
    "duration": 15,
    "start_time": "2022-07-20T16:32:52.569Z"
   },
   {
    "duration": 6,
    "start_time": "2022-07-20T16:32:52.586Z"
   },
   {
    "duration": 46,
    "start_time": "2022-07-20T16:32:52.594Z"
   },
   {
    "duration": 15,
    "start_time": "2022-07-20T16:32:52.642Z"
   },
   {
    "duration": 26,
    "start_time": "2022-07-20T16:32:52.659Z"
   },
   {
    "duration": 54,
    "start_time": "2022-07-20T16:32:52.687Z"
   },
   {
    "duration": 29,
    "start_time": "2022-07-20T16:32:52.743Z"
   },
   {
    "duration": 32,
    "start_time": "2022-07-20T16:32:52.774Z"
   },
   {
    "duration": 52,
    "start_time": "2022-07-20T16:32:52.808Z"
   },
   {
    "duration": 12,
    "start_time": "2022-07-20T16:32:52.862Z"
   },
   {
    "duration": 4,
    "start_time": "2022-07-20T16:32:52.876Z"
   },
   {
    "duration": 22,
    "start_time": "2022-07-20T16:32:52.882Z"
   },
   {
    "duration": 12,
    "start_time": "2022-07-20T16:32:52.906Z"
   },
   {
    "duration": 30,
    "start_time": "2022-07-20T16:35:18.888Z"
   },
   {
    "duration": 27,
    "start_time": "2022-07-20T16:35:24.049Z"
   },
   {
    "duration": 31,
    "start_time": "2022-07-20T16:35:37.701Z"
   },
   {
    "duration": 14,
    "start_time": "2022-07-20T16:36:00.217Z"
   },
   {
    "duration": 20,
    "start_time": "2022-07-20T16:39:16.259Z"
   },
   {
    "duration": 20,
    "start_time": "2022-07-20T16:39:28.119Z"
   },
   {
    "duration": 21,
    "start_time": "2022-07-20T16:39:37.519Z"
   },
   {
    "duration": 53,
    "start_time": "2022-07-21T10:31:07.290Z"
   },
   {
    "duration": 484,
    "start_time": "2022-07-21T10:31:15.183Z"
   },
   {
    "duration": 604,
    "start_time": "2022-07-21T10:31:16.911Z"
   },
   {
    "duration": 19,
    "start_time": "2022-07-21T10:31:31.094Z"
   },
   {
    "duration": 23,
    "start_time": "2022-07-21T10:31:37.785Z"
   },
   {
    "duration": 52,
    "start_time": "2022-07-21T10:31:48.989Z"
   },
   {
    "duration": 64,
    "start_time": "2022-07-21T10:32:12.793Z"
   },
   {
    "duration": 118,
    "start_time": "2022-07-21T10:32:16.594Z"
   },
   {
    "duration": 77,
    "start_time": "2022-07-21T10:32:19.004Z"
   },
   {
    "duration": 10,
    "start_time": "2022-07-21T10:32:53.554Z"
   },
   {
    "duration": 10,
    "start_time": "2022-07-21T10:33:07.930Z"
   },
   {
    "duration": 21,
    "start_time": "2022-07-21T10:33:21.721Z"
   },
   {
    "duration": 26,
    "start_time": "2022-07-21T10:34:26.792Z"
   },
   {
    "duration": 19,
    "start_time": "2022-07-21T10:36:09.685Z"
   },
   {
    "duration": 26,
    "start_time": "2022-07-21T10:36:28.220Z"
   },
   {
    "duration": 22,
    "start_time": "2022-07-21T10:36:30.831Z"
   },
   {
    "duration": 25,
    "start_time": "2022-07-21T10:38:04.881Z"
   },
   {
    "duration": 20,
    "start_time": "2022-07-21T10:38:54.190Z"
   },
   {
    "duration": 222,
    "start_time": "2022-07-21T10:40:09.569Z"
   },
   {
    "duration": 394,
    "start_time": "2022-07-22T12:19:50.369Z"
   },
   {
    "duration": 264,
    "start_time": "2022-07-22T12:19:50.765Z"
   },
   {
    "duration": 6,
    "start_time": "2022-07-22T12:19:51.031Z"
   },
   {
    "duration": 58,
    "start_time": "2022-07-22T12:19:51.038Z"
   },
   {
    "duration": 33,
    "start_time": "2022-07-22T12:19:51.097Z"
   },
   {
    "duration": 34,
    "start_time": "2022-07-22T12:19:51.132Z"
   },
   {
    "duration": 11,
    "start_time": "2022-07-22T12:19:51.167Z"
   },
   {
    "duration": 43,
    "start_time": "2022-07-22T12:19:51.179Z"
   },
   {
    "duration": 62,
    "start_time": "2022-07-22T12:19:51.224Z"
   },
   {
    "duration": 14,
    "start_time": "2022-07-22T12:19:51.289Z"
   },
   {
    "duration": 78,
    "start_time": "2022-07-22T12:19:51.305Z"
   },
   {
    "duration": 62,
    "start_time": "2022-07-22T12:19:51.384Z"
   },
   {
    "duration": 56,
    "start_time": "2022-07-22T12:19:51.448Z"
   },
   {
    "duration": 38,
    "start_time": "2022-07-22T12:19:51.506Z"
   },
   {
    "duration": 20,
    "start_time": "2022-07-22T12:19:51.546Z"
   },
   {
    "duration": 20,
    "start_time": "2022-07-22T12:19:51.567Z"
   },
   {
    "duration": 39,
    "start_time": "2022-07-22T12:19:51.589Z"
   },
   {
    "duration": 36,
    "start_time": "2022-07-22T12:19:51.629Z"
   },
   {
    "duration": 25,
    "start_time": "2022-07-22T12:19:51.667Z"
   },
   {
    "duration": 24,
    "start_time": "2022-07-22T12:19:51.693Z"
   },
   {
    "duration": 17,
    "start_time": "2022-07-22T12:19:51.718Z"
   },
   {
    "duration": 19,
    "start_time": "2022-07-22T12:19:51.737Z"
   },
   {
    "duration": 34,
    "start_time": "2022-07-22T12:19:51.758Z"
   },
   {
    "duration": 19,
    "start_time": "2022-07-22T12:19:51.794Z"
   },
   {
    "duration": 26,
    "start_time": "2022-07-22T12:19:51.814Z"
   },
   {
    "duration": 26,
    "start_time": "2022-07-22T12:19:51.842Z"
   },
   {
    "duration": 22,
    "start_time": "2022-07-22T12:19:51.870Z"
   },
   {
    "duration": 25,
    "start_time": "2022-07-22T12:19:51.895Z"
   },
   {
    "duration": 23,
    "start_time": "2022-07-22T12:19:51.921Z"
   },
   {
    "duration": 26,
    "start_time": "2022-07-22T12:19:51.946Z"
   },
   {
    "duration": 34,
    "start_time": "2022-07-22T12:19:51.973Z"
   },
   {
    "duration": 29,
    "start_time": "2022-07-22T12:19:52.009Z"
   },
   {
    "duration": 37,
    "start_time": "2022-07-22T12:19:52.040Z"
   },
   {
    "duration": 18,
    "start_time": "2022-07-22T12:19:52.078Z"
   },
   {
    "duration": 16,
    "start_time": "2022-07-22T12:19:52.098Z"
   },
   {
    "duration": 15,
    "start_time": "2022-07-22T12:19:52.116Z"
   },
   {
    "duration": 36,
    "start_time": "2022-07-22T12:19:52.132Z"
   },
   {
    "duration": 12,
    "start_time": "2022-07-22T12:19:52.170Z"
   }
  ],
  "colab": {
   "collapsed_sections": [
    "E0vqbgi9ay0H",
    "VUC88oWjTJw2",
    "atZAxtq4_Zcu"
   ],
   "name": "EmptyFinalProject.ipynb\"",
   "provenance": []
  },
  "kernelspec": {
   "display_name": "Python 3 (ipykernel)",
   "language": "python",
   "name": "python3"
  },
  "language_info": {
   "codemirror_mode": {
    "name": "ipython",
    "version": 3
   },
   "file_extension": ".py",
   "mimetype": "text/x-python",
   "name": "python",
   "nbconvert_exporter": "python",
   "pygments_lexer": "ipython3",
   "version": "3.9.12"
  },
  "toc": {
   "base_numbering": 1,
   "nav_menu": {},
   "number_sections": true,
   "sideBar": true,
   "skip_h1_title": true,
   "title_cell": "Table of Contents",
   "title_sidebar": "Contents",
   "toc_cell": false,
   "toc_position": {},
   "toc_section_display": true,
   "toc_window_display": false
  }
 },
 "nbformat": 4,
 "nbformat_minor": 4
}
