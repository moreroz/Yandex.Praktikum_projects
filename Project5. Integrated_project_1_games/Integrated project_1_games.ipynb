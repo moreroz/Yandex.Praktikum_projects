{
 "cells": [
  {
   "cell_type": "markdown",
   "metadata": {},
   "source": [
    "## Open the data file and study the general information. "
   ]
  },
  {
   "cell_type": "code",
   "execution_count": 1,
   "metadata": {},
   "outputs": [],
   "source": [
    "# Loading all the libraries\n",
    "\n",
    "import pandas as pd\n",
    "import matplotlib.pyplot as plt\n",
    "from scipy import stats as st\n",
    "from functools import reduce\n",
    "import seaborn as sns\n",
    "import numpy as np \n",
    "import math"
   ]
  },
  {
   "cell_type": "code",
   "execution_count": 2,
   "metadata": {},
   "outputs": [],
   "source": [
    "# Load the data\n",
    "\n",
    "try:\n",
    "    games = pd.read_csv('games.csv')\n",
    "except:\n",
    "    games = pd.read_csv('/datasets/games.csv')"
   ]
  },
  {
   "cell_type": "markdown",
   "metadata": {},
   "source": [
    " **Data exploration**\n",
    "\n",
    "**Description of the data**\n",
    "\n",
    "—Name\n",
    "\n",
    "—Platform\n",
    "\n",
    "—Year_of_Release\n",
    "\n",
    "—Genre\n",
    "\n",
    "—NA_sales (North American sales in USD million)\n",
    "\n",
    "—EU_sales (sales in Europe in USD million)\n",
    "\n",
    "—JP_sales (sales in Japan in USD million)\n",
    "\n",
    "—Other_sales (sales in other countries in USD million)\n",
    "\n",
    "—Critic_Score (maximum of 100)\n",
    "\n",
    "—User_Score (maximum of 10)\n",
    "\n",
    "—Rating (ESRB)\n",
    "\n",
    "Data for 2016 may be incomplete."
   ]
  },
  {
   "cell_type": "markdown",
   "metadata": {},
   "source": [
    "Let's explore our data and check for potential issues with it.\n",
    "\n",
    "Let's see how many rows and columns our dataset has and print the first 10 rows for it."
   ]
  },
  {
   "cell_type": "code",
   "execution_count": 3,
   "metadata": {
    "scrolled": true
   },
   "outputs": [
    {
     "name": "stdout",
     "output_type": "stream",
     "text": [
      "<class 'pandas.core.frame.DataFrame'>\n",
      "RangeIndex: 16715 entries, 0 to 16714\n",
      "Data columns (total 11 columns):\n",
      " #   Column           Non-Null Count  Dtype  \n",
      "---  ------           --------------  -----  \n",
      " 0   Name             16713 non-null  object \n",
      " 1   Platform         16715 non-null  object \n",
      " 2   Year_of_Release  16446 non-null  float64\n",
      " 3   Genre            16713 non-null  object \n",
      " 4   NA_sales         16715 non-null  float64\n",
      " 5   EU_sales         16715 non-null  float64\n",
      " 6   JP_sales         16715 non-null  float64\n",
      " 7   Other_sales      16715 non-null  float64\n",
      " 8   Critic_Score     8137 non-null   float64\n",
      " 9   User_Score       10014 non-null  object \n",
      " 10  Rating           9949 non-null   object \n",
      "dtypes: float64(6), object(5)\n",
      "memory usage: 1.4+ MB\n"
     ]
    }
   ],
   "source": [
    "games.info()"
   ]
  },
  {
   "cell_type": "code",
   "execution_count": 4,
   "metadata": {},
   "outputs": [
    {
     "data": {
      "text/html": [
       "<div>\n",
       "<style scoped>\n",
       "    .dataframe tbody tr th:only-of-type {\n",
       "        vertical-align: middle;\n",
       "    }\n",
       "\n",
       "    .dataframe tbody tr th {\n",
       "        vertical-align: top;\n",
       "    }\n",
       "\n",
       "    .dataframe thead th {\n",
       "        text-align: right;\n",
       "    }\n",
       "</style>\n",
       "<table border=\"1\" class=\"dataframe\">\n",
       "  <thead>\n",
       "    <tr style=\"text-align: right;\">\n",
       "      <th></th>\n",
       "      <th>Name</th>\n",
       "      <th>Platform</th>\n",
       "      <th>Year_of_Release</th>\n",
       "      <th>Genre</th>\n",
       "      <th>NA_sales</th>\n",
       "      <th>EU_sales</th>\n",
       "      <th>JP_sales</th>\n",
       "      <th>Other_sales</th>\n",
       "      <th>Critic_Score</th>\n",
       "      <th>User_Score</th>\n",
       "      <th>Rating</th>\n",
       "    </tr>\n",
       "  </thead>\n",
       "  <tbody>\n",
       "    <tr>\n",
       "      <th>0</th>\n",
       "      <td>Wii Sports</td>\n",
       "      <td>Wii</td>\n",
       "      <td>2006.0</td>\n",
       "      <td>Sports</td>\n",
       "      <td>41.36</td>\n",
       "      <td>28.96</td>\n",
       "      <td>3.77</td>\n",
       "      <td>8.45</td>\n",
       "      <td>76.0</td>\n",
       "      <td>8</td>\n",
       "      <td>E</td>\n",
       "    </tr>\n",
       "    <tr>\n",
       "      <th>1</th>\n",
       "      <td>Super Mario Bros.</td>\n",
       "      <td>NES</td>\n",
       "      <td>1985.0</td>\n",
       "      <td>Platform</td>\n",
       "      <td>29.08</td>\n",
       "      <td>3.58</td>\n",
       "      <td>6.81</td>\n",
       "      <td>0.77</td>\n",
       "      <td>NaN</td>\n",
       "      <td>NaN</td>\n",
       "      <td>NaN</td>\n",
       "    </tr>\n",
       "    <tr>\n",
       "      <th>2</th>\n",
       "      <td>Mario Kart Wii</td>\n",
       "      <td>Wii</td>\n",
       "      <td>2008.0</td>\n",
       "      <td>Racing</td>\n",
       "      <td>15.68</td>\n",
       "      <td>12.76</td>\n",
       "      <td>3.79</td>\n",
       "      <td>3.29</td>\n",
       "      <td>82.0</td>\n",
       "      <td>8.3</td>\n",
       "      <td>E</td>\n",
       "    </tr>\n",
       "    <tr>\n",
       "      <th>3</th>\n",
       "      <td>Wii Sports Resort</td>\n",
       "      <td>Wii</td>\n",
       "      <td>2009.0</td>\n",
       "      <td>Sports</td>\n",
       "      <td>15.61</td>\n",
       "      <td>10.93</td>\n",
       "      <td>3.28</td>\n",
       "      <td>2.95</td>\n",
       "      <td>80.0</td>\n",
       "      <td>8</td>\n",
       "      <td>E</td>\n",
       "    </tr>\n",
       "    <tr>\n",
       "      <th>4</th>\n",
       "      <td>Pokemon Red/Pokemon Blue</td>\n",
       "      <td>GB</td>\n",
       "      <td>1996.0</td>\n",
       "      <td>Role-Playing</td>\n",
       "      <td>11.27</td>\n",
       "      <td>8.89</td>\n",
       "      <td>10.22</td>\n",
       "      <td>1.00</td>\n",
       "      <td>NaN</td>\n",
       "      <td>NaN</td>\n",
       "      <td>NaN</td>\n",
       "    </tr>\n",
       "    <tr>\n",
       "      <th>5</th>\n",
       "      <td>Tetris</td>\n",
       "      <td>GB</td>\n",
       "      <td>1989.0</td>\n",
       "      <td>Puzzle</td>\n",
       "      <td>23.20</td>\n",
       "      <td>2.26</td>\n",
       "      <td>4.22</td>\n",
       "      <td>0.58</td>\n",
       "      <td>NaN</td>\n",
       "      <td>NaN</td>\n",
       "      <td>NaN</td>\n",
       "    </tr>\n",
       "    <tr>\n",
       "      <th>6</th>\n",
       "      <td>New Super Mario Bros.</td>\n",
       "      <td>DS</td>\n",
       "      <td>2006.0</td>\n",
       "      <td>Platform</td>\n",
       "      <td>11.28</td>\n",
       "      <td>9.14</td>\n",
       "      <td>6.50</td>\n",
       "      <td>2.88</td>\n",
       "      <td>89.0</td>\n",
       "      <td>8.5</td>\n",
       "      <td>E</td>\n",
       "    </tr>\n",
       "    <tr>\n",
       "      <th>7</th>\n",
       "      <td>Wii Play</td>\n",
       "      <td>Wii</td>\n",
       "      <td>2006.0</td>\n",
       "      <td>Misc</td>\n",
       "      <td>13.96</td>\n",
       "      <td>9.18</td>\n",
       "      <td>2.93</td>\n",
       "      <td>2.84</td>\n",
       "      <td>58.0</td>\n",
       "      <td>6.6</td>\n",
       "      <td>E</td>\n",
       "    </tr>\n",
       "    <tr>\n",
       "      <th>8</th>\n",
       "      <td>New Super Mario Bros. Wii</td>\n",
       "      <td>Wii</td>\n",
       "      <td>2009.0</td>\n",
       "      <td>Platform</td>\n",
       "      <td>14.44</td>\n",
       "      <td>6.94</td>\n",
       "      <td>4.70</td>\n",
       "      <td>2.24</td>\n",
       "      <td>87.0</td>\n",
       "      <td>8.4</td>\n",
       "      <td>E</td>\n",
       "    </tr>\n",
       "    <tr>\n",
       "      <th>9</th>\n",
       "      <td>Duck Hunt</td>\n",
       "      <td>NES</td>\n",
       "      <td>1984.0</td>\n",
       "      <td>Shooter</td>\n",
       "      <td>26.93</td>\n",
       "      <td>0.63</td>\n",
       "      <td>0.28</td>\n",
       "      <td>0.47</td>\n",
       "      <td>NaN</td>\n",
       "      <td>NaN</td>\n",
       "      <td>NaN</td>\n",
       "    </tr>\n",
       "  </tbody>\n",
       "</table>\n",
       "</div>"
      ],
      "text/plain": [
       "                        Name Platform  Year_of_Release         Genre  \\\n",
       "0                 Wii Sports      Wii           2006.0        Sports   \n",
       "1          Super Mario Bros.      NES           1985.0      Platform   \n",
       "2             Mario Kart Wii      Wii           2008.0        Racing   \n",
       "3          Wii Sports Resort      Wii           2009.0        Sports   \n",
       "4   Pokemon Red/Pokemon Blue       GB           1996.0  Role-Playing   \n",
       "5                     Tetris       GB           1989.0        Puzzle   \n",
       "6      New Super Mario Bros.       DS           2006.0      Platform   \n",
       "7                   Wii Play      Wii           2006.0          Misc   \n",
       "8  New Super Mario Bros. Wii      Wii           2009.0      Platform   \n",
       "9                  Duck Hunt      NES           1984.0       Shooter   \n",
       "\n",
       "   NA_sales  EU_sales  JP_sales  Other_sales  Critic_Score User_Score Rating  \n",
       "0     41.36     28.96      3.77         8.45          76.0          8      E  \n",
       "1     29.08      3.58      6.81         0.77           NaN        NaN    NaN  \n",
       "2     15.68     12.76      3.79         3.29          82.0        8.3      E  \n",
       "3     15.61     10.93      3.28         2.95          80.0          8      E  \n",
       "4     11.27      8.89     10.22         1.00           NaN        NaN    NaN  \n",
       "5     23.20      2.26      4.22         0.58           NaN        NaN    NaN  \n",
       "6     11.28      9.14      6.50         2.88          89.0        8.5      E  \n",
       "7     13.96      9.18      2.93         2.84          58.0        6.6      E  \n",
       "8     14.44      6.94      4.70         2.24          87.0        8.4      E  \n",
       "9     26.93      0.63      0.28         0.47           NaN        NaN    NaN  "
      ]
     },
     "execution_count": 4,
     "metadata": {},
     "output_type": "execute_result"
    }
   ],
   "source": [
    "games.head(10)"
   ]
  },
  {
   "cell_type": "markdown",
   "metadata": {},
   "source": [
    "# Get info on data\n",
    "There are several issues indetified with the data:\n",
    "1. Upper cases in column names - we should change it to lowercase.\n",
    "2. Some missing data in several columns - we will conclude whether to fill them or not in the next step.\n",
    "3. Year of release is in 'float' type - we should convert data to 'int' type (and fill in missing values before) - just for visual convenience.\n",
    "4. 'User_Score' column is in 'object' type - we will convirt it to 'float' type."
   ]
  },
  {
   "cell_type": "markdown",
   "metadata": {},
   "source": [
    "## Prepare the data\n",
    "\n",
    "Let's replace the column names (make them lowercase)"
   ]
  },
  {
   "cell_type": "code",
   "execution_count": 5,
   "metadata": {},
   "outputs": [],
   "source": [
    "games.columns= games.columns.str.lower()"
   ]
  },
  {
   "cell_type": "code",
   "execution_count": 6,
   "metadata": {
    "scrolled": true
   },
   "outputs": [
    {
     "name": "stdout",
     "output_type": "stream",
     "text": [
      "<class 'pandas.core.frame.DataFrame'>\n",
      "RangeIndex: 16715 entries, 0 to 16714\n",
      "Data columns (total 11 columns):\n",
      " #   Column           Non-Null Count  Dtype  \n",
      "---  ------           --------------  -----  \n",
      " 0   name             16713 non-null  object \n",
      " 1   platform         16715 non-null  object \n",
      " 2   year_of_release  16715 non-null  int64  \n",
      " 3   genre            16713 non-null  object \n",
      " 4   na_sales         16715 non-null  float64\n",
      " 5   eu_sales         16715 non-null  float64\n",
      " 6   jp_sales         16715 non-null  float64\n",
      " 7   other_sales      16715 non-null  float64\n",
      " 8   critic_score     8137 non-null   float64\n",
      " 9   user_score       10014 non-null  object \n",
      " 10  rating           9949 non-null   object \n",
      "dtypes: float64(5), int64(1), object(5)\n",
      "memory usage: 1.4+ MB\n"
     ]
    }
   ],
   "source": [
    "# Convert 'year_of_release' column to 'int' type \n",
    "# There are some missing data - so we fill in them with '0' as it seems that year of release can't effect the success of the game\n",
    "games['year_of_release'] = games['year_of_release'].fillna(0).astype(int)\n",
    "games.info()"
   ]
  },
  {
   "cell_type": "markdown",
   "metadata": {},
   "source": [
    "Let's make a conclusion about necessity of filling missing values column by column:\n",
    "\n",
    "- 'name'- only two are missing, we should drop them\n",
    "\n",
    "- 'genre' - the same as for 'name'\n",
    "\n",
    "- 'user_score' - change type to 'float'\n",
    "\n",
    "- 'rating'- let's fill in 'nan' values with 'no info'"
   ]
  },
  {
   "cell_type": "code",
   "execution_count": 7,
   "metadata": {
    "scrolled": true
   },
   "outputs": [
    {
     "name": "stdout",
     "output_type": "stream",
     "text": [
      "<class 'pandas.core.frame.DataFrame'>\n",
      "Int64Index: 16713 entries, 0 to 16714\n",
      "Data columns (total 11 columns):\n",
      " #   Column           Non-Null Count  Dtype  \n",
      "---  ------           --------------  -----  \n",
      " 0   name             16713 non-null  object \n",
      " 1   platform         16713 non-null  object \n",
      " 2   year_of_release  16713 non-null  int64  \n",
      " 3   genre            16713 non-null  object \n",
      " 4   na_sales         16713 non-null  float64\n",
      " 5   eu_sales         16713 non-null  float64\n",
      " 6   jp_sales         16713 non-null  float64\n",
      " 7   other_sales      16713 non-null  float64\n",
      " 8   critic_score     8137 non-null   float64\n",
      " 9   user_score       10014 non-null  object \n",
      " 10  rating           16713 non-null  object \n",
      "dtypes: float64(5), int64(1), object(5)\n",
      "memory usage: 1.5+ MB\n"
     ]
    }
   ],
   "source": [
    "# Dropping of missing values in 'name'\n",
    "games = games.dropna(subset = ['name'])\n",
    "games['rating'] = games['rating'].fillna(\"no info\")\n",
    "games.info()"
   ]
  },
  {
   "cell_type": "code",
   "execution_count": 8,
   "metadata": {
    "scrolled": false
   },
   "outputs": [
    {
     "data": {
      "text/html": [
       "<div>\n",
       "<style scoped>\n",
       "    .dataframe tbody tr th:only-of-type {\n",
       "        vertical-align: middle;\n",
       "    }\n",
       "\n",
       "    .dataframe tbody tr th {\n",
       "        vertical-align: top;\n",
       "    }\n",
       "\n",
       "    .dataframe thead th {\n",
       "        text-align: right;\n",
       "    }\n",
       "</style>\n",
       "<table border=\"1\" class=\"dataframe\">\n",
       "  <thead>\n",
       "    <tr style=\"text-align: right;\">\n",
       "      <th></th>\n",
       "      <th>name</th>\n",
       "      <th>platform</th>\n",
       "      <th>year_of_release</th>\n",
       "      <th>genre</th>\n",
       "      <th>na_sales</th>\n",
       "      <th>eu_sales</th>\n",
       "      <th>jp_sales</th>\n",
       "      <th>other_sales</th>\n",
       "      <th>critic_score</th>\n",
       "      <th>user_score</th>\n",
       "      <th>rating</th>\n",
       "      <th>total_sales</th>\n",
       "    </tr>\n",
       "  </thead>\n",
       "  <tbody>\n",
       "    <tr>\n",
       "      <th>0</th>\n",
       "      <td>Wii Sports</td>\n",
       "      <td>Wii</td>\n",
       "      <td>2006</td>\n",
       "      <td>Sports</td>\n",
       "      <td>41.36</td>\n",
       "      <td>28.96</td>\n",
       "      <td>3.77</td>\n",
       "      <td>8.45</td>\n",
       "      <td>76.0</td>\n",
       "      <td>8</td>\n",
       "      <td>E</td>\n",
       "      <td>82.54</td>\n",
       "    </tr>\n",
       "    <tr>\n",
       "      <th>1</th>\n",
       "      <td>Super Mario Bros.</td>\n",
       "      <td>NES</td>\n",
       "      <td>1985</td>\n",
       "      <td>Platform</td>\n",
       "      <td>29.08</td>\n",
       "      <td>3.58</td>\n",
       "      <td>6.81</td>\n",
       "      <td>0.77</td>\n",
       "      <td>NaN</td>\n",
       "      <td>NaN</td>\n",
       "      <td>no info</td>\n",
       "      <td>40.24</td>\n",
       "    </tr>\n",
       "    <tr>\n",
       "      <th>2</th>\n",
       "      <td>Mario Kart Wii</td>\n",
       "      <td>Wii</td>\n",
       "      <td>2008</td>\n",
       "      <td>Racing</td>\n",
       "      <td>15.68</td>\n",
       "      <td>12.76</td>\n",
       "      <td>3.79</td>\n",
       "      <td>3.29</td>\n",
       "      <td>82.0</td>\n",
       "      <td>8.3</td>\n",
       "      <td>E</td>\n",
       "      <td>35.52</td>\n",
       "    </tr>\n",
       "    <tr>\n",
       "      <th>3</th>\n",
       "      <td>Wii Sports Resort</td>\n",
       "      <td>Wii</td>\n",
       "      <td>2009</td>\n",
       "      <td>Sports</td>\n",
       "      <td>15.61</td>\n",
       "      <td>10.93</td>\n",
       "      <td>3.28</td>\n",
       "      <td>2.95</td>\n",
       "      <td>80.0</td>\n",
       "      <td>8</td>\n",
       "      <td>E</td>\n",
       "      <td>32.77</td>\n",
       "    </tr>\n",
       "    <tr>\n",
       "      <th>4</th>\n",
       "      <td>Pokemon Red/Pokemon Blue</td>\n",
       "      <td>GB</td>\n",
       "      <td>1996</td>\n",
       "      <td>Role-Playing</td>\n",
       "      <td>11.27</td>\n",
       "      <td>8.89</td>\n",
       "      <td>10.22</td>\n",
       "      <td>1.00</td>\n",
       "      <td>NaN</td>\n",
       "      <td>NaN</td>\n",
       "      <td>no info</td>\n",
       "      <td>31.38</td>\n",
       "    </tr>\n",
       "  </tbody>\n",
       "</table>\n",
       "</div>"
      ],
      "text/plain": [
       "                       name platform  year_of_release         genre  na_sales  \\\n",
       "0                Wii Sports      Wii             2006        Sports     41.36   \n",
       "1         Super Mario Bros.      NES             1985      Platform     29.08   \n",
       "2            Mario Kart Wii      Wii             2008        Racing     15.68   \n",
       "3         Wii Sports Resort      Wii             2009        Sports     15.61   \n",
       "4  Pokemon Red/Pokemon Blue       GB             1996  Role-Playing     11.27   \n",
       "\n",
       "   eu_sales  jp_sales  other_sales  critic_score user_score   rating  \\\n",
       "0     28.96      3.77         8.45          76.0          8        E   \n",
       "1      3.58      6.81         0.77           NaN        NaN  no info   \n",
       "2     12.76      3.79         3.29          82.0        8.3        E   \n",
       "3     10.93      3.28         2.95          80.0          8        E   \n",
       "4      8.89     10.22         1.00           NaN        NaN  no info   \n",
       "\n",
       "   total_sales  \n",
       "0        82.54  \n",
       "1        40.24  \n",
       "2        35.52  \n",
       "3        32.77  \n",
       "4        31.38  "
      ]
     },
     "execution_count": 8,
     "metadata": {},
     "output_type": "execute_result"
    }
   ],
   "source": [
    "# Let's calculate the total sales (the sum of sales in all regions) for each game:\n",
    "games['total_sales'] = games.loc[:, 'na_sales':'other_sales'].sum(axis=1)\n",
    "games.head()"
   ]
  },
  {
   "cell_type": "code",
   "execution_count": 9,
   "metadata": {},
   "outputs": [
    {
     "data": {
      "text/plain": [
       "array(['8', nan, '8.3', '8.5', '6.6', '8.4', '8.6', '7.7', '6.3', '7.4',\n",
       "       '8.2', '9', '7.9', '8.1', '8.7', '7.1', '3.4', '5.3', '4.8', '3.2',\n",
       "       '8.9', '6.4', '7.8', '7.5', '2.6', '7.2', '9.2', '7', '7.3', '4.3',\n",
       "       '7.6', '5.7', '5', '9.1', '6.5', 'tbd', '8.8', '6.9', '9.4', '6.8',\n",
       "       '6.1', '6.7', '5.4', '4', '4.9', '4.5', '9.3', '6.2', '4.2', '6',\n",
       "       '3.7', '4.1', '5.8', '5.6', '5.5', '4.4', '4.6', '5.9', '3.9',\n",
       "       '3.1', '2.9', '5.2', '3.3', '4.7', '5.1', '3.5', '2.5', '1.9', '3',\n",
       "       '2.7', '2.2', '2', '9.5', '2.1', '3.6', '2.8', '1.8', '3.8', '0',\n",
       "       '1.6', '9.6', '2.4', '1.7', '1.1', '0.3', '1.5', '0.7', '1.2',\n",
       "       '2.3', '0.5', '1.3', '0.2', '0.6', '1.4', '0.9', '1', '9.7'],\n",
       "      dtype=object)"
      ]
     },
     "execution_count": 9,
     "metadata": {},
     "output_type": "execute_result"
    }
   ],
   "source": [
    "# Let's check 'user_score' column for unique values\n",
    "games['user_score'].unique()"
   ]
  },
  {
   "cell_type": "markdown",
   "metadata": {},
   "source": [
    "There is 'tbd' (to be determined) values - they are just the same as missing values for us - so let's replace them with 'nan' in order to make data ready for analysis. In the real life it can be useful to update the dataset with open sources or to request corresponding info from Client."
   ]
  },
  {
   "cell_type": "code",
   "execution_count": 10,
   "metadata": {
    "scrolled": false
   },
   "outputs": [],
   "source": [
    "games['user_score'] = games['user_score'].replace('tbd', np.nan)"
   ]
  },
  {
   "cell_type": "code",
   "execution_count": 11,
   "metadata": {
    "scrolled": true
   },
   "outputs": [
    {
     "name": "stdout",
     "output_type": "stream",
     "text": [
      "<class 'pandas.core.frame.DataFrame'>\n",
      "Int64Index: 16713 entries, 0 to 16714\n",
      "Data columns (total 12 columns):\n",
      " #   Column           Non-Null Count  Dtype  \n",
      "---  ------           --------------  -----  \n",
      " 0   name             16713 non-null  object \n",
      " 1   platform         16713 non-null  object \n",
      " 2   year_of_release  16713 non-null  int64  \n",
      " 3   genre            16713 non-null  object \n",
      " 4   na_sales         16713 non-null  float64\n",
      " 5   eu_sales         16713 non-null  float64\n",
      " 6   jp_sales         16713 non-null  float64\n",
      " 7   other_sales      16713 non-null  float64\n",
      " 8   critic_score     8137 non-null   float64\n",
      " 9   user_score       7590 non-null   float64\n",
      " 10  rating           16713 non-null  object \n",
      " 11  total_sales      16713 non-null  float64\n",
      "dtypes: float64(7), int64(1), object(4)\n",
      "memory usage: 1.7+ MB\n"
     ]
    }
   ],
   "source": [
    "# Convert 'user_score' column type to 'float'\n",
    "# Filling in missing values in 'user_score' column with mean value for corresponding value\n",
    "\n",
    "games['user_score'] = pd.to_numeric(games['user_score'])\n",
    "games.info()"
   ]
  },
  {
   "cell_type": "code",
   "execution_count": 12,
   "metadata": {},
   "outputs": [
    {
     "data": {
      "text/plain": [
       "array(['E', 'no info', 'M', 'T', 'E10+', 'K-A', 'AO', 'EC', 'RP'],\n",
       "      dtype=object)"
      ]
     },
     "execution_count": 12,
     "metadata": {},
     "output_type": "execute_result"
    }
   ],
   "source": [
    "# Let's look at values in 'rating' column\n",
    "games['rating'].unique()"
   ]
  },
  {
   "cell_type": "code",
   "execution_count": 13,
   "metadata": {},
   "outputs": [
    {
     "name": "stdout",
     "output_type": "stream",
     "text": [
      "0\n"
     ]
    }
   ],
   "source": [
    "# Let's check if there is any duplicates in data\n",
    "print(games.duplicated().sum())"
   ]
  },
  {
   "cell_type": "markdown",
   "metadata": {},
   "source": [
    "No duplicates were identified."
   ]
  },
  {
   "cell_type": "markdown",
   "metadata": {},
   "source": [
    "## Analyse the data <a id='intro'></a>\n"
   ]
  },
  {
   "cell_type": "code",
   "execution_count": 14,
   "metadata": {},
   "outputs": [
    {
     "data": {
      "text/plain": [
       "<matplotlib.legend.Legend at 0x7f4356d1dc40>"
      ]
     },
     "execution_count": 14,
     "metadata": {},
     "output_type": "execute_result"
    },
    {
     "data": {
      "image/png": "[encoded data removed]",
      "text/plain": [
       "<Figure size 1440x360 with 1 Axes>"
      ]
     },
     "metadata": {
      "needs_background": "light"
     },
     "output_type": "display_data"
    }
   ],
   "source": [
    "# Let's look at how many games were released in different years \n",
    "\n",
    "games_pivot = games.pivot_table(index='year_of_release', values='total_sales', aggfunc='sum').sort_values(by=['total_sales'], ascending=False)\n",
    "\n",
    "ax = games_pivot.plot(kind='bar', ylabel='total_sales', figsize=(20, 5), rot=0)\n",
    "ax.legend(bbox_to_anchor=(1, 1.02), loc='upper left')"
   ]
  },
  {
   "cell_type": "markdown",
   "metadata": {},
   "source": [
    "We can see from the plot above that amount of games before the year 1996 was not very significant (not more than 100 games per year)"
   ]
  },
  {
   "cell_type": "code",
   "execution_count": 15,
   "metadata": {
    "scrolled": true
   },
   "outputs": [
    {
     "data": {
      "text/plain": [
       "<matplotlib.legend.Legend at 0x7f4356c6fac0>"
      ]
     },
     "execution_count": 15,
     "metadata": {},
     "output_type": "execute_result"
    },
    {
     "data": {
      "image/png": "[encoded data removed]",
      "text/plain": [
       "<Figure size 1440x360 with 1 Axes>"
      ]
     },
     "metadata": {
      "needs_background": "light"
     },
     "output_type": "display_data"
    }
   ],
   "source": [
    "# Let's look at how many games were released in different years chronologically\n",
    "\n",
    "games_pivot = games.pivot_table(index='year_of_release', values='total_sales', aggfunc='sum').sort_values(by=['year_of_release'])\n",
    "\n",
    "ax = games_pivot.plot(kind='bar', ylabel='total_sales', figsize=(20, 5), rot=0)\n",
    "ax.legend(bbox_to_anchor=(1, 1.02), loc='upper left')"
   ]
  },
  {
   "cell_type": "markdown",
   "metadata": {},
   "source": [
    "We can see staged grouth from year to year with  a peak in 2008-2009 and further recession.\n",
    "\n",
    "The stable grouth of sales can be noticed from the year 2003."
   ]
  },
  {
   "cell_type": "markdown",
   "metadata": {},
   "source": [
    "Let's look at how sales varied from platform to platform. We'll chose the platforms with the greatest total sales and build a distribution based on data for each year"
   ]
  },
  {
   "cell_type": "code",
   "execution_count": 16,
   "metadata": {},
   "outputs": [
    {
     "data": {
      "text/plain": [
       "<matplotlib.legend.Legend at 0x7f434ead8ac0>"
      ]
     },
     "execution_count": 16,
     "metadata": {},
     "output_type": "execute_result"
    },
    {
     "data": {
      "image/png": "[encoded data removed]",
      "text/plain": [
       "<Figure size 1440x360 with 1 Axes>"
      ]
     },
     "metadata": {
      "needs_background": "light"
     },
     "output_type": "display_data"
    }
   ],
   "source": [
    "platform_pivot = games.pivot_table(index='platform', values='total_sales', aggfunc='sum').sort_values(by=['total_sales'], ascending=False)\n",
    "graph = platform_pivot.plot(kind='bar', ylabel='total_sales', figsize=(20, 5), rot=0)\n",
    "graph.legend(bbox_to_anchor=(1, 1.02), loc='upper left')"
   ]
  },
  {
   "cell_type": "markdown",
   "metadata": {},
   "source": [
    "From the plot above the most popular platforms with sales greater than 700 are: PS2, X360, PS3, Wii, DS, PS.\n",
    "\n",
    "We'll build a distribution based on data for each year."
   ]
  },
  {
   "cell_type": "code",
   "execution_count": 17,
   "metadata": {},
   "outputs": [
    {
     "data": {
      "text/plain": [
       "array(['Wii', 'DS', 'X360', 'PS3', 'PS2', 'PS'], dtype=object)"
      ]
     },
     "execution_count": 17,
     "metadata": {},
     "output_type": "execute_result"
    }
   ],
   "source": [
    "popular_games = games.query('platform == \"PS2\" or platform == \"X360\" or platform == \"PS3\" or platform == \"Wii\" or platform == \"DS\" or platform == \"PS\"')\n",
    "popular_games['platform'].unique()"
   ]
  },
  {
   "cell_type": "code",
   "execution_count": 18,
   "metadata": {
    "scrolled": true
   },
   "outputs": [
    {
     "data": {
      "text/html": [
       "<div>\n",
       "<style scoped>\n",
       "    .dataframe tbody tr th:only-of-type {\n",
       "        vertical-align: middle;\n",
       "    }\n",
       "\n",
       "    .dataframe tbody tr th {\n",
       "        vertical-align: top;\n",
       "    }\n",
       "\n",
       "    .dataframe thead th {\n",
       "        text-align: right;\n",
       "    }\n",
       "</style>\n",
       "<table border=\"1\" class=\"dataframe\">\n",
       "  <thead>\n",
       "    <tr style=\"text-align: right;\">\n",
       "      <th></th>\n",
       "      <th>platform</th>\n",
       "      <th>year_of_release</th>\n",
       "      <th>total_sales</th>\n",
       "    </tr>\n",
       "  </thead>\n",
       "  <tbody>\n",
       "    <tr>\n",
       "      <th>1</th>\n",
       "      <td>DS</td>\n",
       "      <td>1985</td>\n",
       "      <td>0.02</td>\n",
       "    </tr>\n",
       "    <tr>\n",
       "      <th>2</th>\n",
       "      <td>DS</td>\n",
       "      <td>2004</td>\n",
       "      <td>17.27</td>\n",
       "    </tr>\n",
       "    <tr>\n",
       "      <th>3</th>\n",
       "      <td>DS</td>\n",
       "      <td>2005</td>\n",
       "      <td>130.14</td>\n",
       "    </tr>\n",
       "    <tr>\n",
       "      <th>4</th>\n",
       "      <td>DS</td>\n",
       "      <td>2006</td>\n",
       "      <td>119.81</td>\n",
       "    </tr>\n",
       "    <tr>\n",
       "      <th>5</th>\n",
       "      <td>DS</td>\n",
       "      <td>2007</td>\n",
       "      <td>146.94</td>\n",
       "    </tr>\n",
       "  </tbody>\n",
       "</table>\n",
       "</div>"
      ],
      "text/plain": [
       "  platform  year_of_release  total_sales\n",
       "1       DS             1985         0.02\n",
       "2       DS             2004        17.27\n",
       "3       DS             2005       130.14\n",
       "4       DS             2006       119.81\n",
       "5       DS             2007       146.94"
      ]
     },
     "execution_count": 18,
     "metadata": {},
     "output_type": "execute_result"
    }
   ],
   "source": [
    "popular_games_pivot = popular_games.pivot_table(index=['platform', 'year_of_release'], values='total_sales', aggfunc='sum').reset_index()\n",
    "popular_games_pivot_1 = popular_games_pivot.query('year_of_release > 0')\n",
    "popular_games_pivot_1.head()"
   ]
  },
  {
   "cell_type": "code",
   "execution_count": 19,
   "metadata": {},
   "outputs": [
    {
     "name": "stderr",
     "output_type": "stream",
     "text": [
      "/opt/conda/lib/python3.9/site-packages/seaborn/distributions.py:2557: FutureWarning: `distplot` is a deprecated function and will be removed in a future version. Please adapt your code to use either `displot` (a figure-level function with similar flexibility) or `kdeplot` (an axes-level function for kernel density plots).\n",
      "  warnings.warn(msg, FutureWarning)\n",
      "/opt/conda/lib/python3.9/site-packages/seaborn/distributions.py:2557: FutureWarning: `distplot` is a deprecated function and will be removed in a future version. Please adapt your code to use either `displot` (a figure-level function with similar flexibility) or `kdeplot` (an axes-level function for kernel density plots).\n",
      "  warnings.warn(msg, FutureWarning)\n",
      "/opt/conda/lib/python3.9/site-packages/seaborn/distributions.py:2557: FutureWarning: `distplot` is a deprecated function and will be removed in a future version. Please adapt your code to use either `displot` (a figure-level function with similar flexibility) or `kdeplot` (an axes-level function for kernel density plots).\n",
      "  warnings.warn(msg, FutureWarning)\n",
      "/opt/conda/lib/python3.9/site-packages/seaborn/distributions.py:2557: FutureWarning: `distplot` is a deprecated function and will be removed in a future version. Please adapt your code to use either `displot` (a figure-level function with similar flexibility) or `kdeplot` (an axes-level function for kernel density plots).\n",
      "  warnings.warn(msg, FutureWarning)\n",
      "/opt/conda/lib/python3.9/site-packages/seaborn/distributions.py:2557: FutureWarning: `distplot` is a deprecated function and will be removed in a future version. Please adapt your code to use either `displot` (a figure-level function with similar flexibility) or `kdeplot` (an axes-level function for kernel density plots).\n",
      "  warnings.warn(msg, FutureWarning)\n",
      "/opt/conda/lib/python3.9/site-packages/seaborn/distributions.py:2557: FutureWarning: `distplot` is a deprecated function and will be removed in a future version. Please adapt your code to use either `displot` (a figure-level function with similar flexibility) or `kdeplot` (an axes-level function for kernel density plots).\n",
      "  warnings.warn(msg, FutureWarning)\n"
     ]
    },
    {
     "data": {
      "text/plain": [
       "Text(0, 0.5, 'Density')"
      ]
     },
     "execution_count": 19,
     "metadata": {},
     "output_type": "execute_result"
    },
    {
     "data": {
      "image/png": "[encoded data removed]",
      "text/plain": [
       "<Figure size 720x504 with 1 Axes>"
      ]
     },
     "metadata": {
      "needs_background": "light"
     },
     "output_type": "display_data"
    }
   ],
   "source": [
    "# List of six platforms to plot\n",
    "platforms = ['Wii', 'DS', 'X360','PS3', 'PS2', 'PS']\n",
    "plt.figure(figsize=(10,7))\n",
    "# Iterate through the six platforms\n",
    "for platform in platforms:\n",
    "    # Subset to the platform\n",
    "    subset = popular_games_pivot_1[popular_games_pivot_1['platform'] == platform]\n",
    "    \n",
    "    # Draw the density plot\n",
    "   \n",
    "    sns.distplot(subset['year_of_release'], hist = False, kde = True,\n",
    "                 kde_kws = {'shade': True,'linewidth': 2},\n",
    "                 label = platform)\n",
    "  \n",
    "# Plot formatting\n",
    "plt.xlim(1980,2016)\n",
    "plt.legend(prop={'size': 10}, title = 'Platform')\n",
    "plt.title('Density Plot with Multiple Platforms')\n",
    "plt.xlabel('Year of release')\n",
    "plt.ylabel('Density')"
   ]
  },
  {
   "cell_type": "markdown",
   "metadata": {},
   "source": [
    "We can make several conclusions from the plot above. For example:\n",
    "\n",
    "- DS platform was one of the first but not so successful as others\n",
    "\n",
    "- PS platform has the greatest sales but in prevoius periods, now it doesn't sell anyting\n",
    "\n",
    "- PS 3 platform appeared later than others but it's the most successfull now.\n",
    "\n",
    "- It takes from 1 to 5 years for new platform to appear in general (since 1990-es)\n",
    "\n",
    "- Averege lifetime of a platform is about 20 years in general"
   ]
  },
  {
   "cell_type": "markdown",
   "metadata": {},
   "source": [
    "Let's identify potentially profitable platforms. We'll check platforms with 2016 year of release for profitability."
   ]
  },
  {
   "cell_type": "code",
   "execution_count": 20,
   "metadata": {},
   "outputs": [
    {
     "data": {
      "text/html": [
       "<div>\n",
       "<style scoped>\n",
       "    .dataframe tbody tr th:only-of-type {\n",
       "        vertical-align: middle;\n",
       "    }\n",
       "\n",
       "    .dataframe tbody tr th {\n",
       "        vertical-align: top;\n",
       "    }\n",
       "\n",
       "    .dataframe thead th {\n",
       "        text-align: right;\n",
       "    }\n",
       "</style>\n",
       "<table border=\"1\" class=\"dataframe\">\n",
       "  <thead>\n",
       "    <tr style=\"text-align: right;\">\n",
       "      <th></th>\n",
       "      <th>platform</th>\n",
       "      <th>year_of_release</th>\n",
       "      <th>total_sales</th>\n",
       "    </tr>\n",
       "  </thead>\n",
       "  <tbody>\n",
       "    <tr>\n",
       "      <th>0</th>\n",
       "      <td>PS4</td>\n",
       "      <td>2016</td>\n",
       "      <td>69.25</td>\n",
       "    </tr>\n",
       "    <tr>\n",
       "      <th>1</th>\n",
       "      <td>XOne</td>\n",
       "      <td>2016</td>\n",
       "      <td>26.15</td>\n",
       "    </tr>\n",
       "    <tr>\n",
       "      <th>2</th>\n",
       "      <td>3DS</td>\n",
       "      <td>2016</td>\n",
       "      <td>15.14</td>\n",
       "    </tr>\n",
       "    <tr>\n",
       "      <th>3</th>\n",
       "      <td>PC</td>\n",
       "      <td>2016</td>\n",
       "      <td>5.25</td>\n",
       "    </tr>\n",
       "    <tr>\n",
       "      <th>4</th>\n",
       "      <td>WiiU</td>\n",
       "      <td>2016</td>\n",
       "      <td>4.60</td>\n",
       "    </tr>\n",
       "  </tbody>\n",
       "</table>\n",
       "</div>"
      ],
      "text/plain": [
       "  platform  year_of_release  total_sales\n",
       "0      PS4             2016        69.25\n",
       "1     XOne             2016        26.15\n",
       "2      3DS             2016        15.14\n",
       "3       PC             2016         5.25\n",
       "4     WiiU             2016         4.60"
      ]
     },
     "execution_count": 20,
     "metadata": {},
     "output_type": "execute_result"
    }
   ],
   "source": [
    "games_2016 = games.query('year_of_release==2016').groupby(['platform', 'year_of_release']).agg({'total_sales':'sum'}).sort_values(by=['total_sales'], ascending=False).reset_index()\n",
    "games_2016.head()"
   ]
  },
  {
   "cell_type": "code",
   "execution_count": 21,
   "metadata": {},
   "outputs": [
    {
     "name": "stdout",
     "output_type": "stream",
     "text": [
      "2013\n"
     ]
    }
   ],
   "source": [
    "games_ps4 = games.query('platform==\"PS4\"')['year_of_release'].min()\n",
    "print(games_ps4)"
   ]
  },
  {
   "cell_type": "markdown",
   "metadata": {},
   "source": [
    "It seems that we should analyse data with the year of release not older than 2013. \n",
    "We have PS4 as the most popular in 2016. And the year of release of PS4 is 2013. \n",
    "Let's make a dataset with these years only."
   ]
  },
  {
   "cell_type": "code",
   "execution_count": 22,
   "metadata": {},
   "outputs": [
    {
     "data": {
      "text/html": [
       "<div>\n",
       "<style scoped>\n",
       "    .dataframe tbody tr th:only-of-type {\n",
       "        vertical-align: middle;\n",
       "    }\n",
       "\n",
       "    .dataframe tbody tr th {\n",
       "        vertical-align: top;\n",
       "    }\n",
       "\n",
       "    .dataframe thead th {\n",
       "        text-align: right;\n",
       "    }\n",
       "</style>\n",
       "<table border=\"1\" class=\"dataframe\">\n",
       "  <thead>\n",
       "    <tr style=\"text-align: right;\">\n",
       "      <th></th>\n",
       "      <th>platform</th>\n",
       "      <th>total_sales</th>\n",
       "    </tr>\n",
       "  </thead>\n",
       "  <tbody>\n",
       "    <tr>\n",
       "      <th>0</th>\n",
       "      <td>PS4</td>\n",
       "      <td>314.14</td>\n",
       "    </tr>\n",
       "    <tr>\n",
       "      <th>1</th>\n",
       "      <td>PS3</td>\n",
       "      <td>181.43</td>\n",
       "    </tr>\n",
       "    <tr>\n",
       "      <th>2</th>\n",
       "      <td>XOne</td>\n",
       "      <td>159.32</td>\n",
       "    </tr>\n",
       "    <tr>\n",
       "      <th>3</th>\n",
       "      <td>3DS</td>\n",
       "      <td>143.25</td>\n",
       "    </tr>\n",
       "    <tr>\n",
       "      <th>4</th>\n",
       "      <td>X360</td>\n",
       "      <td>136.80</td>\n",
       "    </tr>\n",
       "  </tbody>\n",
       "</table>\n",
       "</div>"
      ],
      "text/plain": [
       "  platform  total_sales\n",
       "0      PS4       314.14\n",
       "1      PS3       181.43\n",
       "2     XOne       159.32\n",
       "3      3DS       143.25\n",
       "4     X360       136.80"
      ]
     },
     "execution_count": 22,
     "metadata": {},
     "output_type": "execute_result"
    }
   ],
   "source": [
    "games_2013 = games.query('year_of_release>=2013').groupby(['platform']).agg({'total_sales':'sum'}).sort_values(by=['total_sales'], ascending=False).reset_index()\n",
    "games_2013.head()"
   ]
  },
  {
   "cell_type": "markdown",
   "metadata": {},
   "source": [
    "We can see from the table above 3 potentially profitable platforms:\n",
    "\n",
    "- PS4\n",
    "\n",
    "- PS3\n",
    "\n",
    "- XOne\n",
    "\n",
    "Let's investigate global sales for these platforms more precisely."
   ]
  },
  {
   "cell_type": "code",
   "execution_count": 23,
   "metadata": {
    "scrolled": false
   },
   "outputs": [
    {
     "name": "stderr",
     "output_type": "stream",
     "text": [
      "/tmp/ipykernel_135/3651137573.py:12: UserWarning: FixedFormatter should only be used together with FixedLocator\n",
      "  ax.set_xticklabels(['PS4', 'PS3', 'XOne'])\n"
     ]
    },
    {
     "data": {
      "image/png": "[encoded data removed]",
      "text/plain": [
       "<Figure size 720x504 with 1 Axes>"
      ]
     },
     "metadata": {
      "needs_background": "light"
     },
     "output_type": "display_data"
    }
   ],
   "source": [
    "#Creating datatset\n",
    "games_for_boxplot = games.query('year_of_release>=2013').groupby(['platform', 'name']).agg({'total_sales':'sum'}).sort_values(by=['total_sales'], ascending=False).reset_index()\n",
    "data_1 = games_for_boxplot.query('platform == \"PS4\"')['total_sales']\n",
    "data_2 = games_for_boxplot.query('platform == \"PS3\"')['total_sales']\n",
    "data_3 = games_for_boxplot.query('platform == \"XOne\"')['total_sales']\n",
    "data = [data_1, data_2, data_3]\n",
    "\n",
    "fig = plt.figure(figsize =(10,7))\n",
    "\n",
    "#Creating axes instance\n",
    "ax = fig.add_axes([0,0,1,1])\n",
    "ax.set_xticklabels(['PS4', 'PS3', 'XOne'])\n",
    "\n",
    "#Creating plot\n",
    "bp = ax.boxplot(data)\n",
    "\n",
    "#Show plot\n",
    "plt.show()"
   ]
  },
  {
   "cell_type": "markdown",
   "metadata": {},
   "source": [
    "There are some outliers in our data - for all popular platforms there are several huge total sales. We do not need to remove them as we wouldn't use the pivot for further analysis. On the other hand, we are still able to make a conclusions about averages.\n",
    "\n",
    "Differences of total sales for platforms analysed are not significant as well as average sales. \n",
    "\n",
    "Let's take a look at how user and professional reviews affect sales for PS3 platform. We'll build a scatter plot and calculate the correlation between ratings and sales."
   ]
  },
  {
   "cell_type": "code",
   "execution_count": 24,
   "metadata": {},
   "outputs": [
    {
     "name": "stdout",
     "output_type": "stream",
     "text": [
      "              critic_score  user_score  total_sales\n",
      "critic_score      1.000000    0.599920     0.334285\n",
      "user_score        0.599920    1.000000     0.002394\n",
      "total_sales       0.334285    0.002394     1.000000\n"
     ]
    }
   ],
   "source": [
    "ps3_corr = games.query('year_of_release >= 2013').loc[games['platform'] == \"PS3\", ['critic_score', 'user_score','total_sales']]\n",
    "print(ps3_corr.corr())"
   ]
  },
  {
   "cell_type": "code",
   "execution_count": 25,
   "metadata": {
    "scrolled": true
   },
   "outputs": [
    {
     "data": {
      "text/plain": [
       "<AxesSubplot:xlabel='total_sales', ylabel='user_score'>"
      ]
     },
     "execution_count": 25,
     "metadata": {},
     "output_type": "execute_result"
    },
    {
     "data": {
      "image/png": "[encoded data removed]",
      "text/plain": [
       "<Figure size 432x288 with 1 Axes>"
      ]
     },
     "metadata": {
      "needs_background": "light"
     },
     "output_type": "display_data"
    },
    {
     "data": {
      "image/png": "[encoded data removed]",
      "text/plain": [
       "<Figure size 432x288 with 1 Axes>"
      ]
     },
     "metadata": {
      "needs_background": "light"
     },
     "output_type": "display_data"
    }
   ],
   "source": [
    "ps_3 = games.query('platform == \"PS3\" and year_of_release >= 2013')\n",
    "ps_3.plot(x = 'total_sales', y='critic_score', kind='scatter')\n",
    "ps_3.plot(x = 'total_sales', y='user_score', kind='scatter')"
   ]
  },
  {
   "cell_type": "markdown",
   "metadata": {},
   "source": [
    "From the correlation matrix above: there is strong correlation index between user and critic score, but not between total sales of the platform and any score (corr index of 60% between user and critic score and 0.02% and 33% between total sales and user and critic score correspondingly). Probably not all the popular games are actually reviewed by critics and users or we just don't have access to this info in the dataset."
   ]
  },
  {
   "cell_type": "markdown",
   "metadata": {},
   "source": [
    "Let's compare the results with other popular platforms."
   ]
  },
  {
   "cell_type": "code",
   "execution_count": 26,
   "metadata": {
    "scrolled": true
   },
   "outputs": [
    {
     "name": "stdout",
     "output_type": "stream",
     "text": [
      "              critic_score  user_score  total_sales\n",
      "critic_score      1.000000    0.472462     0.416998\n",
      "user_score        0.472462    1.000000    -0.068925\n",
      "total_sales       0.416998   -0.068925     1.000000\n"
     ]
    }
   ],
   "source": [
    "x_one_corr = games.query('year_of_release >= 2013').loc[games['platform'] == \"XOne\", ['critic_score', 'user_score','total_sales']]\n",
    "print(x_one_corr.corr())"
   ]
  },
  {
   "cell_type": "code",
   "execution_count": 27,
   "metadata": {},
   "outputs": [
    {
     "data": {
      "text/plain": [
       "<AxesSubplot:xlabel='total_sales', ylabel='user_score'>"
      ]
     },
     "execution_count": 27,
     "metadata": {},
     "output_type": "execute_result"
    },
    {
     "data": {
      "image/png": "[encoded data removed]",
      "text/plain": [
       "<Figure size 432x288 with 1 Axes>"
      ]
     },
     "metadata": {
      "needs_background": "light"
     },
     "output_type": "display_data"
    },
    {
     "data": {
      "image/png": "[encoded data removed]",
      "text/plain": [
       "<Figure size 432x288 with 1 Axes>"
      ]
     },
     "metadata": {
      "needs_background": "light"
     },
     "output_type": "display_data"
    }
   ],
   "source": [
    "x_one = games.query('platform == \"XOne\" and year_of_release >= 2013 ')\n",
    "x_one.plot(x = 'total_sales', y='critic_score', kind='scatter')\n",
    "x_one.plot(x = 'total_sales', y='user_score', kind='scatter')"
   ]
  },
  {
   "cell_type": "code",
   "execution_count": 28,
   "metadata": {
    "scrolled": true
   },
   "outputs": [
    {
     "name": "stdout",
     "output_type": "stream",
     "text": [
      "              critic_score  user_score  total_sales\n",
      "critic_score      1.000000    0.557654     0.406568\n",
      "user_score        0.557654    1.000000    -0.031957\n",
      "total_sales       0.406568   -0.031957     1.000000\n"
     ]
    }
   ],
   "source": [
    "ps4_corr = games.query('year_of_release >= 2013').loc[games['platform'] == \"PS4\", ['critic_score', 'user_score','total_sales']]\n",
    "print(ps4_corr.corr())"
   ]
  },
  {
   "cell_type": "code",
   "execution_count": 29,
   "metadata": {
    "scrolled": true
   },
   "outputs": [
    {
     "data": {
      "text/plain": [
       "<AxesSubplot:xlabel='total_sales', ylabel='user_score'>"
      ]
     },
     "execution_count": 29,
     "metadata": {},
     "output_type": "execute_result"
    },
    {
     "data": {
      "image/png": "[encoded data removed]",
      "text/plain": [
       "<Figure size 432x288 with 1 Axes>"
      ]
     },
     "metadata": {
      "needs_background": "light"
     },
     "output_type": "display_data"
    },
    {
     "data": {
      "image/png": "[encoded data removed]",
      "text/plain": [
       "<Figure size 432x288 with 1 Axes>"
      ]
     },
     "metadata": {
      "needs_background": "light"
     },
     "output_type": "display_data"
    }
   ],
   "source": [
    "ps4 = games.query('platform == \"PS4\" and year_of_release>=2013')\n",
    "ps4.plot(x = 'total_sales', y='critic_score', kind='scatter')\n",
    "ps4.plot(x = 'total_sales', y='user_score', kind='scatter')"
   ]
  },
  {
   "cell_type": "markdown",
   "metadata": {},
   "source": [
    "There is also high correlation index between user and critic score for XOne and PS4, but not between total sales of the platforms and any score."
   ]
  },
  {
   "cell_type": "code",
   "execution_count": 30,
   "metadata": {},
   "outputs": [
    {
     "data": {
      "text/plain": [
       "<matplotlib.legend.Legend at 0x7f434ab9a2e0>"
      ]
     },
     "execution_count": 30,
     "metadata": {},
     "output_type": "execute_result"
    },
    {
     "data": {
      "image/png": "[encoded data removed]",
      "text/plain": [
       "<Figure size 1440x360 with 1 Axes>"
      ]
     },
     "metadata": {
      "needs_background": "light"
     },
     "output_type": "display_data"
    }
   ],
   "source": [
    "# Let's take a look at the general distribution of games by genre \n",
    "\n",
    "genres_pivot = games.query('year_of_release >= 2013').pivot_table(index='genre', values='total_sales', aggfunc='sum').sort_values(by=['total_sales'], ascending=False)\n",
    "ax = genres_pivot.plot(kind='bar', ylabel='total_sales', figsize=(20, 5), rot=0)\n",
    "ax.legend(bbox_to_anchor=(1, 1.02), loc='upper left')"
   ]
  },
  {
   "cell_type": "markdown",
   "metadata": {},
   "source": [
    "As we can see from the plot above, the most profitable genres are Action, Shooter and Sports while Puzzle, Strategy and Advenrute have the lowest sales.\n"
   ]
  },
  {
   "cell_type": "markdown",
   "metadata": {},
   "source": [
    "Let's investigate total sales for the most popular genres more precisely."
   ]
  },
  {
   "cell_type": "code",
   "execution_count": 31,
   "metadata": {},
   "outputs": [
    {
     "name": "stderr",
     "output_type": "stream",
     "text": [
      "/tmp/ipykernel_135/1249188295.py:14: UserWarning: FixedFormatter should only be used together with FixedLocator\n",
      "  ax.set_xticklabels(['Action', 'Shooter', 'Sports', 'Role-Playing', 'Misc'])\n"
     ]
    },
    {
     "data": {
      "image/png": "[encoded data removed]",
      "text/plain": [
       "<Figure size 720x504 with 1 Axes>"
      ]
     },
     "metadata": {
      "needs_background": "light"
     },
     "output_type": "display_data"
    }
   ],
   "source": [
    "#Creating datatset\n",
    "genres_pivot1 = games.query('year_of_release >= 2013').pivot_table(index=['genre', 'name'], values='total_sales', aggfunc='sum').sort_values(by=['total_sales'], ascending=False)\n",
    "data_4 = genres_pivot1.query('genre == \"Action\"')['total_sales']\n",
    "data_5 = genres_pivot1.query('genre == \"Shooter\"')['total_sales']\n",
    "data_6 = genres_pivot1.query('genre == \"Sports\"')['total_sales']\n",
    "data_7 = genres_pivot1.query('genre == \"Role-Playing\"')['total_sales']\n",
    "data_8 = genres_pivot1.query('genre == \"Misc\"')['total_sales']\n",
    "data_boxplot = [data_4, data_5, data_6, data_7, data_8]\n",
    "\n",
    "fig = plt.figure(figsize =(10,7))\n",
    "\n",
    "#Creating axes instance\n",
    "ax = fig.add_axes([0,0,1,1])\n",
    "ax.set_xticklabels(['Action', 'Shooter', 'Sports', 'Role-Playing', 'Misc'])\n",
    "\n",
    "#Creating plot\n",
    "bp = ax.boxplot(data_boxplot)\n",
    "\n",
    "#Show plot\n",
    "plt.show()"
   ]
  },
  {
   "cell_type": "markdown",
   "metadata": {},
   "source": [
    "Average total sales for games slightly differ from total sales by genre. For example, total sales of 'Action' genre are higher than 'Shooter', but average sales of the latest one are higher.\n"
   ]
  },
  {
   "cell_type": "markdown",
   "metadata": {},
   "source": [
    "## Create a user profile for each region"
   ]
  },
  {
   "cell_type": "markdown",
   "metadata": {},
   "source": [
    "For each region (NA, EU, JP) we will determine:\n",
    "\n",
    "- The top five platforms. Describe variations in their market shares from region to region.\n",
    "\n",
    "- The top five genres. Explain the difference\n",
    "\n",
    "- Do ESRB ratings affect sales in individual regions?"
   ]
  },
  {
   "cell_type": "code",
   "execution_count": 32,
   "metadata": {
    "scrolled": false
   },
   "outputs": [
    {
     "data": {
      "text/html": [
       "<div>\n",
       "<style scoped>\n",
       "    .dataframe tbody tr th:only-of-type {\n",
       "        vertical-align: middle;\n",
       "    }\n",
       "\n",
       "    .dataframe tbody tr th {\n",
       "        vertical-align: top;\n",
       "    }\n",
       "\n",
       "    .dataframe thead th {\n",
       "        text-align: right;\n",
       "    }\n",
       "</style>\n",
       "<table border=\"1\" class=\"dataframe\">\n",
       "  <thead>\n",
       "    <tr style=\"text-align: right;\">\n",
       "      <th></th>\n",
       "      <th>platform</th>\n",
       "      <th>na_sales</th>\n",
       "      <th>platform_share</th>\n",
       "    </tr>\n",
       "  </thead>\n",
       "  <tbody>\n",
       "    <tr>\n",
       "      <th>0</th>\n",
       "      <td>PS4</td>\n",
       "      <td>108.74</td>\n",
       "      <td>0.248429</td>\n",
       "    </tr>\n",
       "    <tr>\n",
       "      <th>1</th>\n",
       "      <td>XOne</td>\n",
       "      <td>93.12</td>\n",
       "      <td>0.212744</td>\n",
       "    </tr>\n",
       "    <tr>\n",
       "      <th>2</th>\n",
       "      <td>X360</td>\n",
       "      <td>81.66</td>\n",
       "      <td>0.186562</td>\n",
       "    </tr>\n",
       "    <tr>\n",
       "      <th>3</th>\n",
       "      <td>PS3</td>\n",
       "      <td>63.50</td>\n",
       "      <td>0.145073</td>\n",
       "    </tr>\n",
       "    <tr>\n",
       "      <th>4</th>\n",
       "      <td>3DS</td>\n",
       "      <td>38.20</td>\n",
       "      <td>0.087272</td>\n",
       "    </tr>\n",
       "  </tbody>\n",
       "</table>\n",
       "</div>"
      ],
      "text/plain": [
       "  platform  na_sales  platform_share\n",
       "0      PS4    108.74        0.248429\n",
       "1     XOne     93.12        0.212744\n",
       "2     X360     81.66        0.186562\n",
       "3      PS3     63.50        0.145073\n",
       "4      3DS     38.20        0.087272"
      ]
     },
     "execution_count": 32,
     "metadata": {},
     "output_type": "execute_result"
    }
   ],
   "source": [
    "# Top five platforms for each region and conclusions\n",
    "data = games.query('year_of_release >= 2013')\n",
    "games_na_pivot = data.pivot_table(index='platform', values='na_sales', aggfunc='sum').sort_values(by=['na_sales'], ascending=False).reset_index()\n",
    "games_na_pivot['platform_share'] = games_na_pivot['na_sales']/(games_na_pivot['na_sales']).sum()\n",
    "\n",
    "games_na_pivot.head()\n"
   ]
  },
  {
   "cell_type": "markdown",
   "metadata": {},
   "source": [
    "Let's create top 5 platform piecharts for each region/genre/rating."
   ]
  },
  {
   "cell_type": "code",
   "execution_count": 33,
   "metadata": {},
   "outputs": [
    {
     "name": "stderr",
     "output_type": "stream",
     "text": [
      "/tmp/ipykernel_135/2196350196.py:3: SettingWithCopyWarning: \n",
      "A value is trying to be set on a copy of a slice from a DataFrame.\n",
      "Try using .loc[row_indexer,col_indexer] = value instead\n",
      "\n",
      "See the caveats in the documentation: https://pandas.pydata.org/pandas-docs/stable/user_guide/indexing.html#returning-a-view-versus-a-copy\n",
      "  data['platform2'] = data.platform.apply(lambda x: x if x in top_5_platform else 'others')\n"
     ]
    },
    {
     "data": {
      "image/png": "[encoded data removed]",
      "text/plain": [
       "<Figure size 1440x720 with 1 Axes>"
      ]
     },
     "metadata": {},
     "output_type": "display_data"
    }
   ],
   "source": [
    "top_5_platform = games_na_pivot['platform'][:5].tolist()\n",
    "\n",
    "data['platform2'] = data.platform.apply(lambda x: x if x in top_5_platform else 'others')\n",
    "data.platform2.value_counts()\n",
    "\n",
    "na_sales2 = data.pivot_table(index = 'platform2', values = 'na_sales', aggfunc = 'sum').reset_index()\n",
    "na_sales2\n",
    "\n",
    "\n",
    "na_sales2.plot(kind = 'pie', y = 'na_sales', labels = na_sales2['platform2'],autopct='%1.1f%%', figsize = (20,10), title = \"Top 5 NA platforms\")\n",
    "plt.show()"
   ]
  },
  {
   "cell_type": "code",
   "execution_count": 34,
   "metadata": {
    "scrolled": true
   },
   "outputs": [
    {
     "data": {
      "text/html": [
       "<div>\n",
       "<style scoped>\n",
       "    .dataframe tbody tr th:only-of-type {\n",
       "        vertical-align: middle;\n",
       "    }\n",
       "\n",
       "    .dataframe tbody tr th {\n",
       "        vertical-align: top;\n",
       "    }\n",
       "\n",
       "    .dataframe thead th {\n",
       "        text-align: right;\n",
       "    }\n",
       "</style>\n",
       "<table border=\"1\" class=\"dataframe\">\n",
       "  <thead>\n",
       "    <tr style=\"text-align: right;\">\n",
       "      <th></th>\n",
       "      <th>platform</th>\n",
       "      <th>eu_sales</th>\n",
       "      <th>platform_share</th>\n",
       "    </tr>\n",
       "  </thead>\n",
       "  <tbody>\n",
       "    <tr>\n",
       "      <th>0</th>\n",
       "      <td>PS4</td>\n",
       "      <td>141.09</td>\n",
       "      <td>0.359712</td>\n",
       "    </tr>\n",
       "    <tr>\n",
       "      <th>1</th>\n",
       "      <td>PS3</td>\n",
       "      <td>67.81</td>\n",
       "      <td>0.172883</td>\n",
       "    </tr>\n",
       "    <tr>\n",
       "      <th>2</th>\n",
       "      <td>XOne</td>\n",
       "      <td>51.59</td>\n",
       "      <td>0.131530</td>\n",
       "    </tr>\n",
       "    <tr>\n",
       "      <th>3</th>\n",
       "      <td>X360</td>\n",
       "      <td>42.52</td>\n",
       "      <td>0.108406</td>\n",
       "    </tr>\n",
       "    <tr>\n",
       "      <th>4</th>\n",
       "      <td>3DS</td>\n",
       "      <td>30.96</td>\n",
       "      <td>0.078933</td>\n",
       "    </tr>\n",
       "  </tbody>\n",
       "</table>\n",
       "</div>"
      ],
      "text/plain": [
       "  platform  eu_sales  platform_share\n",
       "0      PS4    141.09        0.359712\n",
       "1      PS3     67.81        0.172883\n",
       "2     XOne     51.59        0.131530\n",
       "3     X360     42.52        0.108406\n",
       "4      3DS     30.96        0.078933"
      ]
     },
     "execution_count": 34,
     "metadata": {},
     "output_type": "execute_result"
    }
   ],
   "source": [
    "games_eu_pivot = data.pivot_table(index='platform', values='eu_sales', aggfunc='sum').sort_values(by=['eu_sales'], ascending=False).reset_index()\n",
    "games_eu_pivot['platform_share'] = games_eu_pivot['eu_sales']/sum(games_eu_pivot['eu_sales'])\n",
    "games_eu_pivot.head()"
   ]
  },
  {
   "cell_type": "code",
   "execution_count": 35,
   "metadata": {
    "scrolled": true
   },
   "outputs": [
    {
     "name": "stderr",
     "output_type": "stream",
     "text": [
      "/tmp/ipykernel_135/1700749476.py:3: SettingWithCopyWarning: \n",
      "A value is trying to be set on a copy of a slice from a DataFrame.\n",
      "Try using .loc[row_indexer,col_indexer] = value instead\n",
      "\n",
      "See the caveats in the documentation: https://pandas.pydata.org/pandas-docs/stable/user_guide/indexing.html#returning-a-view-versus-a-copy\n",
      "  data['platform2'] = data.platform.apply(lambda x: x if x in top_5_platform else 'others')\n"
     ]
    },
    {
     "data": {
      "image/png": "[encoded data removed]",
      "text/plain": [
       "<Figure size 1440x720 with 1 Axes>"
      ]
     },
     "metadata": {},
     "output_type": "display_data"
    }
   ],
   "source": [
    "top_5_platform = games_eu_pivot['platform'][:5].tolist()\n",
    "\n",
    "data['platform2'] = data.platform.apply(lambda x: x if x in top_5_platform else 'others')\n",
    "data.platform2.value_counts()\n",
    "\n",
    "eu_sales2 = data.pivot_table(index = 'platform2', values = 'eu_sales', aggfunc = 'sum').reset_index()\n",
    "eu_sales2\n",
    "\n",
    "eu_sales2.plot(kind = 'pie', y = 'eu_sales', labels = eu_sales2['platform2'],autopct='%1.1f%%', figsize = (20,10), title = \"Top 5 EU platforms\")\n",
    "plt.show()\n"
   ]
  },
  {
   "cell_type": "code",
   "execution_count": 36,
   "metadata": {
    "scrolled": true
   },
   "outputs": [
    {
     "data": {
      "text/html": [
       "<div>\n",
       "<style scoped>\n",
       "    .dataframe tbody tr th:only-of-type {\n",
       "        vertical-align: middle;\n",
       "    }\n",
       "\n",
       "    .dataframe tbody tr th {\n",
       "        vertical-align: top;\n",
       "    }\n",
       "\n",
       "    .dataframe thead th {\n",
       "        text-align: right;\n",
       "    }\n",
       "</style>\n",
       "<table border=\"1\" class=\"dataframe\">\n",
       "  <thead>\n",
       "    <tr style=\"text-align: right;\">\n",
       "      <th></th>\n",
       "      <th>platform</th>\n",
       "      <th>jp_sales</th>\n",
       "      <th>platform_share</th>\n",
       "    </tr>\n",
       "  </thead>\n",
       "  <tbody>\n",
       "    <tr>\n",
       "      <th>0</th>\n",
       "      <td>3DS</td>\n",
       "      <td>67.81</td>\n",
       "      <td>0.481674</td>\n",
       "    </tr>\n",
       "    <tr>\n",
       "      <th>1</th>\n",
       "      <td>PS3</td>\n",
       "      <td>23.35</td>\n",
       "      <td>0.165862</td>\n",
       "    </tr>\n",
       "    <tr>\n",
       "      <th>2</th>\n",
       "      <td>PSV</td>\n",
       "      <td>18.59</td>\n",
       "      <td>0.132050</td>\n",
       "    </tr>\n",
       "    <tr>\n",
       "      <th>3</th>\n",
       "      <td>PS4</td>\n",
       "      <td>15.96</td>\n",
       "      <td>0.113368</td>\n",
       "    </tr>\n",
       "    <tr>\n",
       "      <th>4</th>\n",
       "      <td>WiiU</td>\n",
       "      <td>10.88</td>\n",
       "      <td>0.077284</td>\n",
       "    </tr>\n",
       "  </tbody>\n",
       "</table>\n",
       "</div>"
      ],
      "text/plain": [
       "  platform  jp_sales  platform_share\n",
       "0      3DS     67.81        0.481674\n",
       "1      PS3     23.35        0.165862\n",
       "2      PSV     18.59        0.132050\n",
       "3      PS4     15.96        0.113368\n",
       "4     WiiU     10.88        0.077284"
      ]
     },
     "execution_count": 36,
     "metadata": {},
     "output_type": "execute_result"
    }
   ],
   "source": [
    "games_jp_pivot = data.pivot_table(index='platform', values='jp_sales', aggfunc='sum').sort_values(by=['jp_sales'], ascending=False).reset_index()\n",
    "games_jp_pivot['platform_share'] = games_jp_pivot['jp_sales']/sum(games_jp_pivot['jp_sales'])\n",
    "games_jp_pivot.head()"
   ]
  },
  {
   "cell_type": "code",
   "execution_count": 37,
   "metadata": {},
   "outputs": [
    {
     "name": "stderr",
     "output_type": "stream",
     "text": [
      "/tmp/ipykernel_135/120270503.py:3: SettingWithCopyWarning: \n",
      "A value is trying to be set on a copy of a slice from a DataFrame.\n",
      "Try using .loc[row_indexer,col_indexer] = value instead\n",
      "\n",
      "See the caveats in the documentation: https://pandas.pydata.org/pandas-docs/stable/user_guide/indexing.html#returning-a-view-versus-a-copy\n",
      "  data['platform2'] = data.platform.apply(lambda x: x if x in top_5_platform else 'others')\n"
     ]
    },
    {
     "data": {
      "image/png": "[encoded data removed]",
      "text/plain": [
       "<Figure size 1440x720 with 1 Axes>"
      ]
     },
     "metadata": {},
     "output_type": "display_data"
    }
   ],
   "source": [
    "top_5_platform = games_jp_pivot['platform'][:5].tolist()\n",
    "\n",
    "data['platform2'] = data.platform.apply(lambda x: x if x in top_5_platform else 'others')\n",
    "data.platform2.value_counts()\n",
    "\n",
    "jp_sales2 = data.pivot_table(index = 'platform2', values = 'jp_sales', aggfunc = 'sum').reset_index()\n",
    "jp_sales2\n",
    "\n",
    "jp_sales2.plot(kind = 'pie', y = 'jp_sales', labels = eu_sales2['platform2'], autopct='%1.1f%%', figsize = (20,10), title = \"Top 5 JP platforms\")\n",
    "plt.show()"
   ]
  },
  {
   "cell_type": "markdown",
   "metadata": {},
   "source": [
    "As we can see from pivot tables above, different platforms are popular in defferent regions. \n",
    "\n",
    "PS4 is the most popular platfrom in NA and EU, while in JP it's 3DS (almost half of total sales). \n",
    "\n",
    "Top 5 is equal for NA and EU. PSV and WiiU not included in top 5 for NA and EU are popular in JP.\n",
    "\n"
   ]
  },
  {
   "cell_type": "code",
   "execution_count": 38,
   "metadata": {},
   "outputs": [
    {
     "data": {
      "text/html": [
       "<div>\n",
       "<style scoped>\n",
       "    .dataframe tbody tr th:only-of-type {\n",
       "        vertical-align: middle;\n",
       "    }\n",
       "\n",
       "    .dataframe tbody tr th {\n",
       "        vertical-align: top;\n",
       "    }\n",
       "\n",
       "    .dataframe thead th {\n",
       "        text-align: right;\n",
       "    }\n",
       "</style>\n",
       "<table border=\"1\" class=\"dataframe\">\n",
       "  <thead>\n",
       "    <tr style=\"text-align: right;\">\n",
       "      <th></th>\n",
       "      <th>genre</th>\n",
       "      <th>na_sales</th>\n",
       "      <th>genre_share</th>\n",
       "    </tr>\n",
       "  </thead>\n",
       "  <tbody>\n",
       "    <tr>\n",
       "      <th>0</th>\n",
       "      <td>Action</td>\n",
       "      <td>126.05</td>\n",
       "      <td>0.287976</td>\n",
       "    </tr>\n",
       "    <tr>\n",
       "      <th>1</th>\n",
       "      <td>Shooter</td>\n",
       "      <td>109.74</td>\n",
       "      <td>0.250714</td>\n",
       "    </tr>\n",
       "    <tr>\n",
       "      <th>2</th>\n",
       "      <td>Sports</td>\n",
       "      <td>65.27</td>\n",
       "      <td>0.149117</td>\n",
       "    </tr>\n",
       "    <tr>\n",
       "      <th>3</th>\n",
       "      <td>Role-Playing</td>\n",
       "      <td>46.40</td>\n",
       "      <td>0.106006</td>\n",
       "    </tr>\n",
       "    <tr>\n",
       "      <th>4</th>\n",
       "      <td>Misc</td>\n",
       "      <td>27.49</td>\n",
       "      <td>0.062804</td>\n",
       "    </tr>\n",
       "  </tbody>\n",
       "</table>\n",
       "</div>"
      ],
      "text/plain": [
       "          genre  na_sales  genre_share\n",
       "0        Action    126.05     0.287976\n",
       "1       Shooter    109.74     0.250714\n",
       "2        Sports     65.27     0.149117\n",
       "3  Role-Playing     46.40     0.106006\n",
       "4          Misc     27.49     0.062804"
      ]
     },
     "execution_count": 38,
     "metadata": {},
     "output_type": "execute_result"
    }
   ],
   "source": [
    "# Top five genres for each region and conclusions\n",
    "genre_na_pivot = data.pivot_table(index='genre', values='na_sales', aggfunc='sum').sort_values(by=['na_sales'], ascending=False).reset_index()\n",
    "genre_na_pivot['genre_share'] = genre_na_pivot['na_sales']/sum(genre_na_pivot['na_sales'])\n",
    "genre_na_pivot.head()"
   ]
  },
  {
   "cell_type": "code",
   "execution_count": 39,
   "metadata": {},
   "outputs": [
    {
     "name": "stderr",
     "output_type": "stream",
     "text": [
      "/tmp/ipykernel_135/59932035.py:3: SettingWithCopyWarning: \n",
      "A value is trying to be set on a copy of a slice from a DataFrame.\n",
      "Try using .loc[row_indexer,col_indexer] = value instead\n",
      "\n",
      "See the caveats in the documentation: https://pandas.pydata.org/pandas-docs/stable/user_guide/indexing.html#returning-a-view-versus-a-copy\n",
      "  data['genre2'] = data.genre.apply(lambda x: x if x in top_5_genre else 'others')\n"
     ]
    },
    {
     "data": {
      "image/png": "[encoded data removed]",
      "text/plain": [
       "<Figure size 1440x720 with 1 Axes>"
      ]
     },
     "metadata": {},
     "output_type": "display_data"
    }
   ],
   "source": [
    "top_5_genre = genre_na_pivot['genre'][:5].tolist()\n",
    "\n",
    "data['genre2'] = data.genre.apply(lambda x: x if x in top_5_genre else 'others')\n",
    "data.genre2.value_counts()\n",
    "\n",
    "na_sales2 = data.pivot_table(index = 'genre2', values = 'na_sales', aggfunc = 'sum').reset_index()\n",
    "na_sales2\n",
    "\n",
    "na_sales2.plot(kind = 'pie', y = 'na_sales', labels = na_sales2['genre2'],autopct='%1.1f%%', figsize = (20,10), title = \"Top 5 NA genres\")\n",
    "plt.show()"
   ]
  },
  {
   "cell_type": "code",
   "execution_count": 40,
   "metadata": {},
   "outputs": [
    {
     "data": {
      "text/html": [
       "<div>\n",
       "<style scoped>\n",
       "    .dataframe tbody tr th:only-of-type {\n",
       "        vertical-align: middle;\n",
       "    }\n",
       "\n",
       "    .dataframe tbody tr th {\n",
       "        vertical-align: top;\n",
       "    }\n",
       "\n",
       "    .dataframe thead th {\n",
       "        text-align: right;\n",
       "    }\n",
       "</style>\n",
       "<table border=\"1\" class=\"dataframe\">\n",
       "  <thead>\n",
       "    <tr style=\"text-align: right;\">\n",
       "      <th></th>\n",
       "      <th>genre</th>\n",
       "      <th>eu_sales</th>\n",
       "      <th>genre_share</th>\n",
       "    </tr>\n",
       "  </thead>\n",
       "  <tbody>\n",
       "    <tr>\n",
       "      <th>0</th>\n",
       "      <td>Action</td>\n",
       "      <td>118.13</td>\n",
       "      <td>0.301175</td>\n",
       "    </tr>\n",
       "    <tr>\n",
       "      <th>1</th>\n",
       "      <td>Shooter</td>\n",
       "      <td>87.86</td>\n",
       "      <td>0.224001</td>\n",
       "    </tr>\n",
       "    <tr>\n",
       "      <th>2</th>\n",
       "      <td>Sports</td>\n",
       "      <td>60.52</td>\n",
       "      <td>0.154297</td>\n",
       "    </tr>\n",
       "    <tr>\n",
       "      <th>3</th>\n",
       "      <td>Role-Playing</td>\n",
       "      <td>36.97</td>\n",
       "      <td>0.094256</td>\n",
       "    </tr>\n",
       "    <tr>\n",
       "      <th>4</th>\n",
       "      <td>Racing</td>\n",
       "      <td>20.19</td>\n",
       "      <td>0.051475</td>\n",
       "    </tr>\n",
       "  </tbody>\n",
       "</table>\n",
       "</div>"
      ],
      "text/plain": [
       "          genre  eu_sales  genre_share\n",
       "0        Action    118.13     0.301175\n",
       "1       Shooter     87.86     0.224001\n",
       "2        Sports     60.52     0.154297\n",
       "3  Role-Playing     36.97     0.094256\n",
       "4        Racing     20.19     0.051475"
      ]
     },
     "execution_count": 40,
     "metadata": {},
     "output_type": "execute_result"
    }
   ],
   "source": [
    "genre_eu_pivot = data.pivot_table(index='genre', values='eu_sales', aggfunc='sum').sort_values(by=['eu_sales'], ascending=False).reset_index()\n",
    "genre_eu_pivot['genre_share'] = genre_eu_pivot['eu_sales']/sum(genre_eu_pivot['eu_sales'])\n",
    "genre_eu_pivot.head()\n"
   ]
  },
  {
   "cell_type": "code",
   "execution_count": 41,
   "metadata": {},
   "outputs": [
    {
     "name": "stderr",
     "output_type": "stream",
     "text": [
      "/tmp/ipykernel_135/1841784471.py:3: SettingWithCopyWarning: \n",
      "A value is trying to be set on a copy of a slice from a DataFrame.\n",
      "Try using .loc[row_indexer,col_indexer] = value instead\n",
      "\n",
      "See the caveats in the documentation: https://pandas.pydata.org/pandas-docs/stable/user_guide/indexing.html#returning-a-view-versus-a-copy\n",
      "  data['genre2'] = data.genre.apply(lambda x: x if x in top_5_genre else 'others')\n"
     ]
    },
    {
     "data": {
      "image/png": "[encoded data removed]",
      "text/plain": [
       "<Figure size 1440x720 with 1 Axes>"
      ]
     },
     "metadata": {},
     "output_type": "display_data"
    }
   ],
   "source": [
    "top_5_genre = genre_eu_pivot['genre'][:5].tolist()\n",
    "\n",
    "data['genre2'] = data.genre.apply(lambda x: x if x in top_5_genre else 'others')\n",
    "data.genre2.value_counts()\n",
    "\n",
    "eu_sales2 = data.pivot_table(index = 'genre2', values = 'eu_sales', aggfunc = 'sum').reset_index()\n",
    "eu_sales2\n",
    "\n",
    "eu_sales2.plot(kind = 'pie', y = 'eu_sales', labels = eu_sales2['genre2'],autopct='%1.1f%%', figsize = (20,10), title = \"Top 5 EU genres\")\n",
    "plt.show()"
   ]
  },
  {
   "cell_type": "code",
   "execution_count": 42,
   "metadata": {},
   "outputs": [
    {
     "data": {
      "text/html": [
       "<div>\n",
       "<style scoped>\n",
       "    .dataframe tbody tr th:only-of-type {\n",
       "        vertical-align: middle;\n",
       "    }\n",
       "\n",
       "    .dataframe tbody tr th {\n",
       "        vertical-align: top;\n",
       "    }\n",
       "\n",
       "    .dataframe thead th {\n",
       "        text-align: right;\n",
       "    }\n",
       "</style>\n",
       "<table border=\"1\" class=\"dataframe\">\n",
       "  <thead>\n",
       "    <tr style=\"text-align: right;\">\n",
       "      <th></th>\n",
       "      <th>genre</th>\n",
       "      <th>jp_sales</th>\n",
       "      <th>genre_share</th>\n",
       "    </tr>\n",
       "  </thead>\n",
       "  <tbody>\n",
       "    <tr>\n",
       "      <th>0</th>\n",
       "      <td>Role-Playing</td>\n",
       "      <td>51.04</td>\n",
       "      <td>0.362551</td>\n",
       "    </tr>\n",
       "    <tr>\n",
       "      <th>1</th>\n",
       "      <td>Action</td>\n",
       "      <td>40.49</td>\n",
       "      <td>0.287612</td>\n",
       "    </tr>\n",
       "    <tr>\n",
       "      <th>2</th>\n",
       "      <td>Misc</td>\n",
       "      <td>9.20</td>\n",
       "      <td>0.065350</td>\n",
       "    </tr>\n",
       "    <tr>\n",
       "      <th>3</th>\n",
       "      <td>Fighting</td>\n",
       "      <td>7.65</td>\n",
       "      <td>0.054340</td>\n",
       "    </tr>\n",
       "    <tr>\n",
       "      <th>4</th>\n",
       "      <td>Shooter</td>\n",
       "      <td>6.61</td>\n",
       "      <td>0.046953</td>\n",
       "    </tr>\n",
       "  </tbody>\n",
       "</table>\n",
       "</div>"
      ],
      "text/plain": [
       "          genre  jp_sales  genre_share\n",
       "0  Role-Playing     51.04     0.362551\n",
       "1        Action     40.49     0.287612\n",
       "2          Misc      9.20     0.065350\n",
       "3      Fighting      7.65     0.054340\n",
       "4       Shooter      6.61     0.046953"
      ]
     },
     "execution_count": 42,
     "metadata": {},
     "output_type": "execute_result"
    }
   ],
   "source": [
    "genre_jp_pivot = data.pivot_table(index='genre', values='jp_sales', aggfunc='sum').sort_values(by=['jp_sales'], ascending=False).reset_index()\n",
    "genre_jp_pivot['genre_share'] = genre_jp_pivot['jp_sales']/sum(genre_jp_pivot['jp_sales'])\n",
    "genre_jp_pivot.head()"
   ]
  },
  {
   "cell_type": "code",
   "execution_count": 43,
   "metadata": {},
   "outputs": [
    {
     "name": "stderr",
     "output_type": "stream",
     "text": [
      "/tmp/ipykernel_135/2607414273.py:3: SettingWithCopyWarning: \n",
      "A value is trying to be set on a copy of a slice from a DataFrame.\n",
      "Try using .loc[row_indexer,col_indexer] = value instead\n",
      "\n",
      "See the caveats in the documentation: https://pandas.pydata.org/pandas-docs/stable/user_guide/indexing.html#returning-a-view-versus-a-copy\n",
      "  data['genre2'] = data.genre.apply(lambda x: x if x in top_5_genre else 'others')\n"
     ]
    },
    {
     "data": {
      "image/png": "[encoded data removed]",
      "text/plain": [
       "<Figure size 1440x720 with 1 Axes>"
      ]
     },
     "metadata": {},
     "output_type": "display_data"
    }
   ],
   "source": [
    "top_5_genre = genre_jp_pivot['genre'][:5].tolist()\n",
    "\n",
    "data['genre2'] = data.genre.apply(lambda x: x if x in top_5_genre else 'others')\n",
    "data.genre2.value_counts()\n",
    "\n",
    "jp_sales2 = data.pivot_table(index = 'genre2', values = 'jp_sales', aggfunc = 'sum').reset_index()\n",
    "jp_sales2\n",
    "\n",
    "jp_sales2.plot(kind = 'pie', y = 'jp_sales', labels = jp_sales2['genre2'],autopct='%1.1f%%', figsize = (20,10), title = \"Top 5 JP genres\")\n",
    "plt.show()"
   ]
  },
  {
   "cell_type": "markdown",
   "metadata": {},
   "source": [
    "Structure of users preferences is quite similar for NA and EU, the most popular genre is Action, middle genres are the same (Sport, Shooter, Role-Playing), the last ones in top five are different.\n",
    "\n",
    "Role-playing is the most popular genre in JP.\n"
   ]
  },
  {
   "cell_type": "code",
   "execution_count": 44,
   "metadata": {},
   "outputs": [
    {
     "data": {
      "text/html": [
       "<div>\n",
       "<style scoped>\n",
       "    .dataframe tbody tr th:only-of-type {\n",
       "        vertical-align: middle;\n",
       "    }\n",
       "\n",
       "    .dataframe tbody tr th {\n",
       "        vertical-align: top;\n",
       "    }\n",
       "\n",
       "    .dataframe thead th {\n",
       "        text-align: right;\n",
       "    }\n",
       "</style>\n",
       "<table border=\"1\" class=\"dataframe\">\n",
       "  <thead>\n",
       "    <tr style=\"text-align: right;\">\n",
       "      <th></th>\n",
       "      <th>rating</th>\n",
       "      <th>na_sales</th>\n",
       "      <th>rating_share</th>\n",
       "    </tr>\n",
       "  </thead>\n",
       "  <tbody>\n",
       "    <tr>\n",
       "      <th>0</th>\n",
       "      <td>M</td>\n",
       "      <td>165.21</td>\n",
       "      <td>0.377442</td>\n",
       "    </tr>\n",
       "    <tr>\n",
       "      <th>1</th>\n",
       "      <td>no info</td>\n",
       "      <td>89.42</td>\n",
       "      <td>0.204291</td>\n",
       "    </tr>\n",
       "    <tr>\n",
       "      <th>2</th>\n",
       "      <td>E</td>\n",
       "      <td>79.05</td>\n",
       "      <td>0.180599</td>\n",
       "    </tr>\n",
       "    <tr>\n",
       "      <th>3</th>\n",
       "      <td>E10+</td>\n",
       "      <td>54.24</td>\n",
       "      <td>0.123918</td>\n",
       "    </tr>\n",
       "    <tr>\n",
       "      <th>4</th>\n",
       "      <td>T</td>\n",
       "      <td>49.79</td>\n",
       "      <td>0.113751</td>\n",
       "    </tr>\n",
       "  </tbody>\n",
       "</table>\n",
       "</div>"
      ],
      "text/plain": [
       "    rating  na_sales  rating_share\n",
       "0        M    165.21      0.377442\n",
       "1  no info     89.42      0.204291\n",
       "2        E     79.05      0.180599\n",
       "3     E10+     54.24      0.123918\n",
       "4        T     49.79      0.113751"
      ]
     },
     "execution_count": 44,
     "metadata": {},
     "output_type": "execute_result"
    }
   ],
   "source": [
    "rating_na_pivot = data.pivot_table(index='rating', values='na_sales', aggfunc='sum').sort_values(by=['na_sales'], ascending=False).reset_index()\n",
    "rating_na_pivot['rating_share'] = rating_na_pivot['na_sales']/sum(rating_na_pivot['na_sales'])\n",
    "rating_na_pivot.head()"
   ]
  },
  {
   "cell_type": "code",
   "execution_count": 45,
   "metadata": {
    "scrolled": false
   },
   "outputs": [
    {
     "name": "stderr",
     "output_type": "stream",
     "text": [
      "/tmp/ipykernel_135/1751818485.py:4: SettingWithCopyWarning: \n",
      "A value is trying to be set on a copy of a slice from a DataFrame.\n",
      "Try using .loc[row_indexer,col_indexer] = value instead\n",
      "\n",
      "See the caveats in the documentation: https://pandas.pydata.org/pandas-docs/stable/user_guide/indexing.html#returning-a-view-versus-a-copy\n",
      "  data['rating2'] = data.rating.apply(lambda x: x if x in top_5_rating else 'others')\n"
     ]
    },
    {
     "data": {
      "image/png": "[encoded data removed]",
      "text/plain": [
       "<Figure size 1440x720 with 1 Axes>"
      ]
     },
     "metadata": {},
     "output_type": "display_data"
    }
   ],
   "source": [
    "# Top five ESRB ratings and conclusions\n",
    "top_5_rating = rating_na_pivot['rating'][:5].tolist()\n",
    "\n",
    "data['rating2'] = data.rating.apply(lambda x: x if x in top_5_rating else 'others')\n",
    "data.rating2.value_counts()\n",
    "\n",
    "na_sales2 = data.pivot_table(index = 'rating2', values = 'na_sales', aggfunc = 'sum').reset_index()\n",
    "na_sales2\n",
    "\n",
    "na_sales2.plot(kind = 'pie', y = 'na_sales', labels = na_sales2['rating2'],autopct='%1.1f%%', figsize = (20,10), title = \"Top 5 NA ratings\")\n",
    "plt.show()"
   ]
  },
  {
   "cell_type": "code",
   "execution_count": 46,
   "metadata": {},
   "outputs": [
    {
     "data": {
      "text/html": [
       "<div>\n",
       "<style scoped>\n",
       "    .dataframe tbody tr th:only-of-type {\n",
       "        vertical-align: middle;\n",
       "    }\n",
       "\n",
       "    .dataframe tbody tr th {\n",
       "        vertical-align: top;\n",
       "    }\n",
       "\n",
       "    .dataframe thead th {\n",
       "        text-align: right;\n",
       "    }\n",
       "</style>\n",
       "<table border=\"1\" class=\"dataframe\">\n",
       "  <thead>\n",
       "    <tr style=\"text-align: right;\">\n",
       "      <th></th>\n",
       "      <th>rating</th>\n",
       "      <th>eu_sales</th>\n",
       "      <th>rating_share</th>\n",
       "    </tr>\n",
       "  </thead>\n",
       "  <tbody>\n",
       "    <tr>\n",
       "      <th>0</th>\n",
       "      <td>M</td>\n",
       "      <td>145.32</td>\n",
       "      <td>0.370497</td>\n",
       "    </tr>\n",
       "    <tr>\n",
       "      <th>1</th>\n",
       "      <td>E</td>\n",
       "      <td>83.36</td>\n",
       "      <td>0.212528</td>\n",
       "    </tr>\n",
       "    <tr>\n",
       "      <th>2</th>\n",
       "      <td>no info</td>\n",
       "      <td>78.91</td>\n",
       "      <td>0.201183</td>\n",
       "    </tr>\n",
       "    <tr>\n",
       "      <th>3</th>\n",
       "      <td>E10+</td>\n",
       "      <td>42.69</td>\n",
       "      <td>0.108839</td>\n",
       "    </tr>\n",
       "    <tr>\n",
       "      <th>4</th>\n",
       "      <td>T</td>\n",
       "      <td>41.95</td>\n",
       "      <td>0.106953</td>\n",
       "    </tr>\n",
       "  </tbody>\n",
       "</table>\n",
       "</div>"
      ],
      "text/plain": [
       "    rating  eu_sales  rating_share\n",
       "0        M    145.32      0.370497\n",
       "1        E     83.36      0.212528\n",
       "2  no info     78.91      0.201183\n",
       "3     E10+     42.69      0.108839\n",
       "4        T     41.95      0.106953"
      ]
     },
     "execution_count": 46,
     "metadata": {},
     "output_type": "execute_result"
    }
   ],
   "source": [
    "rating_eu_pivot = data.pivot_table(index='rating', values='eu_sales', aggfunc='sum').sort_values(by=['eu_sales'], ascending=False).reset_index()\n",
    "rating_eu_pivot['rating_share'] = rating_eu_pivot['eu_sales']/sum(rating_eu_pivot['eu_sales'])\n",
    "rating_eu_pivot.head()"
   ]
  },
  {
   "cell_type": "code",
   "execution_count": 47,
   "metadata": {},
   "outputs": [
    {
     "name": "stderr",
     "output_type": "stream",
     "text": [
      "/tmp/ipykernel_135/4211661923.py:3: SettingWithCopyWarning: \n",
      "A value is trying to be set on a copy of a slice from a DataFrame.\n",
      "Try using .loc[row_indexer,col_indexer] = value instead\n",
      "\n",
      "See the caveats in the documentation: https://pandas.pydata.org/pandas-docs/stable/user_guide/indexing.html#returning-a-view-versus-a-copy\n",
      "  data['rating2'] = data.rating.apply(lambda x: x if x in top_5_rating else 'others')\n"
     ]
    },
    {
     "data": {
      "image/png": "[encoded data removed]",
      "text/plain": [
       "<Figure size 1440x720 with 1 Axes>"
      ]
     },
     "metadata": {},
     "output_type": "display_data"
    }
   ],
   "source": [
    "top_5_rating = rating_eu_pivot['rating'][:5].tolist()\n",
    "\n",
    "data['rating2'] = data.rating.apply(lambda x: x if x in top_5_rating else 'others')\n",
    "data.rating2.value_counts()\n",
    "\n",
    "eu_sales2 = data.pivot_table(index = 'rating2', values = 'eu_sales', aggfunc = 'sum').reset_index()\n",
    "eu_sales2\n",
    "\n",
    "eu_sales2.plot(kind = 'pie', y = 'eu_sales', labels = eu_sales2['rating2'],autopct='%1.1f%%', figsize = (20,10), title = \"Top 5 EU ratings\")\n",
    "plt.show()"
   ]
  },
  {
   "cell_type": "code",
   "execution_count": 48,
   "metadata": {
    "scrolled": true
   },
   "outputs": [
    {
     "data": {
      "text/html": [
       "<div>\n",
       "<style scoped>\n",
       "    .dataframe tbody tr th:only-of-type {\n",
       "        vertical-align: middle;\n",
       "    }\n",
       "\n",
       "    .dataframe tbody tr th {\n",
       "        vertical-align: top;\n",
       "    }\n",
       "\n",
       "    .dataframe thead th {\n",
       "        text-align: right;\n",
       "    }\n",
       "</style>\n",
       "<table border=\"1\" class=\"dataframe\">\n",
       "  <thead>\n",
       "    <tr style=\"text-align: right;\">\n",
       "      <th></th>\n",
       "      <th>rating</th>\n",
       "      <th>jp_sales</th>\n",
       "      <th>rating_share</th>\n",
       "    </tr>\n",
       "  </thead>\n",
       "  <tbody>\n",
       "    <tr>\n",
       "      <th>0</th>\n",
       "      <td>no info</td>\n",
       "      <td>85.05</td>\n",
       "      <td>0.604134</td>\n",
       "    </tr>\n",
       "    <tr>\n",
       "      <th>1</th>\n",
       "      <td>T</td>\n",
       "      <td>20.59</td>\n",
       "      <td>0.146257</td>\n",
       "    </tr>\n",
       "    <tr>\n",
       "      <th>2</th>\n",
       "      <td>E</td>\n",
       "      <td>15.14</td>\n",
       "      <td>0.107544</td>\n",
       "    </tr>\n",
       "    <tr>\n",
       "      <th>3</th>\n",
       "      <td>M</td>\n",
       "      <td>14.11</td>\n",
       "      <td>0.100227</td>\n",
       "    </tr>\n",
       "    <tr>\n",
       "      <th>4</th>\n",
       "      <td>E10+</td>\n",
       "      <td>5.89</td>\n",
       "      <td>0.041838</td>\n",
       "    </tr>\n",
       "  </tbody>\n",
       "</table>\n",
       "</div>"
      ],
      "text/plain": [
       "    rating  jp_sales  rating_share\n",
       "0  no info     85.05      0.604134\n",
       "1        T     20.59      0.146257\n",
       "2        E     15.14      0.107544\n",
       "3        M     14.11      0.100227\n",
       "4     E10+      5.89      0.041838"
      ]
     },
     "execution_count": 48,
     "metadata": {},
     "output_type": "execute_result"
    }
   ],
   "source": [
    "rating_jp_pivot = data.pivot_table(index='rating', values='jp_sales', aggfunc='sum').sort_values(by=['jp_sales'], ascending=False).reset_index()\n",
    "rating_jp_pivot['rating_share'] = rating_jp_pivot['jp_sales']/rating_jp_pivot['jp_sales'].sum()\n",
    "rating_jp_pivot.head(10)"
   ]
  },
  {
   "cell_type": "code",
   "execution_count": 49,
   "metadata": {},
   "outputs": [
    {
     "name": "stderr",
     "output_type": "stream",
     "text": [
      "/tmp/ipykernel_135/2392693235.py:3: SettingWithCopyWarning: \n",
      "A value is trying to be set on a copy of a slice from a DataFrame.\n",
      "Try using .loc[row_indexer,col_indexer] = value instead\n",
      "\n",
      "See the caveats in the documentation: https://pandas.pydata.org/pandas-docs/stable/user_guide/indexing.html#returning-a-view-versus-a-copy\n",
      "  data['rating2'] = data.rating.apply(lambda x: x if x in top_5_rating else 'others')\n"
     ]
    },
    {
     "data": {
      "image/png": "[encoded data removed]",
      "text/plain": [
       "<Figure size 1440x720 with 1 Axes>"
      ]
     },
     "metadata": {},
     "output_type": "display_data"
    }
   ],
   "source": [
    "top_5_rating = rating_jp_pivot['rating'][:5].tolist()\n",
    "\n",
    "data['rating2'] = data.rating.apply(lambda x: x if x in top_5_rating else 'others')\n",
    "data.rating2.value_counts()\n",
    "\n",
    "jp_sales2 = data.pivot_table(index = 'rating2', values = 'jp_sales', aggfunc = 'sum').reset_index()\n",
    "jp_sales2\n",
    "\n",
    "jp_sales2.plot(kind = 'pie', y = 'jp_sales', labels = jp_sales2['rating2'],autopct='%1.1f%%', figsize = (20,10), title = \"Top 5 JP ratings\")\n",
    "plt.show()"
   ]
  },
  {
   "cell_type": "markdown",
   "metadata": {},
   "source": [
    "The most popular rating for NA and EU is 'M' (Mature 17+). \n",
    "\n",
    "At the same time more than half of the games (60%) has no info about rating in JP (next popular rating for JP is 'T' (Teen)).\n",
    "\n",
    "Ratings included in top 5 are similar for each region (the distribution of each rating inside the list is different).\n"
   ]
  },
  {
   "cell_type": "markdown",
   "metadata": {},
   "source": [
    "## Test the hypotheses"
   ]
  },
  {
   "cell_type": "markdown",
   "metadata": {},
   "source": [
    "Let's test the hypotheses that average user ratings of the Xbox One and PC platforms are the same.\n",
    "\n",
    "We'll take two samples of data (for two platforms) and compare average user rating for them.\n",
    "\n",
    "H0: average of sample 1 is equal to average of sample 2\n",
    "\n",
    "H1: average of sample 1 is not equal to average of sample 2"
   ]
  },
  {
   "cell_type": "markdown",
   "metadata": {},
   "source": [
    "Let's prepare the data for this particular task - we will change type of 'user_score' column from 'object' to 'float'. We also need to drop strings with missed user score (in order to calculate p-value - it's impossible with 'NaN' values in the column)."
   ]
  },
  {
   "cell_type": "code",
   "execution_count": 50,
   "metadata": {
    "scrolled": false
   },
   "outputs": [
    {
     "name": "stdout",
     "output_type": "stream",
     "text": [
      "<class 'pandas.core.frame.DataFrame'>\n",
      "Int64Index: 7590 entries, 0 to 16705\n",
      "Data columns (total 12 columns):\n",
      " #   Column           Non-Null Count  Dtype  \n",
      "---  ------           --------------  -----  \n",
      " 0   name             7590 non-null   object \n",
      " 1   platform         7590 non-null   object \n",
      " 2   year_of_release  7590 non-null   int64  \n",
      " 3   genre            7590 non-null   object \n",
      " 4   na_sales         7590 non-null   float64\n",
      " 5   eu_sales         7590 non-null   float64\n",
      " 6   jp_sales         7590 non-null   float64\n",
      " 7   other_sales      7590 non-null   float64\n",
      " 8   critic_score     7017 non-null   float64\n",
      " 9   user_score       7590 non-null   float64\n",
      " 10  rating           7590 non-null   object \n",
      " 11  total_sales      7590 non-null   float64\n",
      "dtypes: float64(7), int64(1), object(4)\n",
      "memory usage: 770.9+ KB\n"
     ]
    }
   ],
   "source": [
    "games['user_score'] = pd.to_numeric(games['user_score'])\n",
    "games = games.dropna(subset = ['user_score'])\n",
    "games.info()"
   ]
  },
  {
   "cell_type": "code",
   "execution_count": 51,
   "metadata": {},
   "outputs": [],
   "source": [
    "average_rating = games.query('year_of_release >= 2013 and (platform == \"XOne\" or platform == \"PC\")')"
   ]
  },
  {
   "cell_type": "code",
   "execution_count": 52,
   "metadata": {},
   "outputs": [
    {
     "data": {
      "text/plain": [
       "platform\n",
       "PC      6.8\n",
       "XOne    6.8\n",
       "Name: user_score, dtype: float64"
      ]
     },
     "execution_count": 52,
     "metadata": {},
     "output_type": "execute_result"
    }
   ],
   "source": [
    "average_rating.groupby(['platform'])['user_score'].median()"
   ]
  },
  {
   "cell_type": "code",
   "execution_count": 53,
   "metadata": {},
   "outputs": [],
   "source": [
    "xb=average_rating.query('platform==\"XOne\"')\n",
    "pc=average_rating.query('platform==\"PC\"')"
   ]
  },
  {
   "cell_type": "code",
   "execution_count": 54,
   "metadata": {},
   "outputs": [],
   "source": [
    "sample1=xb['user_score']\n",
    "sample2=pc['user_score']"
   ]
  },
  {
   "cell_type": "code",
   "execution_count": 55,
   "metadata": {},
   "outputs": [
    {
     "data": {
      "text/plain": [
       "165      7.9\n",
       "179      5.4\n",
       "242      6.4\n",
       "270      6.2\n",
       "373      4.1\n",
       "        ... \n",
       "16544    6.8\n",
       "16597    6.0\n",
       "16630    8.2\n",
       "16643    6.6\n",
       "16660    6.7\n",
       "Name: user_score, Length: 182, dtype: float64"
      ]
     },
     "execution_count": 55,
     "metadata": {},
     "output_type": "execute_result"
    }
   ],
   "source": [
    "sample1"
   ]
  },
  {
   "cell_type": "code",
   "execution_count": 56,
   "metadata": {},
   "outputs": [
    {
     "name": "stdout",
     "output_type": "stream",
     "text": [
      "182\n",
      "155\n"
     ]
    }
   ],
   "source": [
    "print(len(sample1))\n",
    "print(len(sample2))"
   ]
  },
  {
   "cell_type": "code",
   "execution_count": 57,
   "metadata": {},
   "outputs": [
    {
     "data": {
      "text/plain": [
       "7873     8.6\n",
       "11450    8.0\n",
       "15851    8.7\n",
       "4368     4.7\n",
       "16025    4.3\n",
       "        ... \n",
       "3212     6.5\n",
       "15660    7.4\n",
       "12719    2.9\n",
       "14079    7.0\n",
       "15980    5.3\n",
       "Name: user_score, Length: 155, dtype: float64"
      ]
     },
     "execution_count": 57,
     "metadata": {},
     "output_type": "execute_result"
    }
   ],
   "source": [
    "sample2.sample(155)"
   ]
  },
  {
   "cell_type": "code",
   "execution_count": 58,
   "metadata": {},
   "outputs": [
    {
     "name": "stdout",
     "output_type": "stream",
     "text": [
      "Reject H0: variance of sample 1 is not equal to variance of sample 2\n"
     ]
    }
   ],
   "source": [
    "from scipy import stats\n",
    "alpha=0.05\n",
    "p_value_levene=stats.levene(sample1, sample2).pvalue\n",
    "if p_value_levene<alpha:\n",
    "    print('Reject H0: variance of sample 1 is not equal to variance of sample 2')\n",
    "else:\n",
    "    print( \"Fail to Reject H0: We don't have enough evidence to say that variances of sample 1 \\\n",
    "  and sample 2 are not the same\") "
   ]
  },
  {
   "cell_type": "code",
   "execution_count": 59,
   "metadata": {},
   "outputs": [
    {
     "data": {
      "text/plain": [
       "Ttest_indResult(statistic=1.45192815744488, pvalue=0.14759594013430463)"
      ]
     },
     "execution_count": 59,
     "metadata": {},
     "output_type": "execute_result"
    }
   ],
   "source": [
    "# As variances of samples seem to be different, we need to conduct a Welch’s t-test (add “False” in the “equal_var=” argument)\n",
    "stats.ttest_ind(sample1, sample2, equal_var = False)"
   ]
  },
  {
   "cell_type": "code",
   "execution_count": 60,
   "metadata": {},
   "outputs": [],
   "source": [
    "# We will set level of critical statistical significance alpha equal to common level of 5%\n",
    "alpha=0.05\n",
    "def t_test(sample1,sample2,alpha=0.05):\n",
    "    p_value=stats.ttest_ind(sample1, sample2, equal_var = False).pvalue\n",
    "    if p_value<alpha:\n",
    "        print('Reject H0: average of sample 1 is not equal to average  sample 2')\n",
    "    else:\n",
    "        print( \"Fail to Reject H0: We don't have enough evidence to say that averages of sample 1 \\\n",
    "  and sample 2 are not the same\") "
   ]
  },
  {
   "cell_type": "code",
   "execution_count": 61,
   "metadata": {
    "scrolled": true
   },
   "outputs": [
    {
     "name": "stdout",
     "output_type": "stream",
     "text": [
      "Fail to Reject H0: We don't have enough evidence to say that averages of sample 1   and sample 2 are not the same\n"
     ]
    }
   ],
   "source": [
    "t_test(xb['user_score'],pc['user_score'],alpha=0.05)"
   ]
  },
  {
   "cell_type": "markdown",
   "metadata": {},
   "source": [
    "**Conclusion**: we don't have enough evidence to say that average user ratings of the Xbox One and PC platforms are not the same."
   ]
  },
  {
   "cell_type": "markdown",
   "metadata": {},
   "source": [
    "Next hypotheses we are going to test is that average user ratings for the Action and Sports genres are the same.\n",
    "\n",
    "We'll take two samples of data (for two genres) and compare average user rating for them.\n",
    "\n",
    "H0: average of sample 1 is equal to average of sample 2\n",
    "\n",
    "H1: average of sample 1 is not equal to average of sample 2"
   ]
  },
  {
   "cell_type": "code",
   "execution_count": 62,
   "metadata": {},
   "outputs": [],
   "source": [
    "genres_rating = games.query('year_of_release >= 2013 and (genre == \"Action\" or genre == \"Sports\")')"
   ]
  },
  {
   "cell_type": "code",
   "execution_count": 63,
   "metadata": {},
   "outputs": [
    {
     "data": {
      "text/plain": [
       "genre\n",
       "Action    7.1\n",
       "Sports    5.5\n",
       "Name: user_score, dtype: float64"
      ]
     },
     "execution_count": 63,
     "metadata": {},
     "output_type": "execute_result"
    }
   ],
   "source": [
    "genres_rating.groupby(['genre'])['user_score'].median()"
   ]
  },
  {
   "cell_type": "code",
   "execution_count": 64,
   "metadata": {},
   "outputs": [],
   "source": [
    "action=genres_rating.query('genre==\"Action\"')\n",
    "sports=genres_rating.query('genre==\"Sports\"')"
   ]
  },
  {
   "cell_type": "code",
   "execution_count": 65,
   "metadata": {},
   "outputs": [],
   "source": [
    "sample1=action['user_score']\n",
    "sample2=sports['user_score']"
   ]
  },
  {
   "cell_type": "code",
   "execution_count": 66,
   "metadata": {},
   "outputs": [
    {
     "data": {
      "text/plain": [
       "16       8.2\n",
       "23       8.1\n",
       "42       8.3\n",
       "149      9.1\n",
       "165      7.9\n",
       "        ... \n",
       "16597    6.0\n",
       "16652    8.5\n",
       "16654    5.1\n",
       "16660    6.7\n",
       "16692    7.6\n",
       "Name: user_score, Length: 389, dtype: float64"
      ]
     },
     "execution_count": 66,
     "metadata": {},
     "output_type": "execute_result"
    }
   ],
   "source": [
    "sample1"
   ]
  },
  {
   "cell_type": "code",
   "execution_count": 67,
   "metadata": {},
   "outputs": [
    {
     "name": "stdout",
     "output_type": "stream",
     "text": [
      "389\n",
      "160\n"
     ]
    }
   ],
   "source": [
    "print(len(sample1))\n",
    "print(len(sample2))"
   ]
  },
  {
   "cell_type": "code",
   "execution_count": 68,
   "metadata": {
    "scrolled": true
   },
   "outputs": [
    {
     "data": {
      "text/plain": [
       "14159    7.5\n",
       "15052    8.2\n",
       "730      7.6\n",
       "11629    7.6\n",
       "4109     7.8\n",
       "        ... \n",
       "2119     5.9\n",
       "9806     6.9\n",
       "13695    5.6\n",
       "6037     6.3\n",
       "2236     6.8\n",
       "Name: user_score, Length: 160, dtype: float64"
      ]
     },
     "execution_count": 68,
     "metadata": {},
     "output_type": "execute_result"
    }
   ],
   "source": [
    "sample1.sample(160)"
   ]
  },
  {
   "cell_type": "code",
   "execution_count": 69,
   "metadata": {},
   "outputs": [
    {
     "name": "stdout",
     "output_type": "stream",
     "text": [
      "Reject H0: variance of sample 1 is not equal to variance of sample 2\n"
     ]
    }
   ],
   "source": [
    "from scipy import stats\n",
    "alpha=0.05\n",
    "p_value_levene1=stats.levene(sample1, sample2).pvalue\n",
    "if p_value_levene1<alpha:\n",
    "    print('Reject H0: variance of sample 1 is not equal to variance of sample 2')\n",
    "else:\n",
    "    print( \"Fail to Reject H0: We don't have enough evidence to say that variances of sample 1 \\\n",
    "  and sample 2 are not the same\") "
   ]
  },
  {
   "cell_type": "code",
   "execution_count": 70,
   "metadata": {},
   "outputs": [
    {
     "data": {
      "text/plain": [
       "Ttest_indResult(statistic=10.233428417448625, pvalue=1.4460039700704315e-20)"
      ]
     },
     "execution_count": 70,
     "metadata": {},
     "output_type": "execute_result"
    }
   ],
   "source": [
    "# As variances of samples seem to be different, we need to conduct a Welch’s t-test (add “False” in the “equal_var=” argument)\n",
    "stats.ttest_ind(sample1, sample2, equal_var = False )"
   ]
  },
  {
   "cell_type": "code",
   "execution_count": 71,
   "metadata": {},
   "outputs": [],
   "source": [
    "# We will set level of critical statistical significance alpha equal to common level of 5%\n",
    "alpha=0.05\n",
    "def t_test(sample3,sample4,alpha=0.05):\n",
    "    p_value=stats.ttest_ind(sample1, sample2, equal_var = False).pvalue\n",
    "    if p_value<alpha:\n",
    "        print('Reject H0: average of sample 1 is not equal to average of sample 2')\n",
    "    else:\n",
    "        print( \"Fail to Reject H0: We don't have enough evidence to say that averages of sample 1 \\\n",
    "  and sample 2 are not the same\")"
   ]
  },
  {
   "cell_type": "code",
   "execution_count": 72,
   "metadata": {},
   "outputs": [
    {
     "name": "stdout",
     "output_type": "stream",
     "text": [
      "Reject H0: average of sample 1 is not equal to average of sample 2\n"
     ]
    }
   ],
   "source": [
    "t_test(action['user_score'],sports['user_score'],alpha=0.05)"
   ]
  },
  {
   "cell_type": "markdown",
   "metadata": {},
   "source": [
    "**Conclusion**: we don't have enough evidence that average user ratings for the Action and Sports genres are the same."
   ]
  },
  {
   "cell_type": "markdown",
   "metadata": {},
   "source": [
    "## General conclusion"
   ]
  },
  {
   "cell_type": "markdown",
   "metadata": {},
   "source": [
    "We have addressed all possible issues identified in the data received: missing values, duplicates, data types.\n",
    "\n",
    "Some missing data was identified - we have drooped them for columns critical to our analysis ('user_score' column). 'name' column has only two missed values - so we dropped them out).\n",
    "\n",
    "For data with wrong data types we have changed them (from 'object' to 'float' and from 'float' to 'int').\n",
    "\n",
    "We have checked data for duplicates and dind't find any.\n",
    "\n",
    "We have transformed initial datasets in order to calculate total sales of games of all analysed regions. All column names were set to lower case.\n",
    "\n",
    "We have prepared hystograms for the dataset showing the distribution of total sales by year of release, by platform and genre. \n",
    "We identified the the most popular platforms with sales greater than 700: PS2, X360, PS3, Wii, DS, PS. Then we found the most popular platform released in 2016 and based on its year of release exclude all years before 2013 from our further analysis. \n",
    "\n",
    "While testing sales per region we have identified that clients in different regions prefer very similar platforms as well as game genres. Structure of users preferences is quite similar for NA and EU, the most popular genre is Action, all other genres are the same in top 5 except for 5th line - Misc and Racing correspondingly. Role-playing is the most popular genre in JP.\n",
    "\n",
    "We have prepared box plots for the most profitable platform PS3, PS4 and XOne. They show that there is almost no difference between average sales for these platforms.\n",
    "\n",
    "Using t-test we have checked the hypotheses that average user ratings of the Xbox One and PC platforms are the same. The result is that we can't reject this hypotheses - it means that user ratings for these platforms might be the same.\n",
    "\n",
    "The second hypotheses we have checked is that average user ratings for the Action and Sports genres are the same. The result is that we reject this hypotheses - it means that user ratings for these genres might be different (Action might be more popular based on median value)."
   ]
  }
 ],
 "metadata": {
  "ExecuteTimeLog": [
   {
    "duration": 1587,
    "start_time": "2022-08-29T11:46:29.424Z"
   },
   {
    "duration": 18,
    "start_time": "2022-08-29T11:50:10.806Z"
   },
   {
    "duration": 21,
    "start_time": "2022-08-29T11:53:56.090Z"
   },
   {
    "duration": 4,
    "start_time": "2022-08-29T12:09:04.228Z"
   },
   {
    "duration": 17,
    "start_time": "2022-08-29T12:09:13.156Z"
   },
   {
    "duration": 8,
    "start_time": "2022-08-29T12:16:52.132Z"
   },
   {
    "duration": 21,
    "start_time": "2022-08-29T12:17:04.443Z"
   },
   {
    "duration": 112,
    "start_time": "2022-08-29T12:17:36.817Z"
   },
   {
    "duration": 12,
    "start_time": "2022-08-29T12:17:43.398Z"
   },
   {
    "duration": 404,
    "start_time": "2022-08-29T12:19:34.169Z"
   },
   {
    "duration": 13,
    "start_time": "2022-08-29T12:23:32.597Z"
   },
   {
    "duration": 86,
    "start_time": "2022-08-29T12:23:56.166Z"
   },
   {
    "duration": 1427,
    "start_time": "2022-08-29T12:24:00.133Z"
   },
   {
    "duration": 1466,
    "start_time": "2022-08-29T12:24:16.280Z"
   },
   {
    "duration": 1901,
    "start_time": "2022-08-29T12:24:28.579Z"
   },
   {
    "duration": 17,
    "start_time": "2022-08-29T12:24:39.691Z"
   },
   {
    "duration": 17,
    "start_time": "2022-08-29T12:24:54.749Z"
   },
   {
    "duration": 16,
    "start_time": "2022-08-29T12:25:18.021Z"
   },
   {
    "duration": 17,
    "start_time": "2022-08-29T12:25:27.403Z"
   },
   {
    "duration": 88,
    "start_time": "2022-08-29T12:25:33.289Z"
   },
   {
    "duration": 14,
    "start_time": "2022-08-29T12:25:35.222Z"
   },
   {
    "duration": 16,
    "start_time": "2022-08-29T12:25:36.125Z"
   },
   {
    "duration": 17,
    "start_time": "2022-08-29T12:25:41.661Z"
   },
   {
    "duration": 16,
    "start_time": "2022-08-29T12:25:41.822Z"
   },
   {
    "duration": 16,
    "start_time": "2022-08-29T12:25:49.688Z"
   },
   {
    "duration": 20,
    "start_time": "2022-08-29T12:26:32.928Z"
   },
   {
    "duration": 17,
    "start_time": "2022-08-29T12:28:55.260Z"
   },
   {
    "duration": 92,
    "start_time": "2022-08-29T12:28:59.930Z"
   },
   {
    "duration": 15,
    "start_time": "2022-08-29T12:29:00.665Z"
   },
   {
    "duration": 17,
    "start_time": "2022-08-29T12:29:01.263Z"
   },
   {
    "duration": 19,
    "start_time": "2022-08-29T12:29:07.845Z"
   },
   {
    "duration": 17,
    "start_time": "2022-08-29T12:29:19.057Z"
   },
   {
    "duration": 11,
    "start_time": "2022-08-29T12:30:32.142Z"
   },
   {
    "duration": 15,
    "start_time": "2022-08-29T12:30:39.367Z"
   },
   {
    "duration": 37,
    "start_time": "2022-08-29T12:32:32.141Z"
   },
   {
    "duration": 61,
    "start_time": "2022-08-29T12:32:57.553Z"
   },
   {
    "duration": 16,
    "start_time": "2022-08-29T12:33:37.847Z"
   },
   {
    "duration": 18,
    "start_time": "2022-08-29T12:36:39.208Z"
   },
   {
    "duration": 22,
    "start_time": "2022-08-29T15:08:05.053Z"
   },
   {
    "duration": 656,
    "start_time": "2022-08-29T15:56:34.091Z"
   },
   {
    "duration": 1198,
    "start_time": "2022-08-29T15:57:16.521Z"
   },
   {
    "duration": 7,
    "start_time": "2022-08-29T16:04:05.255Z"
   },
   {
    "duration": 9,
    "start_time": "2022-08-29T16:04:25.002Z"
   },
   {
    "duration": 10,
    "start_time": "2022-08-29T16:04:36.755Z"
   },
   {
    "duration": 18,
    "start_time": "2022-08-29T16:04:47.702Z"
   },
   {
    "duration": 10,
    "start_time": "2022-08-29T16:12:58.478Z"
   },
   {
    "duration": 7,
    "start_time": "2022-08-29T16:13:57.127Z"
   },
   {
    "duration": 18,
    "start_time": "2022-08-29T16:14:07.569Z"
   },
   {
    "duration": 16,
    "start_time": "2022-08-29T16:15:10.202Z"
   },
   {
    "duration": 25,
    "start_time": "2022-08-29T16:17:26.728Z"
   },
   {
    "duration": 16,
    "start_time": "2022-08-29T19:21:47.974Z"
   },
   {
    "duration": 12,
    "start_time": "2022-08-29T19:21:55.551Z"
   },
   {
    "duration": 15,
    "start_time": "2022-08-29T19:23:12.196Z"
   },
   {
    "duration": 122,
    "start_time": "2022-08-29T19:23:27.144Z"
   },
   {
    "duration": 17,
    "start_time": "2022-08-29T19:23:33.234Z"
   },
   {
    "duration": 29,
    "start_time": "2022-08-29T19:23:59.724Z"
   },
   {
    "duration": 28,
    "start_time": "2022-08-29T19:24:07.570Z"
   },
   {
    "duration": 13,
    "start_time": "2022-08-29T19:24:11.421Z"
   },
   {
    "duration": 101,
    "start_time": "2022-08-29T19:24:17.301Z"
   },
   {
    "duration": 15,
    "start_time": "2022-08-29T19:24:18.037Z"
   },
   {
    "duration": 19,
    "start_time": "2022-08-29T19:24:18.260Z"
   },
   {
    "duration": 17,
    "start_time": "2022-08-29T19:24:18.937Z"
   },
   {
    "duration": 18,
    "start_time": "2022-08-29T19:24:19.153Z"
   },
   {
    "duration": 20,
    "start_time": "2022-08-29T19:24:20.587Z"
   },
   {
    "duration": 32,
    "start_time": "2022-08-29T19:24:21.365Z"
   },
   {
    "duration": 15,
    "start_time": "2022-08-29T19:24:22.050Z"
   },
   {
    "duration": 27,
    "start_time": "2022-08-29T19:24:23.228Z"
   },
   {
    "duration": 19,
    "start_time": "2022-08-29T19:24:28.978Z"
   },
   {
    "duration": 105,
    "start_time": "2022-08-29T19:25:52.196Z"
   },
   {
    "duration": 15,
    "start_time": "2022-08-29T19:25:53.761Z"
   },
   {
    "duration": 17,
    "start_time": "2022-08-29T19:25:54.430Z"
   },
   {
    "duration": 16,
    "start_time": "2022-08-29T19:25:56.218Z"
   },
   {
    "duration": 16,
    "start_time": "2022-08-29T19:25:56.940Z"
   },
   {
    "duration": 20,
    "start_time": "2022-08-29T19:26:13.222Z"
   },
   {
    "duration": 20,
    "start_time": "2022-08-29T19:26:17.612Z"
   },
   {
    "duration": 97,
    "start_time": "2022-08-29T19:26:27.020Z"
   },
   {
    "duration": 14,
    "start_time": "2022-08-29T19:26:27.693Z"
   },
   {
    "duration": 18,
    "start_time": "2022-08-29T19:26:27.893Z"
   },
   {
    "duration": 17,
    "start_time": "2022-08-29T19:26:29.766Z"
   },
   {
    "duration": 16,
    "start_time": "2022-08-29T19:26:30.471Z"
   },
   {
    "duration": 15,
    "start_time": "2022-08-29T19:26:47.734Z"
   },
   {
    "duration": 15,
    "start_time": "2022-08-29T19:27:09.320Z"
   },
   {
    "duration": 562,
    "start_time": "2022-08-29T19:27:42.224Z"
   },
   {
    "duration": 629,
    "start_time": "2022-08-29T19:28:15.778Z"
   },
   {
    "duration": 611,
    "start_time": "2022-08-29T19:28:27.553Z"
   },
   {
    "duration": 630,
    "start_time": "2022-08-29T19:28:39.062Z"
   },
   {
    "duration": 15,
    "start_time": "2022-08-29T19:29:03.620Z"
   },
   {
    "duration": 17,
    "start_time": "2022-08-29T19:29:16.060Z"
   },
   {
    "duration": 18,
    "start_time": "2022-08-29T19:29:31.107Z"
   },
   {
    "duration": 97,
    "start_time": "2022-08-29T19:29:36.869Z"
   },
   {
    "duration": 12,
    "start_time": "2022-08-29T19:29:37.467Z"
   },
   {
    "duration": 17,
    "start_time": "2022-08-29T19:29:37.682Z"
   },
   {
    "duration": 15,
    "start_time": "2022-08-29T19:29:39.688Z"
   },
   {
    "duration": 23,
    "start_time": "2022-08-29T19:29:40.526Z"
   },
   {
    "duration": 17,
    "start_time": "2022-08-29T19:29:42.537Z"
   },
   {
    "duration": 17,
    "start_time": "2022-08-29T19:29:43.796Z"
   },
   {
    "duration": 15,
    "start_time": "2022-08-29T19:29:50.185Z"
   },
   {
    "duration": 27,
    "start_time": "2022-08-29T19:29:51.126Z"
   },
   {
    "duration": 13,
    "start_time": "2022-08-29T19:29:54.433Z"
   },
   {
    "duration": 105,
    "start_time": "2022-08-29T19:30:04.160Z"
   },
   {
    "duration": 15,
    "start_time": "2022-08-29T19:30:05.781Z"
   },
   {
    "duration": 16,
    "start_time": "2022-08-29T19:30:07.110Z"
   },
   {
    "duration": 16,
    "start_time": "2022-08-29T19:30:09.411Z"
   },
   {
    "duration": 16,
    "start_time": "2022-08-29T19:30:11.907Z"
   },
   {
    "duration": 18,
    "start_time": "2022-08-29T19:30:14.264Z"
   },
   {
    "duration": 15,
    "start_time": "2022-08-29T19:30:24.895Z"
   },
   {
    "duration": 114,
    "start_time": "2022-08-29T19:30:28.577Z"
   },
   {
    "duration": 15,
    "start_time": "2022-08-29T19:30:29.161Z"
   },
   {
    "duration": 16,
    "start_time": "2022-08-29T19:30:29.337Z"
   },
   {
    "duration": 17,
    "start_time": "2022-08-29T19:30:30.278Z"
   },
   {
    "duration": 21,
    "start_time": "2022-08-29T19:30:31.173Z"
   },
   {
    "duration": 17,
    "start_time": "2022-08-29T19:30:40.245Z"
   },
   {
    "duration": 112,
    "start_time": "2022-08-29T19:30:56.516Z"
   },
   {
    "duration": 14,
    "start_time": "2022-08-29T19:30:57.177Z"
   },
   {
    "duration": 15,
    "start_time": "2022-08-29T19:30:57.408Z"
   },
   {
    "duration": 16,
    "start_time": "2022-08-29T19:30:58.678Z"
   },
   {
    "duration": 15,
    "start_time": "2022-08-29T19:30:59.377Z"
   },
   {
    "duration": 18,
    "start_time": "2022-08-29T19:31:00.960Z"
   },
   {
    "duration": 20,
    "start_time": "2022-08-29T19:31:01.647Z"
   },
   {
    "duration": 14,
    "start_time": "2022-08-29T19:31:02.528Z"
   },
   {
    "duration": 24,
    "start_time": "2022-08-29T19:31:04.062Z"
   },
   {
    "duration": 26,
    "start_time": "2022-08-29T19:35:43.958Z"
   },
   {
    "duration": 20,
    "start_time": "2022-08-29T19:36:03.320Z"
   },
   {
    "duration": 117,
    "start_time": "2022-08-29T19:36:11.596Z"
   },
   {
    "duration": 13,
    "start_time": "2022-08-29T19:36:12.433Z"
   },
   {
    "duration": 16,
    "start_time": "2022-08-29T19:36:12.449Z"
   },
   {
    "duration": 17,
    "start_time": "2022-08-29T19:36:14.578Z"
   },
   {
    "duration": 15,
    "start_time": "2022-08-29T19:36:15.325Z"
   },
   {
    "duration": 23,
    "start_time": "2022-08-29T19:36:16.753Z"
   },
   {
    "duration": 28,
    "start_time": "2022-08-29T19:36:36.925Z"
   },
   {
    "duration": 17,
    "start_time": "2022-08-29T19:36:54.748Z"
   },
   {
    "duration": 19,
    "start_time": "2022-08-29T19:37:13.098Z"
   },
   {
    "duration": 16,
    "start_time": "2022-08-29T19:37:17.656Z"
   },
   {
    "duration": 92,
    "start_time": "2022-08-29T19:37:22.048Z"
   },
   {
    "duration": 13,
    "start_time": "2022-08-29T19:37:22.842Z"
   },
   {
    "duration": 18,
    "start_time": "2022-08-29T19:37:23.046Z"
   },
   {
    "duration": 15,
    "start_time": "2022-08-29T19:37:24.399Z"
   },
   {
    "duration": 16,
    "start_time": "2022-08-29T19:37:25.031Z"
   },
   {
    "duration": 17,
    "start_time": "2022-08-29T19:37:26.394Z"
   },
   {
    "duration": 19,
    "start_time": "2022-08-29T19:37:27.235Z"
   },
   {
    "duration": 16,
    "start_time": "2022-08-29T19:37:28.152Z"
   },
   {
    "duration": 32,
    "start_time": "2022-08-29T19:37:29.270Z"
   },
   {
    "duration": 100,
    "start_time": "2022-08-29T19:37:43.257Z"
   },
   {
    "duration": 13,
    "start_time": "2022-08-29T19:37:47.538Z"
   },
   {
    "duration": 17,
    "start_time": "2022-08-29T19:37:51.647Z"
   },
   {
    "duration": 26,
    "start_time": "2022-08-29T19:38:00.158Z"
   },
   {
    "duration": 18,
    "start_time": "2022-08-29T19:38:08.007Z"
   },
   {
    "duration": 23,
    "start_time": "2022-08-29T19:38:12.938Z"
   },
   {
    "duration": 21,
    "start_time": "2022-08-29T19:38:17.158Z"
   },
   {
    "duration": 14,
    "start_time": "2022-08-29T19:38:21.866Z"
   },
   {
    "duration": 5,
    "start_time": "2022-08-29T19:45:49.517Z"
   },
   {
    "duration": 182,
    "start_time": "2022-08-29T20:00:04.324Z"
   },
   {
    "duration": 150,
    "start_time": "2022-08-29T20:01:45.353Z"
   },
   {
    "duration": 157,
    "start_time": "2022-08-29T20:01:56.825Z"
   },
   {
    "duration": 1567,
    "start_time": "2022-08-30T07:24:55.551Z"
   },
   {
    "duration": 15,
    "start_time": "2022-08-30T07:24:59.524Z"
   },
   {
    "duration": 19,
    "start_time": "2022-08-30T07:25:00.773Z"
   },
   {
    "duration": 15,
    "start_time": "2022-08-30T07:25:06.966Z"
   },
   {
    "duration": 14,
    "start_time": "2022-08-30T07:25:08.203Z"
   },
   {
    "duration": 19,
    "start_time": "2022-08-30T07:25:10.183Z"
   },
   {
    "duration": 19,
    "start_time": "2022-08-30T07:25:10.953Z"
   },
   {
    "duration": 14,
    "start_time": "2022-08-30T07:25:11.781Z"
   },
   {
    "duration": 5,
    "start_time": "2022-08-30T07:25:18.418Z"
   },
   {
    "duration": 109,
    "start_time": "2022-08-30T07:28:16.783Z"
   },
   {
    "duration": 149,
    "start_time": "2022-08-30T07:28:36.003Z"
   },
   {
    "duration": 142,
    "start_time": "2022-08-30T07:29:05.321Z"
   },
   {
    "duration": 127,
    "start_time": "2022-08-30T07:29:45.350Z"
   },
   {
    "duration": 149,
    "start_time": "2022-08-30T07:30:03.509Z"
   },
   {
    "duration": 24,
    "start_time": "2022-08-30T07:31:11.948Z"
   },
   {
    "duration": 17,
    "start_time": "2022-08-30T07:38:46.809Z"
   },
   {
    "duration": 827,
    "start_time": "2022-08-30T07:38:57.456Z"
   },
   {
    "duration": 21,
    "start_time": "2022-08-30T07:43:00.590Z"
   },
   {
    "duration": 15,
    "start_time": "2022-08-30T07:43:16.730Z"
   },
   {
    "duration": 21,
    "start_time": "2022-08-30T07:43:34.859Z"
   },
   {
    "duration": 2,
    "start_time": "2022-08-30T07:45:08.514Z"
   },
   {
    "duration": 19,
    "start_time": "2022-08-30T07:45:20.555Z"
   },
   {
    "duration": 103,
    "start_time": "2022-08-30T08:03:29.657Z"
   },
   {
    "duration": 13,
    "start_time": "2022-08-30T08:03:30.167Z"
   },
   {
    "duration": 14,
    "start_time": "2022-08-30T08:03:30.360Z"
   },
   {
    "duration": 24,
    "start_time": "2022-08-30T08:03:30.918Z"
   },
   {
    "duration": 16,
    "start_time": "2022-08-30T08:03:31.128Z"
   },
   {
    "duration": 17,
    "start_time": "2022-08-30T08:03:31.549Z"
   },
   {
    "duration": 18,
    "start_time": "2022-08-30T08:03:31.961Z"
   },
   {
    "duration": 16,
    "start_time": "2022-08-30T08:03:32.929Z"
   },
   {
    "duration": 6,
    "start_time": "2022-08-30T08:03:34.265Z"
   },
   {
    "duration": 21,
    "start_time": "2022-08-30T08:03:38.575Z"
   },
   {
    "duration": 14,
    "start_time": "2022-08-30T08:03:56.196Z"
   },
   {
    "duration": 14,
    "start_time": "2022-08-30T08:04:11.747Z"
   },
   {
    "duration": 153,
    "start_time": "2022-08-30T08:04:59.564Z"
   },
   {
    "duration": 8,
    "start_time": "2022-08-30T08:08:17.681Z"
   },
   {
    "duration": 9,
    "start_time": "2022-08-30T08:08:51.459Z"
   },
   {
    "duration": 15,
    "start_time": "2022-08-30T08:09:11.138Z"
   },
   {
    "duration": 146,
    "start_time": "2022-08-30T08:09:38.368Z"
   },
   {
    "duration": 142,
    "start_time": "2022-08-30T08:11:59.165Z"
   },
   {
    "duration": 274,
    "start_time": "2022-08-30T08:12:23.524Z"
   },
   {
    "duration": 312,
    "start_time": "2022-08-30T08:12:38.146Z"
   },
   {
    "duration": 278,
    "start_time": "2022-08-30T08:14:08.400Z"
   },
   {
    "duration": 294,
    "start_time": "2022-08-30T08:21:22.077Z"
   },
   {
    "duration": 255,
    "start_time": "2022-08-30T08:21:33.875Z"
   },
   {
    "duration": 284,
    "start_time": "2022-08-30T08:21:38.493Z"
   },
   {
    "duration": 375,
    "start_time": "2022-08-30T08:22:46.981Z"
   },
   {
    "duration": 305,
    "start_time": "2022-08-30T08:23:08.507Z"
   },
   {
    "duration": 271,
    "start_time": "2022-08-30T08:38:14.789Z"
   },
   {
    "duration": 265,
    "start_time": "2022-08-30T08:39:47.356Z"
   },
   {
    "duration": 6,
    "start_time": "2022-08-30T09:17:12.363Z"
   },
   {
    "duration": 235,
    "start_time": "2022-08-30T09:17:42.760Z"
   },
   {
    "duration": 6,
    "start_time": "2022-08-30T09:17:59.333Z"
   },
   {
    "duration": 260,
    "start_time": "2022-08-30T09:18:01.640Z"
   },
   {
    "duration": 6,
    "start_time": "2022-08-30T09:18:18.411Z"
   },
   {
    "duration": 220,
    "start_time": "2022-08-30T09:18:20.161Z"
   },
   {
    "duration": 8,
    "start_time": "2022-08-30T09:20:33.822Z"
   },
   {
    "duration": 107,
    "start_time": "2022-08-30T09:20:35.806Z"
   },
   {
    "duration": 12,
    "start_time": "2022-08-30T09:22:49.266Z"
   },
   {
    "duration": 10,
    "start_time": "2022-08-30T09:23:32.330Z"
   },
   {
    "duration": 77,
    "start_time": "2022-08-30T09:23:32.342Z"
   },
   {
    "duration": 39637,
    "start_time": "2022-08-30T09:23:37.013Z"
   },
   {
    "duration": 31,
    "start_time": "2022-08-30T09:24:16.652Z"
   },
   {
    "duration": 28,
    "start_time": "2022-08-30T09:26:44.192Z"
   },
   {
    "duration": 52,
    "start_time": "2022-08-30T09:28:28.201Z"
   },
   {
    "duration": 25,
    "start_time": "2022-08-30T09:28:42.928Z"
   },
   {
    "duration": 8,
    "start_time": "2022-08-30T09:28:55.675Z"
   },
   {
    "duration": 17,
    "start_time": "2022-08-30T09:29:06.410Z"
   },
   {
    "duration": 27,
    "start_time": "2022-08-30T09:29:16.201Z"
   },
   {
    "duration": 11,
    "start_time": "2022-08-30T09:29:30.302Z"
   },
   {
    "duration": 90,
    "start_time": "2022-08-30T09:29:34.840Z"
   },
   {
    "duration": 13,
    "start_time": "2022-08-30T09:29:35.398Z"
   },
   {
    "duration": 15,
    "start_time": "2022-08-30T09:29:35.598Z"
   },
   {
    "duration": 15,
    "start_time": "2022-08-30T09:29:36.398Z"
   },
   {
    "duration": 15,
    "start_time": "2022-08-30T09:29:36.601Z"
   },
   {
    "duration": 18,
    "start_time": "2022-08-30T09:29:36.989Z"
   },
   {
    "duration": 19,
    "start_time": "2022-08-30T09:29:37.304Z"
   },
   {
    "duration": 20,
    "start_time": "2022-08-30T09:29:37.813Z"
   },
   {
    "duration": 6,
    "start_time": "2022-08-30T09:29:38.337Z"
   },
   {
    "duration": 320,
    "start_time": "2022-08-30T09:29:39.805Z"
   },
   {
    "duration": 264,
    "start_time": "2022-08-30T09:29:41.818Z"
   },
   {
    "duration": 5,
    "start_time": "2022-08-30T09:29:45.496Z"
   },
   {
    "duration": 58,
    "start_time": "2022-08-30T09:29:55.801Z"
   },
   {
    "duration": 7,
    "start_time": "2022-08-30T09:30:11.661Z"
   },
   {
    "duration": 127,
    "start_time": "2022-08-30T09:30:13.368Z"
   },
   {
    "duration": 33,
    "start_time": "2022-08-30T09:30:18.484Z"
   },
   {
    "duration": 7,
    "start_time": "2022-08-30T09:30:25.657Z"
   },
   {
    "duration": 7,
    "start_time": "2022-08-30T09:30:28.315Z"
   },
   {
    "duration": 113,
    "start_time": "2022-08-30T09:30:30.477Z"
   },
   {
    "duration": 7,
    "start_time": "2022-08-30T09:30:52.158Z"
   },
   {
    "duration": 111,
    "start_time": "2022-08-30T09:30:54.114Z"
   },
   {
    "duration": 7,
    "start_time": "2022-08-30T09:31:28.949Z"
   },
   {
    "duration": 10,
    "start_time": "2022-08-30T09:31:32.788Z"
   },
   {
    "duration": 14,
    "start_time": "2022-08-30T09:31:46.666Z"
   },
   {
    "duration": 16,
    "start_time": "2022-08-30T09:35:54.722Z"
   },
   {
    "duration": 21,
    "start_time": "2022-08-30T09:36:08.346Z"
   },
   {
    "duration": 15,
    "start_time": "2022-08-30T09:36:12.834Z"
   },
   {
    "duration": 18,
    "start_time": "2022-08-30T09:37:05.129Z"
   },
   {
    "duration": 22,
    "start_time": "2022-08-30T09:37:20.638Z"
   },
   {
    "duration": 23,
    "start_time": "2022-08-30T09:37:32.793Z"
   },
   {
    "duration": 13,
    "start_time": "2022-08-30T09:37:46.383Z"
   },
   {
    "duration": 12,
    "start_time": "2022-08-30T09:42:29.019Z"
   },
   {
    "duration": 17,
    "start_time": "2022-08-30T09:43:17.528Z"
   },
   {
    "duration": 183,
    "start_time": "2022-08-30T09:58:52.154Z"
   },
   {
    "duration": 5,
    "start_time": "2022-08-30T10:27:28.975Z"
   },
   {
    "duration": 283,
    "start_time": "2022-08-30T10:27:51.068Z"
   },
   {
    "duration": 7,
    "start_time": "2022-08-30T10:28:10.431Z"
   },
   {
    "duration": 328,
    "start_time": "2022-08-30T10:28:12.547Z"
   },
   {
    "duration": 4,
    "start_time": "2022-08-30T10:28:27.369Z"
   },
   {
    "duration": 268,
    "start_time": "2022-08-30T10:28:34.177Z"
   },
   {
    "duration": 5,
    "start_time": "2022-08-30T10:29:03.654Z"
   },
   {
    "duration": 1081,
    "start_time": "2022-08-30T10:29:04.960Z"
   },
   {
    "duration": 52,
    "start_time": "2022-08-30T10:33:51.030Z"
   },
   {
    "duration": 66,
    "start_time": "2022-08-30T10:33:59.490Z"
   },
   {
    "duration": 59,
    "start_time": "2022-08-30T10:34:00.910Z"
   },
   {
    "duration": 228,
    "start_time": "2022-08-30T10:34:13.092Z"
   },
   {
    "duration": 984,
    "start_time": "2022-08-30T10:34:51.761Z"
   },
   {
    "duration": 52,
    "start_time": "2022-08-30T10:50:33.775Z"
   },
   {
    "duration": 103,
    "start_time": "2022-08-30T10:50:38.127Z"
   },
   {
    "duration": 253,
    "start_time": "2022-08-30T10:50:53.171Z"
   },
   {
    "duration": 104,
    "start_time": "2022-08-30T10:54:09.998Z"
   },
   {
    "duration": 310,
    "start_time": "2022-08-30T10:54:28.895Z"
   },
   {
    "duration": 246,
    "start_time": "2022-08-30T10:54:34.415Z"
   },
   {
    "duration": 102,
    "start_time": "2022-08-30T10:54:42.925Z"
   },
   {
    "duration": 104,
    "start_time": "2022-08-30T10:54:56.071Z"
   },
   {
    "duration": 241,
    "start_time": "2022-08-30T10:55:08.765Z"
   },
   {
    "duration": 243,
    "start_time": "2022-08-30T10:55:36.391Z"
   },
   {
    "duration": 362,
    "start_time": "2022-08-30T10:58:04.243Z"
   },
   {
    "duration": 14,
    "start_time": "2022-08-30T10:59:16.700Z"
   },
   {
    "duration": 13,
    "start_time": "2022-08-30T10:59:19.214Z"
   },
   {
    "duration": 12,
    "start_time": "2022-08-30T10:59:26.926Z"
   },
   {
    "duration": 13,
    "start_time": "2022-08-30T10:59:28.858Z"
   },
   {
    "duration": 13,
    "start_time": "2022-08-30T10:59:58.308Z"
   },
   {
    "duration": 12,
    "start_time": "2022-08-30T10:59:59.718Z"
   },
   {
    "duration": 9,
    "start_time": "2022-08-30T15:19:44.937Z"
   },
   {
    "duration": 8,
    "start_time": "2022-08-30T15:19:48.445Z"
   },
   {
    "duration": 135,
    "start_time": "2022-08-30T15:20:02.811Z"
   },
   {
    "duration": 17,
    "start_time": "2022-08-30T15:22:07.061Z"
   },
   {
    "duration": 15,
    "start_time": "2022-08-30T15:22:11.662Z"
   },
   {
    "duration": 114,
    "start_time": "2022-08-30T15:22:18.625Z"
   },
   {
    "duration": 9,
    "start_time": "2022-08-30T15:28:17.575Z"
   },
   {
    "duration": 9,
    "start_time": "2022-08-30T15:28:25.064Z"
   },
   {
    "duration": 135,
    "start_time": "2022-08-30T15:28:34.037Z"
   },
   {
    "duration": 10,
    "start_time": "2022-08-30T15:29:36.069Z"
   },
   {
    "duration": 144,
    "start_time": "2022-08-30T15:31:01.962Z"
   },
   {
    "duration": 132,
    "start_time": "2022-08-30T15:31:30.128Z"
   },
   {
    "duration": 739,
    "start_time": "2022-08-30T15:33:43.041Z"
   },
   {
    "duration": 145,
    "start_time": "2022-08-30T15:33:54.148Z"
   },
   {
    "duration": 176,
    "start_time": "2022-08-30T15:34:19.147Z"
   },
   {
    "duration": 161,
    "start_time": "2022-08-30T15:34:31.082Z"
   },
   {
    "duration": 601,
    "start_time": "2022-08-30T15:42:24.058Z"
   },
   {
    "duration": 113,
    "start_time": "2022-08-30T15:42:48.168Z"
   },
   {
    "duration": 568,
    "start_time": "2022-08-30T15:43:23.912Z"
   },
   {
    "duration": 176,
    "start_time": "2022-08-30T15:45:49.132Z"
   },
   {
    "duration": 246,
    "start_time": "2022-08-30T15:46:15.386Z"
   },
   {
    "duration": 270,
    "start_time": "2022-08-30T15:46:33.415Z"
   },
   {
    "duration": 229,
    "start_time": "2022-08-30T15:46:40.946Z"
   },
   {
    "duration": 234,
    "start_time": "2022-08-30T15:47:13.373Z"
   },
   {
    "duration": 223,
    "start_time": "2022-08-30T15:47:45.619Z"
   },
   {
    "duration": 233,
    "start_time": "2022-08-30T15:48:01.165Z"
   },
   {
    "duration": 870,
    "start_time": "2022-08-30T15:54:16.291Z"
   },
   {
    "duration": 924,
    "start_time": "2022-08-30T15:54:35.053Z"
   },
   {
    "duration": 16,
    "start_time": "2022-08-30T15:54:42.437Z"
   },
   {
    "duration": 79,
    "start_time": "2022-08-30T15:55:05.565Z"
   },
   {
    "duration": 14,
    "start_time": "2022-08-30T15:55:06.104Z"
   },
   {
    "duration": 14,
    "start_time": "2022-08-30T15:55:06.303Z"
   },
   {
    "duration": 17,
    "start_time": "2022-08-30T15:55:06.840Z"
   },
   {
    "duration": 14,
    "start_time": "2022-08-30T15:55:07.046Z"
   },
   {
    "duration": 16,
    "start_time": "2022-08-30T15:55:07.429Z"
   },
   {
    "duration": 17,
    "start_time": "2022-08-30T15:55:07.606Z"
   },
   {
    "duration": 14,
    "start_time": "2022-08-30T15:55:07.795Z"
   },
   {
    "duration": 5,
    "start_time": "2022-08-30T15:55:08.201Z"
   },
   {
    "duration": 303,
    "start_time": "2022-08-30T15:55:09.523Z"
   },
   {
    "duration": 260,
    "start_time": "2022-08-30T15:55:11.074Z"
   },
   {
    "duration": 13,
    "start_time": "2022-08-30T15:55:12.869Z"
   },
   {
    "duration": 19,
    "start_time": "2022-08-30T15:55:14.140Z"
   },
   {
    "duration": 143,
    "start_time": "2022-08-30T15:55:15.545Z"
   },
   {
    "duration": 148,
    "start_time": "2022-08-30T15:55:29.082Z"
   },
   {
    "duration": 135,
    "start_time": "2022-08-30T15:55:38.757Z"
   },
   {
    "duration": 134,
    "start_time": "2022-08-30T15:55:55.964Z"
   },
   {
    "duration": 128,
    "start_time": "2022-08-30T15:56:22.907Z"
   },
   {
    "duration": 132,
    "start_time": "2022-08-30T15:56:29.099Z"
   },
   {
    "duration": 418,
    "start_time": "2022-08-30T15:56:34.057Z"
   },
   {
    "duration": 235,
    "start_time": "2022-08-30T15:57:03.328Z"
   },
   {
    "duration": 219,
    "start_time": "2022-08-30T15:57:40.746Z"
   },
   {
    "duration": 213,
    "start_time": "2022-08-30T15:57:50.222Z"
   },
   {
    "duration": 224,
    "start_time": "2022-08-30T15:57:57.487Z"
   },
   {
    "duration": 263,
    "start_time": "2022-08-30T16:00:22.363Z"
   },
   {
    "duration": 231,
    "start_time": "2022-08-30T16:00:29.337Z"
   },
   {
    "duration": 117,
    "start_time": "2022-08-30T16:03:29.795Z"
   },
   {
    "duration": 235,
    "start_time": "2022-08-30T16:03:43.421Z"
   },
   {
    "duration": 136,
    "start_time": "2022-08-30T16:13:14.097Z"
   },
   {
    "duration": 221,
    "start_time": "2022-08-30T16:13:23.596Z"
   },
   {
    "duration": 11,
    "start_time": "2022-08-30T16:14:04.188Z"
   },
   {
    "duration": 216,
    "start_time": "2022-08-30T16:14:10.776Z"
   },
   {
    "duration": 785,
    "start_time": "2022-08-30T16:15:38.340Z"
   },
   {
    "duration": 61,
    "start_time": "2022-08-30T16:15:51.464Z"
   },
   {
    "duration": 236,
    "start_time": "2022-08-30T16:15:56.263Z"
   },
   {
    "duration": 1900,
    "start_time": "2022-08-30T17:27:39.107Z"
   },
   {
    "duration": 503,
    "start_time": "2022-08-30T17:29:42.678Z"
   },
   {
    "duration": 435,
    "start_time": "2022-08-30T17:30:12.373Z"
   },
   {
    "duration": 274,
    "start_time": "2022-08-30T17:30:23.720Z"
   },
   {
    "duration": 262,
    "start_time": "2022-08-30T17:30:32.085Z"
   },
   {
    "duration": 323,
    "start_time": "2022-08-31T08:03:31.086Z"
   },
   {
    "duration": 68,
    "start_time": "2022-08-31T08:03:35.257Z"
   },
   {
    "duration": 334,
    "start_time": "2022-08-31T08:04:28.910Z"
   },
   {
    "duration": 5,
    "start_time": "2022-08-31T08:09:55.856Z"
   },
   {
    "duration": 9,
    "start_time": "2022-08-31T08:10:07.200Z"
   },
   {
    "duration": 37,
    "start_time": "2022-08-31T08:36:28.626Z"
   },
   {
    "duration": 140,
    "start_time": "2022-08-31T08:36:43.670Z"
   },
   {
    "duration": 5,
    "start_time": "2022-08-31T08:52:55.184Z"
   },
   {
    "duration": 1758,
    "start_time": "2022-08-31T08:53:50.304Z"
   },
   {
    "duration": 3,
    "start_time": "2022-08-31T08:56:22.434Z"
   },
   {
    "duration": 11,
    "start_time": "2022-08-31T08:56:31.428Z"
   },
   {
    "duration": 16,
    "start_time": "2022-08-31T08:57:51.550Z"
   },
   {
    "duration": 9,
    "start_time": "2022-08-31T09:00:31.268Z"
   },
   {
    "duration": 7,
    "start_time": "2022-08-31T09:02:08.293Z"
   },
   {
    "duration": 120,
    "start_time": "2022-08-31T09:02:21.000Z"
   },
   {
    "duration": 252,
    "start_time": "2022-08-31T09:06:52.330Z"
   },
   {
    "duration": 240,
    "start_time": "2022-08-31T09:07:07.511Z"
   },
   {
    "duration": 109,
    "start_time": "2022-08-31T09:07:37.904Z"
   },
   {
    "duration": 111,
    "start_time": "2022-08-31T09:07:49.529Z"
   },
   {
    "duration": 16,
    "start_time": "2022-08-31T09:08:17.244Z"
   },
   {
    "duration": 16,
    "start_time": "2022-08-31T09:08:27.542Z"
   },
   {
    "duration": 17,
    "start_time": "2022-08-31T09:10:07.826Z"
   },
   {
    "duration": 21,
    "start_time": "2022-08-31T09:11:35.777Z"
   },
   {
    "duration": 16,
    "start_time": "2022-08-31T09:12:18.151Z"
   },
   {
    "duration": 8,
    "start_time": "2022-08-31T09:12:25.490Z"
   },
   {
    "duration": 9,
    "start_time": "2022-08-31T09:12:46.538Z"
   },
   {
    "duration": 109,
    "start_time": "2022-08-31T09:13:06.532Z"
   },
   {
    "duration": 107,
    "start_time": "2022-08-31T09:13:09.589Z"
   },
   {
    "duration": 210,
    "start_time": "2022-08-31T09:13:14.620Z"
   },
   {
    "duration": 74,
    "start_time": "2022-08-31T10:48:07.616Z"
   },
   {
    "duration": 14,
    "start_time": "2022-08-31T10:48:12.925Z"
   },
   {
    "duration": 14,
    "start_time": "2022-08-31T10:48:14.130Z"
   },
   {
    "duration": 14,
    "start_time": "2022-08-31T10:48:15.832Z"
   },
   {
    "duration": 15,
    "start_time": "2022-08-31T10:48:34.019Z"
   },
   {
    "duration": 16,
    "start_time": "2022-08-31T10:48:35.308Z"
   },
   {
    "duration": 18,
    "start_time": "2022-08-31T10:48:35.936Z"
   },
   {
    "duration": 14,
    "start_time": "2022-08-31T10:48:36.411Z"
   },
   {
    "duration": 4,
    "start_time": "2022-08-31T10:48:37.323Z"
   },
   {
    "duration": 974,
    "start_time": "2022-08-31T10:48:38.286Z"
   },
   {
    "duration": 281,
    "start_time": "2022-08-31T10:48:39.382Z"
   },
   {
    "duration": 13,
    "start_time": "2022-08-31T10:48:40.386Z"
   },
   {
    "duration": 15,
    "start_time": "2022-08-31T10:48:40.844Z"
   },
   {
    "duration": 260,
    "start_time": "2022-08-31T10:48:41.411Z"
   },
   {
    "duration": 12,
    "start_time": "2022-08-31T10:48:46.126Z"
   },
   {
    "duration": 141,
    "start_time": "2022-08-31T10:50:59.960Z"
   },
   {
    "duration": 20,
    "start_time": "2022-08-31T10:51:01.789Z"
   },
   {
    "duration": 10,
    "start_time": "2022-08-31T10:51:02.262Z"
   },
   {
    "duration": 211,
    "start_time": "2022-08-31T10:51:02.921Z"
   },
   {
    "duration": 253,
    "start_time": "2022-08-31T10:51:08.502Z"
   },
   {
    "duration": 268,
    "start_time": "2022-08-31T10:51:50.520Z"
   },
   {
    "duration": 80,
    "start_time": "2022-08-31T11:01:49.752Z"
   },
   {
    "duration": 27,
    "start_time": "2022-08-31T11:01:54.606Z"
   },
   {
    "duration": 18,
    "start_time": "2022-08-31T11:02:12.682Z"
   },
   {
    "duration": 15,
    "start_time": "2022-08-31T11:02:13.027Z"
   },
   {
    "duration": 15,
    "start_time": "2022-08-31T11:02:13.912Z"
   },
   {
    "duration": 15,
    "start_time": "2022-08-31T11:02:14.185Z"
   },
   {
    "duration": 16,
    "start_time": "2022-08-31T11:02:14.725Z"
   },
   {
    "duration": 18,
    "start_time": "2022-08-31T11:02:15.040Z"
   },
   {
    "duration": 15,
    "start_time": "2022-08-31T11:02:15.342Z"
   },
   {
    "duration": 5,
    "start_time": "2022-08-31T11:02:15.867Z"
   },
   {
    "duration": 304,
    "start_time": "2022-08-31T11:02:16.760Z"
   },
   {
    "duration": 256,
    "start_time": "2022-08-31T11:02:17.635Z"
   },
   {
    "duration": 14,
    "start_time": "2022-08-31T11:02:18.226Z"
   },
   {
    "duration": 16,
    "start_time": "2022-08-31T11:02:18.558Z"
   },
   {
    "duration": 254,
    "start_time": "2022-08-31T11:02:18.860Z"
   },
   {
    "duration": 10,
    "start_time": "2022-08-31T11:02:20.486Z"
   },
   {
    "duration": 141,
    "start_time": "2022-08-31T11:02:21.987Z"
   },
   {
    "duration": 22,
    "start_time": "2022-08-31T11:02:24.761Z"
   },
   {
    "duration": 9,
    "start_time": "2022-08-31T11:02:26.365Z"
   },
   {
    "duration": 214,
    "start_time": "2022-08-31T11:02:27.155Z"
   },
   {
    "duration": 6,
    "start_time": "2022-08-31T11:02:31.496Z"
   },
   {
    "duration": 27,
    "start_time": "2022-08-31T11:02:44.878Z"
   },
   {
    "duration": 24,
    "start_time": "2022-08-31T11:09:23.133Z"
   },
   {
    "duration": 19,
    "start_time": "2022-08-31T11:09:52.281Z"
   },
   {
    "duration": 5,
    "start_time": "2022-08-31T11:12:49.329Z"
   },
   {
    "duration": 11,
    "start_time": "2022-08-31T11:13:40.012Z"
   },
   {
    "duration": 16,
    "start_time": "2022-08-31T11:13:51.549Z"
   },
   {
    "duration": 34,
    "start_time": "2022-08-31T11:14:12.690Z"
   },
   {
    "duration": 115010,
    "start_time": "2022-08-31T11:14:49.740Z"
   },
   {
    "duration": 18,
    "start_time": "2022-08-31T11:20:21.229Z"
   },
   {
    "duration": 28,
    "start_time": "2022-08-31T11:20:28.545Z"
   },
   {
    "duration": 24,
    "start_time": "2022-08-31T11:21:20.112Z"
   },
   {
    "duration": 28,
    "start_time": "2022-08-31T11:23:47.895Z"
   },
   {
    "duration": 1339,
    "start_time": "2022-08-31T11:27:28.198Z"
   },
   {
    "duration": 771,
    "start_time": "2022-08-31T11:33:45.816Z"
   },
   {
    "duration": 1505,
    "start_time": "2022-08-31T11:35:04.038Z"
   },
   {
    "duration": 252,
    "start_time": "2022-08-31T11:35:29.736Z"
   },
   {
    "duration": 1199,
    "start_time": "2022-08-31T11:37:28.746Z"
   },
   {
    "duration": 1273,
    "start_time": "2022-08-31T11:38:51.320Z"
   },
   {
    "duration": 33,
    "start_time": "2022-08-31T11:44:32.729Z"
   },
   {
    "duration": 126,
    "start_time": "2022-08-31T11:44:35.325Z"
   },
   {
    "duration": 975,
    "start_time": "2022-08-31T11:51:52.012Z"
   },
   {
    "duration": 7,
    "start_time": "2022-08-31T11:52:06.861Z"
   },
   {
    "duration": 12,
    "start_time": "2022-08-31T11:52:26.152Z"
   },
   {
    "duration": 17,
    "start_time": "2022-08-31T11:53:48.371Z"
   },
   {
    "duration": 870,
    "start_time": "2022-08-31T11:54:28.209Z"
   },
   {
    "duration": 1346,
    "start_time": "2022-08-31T11:54:36.934Z"
   },
   {
    "duration": 731,
    "start_time": "2022-08-31T11:54:45.905Z"
   },
   {
    "duration": 20,
    "start_time": "2022-08-31T11:55:25.321Z"
   },
   {
    "duration": 1121,
    "start_time": "2022-08-31T11:55:38.051Z"
   },
   {
    "duration": 130,
    "start_time": "2022-08-31T11:56:07.396Z"
   },
   {
    "duration": 116,
    "start_time": "2022-08-31T11:56:38.226Z"
   },
   {
    "duration": 205,
    "start_time": "2022-08-31T12:14:26.845Z"
   },
   {
    "duration": 268,
    "start_time": "2022-08-31T13:47:46.579Z"
   },
   {
    "duration": 46,
    "start_time": "2022-08-31T13:48:11.391Z"
   },
   {
    "duration": 235,
    "start_time": "2022-08-31T13:48:17.078Z"
   },
   {
    "duration": 270,
    "start_time": "2022-08-31T13:48:33.260Z"
   },
   {
    "duration": 260,
    "start_time": "2022-08-31T13:49:07.154Z"
   },
   {
    "duration": 16,
    "start_time": "2022-08-31T13:49:44.733Z"
   },
   {
    "duration": 1088,
    "start_time": "2022-08-31T13:50:06.111Z"
   },
   {
    "duration": 16,
    "start_time": "2022-08-31T13:50:16.644Z"
   },
   {
    "duration": 16,
    "start_time": "2022-08-31T13:50:30.143Z"
   },
   {
    "duration": 250,
    "start_time": "2022-08-31T13:55:03.892Z"
   },
   {
    "duration": 259,
    "start_time": "2022-08-31T13:55:33.152Z"
   },
   {
    "duration": 248,
    "start_time": "2022-08-31T13:55:56.773Z"
   },
   {
    "duration": 256,
    "start_time": "2022-08-31T13:56:18.557Z"
   },
   {
    "duration": 8,
    "start_time": "2022-08-31T13:57:44.656Z"
   },
   {
    "duration": 209,
    "start_time": "2022-08-31T13:58:26.082Z"
   },
   {
    "duration": 9,
    "start_time": "2022-09-01T05:32:56.173Z"
   },
   {
    "duration": 240,
    "start_time": "2022-09-01T05:33:31.291Z"
   },
   {
    "duration": 290,
    "start_time": "2022-09-01T05:42:30.243Z"
   },
   {
    "duration": 293,
    "start_time": "2022-09-01T05:42:50.057Z"
   },
   {
    "duration": 192,
    "start_time": "2022-09-01T08:05:00.820Z"
   },
   {
    "duration": 16,
    "start_time": "2022-09-01T08:16:22.157Z"
   },
   {
    "duration": 12,
    "start_time": "2022-09-01T08:16:37.793Z"
   },
   {
    "duration": 28,
    "start_time": "2022-09-01T08:16:50.701Z"
   },
   {
    "duration": 27,
    "start_time": "2022-09-01T08:17:35.478Z"
   },
   {
    "duration": 28,
    "start_time": "2022-09-01T08:18:11.746Z"
   },
   {
    "duration": 26,
    "start_time": "2022-09-01T08:18:17.255Z"
   },
   {
    "duration": 27,
    "start_time": "2022-09-01T08:18:43.758Z"
   },
   {
    "duration": 14,
    "start_time": "2022-09-01T08:19:58.908Z"
   },
   {
    "duration": 13,
    "start_time": "2022-09-01T08:20:07.149Z"
   },
   {
    "duration": 14,
    "start_time": "2022-09-01T08:20:13.162Z"
   },
   {
    "duration": 18,
    "start_time": "2022-09-01T08:21:29.498Z"
   },
   {
    "duration": 18,
    "start_time": "2022-09-01T08:21:59.834Z"
   },
   {
    "duration": 550,
    "start_time": "2022-09-01T08:22:09.742Z"
   },
   {
    "duration": 13,
    "start_time": "2022-09-01T08:31:26.962Z"
   },
   {
    "duration": 13,
    "start_time": "2022-09-01T08:32:09.922Z"
   },
   {
    "duration": 12,
    "start_time": "2022-09-01T08:32:13.044Z"
   },
   {
    "duration": 16,
    "start_time": "2022-09-01T08:35:29.700Z"
   },
   {
    "duration": 12,
    "start_time": "2022-09-01T08:35:35.884Z"
   },
   {
    "duration": 967,
    "start_time": "2022-09-01T08:35:58.881Z"
   },
   {
    "duration": 13,
    "start_time": "2022-09-01T08:36:12.240Z"
   },
   {
    "duration": 956,
    "start_time": "2022-09-01T08:36:14.519Z"
   },
   {
    "duration": 19,
    "start_time": "2022-09-01T08:36:51.234Z"
   },
   {
    "duration": 14,
    "start_time": "2022-09-01T08:37:33.704Z"
   },
   {
    "duration": 15,
    "start_time": "2022-09-01T08:38:02.238Z"
   },
   {
    "duration": 15,
    "start_time": "2022-09-01T08:39:23.007Z"
   },
   {
    "duration": 15,
    "start_time": "2022-09-01T08:39:30.326Z"
   },
   {
    "duration": 15,
    "start_time": "2022-09-01T08:39:38.963Z"
   },
   {
    "duration": 4,
    "start_time": "2022-09-01T08:40:19.793Z"
   },
   {
    "duration": 75,
    "start_time": "2022-09-01T08:40:27.009Z"
   },
   {
    "duration": 12,
    "start_time": "2022-09-01T08:40:29.599Z"
   },
   {
    "duration": 14,
    "start_time": "2022-09-01T08:40:36.074Z"
   },
   {
    "duration": 15,
    "start_time": "2022-09-01T08:40:42.855Z"
   },
   {
    "duration": 14,
    "start_time": "2022-09-01T08:40:48.038Z"
   },
   {
    "duration": 15,
    "start_time": "2022-09-01T08:40:51.922Z"
   },
   {
    "duration": 19,
    "start_time": "2022-09-01T08:41:23.392Z"
   },
   {
    "duration": 13,
    "start_time": "2022-09-01T08:41:27.124Z"
   },
   {
    "duration": 4,
    "start_time": "2022-09-01T08:41:30.572Z"
   },
   {
    "duration": 16,
    "start_time": "2022-09-01T08:55:00.746Z"
   },
   {
    "duration": 18,
    "start_time": "2022-09-01T08:55:20.448Z"
   },
   {
    "duration": 15,
    "start_time": "2022-09-01T09:00:02.725Z"
   },
   {
    "duration": 16,
    "start_time": "2022-09-01T09:00:08.983Z"
   },
   {
    "duration": 16,
    "start_time": "2022-09-01T09:00:59.025Z"
   },
   {
    "duration": 2416,
    "start_time": "2022-09-01T09:01:07.517Z"
   },
   {
    "duration": 16,
    "start_time": "2022-09-01T09:01:17.986Z"
   },
   {
    "duration": 1172,
    "start_time": "2022-09-01T09:01:29.463Z"
   },
   {
    "duration": 15,
    "start_time": "2022-09-01T09:01:38.386Z"
   },
   {
    "duration": 15,
    "start_time": "2022-09-01T09:02:10.356Z"
   },
   {
    "duration": 15,
    "start_time": "2022-09-01T09:02:14.825Z"
   },
   {
    "duration": 15,
    "start_time": "2022-09-01T09:02:59.368Z"
   },
   {
    "duration": 19,
    "start_time": "2022-09-01T09:42:17.834Z"
   },
   {
    "duration": 5,
    "start_time": "2022-09-01T09:46:56.709Z"
   },
   {
    "duration": 50,
    "start_time": "2022-09-01T11:38:20.062Z"
   },
   {
    "duration": 16,
    "start_time": "2022-09-01T11:39:41.015Z"
   },
   {
    "duration": 1108,
    "start_time": "2022-09-01T11:41:34.648Z"
   },
   {
    "duration": 17,
    "start_time": "2022-09-01T11:41:42.495Z"
   },
   {
    "duration": 15,
    "start_time": "2022-09-01T11:42:08.567Z"
   },
   {
    "duration": 824,
    "start_time": "2022-09-01T11:42:17.604Z"
   },
   {
    "duration": 15,
    "start_time": "2022-09-01T11:43:24.630Z"
   },
   {
    "duration": 15,
    "start_time": "2022-09-01T11:44:37.725Z"
   },
   {
    "duration": 15,
    "start_time": "2022-09-01T11:44:48.962Z"
   },
   {
    "duration": 16,
    "start_time": "2022-09-01T11:45:05.770Z"
   },
   {
    "duration": 116,
    "start_time": "2022-09-01T12:41:22.111Z"
   },
   {
    "duration": 142,
    "start_time": "2022-09-01T12:41:53.178Z"
   },
   {
    "duration": 174,
    "start_time": "2022-09-01T12:42:58.333Z"
   },
   {
    "duration": 106,
    "start_time": "2022-09-01T12:47:06.139Z"
   },
   {
    "duration": 6,
    "start_time": "2022-09-01T12:47:10.258Z"
   },
   {
    "duration": 8,
    "start_time": "2022-09-01T12:49:35.337Z"
   },
   {
    "duration": 8,
    "start_time": "2022-09-01T12:49:42.638Z"
   },
   {
    "duration": 3,
    "start_time": "2022-09-01T12:50:13.924Z"
   },
   {
    "duration": 5,
    "start_time": "2022-09-01T12:50:23.777Z"
   },
   {
    "duration": 3,
    "start_time": "2022-09-01T12:50:36.580Z"
   },
   {
    "duration": 5,
    "start_time": "2022-09-01T12:50:51.967Z"
   },
   {
    "duration": 8,
    "start_time": "2022-09-01T12:51:21.246Z"
   },
   {
    "duration": 83,
    "start_time": "2022-09-01T12:51:25.769Z"
   },
   {
    "duration": 7,
    "start_time": "2022-09-01T12:51:28.965Z"
   },
   {
    "duration": 4,
    "start_time": "2022-09-01T12:51:39.230Z"
   },
   {
    "duration": 4,
    "start_time": "2022-09-01T12:52:02.895Z"
   },
   {
    "duration": 4,
    "start_time": "2022-09-01T12:52:38.419Z"
   },
   {
    "duration": 3,
    "start_time": "2022-09-01T12:53:24.185Z"
   },
   {
    "duration": 4,
    "start_time": "2022-09-01T12:53:26.269Z"
   },
   {
    "duration": 7,
    "start_time": "2022-09-01T12:53:47.105Z"
   },
   {
    "duration": 8,
    "start_time": "2022-09-01T12:56:40.964Z"
   },
   {
    "duration": 4,
    "start_time": "2022-09-01T12:56:59.966Z"
   },
   {
    "duration": 3,
    "start_time": "2022-09-01T12:57:07.097Z"
   },
   {
    "duration": 30,
    "start_time": "2022-09-01T13:13:34.692Z"
   },
   {
    "duration": 1175,
    "start_time": "2022-09-01T13:14:02.715Z"
   },
   {
    "duration": 98,
    "start_time": "2022-09-01T13:14:10.703Z"
   },
   {
    "duration": 14,
    "start_time": "2022-09-01T13:14:13.553Z"
   },
   {
    "duration": 14,
    "start_time": "2022-09-01T13:14:14.285Z"
   },
   {
    "duration": 15,
    "start_time": "2022-09-01T13:14:15.605Z"
   },
   {
    "duration": 13,
    "start_time": "2022-09-01T13:14:15.698Z"
   },
   {
    "duration": 17,
    "start_time": "2022-09-01T13:14:17.237Z"
   },
   {
    "duration": 25,
    "start_time": "2022-09-01T13:14:19.668Z"
   },
   {
    "duration": 21,
    "start_time": "2022-09-01T13:14:19.866Z"
   },
   {
    "duration": 4,
    "start_time": "2022-09-01T13:14:20.087Z"
   },
   {
    "duration": 13,
    "start_time": "2022-09-01T13:14:20.321Z"
   },
   {
    "duration": 4,
    "start_time": "2022-09-01T13:14:20.839Z"
   },
   {
    "duration": 291,
    "start_time": "2022-09-01T13:14:21.603Z"
   },
   {
    "duration": 316,
    "start_time": "2022-09-01T13:14:22.457Z"
   },
   {
    "duration": 12,
    "start_time": "2022-09-01T13:14:23.233Z"
   },
   {
    "duration": 16,
    "start_time": "2022-09-01T13:14:23.633Z"
   },
   {
    "duration": 261,
    "start_time": "2022-09-01T13:14:23.914Z"
   },
   {
    "duration": 10,
    "start_time": "2022-09-01T13:14:25.135Z"
   },
   {
    "duration": 138,
    "start_time": "2022-09-01T13:14:25.852Z"
   },
   {
    "duration": 8,
    "start_time": "2022-09-01T13:14:27.236Z"
   },
   {
    "duration": 214,
    "start_time": "2022-09-01T13:14:28.153Z"
   },
   {
    "duration": 9,
    "start_time": "2022-09-01T13:14:30.055Z"
   },
   {
    "duration": 217,
    "start_time": "2022-09-01T13:14:30.467Z"
   },
   {
    "duration": 11,
    "start_time": "2022-09-01T13:14:31.161Z"
   },
   {
    "duration": 239,
    "start_time": "2022-09-01T13:14:31.698Z"
   },
   {
    "duration": 196,
    "start_time": "2022-09-01T13:14:33.685Z"
   },
   {
    "duration": 15,
    "start_time": "2022-09-01T13:14:36.811Z"
   },
   {
    "duration": 15,
    "start_time": "2022-09-01T13:14:37.221Z"
   },
   {
    "duration": 16,
    "start_time": "2022-09-01T13:14:37.569Z"
   },
   {
    "duration": 15,
    "start_time": "2022-09-01T13:14:38.183Z"
   },
   {
    "duration": 16,
    "start_time": "2022-09-01T13:14:38.462Z"
   },
   {
    "duration": 17,
    "start_time": "2022-09-01T13:14:38.923Z"
   },
   {
    "duration": 24,
    "start_time": "2022-09-01T13:14:39.894Z"
   },
   {
    "duration": 22,
    "start_time": "2022-09-01T13:14:40.396Z"
   },
   {
    "duration": 23,
    "start_time": "2022-09-01T13:14:40.805Z"
   },
   {
    "duration": 189,
    "start_time": "2022-09-01T13:14:43.790Z"
   },
   {
    "duration": 6,
    "start_time": "2022-09-01T13:14:51.094Z"
   },
   {
    "duration": 7,
    "start_time": "2022-09-01T13:14:51.709Z"
   },
   {
    "duration": 3,
    "start_time": "2022-09-01T13:14:52.163Z"
   },
   {
    "duration": 7,
    "start_time": "2022-09-01T13:14:52.595Z"
   },
   {
    "duration": 3,
    "start_time": "2022-09-01T13:14:53.104Z"
   },
   {
    "duration": 6,
    "start_time": "2022-09-01T13:14:53.799Z"
   },
   {
    "duration": 4,
    "start_time": "2022-09-01T13:14:54.246Z"
   },
   {
    "duration": 4,
    "start_time": "2022-09-01T13:14:54.831Z"
   },
   {
    "duration": 4,
    "start_time": "2022-09-01T13:14:55.427Z"
   },
   {
    "duration": 193,
    "start_time": "2022-09-01T13:14:57.049Z"
   },
   {
    "duration": 195,
    "start_time": "2022-09-01T13:15:31.841Z"
   },
   {
    "duration": 187,
    "start_time": "2022-09-01T13:15:41.357Z"
   },
   {
    "duration": 190,
    "start_time": "2022-09-01T13:15:51.216Z"
   },
   {
    "duration": 170,
    "start_time": "2022-09-01T13:15:57.761Z"
   },
   {
    "duration": 8,
    "start_time": "2022-09-01T13:16:31.363Z"
   },
   {
    "duration": 189,
    "start_time": "2022-09-01T13:18:55.463Z"
   },
   {
    "duration": 206,
    "start_time": "2022-09-01T13:19:10.034Z"
   },
   {
    "duration": 12,
    "start_time": "2022-09-01T13:20:40.787Z"
   },
   {
    "duration": 3,
    "start_time": "2022-09-01T13:21:05.509Z"
   },
   {
    "duration": 6,
    "start_time": "2022-09-01T13:21:17.194Z"
   },
   {
    "duration": 4,
    "start_time": "2022-09-01T13:21:38.895Z"
   },
   {
    "duration": 5,
    "start_time": "2022-09-01T13:21:54.544Z"
   },
   {
    "duration": 5,
    "start_time": "2022-09-01T13:22:10.966Z"
   },
   {
    "duration": 4,
    "start_time": "2022-09-01T13:22:42.652Z"
   },
   {
    "duration": 4,
    "start_time": "2022-09-01T13:23:16.186Z"
   },
   {
    "duration": 10,
    "start_time": "2022-09-01T14:50:23.730Z"
   },
   {
    "duration": 4,
    "start_time": "2022-09-01T14:50:58.150Z"
   },
   {
    "duration": 13,
    "start_time": "2022-09-01T14:53:49.571Z"
   },
   {
    "duration": 92,
    "start_time": "2022-09-01T14:53:54.480Z"
   },
   {
    "duration": 12,
    "start_time": "2022-09-01T14:53:56.438Z"
   },
   {
    "duration": 14,
    "start_time": "2022-09-01T14:53:58.545Z"
   },
   {
    "duration": 15,
    "start_time": "2022-09-01T14:54:01.666Z"
   },
   {
    "duration": 15,
    "start_time": "2022-09-01T14:54:03.365Z"
   },
   {
    "duration": 17,
    "start_time": "2022-09-01T14:57:42.190Z"
   },
   {
    "duration": 18,
    "start_time": "2022-09-01T14:57:43.009Z"
   },
   {
    "duration": 17,
    "start_time": "2022-09-01T14:57:43.475Z"
   },
   {
    "duration": 6,
    "start_time": "2022-09-01T14:57:44.706Z"
   },
   {
    "duration": 12,
    "start_time": "2022-09-01T14:57:45.182Z"
   },
   {
    "duration": 5,
    "start_time": "2022-09-01T14:57:46.233Z"
   },
   {
    "duration": 303,
    "start_time": "2022-09-01T14:57:47.799Z"
   },
   {
    "duration": 270,
    "start_time": "2022-09-01T14:57:50.067Z"
   },
   {
    "duration": 14,
    "start_time": "2022-09-01T14:57:51.526Z"
   },
   {
    "duration": 15,
    "start_time": "2022-09-01T14:57:52.190Z"
   },
   {
    "duration": 270,
    "start_time": "2022-09-01T14:57:53.247Z"
   },
   {
    "duration": 11,
    "start_time": "2022-09-01T14:57:57.623Z"
   },
   {
    "duration": 145,
    "start_time": "2022-09-01T14:58:01.508Z"
   },
   {
    "duration": 9,
    "start_time": "2022-09-01T14:58:03.666Z"
   },
   {
    "duration": 213,
    "start_time": "2022-09-01T15:01:05.467Z"
   },
   {
    "duration": 8,
    "start_time": "2022-09-01T15:01:12.444Z"
   },
   {
    "duration": 225,
    "start_time": "2022-09-01T15:01:30.479Z"
   },
   {
    "duration": 9,
    "start_time": "2022-09-01T15:01:31.425Z"
   },
   {
    "duration": 244,
    "start_time": "2022-09-01T15:01:34.327Z"
   },
   {
    "duration": 205,
    "start_time": "2022-09-01T15:01:36.125Z"
   },
   {
    "duration": 16,
    "start_time": "2022-09-01T15:01:40.737Z"
   },
   {
    "duration": 15,
    "start_time": "2022-09-01T15:01:41.494Z"
   },
   {
    "duration": 15,
    "start_time": "2022-09-01T15:01:42.146Z"
   },
   {
    "duration": 14,
    "start_time": "2022-09-01T15:01:44.529Z"
   },
   {
    "duration": 15,
    "start_time": "2022-09-01T15:01:44.923Z"
   },
   {
    "duration": 16,
    "start_time": "2022-09-01T15:01:45.336Z"
   },
   {
    "duration": 15,
    "start_time": "2022-09-01T15:01:47.762Z"
   },
   {
    "duration": 16,
    "start_time": "2022-09-01T15:01:48.366Z"
   },
   {
    "duration": 16,
    "start_time": "2022-09-01T15:01:48.853Z"
   },
   {
    "duration": 11,
    "start_time": "2022-09-01T15:01:53.796Z"
   },
   {
    "duration": 4,
    "start_time": "2022-09-01T15:01:55.875Z"
   },
   {
    "duration": 9,
    "start_time": "2022-09-01T15:02:32.347Z"
   },
   {
    "duration": 3,
    "start_time": "2022-09-01T15:02:34.323Z"
   },
   {
    "duration": 36,
    "start_time": "2022-09-01T15:02:37.944Z"
   },
   {
    "duration": 32,
    "start_time": "2022-09-01T15:02:58.728Z"
   },
   {
    "duration": 14,
    "start_time": "2022-09-01T15:03:29.889Z"
   },
   {
    "duration": 108,
    "start_time": "2022-09-01T15:06:08.759Z"
   },
   {
    "duration": 13,
    "start_time": "2022-09-01T15:06:09.563Z"
   },
   {
    "duration": 14,
    "start_time": "2022-09-01T15:06:09.724Z"
   },
   {
    "duration": 17,
    "start_time": "2022-09-01T15:06:10.331Z"
   },
   {
    "duration": 13,
    "start_time": "2022-09-01T15:06:10.641Z"
   },
   {
    "duration": 21,
    "start_time": "2022-09-01T15:06:11.110Z"
   },
   {
    "duration": 16,
    "start_time": "2022-09-01T15:06:11.275Z"
   },
   {
    "duration": 17,
    "start_time": "2022-09-01T15:06:11.560Z"
   },
   {
    "duration": 5,
    "start_time": "2022-09-01T15:06:12.032Z"
   },
   {
    "duration": 12,
    "start_time": "2022-09-01T15:06:12.339Z"
   },
   {
    "duration": 6,
    "start_time": "2022-09-01T15:06:12.729Z"
   },
   {
    "duration": 304,
    "start_time": "2022-09-01T15:06:13.446Z"
   },
   {
    "duration": 259,
    "start_time": "2022-09-01T15:06:14.435Z"
   },
   {
    "duration": 12,
    "start_time": "2022-09-01T15:06:15.284Z"
   },
   {
    "duration": 15,
    "start_time": "2022-09-01T15:06:15.580Z"
   },
   {
    "duration": 265,
    "start_time": "2022-09-01T15:06:15.890Z"
   },
   {
    "duration": 11,
    "start_time": "2022-09-01T15:06:17.024Z"
   },
   {
    "duration": 150,
    "start_time": "2022-09-01T15:06:18.107Z"
   },
   {
    "duration": 9,
    "start_time": "2022-09-01T15:06:27.326Z"
   },
   {
    "duration": 9,
    "start_time": "2022-09-01T15:06:37.842Z"
   },
   {
    "duration": 220,
    "start_time": "2022-09-01T15:06:38.605Z"
   },
   {
    "duration": 9,
    "start_time": "2022-09-01T15:06:41.288Z"
   },
   {
    "duration": 224,
    "start_time": "2022-09-01T15:06:41.898Z"
   },
   {
    "duration": 9,
    "start_time": "2022-09-01T15:06:42.426Z"
   },
   {
    "duration": 236,
    "start_time": "2022-09-01T15:06:42.867Z"
   },
   {
    "duration": 199,
    "start_time": "2022-09-01T15:06:43.955Z"
   },
   {
    "duration": 16,
    "start_time": "2022-09-01T15:06:47.480Z"
   },
   {
    "duration": 16,
    "start_time": "2022-09-01T15:06:48.023Z"
   },
   {
    "duration": 16,
    "start_time": "2022-09-01T15:06:48.526Z"
   },
   {
    "duration": 23,
    "start_time": "2022-09-01T15:06:51.200Z"
   },
   {
    "duration": 16,
    "start_time": "2022-09-01T15:06:51.869Z"
   },
   {
    "duration": 16,
    "start_time": "2022-09-01T15:06:53.667Z"
   },
   {
    "duration": 23,
    "start_time": "2022-09-01T15:06:54.601Z"
   },
   {
    "duration": 16,
    "start_time": "2022-09-01T15:06:55.064Z"
   },
   {
    "duration": 15,
    "start_time": "2022-09-01T15:06:55.979Z"
   },
   {
    "duration": 216,
    "start_time": "2022-09-01T15:07:29.124Z"
   },
   {
    "duration": 7,
    "start_time": "2022-09-01T15:07:37.717Z"
   },
   {
    "duration": 9,
    "start_time": "2022-09-01T15:07:38.826Z"
   },
   {
    "duration": 4,
    "start_time": "2022-09-01T15:07:42.463Z"
   },
   {
    "duration": 7,
    "start_time": "2022-09-01T15:07:45.524Z"
   },
   {
    "duration": 3,
    "start_time": "2022-09-01T15:07:46.392Z"
   },
   {
    "duration": 7,
    "start_time": "2022-09-01T15:07:51.927Z"
   },
   {
    "duration": 4,
    "start_time": "2022-09-01T15:07:52.880Z"
   },
   {
    "duration": 11,
    "start_time": "2022-09-01T15:08:08.518Z"
   },
   {
    "duration": 4,
    "start_time": "2022-09-01T15:08:10.441Z"
   },
   {
    "duration": 33,
    "start_time": "2022-09-01T15:08:11.441Z"
   },
   {
    "duration": 17,
    "start_time": "2022-09-01T15:08:13.441Z"
   },
   {
    "duration": 213,
    "start_time": "2022-09-01T15:08:17.075Z"
   },
   {
    "duration": 7,
    "start_time": "2022-09-01T15:08:23.776Z"
   },
   {
    "duration": 14,
    "start_time": "2022-09-01T15:08:26.310Z"
   },
   {
    "duration": 3,
    "start_time": "2022-09-01T15:08:28.796Z"
   },
   {
    "duration": 6,
    "start_time": "2022-09-01T15:08:31.246Z"
   },
   {
    "duration": 3,
    "start_time": "2022-09-01T15:08:34.053Z"
   },
   {
    "duration": 5,
    "start_time": "2022-09-01T15:08:36.278Z"
   },
   {
    "duration": 5,
    "start_time": "2022-09-01T15:08:39.226Z"
   },
   {
    "duration": 10,
    "start_time": "2022-09-01T15:09:12.800Z"
   },
   {
    "duration": 3,
    "start_time": "2022-09-01T15:09:13.850Z"
   },
   {
    "duration": 32,
    "start_time": "2022-09-01T15:09:14.724Z"
   },
   {
    "duration": 14,
    "start_time": "2022-09-01T15:09:15.934Z"
   },
   {
    "duration": 251,
    "start_time": "2022-09-01T15:09:18.333Z"
   },
   {
    "duration": 6,
    "start_time": "2022-09-01T15:09:18.878Z"
   },
   {
    "duration": 18,
    "start_time": "2022-09-01T15:09:20.107Z"
   },
   {
    "duration": 3,
    "start_time": "2022-09-01T15:09:21.067Z"
   },
   {
    "duration": 5,
    "start_time": "2022-09-01T15:09:21.854Z"
   },
   {
    "duration": 3,
    "start_time": "2022-09-01T15:09:22.836Z"
   },
   {
    "duration": 5,
    "start_time": "2022-09-01T15:09:25.623Z"
   },
   {
    "duration": 4,
    "start_time": "2022-09-01T15:09:27.666Z"
   },
   {
    "duration": 18,
    "start_time": "2022-09-01T15:10:16.251Z"
   },
   {
    "duration": 27,
    "start_time": "2022-09-01T15:11:24.795Z"
   },
   {
    "duration": 9,
    "start_time": "2022-09-01T15:11:45.283Z"
   },
   {
    "duration": 5,
    "start_time": "2022-09-01T15:11:51.550Z"
   },
   {
    "duration": 19,
    "start_time": "2022-09-01T15:14:01.204Z"
   },
   {
    "duration": 4,
    "start_time": "2022-09-01T15:14:02.956Z"
   },
   {
    "duration": 47,
    "start_time": "2022-09-01T15:14:05.170Z"
   },
   {
    "duration": 42,
    "start_time": "2022-09-02T06:53:56.576Z"
   },
   {
    "duration": 1446,
    "start_time": "2022-09-02T06:54:04.352Z"
   },
   {
    "duration": 16,
    "start_time": "2022-09-02T06:54:09.146Z"
   },
   {
    "duration": 18,
    "start_time": "2022-09-02T06:54:13.287Z"
   },
   {
    "duration": 15,
    "start_time": "2022-09-02T06:54:21.271Z"
   },
   {
    "duration": 15,
    "start_time": "2022-09-02T06:54:41.400Z"
   },
   {
    "duration": 16,
    "start_time": "2022-09-02T06:54:50.606Z"
   },
   {
    "duration": 18,
    "start_time": "2022-09-02T06:55:05.407Z"
   },
   {
    "duration": 17,
    "start_time": "2022-09-02T06:55:34.021Z"
   },
   {
    "duration": 18,
    "start_time": "2022-09-02T06:57:34.487Z"
   },
   {
    "duration": 13,
    "start_time": "2022-09-02T06:57:40.594Z"
   },
   {
    "duration": 4,
    "start_time": "2022-09-02T06:58:56.697Z"
   },
   {
    "duration": 15,
    "start_time": "2022-09-02T06:58:57.465Z"
   },
   {
    "duration": 4,
    "start_time": "2022-09-02T06:58:59.313Z"
   },
   {
    "duration": 381,
    "start_time": "2022-09-02T06:59:04.189Z"
   },
   {
    "duration": 334,
    "start_time": "2022-09-02T06:59:08.975Z"
   },
   {
    "duration": 13,
    "start_time": "2022-09-02T06:59:17.771Z"
   },
   {
    "duration": 17,
    "start_time": "2022-09-02T06:59:23.889Z"
   },
   {
    "duration": 25,
    "start_time": "2022-09-02T06:59:41.044Z"
   },
   {
    "duration": 316,
    "start_time": "2022-09-02T06:59:49.909Z"
   },
   {
    "duration": 10,
    "start_time": "2022-09-02T06:59:55.555Z"
   },
   {
    "duration": 154,
    "start_time": "2022-09-02T06:59:59.335Z"
   },
   {
    "duration": 10,
    "start_time": "2022-09-02T07:00:04.303Z"
   },
   {
    "duration": 259,
    "start_time": "2022-09-02T07:00:14.200Z"
   },
   {
    "duration": 10,
    "start_time": "2022-09-02T07:01:21.160Z"
   },
   {
    "duration": 228,
    "start_time": "2022-09-02T07:01:26.988Z"
   },
   {
    "duration": 9,
    "start_time": "2022-09-02T07:01:30.164Z"
   },
   {
    "duration": 335,
    "start_time": "2022-09-02T07:01:41.646Z"
   },
   {
    "duration": 221,
    "start_time": "2022-09-02T07:01:45.069Z"
   },
   {
    "duration": 16,
    "start_time": "2022-09-02T07:01:48.820Z"
   },
   {
    "duration": 15,
    "start_time": "2022-09-02T07:01:51.203Z"
   },
   {
    "duration": 26,
    "start_time": "2022-09-02T07:01:54.038Z"
   },
   {
    "duration": 19,
    "start_time": "2022-09-02T07:01:56.509Z"
   },
   {
    "duration": 17,
    "start_time": "2022-09-02T07:01:58.684Z"
   },
   {
    "duration": 18,
    "start_time": "2022-09-02T07:02:00.816Z"
   },
   {
    "duration": 23,
    "start_time": "2022-09-02T07:02:03.351Z"
   },
   {
    "duration": 22,
    "start_time": "2022-09-02T07:02:05.658Z"
   },
   {
    "duration": 17,
    "start_time": "2022-09-02T07:02:07.682Z"
   },
   {
    "duration": 10,
    "start_time": "2022-09-02T07:02:12.267Z"
   },
   {
    "duration": 4,
    "start_time": "2022-09-02T07:02:14.591Z"
   },
   {
    "duration": 32,
    "start_time": "2022-09-02T07:02:16.527Z"
   },
   {
    "duration": 8,
    "start_time": "2022-09-02T07:02:18.936Z"
   },
   {
    "duration": 18,
    "start_time": "2022-09-02T07:02:25.217Z"
   },
   {
    "duration": 284,
    "start_time": "2022-09-02T07:02:29.213Z"
   },
   {
    "duration": 6,
    "start_time": "2022-09-02T07:02:31.928Z"
   },
   {
    "duration": 7,
    "start_time": "2022-09-02T07:02:33.580Z"
   },
   {
    "duration": 3,
    "start_time": "2022-09-02T07:02:35.071Z"
   },
   {
    "duration": 6,
    "start_time": "2022-09-02T07:02:36.408Z"
   },
   {
    "duration": 4,
    "start_time": "2022-09-02T07:02:38.633Z"
   },
   {
    "duration": 6,
    "start_time": "2022-09-02T07:02:40.965Z"
   },
   {
    "duration": 5,
    "start_time": "2022-09-02T07:02:43.062Z"
   },
   {
    "duration": 1447,
    "start_time": "2022-09-02T07:04:30.097Z"
   },
   {
    "duration": 10,
    "start_time": "2022-09-02T07:04:41.078Z"
   },
   {
    "duration": 953,
    "start_time": "2022-09-02T07:04:42.844Z"
   },
   {
    "duration": 5,
    "start_time": "2022-09-02T07:05:19.691Z"
   },
   {
    "duration": 6,
    "start_time": "2022-09-02T07:05:28.449Z"
   },
   {
    "duration": 19,
    "start_time": "2022-09-02T07:06:16.669Z"
   },
   {
    "duration": 4,
    "start_time": "2022-09-02T07:06:54.437Z"
   },
   {
    "duration": 3,
    "start_time": "2022-09-02T07:07:05.186Z"
   },
   {
    "duration": 10,
    "start_time": "2022-09-02T07:07:59.632Z"
   },
   {
    "duration": 3,
    "start_time": "2022-09-02T07:08:01.540Z"
   },
   {
    "duration": 30,
    "start_time": "2022-09-02T07:08:04.343Z"
   },
   {
    "duration": 8,
    "start_time": "2022-09-02T07:15:56.449Z"
   },
   {
    "duration": 4,
    "start_time": "2022-09-02T07:16:03.815Z"
   },
   {
    "duration": 211,
    "start_time": "2022-09-02T07:16:24.639Z"
   },
   {
    "duration": 6,
    "start_time": "2022-09-02T07:16:44.175Z"
   },
   {
    "duration": 5,
    "start_time": "2022-09-02T07:16:50.159Z"
   },
   {
    "duration": 20,
    "start_time": "2022-09-02T07:16:57.171Z"
   },
   {
    "duration": 273,
    "start_time": "2022-09-02T07:17:04.074Z"
   },
   {
    "duration": 6,
    "start_time": "2022-09-02T07:17:07.046Z"
   },
   {
    "duration": 9,
    "start_time": "2022-09-02T07:17:09.055Z"
   },
   {
    "duration": 2,
    "start_time": "2022-09-02T07:17:10.443Z"
   },
   {
    "duration": 5,
    "start_time": "2022-09-02T07:17:11.770Z"
   },
   {
    "duration": 3,
    "start_time": "2022-09-02T07:17:14.502Z"
   },
   {
    "duration": 6,
    "start_time": "2022-09-02T07:17:16.513Z"
   },
   {
    "duration": 5,
    "start_time": "2022-09-02T07:17:18.694Z"
   },
   {
    "duration": 3,
    "start_time": "2022-09-02T07:17:25.099Z"
   },
   {
    "duration": 5,
    "start_time": "2022-09-02T07:17:26.867Z"
   },
   {
    "duration": 266,
    "start_time": "2022-09-02T07:20:23.491Z"
   },
   {
    "duration": 7,
    "start_time": "2022-09-02T07:20:27.374Z"
   },
   {
    "duration": 8,
    "start_time": "2022-09-02T07:20:29.911Z"
   },
   {
    "duration": 3,
    "start_time": "2022-09-02T07:20:34.039Z"
   },
   {
    "duration": 5,
    "start_time": "2022-09-02T07:20:34.656Z"
   },
   {
    "duration": 3,
    "start_time": "2022-09-02T07:20:35.707Z"
   },
   {
    "duration": 5,
    "start_time": "2022-09-02T07:20:37.056Z"
   },
   {
    "duration": 4,
    "start_time": "2022-09-02T07:20:40.129Z"
   },
   {
    "duration": 3,
    "start_time": "2022-09-02T07:21:08.037Z"
   },
   {
    "duration": 4,
    "start_time": "2022-09-02T07:21:08.532Z"
   },
   {
    "duration": 740,
    "start_time": "2022-09-02T07:21:12.687Z"
   },
   {
    "duration": 7,
    "start_time": "2022-09-02T07:21:29.766Z"
   },
   {
    "duration": 8,
    "start_time": "2022-09-02T07:21:35.932Z"
   },
   {
    "duration": 3,
    "start_time": "2022-09-02T07:21:36.531Z"
   },
   {
    "duration": 5,
    "start_time": "2022-09-02T07:21:37.278Z"
   },
   {
    "duration": 3,
    "start_time": "2022-09-02T07:21:40.047Z"
   },
   {
    "duration": 6,
    "start_time": "2022-09-02T07:21:42.963Z"
   },
   {
    "duration": 5,
    "start_time": "2022-09-02T07:21:45.425Z"
   },
   {
    "duration": 3,
    "start_time": "2022-09-02T07:21:48.634Z"
   },
   {
    "duration": 4,
    "start_time": "2022-09-02T07:21:50.210Z"
   },
   {
    "duration": 20,
    "start_time": "2022-09-02T07:22:57.506Z"
   },
   {
    "duration": 4,
    "start_time": "2022-09-02T07:23:19.204Z"
   },
   {
    "duration": 5,
    "start_time": "2022-09-02T07:24:28.636Z"
   },
   {
    "duration": 4,
    "start_time": "2022-09-02T07:25:25.602Z"
   },
   {
    "duration": 660,
    "start_time": "2022-09-02T07:25:52.426Z"
   },
   {
    "duration": 4,
    "start_time": "2022-09-02T07:33:10.779Z"
   },
   {
    "duration": 5,
    "start_time": "2022-09-02T07:33:19.255Z"
   },
   {
    "duration": 7,
    "start_time": "2022-09-02T07:33:48.871Z"
   },
   {
    "duration": 15,
    "start_time": "2022-09-02T07:33:56.837Z"
   },
   {
    "duration": 5,
    "start_time": "2022-09-02T07:34:00.458Z"
   },
   {
    "duration": 9,
    "start_time": "2022-09-02T07:56:24.023Z"
   },
   {
    "duration": 5,
    "start_time": "2022-09-02T07:56:31.291Z"
   },
   {
    "duration": 5,
    "start_time": "2022-09-02T07:57:28.948Z"
   },
   {
    "duration": 6,
    "start_time": "2022-09-02T07:57:33.018Z"
   },
   {
    "duration": 4,
    "start_time": "2022-09-02T07:58:35.817Z"
   },
   {
    "duration": 6,
    "start_time": "2022-09-02T08:03:09.990Z"
   },
   {
    "duration": 5,
    "start_time": "2022-09-02T08:03:24.729Z"
   },
   {
    "duration": 18,
    "start_time": "2022-09-02T08:10:33.438Z"
   },
   {
    "duration": 8,
    "start_time": "2022-09-02T08:17:52.368Z"
   },
   {
    "duration": 9,
    "start_time": "2022-09-02T08:18:10.606Z"
   },
   {
    "duration": 93,
    "start_time": "2022-09-02T08:18:23.553Z"
   },
   {
    "duration": 12,
    "start_time": "2022-09-02T08:18:24.642Z"
   },
   {
    "duration": 15,
    "start_time": "2022-09-02T08:18:24.868Z"
   },
   {
    "duration": 15,
    "start_time": "2022-09-02T08:18:25.660Z"
   },
   {
    "duration": 15,
    "start_time": "2022-09-02T08:18:25.924Z"
   },
   {
    "duration": 16,
    "start_time": "2022-09-02T08:18:26.423Z"
   },
   {
    "duration": 17,
    "start_time": "2022-09-02T08:18:26.702Z"
   },
   {
    "duration": 455,
    "start_time": "2022-09-02T08:18:26.966Z"
   },
   {
    "duration": 0,
    "start_time": "2022-09-02T08:18:27.422Z"
   },
   {
    "duration": 0,
    "start_time": "2022-09-02T08:18:27.423Z"
   },
   {
    "duration": 4,
    "start_time": "2022-09-02T08:18:27.850Z"
   },
   {
    "duration": 302,
    "start_time": "2022-09-02T08:18:29.877Z"
   },
   {
    "duration": 353,
    "start_time": "2022-09-02T08:18:32.286Z"
   },
   {
    "duration": 13,
    "start_time": "2022-09-02T08:18:34.108Z"
   },
   {
    "duration": 18,
    "start_time": "2022-09-02T08:18:35.654Z"
   },
   {
    "duration": 254,
    "start_time": "2022-09-02T08:18:36.384Z"
   },
   {
    "duration": 12,
    "start_time": "2022-09-02T08:19:29.804Z"
   },
   {
    "duration": 148,
    "start_time": "2022-09-02T08:19:33.153Z"
   },
   {
    "duration": 8,
    "start_time": "2022-09-02T08:21:33.007Z"
   },
   {
    "duration": 9,
    "start_time": "2022-09-02T08:21:41.783Z"
   },
   {
    "duration": 9,
    "start_time": "2022-09-02T08:22:21.361Z"
   },
   {
    "duration": 49,
    "start_time": "2022-09-02T08:22:39.269Z"
   },
   {
    "duration": 15,
    "start_time": "2022-09-02T08:23:00.227Z"
   },
   {
    "duration": 9,
    "start_time": "2022-09-02T08:23:16.269Z"
   },
   {
    "duration": 13,
    "start_time": "2022-09-02T08:23:27.465Z"
   },
   {
    "duration": 15,
    "start_time": "2022-09-02T08:23:37.772Z"
   },
   {
    "duration": 16,
    "start_time": "2022-09-02T08:23:43.874Z"
   },
   {
    "duration": 15,
    "start_time": "2022-09-02T08:23:44.802Z"
   },
   {
    "duration": 18,
    "start_time": "2022-09-02T08:23:47.728Z"
   },
   {
    "duration": 18,
    "start_time": "2022-09-02T08:24:00.449Z"
   },
   {
    "duration": 398,
    "start_time": "2022-09-02T08:24:03.424Z"
   },
   {
    "duration": 4,
    "start_time": "2022-09-02T08:29:16.173Z"
   },
   {
    "duration": 15,
    "start_time": "2022-09-02T08:29:18.451Z"
   },
   {
    "duration": 634,
    "start_time": "2022-09-02T08:42:26.007Z"
   },
   {
    "duration": 635,
    "start_time": "2022-09-02T08:42:39.464Z"
   },
   {
    "duration": 9,
    "start_time": "2022-09-02T08:42:49.607Z"
   },
   {
    "duration": 16,
    "start_time": "2022-09-02T08:43:08.469Z"
   },
   {
    "duration": 5,
    "start_time": "2022-09-02T08:43:27.473Z"
   },
   {
    "duration": 72,
    "start_time": "2022-09-02T08:45:13.207Z"
   },
   {
    "duration": 15,
    "start_time": "2022-09-02T08:45:15.345Z"
   },
   {
    "duration": 23,
    "start_time": "2022-09-02T08:45:16.244Z"
   },
   {
    "duration": 16,
    "start_time": "2022-09-02T08:45:18.084Z"
   },
   {
    "duration": 17,
    "start_time": "2022-09-02T08:45:18.913Z"
   },
   {
    "duration": 16,
    "start_time": "2022-09-02T08:45:27.223Z"
   },
   {
    "duration": 20,
    "start_time": "2022-09-02T08:45:27.856Z"
   },
   {
    "duration": 6,
    "start_time": "2022-09-02T08:45:28.529Z"
   },
   {
    "duration": 26,
    "start_time": "2022-09-02T08:45:29.947Z"
   },
   {
    "duration": 5,
    "start_time": "2022-09-02T08:45:30.705Z"
   },
   {
    "duration": 14,
    "start_time": "2022-09-02T08:45:31.562Z"
   },
   {
    "duration": 339,
    "start_time": "2022-09-02T08:45:34.965Z"
   },
   {
    "duration": 306,
    "start_time": "2022-09-02T08:45:38.208Z"
   },
   {
    "duration": 13,
    "start_time": "2022-09-02T08:45:39.861Z"
   },
   {
    "duration": 18,
    "start_time": "2022-09-02T08:45:48.310Z"
   },
   {
    "duration": 271,
    "start_time": "2022-09-02T08:45:49.172Z"
   },
   {
    "duration": 12,
    "start_time": "2022-09-02T08:46:18.442Z"
   },
   {
    "duration": 153,
    "start_time": "2022-09-02T08:46:19.958Z"
   },
   {
    "duration": 9,
    "start_time": "2022-09-02T08:46:21.430Z"
   },
   {
    "duration": 245,
    "start_time": "2022-09-02T08:46:23.707Z"
   },
   {
    "duration": 9,
    "start_time": "2022-09-02T08:46:32.418Z"
   },
   {
    "duration": 236,
    "start_time": "2022-09-02T09:00:04.025Z"
   },
   {
    "duration": 8,
    "start_time": "2022-09-02T09:00:07.764Z"
   },
   {
    "duration": 254,
    "start_time": "2022-09-02T09:00:13.242Z"
   },
   {
    "duration": 193,
    "start_time": "2022-09-02T09:00:24.346Z"
   },
   {
    "duration": 16,
    "start_time": "2022-09-02T09:00:30.953Z"
   },
   {
    "duration": 17,
    "start_time": "2022-09-02T09:00:34.190Z"
   },
   {
    "duration": 17,
    "start_time": "2022-09-02T09:01:10.325Z"
   },
   {
    "duration": 20,
    "start_time": "2022-09-02T09:01:16.429Z"
   },
   {
    "duration": 20,
    "start_time": "2022-09-02T09:01:19.261Z"
   },
   {
    "duration": 16,
    "start_time": "2022-09-02T09:01:27.033Z"
   },
   {
    "duration": 17,
    "start_time": "2022-09-02T09:01:30.055Z"
   },
   {
    "duration": 18,
    "start_time": "2022-09-02T09:01:33.061Z"
   },
   {
    "duration": 9,
    "start_time": "2022-09-02T09:06:22.360Z"
   },
   {
    "duration": 4,
    "start_time": "2022-09-02T09:06:23.137Z"
   },
   {
    "duration": 219,
    "start_time": "2022-09-02T09:06:25.570Z"
   },
   {
    "duration": 7,
    "start_time": "2022-09-02T09:06:26.717Z"
   },
   {
    "duration": 4,
    "start_time": "2022-09-02T09:06:27.833Z"
   },
   {
    "duration": 416,
    "start_time": "2022-09-02T09:06:28.788Z"
   },
   {
    "duration": 6,
    "start_time": "2022-09-02T09:06:55.620Z"
   },
   {
    "duration": 9,
    "start_time": "2022-09-02T09:06:59.725Z"
   },
   {
    "duration": 4,
    "start_time": "2022-09-02T09:07:01.993Z"
   },
   {
    "duration": 5,
    "start_time": "2022-09-02T09:07:03.581Z"
   },
   {
    "duration": 3,
    "start_time": "2022-09-02T09:07:06.721Z"
   },
   {
    "duration": 6,
    "start_time": "2022-09-02T09:07:07.461Z"
   },
   {
    "duration": 5,
    "start_time": "2022-09-02T09:07:12.123Z"
   },
   {
    "duration": 4,
    "start_time": "2022-09-02T09:07:16.091Z"
   },
   {
    "duration": 5,
    "start_time": "2022-09-02T09:07:26.970Z"
   },
   {
    "duration": 3,
    "start_time": "2022-09-02T09:07:28.431Z"
   },
   {
    "duration": 5,
    "start_time": "2022-09-02T09:07:29.321Z"
   },
   {
    "duration": 702,
    "start_time": "2022-09-02T09:08:20.368Z"
   },
   {
    "duration": 5,
    "start_time": "2022-09-02T09:08:35.036Z"
   },
   {
    "duration": 7,
    "start_time": "2022-09-02T09:08:35.673Z"
   },
   {
    "duration": 8,
    "start_time": "2022-09-02T09:08:44.198Z"
   },
   {
    "duration": 3,
    "start_time": "2022-09-02T09:08:44.772Z"
   },
   {
    "duration": 5,
    "start_time": "2022-09-02T09:08:45.672Z"
   },
   {
    "duration": 4,
    "start_time": "2022-09-02T09:08:46.323Z"
   },
   {
    "duration": 6,
    "start_time": "2022-09-02T09:08:47.034Z"
   },
   {
    "duration": 5,
    "start_time": "2022-09-02T09:08:47.748Z"
   },
   {
    "duration": 4,
    "start_time": "2022-09-02T09:08:56.530Z"
   },
   {
    "duration": 3,
    "start_time": "2022-09-02T09:08:57.227Z"
   },
   {
    "duration": 5,
    "start_time": "2022-09-02T09:09:02.033Z"
   },
   {
    "duration": 4,
    "start_time": "2022-09-02T09:09:37.582Z"
   },
   {
    "duration": 4,
    "start_time": "2022-09-02T09:09:38.409Z"
   },
   {
    "duration": 4,
    "start_time": "2022-09-02T09:09:39.185Z"
   },
   {
    "duration": 4,
    "start_time": "2022-09-02T09:09:41.677Z"
   },
   {
    "duration": 7,
    "start_time": "2022-09-02T09:09:42.452Z"
   },
   {
    "duration": 11,
    "start_time": "2022-09-02T09:09:44.635Z"
   },
   {
    "duration": 3,
    "start_time": "2022-09-02T09:09:45.184Z"
   },
   {
    "duration": 6,
    "start_time": "2022-09-02T09:09:45.729Z"
   },
   {
    "duration": 4,
    "start_time": "2022-09-02T09:09:47.745Z"
   },
   {
    "duration": 6,
    "start_time": "2022-09-02T09:09:48.311Z"
   },
   {
    "duration": 6,
    "start_time": "2022-09-02T09:09:52.398Z"
   },
   {
    "duration": 6,
    "start_time": "2022-09-02T09:09:53.680Z"
   },
   {
    "duration": 3,
    "start_time": "2022-09-02T09:09:57.869Z"
   },
   {
    "duration": 4,
    "start_time": "2022-09-02T09:09:58.755Z"
   },
   {
    "duration": 12,
    "start_time": "2022-09-02T09:20:40.801Z"
   },
   {
    "duration": 240,
    "start_time": "2022-09-02T09:25:49.615Z"
   },
   {
    "duration": 12,
    "start_time": "2022-09-02T09:27:11.914Z"
   },
   {
    "duration": 247,
    "start_time": "2022-09-02T09:27:30.335Z"
   },
   {
    "duration": 9,
    "start_time": "2022-09-02T09:27:34.050Z"
   },
   {
    "duration": 230,
    "start_time": "2022-09-02T09:28:36.471Z"
   },
   {
    "duration": 12,
    "start_time": "2022-09-02T09:28:47.113Z"
   },
   {
    "duration": 362,
    "start_time": "2022-09-02T09:29:20.778Z"
   },
   {
    "duration": 213,
    "start_time": "2022-09-02T09:30:04.106Z"
   },
   {
    "duration": 19,
    "start_time": "2022-09-02T09:30:33.844Z"
   },
   {
    "duration": 19,
    "start_time": "2022-09-02T09:30:51.262Z"
   },
   {
    "duration": 25,
    "start_time": "2022-09-02T09:30:58.865Z"
   },
   {
    "duration": 20,
    "start_time": "2022-09-02T09:31:55.151Z"
   },
   {
    "duration": 19,
    "start_time": "2022-09-02T09:32:40.863Z"
   },
   {
    "duration": 22,
    "start_time": "2022-09-02T09:32:46.640Z"
   },
   {
    "duration": 25,
    "start_time": "2022-09-02T09:33:14.720Z"
   },
   {
    "duration": 20,
    "start_time": "2022-09-02T09:33:24.690Z"
   },
   {
    "duration": 21,
    "start_time": "2022-09-02T09:33:30.987Z"
   },
   {
    "duration": 12,
    "start_time": "2022-09-02T09:35:01.991Z"
   },
   {
    "duration": 4,
    "start_time": "2022-09-02T09:35:04.441Z"
   },
   {
    "duration": 225,
    "start_time": "2022-09-02T09:35:06.371Z"
   },
   {
    "duration": 4,
    "start_time": "2022-09-02T09:35:24.091Z"
   },
   {
    "duration": 213,
    "start_time": "2022-09-02T09:35:39.351Z"
   },
   {
    "duration": 240,
    "start_time": "2022-09-02T09:35:58.639Z"
   },
   {
    "duration": 222,
    "start_time": "2022-09-02T09:36:04.815Z"
   },
   {
    "duration": 8,
    "start_time": "2022-09-02T09:36:34.205Z"
   },
   {
    "duration": 4,
    "start_time": "2022-09-02T09:36:36.725Z"
   },
   {
    "duration": 211,
    "start_time": "2022-09-02T09:36:39.046Z"
   },
   {
    "duration": 9,
    "start_time": "2022-09-02T09:36:58.901Z"
   },
   {
    "duration": 4,
    "start_time": "2022-09-02T09:37:02.241Z"
   },
   {
    "duration": 275,
    "start_time": "2022-09-02T09:37:04.076Z"
   },
   {
    "duration": 6,
    "start_time": "2022-09-02T09:37:15.748Z"
   },
   {
    "duration": 7,
    "start_time": "2022-09-02T09:37:17.397Z"
   },
   {
    "duration": 8,
    "start_time": "2022-09-02T09:37:45.967Z"
   },
   {
    "duration": 3,
    "start_time": "2022-09-02T09:37:50.359Z"
   },
   {
    "duration": 5,
    "start_time": "2022-09-02T09:37:53.399Z"
   },
   {
    "duration": 3,
    "start_time": "2022-09-02T09:37:56.356Z"
   },
   {
    "duration": 6,
    "start_time": "2022-09-02T09:37:59.422Z"
   },
   {
    "duration": 5,
    "start_time": "2022-09-02T09:38:03.113Z"
   },
   {
    "duration": 5,
    "start_time": "2022-09-02T09:38:06.499Z"
   },
   {
    "duration": 3,
    "start_time": "2022-09-02T09:38:09.538Z"
   },
   {
    "duration": 4,
    "start_time": "2022-09-02T09:38:11.432Z"
   },
   {
    "duration": 671,
    "start_time": "2022-09-02T09:38:22.340Z"
   },
   {
    "duration": 5,
    "start_time": "2022-09-02T09:38:35.219Z"
   },
   {
    "duration": 7,
    "start_time": "2022-09-02T09:38:37.021Z"
   },
   {
    "duration": 9,
    "start_time": "2022-09-02T09:38:44.057Z"
   },
   {
    "duration": 3,
    "start_time": "2022-09-02T09:38:48.303Z"
   },
   {
    "duration": 6,
    "start_time": "2022-09-02T09:38:49.623Z"
   },
   {
    "duration": 4,
    "start_time": "2022-09-02T09:38:51.689Z"
   },
   {
    "duration": 6,
    "start_time": "2022-09-02T09:38:59.148Z"
   },
   {
    "duration": 6,
    "start_time": "2022-09-02T09:39:01.946Z"
   },
   {
    "duration": 5,
    "start_time": "2022-09-02T09:39:04.498Z"
   },
   {
    "duration": 4,
    "start_time": "2022-09-02T09:39:07.002Z"
   },
   {
    "duration": 4,
    "start_time": "2022-09-02T09:39:09.120Z"
   },
   {
    "duration": 210,
    "start_time": "2022-09-02T09:51:48.544Z"
   },
   {
    "duration": 105,
    "start_time": "2022-09-02T10:12:12.206Z"
   },
   {
    "duration": 13,
    "start_time": "2022-09-02T10:12:14.234Z"
   },
   {
    "duration": 15,
    "start_time": "2022-09-02T10:12:15.029Z"
   },
   {
    "duration": 15,
    "start_time": "2022-09-02T10:12:17.206Z"
   },
   {
    "duration": 14,
    "start_time": "2022-09-02T10:12:18.098Z"
   },
   {
    "duration": 18,
    "start_time": "2022-09-02T10:12:18.800Z"
   },
   {
    "duration": 16,
    "start_time": "2022-09-02T10:12:19.647Z"
   },
   {
    "duration": 5,
    "start_time": "2022-09-02T10:12:20.561Z"
   },
   {
    "duration": 19,
    "start_time": "2022-09-02T10:12:21.279Z"
   },
   {
    "duration": 6,
    "start_time": "2022-09-02T10:12:21.677Z"
   },
   {
    "duration": 14,
    "start_time": "2022-09-02T10:12:22.790Z"
   },
   {
    "duration": 485,
    "start_time": "2022-09-02T10:12:25.737Z"
   },
   {
    "duration": 287,
    "start_time": "2022-09-02T10:12:30.311Z"
   },
   {
    "duration": 15,
    "start_time": "2022-09-02T10:12:32.017Z"
   },
   {
    "duration": 22,
    "start_time": "2022-09-02T10:12:33.492Z"
   },
   {
    "duration": 254,
    "start_time": "2022-09-02T10:13:42.278Z"
   },
   {
    "duration": 9,
    "start_time": "2022-09-02T10:13:44.738Z"
   },
   {
    "duration": 10,
    "start_time": "2022-09-02T10:13:51.352Z"
   },
   {
    "duration": 141,
    "start_time": "2022-09-02T10:13:52.732Z"
   },
   {
    "duration": 11,
    "start_time": "2022-09-02T10:13:55.897Z"
   },
   {
    "duration": 223,
    "start_time": "2022-09-02T10:13:56.635Z"
   },
   {
    "duration": 12,
    "start_time": "2022-09-02T10:13:59.934Z"
   },
   {
    "duration": 236,
    "start_time": "2022-09-02T10:14:00.562Z"
   },
   {
    "duration": 14,
    "start_time": "2022-09-02T10:14:01.132Z"
   },
   {
    "duration": 258,
    "start_time": "2022-09-02T10:14:02.314Z"
   },
   {
    "duration": 215,
    "start_time": "2022-09-02T10:14:04.162Z"
   },
   {
    "duration": 18,
    "start_time": "2022-09-02T10:14:09.989Z"
   },
   {
    "duration": 20,
    "start_time": "2022-09-02T10:14:10.760Z"
   },
   {
    "duration": 18,
    "start_time": "2022-09-02T10:14:11.518Z"
   },
   {
    "duration": 20,
    "start_time": "2022-09-02T10:14:12.781Z"
   },
   {
    "duration": 27,
    "start_time": "2022-09-02T10:14:13.251Z"
   },
   {
    "duration": 24,
    "start_time": "2022-09-02T10:14:13.440Z"
   },
   {
    "duration": 20,
    "start_time": "2022-09-02T10:14:13.916Z"
   },
   {
    "duration": 20,
    "start_time": "2022-09-02T10:14:14.451Z"
   },
   {
    "duration": 19,
    "start_time": "2022-09-02T10:14:15.134Z"
   },
   {
    "duration": 8,
    "start_time": "2022-09-02T10:14:21.569Z"
   },
   {
    "duration": 4,
    "start_time": "2022-09-02T10:14:22.163Z"
   },
   {
    "duration": 203,
    "start_time": "2022-09-02T10:14:22.719Z"
   },
   {
    "duration": 7,
    "start_time": "2022-09-02T10:14:23.214Z"
   },
   {
    "duration": 4,
    "start_time": "2022-09-02T11:46:07.090Z"
   },
   {
    "duration": 3,
    "start_time": "2022-09-02T11:46:13.331Z"
   },
   {
    "duration": 5,
    "start_time": "2022-09-02T11:46:15.126Z"
   },
   {
    "duration": 4,
    "start_time": "2022-09-02T11:47:35.380Z"
   },
   {
    "duration": 262,
    "start_time": "2022-09-02T11:48:03.086Z"
   },
   {
    "duration": 81,
    "start_time": "2022-09-02T12:27:31.873Z"
   },
   {
    "duration": 13,
    "start_time": "2022-09-02T12:27:34.813Z"
   },
   {
    "duration": 16,
    "start_time": "2022-09-02T12:27:35.853Z"
   },
   {
    "duration": 15,
    "start_time": "2022-09-02T12:28:48.044Z"
   },
   {
    "duration": 16,
    "start_time": "2022-09-02T12:28:49.041Z"
   },
   {
    "duration": 69,
    "start_time": "2022-09-02T12:29:40.516Z"
   },
   {
    "duration": 13,
    "start_time": "2022-09-02T12:50:34.199Z"
   },
   {
    "duration": 14,
    "start_time": "2022-09-02T12:50:35.089Z"
   },
   {
    "duration": 19,
    "start_time": "2022-09-02T12:51:48.450Z"
   },
   {
    "duration": 14,
    "start_time": "2022-09-02T12:52:00.281Z"
   },
   {
    "duration": 16,
    "start_time": "2022-09-02T12:52:04.141Z"
   },
   {
    "duration": 16,
    "start_time": "2022-09-02T12:52:12.776Z"
   },
   {
    "duration": 5,
    "start_time": "2022-09-02T12:52:13.456Z"
   },
   {
    "duration": 17,
    "start_time": "2022-09-02T12:52:37.296Z"
   },
   {
    "duration": 5,
    "start_time": "2022-09-02T12:52:44.379Z"
   },
   {
    "duration": 13,
    "start_time": "2022-09-02T12:52:47.194Z"
   },
   {
    "duration": 311,
    "start_time": "2022-09-02T12:52:52.011Z"
   },
   {
    "duration": 261,
    "start_time": "2022-09-02T12:53:09.497Z"
   },
   {
    "duration": 13,
    "start_time": "2022-09-02T12:53:16.565Z"
   },
   {
    "duration": 19,
    "start_time": "2022-09-02T12:53:22.046Z"
   },
   {
    "duration": 305,
    "start_time": "2022-09-02T12:53:22.914Z"
   },
   {
    "duration": 10,
    "start_time": "2022-09-02T12:54:04.050Z"
   },
   {
    "duration": 136,
    "start_time": "2022-09-02T12:54:06.160Z"
   },
   {
    "duration": 11,
    "start_time": "2022-09-02T12:54:27.354Z"
   },
   {
    "duration": 368,
    "start_time": "2022-09-02T12:54:29.699Z"
   },
   {
    "duration": 12,
    "start_time": "2022-09-02T12:55:17.018Z"
   },
   {
    "duration": 242,
    "start_time": "2022-09-02T12:57:39.418Z"
   },
   {
    "duration": 12,
    "start_time": "2022-09-02T12:57:41.187Z"
   },
   {
    "duration": 231,
    "start_time": "2022-09-02T12:57:56.950Z"
   },
   {
    "duration": 12,
    "start_time": "2022-09-02T12:58:00.721Z"
   },
   {
    "duration": 234,
    "start_time": "2022-09-02T12:58:06.348Z"
   },
   {
    "duration": 198,
    "start_time": "2022-09-02T12:58:12.089Z"
   },
   {
    "duration": 19,
    "start_time": "2022-09-02T12:58:33.566Z"
   },
   {
    "duration": 21,
    "start_time": "2022-09-02T12:58:36.109Z"
   },
   {
    "duration": 18,
    "start_time": "2022-09-02T12:58:36.761Z"
   },
   {
    "duration": 19,
    "start_time": "2022-09-02T12:58:41.391Z"
   },
   {
    "duration": 19,
    "start_time": "2022-09-02T12:58:43.726Z"
   },
   {
    "duration": 20,
    "start_time": "2022-09-02T12:58:46.017Z"
   },
   {
    "duration": 26,
    "start_time": "2022-09-02T12:58:50.704Z"
   },
   {
    "duration": 21,
    "start_time": "2022-09-02T12:58:53.802Z"
   },
   {
    "duration": 19,
    "start_time": "2022-09-02T12:58:56.770Z"
   },
   {
    "duration": 10,
    "start_time": "2022-09-02T12:59:30.633Z"
   },
   {
    "duration": 3,
    "start_time": "2022-09-02T12:59:31.344Z"
   },
   {
    "duration": 9,
    "start_time": "2022-09-02T13:00:48.597Z"
   },
   {
    "duration": 4,
    "start_time": "2022-09-02T13:05:37.138Z"
   },
   {
    "duration": 210,
    "start_time": "2022-09-02T13:05:40.354Z"
   },
   {
    "duration": 7,
    "start_time": "2022-09-02T13:05:43.822Z"
   },
   {
    "duration": 5,
    "start_time": "2022-09-02T13:05:45.550Z"
   },
   {
    "duration": 6,
    "start_time": "2022-09-02T13:05:46.387Z"
   },
   {
    "duration": 9,
    "start_time": "2022-09-02T13:05:50.430Z"
   },
   {
    "duration": 3,
    "start_time": "2022-09-02T13:05:50.977Z"
   },
   {
    "duration": 6,
    "start_time": "2022-09-02T13:05:51.742Z"
   },
   {
    "duration": 4,
    "start_time": "2022-09-02T13:05:53.909Z"
   },
   {
    "duration": 7,
    "start_time": "2022-09-02T13:05:57.546Z"
   },
   {
    "duration": 7,
    "start_time": "2022-09-02T13:05:58.493Z"
   },
   {
    "duration": 6,
    "start_time": "2022-09-02T13:05:59.595Z"
   },
   {
    "duration": 3,
    "start_time": "2022-09-02T13:06:02.092Z"
   },
   {
    "duration": 4,
    "start_time": "2022-09-02T13:06:27.346Z"
   },
   {
    "duration": 6,
    "start_time": "2022-09-02T13:06:32.139Z"
   },
   {
    "duration": 8,
    "start_time": "2022-09-02T13:06:35.785Z"
   },
   {
    "duration": 3,
    "start_time": "2022-09-02T13:06:42.867Z"
   },
   {
    "duration": 7,
    "start_time": "2022-09-02T13:06:46.327Z"
   },
   {
    "duration": 4,
    "start_time": "2022-09-02T13:06:51.983Z"
   },
   {
    "duration": 5,
    "start_time": "2022-09-02T13:06:56.994Z"
   },
   {
    "duration": 6,
    "start_time": "2022-09-02T13:07:04.384Z"
   },
   {
    "duration": 5,
    "start_time": "2022-09-02T13:07:11.384Z"
   },
   {
    "duration": 4,
    "start_time": "2022-09-02T13:07:18.327Z"
   },
   {
    "duration": 8,
    "start_time": "2022-09-02T13:07:18.962Z"
   },
   {
    "duration": 1537,
    "start_time": "2022-09-03T18:02:08.916Z"
   },
   {
    "duration": 16,
    "start_time": "2022-09-03T18:02:10.456Z"
   },
   {
    "duration": 24,
    "start_time": "2022-09-03T18:02:10.474Z"
   },
   {
    "duration": 28,
    "start_time": "2022-09-03T18:02:10.500Z"
   },
   {
    "duration": 15,
    "start_time": "2022-09-03T18:02:10.531Z"
   },
   {
    "duration": 16,
    "start_time": "2022-09-03T18:02:10.547Z"
   },
   {
    "duration": 39,
    "start_time": "2022-09-03T18:02:10.565Z"
   },
   {
    "duration": 4,
    "start_time": "2022-09-03T18:02:10.606Z"
   },
   {
    "duration": 20,
    "start_time": "2022-09-03T18:02:10.612Z"
   },
   {
    "duration": 4,
    "start_time": "2022-09-03T18:02:10.634Z"
   },
   {
    "duration": 19,
    "start_time": "2022-09-03T18:02:10.639Z"
   },
   {
    "duration": 411,
    "start_time": "2022-09-03T18:02:10.660Z"
   },
   {
    "duration": 333,
    "start_time": "2022-09-03T18:02:11.073Z"
   },
   {
    "duration": 13,
    "start_time": "2022-09-03T18:02:11.409Z"
   },
   {
    "duration": 23,
    "start_time": "2022-09-03T18:02:11.424Z"
   },
   {
    "duration": 328,
    "start_time": "2022-09-03T18:02:11.448Z"
   },
   {
    "duration": 21,
    "start_time": "2022-09-03T18:02:11.778Z"
   },
   {
    "duration": 161,
    "start_time": "2022-09-03T18:02:11.801Z"
   },
   {
    "duration": 23,
    "start_time": "2022-09-03T18:02:11.964Z"
   },
   {
    "duration": 268,
    "start_time": "2022-09-03T18:02:11.988Z"
   },
   {
    "duration": 12,
    "start_time": "2022-09-03T18:02:12.258Z"
   },
   {
    "duration": 288,
    "start_time": "2022-09-03T18:02:12.271Z"
   },
   {
    "duration": 14,
    "start_time": "2022-09-03T18:02:12.561Z"
   },
   {
    "duration": 387,
    "start_time": "2022-09-03T18:02:12.585Z"
   },
   {
    "duration": 240,
    "start_time": "2022-09-03T18:02:12.974Z"
   },
   {
    "duration": 22,
    "start_time": "2022-09-03T18:02:13.216Z"
   },
   {
    "duration": 20,
    "start_time": "2022-09-03T18:02:13.239Z"
   },
   {
    "duration": 42,
    "start_time": "2022-09-03T18:02:13.261Z"
   },
   {
    "duration": 21,
    "start_time": "2022-09-03T18:02:13.305Z"
   },
   {
    "duration": 21,
    "start_time": "2022-09-03T18:02:13.328Z"
   },
   {
    "duration": 48,
    "start_time": "2022-09-03T18:02:13.351Z"
   },
   {
    "duration": 24,
    "start_time": "2022-09-03T18:02:13.403Z"
   },
   {
    "duration": 20,
    "start_time": "2022-09-03T18:02:13.429Z"
   },
   {
    "duration": 50,
    "start_time": "2022-09-03T18:02:13.451Z"
   },
   {
    "duration": 10,
    "start_time": "2022-09-03T18:02:13.503Z"
   },
   {
    "duration": 114,
    "start_time": "2022-09-03T18:02:13.514Z"
   },
   {
    "duration": 0,
    "start_time": "2022-09-03T18:02:13.630Z"
   },
   {
    "duration": 0,
    "start_time": "2022-09-03T18:02:13.632Z"
   },
   {
    "duration": 0,
    "start_time": "2022-09-03T18:02:13.635Z"
   },
   {
    "duration": 0,
    "start_time": "2022-09-03T18:02:13.636Z"
   },
   {
    "duration": 0,
    "start_time": "2022-09-03T18:02:13.637Z"
   },
   {
    "duration": 0,
    "start_time": "2022-09-03T18:02:13.639Z"
   },
   {
    "duration": 0,
    "start_time": "2022-09-03T18:02:13.641Z"
   },
   {
    "duration": 0,
    "start_time": "2022-09-03T18:02:13.642Z"
   },
   {
    "duration": 0,
    "start_time": "2022-09-03T18:02:13.643Z"
   },
   {
    "duration": 0,
    "start_time": "2022-09-03T18:02:13.645Z"
   },
   {
    "duration": 0,
    "start_time": "2022-09-03T18:02:13.646Z"
   },
   {
    "duration": 0,
    "start_time": "2022-09-03T18:02:13.647Z"
   },
   {
    "duration": 0,
    "start_time": "2022-09-03T18:02:13.649Z"
   },
   {
    "duration": 0,
    "start_time": "2022-09-03T18:02:13.650Z"
   },
   {
    "duration": 0,
    "start_time": "2022-09-03T18:02:13.652Z"
   },
   {
    "duration": 0,
    "start_time": "2022-09-03T18:02:13.685Z"
   },
   {
    "duration": 0,
    "start_time": "2022-09-03T18:02:13.686Z"
   },
   {
    "duration": 0,
    "start_time": "2022-09-03T18:02:13.687Z"
   },
   {
    "duration": 0,
    "start_time": "2022-09-03T18:02:13.688Z"
   },
   {
    "duration": 0,
    "start_time": "2022-09-03T18:02:13.689Z"
   },
   {
    "duration": 0,
    "start_time": "2022-09-03T18:02:13.690Z"
   },
   {
    "duration": 0,
    "start_time": "2022-09-03T18:02:13.691Z"
   },
   {
    "duration": 0,
    "start_time": "2022-09-03T18:02:13.692Z"
   },
   {
    "duration": 0,
    "start_time": "2022-09-03T18:02:13.693Z"
   },
   {
    "duration": 1257,
    "start_time": "2022-09-03T20:48:07.037Z"
   },
   {
    "duration": 20,
    "start_time": "2022-09-03T20:48:08.299Z"
   },
   {
    "duration": 23,
    "start_time": "2022-09-03T20:48:08.321Z"
   },
   {
    "duration": 16,
    "start_time": "2022-09-03T20:48:08.346Z"
   },
   {
    "duration": 40,
    "start_time": "2022-09-03T20:48:08.364Z"
   },
   {
    "duration": 17,
    "start_time": "2022-09-03T20:48:08.405Z"
   },
   {
    "duration": 19,
    "start_time": "2022-09-03T20:48:08.423Z"
   },
   {
    "duration": 5,
    "start_time": "2022-09-03T20:48:08.444Z"
   },
   {
    "duration": 49,
    "start_time": "2022-09-03T20:48:08.450Z"
   },
   {
    "duration": 5,
    "start_time": "2022-09-03T20:48:08.504Z"
   },
   {
    "duration": 18,
    "start_time": "2022-09-03T20:48:08.510Z"
   },
   {
    "duration": 390,
    "start_time": "2022-09-03T20:48:08.529Z"
   },
   {
    "duration": 333,
    "start_time": "2022-09-03T20:48:08.921Z"
   },
   {
    "duration": 13,
    "start_time": "2022-09-03T20:48:09.256Z"
   },
   {
    "duration": 39,
    "start_time": "2022-09-03T20:48:09.271Z"
   },
   {
    "duration": 324,
    "start_time": "2022-09-03T20:48:09.312Z"
   },
   {
    "duration": 11,
    "start_time": "2022-09-03T20:48:09.637Z"
   },
   {
    "duration": 174,
    "start_time": "2022-09-03T20:48:09.649Z"
   },
   {
    "duration": 13,
    "start_time": "2022-09-03T20:48:09.825Z"
   },
   {
    "duration": 283,
    "start_time": "2022-09-03T20:48:09.839Z"
   },
   {
    "duration": 15,
    "start_time": "2022-09-03T20:48:10.124Z"
   },
   {
    "duration": 301,
    "start_time": "2022-09-03T20:48:10.141Z"
   },
   {
    "duration": 15,
    "start_time": "2022-09-03T20:48:10.444Z"
   },
   {
    "duration": 385,
    "start_time": "2022-09-03T20:48:10.460Z"
   },
   {
    "duration": 248,
    "start_time": "2022-09-03T20:48:10.847Z"
   },
   {
    "duration": 24,
    "start_time": "2022-09-03T20:48:11.100Z"
   },
   {
    "duration": 28,
    "start_time": "2022-09-03T20:48:11.126Z"
   },
   {
    "duration": 47,
    "start_time": "2022-09-03T20:48:11.159Z"
   },
   {
    "duration": 24,
    "start_time": "2022-09-03T20:48:11.209Z"
   },
   {
    "duration": 22,
    "start_time": "2022-09-03T20:48:11.234Z"
   },
   {
    "duration": 44,
    "start_time": "2022-09-03T20:48:11.258Z"
   },
   {
    "duration": 32,
    "start_time": "2022-09-03T20:48:11.304Z"
   },
   {
    "duration": 22,
    "start_time": "2022-09-03T20:48:11.338Z"
   },
   {
    "duration": 44,
    "start_time": "2022-09-03T20:48:11.361Z"
   },
   {
    "duration": 9,
    "start_time": "2022-09-03T20:48:11.407Z"
   },
   {
    "duration": 149,
    "start_time": "2022-09-03T20:48:11.418Z"
   },
   {
    "duration": 0,
    "start_time": "2022-09-03T20:48:11.569Z"
   },
   {
    "duration": 0,
    "start_time": "2022-09-03T20:48:11.571Z"
   },
   {
    "duration": 0,
    "start_time": "2022-09-03T20:48:11.572Z"
   },
   {
    "duration": 0,
    "start_time": "2022-09-03T20:48:11.574Z"
   },
   {
    "duration": 0,
    "start_time": "2022-09-03T20:48:11.587Z"
   },
   {
    "duration": 0,
    "start_time": "2022-09-03T20:48:11.588Z"
   },
   {
    "duration": 0,
    "start_time": "2022-09-03T20:48:11.589Z"
   },
   {
    "duration": 0,
    "start_time": "2022-09-03T20:48:11.590Z"
   },
   {
    "duration": 0,
    "start_time": "2022-09-03T20:48:11.590Z"
   },
   {
    "duration": 0,
    "start_time": "2022-09-03T20:48:11.591Z"
   },
   {
    "duration": 0,
    "start_time": "2022-09-03T20:48:11.592Z"
   },
   {
    "duration": 0,
    "start_time": "2022-09-03T20:48:11.593Z"
   },
   {
    "duration": 0,
    "start_time": "2022-09-03T20:48:11.594Z"
   },
   {
    "duration": 0,
    "start_time": "2022-09-03T20:48:11.595Z"
   },
   {
    "duration": 0,
    "start_time": "2022-09-03T20:48:11.595Z"
   },
   {
    "duration": 0,
    "start_time": "2022-09-03T20:48:11.596Z"
   },
   {
    "duration": 0,
    "start_time": "2022-09-03T20:48:11.597Z"
   },
   {
    "duration": 0,
    "start_time": "2022-09-03T20:48:11.598Z"
   },
   {
    "duration": 0,
    "start_time": "2022-09-03T20:48:11.599Z"
   },
   {
    "duration": 0,
    "start_time": "2022-09-03T20:48:11.600Z"
   },
   {
    "duration": 0,
    "start_time": "2022-09-03T20:48:11.601Z"
   },
   {
    "duration": 0,
    "start_time": "2022-09-03T20:48:11.602Z"
   },
   {
    "duration": 0,
    "start_time": "2022-09-03T20:48:11.603Z"
   },
   {
    "duration": 0,
    "start_time": "2022-09-03T20:48:11.603Z"
   },
   {
    "duration": 5,
    "start_time": "2022-09-03T21:37:32.205Z"
   },
   {
    "duration": 3,
    "start_time": "2022-09-04T05:46:26.364Z"
   },
   {
    "duration": 114,
    "start_time": "2022-09-04T05:46:28.014Z"
   },
   {
    "duration": 13,
    "start_time": "2022-09-04T05:46:35.521Z"
   },
   {
    "duration": 15,
    "start_time": "2022-09-04T05:46:37.600Z"
   },
   {
    "duration": 18,
    "start_time": "2022-09-04T05:46:42.555Z"
   },
   {
    "duration": 24,
    "start_time": "2022-09-04T05:46:45.439Z"
   },
   {
    "duration": 18,
    "start_time": "2022-09-04T06:06:59.970Z"
   },
   {
    "duration": 17,
    "start_time": "2022-09-04T06:22:51.943Z"
   },
   {
    "duration": 4,
    "start_time": "2022-09-04T06:23:09.745Z"
   },
   {
    "duration": 18,
    "start_time": "2022-09-04T06:23:19.711Z"
   },
   {
    "duration": 4,
    "start_time": "2022-09-04T06:23:24.645Z"
   },
   {
    "duration": 3,
    "start_time": "2022-09-04T06:23:49.101Z"
   },
   {
    "duration": 82,
    "start_time": "2022-09-04T06:23:49.640Z"
   },
   {
    "duration": 13,
    "start_time": "2022-09-04T06:23:52.161Z"
   },
   {
    "duration": 16,
    "start_time": "2022-09-04T06:23:53.030Z"
   },
   {
    "duration": 16,
    "start_time": "2022-09-04T06:23:56.330Z"
   },
   {
    "duration": 15,
    "start_time": "2022-09-04T06:23:57.784Z"
   },
   {
    "duration": 21,
    "start_time": "2022-09-04T06:24:04.722Z"
   },
   {
    "duration": 5,
    "start_time": "2022-09-04T06:24:07.761Z"
   },
   {
    "duration": 15,
    "start_time": "2022-09-04T06:28:37.337Z"
   },
   {
    "duration": 24,
    "start_time": "2022-09-04T07:06:03.382Z"
   },
   {
    "duration": 20,
    "start_time": "2022-09-04T07:08:38.442Z"
   },
   {
    "duration": 17,
    "start_time": "2022-09-04T07:08:49.719Z"
   },
   {
    "duration": 9,
    "start_time": "2022-09-04T07:09:06.792Z"
   },
   {
    "duration": 15,
    "start_time": "2022-09-04T07:09:09.050Z"
   },
   {
    "duration": 17,
    "start_time": "2022-09-04T07:09:18.258Z"
   },
   {
    "duration": 5,
    "start_time": "2022-09-04T07:10:46.836Z"
   },
   {
    "duration": 19,
    "start_time": "2022-09-04T07:10:57.769Z"
   },
   {
    "duration": 5,
    "start_time": "2022-09-04T07:11:03.070Z"
   },
   {
    "duration": 8,
    "start_time": "2022-09-04T07:11:25.837Z"
   },
   {
    "duration": 4,
    "start_time": "2022-09-04T07:11:28.687Z"
   },
   {
    "duration": 5,
    "start_time": "2022-09-04T07:11:30.091Z"
   },
   {
    "duration": 7,
    "start_time": "2022-09-04T07:11:45.244Z"
   },
   {
    "duration": 19,
    "start_time": "2022-09-04T07:11:51.034Z"
   },
   {
    "duration": 3,
    "start_time": "2022-09-04T07:12:03.021Z"
   },
   {
    "duration": 82,
    "start_time": "2022-09-04T07:12:03.495Z"
   },
   {
    "duration": 19,
    "start_time": "2022-09-04T07:12:06.085Z"
   },
   {
    "duration": 16,
    "start_time": "2022-09-04T07:12:14.773Z"
   },
   {
    "duration": 15,
    "start_time": "2022-09-04T07:12:18.374Z"
   },
   {
    "duration": 14,
    "start_time": "2022-09-04T07:12:19.966Z"
   },
   {
    "duration": 22,
    "start_time": "2022-09-04T07:12:22.492Z"
   },
   {
    "duration": 4,
    "start_time": "2022-09-04T07:12:29.314Z"
   },
   {
    "duration": 5,
    "start_time": "2022-09-04T07:12:31.477Z"
   },
   {
    "duration": 2,
    "start_time": "2022-09-04T07:12:54.626Z"
   },
   {
    "duration": 82,
    "start_time": "2022-09-04T07:12:55.194Z"
   },
   {
    "duration": 12,
    "start_time": "2022-09-04T07:12:58.368Z"
   },
   {
    "duration": 15,
    "start_time": "2022-09-04T07:13:08.308Z"
   },
   {
    "duration": 15,
    "start_time": "2022-09-04T07:13:15.357Z"
   },
   {
    "duration": 14,
    "start_time": "2022-09-04T07:17:43.953Z"
   },
   {
    "duration": 17,
    "start_time": "2022-09-04T07:17:57.891Z"
   },
   {
    "duration": 4,
    "start_time": "2022-09-04T07:23:29.707Z"
   },
   {
    "duration": 77,
    "start_time": "2022-09-04T07:23:30.347Z"
   },
   {
    "duration": 14,
    "start_time": "2022-09-04T07:23:33.918Z"
   },
   {
    "duration": 15,
    "start_time": "2022-09-04T07:23:35.702Z"
   },
   {
    "duration": 15,
    "start_time": "2022-09-04T07:23:38.714Z"
   },
   {
    "duration": 15,
    "start_time": "2022-09-04T07:23:39.695Z"
   },
   {
    "duration": 17,
    "start_time": "2022-09-04T07:23:41.974Z"
   },
   {
    "duration": 21,
    "start_time": "2022-09-04T07:24:29.004Z"
   },
   {
    "duration": 3,
    "start_time": "2022-09-04T07:25:45.827Z"
   },
   {
    "duration": 101,
    "start_time": "2022-09-04T08:01:40.532Z"
   },
   {
    "duration": 13,
    "start_time": "2022-09-04T08:01:47.862Z"
   },
   {
    "duration": 15,
    "start_time": "2022-09-04T08:01:52.060Z"
   },
   {
    "duration": 22,
    "start_time": "2022-09-04T08:01:56.442Z"
   },
   {
    "duration": 15,
    "start_time": "2022-09-04T08:02:03.388Z"
   },
   {
    "duration": 24,
    "start_time": "2022-09-04T08:02:28.658Z"
   },
   {
    "duration": 17,
    "start_time": "2022-09-04T08:08:28.196Z"
   },
   {
    "duration": 5,
    "start_time": "2022-09-04T08:08:31.525Z"
   },
   {
    "duration": 18,
    "start_time": "2022-09-04T08:08:35.788Z"
   },
   {
    "duration": 13,
    "start_time": "2022-09-04T08:08:44.563Z"
   },
   {
    "duration": 326,
    "start_time": "2022-09-04T08:09:00.203Z"
   },
   {
    "duration": 336,
    "start_time": "2022-09-04T08:09:32.660Z"
   },
   {
    "duration": 353,
    "start_time": "2022-09-04T08:10:34.962Z"
   },
   {
    "duration": 341,
    "start_time": "2022-09-04T08:10:53.328Z"
   },
   {
    "duration": 5,
    "start_time": "2022-09-04T08:29:51.636Z"
   },
   {
    "duration": 14,
    "start_time": "2022-09-04T08:50:35.672Z"
   },
   {
    "duration": 160,
    "start_time": "2022-09-04T08:51:19.558Z"
   },
   {
    "duration": 19,
    "start_time": "2022-09-04T08:51:48.563Z"
   },
   {
    "duration": 291,
    "start_time": "2022-09-04T08:51:58.312Z"
   },
   {
    "duration": 23,
    "start_time": "2022-09-04T08:52:13.957Z"
   },
   {
    "duration": 330,
    "start_time": "2022-09-04T08:52:18.893Z"
   },
   {
    "duration": 12,
    "start_time": "2022-09-04T08:52:29.393Z"
   },
   {
    "duration": 295,
    "start_time": "2022-09-04T08:52:34.224Z"
   },
   {
    "duration": 250,
    "start_time": "2022-09-04T08:52:40.076Z"
   },
   {
    "duration": 34,
    "start_time": "2022-09-04T08:52:52.947Z"
   },
   {
    "duration": 27,
    "start_time": "2022-09-04T08:52:57.678Z"
   },
   {
    "duration": 19,
    "start_time": "2022-09-04T08:53:02.976Z"
   },
   {
    "duration": 25,
    "start_time": "2022-09-04T08:53:44.461Z"
   },
   {
    "duration": 26,
    "start_time": "2022-09-04T08:53:50.622Z"
   },
   {
    "duration": 31,
    "start_time": "2022-09-04T08:53:58.720Z"
   },
   {
    "duration": 20,
    "start_time": "2022-09-04T08:56:06.363Z"
   },
   {
    "duration": 166,
    "start_time": "2022-09-04T08:56:11.805Z"
   },
   {
    "duration": 18,
    "start_time": "2022-09-04T08:56:15.764Z"
   },
   {
    "duration": 4,
    "start_time": "2022-09-04T08:57:18.212Z"
   },
   {
    "duration": 294,
    "start_time": "2022-09-04T08:57:18.927Z"
   },
   {
    "duration": 64,
    "start_time": "2022-09-04T08:57:20.379Z"
   },
   {
    "duration": 74,
    "start_time": "2022-09-04T08:57:24.024Z"
   },
   {
    "duration": 67,
    "start_time": "2022-09-04T08:57:31.404Z"
   },
   {
    "duration": 10,
    "start_time": "2022-09-04T08:57:40.018Z"
   },
   {
    "duration": 5,
    "start_time": "2022-09-04T08:57:45.566Z"
   },
   {
    "duration": 8,
    "start_time": "2022-09-04T08:57:46.533Z"
   },
   {
    "duration": 9,
    "start_time": "2022-09-04T08:57:59.877Z"
   },
   {
    "duration": 5,
    "start_time": "2022-09-04T08:58:01.435Z"
   },
   {
    "duration": 3,
    "start_time": "2022-09-04T08:58:03.076Z"
   },
   {
    "duration": 5,
    "start_time": "2022-09-04T08:58:03.616Z"
   },
   {
    "duration": 3,
    "start_time": "2022-09-04T08:58:04.768Z"
   },
   {
    "duration": 7,
    "start_time": "2022-09-04T08:58:05.664Z"
   },
   {
    "duration": 10,
    "start_time": "2022-09-04T08:58:14.167Z"
   },
   {
    "duration": 5,
    "start_time": "2022-09-04T08:58:17.165Z"
   },
   {
    "duration": 5,
    "start_time": "2022-09-04T08:58:22.197Z"
   },
   {
    "duration": 4,
    "start_time": "2022-09-04T08:58:23.569Z"
   },
   {
    "duration": 5,
    "start_time": "2022-09-04T08:58:24.473Z"
   },
   {
    "duration": 7,
    "start_time": "2022-09-04T08:58:44.563Z"
   },
   {
    "duration": 7,
    "start_time": "2022-09-04T08:58:45.520Z"
   },
   {
    "duration": 11,
    "start_time": "2022-09-04T08:58:52.268Z"
   },
   {
    "duration": 5,
    "start_time": "2022-09-04T08:58:53.576Z"
   },
   {
    "duration": 9,
    "start_time": "2022-09-04T08:58:54.268Z"
   },
   {
    "duration": 3,
    "start_time": "2022-09-04T08:58:56.811Z"
   },
   {
    "duration": 6,
    "start_time": "2022-09-04T08:59:09.621Z"
   },
   {
    "duration": 6,
    "start_time": "2022-09-04T08:59:12.715Z"
   },
   {
    "duration": 5,
    "start_time": "2022-09-04T08:59:13.495Z"
   },
   {
    "duration": 6,
    "start_time": "2022-09-04T08:59:14.269Z"
   },
   {
    "duration": 3,
    "start_time": "2022-09-04T09:01:36.114Z"
   },
   {
    "duration": 10,
    "start_time": "2022-09-04T09:01:37.341Z"
   },
   {
    "duration": 11,
    "start_time": "2022-09-04T09:01:55.770Z"
   },
   {
    "duration": 4,
    "start_time": "2022-09-04T09:02:03.081Z"
   },
   {
    "duration": 9,
    "start_time": "2022-09-04T09:02:23.258Z"
   },
   {
    "duration": 4,
    "start_time": "2022-09-04T09:02:28.024Z"
   },
   {
    "duration": 5,
    "start_time": "2022-09-04T09:02:30.211Z"
   },
   {
    "duration": 3,
    "start_time": "2022-09-04T09:35:01.515Z"
   },
   {
    "duration": 108,
    "start_time": "2022-09-04T09:35:02.231Z"
   },
   {
    "duration": 13,
    "start_time": "2022-09-04T09:35:04.849Z"
   },
   {
    "duration": 15,
    "start_time": "2022-09-04T09:35:13.420Z"
   },
   {
    "duration": 17,
    "start_time": "2022-09-04T09:35:17.599Z"
   },
   {
    "duration": 15,
    "start_time": "2022-09-04T09:35:19.123Z"
   },
   {
    "duration": 18,
    "start_time": "2022-09-04T09:35:26.715Z"
   },
   {
    "duration": 17,
    "start_time": "2022-09-04T09:35:34.972Z"
   },
   {
    "duration": 5,
    "start_time": "2022-09-04T09:35:36.038Z"
   },
   {
    "duration": 19,
    "start_time": "2022-09-04T09:35:42.243Z"
   },
   {
    "duration": 5,
    "start_time": "2022-09-04T09:35:47.656Z"
   },
   {
    "duration": 16,
    "start_time": "2022-09-04T09:35:48.311Z"
   },
   {
    "duration": 353,
    "start_time": "2022-09-04T09:35:53.911Z"
   },
   {
    "duration": 328,
    "start_time": "2022-09-04T09:35:55.307Z"
   },
   {
    "duration": 297,
    "start_time": "2022-09-04T09:36:03.067Z"
   },
   {
    "duration": 15,
    "start_time": "2022-09-04T09:36:05.719Z"
   },
   {
    "duration": 18,
    "start_time": "2022-09-04T09:36:06.438Z"
   },
   {
    "duration": 263,
    "start_time": "2022-09-04T09:36:07.315Z"
   },
   {
    "duration": 17,
    "start_time": "2022-09-04T09:36:59.004Z"
   },
   {
    "duration": 295,
    "start_time": "2022-09-04T09:37:04.238Z"
   },
   {
    "duration": 11,
    "start_time": "2022-09-04T09:41:52.484Z"
   },
   {
    "duration": 266,
    "start_time": "2022-09-04T09:46:33.285Z"
   },
   {
    "duration": 251,
    "start_time": "2022-09-04T09:47:13.900Z"
   },
   {
    "duration": 271,
    "start_time": "2022-09-04T09:47:23.030Z"
   },
   {
    "duration": 259,
    "start_time": "2022-09-04T10:14:34.711Z"
   },
   {
    "duration": 13,
    "start_time": "2022-09-04T10:16:33.021Z"
   },
   {
    "duration": 10,
    "start_time": "2022-09-04T10:17:12.170Z"
   },
   {
    "duration": 1205,
    "start_time": "2022-09-04T10:18:24.773Z"
   },
   {
    "duration": 1197,
    "start_time": "2022-09-04T10:18:44.232Z"
   },
   {
    "duration": 113,
    "start_time": "2022-09-04T10:19:09.509Z"
   },
   {
    "duration": 7,
    "start_time": "2022-09-04T10:32:13.279Z"
   },
   {
    "duration": 24,
    "start_time": "2022-09-04T10:32:27.669Z"
   },
   {
    "duration": 3,
    "start_time": "2022-09-04T10:33:07.001Z"
   },
   {
    "duration": 112,
    "start_time": "2022-09-04T10:33:07.219Z"
   },
   {
    "duration": 16,
    "start_time": "2022-09-04T10:33:08.975Z"
   },
   {
    "duration": 15,
    "start_time": "2022-09-04T10:33:10.169Z"
   },
   {
    "duration": 15,
    "start_time": "2022-09-04T10:33:13.168Z"
   },
   {
    "duration": 15,
    "start_time": "2022-09-04T10:33:13.663Z"
   },
   {
    "duration": 16,
    "start_time": "2022-09-04T10:33:16.368Z"
   },
   {
    "duration": 20,
    "start_time": "2022-09-04T10:33:28.168Z"
   },
   {
    "duration": 5,
    "start_time": "2022-09-04T10:33:36.471Z"
   },
   {
    "duration": 26,
    "start_time": "2022-09-04T10:33:51.668Z"
   },
   {
    "duration": 18,
    "start_time": "2022-09-04T10:34:31.717Z"
   },
   {
    "duration": 6,
    "start_time": "2022-09-04T10:37:12.836Z"
   },
   {
    "duration": 16,
    "start_time": "2022-09-04T10:37:28.521Z"
   },
   {
    "duration": 3,
    "start_time": "2022-09-04T10:38:25.621Z"
   },
   {
    "duration": 84,
    "start_time": "2022-09-04T10:38:26.225Z"
   },
   {
    "duration": 13,
    "start_time": "2022-09-04T10:38:28.622Z"
   },
   {
    "duration": 15,
    "start_time": "2022-09-04T10:38:29.278Z"
   },
   {
    "duration": 16,
    "start_time": "2022-09-04T10:38:31.269Z"
   },
   {
    "duration": 13,
    "start_time": "2022-09-04T10:38:31.782Z"
   },
   {
    "duration": 17,
    "start_time": "2022-09-04T10:38:33.478Z"
   },
   {
    "duration": 24,
    "start_time": "2022-09-04T10:38:37.629Z"
   },
   {
    "duration": 5,
    "start_time": "2022-09-04T10:38:40.173Z"
   },
   {
    "duration": 15,
    "start_time": "2022-09-04T10:38:49.751Z"
   },
   {
    "duration": 12,
    "start_time": "2022-09-04T10:38:59.974Z"
   },
   {
    "duration": 22,
    "start_time": "2022-09-04T10:39:11.129Z"
   },
   {
    "duration": 22,
    "start_time": "2022-09-04T10:46:03.824Z"
   },
   {
    "duration": 4,
    "start_time": "2022-09-04T11:00:54.553Z"
   },
   {
    "duration": 3,
    "start_time": "2022-09-04T11:01:09.478Z"
   },
   {
    "duration": 78,
    "start_time": "2022-09-04T11:01:10.021Z"
   },
   {
    "duration": 13,
    "start_time": "2022-09-04T11:01:35.664Z"
   },
   {
    "duration": 4,
    "start_time": "2022-09-04T11:01:44.881Z"
   },
   {
    "duration": 16,
    "start_time": "2022-09-04T11:01:48.883Z"
   },
   {
    "duration": 7,
    "start_time": "2022-09-04T11:02:28.156Z"
   },
   {
    "duration": 16,
    "start_time": "2022-09-04T11:02:32.171Z"
   },
   {
    "duration": 6,
    "start_time": "2022-09-04T11:02:38.353Z"
   },
   {
    "duration": 5,
    "start_time": "2022-09-04T11:02:48.673Z"
   },
   {
    "duration": 24,
    "start_time": "2022-09-04T11:02:52.729Z"
   },
   {
    "duration": 5,
    "start_time": "2022-09-04T11:02:59.677Z"
   },
   {
    "duration": 7,
    "start_time": "2022-09-04T11:04:03.967Z"
   },
   {
    "duration": 4,
    "start_time": "2022-09-04T11:07:06.669Z"
   },
   {
    "duration": 325,
    "start_time": "2022-09-04T11:10:17.050Z"
   },
   {
    "duration": 276,
    "start_time": "2022-09-04T11:10:23.545Z"
   },
   {
    "duration": 249,
    "start_time": "2022-09-04T11:10:31.965Z"
   },
   {
    "duration": 16,
    "start_time": "2022-09-04T11:14:21.142Z"
   },
   {
    "duration": 16,
    "start_time": "2022-09-04T11:14:31.838Z"
   },
   {
    "duration": 15,
    "start_time": "2022-09-04T11:15:39.145Z"
   },
   {
    "duration": 3,
    "start_time": "2022-09-04T11:16:45.740Z"
   },
   {
    "duration": 86,
    "start_time": "2022-09-04T11:16:46.279Z"
   },
   {
    "duration": 13,
    "start_time": "2022-09-04T11:16:48.232Z"
   },
   {
    "duration": 14,
    "start_time": "2022-09-04T11:16:48.772Z"
   },
   {
    "duration": 3,
    "start_time": "2022-09-04T11:16:50.948Z"
   },
   {
    "duration": 15,
    "start_time": "2022-09-04T11:16:51.544Z"
   },
   {
    "duration": 8,
    "start_time": "2022-09-04T11:16:53.462Z"
   },
   {
    "duration": 17,
    "start_time": "2022-09-04T11:17:13.167Z"
   },
   {
    "duration": 16,
    "start_time": "2022-09-04T11:17:31.311Z"
   },
   {
    "duration": 16,
    "start_time": "2022-09-04T11:17:34.466Z"
   },
   {
    "duration": 4,
    "start_time": "2022-09-04T11:17:46.034Z"
   },
   {
    "duration": 5,
    "start_time": "2022-09-04T11:17:48.668Z"
   },
   {
    "duration": 18,
    "start_time": "2022-09-04T11:17:49.863Z"
   },
   {
    "duration": 5,
    "start_time": "2022-09-04T11:17:53.957Z"
   },
   {
    "duration": 14,
    "start_time": "2022-09-04T11:18:07.031Z"
   },
   {
    "duration": 315,
    "start_time": "2022-09-04T11:18:17.579Z"
   },
   {
    "duration": 300,
    "start_time": "2022-09-04T11:18:21.675Z"
   },
   {
    "duration": 476,
    "start_time": "2022-09-04T11:26:14.753Z"
   },
   {
    "duration": 316,
    "start_time": "2022-09-04T11:26:17.305Z"
   },
   {
    "duration": 331,
    "start_time": "2022-09-04T11:29:59.759Z"
   },
   {
    "duration": 265,
    "start_time": "2022-09-04T11:30:06.437Z"
   },
   {
    "duration": 12,
    "start_time": "2022-09-04T11:30:10.767Z"
   },
   {
    "duration": 25,
    "start_time": "2022-09-04T11:30:13.701Z"
   },
   {
    "duration": 242,
    "start_time": "2022-09-04T12:28:05.852Z"
   },
   {
    "duration": 299,
    "start_time": "2022-09-04T12:28:24.390Z"
   },
   {
    "duration": 12,
    "start_time": "2022-09-04T12:28:28.060Z"
   },
   {
    "duration": 242,
    "start_time": "2022-09-04T12:28:33.683Z"
   },
   {
    "duration": 246,
    "start_time": "2022-09-04T12:33:45.138Z"
   },
   {
    "duration": 245,
    "start_time": "2022-09-04T12:33:50.269Z"
   },
   {
    "duration": 10,
    "start_time": "2022-09-04T12:34:54.596Z"
   },
   {
    "duration": 9,
    "start_time": "2022-09-04T12:37:28.759Z"
   },
   {
    "duration": 9,
    "start_time": "2022-09-04T12:37:34.235Z"
   },
   {
    "duration": 7,
    "start_time": "2022-09-04T12:37:39.469Z"
   },
   {
    "duration": 25,
    "start_time": "2022-09-04T12:38:02.734Z"
   },
   {
    "duration": 6,
    "start_time": "2022-09-04T12:38:25.063Z"
   },
   {
    "duration": 12,
    "start_time": "2022-09-04T12:39:15.323Z"
   },
   {
    "duration": 12,
    "start_time": "2022-09-04T12:42:07.286Z"
   },
   {
    "duration": 16,
    "start_time": "2022-09-04T12:42:19.534Z"
   },
   {
    "duration": 30,
    "start_time": "2022-09-04T12:43:59.651Z"
   },
   {
    "duration": 10,
    "start_time": "2022-09-04T12:48:59.999Z"
   },
   {
    "duration": 142,
    "start_time": "2022-09-04T12:50:00.247Z"
   },
   {
    "duration": 14,
    "start_time": "2022-09-04T12:50:40.404Z"
   },
   {
    "duration": 220,
    "start_time": "2022-09-04T12:50:47.239Z"
   },
   {
    "duration": 11,
    "start_time": "2022-09-04T12:52:55.854Z"
   },
   {
    "duration": 207,
    "start_time": "2022-09-04T12:53:15.066Z"
   },
   {
    "duration": 13,
    "start_time": "2022-09-04T12:53:29.844Z"
   },
   {
    "duration": 207,
    "start_time": "2022-09-04T12:53:33.388Z"
   },
   {
    "duration": 12,
    "start_time": "2022-09-04T12:53:46.383Z"
   },
   {
    "duration": 242,
    "start_time": "2022-09-04T12:53:54.412Z"
   },
   {
    "duration": 12,
    "start_time": "2022-09-04T12:54:05.217Z"
   },
   {
    "duration": 187,
    "start_time": "2022-09-04T12:54:21.275Z"
   },
   {
    "duration": 28,
    "start_time": "2022-09-04T13:04:25.833Z"
   },
   {
    "duration": 155,
    "start_time": "2022-09-04T13:04:46.365Z"
   },
   {
    "duration": 53,
    "start_time": "2022-09-04T13:07:41.597Z"
   },
   {
    "duration": 47,
    "start_time": "2022-09-04T13:08:02.951Z"
   },
   {
    "duration": 27,
    "start_time": "2022-09-04T13:08:33.831Z"
   },
   {
    "duration": 21,
    "start_time": "2022-09-04T13:09:24.531Z"
   },
   {
    "duration": 177,
    "start_time": "2022-09-04T13:10:26.349Z"
   },
   {
    "duration": 185,
    "start_time": "2022-09-04T13:10:37.713Z"
   },
   {
    "duration": 180,
    "start_time": "2022-09-04T13:11:08.584Z"
   },
   {
    "duration": 170,
    "start_time": "2022-09-04T13:12:56.212Z"
   },
   {
    "duration": 156,
    "start_time": "2022-09-04T19:27:46.786Z"
   },
   {
    "duration": 7,
    "start_time": "2022-09-04T19:29:25.773Z"
   },
   {
    "duration": 30,
    "start_time": "2022-09-04T19:30:46.035Z"
   },
   {
    "duration": 57,
    "start_time": "2022-09-04T19:30:59.978Z"
   },
   {
    "duration": 28,
    "start_time": "2022-09-04T19:31:21.834Z"
   },
   {
    "duration": 7,
    "start_time": "2022-09-04T19:31:29.864Z"
   },
   {
    "duration": 4,
    "start_time": "2022-09-04T19:31:59.908Z"
   },
   {
    "duration": 5,
    "start_time": "2022-09-04T19:32:17.387Z"
   },
   {
    "duration": 17,
    "start_time": "2022-09-04T19:33:22.394Z"
   },
   {
    "duration": 5,
    "start_time": "2022-09-04T19:33:43.043Z"
   },
   {
    "duration": 239,
    "start_time": "2022-09-04T19:33:44.803Z"
   },
   {
    "duration": 5,
    "start_time": "2022-09-04T19:34:07.902Z"
   },
   {
    "duration": 5,
    "start_time": "2022-09-04T19:34:34.560Z"
   },
   {
    "duration": 6,
    "start_time": "2022-09-04T19:36:08.275Z"
   },
   {
    "duration": 46,
    "start_time": "2022-09-05T08:39:33.596Z"
   },
   {
    "duration": 1299,
    "start_time": "2022-09-05T08:39:43.200Z"
   },
   {
    "duration": 174,
    "start_time": "2022-09-05T08:39:44.503Z"
   },
   {
    "duration": 23,
    "start_time": "2022-09-05T08:39:44.679Z"
   },
   {
    "duration": 19,
    "start_time": "2022-09-05T08:39:44.704Z"
   },
   {
    "duration": 4,
    "start_time": "2022-09-05T08:44:14.248Z"
   },
   {
    "duration": 17,
    "start_time": "2022-09-05T08:44:14.439Z"
   },
   {
    "duration": 26,
    "start_time": "2022-09-05T08:44:15.043Z"
   },
   {
    "duration": 24,
    "start_time": "2022-09-05T08:44:15.651Z"
   },
   {
    "duration": 7,
    "start_time": "2022-09-05T08:44:15.857Z"
   },
   {
    "duration": 6,
    "start_time": "2022-09-05T08:44:16.242Z"
   },
   {
    "duration": 27,
    "start_time": "2022-09-05T08:44:16.452Z"
   },
   {
    "duration": 14,
    "start_time": "2022-09-05T08:44:16.636Z"
   },
   {
    "duration": 5,
    "start_time": "2022-09-05T08:44:16.851Z"
   },
   {
    "duration": 21,
    "start_time": "2022-09-05T08:44:17.040Z"
   },
   {
    "duration": 384,
    "start_time": "2022-09-05T08:44:18.052Z"
   },
   {
    "duration": 323,
    "start_time": "2022-09-05T08:44:18.472Z"
   },
   {
    "duration": 285,
    "start_time": "2022-09-05T08:44:19.504Z"
   },
   {
    "duration": 12,
    "start_time": "2022-09-05T08:44:21.108Z"
   },
   {
    "duration": 17,
    "start_time": "2022-09-05T08:44:21.504Z"
   },
   {
    "duration": 297,
    "start_time": "2022-09-05T08:44:21.803Z"
   },
   {
    "duration": 48,
    "start_time": "2022-09-05T08:44:24.753Z"
   },
   {
    "duration": 34,
    "start_time": "2022-09-05T08:44:49.387Z"
   },
   {
    "duration": 10,
    "start_time": "2022-09-05T08:44:52.000Z"
   },
   {
    "duration": 177,
    "start_time": "2022-09-05T08:44:54.427Z"
   },
   {
    "duration": 12,
    "start_time": "2022-09-05T08:44:55.550Z"
   },
   {
    "duration": 303,
    "start_time": "2022-09-05T08:44:56.072Z"
   },
   {
    "duration": 12,
    "start_time": "2022-09-05T08:44:58.219Z"
   },
   {
    "duration": 262,
    "start_time": "2022-09-05T08:44:58.830Z"
   },
   {
    "duration": 11,
    "start_time": "2022-09-05T08:44:59.575Z"
   },
   {
    "duration": 257,
    "start_time": "2022-09-05T08:45:00.564Z"
   },
   {
    "duration": 199,
    "start_time": "2022-09-05T08:45:01.876Z"
   },
   {
    "duration": 225,
    "start_time": "2022-09-05T08:45:04.589Z"
   },
   {
    "duration": 9,
    "start_time": "2022-09-05T08:45:06.153Z"
   },
   {
    "duration": 5,
    "start_time": "2022-09-05T08:45:06.954Z"
   },
   {
    "duration": 6,
    "start_time": "2022-09-05T08:45:07.720Z"
   },
   {
    "duration": 7,
    "start_time": "2022-09-05T08:45:08.512Z"
   },
   {
    "duration": 5,
    "start_time": "2022-09-05T08:45:10.003Z"
   },
   {
    "duration": 6,
    "start_time": "2022-09-05T08:45:41.867Z"
   },
   {
    "duration": 11,
    "start_time": "2022-09-05T08:46:21.180Z"
   },
   {
    "duration": 6,
    "start_time": "2022-09-05T08:46:22.467Z"
   },
   {
    "duration": 9,
    "start_time": "2022-09-05T08:46:23.214Z"
   },
   {
    "duration": 7,
    "start_time": "2022-09-05T08:47:50.936Z"
   },
   {
    "duration": 5,
    "start_time": "2022-09-05T08:48:09.648Z"
   },
   {
    "duration": 7,
    "start_time": "2022-09-05T08:51:21.637Z"
   },
   {
    "duration": 7,
    "start_time": "2022-09-05T09:42:49.418Z"
   },
   {
    "duration": 21,
    "start_time": "2022-09-05T09:55:08.018Z"
   },
   {
    "duration": 27,
    "start_time": "2022-09-05T09:55:25.077Z"
   },
   {
    "duration": 28,
    "start_time": "2022-09-05T09:55:40.409Z"
   },
   {
    "duration": 41,
    "start_time": "2022-09-05T09:56:05.661Z"
   },
   {
    "duration": 31,
    "start_time": "2022-09-05T09:56:15.526Z"
   },
   {
    "duration": 31,
    "start_time": "2022-09-05T09:56:18.255Z"
   },
   {
    "duration": 9,
    "start_time": "2022-09-05T09:56:49.941Z"
   },
   {
    "duration": 40,
    "start_time": "2022-09-05T09:58:00.281Z"
   },
   {
    "duration": 257,
    "start_time": "2022-09-05T10:01:10.390Z"
   },
   {
    "duration": 73,
    "start_time": "2022-09-05T10:03:34.527Z"
   },
   {
    "duration": 15,
    "start_time": "2022-09-05T10:03:42.995Z"
   },
   {
    "duration": 15,
    "start_time": "2022-09-05T10:04:01.417Z"
   },
   {
    "duration": 15,
    "start_time": "2022-09-05T10:04:11.047Z"
   },
   {
    "duration": 4,
    "start_time": "2022-09-05T10:11:23.337Z"
   },
   {
    "duration": 13,
    "start_time": "2022-09-05T10:11:26.282Z"
   },
   {
    "duration": 11,
    "start_time": "2022-09-05T10:12:17.188Z"
   },
   {
    "duration": 3,
    "start_time": "2022-09-05T10:26:45.241Z"
   },
   {
    "duration": 130,
    "start_time": "2022-09-05T10:26:45.742Z"
   },
   {
    "duration": 11,
    "start_time": "2022-09-05T10:26:47.025Z"
   },
   {
    "duration": 17,
    "start_time": "2022-09-05T10:26:47.266Z"
   },
   {
    "duration": 3,
    "start_time": "2022-09-05T10:26:48.269Z"
   },
   {
    "duration": 15,
    "start_time": "2022-09-05T10:26:48.529Z"
   },
   {
    "duration": 18,
    "start_time": "2022-09-05T10:26:49.242Z"
   },
   {
    "duration": 16,
    "start_time": "2022-09-05T10:26:49.962Z"
   },
   {
    "duration": 4,
    "start_time": "2022-09-05T10:26:50.183Z"
   },
   {
    "duration": 5,
    "start_time": "2022-09-05T10:26:50.787Z"
   },
   {
    "duration": 18,
    "start_time": "2022-09-05T10:26:51.157Z"
   },
   {
    "duration": 13,
    "start_time": "2022-09-05T10:26:51.421Z"
   },
   {
    "duration": 5,
    "start_time": "2022-09-05T10:26:51.662Z"
   },
   {
    "duration": 11,
    "start_time": "2022-09-05T10:26:51.917Z"
   },
   {
    "duration": 288,
    "start_time": "2022-09-05T10:26:53.632Z"
   },
   {
    "duration": 338,
    "start_time": "2022-09-05T10:26:54.236Z"
   },
   {
    "duration": 246,
    "start_time": "2022-09-05T10:26:55.858Z"
   },
   {
    "duration": 12,
    "start_time": "2022-09-05T10:26:56.573Z"
   },
   {
    "duration": 18,
    "start_time": "2022-09-05T10:26:56.850Z"
   },
   {
    "duration": 241,
    "start_time": "2022-09-05T10:26:57.136Z"
   },
   {
    "duration": 29,
    "start_time": "2022-09-05T10:26:59.443Z"
   },
   {
    "duration": 11,
    "start_time": "2022-09-05T10:27:00.396Z"
   },
   {
    "duration": 138,
    "start_time": "2022-09-05T10:27:02.325Z"
   },
   {
    "duration": 13,
    "start_time": "2022-09-05T10:27:03.533Z"
   },
   {
    "duration": 206,
    "start_time": "2022-09-05T10:27:03.947Z"
   },
   {
    "duration": 11,
    "start_time": "2022-09-05T10:27:05.339Z"
   },
   {
    "duration": 224,
    "start_time": "2022-09-05T10:27:06.496Z"
   },
   {
    "duration": 12,
    "start_time": "2022-09-05T10:27:06.993Z"
   },
   {
    "duration": 236,
    "start_time": "2022-09-05T10:27:07.934Z"
   },
   {
    "duration": 208,
    "start_time": "2022-09-05T10:27:10.132Z"
   },
   {
    "duration": 171,
    "start_time": "2022-09-05T10:27:12.625Z"
   },
   {
    "duration": 6,
    "start_time": "2022-09-05T10:27:14.676Z"
   },
   {
    "duration": 5,
    "start_time": "2022-09-05T10:27:15.131Z"
   },
   {
    "duration": 5,
    "start_time": "2022-09-05T10:27:15.633Z"
   },
   {
    "duration": 7,
    "start_time": "2022-09-05T10:27:16.241Z"
   },
   {
    "duration": 6,
    "start_time": "2022-09-05T10:27:17.535Z"
   },
   {
    "duration": 5,
    "start_time": "2022-09-05T10:27:18.082Z"
   },
   {
    "duration": 7,
    "start_time": "2022-09-05T10:27:18.533Z"
   },
   {
    "duration": 5,
    "start_time": "2022-09-05T10:27:19.725Z"
   },
   {
    "duration": 6,
    "start_time": "2022-09-05T10:27:20.733Z"
   },
   {
    "duration": 29,
    "start_time": "2022-09-05T10:27:21.547Z"
   },
   {
    "duration": 15,
    "start_time": "2022-09-05T10:27:26.581Z"
   },
   {
    "duration": 15,
    "start_time": "2022-09-05T10:27:29.726Z"
   },
   {
    "duration": 12,
    "start_time": "2022-09-05T10:30:51.868Z"
   },
   {
    "duration": 892,
    "start_time": "2022-09-05T10:35:56.058Z"
   },
   {
    "duration": 309,
    "start_time": "2022-09-05T10:37:31.715Z"
   },
   {
    "duration": 307,
    "start_time": "2022-09-05T10:39:01.691Z"
   },
   {
    "duration": 114,
    "start_time": "2022-09-05T10:41:13.523Z"
   },
   {
    "duration": 11,
    "start_time": "2022-09-05T10:43:13.125Z"
   },
   {
    "duration": 71,
    "start_time": "2022-09-05T10:43:30.780Z"
   },
   {
    "duration": 85,
    "start_time": "2022-09-05T10:43:40.428Z"
   },
   {
    "duration": 61,
    "start_time": "2022-09-05T10:43:43.844Z"
   },
   {
    "duration": 174,
    "start_time": "2022-09-05T10:43:53.252Z"
   },
   {
    "duration": 117,
    "start_time": "2022-09-05T10:44:08.568Z"
   },
   {
    "duration": 11,
    "start_time": "2022-09-05T10:48:10.257Z"
   },
   {
    "duration": 1113,
    "start_time": "2022-09-05T10:48:25.157Z"
   },
   {
    "duration": 11,
    "start_time": "2022-09-05T10:48:44.078Z"
   },
   {
    "duration": 13,
    "start_time": "2022-09-05T10:48:55.958Z"
   },
   {
    "duration": 13,
    "start_time": "2022-09-05T10:49:16.375Z"
   },
   {
    "duration": 1490,
    "start_time": "2022-09-05T10:49:26.156Z"
   },
   {
    "duration": 187,
    "start_time": "2022-09-05T10:50:05.440Z"
   },
   {
    "duration": 155,
    "start_time": "2022-09-05T10:51:10.023Z"
   },
   {
    "duration": 284,
    "start_time": "2022-09-05T10:52:34.852Z"
   },
   {
    "duration": 249,
    "start_time": "2022-09-05T10:53:32.550Z"
   },
   {
    "duration": 22,
    "start_time": "2022-09-05T10:53:47.060Z"
   },
   {
    "duration": 24,
    "start_time": "2022-09-05T10:53:51.342Z"
   },
   {
    "duration": 303,
    "start_time": "2022-09-05T10:54:24.350Z"
   },
   {
    "duration": 1117,
    "start_time": "2022-09-05T10:56:04.139Z"
   },
   {
    "duration": 287,
    "start_time": "2022-09-05T10:57:07.393Z"
   },
   {
    "duration": 13,
    "start_time": "2022-09-05T11:06:08.026Z"
   },
   {
    "duration": 13,
    "start_time": "2022-09-05T11:06:35.756Z"
   },
   {
    "duration": 13,
    "start_time": "2022-09-05T11:06:54.921Z"
   },
   {
    "duration": 11,
    "start_time": "2022-09-05T11:07:23.621Z"
   },
   {
    "duration": 761,
    "start_time": "2022-09-05T11:07:33.418Z"
   },
   {
    "duration": 341,
    "start_time": "2022-09-05T11:19:56.863Z"
   },
   {
    "duration": 73,
    "start_time": "2022-09-05T11:23:53.049Z"
   },
   {
    "duration": 132,
    "start_time": "2022-09-05T11:24:36.480Z"
   },
   {
    "duration": 84,
    "start_time": "2022-09-05T11:24:49.481Z"
   },
   {
    "duration": 17,
    "start_time": "2022-09-05T11:25:33.121Z"
   },
   {
    "duration": 337,
    "start_time": "2022-09-05T11:25:45.377Z"
   },
   {
    "duration": 78,
    "start_time": "2022-09-05T11:30:41.842Z"
   },
   {
    "duration": 65,
    "start_time": "2022-09-05T11:30:52.196Z"
   },
   {
    "duration": 60,
    "start_time": "2022-09-05T11:31:01.210Z"
   },
   {
    "duration": 70,
    "start_time": "2022-09-05T11:31:12.600Z"
   },
   {
    "duration": 65,
    "start_time": "2022-09-05T11:31:20.552Z"
   },
   {
    "duration": 14,
    "start_time": "2022-09-05T11:32:04.492Z"
   },
   {
    "duration": 10,
    "start_time": "2022-09-05T11:32:28.496Z"
   },
   {
    "duration": 12,
    "start_time": "2022-09-05T11:52:10.169Z"
   },
   {
    "duration": 10,
    "start_time": "2022-09-05T11:52:33.250Z"
   },
   {
    "duration": 53,
    "start_time": "2022-09-05T11:53:10.033Z"
   },
   {
    "duration": 10,
    "start_time": "2022-09-05T11:53:28.374Z"
   },
   {
    "duration": 11,
    "start_time": "2022-09-05T11:53:40.216Z"
   },
   {
    "duration": 11,
    "start_time": "2022-09-05T11:53:48.181Z"
   },
   {
    "duration": 10,
    "start_time": "2022-09-05T11:54:02.929Z"
   },
   {
    "duration": 12,
    "start_time": "2022-09-05T11:54:08.714Z"
   },
   {
    "duration": 327,
    "start_time": "2022-09-05T11:56:12.660Z"
   },
   {
    "duration": 285,
    "start_time": "2022-09-05T12:00:03.221Z"
   },
   {
    "duration": 5,
    "start_time": "2022-09-05T12:09:44.651Z"
   },
   {
    "duration": 483,
    "start_time": "2022-09-05T12:10:21.118Z"
   },
   {
    "duration": 985,
    "start_time": "2022-09-05T12:10:46.429Z"
   },
   {
    "duration": 473,
    "start_time": "2022-09-05T12:10:57.872Z"
   },
   {
    "duration": 4,
    "start_time": "2022-09-05T12:13:02.587Z"
   },
   {
    "duration": 5,
    "start_time": "2022-09-05T12:21:11.388Z"
   },
   {
    "duration": 508,
    "start_time": "2022-09-05T12:22:35.300Z"
   },
   {
    "duration": 4,
    "start_time": "2022-09-05T12:23:30.620Z"
   },
   {
    "duration": 4,
    "start_time": "2022-09-05T12:23:48.439Z"
   },
   {
    "duration": 498,
    "start_time": "2022-09-05T12:23:56.032Z"
   },
   {
    "duration": 5,
    "start_time": "2022-09-05T12:24:17.861Z"
   },
   {
    "duration": 461,
    "start_time": "2022-09-05T12:24:50.182Z"
   },
   {
    "duration": 487,
    "start_time": "2022-09-05T12:25:30.442Z"
   },
   {
    "duration": 27,
    "start_time": "2022-09-05T13:48:59.429Z"
   },
   {
    "duration": 19,
    "start_time": "2022-09-05T13:49:15.293Z"
   },
   {
    "duration": 65,
    "start_time": "2022-09-05T13:55:05.462Z"
   },
   {
    "duration": 133,
    "start_time": "2022-09-05T13:55:09.222Z"
   },
   {
    "duration": 5,
    "start_time": "2022-09-05T13:55:14.834Z"
   },
   {
    "duration": 57,
    "start_time": "2022-09-05T13:57:35.626Z"
   },
   {
    "duration": 52,
    "start_time": "2022-09-05T13:59:14.669Z"
   },
   {
    "duration": 481,
    "start_time": "2022-09-05T13:59:21.146Z"
   },
   {
    "duration": 502,
    "start_time": "2022-09-05T14:00:59.814Z"
   },
   {
    "duration": 453,
    "start_time": "2022-09-05T14:01:46.332Z"
   },
   {
    "duration": 54,
    "start_time": "2022-09-05T14:01:56.348Z"
   },
   {
    "duration": 50,
    "start_time": "2022-09-05T14:02:09.396Z"
   },
   {
    "duration": 52,
    "start_time": "2022-09-05T14:02:17.510Z"
   },
   {
    "duration": 73,
    "start_time": "2022-09-05T14:02:30.429Z"
   },
   {
    "duration": 97,
    "start_time": "2022-09-05T14:03:01.031Z"
   },
   {
    "duration": 449,
    "start_time": "2022-09-05T14:03:10.995Z"
   },
   {
    "duration": 21,
    "start_time": "2022-09-05T14:04:17.649Z"
   },
   {
    "duration": 5,
    "start_time": "2022-09-05T14:04:28.558Z"
   },
   {
    "duration": 481,
    "start_time": "2022-09-05T14:05:41.875Z"
   },
   {
    "duration": 19,
    "start_time": "2022-09-05T14:23:32.991Z"
   },
   {
    "duration": 5,
    "start_time": "2022-09-05T14:23:40.187Z"
   },
   {
    "duration": 429,
    "start_time": "2022-09-05T14:24:46.867Z"
   },
   {
    "duration": 18,
    "start_time": "2022-09-05T14:25:06.315Z"
   },
   {
    "duration": 5,
    "start_time": "2022-09-05T14:25:38.477Z"
   },
   {
    "duration": 18,
    "start_time": "2022-09-05T14:29:40.821Z"
   },
   {
    "duration": 152,
    "start_time": "2022-09-05T14:30:13.896Z"
   },
   {
    "duration": 77,
    "start_time": "2022-09-05T14:31:15.252Z"
   },
   {
    "duration": 171,
    "start_time": "2022-09-05T14:31:20.385Z"
   },
   {
    "duration": 112,
    "start_time": "2022-09-05T14:31:32.955Z"
   },
   {
    "duration": 91,
    "start_time": "2022-09-05T14:37:38.635Z"
   },
   {
    "duration": 159,
    "start_time": "2022-09-05T14:41:54.565Z"
   },
   {
    "duration": 171,
    "start_time": "2022-09-05T14:42:20.561Z"
   },
   {
    "duration": 68,
    "start_time": "2022-09-05T14:44:15.116Z"
   },
   {
    "duration": 214,
    "start_time": "2022-09-05T14:44:20.607Z"
   },
   {
    "duration": 441,
    "start_time": "2022-09-05T14:44:46.350Z"
   },
   {
    "duration": 457,
    "start_time": "2022-09-05T14:44:55.112Z"
   },
   {
    "duration": 449,
    "start_time": "2022-09-05T14:45:05.809Z"
   },
   {
    "duration": 499,
    "start_time": "2022-09-05T14:45:13.495Z"
   },
   {
    "duration": 498,
    "start_time": "2022-09-05T14:45:20.592Z"
   },
   {
    "duration": 506,
    "start_time": "2022-09-05T14:45:33.158Z"
   },
   {
    "duration": 397,
    "start_time": "2022-09-05T14:47:31.859Z"
   },
   {
    "duration": 432,
    "start_time": "2022-09-05T14:47:39.480Z"
   },
   {
    "duration": 411,
    "start_time": "2022-09-05T14:47:48.453Z"
   },
   {
    "duration": 463,
    "start_time": "2022-09-05T14:47:58.337Z"
   },
   {
    "duration": 485,
    "start_time": "2022-09-05T14:48:17.020Z"
   },
   {
    "duration": 478,
    "start_time": "2022-09-05T14:48:23.934Z"
   },
   {
    "duration": 4,
    "start_time": "2022-09-05T14:48:57.951Z"
   },
   {
    "duration": 18,
    "start_time": "2022-09-05T14:49:25.739Z"
   },
   {
    "duration": 5,
    "start_time": "2022-09-05T14:50:41.339Z"
   },
   {
    "duration": 195,
    "start_time": "2022-09-05T14:51:04.612Z"
   },
   {
    "duration": 11,
    "start_time": "2022-09-05T14:51:33.965Z"
   },
   {
    "duration": 18,
    "start_time": "2022-09-05T14:51:40.997Z"
   },
   {
    "duration": 5,
    "start_time": "2022-09-05T14:51:42.775Z"
   },
   {
    "duration": 18,
    "start_time": "2022-09-05T14:51:48.591Z"
   },
   {
    "duration": 19,
    "start_time": "2022-09-05T14:51:52.340Z"
   },
   {
    "duration": 176,
    "start_time": "2022-09-05T14:52:12.995Z"
   },
   {
    "duration": 15,
    "start_time": "2022-09-05T14:57:01.849Z"
   },
   {
    "duration": 14,
    "start_time": "2022-09-05T14:57:38.963Z"
   },
   {
    "duration": 73,
    "start_time": "2022-09-05T15:04:37.669Z"
   },
   {
    "duration": 18,
    "start_time": "2022-09-05T15:04:42.565Z"
   },
   {
    "duration": 22,
    "start_time": "2022-09-05T15:05:30.951Z"
   },
   {
    "duration": 22,
    "start_time": "2022-09-05T15:07:13.138Z"
   },
   {
    "duration": 5,
    "start_time": "2022-09-05T15:07:23.918Z"
   },
   {
    "duration": 192,
    "start_time": "2022-09-05T15:07:26.693Z"
   },
   {
    "duration": 22,
    "start_time": "2022-09-05T15:08:53.565Z"
   },
   {
    "duration": 20,
    "start_time": "2022-09-05T15:09:32.918Z"
   },
   {
    "duration": 3,
    "start_time": "2022-09-05T15:20:36.406Z"
   },
   {
    "duration": 85,
    "start_time": "2022-09-05T15:20:37.022Z"
   },
   {
    "duration": 12,
    "start_time": "2022-09-05T15:20:39.603Z"
   },
   {
    "duration": 14,
    "start_time": "2022-09-05T15:20:41.342Z"
   },
   {
    "duration": 4,
    "start_time": "2022-09-05T15:20:49.263Z"
   },
   {
    "duration": 15,
    "start_time": "2022-09-05T15:20:50.542Z"
   },
   {
    "duration": 17,
    "start_time": "2022-09-05T15:20:56.799Z"
   },
   {
    "duration": 17,
    "start_time": "2022-09-05T15:20:58.364Z"
   },
   {
    "duration": 5,
    "start_time": "2022-09-05T15:21:01.837Z"
   },
   {
    "duration": 4,
    "start_time": "2022-09-05T15:21:03.443Z"
   },
   {
    "duration": 21,
    "start_time": "2022-09-05T15:21:07.152Z"
   },
   {
    "duration": 13,
    "start_time": "2022-09-05T15:21:10.523Z"
   },
   {
    "duration": 5,
    "start_time": "2022-09-05T15:21:13.646Z"
   },
   {
    "duration": 14,
    "start_time": "2022-09-05T15:21:13.983Z"
   },
   {
    "duration": 337,
    "start_time": "2022-09-05T15:21:23.921Z"
   },
   {
    "duration": 292,
    "start_time": "2022-09-05T15:21:29.604Z"
   },
   {
    "duration": 266,
    "start_time": "2022-09-05T15:22:04.650Z"
   },
   {
    "duration": 12,
    "start_time": "2022-09-05T15:22:16.160Z"
   },
   {
    "duration": 27,
    "start_time": "2022-09-05T15:22:20.709Z"
   },
   {
    "duration": 269,
    "start_time": "2022-09-05T15:22:24.625Z"
   },
   {
    "duration": 32,
    "start_time": "2022-09-05T15:22:41.651Z"
   },
   {
    "duration": 14,
    "start_time": "2022-09-05T15:22:46.132Z"
   },
   {
    "duration": 70,
    "start_time": "2022-09-05T15:23:25.271Z"
   },
   {
    "duration": 50,
    "start_time": "2022-09-05T15:23:28.936Z"
   },
   {
    "duration": 147,
    "start_time": "2022-09-05T15:23:45.608Z"
   },
   {
    "duration": 16,
    "start_time": "2022-09-05T15:23:54.473Z"
   },
   {
    "duration": 222,
    "start_time": "2022-09-05T15:23:57.763Z"
   },
   {
    "duration": 13,
    "start_time": "2022-09-05T15:24:03.096Z"
   },
   {
    "duration": 255,
    "start_time": "2022-09-05T15:24:06.388Z"
   },
   {
    "duration": 13,
    "start_time": "2022-09-05T15:24:09.932Z"
   },
   {
    "duration": 203,
    "start_time": "2022-09-05T15:24:15.339Z"
   },
   {
    "duration": 179,
    "start_time": "2022-09-05T15:25:44.707Z"
   },
   {
    "duration": 7,
    "start_time": "2022-09-05T15:25:58.192Z"
   },
   {
    "duration": 5,
    "start_time": "2022-09-05T15:26:01.719Z"
   },
   {
    "duration": 5,
    "start_time": "2022-09-05T15:26:04.908Z"
   },
   {
    "duration": 8,
    "start_time": "2022-09-05T15:26:07.908Z"
   },
   {
    "duration": 6,
    "start_time": "2022-09-05T15:26:10.288Z"
   },
   {
    "duration": 7,
    "start_time": "2022-09-05T15:26:11.059Z"
   },
   {
    "duration": 8,
    "start_time": "2022-09-05T15:26:13.797Z"
   },
   {
    "duration": 5,
    "start_time": "2022-09-05T15:26:14.899Z"
   },
   {
    "duration": 7,
    "start_time": "2022-09-05T15:26:15.748Z"
   },
   {
    "duration": 30,
    "start_time": "2022-09-05T15:26:30.244Z"
   },
   {
    "duration": 16,
    "start_time": "2022-09-05T15:26:44.755Z"
   },
   {
    "duration": 4,
    "start_time": "2022-09-05T15:26:49.555Z"
   },
   {
    "duration": 512,
    "start_time": "2022-09-05T15:26:50.773Z"
   },
   {
    "duration": 15,
    "start_time": "2022-09-05T15:27:16.902Z"
   },
   {
    "duration": 4,
    "start_time": "2022-09-05T15:27:17.695Z"
   },
   {
    "duration": 479,
    "start_time": "2022-09-05T15:27:18.385Z"
   },
   {
    "duration": 16,
    "start_time": "2022-09-05T15:27:23.177Z"
   },
   {
    "duration": 5,
    "start_time": "2022-09-05T15:27:24.013Z"
   },
   {
    "duration": 1126,
    "start_time": "2022-09-05T15:27:27.047Z"
   },
   {
    "duration": 16,
    "start_time": "2022-09-05T15:27:47.576Z"
   },
   {
    "duration": 5,
    "start_time": "2022-09-05T15:27:54.259Z"
   },
   {
    "duration": 475,
    "start_time": "2022-09-05T15:27:56.605Z"
   },
   {
    "duration": 16,
    "start_time": "2022-09-05T15:28:06.284Z"
   },
   {
    "duration": 6,
    "start_time": "2022-09-05T15:28:14.531Z"
   },
   {
    "duration": 467,
    "start_time": "2022-09-05T15:28:27.172Z"
   },
   {
    "duration": 23,
    "start_time": "2022-09-05T15:28:34.364Z"
   },
   {
    "duration": 4,
    "start_time": "2022-09-05T15:28:38.539Z"
   },
   {
    "duration": 451,
    "start_time": "2022-09-05T15:28:39.769Z"
   },
   {
    "duration": 19,
    "start_time": "2022-09-05T15:28:48.160Z"
   },
   {
    "duration": 4,
    "start_time": "2022-09-05T15:28:49.035Z"
   },
   {
    "duration": 179,
    "start_time": "2022-09-05T15:28:51.751Z"
   },
   {
    "duration": 27,
    "start_time": "2022-09-05T15:28:53.364Z"
   },
   {
    "duration": 5,
    "start_time": "2022-09-05T15:28:58.506Z"
   },
   {
    "duration": 218,
    "start_time": "2022-09-05T15:29:02.038Z"
   },
   {
    "duration": 18,
    "start_time": "2022-09-05T15:29:08.730Z"
   },
   {
    "duration": 5,
    "start_time": "2022-09-05T15:29:11.692Z"
   },
   {
    "duration": 177,
    "start_time": "2022-09-05T15:29:16.877Z"
   },
   {
    "duration": 507,
    "start_time": "2022-09-05T15:30:56.944Z"
   },
   {
    "duration": 642,
    "start_time": "2022-09-05T15:31:04.203Z"
   },
   {
    "duration": 29,
    "start_time": "2022-09-05T15:31:52.768Z"
   },
   {
    "duration": 5,
    "start_time": "2022-09-05T15:31:56.875Z"
   },
   {
    "duration": 204,
    "start_time": "2022-09-05T15:32:01.120Z"
   },
   {
    "duration": 15,
    "start_time": "2022-09-05T15:32:15.218Z"
   },
   {
    "duration": 7,
    "start_time": "2022-09-05T15:34:34.036Z"
   },
   {
    "duration": 6,
    "start_time": "2022-09-05T15:34:35.971Z"
   },
   {
    "duration": 6,
    "start_time": "2022-09-05T15:34:43.215Z"
   },
   {
    "duration": 8,
    "start_time": "2022-09-05T15:35:10.004Z"
   },
   {
    "duration": 3,
    "start_time": "2022-09-05T15:35:13.379Z"
   },
   {
    "duration": 7,
    "start_time": "2022-09-05T15:35:14.371Z"
   },
   {
    "duration": 3,
    "start_time": "2022-09-05T15:35:20.326Z"
   },
   {
    "duration": 3,
    "start_time": "2022-09-05T15:37:16.500Z"
   },
   {
    "duration": 10,
    "start_time": "2022-09-05T15:38:17.859Z"
   },
   {
    "duration": 166,
    "start_time": "2022-09-05T15:38:42.772Z"
   },
   {
    "duration": 11,
    "start_time": "2022-09-05T15:38:51.411Z"
   },
   {
    "duration": 214,
    "start_time": "2022-09-05T15:38:57.071Z"
   },
   {
    "duration": 14,
    "start_time": "2022-09-05T15:39:02.611Z"
   },
   {
    "duration": 239,
    "start_time": "2022-09-05T15:39:09.288Z"
   },
   {
    "duration": 12,
    "start_time": "2022-09-05T15:39:17.604Z"
   },
   {
    "duration": 270,
    "start_time": "2022-09-05T15:39:22.651Z"
   },
   {
    "duration": 188,
    "start_time": "2022-09-05T15:39:30.247Z"
   },
   {
    "duration": 231,
    "start_time": "2022-09-05T15:39:44.391Z"
   },
   {
    "duration": 24,
    "start_time": "2022-09-05T15:42:02.857Z"
   },
   {
    "duration": 4,
    "start_time": "2022-09-05T15:42:27.746Z"
   },
   {
    "duration": 519,
    "start_time": "2022-09-05T15:42:39.697Z"
   },
   {
    "duration": 15,
    "start_time": "2022-09-05T15:43:07.248Z"
   },
   {
    "duration": 4,
    "start_time": "2022-09-05T15:43:09.677Z"
   },
   {
    "duration": 504,
    "start_time": "2022-09-05T15:43:22.557Z"
   },
   {
    "duration": 16,
    "start_time": "2022-09-05T15:43:34.945Z"
   },
   {
    "duration": 4,
    "start_time": "2022-09-05T15:43:37.283Z"
   },
   {
    "duration": 486,
    "start_time": "2022-09-05T15:43:47.947Z"
   },
   {
    "duration": 15,
    "start_time": "2022-09-05T15:43:52.477Z"
   },
   {
    "duration": 3,
    "start_time": "2022-09-05T15:43:56.982Z"
   },
   {
    "duration": 393,
    "start_time": "2022-09-05T15:44:06.373Z"
   },
   {
    "duration": 15,
    "start_time": "2022-09-05T15:44:11.964Z"
   },
   {
    "duration": 5,
    "start_time": "2022-09-05T15:44:15.122Z"
   },
   {
    "duration": 422,
    "start_time": "2022-09-05T15:44:25.052Z"
   },
   {
    "duration": 14,
    "start_time": "2022-09-05T15:44:28.322Z"
   },
   {
    "duration": 4,
    "start_time": "2022-09-05T15:44:29.816Z"
   },
   {
    "duration": 457,
    "start_time": "2022-09-05T15:44:39.985Z"
   },
   {
    "duration": 16,
    "start_time": "2022-09-05T15:44:45.178Z"
   },
   {
    "duration": 3,
    "start_time": "2022-09-05T15:44:50.249Z"
   },
   {
    "duration": 195,
    "start_time": "2022-09-05T15:45:03.447Z"
   },
   {
    "duration": 20,
    "start_time": "2022-09-05T15:45:07.360Z"
   },
   {
    "duration": 4,
    "start_time": "2022-09-05T15:45:08.277Z"
   },
   {
    "duration": 189,
    "start_time": "2022-09-05T15:45:16.495Z"
   },
   {
    "duration": 15,
    "start_time": "2022-09-05T15:45:21.785Z"
   },
   {
    "duration": 4,
    "start_time": "2022-09-05T15:45:24.262Z"
   },
   {
    "duration": 180,
    "start_time": "2022-09-05T15:45:32.501Z"
   },
   {
    "duration": 7,
    "start_time": "2022-09-05T15:45:40.224Z"
   },
   {
    "duration": 6,
    "start_time": "2022-09-05T15:45:41.149Z"
   },
   {
    "duration": 7,
    "start_time": "2022-09-05T15:45:42.078Z"
   },
   {
    "duration": 3,
    "start_time": "2022-09-05T15:45:42.912Z"
   },
   {
    "duration": 3,
    "start_time": "2022-09-05T15:45:48.004Z"
   },
   {
    "duration": 5,
    "start_time": "2022-09-05T15:45:49.184Z"
   },
   {
    "duration": 3,
    "start_time": "2022-09-05T15:45:58.207Z"
   },
   {
    "duration": 6,
    "start_time": "2022-09-05T15:46:05.018Z"
   },
   {
    "duration": 5,
    "start_time": "2022-09-05T15:46:09.176Z"
   },
   {
    "duration": 5,
    "start_time": "2022-09-05T15:46:12.837Z"
   },
   {
    "duration": 6,
    "start_time": "2022-09-05T15:46:14.373Z"
   },
   {
    "duration": 5,
    "start_time": "2022-09-05T15:46:15.818Z"
   },
   {
    "duration": 8,
    "start_time": "2022-09-05T15:46:39.598Z"
   },
   {
    "duration": 12,
    "start_time": "2022-09-05T15:47:49.298Z"
   },
   {
    "duration": 11,
    "start_time": "2022-09-05T15:47:50.708Z"
   },
   {
    "duration": 9,
    "start_time": "2022-09-05T15:47:58.174Z"
   },
   {
    "duration": 8,
    "start_time": "2022-09-05T15:48:01.368Z"
   },
   {
    "duration": 4,
    "start_time": "2022-09-05T15:50:01.238Z"
   },
   {
    "duration": 10,
    "start_time": "2022-09-05T15:50:10.878Z"
   },
   {
    "duration": 6,
    "start_time": "2022-09-05T15:50:26.935Z"
   },
   {
    "duration": 6,
    "start_time": "2022-09-05T15:50:41.650Z"
   },
   {
    "duration": 6,
    "start_time": "2022-09-05T15:50:45.654Z"
   },
   {
    "duration": 8,
    "start_time": "2022-09-05T15:51:14.907Z"
   },
   {
    "duration": 3,
    "start_time": "2022-09-05T15:51:17.981Z"
   },
   {
    "duration": 6,
    "start_time": "2022-09-05T15:51:19.391Z"
   },
   {
    "duration": 3,
    "start_time": "2022-09-05T15:51:22.751Z"
   },
   {
    "duration": 5,
    "start_time": "2022-09-05T15:51:50.096Z"
   },
   {
    "duration": 5,
    "start_time": "2022-09-05T15:52:26.775Z"
   },
   {
    "duration": 4,
    "start_time": "2022-09-05T15:52:29.447Z"
   },
   {
    "duration": 4,
    "start_time": "2022-09-05T15:52:30.528Z"
   },
   {
    "duration": 4,
    "start_time": "2022-09-05T15:52:31.813Z"
   },
   {
    "duration": 47,
    "start_time": "2022-09-06T10:23:33.083Z"
   },
   {
    "duration": 1342,
    "start_time": "2022-09-06T10:23:48.942Z"
   },
   {
    "duration": 134,
    "start_time": "2022-09-06T10:23:50.286Z"
   },
   {
    "duration": 15,
    "start_time": "2022-09-06T10:23:50.421Z"
   },
   {
    "duration": 28,
    "start_time": "2022-09-06T10:23:50.439Z"
   },
   {
    "duration": 3,
    "start_time": "2022-09-06T10:23:50.469Z"
   },
   {
    "duration": 16,
    "start_time": "2022-09-06T10:23:50.474Z"
   },
   {
    "duration": 17,
    "start_time": "2022-09-06T10:23:50.492Z"
   },
   {
    "duration": 18,
    "start_time": "2022-09-06T10:23:50.511Z"
   },
   {
    "duration": 36,
    "start_time": "2022-09-06T10:23:50.530Z"
   },
   {
    "duration": 14,
    "start_time": "2022-09-06T10:23:50.568Z"
   },
   {
    "duration": 23,
    "start_time": "2022-09-06T10:23:50.584Z"
   },
   {
    "duration": 14,
    "start_time": "2022-09-06T10:23:50.609Z"
   },
   {
    "duration": 4,
    "start_time": "2022-09-06T10:23:50.625Z"
   },
   {
    "duration": 31,
    "start_time": "2022-09-06T10:23:50.632Z"
   },
   {
    "duration": 403,
    "start_time": "2022-09-06T10:23:50.667Z"
   },
   {
    "duration": 348,
    "start_time": "2022-09-06T10:23:51.073Z"
   },
   {
    "duration": 322,
    "start_time": "2022-09-06T10:23:51.423Z"
   },
   {
    "duration": 26,
    "start_time": "2022-09-06T10:23:51.747Z"
   },
   {
    "duration": 20,
    "start_time": "2022-09-06T10:23:51.775Z"
   },
   {
    "duration": 305,
    "start_time": "2022-09-06T10:23:51.796Z"
   },
   {
    "duration": 30,
    "start_time": "2022-09-06T10:23:52.103Z"
   },
   {
    "duration": 10,
    "start_time": "2022-09-06T10:23:52.135Z"
   },
   {
    "duration": 157,
    "start_time": "2022-09-06T10:23:52.146Z"
   },
   {
    "duration": 12,
    "start_time": "2022-09-06T10:23:52.305Z"
   },
   {
    "duration": 334,
    "start_time": "2022-09-06T10:23:52.319Z"
   },
   {
    "duration": 14,
    "start_time": "2022-09-06T10:23:52.655Z"
   },
   {
    "duration": 265,
    "start_time": "2022-09-06T10:23:52.671Z"
   },
   {
    "duration": 12,
    "start_time": "2022-09-06T10:23:52.937Z"
   },
   {
    "duration": 274,
    "start_time": "2022-09-06T10:23:52.959Z"
   },
   {
    "duration": 233,
    "start_time": "2022-09-06T10:23:53.235Z"
   },
   {
    "duration": 182,
    "start_time": "2022-09-06T10:23:53.471Z"
   },
   {
    "duration": 31,
    "start_time": "2022-09-06T10:23:53.654Z"
   },
   {
    "duration": 4,
    "start_time": "2022-09-06T10:23:53.686Z"
   },
   {
    "duration": 562,
    "start_time": "2022-09-06T10:23:53.692Z"
   },
   {
    "duration": 24,
    "start_time": "2022-09-06T10:23:54.255Z"
   },
   {
    "duration": 7,
    "start_time": "2022-09-06T10:23:54.281Z"
   },
   {
    "duration": 548,
    "start_time": "2022-09-06T10:23:54.289Z"
   },
   {
    "duration": 31,
    "start_time": "2022-09-06T10:23:54.839Z"
   },
   {
    "duration": 11,
    "start_time": "2022-09-06T10:23:54.872Z"
   },
   {
    "duration": 661,
    "start_time": "2022-09-06T10:23:54.884Z"
   },
   {
    "duration": 28,
    "start_time": "2022-09-06T10:23:55.551Z"
   },
   {
    "duration": 6,
    "start_time": "2022-09-06T10:23:55.580Z"
   },
   {
    "duration": 633,
    "start_time": "2022-09-06T10:23:55.588Z"
   },
   {
    "duration": 19,
    "start_time": "2022-09-06T10:23:56.223Z"
   },
   {
    "duration": 26,
    "start_time": "2022-09-06T10:23:56.244Z"
   },
   {
    "duration": 486,
    "start_time": "2022-09-06T10:23:56.272Z"
   },
   {
    "duration": 17,
    "start_time": "2022-09-06T10:23:56.770Z"
   },
   {
    "duration": 4,
    "start_time": "2022-09-06T10:23:56.788Z"
   },
   {
    "duration": 440,
    "start_time": "2022-09-06T10:23:56.793Z"
   },
   {
    "duration": 27,
    "start_time": "2022-09-06T10:23:57.235Z"
   },
   {
    "duration": 5,
    "start_time": "2022-09-06T10:23:57.268Z"
   },
   {
    "duration": 206,
    "start_time": "2022-09-06T10:23:57.274Z"
   },
   {
    "duration": 19,
    "start_time": "2022-09-06T10:23:57.482Z"
   },
   {
    "duration": 4,
    "start_time": "2022-09-06T10:23:57.502Z"
   },
   {
    "duration": 243,
    "start_time": "2022-09-06T10:23:57.507Z"
   },
   {
    "duration": 25,
    "start_time": "2022-09-06T10:23:57.751Z"
   },
   {
    "duration": 8,
    "start_time": "2022-09-06T10:23:57.778Z"
   },
   {
    "duration": 195,
    "start_time": "2022-09-06T10:23:57.788Z"
   },
   {
    "duration": 7,
    "start_time": "2022-09-06T10:23:57.984Z"
   },
   {
    "duration": 16,
    "start_time": "2022-09-06T10:23:57.992Z"
   },
   {
    "duration": 9,
    "start_time": "2022-09-06T10:23:58.009Z"
   },
   {
    "duration": 3,
    "start_time": "2022-09-06T10:23:58.019Z"
   },
   {
    "duration": 5,
    "start_time": "2022-09-06T10:23:58.023Z"
   },
   {
    "duration": 10,
    "start_time": "2022-09-06T10:23:58.029Z"
   },
   {
    "duration": 26,
    "start_time": "2022-09-06T10:23:58.041Z"
   },
   {
    "duration": 8,
    "start_time": "2022-09-06T10:23:58.069Z"
   },
   {
    "duration": 7,
    "start_time": "2022-09-06T10:23:58.078Z"
   },
   {
    "duration": 6,
    "start_time": "2022-09-06T10:23:58.086Z"
   },
   {
    "duration": 6,
    "start_time": "2022-09-06T10:23:58.093Z"
   },
   {
    "duration": 5,
    "start_time": "2022-09-06T10:23:58.101Z"
   },
   {
    "duration": 7,
    "start_time": "2022-09-06T10:23:58.107Z"
   },
   {
    "duration": 7,
    "start_time": "2022-09-06T10:23:58.116Z"
   },
   {
    "duration": 5,
    "start_time": "2022-09-06T10:23:58.124Z"
   },
   {
    "duration": 30,
    "start_time": "2022-09-06T10:23:58.130Z"
   },
   {
    "duration": 6,
    "start_time": "2022-09-06T10:23:58.161Z"
   },
   {
    "duration": 10,
    "start_time": "2022-09-06T10:23:58.169Z"
   },
   {
    "duration": 5,
    "start_time": "2022-09-06T10:23:58.180Z"
   },
   {
    "duration": 7,
    "start_time": "2022-09-06T10:23:58.186Z"
   },
   {
    "duration": 7,
    "start_time": "2022-09-06T10:23:58.194Z"
   },
   {
    "duration": 5,
    "start_time": "2022-09-06T10:23:58.202Z"
   },
   {
    "duration": 3,
    "start_time": "2022-09-06T10:23:58.208Z"
   },
   {
    "duration": 7,
    "start_time": "2022-09-06T10:23:58.213Z"
   },
   {
    "duration": 1135,
    "start_time": "2022-09-06T10:24:12.206Z"
   },
   {
    "duration": 6,
    "start_time": "2022-09-06T10:25:43.177Z"
   },
   {
    "duration": 22,
    "start_time": "2022-09-06T10:26:15.070Z"
   },
   {
    "duration": 7,
    "start_time": "2022-09-06T10:27:05.282Z"
   },
   {
    "duration": 897,
    "start_time": "2022-09-06T10:27:43.400Z"
   },
   {
    "duration": 5,
    "start_time": "2022-09-06T10:28:35.901Z"
   },
   {
    "duration": 782,
    "start_time": "2022-09-06T10:29:21.358Z"
   },
   {
    "duration": 6,
    "start_time": "2022-09-06T10:34:47.970Z"
   },
   {
    "duration": 16,
    "start_time": "2022-09-06T10:35:17.385Z"
   },
   {
    "duration": 5,
    "start_time": "2022-09-06T10:35:19.707Z"
   },
   {
    "duration": 5,
    "start_time": "2022-09-06T10:40:04.539Z"
   },
   {
    "duration": 4,
    "start_time": "2022-09-06T10:42:13.106Z"
   },
   {
    "duration": 4,
    "start_time": "2022-09-06T10:42:38.505Z"
   },
   {
    "duration": 5,
    "start_time": "2022-09-06T10:43:11.525Z"
   },
   {
    "duration": 3,
    "start_time": "2022-09-06T10:46:23.247Z"
   },
   {
    "duration": 6,
    "start_time": "2022-09-06T10:46:28.472Z"
   },
   {
    "duration": 5,
    "start_time": "2022-09-06T10:47:08.012Z"
   },
   {
    "duration": 70,
    "start_time": "2022-09-06T10:53:44.433Z"
   },
   {
    "duration": 5,
    "start_time": "2022-09-06T10:53:59.541Z"
   },
   {
    "duration": 7,
    "start_time": "2022-09-06T10:54:10.656Z"
   },
   {
    "duration": 23,
    "start_time": "2022-09-06T10:56:11.293Z"
   },
   {
    "duration": 18,
    "start_time": "2022-09-06T10:56:20.279Z"
   },
   {
    "duration": 41,
    "start_time": "2022-09-06T10:58:35.253Z"
   },
   {
    "duration": 7,
    "start_time": "2022-09-06T10:58:38.909Z"
   },
   {
    "duration": 4,
    "start_time": "2022-09-06T11:01:31.404Z"
   },
   {
    "duration": 851,
    "start_time": "2022-09-06T11:02:32.722Z"
   },
   {
    "duration": 2587,
    "start_time": "2022-09-06T11:10:28.453Z"
   },
   {
    "duration": 919,
    "start_time": "2022-09-06T11:10:55.130Z"
   },
   {
    "duration": 784,
    "start_time": "2022-09-06T11:12:46.110Z"
   },
   {
    "duration": 631,
    "start_time": "2022-09-06T11:23:15.597Z"
   },
   {
    "duration": 4,
    "start_time": "2022-09-06T11:23:36.538Z"
   },
   {
    "duration": 18,
    "start_time": "2022-09-06T11:23:57.641Z"
   },
   {
    "duration": 691,
    "start_time": "2022-09-06T11:24:31.736Z"
   },
   {
    "duration": 1264,
    "start_time": "2022-09-06T11:49:37.836Z"
   },
   {
    "duration": 17,
    "start_time": "2022-09-06T11:49:58.902Z"
   },
   {
    "duration": 730,
    "start_time": "2022-09-06T11:50:32.770Z"
   },
   {
    "duration": 4,
    "start_time": "2022-09-06T11:51:04.533Z"
   },
   {
    "duration": 703,
    "start_time": "2022-09-06T11:51:31.231Z"
   },
   {
    "duration": 677,
    "start_time": "2022-09-06T11:52:55.797Z"
   },
   {
    "duration": 1017,
    "start_time": "2022-09-06T11:53:22.501Z"
   },
   {
    "duration": 799,
    "start_time": "2022-09-06T11:53:37.733Z"
   },
   {
    "duration": 4,
    "start_time": "2022-09-06T12:09:36.572Z"
   },
   {
    "duration": 17,
    "start_time": "2022-09-06T12:10:37.619Z"
   },
   {
    "duration": 25,
    "start_time": "2022-09-06T12:11:44.252Z"
   },
   {
    "duration": 18,
    "start_time": "2022-09-06T12:12:04.335Z"
   },
   {
    "duration": 7,
    "start_time": "2022-09-06T12:16:04.782Z"
   },
   {
    "duration": 10,
    "start_time": "2022-09-06T12:16:05.498Z"
   },
   {
    "duration": 3,
    "start_time": "2022-09-06T12:16:06.040Z"
   },
   {
    "duration": 5,
    "start_time": "2022-09-06T12:16:06.638Z"
   },
   {
    "duration": 3,
    "start_time": "2022-09-06T12:16:09.315Z"
   },
   {
    "duration": 5,
    "start_time": "2022-09-06T12:16:26.034Z"
   },
   {
    "duration": 5,
    "start_time": "2022-09-06T12:16:26.919Z"
   },
   {
    "duration": 6,
    "start_time": "2022-09-06T12:16:31.057Z"
   },
   {
    "duration": 3,
    "start_time": "2022-09-06T12:16:31.740Z"
   },
   {
    "duration": 4,
    "start_time": "2022-09-06T12:16:32.433Z"
   },
   {
    "duration": 6,
    "start_time": "2022-09-06T12:16:56.997Z"
   },
   {
    "duration": 10,
    "start_time": "2022-09-06T12:16:57.367Z"
   },
   {
    "duration": 9,
    "start_time": "2022-09-06T12:16:58.030Z"
   },
   {
    "duration": 3,
    "start_time": "2022-09-06T12:16:58.602Z"
   },
   {
    "duration": 11,
    "start_time": "2022-09-06T12:16:59.271Z"
   },
   {
    "duration": 3,
    "start_time": "2022-09-06T12:17:01.921Z"
   },
   {
    "duration": 7,
    "start_time": "2022-09-06T12:17:06.035Z"
   },
   {
    "duration": 5,
    "start_time": "2022-09-06T12:17:13.214Z"
   },
   {
    "duration": 10,
    "start_time": "2022-09-06T12:17:17.154Z"
   },
   {
    "duration": 4,
    "start_time": "2022-09-06T12:17:20.016Z"
   },
   {
    "duration": 8,
    "start_time": "2022-09-06T12:17:32.077Z"
   },
   {
    "duration": 9,
    "start_time": "2022-09-06T12:17:52.778Z"
   },
   {
    "duration": 7,
    "start_time": "2022-09-06T12:17:53.389Z"
   },
   {
    "duration": 12,
    "start_time": "2022-09-06T12:17:54.980Z"
   },
   {
    "duration": 3,
    "start_time": "2022-09-06T12:17:55.692Z"
   },
   {
    "duration": 6,
    "start_time": "2022-09-06T12:17:56.429Z"
   },
   {
    "duration": 4,
    "start_time": "2022-09-06T12:17:58.982Z"
   },
   {
    "duration": 6,
    "start_time": "2022-09-06T12:18:10.126Z"
   },
   {
    "duration": 5,
    "start_time": "2022-09-06T12:18:10.842Z"
   },
   {
    "duration": 5,
    "start_time": "2022-09-06T12:18:11.448Z"
   },
   {
    "duration": 3,
    "start_time": "2022-09-06T12:18:11.891Z"
   },
   {
    "duration": 4,
    "start_time": "2022-09-06T12:18:12.387Z"
   },
   {
    "duration": 6,
    "start_time": "2022-09-06T12:21:06.446Z"
   },
   {
    "duration": 3,
    "start_time": "2022-09-06T12:21:07.216Z"
   },
   {
    "duration": 6,
    "start_time": "2022-09-06T12:21:08.052Z"
   },
   {
    "duration": 6,
    "start_time": "2022-09-06T12:21:08.778Z"
   },
   {
    "duration": 8,
    "start_time": "2022-09-06T12:21:09.476Z"
   },
   {
    "duration": 5,
    "start_time": "2022-09-06T12:21:10.116Z"
   },
   {
    "duration": 7,
    "start_time": "2022-09-06T12:21:10.786Z"
   },
   {
    "duration": 6,
    "start_time": "2022-09-06T12:23:16.383Z"
   },
   {
    "duration": 11,
    "start_time": "2022-09-06T12:23:17.957Z"
   },
   {
    "duration": 7,
    "start_time": "2022-09-06T12:25:58.855Z"
   },
   {
    "duration": 6,
    "start_time": "2022-09-06T12:26:49.211Z"
   },
   {
    "duration": 1118,
    "start_time": "2022-09-06T12:30:42.086Z"
   },
   {
    "duration": 106,
    "start_time": "2022-09-06T12:30:43.205Z"
   },
   {
    "duration": 14,
    "start_time": "2022-09-06T12:30:43.313Z"
   },
   {
    "duration": 40,
    "start_time": "2022-09-06T12:30:43.329Z"
   },
   {
    "duration": 8,
    "start_time": "2022-09-06T12:30:43.374Z"
   },
   {
    "duration": 19,
    "start_time": "2022-09-06T12:30:43.385Z"
   },
   {
    "duration": 16,
    "start_time": "2022-09-06T12:30:43.406Z"
   },
   {
    "duration": 15,
    "start_time": "2022-09-06T12:30:43.424Z"
   },
   {
    "duration": 4,
    "start_time": "2022-09-06T12:30:43.441Z"
   },
   {
    "duration": 18,
    "start_time": "2022-09-06T12:30:43.447Z"
   },
   {
    "duration": 29,
    "start_time": "2022-09-06T12:30:43.475Z"
   },
   {
    "duration": 12,
    "start_time": "2022-09-06T12:30:43.506Z"
   },
   {
    "duration": 4,
    "start_time": "2022-09-06T12:30:43.520Z"
   },
   {
    "duration": 17,
    "start_time": "2022-09-06T12:30:43.527Z"
   },
   {
    "duration": 367,
    "start_time": "2022-09-06T12:30:43.545Z"
   },
   {
    "duration": 354,
    "start_time": "2022-09-06T12:30:43.914Z"
   },
   {
    "duration": 304,
    "start_time": "2022-09-06T12:30:44.275Z"
   },
   {
    "duration": 14,
    "start_time": "2022-09-06T12:30:44.584Z"
   },
   {
    "duration": 18,
    "start_time": "2022-09-06T12:30:44.599Z"
   },
   {
    "duration": 311,
    "start_time": "2022-09-06T12:30:44.618Z"
   },
   {
    "duration": 36,
    "start_time": "2022-09-06T12:30:44.931Z"
   },
   {
    "duration": 17,
    "start_time": "2022-09-06T12:30:44.969Z"
   },
   {
    "duration": 160,
    "start_time": "2022-09-06T12:30:44.988Z"
   },
   {
    "duration": 18,
    "start_time": "2022-09-06T12:30:45.150Z"
   },
   {
    "duration": 390,
    "start_time": "2022-09-06T12:30:45.170Z"
   },
   {
    "duration": 18,
    "start_time": "2022-09-06T12:30:45.566Z"
   },
   {
    "duration": 306,
    "start_time": "2022-09-06T12:30:45.585Z"
   },
   {
    "duration": 12,
    "start_time": "2022-09-06T12:30:45.893Z"
   },
   {
    "duration": 280,
    "start_time": "2022-09-06T12:30:45.906Z"
   },
   {
    "duration": 230,
    "start_time": "2022-09-06T12:30:46.188Z"
   },
   {
    "duration": 191,
    "start_time": "2022-09-06T12:30:46.419Z"
   },
   {
    "duration": 18,
    "start_time": "2022-09-06T12:30:46.612Z"
   },
   {
    "duration": 821,
    "start_time": "2022-09-06T12:30:46.631Z"
   },
   {
    "duration": 22,
    "start_time": "2022-09-06T12:30:47.454Z"
   },
   {
    "duration": 826,
    "start_time": "2022-09-06T12:30:47.478Z"
   },
   {
    "duration": 16,
    "start_time": "2022-09-06T12:30:48.306Z"
   },
   {
    "duration": 843,
    "start_time": "2022-09-06T12:30:48.323Z"
   },
   {
    "duration": 29,
    "start_time": "2022-09-06T12:30:49.168Z"
   },
   {
    "duration": 819,
    "start_time": "2022-09-06T12:30:49.199Z"
   },
   {
    "duration": 18,
    "start_time": "2022-09-06T12:30:50.020Z"
   },
   {
    "duration": 29,
    "start_time": "2022-09-06T12:30:50.043Z"
   },
   {
    "duration": 729,
    "start_time": "2022-09-06T12:30:50.073Z"
   },
   {
    "duration": 17,
    "start_time": "2022-09-06T12:30:50.804Z"
   },
   {
    "duration": 753,
    "start_time": "2022-09-06T12:30:50.823Z"
   },
   {
    "duration": 23,
    "start_time": "2022-09-06T12:30:51.577Z"
   },
   {
    "duration": 19,
    "start_time": "2022-09-06T12:30:51.602Z"
   },
   {
    "duration": 257,
    "start_time": "2022-09-06T12:30:51.623Z"
   },
   {
    "duration": 21,
    "start_time": "2022-09-06T12:30:51.881Z"
   },
   {
    "duration": 8,
    "start_time": "2022-09-06T12:30:51.903Z"
   },
   {
    "duration": 242,
    "start_time": "2022-09-06T12:30:51.912Z"
   },
   {
    "duration": 31,
    "start_time": "2022-09-06T12:30:52.155Z"
   },
   {
    "duration": 35,
    "start_time": "2022-09-06T12:30:52.189Z"
   },
   {
    "duration": 215,
    "start_time": "2022-09-06T12:30:52.226Z"
   },
   {
    "duration": 7,
    "start_time": "2022-09-06T12:30:52.443Z"
   },
   {
    "duration": 36,
    "start_time": "2022-09-06T12:30:52.452Z"
   },
   {
    "duration": 29,
    "start_time": "2022-09-06T12:30:52.490Z"
   },
   {
    "duration": 22,
    "start_time": "2022-09-06T12:30:52.521Z"
   },
   {
    "duration": 44,
    "start_time": "2022-09-06T12:30:52.545Z"
   },
   {
    "duration": 15,
    "start_time": "2022-09-06T12:30:52.590Z"
   },
   {
    "duration": 29,
    "start_time": "2022-09-06T12:30:52.606Z"
   },
   {
    "duration": 20,
    "start_time": "2022-09-06T12:30:52.636Z"
   },
   {
    "duration": 52,
    "start_time": "2022-09-06T12:30:52.657Z"
   },
   {
    "duration": 16,
    "start_time": "2022-09-06T12:30:52.710Z"
   },
   {
    "duration": 22,
    "start_time": "2022-09-06T12:30:52.727Z"
   },
   {
    "duration": 56,
    "start_time": "2022-09-06T12:30:52.750Z"
   },
   {
    "duration": 32,
    "start_time": "2022-09-06T12:30:52.808Z"
   },
   {
    "duration": 58,
    "start_time": "2022-09-06T12:30:52.842Z"
   },
   {
    "duration": 38,
    "start_time": "2022-09-06T12:30:52.901Z"
   },
   {
    "duration": 50,
    "start_time": "2022-09-06T12:30:52.941Z"
   },
   {
    "duration": 22,
    "start_time": "2022-09-06T12:30:52.992Z"
   },
   {
    "duration": 38,
    "start_time": "2022-09-06T12:30:53.017Z"
   },
   {
    "duration": 47,
    "start_time": "2022-09-06T12:30:53.056Z"
   },
   {
    "duration": 28,
    "start_time": "2022-09-06T12:30:53.105Z"
   },
   {
    "duration": 78,
    "start_time": "2022-09-06T12:30:53.135Z"
   },
   {
    "duration": 44,
    "start_time": "2022-09-06T12:30:53.215Z"
   },
   {
    "duration": 19,
    "start_time": "2022-09-06T13:08:28.328Z"
   },
   {
    "duration": 45,
    "start_time": "2022-09-06T13:12:09.056Z"
   },
   {
    "duration": 1428,
    "start_time": "2022-09-06T13:55:56.716Z"
   },
   {
    "duration": 531,
    "start_time": "2022-09-06T13:55:58.146Z"
   },
   {
    "duration": 18,
    "start_time": "2022-09-06T13:55:58.679Z"
   },
   {
    "duration": 31,
    "start_time": "2022-09-06T13:55:58.700Z"
   },
   {
    "duration": 4,
    "start_time": "2022-09-06T13:55:58.732Z"
   },
   {
    "duration": 36,
    "start_time": "2022-09-06T13:55:58.737Z"
   },
   {
    "duration": 20,
    "start_time": "2022-09-06T13:55:58.774Z"
   },
   {
    "duration": 22,
    "start_time": "2022-09-06T13:55:58.796Z"
   },
   {
    "duration": 5,
    "start_time": "2022-09-06T13:55:58.820Z"
   },
   {
    "duration": 10,
    "start_time": "2022-09-06T13:55:58.828Z"
   },
   {
    "duration": 24,
    "start_time": "2022-09-06T13:55:58.840Z"
   },
   {
    "duration": 45,
    "start_time": "2022-09-06T13:55:58.866Z"
   },
   {
    "duration": 4,
    "start_time": "2022-09-06T13:55:58.913Z"
   },
   {
    "duration": 17,
    "start_time": "2022-09-06T13:55:58.919Z"
   },
   {
    "duration": 409,
    "start_time": "2022-09-06T13:55:58.938Z"
   },
   {
    "duration": 408,
    "start_time": "2022-09-06T13:55:59.348Z"
   },
   {
    "duration": 333,
    "start_time": "2022-09-06T13:55:59.758Z"
   },
   {
    "duration": 21,
    "start_time": "2022-09-06T13:56:00.094Z"
   },
   {
    "duration": 36,
    "start_time": "2022-09-06T13:56:00.117Z"
   },
   {
    "duration": 341,
    "start_time": "2022-09-06T13:56:00.154Z"
   },
   {
    "duration": 38,
    "start_time": "2022-09-06T13:56:00.498Z"
   },
   {
    "duration": 10,
    "start_time": "2022-09-06T13:56:00.537Z"
   },
   {
    "duration": 212,
    "start_time": "2022-09-06T13:56:00.548Z"
   },
   {
    "duration": 13,
    "start_time": "2022-09-06T13:56:00.762Z"
   },
   {
    "duration": 373,
    "start_time": "2022-09-06T13:56:00.777Z"
   },
   {
    "duration": 13,
    "start_time": "2022-09-06T13:56:01.152Z"
   },
   {
    "duration": 304,
    "start_time": "2022-09-06T13:56:01.167Z"
   },
   {
    "duration": 29,
    "start_time": "2022-09-06T13:56:01.475Z"
   },
   {
    "duration": 311,
    "start_time": "2022-09-06T13:56:01.506Z"
   },
   {
    "duration": 300,
    "start_time": "2022-09-06T13:56:01.819Z"
   },
   {
    "duration": 292,
    "start_time": "2022-09-06T13:56:02.121Z"
   },
   {
    "duration": 21,
    "start_time": "2022-09-06T13:56:02.415Z"
   },
   {
    "duration": 942,
    "start_time": "2022-09-06T13:56:02.437Z"
   },
   {
    "duration": 31,
    "start_time": "2022-09-06T13:56:03.382Z"
   },
   {
    "duration": 944,
    "start_time": "2022-09-06T13:56:03.414Z"
   },
   {
    "duration": 19,
    "start_time": "2022-09-06T13:56:04.360Z"
   },
   {
    "duration": 918,
    "start_time": "2022-09-06T13:56:04.391Z"
   },
   {
    "duration": 17,
    "start_time": "2022-09-06T13:56:05.311Z"
   },
   {
    "duration": 861,
    "start_time": "2022-09-06T13:56:05.329Z"
   },
   {
    "duration": 23,
    "start_time": "2022-09-06T13:56:06.192Z"
   },
   {
    "duration": 37,
    "start_time": "2022-09-06T13:56:06.216Z"
   },
   {
    "duration": 765,
    "start_time": "2022-09-06T13:56:06.255Z"
   },
   {
    "duration": 18,
    "start_time": "2022-09-06T13:56:07.021Z"
   },
   {
    "duration": 805,
    "start_time": "2022-09-06T13:56:07.040Z"
   },
   {
    "duration": 18,
    "start_time": "2022-09-06T13:56:07.847Z"
   },
   {
    "duration": 29,
    "start_time": "2022-09-06T13:56:07.866Z"
   },
   {
    "duration": 264,
    "start_time": "2022-09-06T13:56:07.896Z"
   },
   {
    "duration": 19,
    "start_time": "2022-09-06T13:56:08.162Z"
   },
   {
    "duration": 19,
    "start_time": "2022-09-06T13:56:08.191Z"
   },
   {
    "duration": 236,
    "start_time": "2022-09-06T13:56:08.211Z"
   },
   {
    "duration": 18,
    "start_time": "2022-09-06T13:56:08.448Z"
   },
   {
    "duration": 6,
    "start_time": "2022-09-06T13:56:08.468Z"
   },
   {
    "duration": 240,
    "start_time": "2022-09-06T13:56:08.475Z"
   },
   {
    "duration": 7,
    "start_time": "2022-09-06T13:56:08.716Z"
   },
   {
    "duration": 14,
    "start_time": "2022-09-06T13:56:08.725Z"
   },
   {
    "duration": 20,
    "start_time": "2022-09-06T13:56:08.740Z"
   },
   {
    "duration": 11,
    "start_time": "2022-09-06T13:56:08.761Z"
   },
   {
    "duration": 14,
    "start_time": "2022-09-06T13:56:08.774Z"
   },
   {
    "duration": 41,
    "start_time": "2022-09-06T13:56:08.789Z"
   },
   {
    "duration": 37,
    "start_time": "2022-09-06T13:56:08.832Z"
   },
   {
    "duration": 32,
    "start_time": "2022-09-06T13:56:08.871Z"
   },
   {
    "duration": 7,
    "start_time": "2022-09-06T13:56:08.905Z"
   },
   {
    "duration": 44,
    "start_time": "2022-09-06T13:56:08.914Z"
   },
   {
    "duration": 19,
    "start_time": "2022-09-06T13:56:08.960Z"
   },
   {
    "duration": 11,
    "start_time": "2022-09-06T13:56:08.981Z"
   },
   {
    "duration": 25,
    "start_time": "2022-09-06T13:56:08.994Z"
   },
   {
    "duration": 18,
    "start_time": "2022-09-06T13:56:09.020Z"
   },
   {
    "duration": 16,
    "start_time": "2022-09-06T13:56:09.040Z"
   },
   {
    "duration": 11,
    "start_time": "2022-09-06T13:56:09.058Z"
   },
   {
    "duration": 34,
    "start_time": "2022-09-06T13:56:09.071Z"
   },
   {
    "duration": 11,
    "start_time": "2022-09-06T13:56:09.107Z"
   },
   {
    "duration": 8,
    "start_time": "2022-09-06T13:56:09.120Z"
   },
   {
    "duration": 5,
    "start_time": "2022-09-06T13:56:09.130Z"
   },
   {
    "duration": 11,
    "start_time": "2022-09-06T13:56:09.137Z"
   },
   {
    "duration": 14,
    "start_time": "2022-09-06T13:56:09.150Z"
   },
   {
    "duration": 1192,
    "start_time": "2022-09-07T10:17:15.211Z"
   },
   {
    "duration": 207,
    "start_time": "2022-09-07T10:17:16.405Z"
   },
   {
    "duration": 15,
    "start_time": "2022-09-07T10:17:16.614Z"
   },
   {
    "duration": 22,
    "start_time": "2022-09-07T10:17:16.631Z"
   },
   {
    "duration": 5,
    "start_time": "2022-09-07T10:17:16.655Z"
   },
   {
    "duration": 23,
    "start_time": "2022-09-07T10:17:16.661Z"
   },
   {
    "duration": 27,
    "start_time": "2022-09-07T10:17:16.685Z"
   },
   {
    "duration": 16,
    "start_time": "2022-09-07T10:17:16.713Z"
   },
   {
    "duration": 5,
    "start_time": "2022-09-07T10:17:16.730Z"
   },
   {
    "duration": 10,
    "start_time": "2022-09-07T10:17:16.737Z"
   },
   {
    "duration": 23,
    "start_time": "2022-09-07T10:17:16.749Z"
   },
   {
    "duration": 13,
    "start_time": "2022-09-07T10:17:16.774Z"
   },
   {
    "duration": 5,
    "start_time": "2022-09-07T10:17:16.809Z"
   },
   {
    "duration": 23,
    "start_time": "2022-09-07T10:17:16.815Z"
   },
   {
    "duration": 339,
    "start_time": "2022-09-07T10:17:16.840Z"
   },
   {
    "duration": 374,
    "start_time": "2022-09-07T10:17:17.181Z"
   },
   {
    "duration": 326,
    "start_time": "2022-09-07T10:17:17.557Z"
   },
   {
    "duration": 23,
    "start_time": "2022-09-07T10:17:17.886Z"
   },
   {
    "duration": 21,
    "start_time": "2022-09-07T10:17:17.910Z"
   },
   {
    "duration": 293,
    "start_time": "2022-09-07T10:17:17.933Z"
   },
   {
    "duration": 29,
    "start_time": "2022-09-07T10:17:18.228Z"
   },
   {
    "duration": 9,
    "start_time": "2022-09-07T10:17:18.258Z"
   },
   {
    "duration": 143,
    "start_time": "2022-09-07T10:17:18.268Z"
   },
   {
    "duration": 11,
    "start_time": "2022-09-07T10:17:18.413Z"
   },
   {
    "duration": 283,
    "start_time": "2022-09-07T10:17:18.426Z"
   },
   {
    "duration": 10,
    "start_time": "2022-09-07T10:17:18.712Z"
   },
   {
    "duration": 239,
    "start_time": "2022-09-07T10:17:18.723Z"
   },
   {
    "duration": 12,
    "start_time": "2022-09-07T10:17:18.966Z"
   },
   {
    "duration": 259,
    "start_time": "2022-09-07T10:17:18.979Z"
   },
   {
    "duration": 200,
    "start_time": "2022-09-07T10:17:19.239Z"
   },
   {
    "duration": 175,
    "start_time": "2022-09-07T10:17:19.441Z"
   },
   {
    "duration": 18,
    "start_time": "2022-09-07T10:17:19.618Z"
   },
   {
    "duration": 753,
    "start_time": "2022-09-07T10:17:19.638Z"
   },
   {
    "duration": 24,
    "start_time": "2022-09-07T10:17:20.392Z"
   },
   {
    "duration": 773,
    "start_time": "2022-09-07T10:17:20.417Z"
   },
   {
    "duration": 23,
    "start_time": "2022-09-07T10:17:21.192Z"
   },
   {
    "duration": 786,
    "start_time": "2022-09-07T10:17:21.217Z"
   },
   {
    "duration": 17,
    "start_time": "2022-09-07T10:17:22.005Z"
   },
   {
    "duration": 746,
    "start_time": "2022-09-07T10:17:22.023Z"
   },
   {
    "duration": 19,
    "start_time": "2022-09-07T10:17:22.771Z"
   },
   {
    "duration": 38,
    "start_time": "2022-09-07T10:17:22.792Z"
   },
   {
    "duration": 653,
    "start_time": "2022-09-07T10:17:22.832Z"
   },
   {
    "duration": 27,
    "start_time": "2022-09-07T10:17:23.487Z"
   },
   {
    "duration": 638,
    "start_time": "2022-09-07T10:17:23.515Z"
   },
   {
    "duration": 16,
    "start_time": "2022-09-07T10:17:24.154Z"
   },
   {
    "duration": 9,
    "start_time": "2022-09-07T10:17:24.172Z"
   },
   {
    "duration": 202,
    "start_time": "2022-09-07T10:17:24.182Z"
   },
   {
    "duration": 23,
    "start_time": "2022-09-07T10:17:24.386Z"
   },
   {
    "duration": 3,
    "start_time": "2022-09-07T10:17:24.411Z"
   },
   {
    "duration": 204,
    "start_time": "2022-09-07T10:17:24.416Z"
   },
   {
    "duration": 15,
    "start_time": "2022-09-07T10:17:24.622Z"
   },
   {
    "duration": 26,
    "start_time": "2022-09-07T10:17:24.639Z"
   },
   {
    "duration": 185,
    "start_time": "2022-09-07T10:17:24.666Z"
   },
   {
    "duration": 7,
    "start_time": "2022-09-07T10:17:24.853Z"
   },
   {
    "duration": 16,
    "start_time": "2022-09-07T10:17:24.862Z"
   },
   {
    "duration": 17,
    "start_time": "2022-09-07T10:17:24.880Z"
   },
   {
    "duration": 6,
    "start_time": "2022-09-07T10:17:24.899Z"
   },
   {
    "duration": 25,
    "start_time": "2022-09-07T10:17:24.907Z"
   },
   {
    "duration": 7,
    "start_time": "2022-09-07T10:17:24.934Z"
   },
   {
    "duration": 22,
    "start_time": "2022-09-07T10:17:24.942Z"
   },
   {
    "duration": 11,
    "start_time": "2022-09-07T10:17:24.966Z"
   },
   {
    "duration": 12,
    "start_time": "2022-09-07T10:17:24.979Z"
   },
   {
    "duration": 32,
    "start_time": "2022-09-07T10:17:24.993Z"
   },
   {
    "duration": 24,
    "start_time": "2022-09-07T10:17:25.026Z"
   },
   {
    "duration": 19,
    "start_time": "2022-09-07T10:17:25.051Z"
   },
   {
    "duration": 26,
    "start_time": "2022-09-07T10:17:25.072Z"
   },
   {
    "duration": 17,
    "start_time": "2022-09-07T10:17:25.100Z"
   },
   {
    "duration": 26,
    "start_time": "2022-09-07T10:17:25.119Z"
   },
   {
    "duration": 27,
    "start_time": "2022-09-07T10:17:25.146Z"
   },
   {
    "duration": 13,
    "start_time": "2022-09-07T10:17:25.175Z"
   },
   {
    "duration": 31,
    "start_time": "2022-09-07T10:17:25.190Z"
   },
   {
    "duration": 28,
    "start_time": "2022-09-07T10:17:25.222Z"
   },
   {
    "duration": 15,
    "start_time": "2022-09-07T10:17:25.251Z"
   },
   {
    "duration": 20,
    "start_time": "2022-09-07T10:17:25.267Z"
   },
   {
    "duration": 20,
    "start_time": "2022-09-07T10:17:25.288Z"
   },
   {
    "duration": 73,
    "start_time": "2022-09-08T10:55:34.904Z"
   },
   {
    "duration": 1415,
    "start_time": "2022-09-08T10:55:41.065Z"
   },
   {
    "duration": 140,
    "start_time": "2022-09-08T10:55:42.482Z"
   },
   {
    "duration": 26,
    "start_time": "2022-09-08T10:55:43.820Z"
   },
   {
    "duration": 24,
    "start_time": "2022-09-08T10:55:44.710Z"
   },
   {
    "duration": 4,
    "start_time": "2022-09-08T10:55:47.167Z"
   },
   {
    "duration": 26,
    "start_time": "2022-09-08T10:55:47.839Z"
   },
   {
    "duration": 89,
    "start_time": "2022-09-08T10:55:50.365Z"
   },
   {
    "duration": 20,
    "start_time": "2022-09-08T10:57:12.211Z"
   },
   {
    "duration": 22,
    "start_time": "2022-09-08T10:58:21.687Z"
   },
   {
    "duration": 493,
    "start_time": "2022-09-08T11:19:16.213Z"
   },
   {
    "duration": 6,
    "start_time": "2022-09-08T11:38:07.265Z"
   },
   {
    "duration": 20,
    "start_time": "2022-09-08T11:38:09.906Z"
   },
   {
    "duration": 7,
    "start_time": "2022-09-08T11:54:13.593Z"
   },
   {
    "duration": 27,
    "start_time": "2022-09-08T11:54:14.217Z"
   },
   {
    "duration": 17,
    "start_time": "2022-09-08T11:55:04.590Z"
   },
   {
    "duration": 13,
    "start_time": "2022-09-08T11:55:16.950Z"
   },
   {
    "duration": 31,
    "start_time": "2022-09-08T11:55:29.836Z"
   },
   {
    "duration": 7,
    "start_time": "2022-09-08T11:55:31.015Z"
   },
   {
    "duration": 4,
    "start_time": "2022-09-08T11:55:32.391Z"
   },
   {
    "duration": 19,
    "start_time": "2022-09-08T11:55:33.003Z"
   },
   {
    "duration": 6,
    "start_time": "2022-09-08T11:55:33.477Z"
   },
   {
    "duration": 14,
    "start_time": "2022-09-08T11:55:33.978Z"
   },
   {
    "duration": 540,
    "start_time": "2022-09-08T11:55:38.107Z"
   },
   {
    "duration": 425,
    "start_time": "2022-09-08T11:55:45.506Z"
   },
   {
    "duration": 337,
    "start_time": "2022-09-08T11:55:52.957Z"
   },
   {
    "duration": 30,
    "start_time": "2022-09-08T11:56:00.603Z"
   },
   {
    "duration": 29,
    "start_time": "2022-09-08T11:56:01.278Z"
   },
   {
    "duration": 367,
    "start_time": "2022-09-08T11:56:02.400Z"
   },
   {
    "duration": 46,
    "start_time": "2022-09-08T11:56:09.915Z"
   },
   {
    "duration": 35,
    "start_time": "2022-09-08T12:07:08.682Z"
   },
   {
    "duration": 17,
    "start_time": "2022-09-08T12:07:17.531Z"
   },
   {
    "duration": 12,
    "start_time": "2022-09-08T12:12:42.415Z"
   },
   {
    "duration": 15,
    "start_time": "2022-09-08T12:12:49.250Z"
   },
   {
    "duration": 22,
    "start_time": "2022-09-08T12:12:50.724Z"
   },
   {
    "duration": 355,
    "start_time": "2022-09-08T12:12:51.622Z"
   },
   {
    "duration": 39,
    "start_time": "2022-09-08T12:12:57.854Z"
   },
   {
    "duration": 16,
    "start_time": "2022-09-08T12:13:02.033Z"
   },
   {
    "duration": 249,
    "start_time": "2022-09-08T12:13:20.627Z"
   },
   {
    "duration": 17,
    "start_time": "2022-09-08T12:13:24.576Z"
   },
   {
    "duration": 279,
    "start_time": "2022-09-08T12:13:26.223Z"
   },
   {
    "duration": 18,
    "start_time": "2022-09-08T12:13:28.441Z"
   },
   {
    "duration": 298,
    "start_time": "2022-09-08T12:13:29.987Z"
   },
   {
    "duration": 12,
    "start_time": "2022-09-08T12:13:32.907Z"
   },
   {
    "duration": 308,
    "start_time": "2022-09-08T12:13:33.766Z"
   },
   {
    "duration": 235,
    "start_time": "2022-09-08T12:13:35.924Z"
   },
   {
    "duration": 228,
    "start_time": "2022-09-08T12:13:43.731Z"
   },
   {
    "duration": 22,
    "start_time": "2022-09-08T12:13:49.901Z"
   },
   {
    "duration": 198,
    "start_time": "2022-09-08T12:15:20.538Z"
   },
   {
    "duration": 305,
    "start_time": "2022-09-08T12:15:47.941Z"
   },
   {
    "duration": 280,
    "start_time": "2022-09-08T12:16:09.091Z"
   },
   {
    "duration": 18,
    "start_time": "2022-09-08T12:16:24.547Z"
   },
   {
    "duration": 297,
    "start_time": "2022-09-08T12:17:01.546Z"
   },
   {
    "duration": 265,
    "start_time": "2022-09-08T12:20:39.842Z"
   },
   {
    "duration": 259,
    "start_time": "2022-09-08T12:20:51.139Z"
   },
   {
    "duration": 146,
    "start_time": "2022-09-08T12:21:03.069Z"
   },
   {
    "duration": 356,
    "start_time": "2022-09-08T12:21:15.742Z"
   },
   {
    "duration": 244,
    "start_time": "2022-09-08T12:21:27.269Z"
   },
   {
    "duration": 266,
    "start_time": "2022-09-08T12:21:34.873Z"
   },
   {
    "duration": 62,
    "start_time": "2022-09-08T12:21:56.504Z"
   },
   {
    "duration": 13,
    "start_time": "2022-09-08T12:22:06.793Z"
   },
   {
    "duration": 11,
    "start_time": "2022-09-08T12:22:15.667Z"
   },
   {
    "duration": 11,
    "start_time": "2022-09-08T12:22:19.991Z"
   },
   {
    "duration": 17,
    "start_time": "2022-09-08T12:22:24.132Z"
   },
   {
    "duration": 32,
    "start_time": "2022-09-08T12:22:26.000Z"
   },
   {
    "duration": 262,
    "start_time": "2022-09-08T12:22:34.512Z"
   },
   {
    "duration": 18,
    "start_time": "2022-09-08T12:22:39.891Z"
   },
   {
    "duration": 26,
    "start_time": "2022-09-08T12:25:20.605Z"
   },
   {
    "duration": 278,
    "start_time": "2022-09-08T12:25:27.128Z"
   },
   {
    "duration": 18,
    "start_time": "2022-09-08T12:25:32.813Z"
   },
   {
    "duration": 21,
    "start_time": "2022-09-08T12:33:38.586Z"
   },
   {
    "duration": 6,
    "start_time": "2022-09-08T12:33:41.463Z"
   },
   {
    "duration": 28,
    "start_time": "2022-09-08T12:34:59.174Z"
   },
   {
    "duration": 264,
    "start_time": "2022-09-08T12:35:04.892Z"
   },
   {
    "duration": 19,
    "start_time": "2022-09-08T12:35:42.806Z"
   },
   {
    "duration": 453,
    "start_time": "2022-09-08T12:36:19.861Z"
   },
   {
    "duration": 270,
    "start_time": "2022-09-08T12:36:29.959Z"
   },
   {
    "duration": 19,
    "start_time": "2022-09-08T12:36:35.018Z"
   },
   {
    "duration": 5,
    "start_time": "2022-09-08T12:36:40.875Z"
   },
   {
    "duration": 4,
    "start_time": "2022-09-08T12:36:41.764Z"
   },
   {
    "duration": 4,
    "start_time": "2022-09-08T12:36:43.607Z"
   },
   {
    "duration": 124,
    "start_time": "2022-09-08T12:36:44.359Z"
   },
   {
    "duration": 138,
    "start_time": "2022-09-08T12:36:51.827Z"
   },
   {
    "duration": 19,
    "start_time": "2022-09-08T12:36:55.405Z"
   },
   {
    "duration": 6,
    "start_time": "2022-09-08T12:37:05.447Z"
   },
   {
    "duration": 128,
    "start_time": "2022-09-08T12:37:09.561Z"
   },
   {
    "duration": 19,
    "start_time": "2022-09-08T12:37:35.403Z"
   },
   {
    "duration": 5,
    "start_time": "2022-09-08T12:37:46.812Z"
   },
   {
    "duration": 129,
    "start_time": "2022-09-08T12:41:19.278Z"
   },
   {
    "duration": 240,
    "start_time": "2022-09-08T12:41:23.145Z"
   },
   {
    "duration": 388,
    "start_time": "2022-09-08T12:41:35.973Z"
   },
   {
    "duration": 261,
    "start_time": "2022-09-08T12:52:19.694Z"
   },
   {
    "duration": 22,
    "start_time": "2022-09-08T12:52:27.220Z"
   },
   {
    "duration": 332,
    "start_time": "2022-09-08T12:52:58.991Z"
   },
   {
    "duration": 19,
    "start_time": "2022-09-08T12:53:06.108Z"
   },
   {
    "duration": 5,
    "start_time": "2022-09-08T12:53:09.727Z"
   },
   {
    "duration": 265,
    "start_time": "2022-09-08T12:53:19.274Z"
   },
   {
    "duration": 19,
    "start_time": "2022-09-08T12:53:24.578Z"
   },
   {
    "duration": 6,
    "start_time": "2022-09-08T12:53:26.692Z"
   },
   {
    "duration": 214,
    "start_time": "2022-09-08T12:53:35.487Z"
   },
   {
    "duration": 7,
    "start_time": "2022-09-08T12:53:45.580Z"
   },
   {
    "duration": 7,
    "start_time": "2022-09-08T12:53:46.256Z"
   },
   {
    "duration": 13,
    "start_time": "2022-09-08T12:53:49.107Z"
   },
   {
    "duration": 3,
    "start_time": "2022-09-08T12:53:49.781Z"
   },
   {
    "duration": 7,
    "start_time": "2022-09-08T12:53:51.156Z"
   },
   {
    "duration": 4,
    "start_time": "2022-09-08T12:53:53.371Z"
   },
   {
    "duration": 7,
    "start_time": "2022-09-08T12:53:56.094Z"
   },
   {
    "duration": 5,
    "start_time": "2022-09-08T12:53:57.950Z"
   },
   {
    "duration": 6,
    "start_time": "2022-09-08T12:54:02.339Z"
   },
   {
    "duration": 11,
    "start_time": "2022-09-08T12:59:51.629Z"
   },
   {
    "duration": 14,
    "start_time": "2022-09-08T13:00:28.756Z"
   },
   {
    "duration": 28,
    "start_time": "2022-09-08T13:04:57.035Z"
   },
   {
    "duration": 7,
    "start_time": "2022-09-08T13:05:21.549Z"
   },
   {
    "duration": 19,
    "start_time": "2022-09-08T13:05:49.745Z"
   },
   {
    "duration": 8,
    "start_time": "2022-09-08T13:06:07.507Z"
   },
   {
    "duration": 8,
    "start_time": "2022-09-08T13:06:12.779Z"
   },
   {
    "duration": 9,
    "start_time": "2022-09-08T13:06:13.338Z"
   },
   {
    "duration": 4,
    "start_time": "2022-09-08T13:06:13.948Z"
   },
   {
    "duration": 6,
    "start_time": "2022-09-08T13:06:14.624Z"
   },
   {
    "duration": 3,
    "start_time": "2022-09-08T13:06:17.599Z"
   },
   {
    "duration": 7,
    "start_time": "2022-09-08T13:06:18.666Z"
   },
   {
    "duration": 6,
    "start_time": "2022-09-08T13:06:22.790Z"
   },
   {
    "duration": 6,
    "start_time": "2022-09-08T13:06:25.218Z"
   },
   {
    "duration": 4,
    "start_time": "2022-09-08T13:06:26.853Z"
   },
   {
    "duration": 5,
    "start_time": "2022-09-08T13:06:28.796Z"
   },
   {
    "duration": 7,
    "start_time": "2022-09-08T13:06:40.534Z"
   },
   {
    "duration": 7,
    "start_time": "2022-09-08T13:06:41.227Z"
   },
   {
    "duration": 10,
    "start_time": "2022-09-08T13:06:42.266Z"
   },
   {
    "duration": 3,
    "start_time": "2022-09-08T13:06:42.793Z"
   },
   {
    "duration": 5,
    "start_time": "2022-09-08T13:06:43.461Z"
   },
   {
    "duration": 3,
    "start_time": "2022-09-08T13:06:44.174Z"
   },
   {
    "duration": 8,
    "start_time": "2022-09-08T13:06:45.146Z"
   },
   {
    "duration": 5,
    "start_time": "2022-09-08T13:06:45.720Z"
   },
   {
    "duration": 4,
    "start_time": "2022-09-08T13:06:46.569Z"
   },
   {
    "duration": 4,
    "start_time": "2022-09-08T13:06:47.463Z"
   },
   {
    "duration": 5,
    "start_time": "2022-09-08T13:06:48.087Z"
   },
   {
    "duration": 4,
    "start_time": "2022-09-08T13:07:06.694Z"
   },
   {
    "duration": 4,
    "start_time": "2022-09-08T13:07:07.253Z"
   },
   {
    "duration": 5,
    "start_time": "2022-09-08T13:07:10.119Z"
   },
   {
    "duration": 5,
    "start_time": "2022-09-08T13:07:15.524Z"
   },
   {
    "duration": 188,
    "start_time": "2022-09-08T13:07:41.044Z"
   },
   {
    "duration": 5,
    "start_time": "2022-09-08T13:07:52.777Z"
   },
   {
    "duration": 5,
    "start_time": "2022-09-08T13:08:20.963Z"
   },
   {
    "duration": 4,
    "start_time": "2022-09-08T13:08:29.316Z"
   },
   {
    "duration": 160,
    "start_time": "2022-09-08T13:09:53.315Z"
   },
   {
    "duration": 6,
    "start_time": "2022-09-08T13:13:28.483Z"
   },
   {
    "duration": 1931,
    "start_time": "2022-09-08T13:14:03.287Z"
   },
   {
    "duration": 2282,
    "start_time": "2022-09-08T13:14:13.310Z"
   },
   {
    "duration": 3,
    "start_time": "2022-09-08T13:14:38.459Z"
   },
   {
    "duration": 160,
    "start_time": "2022-09-08T13:14:38.646Z"
   },
   {
    "duration": 19,
    "start_time": "2022-09-08T13:14:39.800Z"
   },
   {
    "duration": 40,
    "start_time": "2022-09-08T13:14:39.823Z"
   },
   {
    "duration": 4,
    "start_time": "2022-09-08T13:14:40.505Z"
   },
   {
    "duration": 16,
    "start_time": "2022-09-08T13:14:40.727Z"
   },
   {
    "duration": 21,
    "start_time": "2022-09-08T13:14:41.324Z"
   },
   {
    "duration": 19,
    "start_time": "2022-09-08T13:14:42.503Z"
   },
   {
    "duration": 6,
    "start_time": "2022-09-08T13:14:42.780Z"
   },
   {
    "duration": 5,
    "start_time": "2022-09-08T13:14:44.591Z"
   },
   {
    "duration": 37,
    "start_time": "2022-09-08T13:14:44.598Z"
   },
   {
    "duration": 19,
    "start_time": "2022-09-08T13:14:44.637Z"
   },
   {
    "duration": 44,
    "start_time": "2022-09-08T13:14:44.658Z"
   },
   {
    "duration": 386,
    "start_time": "2022-09-08T13:14:47.265Z"
   },
   {
    "duration": 375,
    "start_time": "2022-09-08T13:14:48.193Z"
   },
   {
    "duration": 348,
    "start_time": "2022-09-08T13:14:50.867Z"
   },
   {
    "duration": 17,
    "start_time": "2022-09-08T13:14:52.180Z"
   },
   {
    "duration": 28,
    "start_time": "2022-09-08T13:14:52.615Z"
   },
   {
    "duration": 459,
    "start_time": "2022-09-08T13:14:53.083Z"
   },
   {
    "duration": 38,
    "start_time": "2022-09-08T13:14:56.173Z"
   },
   {
    "duration": 11,
    "start_time": "2022-09-08T13:14:57.367Z"
   },
   {
    "duration": 19,
    "start_time": "2022-09-08T13:15:01.126Z"
   },
   {
    "duration": 191,
    "start_time": "2022-09-08T13:15:02.417Z"
   },
   {
    "duration": 17,
    "start_time": "2022-09-08T13:15:03.816Z"
   },
   {
    "duration": 296,
    "start_time": "2022-09-08T13:15:04.392Z"
   },
   {
    "duration": 14,
    "start_time": "2022-09-08T13:15:05.980Z"
   },
   {
    "duration": 287,
    "start_time": "2022-09-08T13:15:06.519Z"
   },
   {
    "duration": 14,
    "start_time": "2022-09-08T13:15:06.973Z"
   },
   {
    "duration": 312,
    "start_time": "2022-09-08T13:15:07.483Z"
   },
   {
    "duration": 237,
    "start_time": "2022-09-08T13:15:08.543Z"
   },
   {
    "duration": 214,
    "start_time": "2022-09-08T13:15:11.387Z"
   },
   {
    "duration": 27,
    "start_time": "2022-09-08T13:15:14.006Z"
   },
   {
    "duration": 264,
    "start_time": "2022-09-08T13:15:17.832Z"
   },
   {
    "duration": 21,
    "start_time": "2022-09-08T13:15:18.384Z"
   },
   {
    "duration": 349,
    "start_time": "2022-09-08T13:15:18.954Z"
   },
   {
    "duration": 24,
    "start_time": "2022-09-08T13:15:19.584Z"
   },
   {
    "duration": 272,
    "start_time": "2022-09-08T13:15:20.289Z"
   },
   {
    "duration": 19,
    "start_time": "2022-09-08T13:15:22.924Z"
   },
   {
    "duration": 294,
    "start_time": "2022-09-08T13:15:23.783Z"
   },
   {
    "duration": 19,
    "start_time": "2022-09-08T13:15:24.315Z"
   },
   {
    "duration": 269,
    "start_time": "2022-09-08T13:15:24.994Z"
   },
   {
    "duration": 25,
    "start_time": "2022-09-08T13:15:25.529Z"
   },
   {
    "duration": 271,
    "start_time": "2022-09-08T13:15:26.375Z"
   },
   {
    "duration": 22,
    "start_time": "2022-09-08T13:15:28.205Z"
   },
   {
    "duration": 6,
    "start_time": "2022-09-08T13:15:28.837Z"
   },
   {
    "duration": 258,
    "start_time": "2022-09-08T13:15:29.420Z"
   },
   {
    "duration": 18,
    "start_time": "2022-09-08T13:15:29.988Z"
   },
   {
    "duration": 4,
    "start_time": "2022-09-08T13:15:30.620Z"
   },
   {
    "duration": 380,
    "start_time": "2022-09-08T13:15:31.232Z"
   },
   {
    "duration": 25,
    "start_time": "2022-09-08T13:15:31.846Z"
   },
   {
    "duration": 6,
    "start_time": "2022-09-08T13:15:32.422Z"
   },
   {
    "duration": 245,
    "start_time": "2022-09-08T13:15:32.952Z"
   },
   {
    "duration": 2583,
    "start_time": "2022-09-08T13:15:37.487Z"
   },
   {
    "duration": 2348,
    "start_time": "2022-09-08T13:15:56.260Z"
   },
   {
    "duration": 877,
    "start_time": "2022-09-08T13:18:05.404Z"
   },
   {
    "duration": 4,
    "start_time": "2022-09-08T13:18:28.761Z"
   },
   {
    "duration": 18,
    "start_time": "2022-09-08T13:18:45.463Z"
   },
   {
    "duration": 19,
    "start_time": "2022-09-08T13:19:31.817Z"
   },
   {
    "duration": 9,
    "start_time": "2022-09-08T13:20:31.705Z"
   },
   {
    "duration": 8,
    "start_time": "2022-09-08T13:20:35.288Z"
   },
   {
    "duration": 14,
    "start_time": "2022-09-08T13:20:41.422Z"
   },
   {
    "duration": 4,
    "start_time": "2022-09-08T13:20:42.048Z"
   },
   {
    "duration": 7,
    "start_time": "2022-09-08T13:20:42.847Z"
   },
   {
    "duration": 18,
    "start_time": "2022-09-08T13:20:50.496Z"
   },
   {
    "duration": 17,
    "start_time": "2022-09-08T13:20:51.191Z"
   },
   {
    "duration": 9,
    "start_time": "2022-09-08T13:20:52.382Z"
   },
   {
    "duration": 8,
    "start_time": "2022-09-08T13:20:53.390Z"
   },
   {
    "duration": 10,
    "start_time": "2022-09-08T13:20:54.146Z"
   },
   {
    "duration": 4,
    "start_time": "2022-09-08T13:20:54.682Z"
   },
   {
    "duration": 6,
    "start_time": "2022-09-08T13:20:55.214Z"
   },
   {
    "duration": 10,
    "start_time": "2022-09-08T13:21:27.206Z"
   },
   {
    "duration": 4,
    "start_time": "2022-09-08T13:21:29.405Z"
   },
   {
    "duration": 6,
    "start_time": "2022-09-08T13:21:30.836Z"
   },
   {
    "duration": 3,
    "start_time": "2022-09-08T13:21:33.215Z"
   },
   {
    "duration": 7,
    "start_time": "2022-09-08T13:21:39.393Z"
   },
   {
    "duration": 6,
    "start_time": "2022-09-08T13:21:42.547Z"
   },
   {
    "duration": 6,
    "start_time": "2022-09-08T13:21:45.490Z"
   },
   {
    "duration": 5,
    "start_time": "2022-09-08T13:21:46.538Z"
   },
   {
    "duration": 5,
    "start_time": "2022-09-08T13:21:48.480Z"
   },
   {
    "duration": 7,
    "start_time": "2022-09-08T13:22:16.913Z"
   },
   {
    "duration": 8,
    "start_time": "2022-09-08T13:22:17.503Z"
   },
   {
    "duration": 11,
    "start_time": "2022-09-08T13:22:27.095Z"
   },
   {
    "duration": 4,
    "start_time": "2022-09-08T13:22:27.601Z"
   },
   {
    "duration": 6,
    "start_time": "2022-09-08T13:22:28.347Z"
   },
   {
    "duration": 3,
    "start_time": "2022-09-08T13:22:30.562Z"
   },
   {
    "duration": 6,
    "start_time": "2022-09-08T13:22:36.979Z"
   },
   {
    "duration": 5,
    "start_time": "2022-09-08T13:22:39.886Z"
   },
   {
    "duration": 6,
    "start_time": "2022-09-08T13:22:40.588Z"
   },
   {
    "duration": 6,
    "start_time": "2022-09-08T13:22:45.383Z"
   },
   {
    "duration": 11,
    "start_time": "2022-09-08T13:22:55.118Z"
   },
   {
    "duration": 6,
    "start_time": "2022-09-08T13:24:21.217Z"
   },
   {
    "duration": 5,
    "start_time": "2022-09-08T13:24:21.655Z"
   },
   {
    "duration": 3,
    "start_time": "2022-09-09T08:44:51.107Z"
   },
   {
    "duration": 4,
    "start_time": "2022-09-09T08:47:17.095Z"
   },
   {
    "duration": 112,
    "start_time": "2022-09-09T08:47:17.101Z"
   },
   {
    "duration": 21,
    "start_time": "2022-09-09T08:47:33.049Z"
   },
   {
    "duration": 17,
    "start_time": "2022-09-09T08:47:36.400Z"
   },
   {
    "duration": 19,
    "start_time": "2022-09-09T08:49:47.555Z"
   },
   {
    "duration": 3,
    "start_time": "2022-09-09T08:49:51.263Z"
   },
   {
    "duration": 18,
    "start_time": "2022-09-09T08:49:51.867Z"
   },
   {
    "duration": 21,
    "start_time": "2022-09-09T08:49:56.436Z"
   },
   {
    "duration": 19,
    "start_time": "2022-09-09T08:50:00.440Z"
   },
   {
    "duration": 13,
    "start_time": "2022-09-09T08:50:04.120Z"
   },
   {
    "duration": 5,
    "start_time": "2022-09-09T08:50:05.299Z"
   },
   {
    "duration": 18,
    "start_time": "2022-09-09T08:50:05.964Z"
   },
   {
    "duration": 6,
    "start_time": "2022-09-09T08:50:06.636Z"
   },
   {
    "duration": 16,
    "start_time": "2022-09-09T08:50:09.858Z"
   },
   {
    "duration": 389,
    "start_time": "2022-09-09T08:50:15.149Z"
   },
   {
    "duration": 435,
    "start_time": "2022-09-09T08:50:18.943Z"
   },
   {
    "duration": 326,
    "start_time": "2022-09-09T08:50:25.245Z"
   },
   {
    "duration": 14,
    "start_time": "2022-09-09T08:50:29.936Z"
   },
   {
    "duration": 15,
    "start_time": "2022-09-09T08:50:59.999Z"
   },
   {
    "duration": 21,
    "start_time": "2022-09-09T08:51:00.969Z"
   },
   {
    "duration": 348,
    "start_time": "2022-09-09T08:51:01.736Z"
   },
   {
    "duration": 34,
    "start_time": "2022-09-09T08:51:06.968Z"
   },
   {
    "duration": 11,
    "start_time": "2022-09-09T08:51:18.257Z"
   },
   {
    "duration": 10,
    "start_time": "2022-09-09T11:10:50.350Z"
   },
   {
    "duration": 19,
    "start_time": "2022-09-09T11:12:18.579Z"
   },
   {
    "duration": 19,
    "start_time": "2022-09-09T11:12:47.689Z"
   },
   {
    "duration": 19,
    "start_time": "2022-09-09T11:13:26.789Z"
   },
   {
    "duration": 26,
    "start_time": "2022-09-09T11:14:23.482Z"
   },
   {
    "duration": 15,
    "start_time": "2022-09-09T11:14:33.518Z"
   },
   {
    "duration": 8,
    "start_time": "2022-09-09T11:14:42.586Z"
   },
   {
    "duration": 9,
    "start_time": "2022-09-09T11:14:49.025Z"
   },
   {
    "duration": 11,
    "start_time": "2022-09-09T11:14:52.091Z"
   },
   {
    "duration": 4,
    "start_time": "2022-09-09T11:14:52.759Z"
   },
   {
    "duration": 6,
    "start_time": "2022-09-09T11:14:53.440Z"
   },
   {
    "duration": 15,
    "start_time": "2022-09-09T11:14:58.031Z"
   },
   {
    "duration": 14,
    "start_time": "2022-09-09T11:15:04.319Z"
   },
   {
    "duration": 8,
    "start_time": "2022-09-09T11:15:07.407Z"
   },
   {
    "duration": 7,
    "start_time": "2022-09-09T11:15:07.918Z"
   },
   {
    "duration": 9,
    "start_time": "2022-09-09T11:15:12.194Z"
   },
   {
    "duration": 3,
    "start_time": "2022-09-09T11:15:12.546Z"
   },
   {
    "duration": 6,
    "start_time": "2022-09-09T11:15:13.056Z"
   },
   {
    "duration": 8,
    "start_time": "2022-09-09T11:15:52.474Z"
   },
   {
    "duration": 7,
    "start_time": "2022-09-09T11:15:55.596Z"
   },
   {
    "duration": 9,
    "start_time": "2022-09-09T11:15:56.655Z"
   },
   {
    "duration": 3,
    "start_time": "2022-09-09T11:15:57.113Z"
   },
   {
    "duration": 6,
    "start_time": "2022-09-09T11:15:57.681Z"
   },
   {
    "duration": 3,
    "start_time": "2022-09-09T11:16:00.175Z"
   },
   {
    "duration": 6,
    "start_time": "2022-09-09T11:16:06.229Z"
   },
   {
    "duration": 6,
    "start_time": "2022-09-09T11:16:08.456Z"
   },
   {
    "duration": 5,
    "start_time": "2022-09-09T11:16:11.507Z"
   },
   {
    "duration": 5,
    "start_time": "2022-09-09T11:16:12.475Z"
   },
   {
    "duration": 5,
    "start_time": "2022-09-09T11:16:13.863Z"
   },
   {
    "duration": 9,
    "start_time": "2022-09-09T11:16:37.725Z"
   },
   {
    "duration": 7,
    "start_time": "2022-09-09T11:16:38.641Z"
   },
   {
    "duration": 9,
    "start_time": "2022-09-09T11:16:39.764Z"
   },
   {
    "duration": 3,
    "start_time": "2022-09-09T11:16:40.406Z"
   },
   {
    "duration": 6,
    "start_time": "2022-09-09T11:16:42.232Z"
   },
   {
    "duration": 3,
    "start_time": "2022-09-09T11:16:42.733Z"
   },
   {
    "duration": 6,
    "start_time": "2022-09-09T11:16:47.678Z"
   },
   {
    "duration": 5,
    "start_time": "2022-09-09T11:16:48.406Z"
   },
   {
    "duration": 6,
    "start_time": "2022-09-09T11:21:46.273Z"
   },
   {
    "duration": 4,
    "start_time": "2022-09-09T11:21:49.449Z"
   },
   {
    "duration": 4,
    "start_time": "2022-09-09T11:21:55.733Z"
   },
   {
    "duration": 6,
    "start_time": "2022-09-09T11:21:58.258Z"
   },
   {
    "duration": 3,
    "start_time": "2022-09-09T11:34:46.781Z"
   },
   {
    "duration": 78,
    "start_time": "2022-09-09T11:34:48.516Z"
   },
   {
    "duration": 17,
    "start_time": "2022-09-09T11:34:52.923Z"
   },
   {
    "duration": 18,
    "start_time": "2022-09-09T11:34:53.635Z"
   },
   {
    "duration": 3,
    "start_time": "2022-09-09T11:35:13.105Z"
   },
   {
    "duration": 16,
    "start_time": "2022-09-09T11:35:13.839Z"
   },
   {
    "duration": 21,
    "start_time": "2022-09-09T11:35:15.588Z"
   },
   {
    "duration": 17,
    "start_time": "2022-09-09T11:35:31.532Z"
   },
   {
    "duration": 5,
    "start_time": "2022-09-09T11:35:38.711Z"
   },
   {
    "duration": 5,
    "start_time": "2022-09-09T11:35:40.265Z"
   },
   {
    "duration": 20,
    "start_time": "2022-09-09T11:35:40.721Z"
   },
   {
    "duration": 6,
    "start_time": "2022-09-09T11:37:47.049Z"
   },
   {
    "duration": 14,
    "start_time": "2022-09-09T11:37:47.604Z"
   },
   {
    "duration": 383,
    "start_time": "2022-09-09T11:37:56.299Z"
   },
   {
    "duration": 432,
    "start_time": "2022-09-09T11:37:57.602Z"
   },
   {
    "duration": 489,
    "start_time": "2022-09-09T11:38:03.565Z"
   },
   {
    "duration": 350,
    "start_time": "2022-09-09T11:38:10.214Z"
   },
   {
    "duration": 44,
    "start_time": "2022-09-09T11:38:22.790Z"
   },
   {
    "duration": 11,
    "start_time": "2022-09-09T11:38:30.002Z"
   },
   {
    "duration": 25,
    "start_time": "2022-09-09T11:43:46.998Z"
   },
   {
    "duration": 176,
    "start_time": "2022-09-09T11:43:51.105Z"
   },
   {
    "duration": 18,
    "start_time": "2022-09-09T11:43:54.033Z"
   },
   {
    "duration": 13,
    "start_time": "2022-09-09T11:44:06.406Z"
   },
   {
    "duration": 13,
    "start_time": "2022-09-09T11:44:12.547Z"
   },
   {
    "duration": 306,
    "start_time": "2022-09-09T11:44:13.238Z"
   },
   {
    "duration": 201,
    "start_time": "2022-09-09T11:45:14.737Z"
   },
   {
    "duration": 26,
    "start_time": "2022-09-09T11:45:18.911Z"
   },
   {
    "duration": 268,
    "start_time": "2022-09-09T11:45:21.035Z"
   },
   {
    "duration": 29,
    "start_time": "2022-09-09T11:45:22.207Z"
   },
   {
    "duration": 257,
    "start_time": "2022-09-09T11:45:22.855Z"
   },
   {
    "duration": 28,
    "start_time": "2022-09-09T11:45:33.010Z"
   },
   {
    "duration": 256,
    "start_time": "2022-09-09T11:45:33.433Z"
   },
   {
    "duration": 18,
    "start_time": "2022-09-09T11:45:34.167Z"
   },
   {
    "duration": 262,
    "start_time": "2022-09-09T11:45:34.637Z"
   },
   {
    "duration": 19,
    "start_time": "2022-09-09T11:45:35.152Z"
   },
   {
    "duration": 270,
    "start_time": "2022-09-09T11:45:35.811Z"
   },
   {
    "duration": 17,
    "start_time": "2022-09-09T11:45:36.492Z"
   },
   {
    "duration": 280,
    "start_time": "2022-09-09T11:45:37.116Z"
   },
   {
    "duration": 21,
    "start_time": "2022-09-09T11:46:12.565Z"
   },
   {
    "duration": 22,
    "start_time": "2022-09-09T11:46:23.241Z"
   },
   {
    "duration": 267,
    "start_time": "2022-09-09T11:46:24.567Z"
   },
   {
    "duration": 20,
    "start_time": "2022-09-09T11:46:27.336Z"
   },
   {
    "duration": 256,
    "start_time": "2022-09-09T11:46:28.100Z"
   },
   {
    "duration": 31,
    "start_time": "2022-09-09T11:46:29.005Z"
   },
   {
    "duration": 272,
    "start_time": "2022-09-09T11:46:29.588Z"
   },
   {
    "duration": 18,
    "start_time": "2022-09-09T11:46:34.252Z"
   },
   {
    "duration": 272,
    "start_time": "2022-09-09T11:46:34.960Z"
   },
   {
    "duration": 19,
    "start_time": "2022-09-09T11:46:36.352Z"
   },
   {
    "duration": 288,
    "start_time": "2022-09-09T11:46:38.626Z"
   },
   {
    "duration": 20,
    "start_time": "2022-09-09T11:46:39.846Z"
   },
   {
    "duration": 486,
    "start_time": "2022-09-09T11:46:41.858Z"
   },
   {
    "duration": 20,
    "start_time": "2022-09-09T11:46:46.343Z"
   },
   {
    "duration": 19,
    "start_time": "2022-09-09T11:47:19.791Z"
   },
   {
    "duration": 5,
    "start_time": "2022-09-09T11:47:20.653Z"
   },
   {
    "duration": 19,
    "start_time": "2022-09-09T11:51:41.561Z"
   },
   {
    "duration": 286,
    "start_time": "2022-09-09T11:52:22.860Z"
   },
   {
    "duration": 19,
    "start_time": "2022-09-09T11:54:37.674Z"
   },
   {
    "duration": 1097,
    "start_time": "2022-09-09T11:56:09.907Z"
   },
   {
    "duration": 176,
    "start_time": "2022-09-09T11:56:24.416Z"
   },
   {
    "duration": 247,
    "start_time": "2022-09-09T11:56:34.445Z"
   },
   {
    "duration": 19,
    "start_time": "2022-09-09T11:59:13.521Z"
   },
   {
    "duration": 20,
    "start_time": "2022-09-09T11:59:38.071Z"
   },
   {
    "duration": 19,
    "start_time": "2022-09-09T12:00:06.157Z"
   },
   {
    "duration": 247,
    "start_time": "2022-09-09T12:47:08.469Z"
   },
   {
    "duration": 22,
    "start_time": "2022-09-09T12:48:09.094Z"
   },
   {
    "duration": 238,
    "start_time": "2022-09-09T12:49:07.885Z"
   },
   {
    "duration": 24,
    "start_time": "2022-09-09T12:55:35.938Z"
   },
   {
    "duration": 16,
    "start_time": "2022-09-09T12:57:27.048Z"
   },
   {
    "duration": 3,
    "start_time": "2022-09-09T13:00:50.037Z"
   },
   {
    "duration": 80,
    "start_time": "2022-09-09T13:00:50.479Z"
   },
   {
    "duration": 15,
    "start_time": "2022-09-09T13:00:51.251Z"
   },
   {
    "duration": 18,
    "start_time": "2022-09-09T13:00:51.454Z"
   },
   {
    "duration": 4,
    "start_time": "2022-09-09T13:00:52.599Z"
   },
   {
    "duration": 16,
    "start_time": "2022-09-09T13:00:52.824Z"
   },
   {
    "duration": 20,
    "start_time": "2022-09-09T13:00:53.428Z"
   },
   {
    "duration": 17,
    "start_time": "2022-09-09T13:00:54.510Z"
   },
   {
    "duration": 5,
    "start_time": "2022-09-09T13:00:54.688Z"
   },
   {
    "duration": 4,
    "start_time": "2022-09-09T13:00:55.106Z"
   },
   {
    "duration": 18,
    "start_time": "2022-09-09T13:00:55.297Z"
   },
   {
    "duration": 5,
    "start_time": "2022-09-09T13:00:55.513Z"
   },
   {
    "duration": 15,
    "start_time": "2022-09-09T13:00:55.926Z"
   },
   {
    "duration": 365,
    "start_time": "2022-09-09T13:00:57.866Z"
   },
   {
    "duration": 356,
    "start_time": "2022-09-09T13:00:58.282Z"
   },
   {
    "duration": 311,
    "start_time": "2022-09-09T13:00:59.832Z"
   },
   {
    "duration": 14,
    "start_time": "2022-09-09T13:01:00.710Z"
   },
   {
    "duration": 19,
    "start_time": "2022-09-09T13:01:00.908Z"
   },
   {
    "duration": 308,
    "start_time": "2022-09-09T13:01:01.132Z"
   },
   {
    "duration": 36,
    "start_time": "2022-09-09T13:01:03.070Z"
   },
   {
    "duration": 11,
    "start_time": "2022-09-09T13:01:03.435Z"
   },
   {
    "duration": 21,
    "start_time": "2022-09-09T13:01:04.684Z"
   },
   {
    "duration": 165,
    "start_time": "2022-09-09T13:01:05.204Z"
   },
   {
    "duration": 17,
    "start_time": "2022-09-09T13:01:05.891Z"
   },
   {
    "duration": 267,
    "start_time": "2022-09-09T13:01:06.413Z"
   },
   {
    "duration": 13,
    "start_time": "2022-09-09T13:01:07.039Z"
   },
   {
    "duration": 279,
    "start_time": "2022-09-09T13:01:07.226Z"
   },
   {
    "duration": 26,
    "start_time": "2022-09-09T13:01:07.508Z"
   },
   {
    "duration": 296,
    "start_time": "2022-09-09T13:01:07.660Z"
   },
   {
    "duration": 231,
    "start_time": "2022-09-09T13:01:08.475Z"
   },
   {
    "duration": 224,
    "start_time": "2022-09-09T13:01:09.077Z"
   },
   {
    "duration": 22,
    "start_time": "2022-09-09T13:01:11.039Z"
   },
   {
    "duration": 442,
    "start_time": "2022-09-09T13:01:11.433Z"
   },
   {
    "duration": 18,
    "start_time": "2022-09-09T13:01:11.877Z"
   },
   {
    "duration": 264,
    "start_time": "2022-09-09T13:01:11.966Z"
   },
   {
    "duration": 21,
    "start_time": "2022-09-09T13:01:12.232Z"
   },
   {
    "duration": 257,
    "start_time": "2022-09-09T13:01:12.408Z"
   },
   {
    "duration": 19,
    "start_time": "2022-09-09T13:01:12.857Z"
   },
   {
    "duration": 269,
    "start_time": "2022-09-09T13:01:13.075Z"
   },
   {
    "duration": 18,
    "start_time": "2022-09-09T13:01:13.346Z"
   },
   {
    "duration": 277,
    "start_time": "2022-09-09T13:01:13.489Z"
   },
   {
    "duration": 19,
    "start_time": "2022-09-09T13:01:13.767Z"
   },
   {
    "duration": 276,
    "start_time": "2022-09-09T13:01:13.940Z"
   },
   {
    "duration": 18,
    "start_time": "2022-09-09T13:01:14.664Z"
   },
   {
    "duration": 248,
    "start_time": "2022-09-09T13:01:14.909Z"
   },
   {
    "duration": 18,
    "start_time": "2022-09-09T13:01:15.160Z"
   },
   {
    "duration": 254,
    "start_time": "2022-09-09T13:01:15.379Z"
   },
   {
    "duration": 21,
    "start_time": "2022-09-09T13:01:15.843Z"
   },
   {
    "duration": 247,
    "start_time": "2022-09-09T13:01:16.194Z"
   },
   {
    "duration": 5,
    "start_time": "2022-09-09T13:01:31.824Z"
   },
   {
    "duration": 16,
    "start_time": "2022-09-09T13:01:46.950Z"
   },
   {
    "duration": 1266,
    "start_time": "2022-09-09T13:12:41.415Z"
   },
   {
    "duration": 85,
    "start_time": "2022-09-09T13:12:42.685Z"
   },
   {
    "duration": 15,
    "start_time": "2022-09-09T13:12:42.772Z"
   },
   {
    "duration": 23,
    "start_time": "2022-09-09T13:12:42.789Z"
   },
   {
    "duration": 35,
    "start_time": "2022-09-09T13:12:42.814Z"
   },
   {
    "duration": 24,
    "start_time": "2022-09-09T13:12:42.851Z"
   },
   {
    "duration": 21,
    "start_time": "2022-09-09T13:12:42.877Z"
   },
   {
    "duration": 19,
    "start_time": "2022-09-09T13:12:42.899Z"
   },
   {
    "duration": 14,
    "start_time": "2022-09-09T13:12:42.920Z"
   },
   {
    "duration": 14,
    "start_time": "2022-09-09T13:12:42.936Z"
   },
   {
    "duration": 30,
    "start_time": "2022-09-09T13:12:42.951Z"
   },
   {
    "duration": 6,
    "start_time": "2022-09-09T13:12:42.983Z"
   },
   {
    "duration": 20,
    "start_time": "2022-09-09T13:12:42.991Z"
   },
   {
    "duration": 419,
    "start_time": "2022-09-09T13:12:43.015Z"
   },
   {
    "duration": 405,
    "start_time": "2022-09-09T13:12:43.438Z"
   },
   {
    "duration": 336,
    "start_time": "2022-09-09T13:12:43.845Z"
   },
   {
    "duration": 17,
    "start_time": "2022-09-09T13:12:44.184Z"
   },
   {
    "duration": 40,
    "start_time": "2022-09-09T13:12:44.202Z"
   },
   {
    "duration": 368,
    "start_time": "2022-09-09T13:12:44.243Z"
   },
   {
    "duration": 39,
    "start_time": "2022-09-09T13:12:44.613Z"
   },
   {
    "duration": 9,
    "start_time": "2022-09-09T13:12:44.654Z"
   },
   {
    "duration": 28,
    "start_time": "2022-09-09T13:12:44.665Z"
   },
   {
    "duration": 185,
    "start_time": "2022-09-09T13:12:44.695Z"
   },
   {
    "duration": 13,
    "start_time": "2022-09-09T13:12:44.882Z"
   },
   {
    "duration": 356,
    "start_time": "2022-09-09T13:12:44.897Z"
   },
   {
    "duration": 18,
    "start_time": "2022-09-09T13:12:45.255Z"
   },
   {
    "duration": 324,
    "start_time": "2022-09-09T13:12:45.275Z"
   },
   {
    "duration": 21,
    "start_time": "2022-09-09T13:12:45.601Z"
   },
   {
    "duration": 320,
    "start_time": "2022-09-09T13:12:45.629Z"
   },
   {
    "duration": 248,
    "start_time": "2022-09-09T13:12:45.951Z"
   },
   {
    "duration": 214,
    "start_time": "2022-09-09T13:12:46.201Z"
   },
   {
    "duration": 47,
    "start_time": "2022-09-09T13:12:46.423Z"
   },
   {
    "duration": 279,
    "start_time": "2022-09-09T13:12:46.472Z"
   },
   {
    "duration": 20,
    "start_time": "2022-09-09T13:12:46.753Z"
   },
   {
    "duration": 303,
    "start_time": "2022-09-09T13:12:46.774Z"
   },
   {
    "duration": 19,
    "start_time": "2022-09-09T13:12:47.079Z"
   },
   {
    "duration": 316,
    "start_time": "2022-09-09T13:12:47.100Z"
   },
   {
    "duration": 27,
    "start_time": "2022-09-09T13:12:47.417Z"
   },
   {
    "duration": 295,
    "start_time": "2022-09-09T13:12:47.446Z"
   },
   {
    "duration": 24,
    "start_time": "2022-09-09T13:12:47.744Z"
   },
   {
    "duration": 289,
    "start_time": "2022-09-09T13:12:47.774Z"
   },
   {
    "duration": 20,
    "start_time": "2022-09-09T13:12:48.065Z"
   },
   {
    "duration": 301,
    "start_time": "2022-09-09T13:12:48.087Z"
   },
   {
    "duration": 20,
    "start_time": "2022-09-09T13:12:48.389Z"
   },
   {
    "duration": 459,
    "start_time": "2022-09-09T13:12:48.423Z"
   },
   {
    "duration": 21,
    "start_time": "2022-09-09T13:12:48.886Z"
   },
   {
    "duration": 358,
    "start_time": "2022-09-09T13:12:48.909Z"
   },
   {
    "duration": 27,
    "start_time": "2022-09-09T13:12:49.269Z"
   },
   {
    "duration": 288,
    "start_time": "2022-09-09T13:12:49.299Z"
   },
   {
    "duration": 17,
    "start_time": "2022-09-09T13:12:49.588Z"
   },
   {
    "duration": 13,
    "start_time": "2022-09-09T13:12:49.624Z"
   },
   {
    "duration": 27,
    "start_time": "2022-09-09T13:12:49.639Z"
   },
   {
    "duration": 8,
    "start_time": "2022-09-09T13:12:49.668Z"
   },
   {
    "duration": 13,
    "start_time": "2022-09-09T13:12:49.678Z"
   },
   {
    "duration": 15,
    "start_time": "2022-09-09T13:12:49.693Z"
   },
   {
    "duration": 23,
    "start_time": "2022-09-09T13:12:49.710Z"
   },
   {
    "duration": 14,
    "start_time": "2022-09-09T13:12:49.739Z"
   },
   {
    "duration": 7,
    "start_time": "2022-09-09T13:12:49.755Z"
   },
   {
    "duration": 11,
    "start_time": "2022-09-09T13:12:49.764Z"
   },
   {
    "duration": 9,
    "start_time": "2022-09-09T13:12:49.776Z"
   },
   {
    "duration": 9,
    "start_time": "2022-09-09T13:12:49.786Z"
   },
   {
    "duration": 8,
    "start_time": "2022-09-09T13:12:49.797Z"
   },
   {
    "duration": 18,
    "start_time": "2022-09-09T13:12:49.807Z"
   },
   {
    "duration": 49,
    "start_time": "2022-09-09T13:12:49.827Z"
   },
   {
    "duration": 8,
    "start_time": "2022-09-09T13:12:49.878Z"
   },
   {
    "duration": 10,
    "start_time": "2022-09-09T13:12:49.887Z"
   },
   {
    "duration": 16,
    "start_time": "2022-09-09T13:12:49.899Z"
   },
   {
    "duration": 28,
    "start_time": "2022-09-09T13:12:49.917Z"
   },
   {
    "duration": 15,
    "start_time": "2022-09-09T13:12:49.947Z"
   },
   {
    "duration": 14,
    "start_time": "2022-09-09T13:12:49.963Z"
   },
   {
    "duration": 15,
    "start_time": "2022-09-09T13:12:49.979Z"
   },
   {
    "duration": 14,
    "start_time": "2022-09-09T13:12:49.995Z"
   },
   {
    "duration": 31,
    "start_time": "2022-09-09T13:12:50.012Z"
   },
   {
    "duration": 30,
    "start_time": "2022-09-09T13:12:50.046Z"
   },
   {
    "duration": 36,
    "start_time": "2022-09-09T13:12:50.078Z"
   },
   {
    "duration": 14,
    "start_time": "2022-09-10T08:46:52.785Z"
   },
   {
    "duration": 10,
    "start_time": "2022-09-10T08:52:17.457Z"
   },
   {
    "duration": 11,
    "start_time": "2022-09-10T08:56:46.720Z"
   },
   {
    "duration": 16,
    "start_time": "2022-09-10T08:57:36.044Z"
   },
   {
    "duration": 19,
    "start_time": "2022-09-10T09:01:03.433Z"
   },
   {
    "duration": 18,
    "start_time": "2022-09-10T09:01:19.420Z"
   },
   {
    "duration": 584,
    "start_time": "2022-09-10T09:04:47.066Z"
   },
   {
    "duration": 14,
    "start_time": "2022-09-10T09:06:28.612Z"
   },
   {
    "duration": 7,
    "start_time": "2022-09-10T09:06:52.817Z"
   },
   {
    "duration": 3,
    "start_time": "2022-09-10T09:10:54.046Z"
   },
   {
    "duration": 72,
    "start_time": "2022-09-10T09:10:54.390Z"
   },
   {
    "duration": 13,
    "start_time": "2022-09-10T09:10:55.444Z"
   },
   {
    "duration": 16,
    "start_time": "2022-09-10T09:10:55.698Z"
   },
   {
    "duration": 3,
    "start_time": "2022-09-10T09:10:57.015Z"
   },
   {
    "duration": 16,
    "start_time": "2022-09-10T09:10:57.277Z"
   },
   {
    "duration": 20,
    "start_time": "2022-09-10T09:11:05.778Z"
   },
   {
    "duration": 17,
    "start_time": "2022-09-10T09:11:07.822Z"
   },
   {
    "duration": 5,
    "start_time": "2022-09-10T09:11:08.553Z"
   },
   {
    "duration": 5,
    "start_time": "2022-09-10T09:11:09.044Z"
   },
   {
    "duration": 17,
    "start_time": "2022-09-10T09:11:09.542Z"
   },
   {
    "duration": 6,
    "start_time": "2022-09-10T09:11:10.257Z"
   },
   {
    "duration": 14,
    "start_time": "2022-09-10T09:11:10.879Z"
   },
   {
    "duration": 371,
    "start_time": "2022-09-10T09:11:15.650Z"
   },
   {
    "duration": 359,
    "start_time": "2022-09-10T09:11:17.201Z"
   },
   {
    "duration": 300,
    "start_time": "2022-09-10T09:11:23.361Z"
   },
   {
    "duration": 13,
    "start_time": "2022-09-10T09:11:24.951Z"
   },
   {
    "duration": 22,
    "start_time": "2022-09-10T09:11:25.401Z"
   },
   {
    "duration": 294,
    "start_time": "2022-09-10T09:11:26.158Z"
   },
   {
    "duration": 33,
    "start_time": "2022-09-10T09:11:32.936Z"
   },
   {
    "duration": 11,
    "start_time": "2022-09-10T09:11:33.963Z"
   },
   {
    "duration": 18,
    "start_time": "2022-09-10T09:12:47.627Z"
   },
   {
    "duration": 158,
    "start_time": "2022-09-10T09:12:48.288Z"
   },
   {
    "duration": 13,
    "start_time": "2022-09-10T09:12:48.700Z"
   },
   {
    "duration": 380,
    "start_time": "2022-09-10T09:12:48.890Z"
   },
   {
    "duration": 14,
    "start_time": "2022-09-10T09:12:49.668Z"
   },
   {
    "duration": 265,
    "start_time": "2022-09-10T09:12:50.060Z"
   },
   {
    "duration": 14,
    "start_time": "2022-09-10T09:12:50.412Z"
   },
   {
    "duration": 267,
    "start_time": "2022-09-10T09:12:50.658Z"
   },
   {
    "duration": 228,
    "start_time": "2022-09-10T09:12:51.179Z"
   },
   {
    "duration": 194,
    "start_time": "2022-09-10T09:12:52.276Z"
   },
   {
    "duration": 21,
    "start_time": "2022-09-10T09:12:54.841Z"
   },
   {
    "duration": 253,
    "start_time": "2022-09-10T09:12:55.803Z"
   },
   {
    "duration": 18,
    "start_time": "2022-09-10T09:12:56.121Z"
   },
   {
    "duration": 244,
    "start_time": "2022-09-10T09:12:56.547Z"
   },
   {
    "duration": 17,
    "start_time": "2022-09-10T09:12:57.081Z"
   },
   {
    "duration": 253,
    "start_time": "2022-09-10T09:12:57.805Z"
   },
   {
    "duration": 17,
    "start_time": "2022-09-10T09:12:59.277Z"
   },
   {
    "duration": 259,
    "start_time": "2022-09-10T09:12:59.882Z"
   },
   {
    "duration": 18,
    "start_time": "2022-09-10T09:13:00.311Z"
   },
   {
    "duration": 254,
    "start_time": "2022-09-10T09:13:00.866Z"
   },
   {
    "duration": 19,
    "start_time": "2022-09-10T09:13:01.708Z"
   },
   {
    "duration": 270,
    "start_time": "2022-09-10T09:13:02.307Z"
   },
   {
    "duration": 22,
    "start_time": "2022-09-10T09:13:03.255Z"
   },
   {
    "duration": 262,
    "start_time": "2022-09-10T09:13:03.710Z"
   },
   {
    "duration": 17,
    "start_time": "2022-09-10T09:13:04.144Z"
   },
   {
    "duration": 257,
    "start_time": "2022-09-10T09:13:04.559Z"
   },
   {
    "duration": 18,
    "start_time": "2022-09-10T09:13:05.021Z"
   },
   {
    "duration": 366,
    "start_time": "2022-09-10T09:13:05.494Z"
   },
   {
    "duration": 16,
    "start_time": "2022-09-10T09:14:01.889Z"
   },
   {
    "duration": 17,
    "start_time": "2022-09-10T09:14:32.060Z"
   },
   {
    "duration": 7,
    "start_time": "2022-09-10T09:14:57.791Z"
   },
   {
    "duration": 6,
    "start_time": "2022-09-10T09:14:59.207Z"
   },
   {
    "duration": 17,
    "start_time": "2022-09-10T09:15:06.329Z"
   },
   {
    "duration": 7,
    "start_time": "2022-09-10T09:15:07.212Z"
   },
   {
    "duration": 10,
    "start_time": "2022-09-10T09:15:08.866Z"
   },
   {
    "duration": 9,
    "start_time": "2022-09-10T09:15:11.188Z"
   },
   {
    "duration": 4,
    "start_time": "2022-09-10T09:15:11.970Z"
   },
   {
    "duration": 6,
    "start_time": "2022-09-10T09:15:12.583Z"
   },
   {
    "duration": 4,
    "start_time": "2022-09-10T09:15:14.367Z"
   },
   {
    "duration": 6,
    "start_time": "2022-09-10T09:15:22.682Z"
   },
   {
    "duration": 6,
    "start_time": "2022-09-10T09:15:26.158Z"
   },
   {
    "duration": 5,
    "start_time": "2022-09-10T09:15:27.449Z"
   },
   {
    "duration": 6,
    "start_time": "2022-09-10T09:16:09.903Z"
   },
   {
    "duration": 4,
    "start_time": "2022-09-10T09:16:12.467Z"
   },
   {
    "duration": 4,
    "start_time": "2022-09-10T09:16:16.155Z"
   },
   {
    "duration": 6,
    "start_time": "2022-09-10T09:16:27.427Z"
   },
   {
    "duration": 4,
    "start_time": "2022-09-10T09:16:28.156Z"
   },
   {
    "duration": 4,
    "start_time": "2022-09-10T09:16:28.724Z"
   },
   {
    "duration": 8,
    "start_time": "2022-09-10T09:16:51.368Z"
   },
   {
    "duration": 8,
    "start_time": "2022-09-10T09:16:54.107Z"
   },
   {
    "duration": 8,
    "start_time": "2022-09-10T09:17:20.122Z"
   },
   {
    "duration": 8,
    "start_time": "2022-09-10T09:17:21.235Z"
   },
   {
    "duration": 9,
    "start_time": "2022-09-10T09:17:24.055Z"
   },
   {
    "duration": 4,
    "start_time": "2022-09-10T09:17:24.867Z"
   },
   {
    "duration": 5,
    "start_time": "2022-09-10T09:17:25.999Z"
   },
   {
    "duration": 3,
    "start_time": "2022-09-10T09:17:28.434Z"
   },
   {
    "duration": 7,
    "start_time": "2022-09-10T09:17:33.981Z"
   },
   {
    "duration": 7,
    "start_time": "2022-09-10T09:17:39.633Z"
   },
   {
    "duration": 5,
    "start_time": "2022-09-10T09:17:40.809Z"
   },
   {
    "duration": 5,
    "start_time": "2022-09-10T09:18:49.964Z"
   },
   {
    "duration": 5,
    "start_time": "2022-09-10T09:18:52.508Z"
   },
   {
    "duration": 5,
    "start_time": "2022-09-10T09:18:53.421Z"
   },
   {
    "duration": 6,
    "start_time": "2022-09-10T09:18:56.292Z"
   },
   {
    "duration": 3,
    "start_time": "2022-09-10T09:18:56.924Z"
   },
   {
    "duration": 5,
    "start_time": "2022-09-10T09:18:57.688Z"
   },
   {
    "duration": 7,
    "start_time": "2022-09-10T09:21:19.058Z"
   },
   {
    "duration": 4,
    "start_time": "2022-09-10T09:21:20.806Z"
   },
   {
    "duration": 5,
    "start_time": "2022-09-10T09:21:21.906Z"
   },
   {
    "duration": 22,
    "start_time": "2022-09-10T09:27:08.845Z"
   },
   {
    "duration": 7,
    "start_time": "2022-09-10T09:29:02.595Z"
   },
   {
    "duration": 8,
    "start_time": "2022-09-10T09:29:05.145Z"
   },
   {
    "duration": 6,
    "start_time": "2022-09-10T09:29:11.004Z"
   },
   {
    "duration": 7,
    "start_time": "2022-09-10T09:29:12.030Z"
   },
   {
    "duration": 3,
    "start_time": "2022-09-10T09:29:12.573Z"
   },
   {
    "duration": 6,
    "start_time": "2022-09-10T09:29:13.302Z"
   },
   {
    "duration": 3,
    "start_time": "2022-09-10T09:29:14.335Z"
   },
   {
    "duration": 6,
    "start_time": "2022-09-10T09:29:16.512Z"
   },
   {
    "duration": 5,
    "start_time": "2022-09-10T09:29:17.340Z"
   },
   {
    "duration": 5,
    "start_time": "2022-09-10T09:29:24.451Z"
   },
   {
    "duration": 4,
    "start_time": "2022-09-10T09:29:25.141Z"
   },
   {
    "duration": 4,
    "start_time": "2022-09-10T09:29:25.672Z"
   },
   {
    "duration": 8,
    "start_time": "2022-09-10T09:29:55.076Z"
   },
   {
    "duration": 7,
    "start_time": "2022-09-10T09:29:57.712Z"
   },
   {
    "duration": 8,
    "start_time": "2022-09-10T09:29:58.573Z"
   },
   {
    "duration": 3,
    "start_time": "2022-09-10T09:29:59.098Z"
   },
   {
    "duration": 6,
    "start_time": "2022-09-10T09:29:59.829Z"
   },
   {
    "duration": 3,
    "start_time": "2022-09-10T09:30:00.644Z"
   },
   {
    "duration": 6,
    "start_time": "2022-09-10T09:30:04.162Z"
   },
   {
    "duration": 6,
    "start_time": "2022-09-10T09:30:04.970Z"
   },
   {
    "duration": 6,
    "start_time": "2022-09-10T09:30:11.047Z"
   },
   {
    "duration": 3,
    "start_time": "2022-09-10T09:30:19.877Z"
   },
   {
    "duration": 5,
    "start_time": "2022-09-10T09:30:22.421Z"
   },
   {
    "duration": 3,
    "start_time": "2022-09-10T09:34:02.013Z"
   },
   {
    "duration": 4,
    "start_time": "2022-09-10T09:34:04.351Z"
   },
   {
    "duration": 5,
    "start_time": "2022-09-10T09:34:04.841Z"
   },
   {
    "duration": 6,
    "start_time": "2022-09-10T09:34:32.346Z"
   },
   {
    "duration": 4,
    "start_time": "2022-09-10T09:34:38.747Z"
   },
   {
    "duration": 5,
    "start_time": "2022-09-10T09:34:39.295Z"
   },
   {
    "duration": 1177,
    "start_time": "2022-09-10T09:36:59.040Z"
   },
   {
    "duration": 90,
    "start_time": "2022-09-10T09:37:00.220Z"
   },
   {
    "duration": 16,
    "start_time": "2022-09-10T09:37:00.311Z"
   },
   {
    "duration": 36,
    "start_time": "2022-09-10T09:37:00.329Z"
   },
   {
    "duration": 25,
    "start_time": "2022-09-10T09:37:00.367Z"
   },
   {
    "duration": 32,
    "start_time": "2022-09-10T09:37:00.393Z"
   },
   {
    "duration": 39,
    "start_time": "2022-09-10T09:37:00.426Z"
   },
   {
    "duration": 26,
    "start_time": "2022-09-10T09:37:00.466Z"
   },
   {
    "duration": 26,
    "start_time": "2022-09-10T09:37:00.494Z"
   },
   {
    "duration": 25,
    "start_time": "2022-09-10T09:37:00.523Z"
   },
   {
    "duration": 31,
    "start_time": "2022-09-10T09:37:00.550Z"
   },
   {
    "duration": 4,
    "start_time": "2022-09-10T09:37:00.583Z"
   },
   {
    "duration": 20,
    "start_time": "2022-09-10T09:37:00.589Z"
   },
   {
    "duration": 379,
    "start_time": "2022-09-10T09:37:00.611Z"
   },
   {
    "duration": 361,
    "start_time": "2022-09-10T09:37:00.992Z"
   },
   {
    "duration": 313,
    "start_time": "2022-09-10T09:37:01.355Z"
   },
   {
    "duration": 13,
    "start_time": "2022-09-10T09:37:01.670Z"
   },
   {
    "duration": 30,
    "start_time": "2022-09-10T09:37:01.684Z"
   },
   {
    "duration": 328,
    "start_time": "2022-09-10T09:37:01.715Z"
   },
   {
    "duration": 34,
    "start_time": "2022-09-10T09:37:02.045Z"
   },
   {
    "duration": 10,
    "start_time": "2022-09-10T09:37:02.081Z"
   },
   {
    "duration": 34,
    "start_time": "2022-09-10T09:37:02.092Z"
   },
   {
    "duration": 179,
    "start_time": "2022-09-10T09:37:02.127Z"
   },
   {
    "duration": 21,
    "start_time": "2022-09-10T09:37:02.308Z"
   },
   {
    "duration": 331,
    "start_time": "2022-09-10T09:37:02.332Z"
   },
   {
    "duration": 15,
    "start_time": "2022-09-10T09:37:02.665Z"
   },
   {
    "duration": 293,
    "start_time": "2022-09-10T09:37:02.682Z"
   },
   {
    "duration": 13,
    "start_time": "2022-09-10T09:37:02.980Z"
   },
   {
    "duration": 295,
    "start_time": "2022-09-10T09:37:02.995Z"
   },
   {
    "duration": 231,
    "start_time": "2022-09-10T09:37:03.292Z"
   },
   {
    "duration": 210,
    "start_time": "2022-09-10T09:37:03.525Z"
   },
   {
    "duration": 20,
    "start_time": "2022-09-10T09:37:03.737Z"
   },
   {
    "duration": 288,
    "start_time": "2022-09-10T09:37:03.759Z"
   },
   {
    "duration": 20,
    "start_time": "2022-09-10T09:37:04.049Z"
   },
   {
    "duration": 275,
    "start_time": "2022-09-10T09:37:04.071Z"
   },
   {
    "duration": 19,
    "start_time": "2022-09-10T09:37:04.348Z"
   },
   {
    "duration": 280,
    "start_time": "2022-09-10T09:37:04.369Z"
   },
   {
    "duration": 20,
    "start_time": "2022-09-10T09:37:04.651Z"
   },
   {
    "duration": 279,
    "start_time": "2022-09-10T09:37:04.672Z"
   },
   {
    "duration": 18,
    "start_time": "2022-09-10T09:37:04.953Z"
   },
   {
    "duration": 266,
    "start_time": "2022-09-10T09:37:04.973Z"
   },
   {
    "duration": 19,
    "start_time": "2022-09-10T09:37:05.241Z"
   },
   {
    "duration": 285,
    "start_time": "2022-09-10T09:37:05.262Z"
   },
   {
    "duration": 19,
    "start_time": "2022-09-10T09:37:05.549Z"
   },
   {
    "duration": 362,
    "start_time": "2022-09-10T09:37:05.570Z"
   },
   {
    "duration": 19,
    "start_time": "2022-09-10T09:37:05.934Z"
   },
   {
    "duration": 272,
    "start_time": "2022-09-10T09:37:05.955Z"
   },
   {
    "duration": 23,
    "start_time": "2022-09-10T09:37:06.228Z"
   },
   {
    "duration": 249,
    "start_time": "2022-09-10T09:37:06.253Z"
   },
   {
    "duration": 23,
    "start_time": "2022-09-10T09:37:06.504Z"
   },
   {
    "duration": 16,
    "start_time": "2022-09-10T09:37:06.529Z"
   },
   {
    "duration": 34,
    "start_time": "2022-09-10T09:37:06.547Z"
   },
   {
    "duration": 29,
    "start_time": "2022-09-10T09:37:06.582Z"
   },
   {
    "duration": 21,
    "start_time": "2022-09-10T09:37:06.612Z"
   },
   {
    "duration": 22,
    "start_time": "2022-09-10T09:37:06.635Z"
   },
   {
    "duration": 22,
    "start_time": "2022-09-10T09:37:06.659Z"
   },
   {
    "duration": 25,
    "start_time": "2022-09-10T09:37:06.683Z"
   },
   {
    "duration": 29,
    "start_time": "2022-09-10T09:37:06.710Z"
   },
   {
    "duration": 22,
    "start_time": "2022-09-10T09:37:06.741Z"
   },
   {
    "duration": 19,
    "start_time": "2022-09-10T09:37:06.764Z"
   },
   {
    "duration": 30,
    "start_time": "2022-09-10T09:37:06.784Z"
   },
   {
    "duration": 20,
    "start_time": "2022-09-10T09:37:06.816Z"
   },
   {
    "duration": 24,
    "start_time": "2022-09-10T09:37:06.838Z"
   },
   {
    "duration": 36,
    "start_time": "2022-09-10T09:37:06.864Z"
   },
   {
    "duration": 43,
    "start_time": "2022-09-10T09:37:06.902Z"
   },
   {
    "duration": 28,
    "start_time": "2022-09-10T09:37:06.946Z"
   },
   {
    "duration": 20,
    "start_time": "2022-09-10T09:37:06.975Z"
   },
   {
    "duration": 42,
    "start_time": "2022-09-10T09:37:06.996Z"
   },
   {
    "duration": 30,
    "start_time": "2022-09-10T09:37:07.039Z"
   },
   {
    "duration": 28,
    "start_time": "2022-09-10T09:37:07.071Z"
   },
   {
    "duration": 51,
    "start_time": "2022-09-10T09:37:07.101Z"
   },
   {
    "duration": 30,
    "start_time": "2022-09-10T09:37:07.153Z"
   },
   {
    "duration": 52,
    "start_time": "2022-09-10T19:14:37.066Z"
   },
   {
    "duration": 1141,
    "start_time": "2022-09-10T19:14:49.887Z"
   },
   {
    "duration": 83,
    "start_time": "2022-09-10T19:14:51.030Z"
   },
   {
    "duration": 15,
    "start_time": "2022-09-10T19:14:51.115Z"
   },
   {
    "duration": 27,
    "start_time": "2022-09-10T19:14:51.131Z"
   },
   {
    "duration": 4,
    "start_time": "2022-09-10T19:14:51.160Z"
   },
   {
    "duration": 19,
    "start_time": "2022-09-10T19:14:51.165Z"
   },
   {
    "duration": 23,
    "start_time": "2022-09-10T19:14:51.185Z"
   },
   {
    "duration": 28,
    "start_time": "2022-09-10T19:14:51.209Z"
   },
   {
    "duration": 10,
    "start_time": "2022-09-10T19:14:51.239Z"
   },
   {
    "duration": 19,
    "start_time": "2022-09-10T19:14:51.254Z"
   },
   {
    "duration": 20,
    "start_time": "2022-09-10T19:14:51.274Z"
   },
   {
    "duration": 8,
    "start_time": "2022-09-10T19:14:51.296Z"
   },
   {
    "duration": 20,
    "start_time": "2022-09-10T19:14:51.306Z"
   },
   {
    "duration": 405,
    "start_time": "2022-09-10T19:14:51.337Z"
   },
   {
    "duration": 374,
    "start_time": "2022-09-10T19:14:51.748Z"
   },
   {
    "duration": 315,
    "start_time": "2022-09-10T19:14:52.124Z"
   },
   {
    "duration": 18,
    "start_time": "2022-09-10T19:14:52.442Z"
   },
   {
    "duration": 23,
    "start_time": "2022-09-10T19:14:52.463Z"
   },
   {
    "duration": 331,
    "start_time": "2022-09-10T19:14:52.487Z"
   },
   {
    "duration": 42,
    "start_time": "2022-09-10T19:14:52.820Z"
   },
   {
    "duration": 9,
    "start_time": "2022-09-10T19:14:52.864Z"
   },
   {
    "duration": 40,
    "start_time": "2022-09-10T19:14:52.875Z"
   },
   {
    "duration": 22,
    "start_time": "2022-09-10T19:14:52.917Z"
   },
   {
    "duration": 175,
    "start_time": "2022-09-10T19:14:52.940Z"
   },
   {
    "duration": 12,
    "start_time": "2022-09-10T19:14:53.116Z"
   },
   {
    "duration": 335,
    "start_time": "2022-09-10T19:14:53.129Z"
   },
   {
    "duration": 14,
    "start_time": "2022-09-10T19:14:53.466Z"
   },
   {
    "duration": 266,
    "start_time": "2022-09-10T19:14:53.484Z"
   },
   {
    "duration": 18,
    "start_time": "2022-09-10T19:14:53.752Z"
   },
   {
    "duration": 277,
    "start_time": "2022-09-10T19:14:53.772Z"
   },
   {
    "duration": 206,
    "start_time": "2022-09-10T19:14:54.051Z"
   },
   {
    "duration": 185,
    "start_time": "2022-09-10T19:14:54.261Z"
   },
   {
    "duration": 29,
    "start_time": "2022-09-10T19:14:54.448Z"
   },
   {
    "duration": 263,
    "start_time": "2022-09-10T19:14:54.479Z"
   },
   {
    "duration": 20,
    "start_time": "2022-09-10T19:14:54.744Z"
   },
   {
    "duration": 267,
    "start_time": "2022-09-10T19:14:54.766Z"
   },
   {
    "duration": 27,
    "start_time": "2022-09-10T19:14:55.037Z"
   },
   {
    "duration": 245,
    "start_time": "2022-09-10T19:14:55.066Z"
   },
   {
    "duration": 25,
    "start_time": "2022-09-10T19:14:55.313Z"
   },
   {
    "duration": 256,
    "start_time": "2022-09-10T19:14:55.340Z"
   },
   {
    "duration": 14,
    "start_time": "2022-09-10T19:14:55.597Z"
   },
   {
    "duration": 250,
    "start_time": "2022-09-10T19:14:55.613Z"
   },
   {
    "duration": 17,
    "start_time": "2022-09-10T19:14:55.865Z"
   },
   {
    "duration": 271,
    "start_time": "2022-09-10T19:14:55.884Z"
   },
   {
    "duration": 20,
    "start_time": "2022-09-10T19:14:56.157Z"
   },
   {
    "duration": 370,
    "start_time": "2022-09-10T19:14:56.178Z"
   },
   {
    "duration": 19,
    "start_time": "2022-09-10T19:14:56.551Z"
   },
   {
    "duration": 242,
    "start_time": "2022-09-10T19:14:56.572Z"
   },
   {
    "duration": 33,
    "start_time": "2022-09-10T19:14:56.816Z"
   },
   {
    "duration": 232,
    "start_time": "2022-09-10T19:14:56.852Z"
   },
   {
    "duration": 15,
    "start_time": "2022-09-10T19:14:57.086Z"
   },
   {
    "duration": 19,
    "start_time": "2022-09-10T19:14:57.102Z"
   },
   {
    "duration": 48,
    "start_time": "2022-09-10T19:14:57.122Z"
   },
   {
    "duration": 48,
    "start_time": "2022-09-10T19:14:57.175Z"
   },
   {
    "duration": 53,
    "start_time": "2022-09-10T19:14:57.225Z"
   },
   {
    "duration": 25,
    "start_time": "2022-09-10T19:14:57.281Z"
   },
   {
    "duration": 24,
    "start_time": "2022-09-10T19:14:57.308Z"
   },
   {
    "duration": 44,
    "start_time": "2022-09-10T19:14:57.334Z"
   },
   {
    "duration": 20,
    "start_time": "2022-09-10T19:14:57.380Z"
   },
   {
    "duration": 22,
    "start_time": "2022-09-10T19:14:57.402Z"
   },
   {
    "duration": 46,
    "start_time": "2022-09-10T19:14:57.426Z"
   },
   {
    "duration": 15,
    "start_time": "2022-09-10T19:14:57.474Z"
   },
   {
    "duration": 17,
    "start_time": "2022-09-10T19:14:57.491Z"
   },
   {
    "duration": 24,
    "start_time": "2022-09-10T19:14:57.510Z"
   },
   {
    "duration": 35,
    "start_time": "2022-09-10T19:14:57.538Z"
   },
   {
    "duration": 15,
    "start_time": "2022-09-10T19:14:57.575Z"
   },
   {
    "duration": 27,
    "start_time": "2022-09-10T19:14:57.592Z"
   },
   {
    "duration": 12,
    "start_time": "2022-09-10T19:14:57.621Z"
   },
   {
    "duration": 40,
    "start_time": "2022-09-10T19:14:57.634Z"
   },
   {
    "duration": 18,
    "start_time": "2022-09-10T19:14:57.676Z"
   },
   {
    "duration": 17,
    "start_time": "2022-09-10T19:14:57.696Z"
   },
   {
    "duration": 58,
    "start_time": "2022-09-10T19:14:57.715Z"
   },
   {
    "duration": 27,
    "start_time": "2022-09-10T19:14:57.776Z"
   },
   {
    "duration": 24,
    "start_time": "2022-09-10T19:15:47.438Z"
   },
   {
    "duration": 15,
    "start_time": "2022-09-10T19:16:12.892Z"
   },
   {
    "duration": 36,
    "start_time": "2022-09-10T19:17:10.041Z"
   },
   {
    "duration": 10,
    "start_time": "2022-09-10T19:17:22.651Z"
   },
   {
    "duration": 52,
    "start_time": "2022-09-11T07:53:15.030Z"
   },
   {
    "duration": 8,
    "start_time": "2022-09-11T08:03:22.207Z"
   },
   {
    "duration": 1426,
    "start_time": "2022-09-11T08:03:32.015Z"
   },
   {
    "duration": 495,
    "start_time": "2022-09-11T08:03:33.443Z"
   },
   {
    "duration": 16,
    "start_time": "2022-09-11T08:03:33.940Z"
   },
   {
    "duration": 41,
    "start_time": "2022-09-11T08:03:33.958Z"
   },
   {
    "duration": 3,
    "start_time": "2022-09-11T08:03:34.675Z"
   },
   {
    "duration": 16,
    "start_time": "2022-09-11T08:03:34.936Z"
   },
   {
    "duration": 22,
    "start_time": "2022-09-11T08:03:35.707Z"
   },
   {
    "duration": 19,
    "start_time": "2022-09-11T08:03:37.567Z"
   },
   {
    "duration": 6,
    "start_time": "2022-09-11T08:03:37.812Z"
   },
   {
    "duration": 5,
    "start_time": "2022-09-11T08:03:38.296Z"
   },
   {
    "duration": 17,
    "start_time": "2022-09-11T08:03:38.629Z"
   },
   {
    "duration": 5,
    "start_time": "2022-09-11T08:03:39.033Z"
   },
   {
    "duration": 15,
    "start_time": "2022-09-11T08:03:39.497Z"
   },
   {
    "duration": 391,
    "start_time": "2022-09-11T08:03:43.058Z"
   },
   {
    "duration": 349,
    "start_time": "2022-09-11T08:04:06.112Z"
   },
   {
    "duration": 300,
    "start_time": "2022-09-11T08:04:11.101Z"
   },
   {
    "duration": 13,
    "start_time": "2022-09-11T08:04:27.169Z"
   },
   {
    "duration": 20,
    "start_time": "2022-09-11T08:04:28.507Z"
   },
   {
    "duration": 16,
    "start_time": "2022-09-11T08:04:46.188Z"
   },
   {
    "duration": 9,
    "start_time": "2022-09-11T08:04:52.032Z"
   },
   {
    "duration": 28,
    "start_time": "2022-09-11T08:05:00.175Z"
   },
   {
    "duration": 17,
    "start_time": "2022-09-11T08:06:28.836Z"
   },
   {
    "duration": 5,
    "start_time": "2022-09-11T08:25:39.961Z"
   },
   {
    "duration": 14,
    "start_time": "2022-09-11T08:25:50.848Z"
   },
   {
    "duration": 15,
    "start_time": "2022-09-11T08:25:54.371Z"
   },
   {
    "duration": 15,
    "start_time": "2022-09-11T08:26:41.361Z"
   },
   {
    "duration": 6,
    "start_time": "2022-09-11T08:27:16.512Z"
   },
   {
    "duration": 5,
    "start_time": "2022-09-11T08:27:18.447Z"
   },
   {
    "duration": 6,
    "start_time": "2022-09-11T08:27:22.759Z"
   },
   {
    "duration": 69,
    "start_time": "2022-09-11T08:27:37.296Z"
   },
   {
    "duration": 6,
    "start_time": "2022-09-11T08:27:52.504Z"
   },
   {
    "duration": 19,
    "start_time": "2022-09-11T08:28:01.843Z"
   },
   {
    "duration": 16,
    "start_time": "2022-09-11T08:28:08.663Z"
   },
   {
    "duration": 6,
    "start_time": "2022-09-11T08:28:12.800Z"
   },
   {
    "duration": 16,
    "start_time": "2022-09-11T08:28:22.215Z"
   },
   {
    "duration": 5,
    "start_time": "2022-09-11T08:28:26.019Z"
   },
   {
    "duration": 21,
    "start_time": "2022-09-11T08:28:52.097Z"
   },
   {
    "duration": 4,
    "start_time": "2022-09-11T08:28:54.072Z"
   },
   {
    "duration": 7,
    "start_time": "2022-09-11T08:55:53.429Z"
   },
   {
    "duration": 162,
    "start_time": "2022-09-11T09:46:38.989Z"
   },
   {
    "duration": 159,
    "start_time": "2022-09-11T09:50:19.058Z"
   },
   {
    "duration": 14,
    "start_time": "2022-09-11T09:51:13.570Z"
   },
   {
    "duration": 21,
    "start_time": "2022-09-11T09:51:59.562Z"
   },
   {
    "duration": 234,
    "start_time": "2022-09-11T09:52:08.682Z"
   },
   {
    "duration": 22,
    "start_time": "2022-09-11T09:52:34.785Z"
   },
   {
    "duration": 163,
    "start_time": "2022-09-11T09:52:41.516Z"
   },
   {
    "duration": 150,
    "start_time": "2022-09-11T09:55:05.554Z"
   },
   {
    "duration": 9,
    "start_time": "2022-09-11T10:03:23.255Z"
   },
   {
    "duration": 3,
    "start_time": "2022-09-11T10:05:18.784Z"
   },
   {
    "duration": 175,
    "start_time": "2022-09-11T10:10:51.117Z"
   },
   {
    "duration": 161,
    "start_time": "2022-09-11T10:11:05.278Z"
   },
   {
    "duration": 75,
    "start_time": "2022-09-11T10:11:35.791Z"
   },
   {
    "duration": 73,
    "start_time": "2022-09-11T10:11:52.640Z"
   },
   {
    "duration": 81,
    "start_time": "2022-09-11T10:11:59.437Z"
   },
   {
    "duration": 6,
    "start_time": "2022-09-11T10:12:07.902Z"
   },
   {
    "duration": 9,
    "start_time": "2022-09-11T10:13:09.028Z"
   },
   {
    "duration": 4,
    "start_time": "2022-09-11T10:13:17.671Z"
   },
   {
    "duration": 4,
    "start_time": "2022-09-11T10:17:11.346Z"
   },
   {
    "duration": 18,
    "start_time": "2022-09-11T10:19:40.549Z"
   },
   {
    "duration": 6,
    "start_time": "2022-09-11T10:20:11.887Z"
   },
   {
    "duration": 16,
    "start_time": "2022-09-11T10:20:57.289Z"
   },
   {
    "duration": 6,
    "start_time": "2022-09-11T10:23:05.668Z"
   },
   {
    "duration": 6,
    "start_time": "2022-09-11T10:25:09.661Z"
   },
   {
    "duration": 7,
    "start_time": "2022-09-11T10:25:22.516Z"
   },
   {
    "duration": 11,
    "start_time": "2022-09-11T10:28:27.590Z"
   },
   {
    "duration": 207,
    "start_time": "2022-09-11T10:50:18.528Z"
   },
   {
    "duration": 204,
    "start_time": "2022-09-11T10:51:33.530Z"
   },
   {
    "duration": 24,
    "start_time": "2022-09-11T10:56:04.363Z"
   },
   {
    "duration": 20,
    "start_time": "2022-09-11T10:56:14.436Z"
   },
   {
    "duration": 189,
    "start_time": "2022-09-11T10:56:23.832Z"
   },
   {
    "duration": 19,
    "start_time": "2022-09-11T10:58:33.574Z"
   },
   {
    "duration": 64,
    "start_time": "2022-09-11T11:00:16.990Z"
   },
   {
    "duration": 81,
    "start_time": "2022-09-11T11:00:28.093Z"
   },
   {
    "duration": 79,
    "start_time": "2022-09-11T11:00:42.140Z"
   },
   {
    "duration": 186,
    "start_time": "2022-09-11T11:00:48.381Z"
   },
   {
    "duration": 20,
    "start_time": "2022-09-11T11:01:33.265Z"
   },
   {
    "duration": 282,
    "start_time": "2022-09-11T11:01:58.404Z"
   },
   {
    "duration": 17,
    "start_time": "2022-09-11T11:02:29.219Z"
   },
   {
    "duration": 250,
    "start_time": "2022-09-11T11:02:34.223Z"
   },
   {
    "duration": 18,
    "start_time": "2022-09-11T11:02:58.754Z"
   },
   {
    "duration": 342,
    "start_time": "2022-09-11T11:03:04.362Z"
   },
   {
    "duration": 17,
    "start_time": "2022-09-11T11:08:34.582Z"
   },
   {
    "duration": 272,
    "start_time": "2022-09-11T11:08:39.809Z"
   },
   {
    "duration": 19,
    "start_time": "2022-09-11T11:08:46.172Z"
   },
   {
    "duration": 249,
    "start_time": "2022-09-11T11:08:54.598Z"
   },
   {
    "duration": 19,
    "start_time": "2022-09-11T11:09:00.762Z"
   },
   {
    "duration": 260,
    "start_time": "2022-09-11T11:09:02.250Z"
   },
   {
    "duration": 18,
    "start_time": "2022-09-11T11:10:14.230Z"
   },
   {
    "duration": 221,
    "start_time": "2022-09-11T11:10:18.748Z"
   },
   {
    "duration": 19,
    "start_time": "2022-09-11T11:10:38.830Z"
   },
   {
    "duration": 216,
    "start_time": "2022-09-11T11:10:42.751Z"
   },
   {
    "duration": 17,
    "start_time": "2022-09-11T11:10:46.445Z"
   },
   {
    "duration": 277,
    "start_time": "2022-09-11T11:10:51.695Z"
   },
   {
    "duration": 17,
    "start_time": "2022-09-11T11:15:59.489Z"
   },
   {
    "duration": 7,
    "start_time": "2022-09-11T11:16:06.736Z"
   },
   {
    "duration": 7,
    "start_time": "2022-09-11T11:16:07.632Z"
   },
   {
    "duration": 5,
    "start_time": "2022-09-11T11:17:33.812Z"
   },
   {
    "duration": 5,
    "start_time": "2022-09-11T11:18:26.823Z"
   },
   {
    "duration": 7,
    "start_time": "2022-09-11T11:18:31.537Z"
   },
   {
    "duration": 5,
    "start_time": "2022-09-11T11:18:32.970Z"
   },
   {
    "duration": 7,
    "start_time": "2022-09-11T11:18:48.892Z"
   },
   {
    "duration": 4,
    "start_time": "2022-09-11T11:18:50.668Z"
   },
   {
    "duration": 6,
    "start_time": "2022-09-11T11:18:59.801Z"
   },
   {
    "duration": 6,
    "start_time": "2022-09-11T11:19:01.347Z"
   },
   {
    "duration": 7,
    "start_time": "2022-09-11T11:19:30.761Z"
   },
   {
    "duration": 5,
    "start_time": "2022-09-11T11:19:32.463Z"
   },
   {
    "duration": 10,
    "start_time": "2022-09-11T11:19:35.409Z"
   },
   {
    "duration": 8,
    "start_time": "2022-09-11T11:20:12.957Z"
   },
   {
    "duration": 4,
    "start_time": "2022-09-11T11:20:14.468Z"
   },
   {
    "duration": 6,
    "start_time": "2022-09-11T11:20:15.834Z"
   },
   {
    "duration": 3,
    "start_time": "2022-09-11T11:20:18.753Z"
   },
   {
    "duration": 6,
    "start_time": "2022-09-11T11:20:22.869Z"
   },
   {
    "duration": 7,
    "start_time": "2022-09-11T11:20:34.712Z"
   },
   {
    "duration": 5,
    "start_time": "2022-09-11T11:20:39.648Z"
   },
   {
    "duration": 4,
    "start_time": "2022-09-11T11:20:44.634Z"
   },
   {
    "duration": 4,
    "start_time": "2022-09-11T11:20:46.588Z"
   },
   {
    "duration": 8,
    "start_time": "2022-09-11T11:21:01.271Z"
   },
   {
    "duration": 9,
    "start_time": "2022-09-11T11:21:02.910Z"
   },
   {
    "duration": 9,
    "start_time": "2022-09-11T11:21:05.342Z"
   },
   {
    "duration": 4,
    "start_time": "2022-09-11T11:21:07.368Z"
   },
   {
    "duration": 8,
    "start_time": "2022-09-11T11:21:09.095Z"
   },
   {
    "duration": 4,
    "start_time": "2022-09-11T11:21:11.537Z"
   },
   {
    "duration": 6,
    "start_time": "2022-09-11T11:21:16.236Z"
   },
   {
    "duration": 6,
    "start_time": "2022-09-11T11:21:18.830Z"
   },
   {
    "duration": 5,
    "start_time": "2022-09-11T11:21:23.501Z"
   },
   {
    "duration": 4,
    "start_time": "2022-09-11T11:21:26.643Z"
   },
   {
    "duration": 4,
    "start_time": "2022-09-11T11:21:28.671Z"
   },
   {
    "duration": 7,
    "start_time": "2022-09-11T11:35:40.790Z"
   },
   {
    "duration": 4,
    "start_time": "2022-09-11T11:35:43.025Z"
   },
   {
    "duration": 4,
    "start_time": "2022-09-11T11:35:44.585Z"
   },
   {
    "duration": 5,
    "start_time": "2022-09-11T11:35:46.042Z"
   },
   {
    "duration": 5,
    "start_time": "2022-09-11T11:36:33.544Z"
   },
   {
    "duration": 6,
    "start_time": "2022-09-11T11:36:41.625Z"
   },
   {
    "duration": 4,
    "start_time": "2022-09-11T11:36:43.192Z"
   },
   {
    "duration": 3,
    "start_time": "2022-09-11T11:36:44.707Z"
   },
   {
    "duration": 5,
    "start_time": "2022-09-11T11:36:46.238Z"
   },
   {
    "duration": 11,
    "start_time": "2022-09-11T11:36:52.093Z"
   },
   {
    "duration": 5,
    "start_time": "2022-09-11T11:38:08.240Z"
   },
   {
    "duration": 21,
    "start_time": "2022-09-11T11:38:54.845Z"
   },
   {
    "duration": 10,
    "start_time": "2022-09-11T11:39:00.286Z"
   },
   {
    "duration": 14,
    "start_time": "2022-09-11T12:13:15.938Z"
   },
   {
    "duration": 14,
    "start_time": "2022-09-11T12:15:57.651Z"
   },
   {
    "duration": 10,
    "start_time": "2022-09-11T12:16:02.628Z"
   },
   {
    "duration": 11,
    "start_time": "2022-09-11T12:16:14.741Z"
   },
   {
    "duration": 4,
    "start_time": "2022-09-11T12:17:18.366Z"
   },
   {
    "duration": 1438,
    "start_time": "2022-09-11T12:17:24.824Z"
   },
   {
    "duration": 1237,
    "start_time": "2022-09-11T12:17:26.780Z"
   },
   {
    "duration": 15,
    "start_time": "2022-09-11T12:17:52.477Z"
   },
   {
    "duration": 660,
    "start_time": "2022-09-11T12:18:57.992Z"
   },
   {
    "duration": 1311,
    "start_time": "2022-09-11T12:19:08.640Z"
   },
   {
    "duration": 12,
    "start_time": "2022-09-11T12:21:04.463Z"
   },
   {
    "duration": 253,
    "start_time": "2022-09-11T12:21:18.381Z"
   },
   {
    "duration": 37,
    "start_time": "2022-09-11T12:23:01.241Z"
   },
   {
    "duration": 9,
    "start_time": "2022-09-11T12:23:07.196Z"
   },
   {
    "duration": 7,
    "start_time": "2022-09-11T12:23:17.162Z"
   },
   {
    "duration": 258,
    "start_time": "2022-09-11T12:32:26.522Z"
   },
   {
    "duration": 11,
    "start_time": "2022-09-11T12:32:33.684Z"
   },
   {
    "duration": 11,
    "start_time": "2022-09-11T12:33:16.637Z"
   },
   {
    "duration": 315,
    "start_time": "2022-09-11T12:33:25.607Z"
   },
   {
    "duration": 12,
    "start_time": "2022-09-11T12:33:34.318Z"
   },
   {
    "duration": 12,
    "start_time": "2022-09-11T12:34:27.306Z"
   },
   {
    "duration": 253,
    "start_time": "2022-09-11T12:34:35.149Z"
   },
   {
    "duration": 298,
    "start_time": "2022-09-11T12:34:39.681Z"
   },
   {
    "duration": 304,
    "start_time": "2022-09-11T12:36:44.307Z"
   },
   {
    "duration": 11,
    "start_time": "2022-09-11T12:36:50.931Z"
   },
   {
    "duration": 390,
    "start_time": "2022-09-11T12:36:53.577Z"
   },
   {
    "duration": 206,
    "start_time": "2022-09-11T12:38:14.437Z"
   },
   {
    "duration": 204,
    "start_time": "2022-09-11T12:38:43.866Z"
   },
   {
    "duration": 19,
    "start_time": "2022-09-11T12:40:57.450Z"
   },
   {
    "duration": 3,
    "start_time": "2022-09-11T12:41:15.897Z"
   },
   {
    "duration": 96,
    "start_time": "2022-09-11T12:41:16.559Z"
   },
   {
    "duration": 21,
    "start_time": "2022-09-11T12:41:21.416Z"
   },
   {
    "duration": 16,
    "start_time": "2022-09-11T12:41:24.169Z"
   },
   {
    "duration": 3,
    "start_time": "2022-09-11T12:41:28.274Z"
   },
   {
    "duration": 16,
    "start_time": "2022-09-11T12:41:30.920Z"
   },
   {
    "duration": 20,
    "start_time": "2022-09-11T12:41:36.087Z"
   },
   {
    "duration": 17,
    "start_time": "2022-09-11T12:41:40.836Z"
   },
   {
    "duration": 6,
    "start_time": "2022-09-11T12:41:55.725Z"
   },
   {
    "duration": 5,
    "start_time": "2022-09-11T12:41:59.674Z"
   },
   {
    "duration": 19,
    "start_time": "2022-09-11T12:42:03.305Z"
   },
   {
    "duration": 5,
    "start_time": "2022-09-11T12:42:07.068Z"
   },
   {
    "duration": 15,
    "start_time": "2022-09-11T12:42:09.644Z"
   },
   {
    "duration": 361,
    "start_time": "2022-09-11T12:42:15.679Z"
   },
   {
    "duration": 357,
    "start_time": "2022-09-11T12:42:19.608Z"
   },
   {
    "duration": 316,
    "start_time": "2022-09-11T12:42:36.071Z"
   },
   {
    "duration": 14,
    "start_time": "2022-09-11T12:42:50.831Z"
   },
   {
    "duration": 20,
    "start_time": "2022-09-11T12:43:11.469Z"
   },
   {
    "duration": 312,
    "start_time": "2022-09-11T12:43:36.805Z"
   },
   {
    "duration": 16,
    "start_time": "2022-09-11T12:44:32.938Z"
   },
   {
    "duration": 7,
    "start_time": "2022-09-11T12:44:36.412Z"
   },
   {
    "duration": 19,
    "start_time": "2022-09-11T12:44:39.993Z"
   },
   {
    "duration": 10,
    "start_time": "2022-09-11T12:45:46.148Z"
   },
   {
    "duration": 14,
    "start_time": "2022-09-11T12:45:57.231Z"
   },
   {
    "duration": 91,
    "start_time": "2022-09-11T12:47:00.777Z"
   },
   {
    "duration": 156,
    "start_time": "2022-09-11T12:48:16.278Z"
   },
   {
    "duration": 12,
    "start_time": "2022-09-11T12:48:43.162Z"
   },
   {
    "duration": 361,
    "start_time": "2022-09-11T12:48:46.922Z"
   },
   {
    "duration": 16,
    "start_time": "2022-09-11T12:49:32.929Z"
   },
   {
    "duration": 312,
    "start_time": "2022-09-11T12:49:36.753Z"
   },
   {
    "duration": 12,
    "start_time": "2022-09-11T13:04:56.419Z"
   },
   {
    "duration": 15,
    "start_time": "2022-09-11T13:05:11.676Z"
   },
   {
    "duration": 204,
    "start_time": "2022-09-11T13:05:45.197Z"
   },
   {
    "duration": 20,
    "start_time": "2022-09-11T13:08:53.064Z"
   },
   {
    "duration": 24,
    "start_time": "2022-09-11T13:14:53.902Z"
   },
   {
    "duration": 9,
    "start_time": "2022-09-11T13:15:01.777Z"
   },
   {
    "duration": 7,
    "start_time": "2022-09-11T13:15:03.571Z"
   },
   {
    "duration": 8,
    "start_time": "2022-09-11T13:15:26.644Z"
   },
   {
    "duration": 4,
    "start_time": "2022-09-11T13:15:28.170Z"
   },
   {
    "duration": 4,
    "start_time": "2022-09-11T13:15:31.544Z"
   },
   {
    "duration": 6,
    "start_time": "2022-09-11T13:15:35.968Z"
   },
   {
    "duration": 16,
    "start_time": "2022-09-11T13:15:47.930Z"
   },
   {
    "duration": 7,
    "start_time": "2022-09-11T13:15:48.673Z"
   },
   {
    "duration": 6,
    "start_time": "2022-09-11T13:15:49.354Z"
   },
   {
    "duration": 8,
    "start_time": "2022-09-11T13:15:50.055Z"
   },
   {
    "duration": 3,
    "start_time": "2022-09-11T13:15:50.635Z"
   },
   {
    "duration": 6,
    "start_time": "2022-09-11T13:15:51.161Z"
   },
   {
    "duration": 4,
    "start_time": "2022-09-11T13:15:54.627Z"
   },
   {
    "duration": 282,
    "start_time": "2022-09-11T13:15:55.251Z"
   },
   {
    "duration": 8,
    "start_time": "2022-09-11T13:16:01.571Z"
   },
   {
    "duration": 7,
    "start_time": "2022-09-11T13:16:04.234Z"
   },
   {
    "duration": 4,
    "start_time": "2022-09-11T13:17:19.379Z"
   },
   {
    "duration": 3,
    "start_time": "2022-09-11T13:17:26.666Z"
   },
   {
    "duration": 4,
    "start_time": "2022-09-11T13:17:28.242Z"
   },
   {
    "duration": 6,
    "start_time": "2022-09-11T13:18:30.220Z"
   },
   {
    "duration": 4,
    "start_time": "2022-09-11T13:18:32.744Z"
   },
   {
    "duration": 4,
    "start_time": "2022-09-11T13:18:34.127Z"
   },
   {
    "duration": 8,
    "start_time": "2022-09-11T13:19:04.764Z"
   },
   {
    "duration": 8,
    "start_time": "2022-09-11T13:19:06.399Z"
   },
   {
    "duration": 7,
    "start_time": "2022-09-11T13:19:11.088Z"
   },
   {
    "duration": 4,
    "start_time": "2022-09-11T13:19:11.592Z"
   },
   {
    "duration": 7,
    "start_time": "2022-09-11T13:19:12.078Z"
   },
   {
    "duration": 3,
    "start_time": "2022-09-11T13:19:14.299Z"
   },
   {
    "duration": 6,
    "start_time": "2022-09-11T13:19:16.415Z"
   },
   {
    "duration": 5,
    "start_time": "2022-09-11T13:19:17.224Z"
   },
   {
    "duration": 6,
    "start_time": "2022-09-11T13:19:20.012Z"
   },
   {
    "duration": 4,
    "start_time": "2022-09-11T13:19:21.405Z"
   },
   {
    "duration": 4,
    "start_time": "2022-09-11T13:19:24.310Z"
   },
   {
    "duration": 5,
    "start_time": "2022-09-11T13:21:29.769Z"
   },
   {
    "duration": 4,
    "start_time": "2022-09-11T13:21:48.141Z"
   },
   {
    "duration": 3,
    "start_time": "2022-09-11T13:22:03.993Z"
   },
   {
    "duration": 106,
    "start_time": "2022-09-11T13:22:05.468Z"
   },
   {
    "duration": 14,
    "start_time": "2022-09-11T13:22:09.289Z"
   },
   {
    "duration": 16,
    "start_time": "2022-09-11T13:22:14.179Z"
   },
   {
    "duration": 3,
    "start_time": "2022-09-11T13:22:17.822Z"
   },
   {
    "duration": 15,
    "start_time": "2022-09-11T13:22:18.303Z"
   },
   {
    "duration": 29,
    "start_time": "2022-09-11T13:22:21.833Z"
   },
   {
    "duration": 29,
    "start_time": "2022-09-11T13:22:25.947Z"
   },
   {
    "duration": 5,
    "start_time": "2022-09-11T13:22:29.037Z"
   },
   {
    "duration": 5,
    "start_time": "2022-09-11T13:22:33.198Z"
   },
   {
    "duration": 6,
    "start_time": "2022-09-11T13:22:36.250Z"
   },
   {
    "duration": 16,
    "start_time": "2022-09-11T13:22:38.353Z"
   },
   {
    "duration": 356,
    "start_time": "2022-09-11T13:22:42.595Z"
   },
   {
    "duration": 390,
    "start_time": "2022-09-11T13:22:46.557Z"
   },
   {
    "duration": 382,
    "start_time": "2022-09-11T13:22:51.567Z"
   },
   {
    "duration": 22,
    "start_time": "2022-09-11T13:22:54.903Z"
   },
   {
    "duration": 22,
    "start_time": "2022-09-11T13:23:25.971Z"
   },
   {
    "duration": 336,
    "start_time": "2022-09-11T13:23:36.809Z"
   },
   {
    "duration": 17,
    "start_time": "2022-09-11T13:23:57.665Z"
   },
   {
    "duration": 8,
    "start_time": "2022-09-11T13:24:00.723Z"
   },
   {
    "duration": 17,
    "start_time": "2022-09-11T13:24:10.898Z"
   },
   {
    "duration": 158,
    "start_time": "2022-09-11T13:25:34.577Z"
   },
   {
    "duration": 14,
    "start_time": "2022-09-11T13:28:25.390Z"
   },
   {
    "duration": 3,
    "start_time": "2022-09-11T13:47:30.858Z"
   },
   {
    "duration": 107,
    "start_time": "2022-09-11T13:47:32.109Z"
   },
   {
    "duration": 18,
    "start_time": "2022-09-11T13:47:36.742Z"
   },
   {
    "duration": 16,
    "start_time": "2022-09-11T13:47:37.648Z"
   },
   {
    "duration": 3,
    "start_time": "2022-09-11T13:47:43.144Z"
   },
   {
    "duration": 25,
    "start_time": "2022-09-11T13:47:43.846Z"
   },
   {
    "duration": 22,
    "start_time": "2022-09-11T13:47:48.180Z"
   },
   {
    "duration": 18,
    "start_time": "2022-09-11T13:48:22.588Z"
   },
   {
    "duration": 5,
    "start_time": "2022-09-11T13:48:31.667Z"
   },
   {
    "duration": 5,
    "start_time": "2022-09-11T13:48:35.469Z"
   },
   {
    "duration": 18,
    "start_time": "2022-09-11T13:48:37.953Z"
   },
   {
    "duration": 5,
    "start_time": "2022-09-11T13:48:41.507Z"
   },
   {
    "duration": 483,
    "start_time": "2022-09-11T13:48:57.368Z"
   },
   {
    "duration": 442,
    "start_time": "2022-09-11T13:49:11.724Z"
   },
   {
    "duration": 371,
    "start_time": "2022-09-11T13:49:21.704Z"
   },
   {
    "duration": 14,
    "start_time": "2022-09-11T13:49:26.473Z"
   },
   {
    "duration": 21,
    "start_time": "2022-09-11T13:49:30.873Z"
   },
   {
    "duration": 305,
    "start_time": "2022-09-11T13:49:39.631Z"
   },
   {
    "duration": 16,
    "start_time": "2022-09-11T13:50:01.262Z"
   },
   {
    "duration": 7,
    "start_time": "2022-09-11T13:50:06.313Z"
   },
   {
    "duration": 16,
    "start_time": "2022-09-11T13:50:12.568Z"
   },
   {
    "duration": 160,
    "start_time": "2022-09-11T13:50:18.919Z"
   },
   {
    "duration": 12,
    "start_time": "2022-09-11T13:51:01.356Z"
   },
   {
    "duration": 241,
    "start_time": "2022-09-11T13:51:04.008Z"
   },
   {
    "duration": 12,
    "start_time": "2022-09-11T13:51:19.844Z"
   },
   {
    "duration": 359,
    "start_time": "2022-09-11T13:51:21.871Z"
   },
   {
    "duration": 13,
    "start_time": "2022-09-11T13:51:24.563Z"
   },
   {
    "duration": 293,
    "start_time": "2022-09-11T13:51:25.071Z"
   },
   {
    "duration": 305,
    "start_time": "2022-09-11T13:51:43.249Z"
   },
   {
    "duration": 294,
    "start_time": "2022-09-11T13:52:23.670Z"
   },
   {
    "duration": 291,
    "start_time": "2022-09-11T13:53:07.304Z"
   },
   {
    "duration": 219,
    "start_time": "2022-09-11T13:53:13.156Z"
   },
   {
    "duration": 205,
    "start_time": "2022-09-11T13:53:29.686Z"
   },
   {
    "duration": 24,
    "start_time": "2022-09-11T13:54:09.964Z"
   },
   {
    "duration": 248,
    "start_time": "2022-09-11T13:54:25.264Z"
   },
   {
    "duration": 18,
    "start_time": "2022-09-11T13:54:30.422Z"
   },
   {
    "duration": 247,
    "start_time": "2022-09-11T13:54:32.626Z"
   },
   {
    "duration": 17,
    "start_time": "2022-09-11T13:54:38.210Z"
   },
   {
    "duration": 386,
    "start_time": "2022-09-11T13:55:20.268Z"
   },
   {
    "duration": 17,
    "start_time": "2022-09-11T13:57:42.612Z"
   },
   {
    "duration": 279,
    "start_time": "2022-09-11T13:58:02.070Z"
   },
   {
    "duration": 19,
    "start_time": "2022-09-11T13:58:03.106Z"
   },
   {
    "duration": 253,
    "start_time": "2022-09-11T13:58:03.808Z"
   },
   {
    "duration": 18,
    "start_time": "2022-09-11T13:58:04.502Z"
   },
   {
    "duration": 261,
    "start_time": "2022-09-11T13:58:07.155Z"
   },
   {
    "duration": 18,
    "start_time": "2022-09-11T14:00:12.880Z"
   },
   {
    "duration": 223,
    "start_time": "2022-09-11T14:00:13.774Z"
   },
   {
    "duration": 18,
    "start_time": "2022-09-11T14:00:14.855Z"
   },
   {
    "duration": 224,
    "start_time": "2022-09-11T14:00:15.459Z"
   },
   {
    "duration": 18,
    "start_time": "2022-09-11T14:00:24.586Z"
   },
   {
    "duration": 241,
    "start_time": "2022-09-11T14:00:25.252Z"
   },
   {
    "duration": 17,
    "start_time": "2022-09-11T14:00:34.105Z"
   },
   {
    "duration": 8,
    "start_time": "2022-09-11T14:00:36.680Z"
   },
   {
    "duration": 8,
    "start_time": "2022-09-11T14:00:37.402Z"
   },
   {
    "duration": 8,
    "start_time": "2022-09-11T14:00:39.543Z"
   },
   {
    "duration": 3,
    "start_time": "2022-09-11T14:00:40.120Z"
   },
   {
    "duration": 6,
    "start_time": "2022-09-11T14:00:40.896Z"
   },
   {
    "duration": 3,
    "start_time": "2022-09-11T14:00:44.053Z"
   },
   {
    "duration": 6,
    "start_time": "2022-09-11T14:00:46.468Z"
   },
   {
    "duration": 6,
    "start_time": "2022-09-11T14:00:49.104Z"
   },
   {
    "duration": 5,
    "start_time": "2022-09-11T14:01:07.492Z"
   },
   {
    "duration": 3,
    "start_time": "2022-09-11T14:01:11.476Z"
   },
   {
    "duration": 5,
    "start_time": "2022-09-11T14:01:12.196Z"
   },
   {
    "duration": 7,
    "start_time": "2022-09-11T14:01:22.496Z"
   },
   {
    "duration": 7,
    "start_time": "2022-09-11T14:01:22.924Z"
   },
   {
    "duration": 8,
    "start_time": "2022-09-11T14:01:23.570Z"
   },
   {
    "duration": 4,
    "start_time": "2022-09-11T14:01:24.080Z"
   },
   {
    "duration": 6,
    "start_time": "2022-09-11T14:01:24.680Z"
   },
   {
    "duration": 3,
    "start_time": "2022-09-11T14:01:26.715Z"
   },
   {
    "duration": 8,
    "start_time": "2022-09-11T14:01:27.480Z"
   },
   {
    "duration": 7,
    "start_time": "2022-09-11T14:01:31.847Z"
   },
   {
    "duration": 5,
    "start_time": "2022-09-11T14:01:37.639Z"
   },
   {
    "duration": 3,
    "start_time": "2022-09-11T14:01:38.296Z"
   },
   {
    "duration": 4,
    "start_time": "2022-09-11T14:01:38.999Z"
   },
   {
    "duration": 1203,
    "start_time": "2022-09-11T14:06:51.710Z"
   },
   {
    "duration": 89,
    "start_time": "2022-09-11T14:06:52.915Z"
   },
   {
    "duration": 15,
    "start_time": "2022-09-11T14:06:53.005Z"
   },
   {
    "duration": 20,
    "start_time": "2022-09-11T14:06:53.022Z"
   },
   {
    "duration": 3,
    "start_time": "2022-09-11T14:06:53.043Z"
   },
   {
    "duration": 17,
    "start_time": "2022-09-11T14:06:53.048Z"
   },
   {
    "duration": 44,
    "start_time": "2022-09-11T14:06:53.067Z"
   },
   {
    "duration": 16,
    "start_time": "2022-09-11T14:06:53.113Z"
   },
   {
    "duration": 6,
    "start_time": "2022-09-11T14:06:53.131Z"
   },
   {
    "duration": 7,
    "start_time": "2022-09-11T14:06:53.139Z"
   },
   {
    "duration": 19,
    "start_time": "2022-09-11T14:06:53.148Z"
   },
   {
    "duration": 6,
    "start_time": "2022-09-11T14:06:53.192Z"
   },
   {
    "duration": 23,
    "start_time": "2022-09-11T14:06:53.199Z"
   },
   {
    "duration": 384,
    "start_time": "2022-09-11T14:06:53.223Z"
   },
   {
    "duration": 347,
    "start_time": "2022-09-11T14:06:53.609Z"
   },
   {
    "duration": 309,
    "start_time": "2022-09-11T14:06:53.958Z"
   },
   {
    "duration": 23,
    "start_time": "2022-09-11T14:06:54.269Z"
   },
   {
    "duration": 19,
    "start_time": "2022-09-11T14:06:54.294Z"
   },
   {
    "duration": 333,
    "start_time": "2022-09-11T14:06:54.314Z"
   },
   {
    "duration": 15,
    "start_time": "2022-09-11T14:06:54.649Z"
   },
   {
    "duration": 9,
    "start_time": "2022-09-11T14:06:54.666Z"
   },
   {
    "duration": 40,
    "start_time": "2022-09-11T14:06:54.676Z"
   },
   {
    "duration": 166,
    "start_time": "2022-09-11T14:06:54.718Z"
   },
   {
    "duration": 13,
    "start_time": "2022-09-11T14:06:54.886Z"
   },
   {
    "duration": 350,
    "start_time": "2022-09-11T14:06:54.901Z"
   },
   {
    "duration": 12,
    "start_time": "2022-09-11T14:06:55.253Z"
   },
   {
    "duration": 307,
    "start_time": "2022-09-11T14:06:55.267Z"
   },
   {
    "duration": 18,
    "start_time": "2022-09-11T14:06:55.579Z"
   },
   {
    "duration": 294,
    "start_time": "2022-09-11T14:06:55.599Z"
   },
   {
    "duration": 223,
    "start_time": "2022-09-11T14:06:55.895Z"
   },
   {
    "duration": 194,
    "start_time": "2022-09-11T14:06:56.120Z"
   },
   {
    "duration": 19,
    "start_time": "2022-09-11T14:06:56.316Z"
   },
   {
    "duration": 252,
    "start_time": "2022-09-11T14:06:56.337Z"
   },
   {
    "duration": 16,
    "start_time": "2022-09-11T14:06:56.592Z"
   },
   {
    "duration": 264,
    "start_time": "2022-09-11T14:06:56.610Z"
   },
   {
    "duration": 26,
    "start_time": "2022-09-11T14:06:56.876Z"
   },
   {
    "duration": 255,
    "start_time": "2022-09-11T14:06:56.904Z"
   },
   {
    "duration": 18,
    "start_time": "2022-09-11T14:06:57.161Z"
   },
   {
    "duration": 260,
    "start_time": "2022-09-11T14:06:57.192Z"
   },
   {
    "duration": 18,
    "start_time": "2022-09-11T14:06:57.454Z"
   },
   {
    "duration": 264,
    "start_time": "2022-09-11T14:06:57.473Z"
   },
   {
    "duration": 17,
    "start_time": "2022-09-11T14:06:57.739Z"
   },
   {
    "duration": 261,
    "start_time": "2022-09-11T14:06:57.758Z"
   },
   {
    "duration": 16,
    "start_time": "2022-09-11T14:06:58.021Z"
   },
   {
    "duration": 320,
    "start_time": "2022-09-11T14:06:58.039Z"
   },
   {
    "duration": 17,
    "start_time": "2022-09-11T14:06:58.361Z"
   },
   {
    "duration": 231,
    "start_time": "2022-09-11T14:06:58.379Z"
   },
   {
    "duration": 18,
    "start_time": "2022-09-11T14:06:58.611Z"
   },
   {
    "duration": 246,
    "start_time": "2022-09-11T14:06:58.630Z"
   },
   {
    "duration": 26,
    "start_time": "2022-09-11T14:06:58.877Z"
   },
   {
    "duration": 8,
    "start_time": "2022-09-11T14:06:58.905Z"
   },
   {
    "duration": 8,
    "start_time": "2022-09-11T14:06:58.914Z"
   },
   {
    "duration": 8,
    "start_time": "2022-09-11T14:06:58.924Z"
   },
   {
    "duration": 4,
    "start_time": "2022-09-11T14:06:58.934Z"
   },
   {
    "duration": 8,
    "start_time": "2022-09-11T14:06:58.940Z"
   },
   {
    "duration": 6,
    "start_time": "2022-09-11T14:06:58.949Z"
   },
   {
    "duration": 37,
    "start_time": "2022-09-11T14:06:58.957Z"
   },
   {
    "duration": 7,
    "start_time": "2022-09-11T14:06:58.996Z"
   },
   {
    "duration": 11,
    "start_time": "2022-09-11T14:06:59.005Z"
   },
   {
    "duration": 6,
    "start_time": "2022-09-11T14:06:59.018Z"
   },
   {
    "duration": 6,
    "start_time": "2022-09-11T14:06:59.026Z"
   },
   {
    "duration": 8,
    "start_time": "2022-09-11T14:06:59.034Z"
   },
   {
    "duration": 10,
    "start_time": "2022-09-11T14:06:59.044Z"
   },
   {
    "duration": 40,
    "start_time": "2022-09-11T14:06:59.055Z"
   },
   {
    "duration": 3,
    "start_time": "2022-09-11T14:06:59.096Z"
   },
   {
    "duration": 8,
    "start_time": "2022-09-11T14:06:59.101Z"
   },
   {
    "duration": 5,
    "start_time": "2022-09-11T14:06:59.111Z"
   },
   {
    "duration": 8,
    "start_time": "2022-09-11T14:06:59.117Z"
   },
   {
    "duration": 6,
    "start_time": "2022-09-11T14:06:59.127Z"
   },
   {
    "duration": 6,
    "start_time": "2022-09-11T14:06:59.135Z"
   },
   {
    "duration": 5,
    "start_time": "2022-09-11T14:06:59.143Z"
   },
   {
    "duration": 10,
    "start_time": "2022-09-11T14:06:59.150Z"
   },
   {
    "duration": 1044,
    "start_time": "2022-09-11T16:32:53.570Z"
   },
   {
    "duration": 267,
    "start_time": "2022-09-11T16:32:54.616Z"
   },
   {
    "duration": 14,
    "start_time": "2022-09-11T16:32:54.885Z"
   },
   {
    "duration": 18,
    "start_time": "2022-09-11T16:32:54.900Z"
   },
   {
    "duration": 3,
    "start_time": "2022-09-11T16:32:54.920Z"
   },
   {
    "duration": 14,
    "start_time": "2022-09-11T16:32:54.925Z"
   },
   {
    "duration": 31,
    "start_time": "2022-09-11T16:32:54.940Z"
   },
   {
    "duration": 16,
    "start_time": "2022-09-11T16:32:54.972Z"
   },
   {
    "duration": 6,
    "start_time": "2022-09-11T16:32:54.989Z"
   },
   {
    "duration": 10,
    "start_time": "2022-09-11T16:32:54.996Z"
   },
   {
    "duration": 22,
    "start_time": "2022-09-11T16:32:55.007Z"
   },
   {
    "duration": 4,
    "start_time": "2022-09-11T16:32:55.031Z"
   },
   {
    "duration": 13,
    "start_time": "2022-09-11T16:32:55.055Z"
   },
   {
    "duration": 316,
    "start_time": "2022-09-11T16:32:55.070Z"
   },
   {
    "duration": 295,
    "start_time": "2022-09-11T16:32:55.388Z"
   },
   {
    "duration": 311,
    "start_time": "2022-09-11T16:32:55.685Z"
   },
   {
    "duration": 12,
    "start_time": "2022-09-11T16:32:55.997Z"
   },
   {
    "duration": 18,
    "start_time": "2022-09-11T16:32:56.011Z"
   },
   {
    "duration": 314,
    "start_time": "2022-09-11T16:32:56.031Z"
   },
   {
    "duration": 15,
    "start_time": "2022-09-11T16:32:56.346Z"
   },
   {
    "duration": 5,
    "start_time": "2022-09-11T16:32:56.362Z"
   },
   {
    "duration": 15,
    "start_time": "2022-09-11T16:32:56.369Z"
   },
   {
    "duration": 155,
    "start_time": "2022-09-11T16:32:56.385Z"
   },
   {
    "duration": 17,
    "start_time": "2022-09-11T16:32:56.541Z"
   },
   {
    "duration": 304,
    "start_time": "2022-09-11T16:32:56.560Z"
   },
   {
    "duration": 11,
    "start_time": "2022-09-11T16:32:56.866Z"
   },
   {
    "duration": 266,
    "start_time": "2022-09-11T16:32:56.878Z"
   },
   {
    "duration": 16,
    "start_time": "2022-09-11T16:32:57.146Z"
   },
   {
    "duration": 291,
    "start_time": "2022-09-11T16:32:57.164Z"
   },
   {
    "duration": 210,
    "start_time": "2022-09-11T16:32:57.457Z"
   },
   {
    "duration": 177,
    "start_time": "2022-09-11T16:32:57.668Z"
   },
   {
    "duration": 21,
    "start_time": "2022-09-11T16:32:57.846Z"
   },
   {
    "duration": 216,
    "start_time": "2022-09-11T16:32:57.868Z"
   },
   {
    "duration": 15,
    "start_time": "2022-09-11T16:32:58.085Z"
   },
   {
    "duration": 222,
    "start_time": "2022-09-11T16:32:58.101Z"
   },
   {
    "duration": 16,
    "start_time": "2022-09-11T16:32:58.325Z"
   },
   {
    "duration": 211,
    "start_time": "2022-09-11T16:32:58.354Z"
   },
   {
    "duration": 15,
    "start_time": "2022-09-11T16:32:58.566Z"
   },
   {
    "duration": 223,
    "start_time": "2022-09-11T16:32:58.582Z"
   },
   {
    "duration": 15,
    "start_time": "2022-09-11T16:32:58.806Z"
   },
   {
    "duration": 233,
    "start_time": "2022-09-11T16:32:58.824Z"
   },
   {
    "duration": 16,
    "start_time": "2022-09-11T16:32:59.058Z"
   },
   {
    "duration": 222,
    "start_time": "2022-09-11T16:32:59.075Z"
   },
   {
    "duration": 14,
    "start_time": "2022-09-11T16:32:59.299Z"
   },
   {
    "duration": 274,
    "start_time": "2022-09-11T16:32:59.315Z"
   },
   {
    "duration": 15,
    "start_time": "2022-09-11T16:32:59.590Z"
   },
   {
    "duration": 197,
    "start_time": "2022-09-11T16:32:59.607Z"
   },
   {
    "duration": 16,
    "start_time": "2022-09-11T16:32:59.806Z"
   },
   {
    "duration": 208,
    "start_time": "2022-09-11T16:32:59.823Z"
   },
   {
    "duration": 23,
    "start_time": "2022-09-11T16:33:00.032Z"
   },
   {
    "duration": 5,
    "start_time": "2022-09-11T16:33:00.057Z"
   },
   {
    "duration": 9,
    "start_time": "2022-09-11T16:33:00.064Z"
   },
   {
    "duration": 11,
    "start_time": "2022-09-11T16:33:00.074Z"
   },
   {
    "duration": 8,
    "start_time": "2022-09-11T16:33:00.086Z"
   },
   {
    "duration": 11,
    "start_time": "2022-09-11T16:33:00.096Z"
   },
   {
    "duration": 7,
    "start_time": "2022-09-11T16:33:00.109Z"
   },
   {
    "duration": 13,
    "start_time": "2022-09-11T16:33:00.117Z"
   },
   {
    "duration": 7,
    "start_time": "2022-09-11T16:33:00.132Z"
   },
   {
    "duration": 15,
    "start_time": "2022-09-11T16:33:00.141Z"
   },
   {
    "duration": 10,
    "start_time": "2022-09-11T16:33:00.158Z"
   },
   {
    "duration": 17,
    "start_time": "2022-09-11T16:33:00.169Z"
   },
   {
    "duration": 20,
    "start_time": "2022-09-11T16:33:00.188Z"
   },
   {
    "duration": 24,
    "start_time": "2022-09-11T16:33:00.209Z"
   },
   {
    "duration": 16,
    "start_time": "2022-09-11T16:33:00.234Z"
   },
   {
    "duration": 20,
    "start_time": "2022-09-11T16:33:00.251Z"
   },
   {
    "duration": 11,
    "start_time": "2022-09-11T16:33:00.272Z"
   },
   {
    "duration": 16,
    "start_time": "2022-09-11T16:33:00.285Z"
   },
   {
    "duration": 34,
    "start_time": "2022-09-11T16:33:00.303Z"
   },
   {
    "duration": 39,
    "start_time": "2022-09-11T16:33:00.339Z"
   },
   {
    "duration": 17,
    "start_time": "2022-09-11T16:33:00.379Z"
   },
   {
    "duration": 25,
    "start_time": "2022-09-11T16:33:00.397Z"
   },
   {
    "duration": 19,
    "start_time": "2022-09-11T16:33:00.424Z"
   }
  ],
  "kernelspec": {
   "display_name": "Python 3 (ipykernel)",
   "language": "python",
   "name": "python3"
  },
  "language_info": {
   "codemirror_mode": {
    "name": "ipython",
    "version": 3
   },
   "file_extension": ".py",
   "mimetype": "text/x-python",
   "name": "python",
   "nbconvert_exporter": "python",
   "pygments_lexer": "ipython3",
   "version": "3.9.12"
  },
  "toc": {
   "base_numbering": 1,
   "nav_menu": {},
   "number_sections": true,
   "sideBar": true,
   "skip_h1_title": true,
   "title_cell": "Table of Contents",
   "title_sidebar": "Contents",
   "toc_cell": false,
   "toc_position": {},
   "toc_section_display": true,
   "toc_window_display": true
  }
 },
 "nbformat": 4,
 "nbformat_minor": 2
}
