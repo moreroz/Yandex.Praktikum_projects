{
 "cells": [
  {
   "cell_type": "markdown",
   "metadata": {},
   "source": [
    "# Analyzing prepaid plans for telecom\n",
    "\n",
    "Our project is to prepare a report for telecom operator Megaline. We need to find out which of the two plans brings in more revenue in order to adjust the advertising budget. The commersial department already has some data on Megaline clients.\n",
    "\n",
    "Our report will be considered after analysis of clients' behavior and determine which prepaid plan brings in more revenue\n",
    "\n",
    "We need to test the following hypothesises:\n",
    "\n",
    "•\tThe average revenue from users of Ultimate and Surf calling plans differs.\n",
    "\n",
    "•\tThe average revenue from users in NY-NJ area is different from that of the users from other regions."
   ]
  },
  {
   "cell_type": "markdown",
   "metadata": {},
   "source": [
    "## Open the data file and have a look at the general information. "
   ]
  },
  {
   "cell_type": "code",
   "execution_count": 4,
   "metadata": {},
   "outputs": [],
   "source": [
    "# Loading all the libraries\n",
    "\n",
    "import pandas as pd\n",
    "import matplotlib.pyplot as plt\n",
    "from scipy import stats as st\n",
    "from functools import reduce\n",
    "import seaborn as sns\n",
    "import numpy as np \n",
    "import math\n",
    "\n",
    "# Load the data\n",
    "\n",
    "try:\n",
    "    calls = pd.read_csv('megaline_calls.csv')\n",
    "    internet = pd.read_csv('megaline_internet.csv')\n",
    "    messages = pd.read_csv('megaline_messages.csv')\n",
    "    plans = pd.read_csv('megaline_plans.csv')\n",
    "    users = pd.read_csv('megaline_users.csv')\n",
    "except:\n",
    "    calls = pd.read_csv('/datasets/megaline_calls.csv')\n",
    "    internet = pd.read_csv('/datasets/megaline_internet.csv')\n",
    "    messages = pd.read_csv('/datasets/megaline_messages.csv')\n",
    "    plans = pd.read_csv('/datasets/megaline_plans.csv')\n",
    "    users = pd.read_csv('/datasets/megaline_users.csv')"
   ]
  },
  {
   "cell_type": "markdown",
   "metadata": {},
   "source": [
    " **Data exploration**\n",
    "\n",
    "**Description of the data**\n",
    "\n",
    "The `users` table (data on users):\n",
    "- `user_id` — unique user identifier\n",
    "- `first_name` — user's name\n",
    "- `last_name` — user's last name\n",
    "- `age` — user's age (years)\n",
    "- `reg_date` — subscription date (dd, mm, yy)\n",
    "- `churn_date` — the date the user stopped using the service (if the value is missing, the calling plan was being used when this database was extracted)\n",
    "- `city` — user's city of residence\n",
    "- `plan` — calling plan name\n",
    "\n",
    "The `calls` table (data on calls):\n",
    "- `id` — unique call identifier\n",
    "- `call_date` — call date\n",
    "- `duration` — call duration (in minutes)\n",
    "- `user_id` — the identifier of the user making the call\n",
    "\n",
    "The `messages` table (data on texts):\n",
    "- `id` — unique text message identifier\n",
    "- `message_date` — text message date\n",
    "- `user_id` — the identifier of the user sending the text\n",
    "\n",
    "The `internet` table (data on web sessions):\n",
    "- `id` — unique session identifier\n",
    "- `mb_used` — the volume of data spent during the session (in megabytes)\n",
    "- `session_date` — web session date\n",
    "- `user_id` — user identifier\n",
    "\n",
    "The `plans` table (data on the plans):\n",
    "- `plan_name` — calling plan name\n",
    "- `usd_monthly_fee` — monthly charge in US dollars\n",
    "- `minutes_included` — monthly minute allowance\n",
    "- `messages_included` — monthly text allowance\n",
    "- `mb_per_month_included` — data volume allowance (in megabytes)\n",
    "- `usd_per_minute` — price per minute after exceeding the package limits (e.g., if the package includes 100 minutes, the 101st minute will be charged)\n",
    "- `usd_per_message` — price per text after exceeding the package limits\n",
    "-`usd_per_gb` — price per extra gigabyte of data after exceeding the package limits (1 GB = 1024 megabytes)"
   ]
  },
  {
   "cell_type": "markdown",
   "metadata": {},
   "source": [
    "Let's explore our data and check for potential issues with the data.\n",
    "\n",
    "Let's see how many rows and columns our datasets have and print the first 10 rows for each of them"
   ]
  },
  {
   "cell_type": "code",
   "execution_count": 5,
   "metadata": {},
   "outputs": [
    {
     "name": "stdout",
     "output_type": "stream",
     "text": [
      "<class 'pandas.core.frame.DataFrame'>\n",
      "RangeIndex: 500 entries, 0 to 499\n",
      "Data columns (total 8 columns):\n",
      " #   Column      Non-Null Count  Dtype \n",
      "---  ------      --------------  ----- \n",
      " 0   user_id     500 non-null    int64 \n",
      " 1   first_name  500 non-null    object\n",
      " 2   last_name   500 non-null    object\n",
      " 3   age         500 non-null    int64 \n",
      " 4   city        500 non-null    object\n",
      " 5   reg_date    500 non-null    object\n",
      " 6   plan        500 non-null    object\n",
      " 7   churn_date  34 non-null     object\n",
      "dtypes: int64(2), object(6)\n",
      "memory usage: 31.4+ KB\n"
     ]
    }
   ],
   "source": [
    "users.info()"
   ]
  },
  {
   "cell_type": "code",
   "execution_count": 6,
   "metadata": {},
   "outputs": [
    {
     "data": {
      "text/html": [
       "<div>\n",
       "<style scoped>\n",
       "    .dataframe tbody tr th:only-of-type {\n",
       "        vertical-align: middle;\n",
       "    }\n",
       "\n",
       "    .dataframe tbody tr th {\n",
       "        vertical-align: top;\n",
       "    }\n",
       "\n",
       "    .dataframe thead th {\n",
       "        text-align: right;\n",
       "    }\n",
       "</style>\n",
       "<table border=\"1\" class=\"dataframe\">\n",
       "  <thead>\n",
       "    <tr style=\"text-align: right;\">\n",
       "      <th></th>\n",
       "      <th>user_id</th>\n",
       "      <th>first_name</th>\n",
       "      <th>last_name</th>\n",
       "      <th>age</th>\n",
       "      <th>city</th>\n",
       "      <th>reg_date</th>\n",
       "      <th>plan</th>\n",
       "      <th>churn_date</th>\n",
       "    </tr>\n",
       "  </thead>\n",
       "  <tbody>\n",
       "    <tr>\n",
       "      <th>0</th>\n",
       "      <td>1000</td>\n",
       "      <td>Anamaria</td>\n",
       "      <td>Bauer</td>\n",
       "      <td>45</td>\n",
       "      <td>Atlanta-Sandy Springs-Roswell, GA MSA</td>\n",
       "      <td>2018-12-24</td>\n",
       "      <td>ultimate</td>\n",
       "      <td>NaN</td>\n",
       "    </tr>\n",
       "    <tr>\n",
       "      <th>1</th>\n",
       "      <td>1001</td>\n",
       "      <td>Mickey</td>\n",
       "      <td>Wilkerson</td>\n",
       "      <td>28</td>\n",
       "      <td>Seattle-Tacoma-Bellevue, WA MSA</td>\n",
       "      <td>2018-08-13</td>\n",
       "      <td>surf</td>\n",
       "      <td>NaN</td>\n",
       "    </tr>\n",
       "    <tr>\n",
       "      <th>2</th>\n",
       "      <td>1002</td>\n",
       "      <td>Carlee</td>\n",
       "      <td>Hoffman</td>\n",
       "      <td>36</td>\n",
       "      <td>Las Vegas-Henderson-Paradise, NV MSA</td>\n",
       "      <td>2018-10-21</td>\n",
       "      <td>surf</td>\n",
       "      <td>NaN</td>\n",
       "    </tr>\n",
       "    <tr>\n",
       "      <th>3</th>\n",
       "      <td>1003</td>\n",
       "      <td>Reynaldo</td>\n",
       "      <td>Jenkins</td>\n",
       "      <td>52</td>\n",
       "      <td>Tulsa, OK MSA</td>\n",
       "      <td>2018-01-28</td>\n",
       "      <td>surf</td>\n",
       "      <td>NaN</td>\n",
       "    </tr>\n",
       "    <tr>\n",
       "      <th>4</th>\n",
       "      <td>1004</td>\n",
       "      <td>Leonila</td>\n",
       "      <td>Thompson</td>\n",
       "      <td>40</td>\n",
       "      <td>Seattle-Tacoma-Bellevue, WA MSA</td>\n",
       "      <td>2018-05-23</td>\n",
       "      <td>surf</td>\n",
       "      <td>NaN</td>\n",
       "    </tr>\n",
       "    <tr>\n",
       "      <th>5</th>\n",
       "      <td>1005</td>\n",
       "      <td>Livia</td>\n",
       "      <td>Shields</td>\n",
       "      <td>31</td>\n",
       "      <td>Dallas-Fort Worth-Arlington, TX MSA</td>\n",
       "      <td>2018-11-29</td>\n",
       "      <td>surf</td>\n",
       "      <td>NaN</td>\n",
       "    </tr>\n",
       "    <tr>\n",
       "      <th>6</th>\n",
       "      <td>1006</td>\n",
       "      <td>Jesusa</td>\n",
       "      <td>Bradford</td>\n",
       "      <td>73</td>\n",
       "      <td>San Francisco-Oakland-Berkeley, CA MSA</td>\n",
       "      <td>2018-11-27</td>\n",
       "      <td>ultimate</td>\n",
       "      <td>2018-12-18</td>\n",
       "    </tr>\n",
       "    <tr>\n",
       "      <th>7</th>\n",
       "      <td>1007</td>\n",
       "      <td>Eusebio</td>\n",
       "      <td>Welch</td>\n",
       "      <td>42</td>\n",
       "      <td>Grand Rapids-Kentwood, MI MSA</td>\n",
       "      <td>2018-07-11</td>\n",
       "      <td>surf</td>\n",
       "      <td>NaN</td>\n",
       "    </tr>\n",
       "    <tr>\n",
       "      <th>8</th>\n",
       "      <td>1008</td>\n",
       "      <td>Emely</td>\n",
       "      <td>Hoffman</td>\n",
       "      <td>53</td>\n",
       "      <td>Orlando-Kissimmee-Sanford, FL MSA</td>\n",
       "      <td>2018-08-03</td>\n",
       "      <td>ultimate</td>\n",
       "      <td>NaN</td>\n",
       "    </tr>\n",
       "    <tr>\n",
       "      <th>9</th>\n",
       "      <td>1009</td>\n",
       "      <td>Gerry</td>\n",
       "      <td>Little</td>\n",
       "      <td>19</td>\n",
       "      <td>San Jose-Sunnyvale-Santa Clara, CA MSA</td>\n",
       "      <td>2018-04-22</td>\n",
       "      <td>surf</td>\n",
       "      <td>NaN</td>\n",
       "    </tr>\n",
       "  </tbody>\n",
       "</table>\n",
       "</div>"
      ],
      "text/plain": [
       "   user_id first_name  last_name  age                                    city  \\\n",
       "0     1000   Anamaria      Bauer   45   Atlanta-Sandy Springs-Roswell, GA MSA   \n",
       "1     1001     Mickey  Wilkerson   28         Seattle-Tacoma-Bellevue, WA MSA   \n",
       "2     1002     Carlee    Hoffman   36    Las Vegas-Henderson-Paradise, NV MSA   \n",
       "3     1003   Reynaldo    Jenkins   52                           Tulsa, OK MSA   \n",
       "4     1004    Leonila   Thompson   40         Seattle-Tacoma-Bellevue, WA MSA   \n",
       "5     1005      Livia    Shields   31     Dallas-Fort Worth-Arlington, TX MSA   \n",
       "6     1006     Jesusa   Bradford   73  San Francisco-Oakland-Berkeley, CA MSA   \n",
       "7     1007    Eusebio      Welch   42           Grand Rapids-Kentwood, MI MSA   \n",
       "8     1008      Emely    Hoffman   53       Orlando-Kissimmee-Sanford, FL MSA   \n",
       "9     1009      Gerry     Little   19  San Jose-Sunnyvale-Santa Clara, CA MSA   \n",
       "\n",
       "     reg_date      plan  churn_date  \n",
       "0  2018-12-24  ultimate         NaN  \n",
       "1  2018-08-13      surf         NaN  \n",
       "2  2018-10-21      surf         NaN  \n",
       "3  2018-01-28      surf         NaN  \n",
       "4  2018-05-23      surf         NaN  \n",
       "5  2018-11-29      surf         NaN  \n",
       "6  2018-11-27  ultimate  2018-12-18  \n",
       "7  2018-07-11      surf         NaN  \n",
       "8  2018-08-03  ultimate         NaN  \n",
       "9  2018-04-22      surf         NaN  "
      ]
     },
     "execution_count": 6,
     "metadata": {},
     "output_type": "execute_result"
    }
   ],
   "source": [
    "users.head(10)"
   ]
  },
  {
   "cell_type": "code",
   "execution_count": 7,
   "metadata": {
    "scrolled": true
   },
   "outputs": [
    {
     "name": "stdout",
     "output_type": "stream",
     "text": [
      "<class 'pandas.core.frame.DataFrame'>\n",
      "RangeIndex: 137735 entries, 0 to 137734\n",
      "Data columns (total 4 columns):\n",
      " #   Column     Non-Null Count   Dtype  \n",
      "---  ------     --------------   -----  \n",
      " 0   id         137735 non-null  object \n",
      " 1   user_id    137735 non-null  int64  \n",
      " 2   call_date  137735 non-null  object \n",
      " 3   duration   137735 non-null  float64\n",
      "dtypes: float64(1), int64(1), object(2)\n",
      "memory usage: 4.2+ MB\n"
     ]
    }
   ],
   "source": [
    "calls.info()"
   ]
  },
  {
   "cell_type": "code",
   "execution_count": 8,
   "metadata": {},
   "outputs": [
    {
     "data": {
      "text/html": [
       "<div>\n",
       "<style scoped>\n",
       "    .dataframe tbody tr th:only-of-type {\n",
       "        vertical-align: middle;\n",
       "    }\n",
       "\n",
       "    .dataframe tbody tr th {\n",
       "        vertical-align: top;\n",
       "    }\n",
       "\n",
       "    .dataframe thead th {\n",
       "        text-align: right;\n",
       "    }\n",
       "</style>\n",
       "<table border=\"1\" class=\"dataframe\">\n",
       "  <thead>\n",
       "    <tr style=\"text-align: right;\">\n",
       "      <th></th>\n",
       "      <th>id</th>\n",
       "      <th>user_id</th>\n",
       "      <th>call_date</th>\n",
       "      <th>duration</th>\n",
       "    </tr>\n",
       "  </thead>\n",
       "  <tbody>\n",
       "    <tr>\n",
       "      <th>0</th>\n",
       "      <td>1000_93</td>\n",
       "      <td>1000</td>\n",
       "      <td>2018-12-27</td>\n",
       "      <td>8.52</td>\n",
       "    </tr>\n",
       "    <tr>\n",
       "      <th>1</th>\n",
       "      <td>1000_145</td>\n",
       "      <td>1000</td>\n",
       "      <td>2018-12-27</td>\n",
       "      <td>13.66</td>\n",
       "    </tr>\n",
       "    <tr>\n",
       "      <th>2</th>\n",
       "      <td>1000_247</td>\n",
       "      <td>1000</td>\n",
       "      <td>2018-12-27</td>\n",
       "      <td>14.48</td>\n",
       "    </tr>\n",
       "    <tr>\n",
       "      <th>3</th>\n",
       "      <td>1000_309</td>\n",
       "      <td>1000</td>\n",
       "      <td>2018-12-28</td>\n",
       "      <td>5.76</td>\n",
       "    </tr>\n",
       "    <tr>\n",
       "      <th>4</th>\n",
       "      <td>1000_380</td>\n",
       "      <td>1000</td>\n",
       "      <td>2018-12-30</td>\n",
       "      <td>4.22</td>\n",
       "    </tr>\n",
       "    <tr>\n",
       "      <th>5</th>\n",
       "      <td>1000_388</td>\n",
       "      <td>1000</td>\n",
       "      <td>2018-12-31</td>\n",
       "      <td>2.20</td>\n",
       "    </tr>\n",
       "    <tr>\n",
       "      <th>6</th>\n",
       "      <td>1000_510</td>\n",
       "      <td>1000</td>\n",
       "      <td>2018-12-27</td>\n",
       "      <td>5.75</td>\n",
       "    </tr>\n",
       "    <tr>\n",
       "      <th>7</th>\n",
       "      <td>1000_521</td>\n",
       "      <td>1000</td>\n",
       "      <td>2018-12-28</td>\n",
       "      <td>14.18</td>\n",
       "    </tr>\n",
       "    <tr>\n",
       "      <th>8</th>\n",
       "      <td>1000_530</td>\n",
       "      <td>1000</td>\n",
       "      <td>2018-12-28</td>\n",
       "      <td>5.77</td>\n",
       "    </tr>\n",
       "    <tr>\n",
       "      <th>9</th>\n",
       "      <td>1000_544</td>\n",
       "      <td>1000</td>\n",
       "      <td>2018-12-26</td>\n",
       "      <td>4.40</td>\n",
       "    </tr>\n",
       "  </tbody>\n",
       "</table>\n",
       "</div>"
      ],
      "text/plain": [
       "         id  user_id   call_date  duration\n",
       "0   1000_93     1000  2018-12-27      8.52\n",
       "1  1000_145     1000  2018-12-27     13.66\n",
       "2  1000_247     1000  2018-12-27     14.48\n",
       "3  1000_309     1000  2018-12-28      5.76\n",
       "4  1000_380     1000  2018-12-30      4.22\n",
       "5  1000_388     1000  2018-12-31      2.20\n",
       "6  1000_510     1000  2018-12-27      5.75\n",
       "7  1000_521     1000  2018-12-28     14.18\n",
       "8  1000_530     1000  2018-12-28      5.77\n",
       "9  1000_544     1000  2018-12-26      4.40"
      ]
     },
     "execution_count": 8,
     "metadata": {},
     "output_type": "execute_result"
    }
   ],
   "source": [
    "\n",
    "calls.head(10)"
   ]
  },
  {
   "cell_type": "code",
   "execution_count": 9,
   "metadata": {},
   "outputs": [
    {
     "name": "stdout",
     "output_type": "stream",
     "text": [
      "<class 'pandas.core.frame.DataFrame'>\n",
      "RangeIndex: 76051 entries, 0 to 76050\n",
      "Data columns (total 3 columns):\n",
      " #   Column        Non-Null Count  Dtype \n",
      "---  ------        --------------  ----- \n",
      " 0   id            76051 non-null  object\n",
      " 1   user_id       76051 non-null  int64 \n",
      " 2   message_date  76051 non-null  object\n",
      "dtypes: int64(1), object(2)\n",
      "memory usage: 1.7+ MB\n"
     ]
    }
   ],
   "source": [
    "messages.info()"
   ]
  },
  {
   "cell_type": "code",
   "execution_count": 10,
   "metadata": {
    "scrolled": true
   },
   "outputs": [
    {
     "data": {
      "text/html": [
       "<div>\n",
       "<style scoped>\n",
       "    .dataframe tbody tr th:only-of-type {\n",
       "        vertical-align: middle;\n",
       "    }\n",
       "\n",
       "    .dataframe tbody tr th {\n",
       "        vertical-align: top;\n",
       "    }\n",
       "\n",
       "    .dataframe thead th {\n",
       "        text-align: right;\n",
       "    }\n",
       "</style>\n",
       "<table border=\"1\" class=\"dataframe\">\n",
       "  <thead>\n",
       "    <tr style=\"text-align: right;\">\n",
       "      <th></th>\n",
       "      <th>id</th>\n",
       "      <th>user_id</th>\n",
       "      <th>message_date</th>\n",
       "    </tr>\n",
       "  </thead>\n",
       "  <tbody>\n",
       "    <tr>\n",
       "      <th>0</th>\n",
       "      <td>1000_125</td>\n",
       "      <td>1000</td>\n",
       "      <td>2018-12-27</td>\n",
       "    </tr>\n",
       "    <tr>\n",
       "      <th>1</th>\n",
       "      <td>1000_160</td>\n",
       "      <td>1000</td>\n",
       "      <td>2018-12-31</td>\n",
       "    </tr>\n",
       "    <tr>\n",
       "      <th>2</th>\n",
       "      <td>1000_223</td>\n",
       "      <td>1000</td>\n",
       "      <td>2018-12-31</td>\n",
       "    </tr>\n",
       "    <tr>\n",
       "      <th>3</th>\n",
       "      <td>1000_251</td>\n",
       "      <td>1000</td>\n",
       "      <td>2018-12-27</td>\n",
       "    </tr>\n",
       "    <tr>\n",
       "      <th>4</th>\n",
       "      <td>1000_255</td>\n",
       "      <td>1000</td>\n",
       "      <td>2018-12-26</td>\n",
       "    </tr>\n",
       "    <tr>\n",
       "      <th>5</th>\n",
       "      <td>1000_346</td>\n",
       "      <td>1000</td>\n",
       "      <td>2018-12-29</td>\n",
       "    </tr>\n",
       "    <tr>\n",
       "      <th>6</th>\n",
       "      <td>1000_386</td>\n",
       "      <td>1000</td>\n",
       "      <td>2018-12-30</td>\n",
       "    </tr>\n",
       "    <tr>\n",
       "      <th>7</th>\n",
       "      <td>1000_413</td>\n",
       "      <td>1000</td>\n",
       "      <td>2018-12-31</td>\n",
       "    </tr>\n",
       "    <tr>\n",
       "      <th>8</th>\n",
       "      <td>1000_502</td>\n",
       "      <td>1000</td>\n",
       "      <td>2018-12-27</td>\n",
       "    </tr>\n",
       "    <tr>\n",
       "      <th>9</th>\n",
       "      <td>1000_525</td>\n",
       "      <td>1000</td>\n",
       "      <td>2018-12-28</td>\n",
       "    </tr>\n",
       "  </tbody>\n",
       "</table>\n",
       "</div>"
      ],
      "text/plain": [
       "         id  user_id message_date\n",
       "0  1000_125     1000   2018-12-27\n",
       "1  1000_160     1000   2018-12-31\n",
       "2  1000_223     1000   2018-12-31\n",
       "3  1000_251     1000   2018-12-27\n",
       "4  1000_255     1000   2018-12-26\n",
       "5  1000_346     1000   2018-12-29\n",
       "6  1000_386     1000   2018-12-30\n",
       "7  1000_413     1000   2018-12-31\n",
       "8  1000_502     1000   2018-12-27\n",
       "9  1000_525     1000   2018-12-28"
      ]
     },
     "execution_count": 10,
     "metadata": {},
     "output_type": "execute_result"
    }
   ],
   "source": [
    "messages.head(10)"
   ]
  },
  {
   "cell_type": "code",
   "execution_count": 11,
   "metadata": {},
   "outputs": [
    {
     "name": "stdout",
     "output_type": "stream",
     "text": [
      "<class 'pandas.core.frame.DataFrame'>\n",
      "RangeIndex: 104825 entries, 0 to 104824\n",
      "Data columns (total 4 columns):\n",
      " #   Column        Non-Null Count   Dtype  \n",
      "---  ------        --------------   -----  \n",
      " 0   id            104825 non-null  object \n",
      " 1   user_id       104825 non-null  int64  \n",
      " 2   session_date  104825 non-null  object \n",
      " 3   mb_used       104825 non-null  float64\n",
      "dtypes: float64(1), int64(1), object(2)\n",
      "memory usage: 3.2+ MB\n"
     ]
    }
   ],
   "source": [
    "internet.info()"
   ]
  },
  {
   "cell_type": "code",
   "execution_count": 12,
   "metadata": {},
   "outputs": [
    {
     "data": {
      "text/html": [
       "<div>\n",
       "<style scoped>\n",
       "    .dataframe tbody tr th:only-of-type {\n",
       "        vertical-align: middle;\n",
       "    }\n",
       "\n",
       "    .dataframe tbody tr th {\n",
       "        vertical-align: top;\n",
       "    }\n",
       "\n",
       "    .dataframe thead th {\n",
       "        text-align: right;\n",
       "    }\n",
       "</style>\n",
       "<table border=\"1\" class=\"dataframe\">\n",
       "  <thead>\n",
       "    <tr style=\"text-align: right;\">\n",
       "      <th></th>\n",
       "      <th>id</th>\n",
       "      <th>user_id</th>\n",
       "      <th>session_date</th>\n",
       "      <th>mb_used</th>\n",
       "    </tr>\n",
       "  </thead>\n",
       "  <tbody>\n",
       "    <tr>\n",
       "      <th>0</th>\n",
       "      <td>1000_13</td>\n",
       "      <td>1000</td>\n",
       "      <td>2018-12-29</td>\n",
       "      <td>89.86</td>\n",
       "    </tr>\n",
       "    <tr>\n",
       "      <th>1</th>\n",
       "      <td>1000_204</td>\n",
       "      <td>1000</td>\n",
       "      <td>2018-12-31</td>\n",
       "      <td>0.00</td>\n",
       "    </tr>\n",
       "    <tr>\n",
       "      <th>2</th>\n",
       "      <td>1000_379</td>\n",
       "      <td>1000</td>\n",
       "      <td>2018-12-28</td>\n",
       "      <td>660.40</td>\n",
       "    </tr>\n",
       "    <tr>\n",
       "      <th>3</th>\n",
       "      <td>1000_413</td>\n",
       "      <td>1000</td>\n",
       "      <td>2018-12-26</td>\n",
       "      <td>270.99</td>\n",
       "    </tr>\n",
       "    <tr>\n",
       "      <th>4</th>\n",
       "      <td>1000_442</td>\n",
       "      <td>1000</td>\n",
       "      <td>2018-12-27</td>\n",
       "      <td>880.22</td>\n",
       "    </tr>\n",
       "    <tr>\n",
       "      <th>5</th>\n",
       "      <td>1001_0</td>\n",
       "      <td>1001</td>\n",
       "      <td>2018-08-24</td>\n",
       "      <td>284.68</td>\n",
       "    </tr>\n",
       "    <tr>\n",
       "      <th>6</th>\n",
       "      <td>1001_3</td>\n",
       "      <td>1001</td>\n",
       "      <td>2018-12-09</td>\n",
       "      <td>656.04</td>\n",
       "    </tr>\n",
       "    <tr>\n",
       "      <th>7</th>\n",
       "      <td>1001_4</td>\n",
       "      <td>1001</td>\n",
       "      <td>2018-11-04</td>\n",
       "      <td>16.97</td>\n",
       "    </tr>\n",
       "    <tr>\n",
       "      <th>8</th>\n",
       "      <td>1001_10</td>\n",
       "      <td>1001</td>\n",
       "      <td>2018-11-27</td>\n",
       "      <td>135.18</td>\n",
       "    </tr>\n",
       "    <tr>\n",
       "      <th>9</th>\n",
       "      <td>1001_15</td>\n",
       "      <td>1001</td>\n",
       "      <td>2018-12-13</td>\n",
       "      <td>761.92</td>\n",
       "    </tr>\n",
       "  </tbody>\n",
       "</table>\n",
       "</div>"
      ],
      "text/plain": [
       "         id  user_id session_date  mb_used\n",
       "0   1000_13     1000   2018-12-29    89.86\n",
       "1  1000_204     1000   2018-12-31     0.00\n",
       "2  1000_379     1000   2018-12-28   660.40\n",
       "3  1000_413     1000   2018-12-26   270.99\n",
       "4  1000_442     1000   2018-12-27   880.22\n",
       "5    1001_0     1001   2018-08-24   284.68\n",
       "6    1001_3     1001   2018-12-09   656.04\n",
       "7    1001_4     1001   2018-11-04    16.97\n",
       "8   1001_10     1001   2018-11-27   135.18\n",
       "9   1001_15     1001   2018-12-13   761.92"
      ]
     },
     "execution_count": 12,
     "metadata": {},
     "output_type": "execute_result"
    }
   ],
   "source": [
    "internet.head(10)"
   ]
  },
  {
   "cell_type": "code",
   "execution_count": 13,
   "metadata": {},
   "outputs": [
    {
     "name": "stdout",
     "output_type": "stream",
     "text": [
      "<class 'pandas.core.frame.DataFrame'>\n",
      "RangeIndex: 2 entries, 0 to 1\n",
      "Data columns (total 8 columns):\n",
      " #   Column                 Non-Null Count  Dtype  \n",
      "---  ------                 --------------  -----  \n",
      " 0   messages_included      2 non-null      int64  \n",
      " 1   mb_per_month_included  2 non-null      int64  \n",
      " 2   minutes_included       2 non-null      int64  \n",
      " 3   usd_monthly_pay        2 non-null      int64  \n",
      " 4   usd_per_gb             2 non-null      int64  \n",
      " 5   usd_per_message        2 non-null      float64\n",
      " 6   usd_per_minute         2 non-null      float64\n",
      " 7   plan_name              2 non-null      object \n",
      "dtypes: float64(2), int64(5), object(1)\n",
      "memory usage: 256.0+ bytes\n"
     ]
    }
   ],
   "source": [
    "plans.info()"
   ]
  },
  {
   "cell_type": "code",
   "execution_count": 14,
   "metadata": {
    "scrolled": true
   },
   "outputs": [
    {
     "data": {
      "text/html": [
       "<div>\n",
       "<style scoped>\n",
       "    .dataframe tbody tr th:only-of-type {\n",
       "        vertical-align: middle;\n",
       "    }\n",
       "\n",
       "    .dataframe tbody tr th {\n",
       "        vertical-align: top;\n",
       "    }\n",
       "\n",
       "    .dataframe thead th {\n",
       "        text-align: right;\n",
       "    }\n",
       "</style>\n",
       "<table border=\"1\" class=\"dataframe\">\n",
       "  <thead>\n",
       "    <tr style=\"text-align: right;\">\n",
       "      <th></th>\n",
       "      <th>messages_included</th>\n",
       "      <th>mb_per_month_included</th>\n",
       "      <th>minutes_included</th>\n",
       "      <th>usd_monthly_pay</th>\n",
       "      <th>usd_per_gb</th>\n",
       "      <th>usd_per_message</th>\n",
       "      <th>usd_per_minute</th>\n",
       "      <th>plan_name</th>\n",
       "    </tr>\n",
       "  </thead>\n",
       "  <tbody>\n",
       "    <tr>\n",
       "      <th>0</th>\n",
       "      <td>50</td>\n",
       "      <td>15360</td>\n",
       "      <td>500</td>\n",
       "      <td>20</td>\n",
       "      <td>10</td>\n",
       "      <td>0.03</td>\n",
       "      <td>0.03</td>\n",
       "      <td>surf</td>\n",
       "    </tr>\n",
       "    <tr>\n",
       "      <th>1</th>\n",
       "      <td>1000</td>\n",
       "      <td>30720</td>\n",
       "      <td>3000</td>\n",
       "      <td>70</td>\n",
       "      <td>7</td>\n",
       "      <td>0.01</td>\n",
       "      <td>0.01</td>\n",
       "      <td>ultimate</td>\n",
       "    </tr>\n",
       "  </tbody>\n",
       "</table>\n",
       "</div>"
      ],
      "text/plain": [
       "   messages_included  mb_per_month_included  minutes_included  \\\n",
       "0                 50                  15360               500   \n",
       "1               1000                  30720              3000   \n",
       "\n",
       "   usd_monthly_pay  usd_per_gb  usd_per_message  usd_per_minute plan_name  \n",
       "0               20          10             0.03            0.03      surf  \n",
       "1               70           7             0.01            0.01  ultimate  "
      ]
     },
     "execution_count": 14,
     "metadata": {},
     "output_type": "execute_result"
    }
   ],
   "source": [
    "plans.head()"
   ]
  },
  {
   "cell_type": "markdown",
   "metadata": {},
   "source": [
    "# Get info on data\n",
    "There are several issues indetified with the data:\n",
    "1. Some missing data in 'users' table - it's date when users quit the service - we don't need to fill them in as this column is not relevant for the task we will perform\n",
    "2. Dates are in 'object' type - we should convert data to 'date' type\n",
    "\n"
   ]
  },
  {
   "cell_type": "markdown",
   "metadata": {},
   "source": [
    "## Prepare the data\n",
    "\n",
    "Let's change type of column with dates in all datasets we have."
   ]
  },
  {
   "cell_type": "code",
   "execution_count": 15,
   "metadata": {},
   "outputs": [
    {
     "name": "stdout",
     "output_type": "stream",
     "text": [
      "<class 'pandas.core.frame.DataFrame'>\n",
      "RangeIndex: 500 entries, 0 to 499\n",
      "Data columns (total 8 columns):\n",
      " #   Column      Non-Null Count  Dtype         \n",
      "---  ------      --------------  -----         \n",
      " 0   user_id     500 non-null    int64         \n",
      " 1   first_name  500 non-null    object        \n",
      " 2   last_name   500 non-null    object        \n",
      " 3   age         500 non-null    int64         \n",
      " 4   city        500 non-null    object        \n",
      " 5   reg_date    500 non-null    datetime64[ns]\n",
      " 6   plan        500 non-null    object        \n",
      " 7   churn_date  34 non-null     object        \n",
      "dtypes: datetime64[ns](1), int64(2), object(5)\n",
      "memory usage: 31.4+ KB\n"
     ]
    }
   ],
   "source": [
    "users['reg_date'] = pd.to_datetime(users['reg_date'])\n",
    "users.info()"
   ]
  },
  {
   "cell_type": "code",
   "execution_count": 16,
   "metadata": {},
   "outputs": [
    {
     "name": "stdout",
     "output_type": "stream",
     "text": [
      "<class 'pandas.core.frame.DataFrame'>\n",
      "RangeIndex: 137735 entries, 0 to 137734\n",
      "Data columns (total 4 columns):\n",
      " #   Column     Non-Null Count   Dtype         \n",
      "---  ------     --------------   -----         \n",
      " 0   id         137735 non-null  object        \n",
      " 1   user_id    137735 non-null  int64         \n",
      " 2   call_date  137735 non-null  datetime64[ns]\n",
      " 3   duration   137735 non-null  float64       \n",
      "dtypes: datetime64[ns](1), float64(1), int64(1), object(1)\n",
      "memory usage: 4.2+ MB\n"
     ]
    }
   ],
   "source": [
    "calls['call_date'] = pd.to_datetime(calls['call_date'])\n",
    "calls.info()"
   ]
  },
  {
   "cell_type": "code",
   "execution_count": 17,
   "metadata": {},
   "outputs": [
    {
     "name": "stdout",
     "output_type": "stream",
     "text": [
      "<class 'pandas.core.frame.DataFrame'>\n",
      "RangeIndex: 76051 entries, 0 to 76050\n",
      "Data columns (total 3 columns):\n",
      " #   Column        Non-Null Count  Dtype         \n",
      "---  ------        --------------  -----         \n",
      " 0   id            76051 non-null  object        \n",
      " 1   user_id       76051 non-null  int64         \n",
      " 2   message_date  76051 non-null  datetime64[ns]\n",
      "dtypes: datetime64[ns](1), int64(1), object(1)\n",
      "memory usage: 1.7+ MB\n"
     ]
    }
   ],
   "source": [
    "messages['message_date'] = pd.to_datetime(messages['message_date'])\n",
    "messages.info()"
   ]
  },
  {
   "cell_type": "code",
   "execution_count": 18,
   "metadata": {},
   "outputs": [
    {
     "name": "stdout",
     "output_type": "stream",
     "text": [
      "<class 'pandas.core.frame.DataFrame'>\n",
      "RangeIndex: 104825 entries, 0 to 104824\n",
      "Data columns (total 4 columns):\n",
      " #   Column        Non-Null Count   Dtype         \n",
      "---  ------        --------------   -----         \n",
      " 0   id            104825 non-null  object        \n",
      " 1   user_id       104825 non-null  int64         \n",
      " 2   session_date  104825 non-null  datetime64[ns]\n",
      " 3   mb_used       104825 non-null  float64       \n",
      "dtypes: datetime64[ns](1), float64(1), int64(1), object(1)\n",
      "memory usage: 3.2+ MB\n"
     ]
    }
   ],
   "source": [
    "internet['session_date'] = pd.to_datetime(internet['session_date'])\n",
    "internet.info()"
   ]
  },
  {
   "cell_type": "markdown",
   "metadata": {},
   "source": [
    "Let's work with 'plans' table: \n",
    "- divide usd_per_gb by 100\n",
    "\n",
    "- convert 'usd_per_gb' to float type"
   ]
  },
  {
   "cell_type": "markdown",
   "metadata": {},
   "source": [
    "Let's check if there is any duplicates in data (except for 'plans' table - it has only two different rows)"
   ]
  },
  {
   "cell_type": "code",
   "execution_count": 19,
   "metadata": {},
   "outputs": [
    {
     "name": "stdout",
     "output_type": "stream",
     "text": [
      "0\n",
      "0\n",
      "0\n",
      "0\n"
     ]
    }
   ],
   "source": [
    "print(users.duplicated().sum())\n",
    "print(calls.duplicated().sum())\n",
    "print(messages.duplicated().sum())\n",
    "print(internet.duplicated().sum())"
   ]
  },
  {
   "cell_type": "markdown",
   "metadata": {},
   "source": [
    "No duplcates identified.\n",
    "\n",
    "Let's prepare the data for the further analysis.\n",
    "\n",
    "For each user we will calculate:\n",
    "\n",
    "- The number of calls made and minutes used per month\n",
    "\n",
    "- The number of text messages sent per month\n",
    "\n",
    "- The volume of data per month\n",
    "\n",
    "- The monthly revenue from each user (subtract the free package limit from the total number of calls, text messages, and data; multiply the result by the calling plan value; add the monthly charge depending on the calling plan)"
   ]
  },
  {
   "cell_type": "code",
   "execution_count": 20,
   "metadata": {},
   "outputs": [
    {
     "data": {
      "text/html": [
       "<div>\n",
       "<style scoped>\n",
       "    .dataframe tbody tr th:only-of-type {\n",
       "        vertical-align: middle;\n",
       "    }\n",
       "\n",
       "    .dataframe tbody tr th {\n",
       "        vertical-align: top;\n",
       "    }\n",
       "\n",
       "    .dataframe thead th {\n",
       "        text-align: right;\n",
       "    }\n",
       "</style>\n",
       "<table border=\"1\" class=\"dataframe\">\n",
       "  <thead>\n",
       "    <tr style=\"text-align: right;\">\n",
       "      <th></th>\n",
       "      <th>id</th>\n",
       "      <th>user_id</th>\n",
       "      <th>call_date</th>\n",
       "      <th>duration</th>\n",
       "      <th>mm</th>\n",
       "    </tr>\n",
       "  </thead>\n",
       "  <tbody>\n",
       "    <tr>\n",
       "      <th>0</th>\n",
       "      <td>1000_93</td>\n",
       "      <td>1000</td>\n",
       "      <td>2018-12-27</td>\n",
       "      <td>8.52</td>\n",
       "      <td>12</td>\n",
       "    </tr>\n",
       "    <tr>\n",
       "      <th>1</th>\n",
       "      <td>1000_145</td>\n",
       "      <td>1000</td>\n",
       "      <td>2018-12-27</td>\n",
       "      <td>13.66</td>\n",
       "      <td>12</td>\n",
       "    </tr>\n",
       "    <tr>\n",
       "      <th>2</th>\n",
       "      <td>1000_247</td>\n",
       "      <td>1000</td>\n",
       "      <td>2018-12-27</td>\n",
       "      <td>14.48</td>\n",
       "      <td>12</td>\n",
       "    </tr>\n",
       "    <tr>\n",
       "      <th>3</th>\n",
       "      <td>1000_309</td>\n",
       "      <td>1000</td>\n",
       "      <td>2018-12-28</td>\n",
       "      <td>5.76</td>\n",
       "      <td>12</td>\n",
       "    </tr>\n",
       "    <tr>\n",
       "      <th>4</th>\n",
       "      <td>1000_380</td>\n",
       "      <td>1000</td>\n",
       "      <td>2018-12-30</td>\n",
       "      <td>4.22</td>\n",
       "      <td>12</td>\n",
       "    </tr>\n",
       "    <tr>\n",
       "      <th>5</th>\n",
       "      <td>1000_388</td>\n",
       "      <td>1000</td>\n",
       "      <td>2018-12-31</td>\n",
       "      <td>2.20</td>\n",
       "      <td>12</td>\n",
       "    </tr>\n",
       "    <tr>\n",
       "      <th>6</th>\n",
       "      <td>1000_510</td>\n",
       "      <td>1000</td>\n",
       "      <td>2018-12-27</td>\n",
       "      <td>5.75</td>\n",
       "      <td>12</td>\n",
       "    </tr>\n",
       "    <tr>\n",
       "      <th>7</th>\n",
       "      <td>1000_521</td>\n",
       "      <td>1000</td>\n",
       "      <td>2018-12-28</td>\n",
       "      <td>14.18</td>\n",
       "      <td>12</td>\n",
       "    </tr>\n",
       "    <tr>\n",
       "      <th>8</th>\n",
       "      <td>1000_530</td>\n",
       "      <td>1000</td>\n",
       "      <td>2018-12-28</td>\n",
       "      <td>5.77</td>\n",
       "      <td>12</td>\n",
       "    </tr>\n",
       "    <tr>\n",
       "      <th>9</th>\n",
       "      <td>1000_544</td>\n",
       "      <td>1000</td>\n",
       "      <td>2018-12-26</td>\n",
       "      <td>4.40</td>\n",
       "      <td>12</td>\n",
       "    </tr>\n",
       "  </tbody>\n",
       "</table>\n",
       "</div>"
      ],
      "text/plain": [
       "         id  user_id  call_date  duration  mm\n",
       "0   1000_93     1000 2018-12-27      8.52  12\n",
       "1  1000_145     1000 2018-12-27     13.66  12\n",
       "2  1000_247     1000 2018-12-27     14.48  12\n",
       "3  1000_309     1000 2018-12-28      5.76  12\n",
       "4  1000_380     1000 2018-12-30      4.22  12\n",
       "5  1000_388     1000 2018-12-31      2.20  12\n",
       "6  1000_510     1000 2018-12-27      5.75  12\n",
       "7  1000_521     1000 2018-12-28     14.18  12\n",
       "8  1000_530     1000 2018-12-28      5.77  12\n",
       "9  1000_544     1000 2018-12-26      4.40  12"
      ]
     },
     "execution_count": 20,
     "metadata": {},
     "output_type": "execute_result"
    }
   ],
   "source": [
    "# Add datetime values for when сalls were made\n",
    "\n",
    "calls['mm'] = pd.to_datetime(calls['call_date']).dt.month\n",
    "calls.head(10)"
   ]
  },
  {
   "cell_type": "code",
   "execution_count": 21,
   "metadata": {
    "scrolled": true
   },
   "outputs": [
    {
     "name": "stdout",
     "output_type": "stream",
     "text": [
      "      user_id  mm  call_duration  amount_of_calls\n",
      "0        1000  12          117.0               16\n",
      "1        1001   8          172.0               27\n",
      "2        1001   9          298.0               49\n",
      "3        1001  10          375.0               65\n",
      "4        1001  11          405.0               64\n",
      "...       ...  ..            ...              ...\n",
      "2253     1498  12          325.0               39\n",
      "2254     1499   9          331.0               41\n",
      "2255     1499  10          364.0               53\n",
      "2256     1499  11          289.0               45\n",
      "2257     1499  12          469.0               65\n",
      "\n",
      "[2258 rows x 4 columns]\n"
     ]
    }
   ],
   "source": [
    "# The number of calls made and minutes used per month\n",
    "calls_pivot = pd.pivot_table(calls, index=['user_id', 'mm'], values = ['duration'], aggfunc=['sum', 'count']).reset_index()\n",
    "\n",
    "calls_pivot.rename(columns = {'sum' : 'call_duration', 'count' : 'amount_of_calls'}, inplace = True)\n",
    "res = calls_pivot.rename(columns={\"duration\":\"\"})\n",
    "res.columns = [t[0] if t[0] else t[1] for t in res.columns]\n",
    "res['call_duration'] = np.ceil(res['call_duration'])\n",
    "print(res)"
   ]
  },
  {
   "cell_type": "code",
   "execution_count": 22,
   "metadata": {},
   "outputs": [
    {
     "data": {
      "text/html": [
       "<div>\n",
       "<style scoped>\n",
       "    .dataframe tbody tr th:only-of-type {\n",
       "        vertical-align: middle;\n",
       "    }\n",
       "\n",
       "    .dataframe tbody tr th {\n",
       "        vertical-align: top;\n",
       "    }\n",
       "\n",
       "    .dataframe thead th {\n",
       "        text-align: right;\n",
       "    }\n",
       "</style>\n",
       "<table border=\"1\" class=\"dataframe\">\n",
       "  <thead>\n",
       "    <tr style=\"text-align: right;\">\n",
       "      <th></th>\n",
       "      <th>id</th>\n",
       "      <th>user_id</th>\n",
       "      <th>message_date</th>\n",
       "      <th>mm</th>\n",
       "    </tr>\n",
       "  </thead>\n",
       "  <tbody>\n",
       "    <tr>\n",
       "      <th>0</th>\n",
       "      <td>1000_125</td>\n",
       "      <td>1000</td>\n",
       "      <td>2018-12-27</td>\n",
       "      <td>12</td>\n",
       "    </tr>\n",
       "    <tr>\n",
       "      <th>1</th>\n",
       "      <td>1000_160</td>\n",
       "      <td>1000</td>\n",
       "      <td>2018-12-31</td>\n",
       "      <td>12</td>\n",
       "    </tr>\n",
       "    <tr>\n",
       "      <th>2</th>\n",
       "      <td>1000_223</td>\n",
       "      <td>1000</td>\n",
       "      <td>2018-12-31</td>\n",
       "      <td>12</td>\n",
       "    </tr>\n",
       "    <tr>\n",
       "      <th>3</th>\n",
       "      <td>1000_251</td>\n",
       "      <td>1000</td>\n",
       "      <td>2018-12-27</td>\n",
       "      <td>12</td>\n",
       "    </tr>\n",
       "    <tr>\n",
       "      <th>4</th>\n",
       "      <td>1000_255</td>\n",
       "      <td>1000</td>\n",
       "      <td>2018-12-26</td>\n",
       "      <td>12</td>\n",
       "    </tr>\n",
       "    <tr>\n",
       "      <th>5</th>\n",
       "      <td>1000_346</td>\n",
       "      <td>1000</td>\n",
       "      <td>2018-12-29</td>\n",
       "      <td>12</td>\n",
       "    </tr>\n",
       "    <tr>\n",
       "      <th>6</th>\n",
       "      <td>1000_386</td>\n",
       "      <td>1000</td>\n",
       "      <td>2018-12-30</td>\n",
       "      <td>12</td>\n",
       "    </tr>\n",
       "    <tr>\n",
       "      <th>7</th>\n",
       "      <td>1000_413</td>\n",
       "      <td>1000</td>\n",
       "      <td>2018-12-31</td>\n",
       "      <td>12</td>\n",
       "    </tr>\n",
       "    <tr>\n",
       "      <th>8</th>\n",
       "      <td>1000_502</td>\n",
       "      <td>1000</td>\n",
       "      <td>2018-12-27</td>\n",
       "      <td>12</td>\n",
       "    </tr>\n",
       "    <tr>\n",
       "      <th>9</th>\n",
       "      <td>1000_525</td>\n",
       "      <td>1000</td>\n",
       "      <td>2018-12-28</td>\n",
       "      <td>12</td>\n",
       "    </tr>\n",
       "  </tbody>\n",
       "</table>\n",
       "</div>"
      ],
      "text/plain": [
       "         id  user_id message_date  mm\n",
       "0  1000_125     1000   2018-12-27  12\n",
       "1  1000_160     1000   2018-12-31  12\n",
       "2  1000_223     1000   2018-12-31  12\n",
       "3  1000_251     1000   2018-12-27  12\n",
       "4  1000_255     1000   2018-12-26  12\n",
       "5  1000_346     1000   2018-12-29  12\n",
       "6  1000_386     1000   2018-12-30  12\n",
       "7  1000_413     1000   2018-12-31  12\n",
       "8  1000_502     1000   2018-12-27  12\n",
       "9  1000_525     1000   2018-12-28  12"
      ]
     },
     "execution_count": 22,
     "metadata": {},
     "output_type": "execute_result"
    }
   ],
   "source": [
    "# Add datetime values for when messages were sent\n",
    "\n",
    "messages['mm'] = pd.to_datetime(messages['message_date']).dt.month\n",
    "messages.head(10)"
   ]
  },
  {
   "cell_type": "code",
   "execution_count": 23,
   "metadata": {},
   "outputs": [
    {
     "name": "stdout",
     "output_type": "stream",
     "text": [
      "      user_id  mm  messages_amount\n",
      "0        1000  12               11\n",
      "1        1001   8               30\n",
      "2        1001   9               44\n",
      "3        1001  10               53\n",
      "4        1001  11               36\n",
      "...       ...  ..              ...\n",
      "1801     1496   9               21\n",
      "1802     1496  10               18\n",
      "1803     1496  11               13\n",
      "1804     1496  12               11\n",
      "1805     1497  12               50\n",
      "\n",
      "[1806 rows x 3 columns]\n"
     ]
    }
   ],
   "source": [
    "# The number of text messages sent per month\n",
    "\n",
    "messages_pivot = pd.pivot_table(messages, index=['user_id', 'mm'], values = ['message_date'], aggfunc='count').reset_index()\n",
    "messages_pivot.rename(columns = {'message_date' : 'messages_amount'}, inplace = True)\n",
    "print(messages_pivot) "
   ]
  },
  {
   "cell_type": "code",
   "execution_count": 24,
   "metadata": {},
   "outputs": [
    {
     "data": {
      "text/html": [
       "<div>\n",
       "<style scoped>\n",
       "    .dataframe tbody tr th:only-of-type {\n",
       "        vertical-align: middle;\n",
       "    }\n",
       "\n",
       "    .dataframe tbody tr th {\n",
       "        vertical-align: top;\n",
       "    }\n",
       "\n",
       "    .dataframe thead th {\n",
       "        text-align: right;\n",
       "    }\n",
       "</style>\n",
       "<table border=\"1\" class=\"dataframe\">\n",
       "  <thead>\n",
       "    <tr style=\"text-align: right;\">\n",
       "      <th></th>\n",
       "      <th>id</th>\n",
       "      <th>user_id</th>\n",
       "      <th>session_date</th>\n",
       "      <th>mb_used</th>\n",
       "      <th>mm</th>\n",
       "    </tr>\n",
       "  </thead>\n",
       "  <tbody>\n",
       "    <tr>\n",
       "      <th>0</th>\n",
       "      <td>1000_13</td>\n",
       "      <td>1000</td>\n",
       "      <td>2018-12-29</td>\n",
       "      <td>89.86</td>\n",
       "      <td>12</td>\n",
       "    </tr>\n",
       "    <tr>\n",
       "      <th>1</th>\n",
       "      <td>1000_204</td>\n",
       "      <td>1000</td>\n",
       "      <td>2018-12-31</td>\n",
       "      <td>0.00</td>\n",
       "      <td>12</td>\n",
       "    </tr>\n",
       "    <tr>\n",
       "      <th>2</th>\n",
       "      <td>1000_379</td>\n",
       "      <td>1000</td>\n",
       "      <td>2018-12-28</td>\n",
       "      <td>660.40</td>\n",
       "      <td>12</td>\n",
       "    </tr>\n",
       "    <tr>\n",
       "      <th>3</th>\n",
       "      <td>1000_413</td>\n",
       "      <td>1000</td>\n",
       "      <td>2018-12-26</td>\n",
       "      <td>270.99</td>\n",
       "      <td>12</td>\n",
       "    </tr>\n",
       "    <tr>\n",
       "      <th>4</th>\n",
       "      <td>1000_442</td>\n",
       "      <td>1000</td>\n",
       "      <td>2018-12-27</td>\n",
       "      <td>880.22</td>\n",
       "      <td>12</td>\n",
       "    </tr>\n",
       "    <tr>\n",
       "      <th>5</th>\n",
       "      <td>1001_0</td>\n",
       "      <td>1001</td>\n",
       "      <td>2018-08-24</td>\n",
       "      <td>284.68</td>\n",
       "      <td>8</td>\n",
       "    </tr>\n",
       "    <tr>\n",
       "      <th>6</th>\n",
       "      <td>1001_3</td>\n",
       "      <td>1001</td>\n",
       "      <td>2018-12-09</td>\n",
       "      <td>656.04</td>\n",
       "      <td>12</td>\n",
       "    </tr>\n",
       "    <tr>\n",
       "      <th>7</th>\n",
       "      <td>1001_4</td>\n",
       "      <td>1001</td>\n",
       "      <td>2018-11-04</td>\n",
       "      <td>16.97</td>\n",
       "      <td>11</td>\n",
       "    </tr>\n",
       "    <tr>\n",
       "      <th>8</th>\n",
       "      <td>1001_10</td>\n",
       "      <td>1001</td>\n",
       "      <td>2018-11-27</td>\n",
       "      <td>135.18</td>\n",
       "      <td>11</td>\n",
       "    </tr>\n",
       "    <tr>\n",
       "      <th>9</th>\n",
       "      <td>1001_15</td>\n",
       "      <td>1001</td>\n",
       "      <td>2018-12-13</td>\n",
       "      <td>761.92</td>\n",
       "      <td>12</td>\n",
       "    </tr>\n",
       "  </tbody>\n",
       "</table>\n",
       "</div>"
      ],
      "text/plain": [
       "         id  user_id session_date  mb_used  mm\n",
       "0   1000_13     1000   2018-12-29    89.86  12\n",
       "1  1000_204     1000   2018-12-31     0.00  12\n",
       "2  1000_379     1000   2018-12-28   660.40  12\n",
       "3  1000_413     1000   2018-12-26   270.99  12\n",
       "4  1000_442     1000   2018-12-27   880.22  12\n",
       "5    1001_0     1001   2018-08-24   284.68   8\n",
       "6    1001_3     1001   2018-12-09   656.04  12\n",
       "7    1001_4     1001   2018-11-04    16.97  11\n",
       "8   1001_10     1001   2018-11-27   135.18  11\n",
       "9   1001_15     1001   2018-12-13   761.92  12"
      ]
     },
     "execution_count": 24,
     "metadata": {},
     "output_type": "execute_result"
    }
   ],
   "source": [
    "# Add datetime values for internet used by month\n",
    "\n",
    "internet['mm'] = pd.to_datetime(internet['session_date']).dt.month\n",
    "internet.head(10)"
   ]
  },
  {
   "cell_type": "code",
   "execution_count": 25,
   "metadata": {
    "scrolled": false
   },
   "outputs": [
    {
     "name": "stdout",
     "output_type": "stream",
     "text": [
      "      user_id  mm   mb_used\n",
      "0        1000  12   1901.47\n",
      "1        1001   8   6919.15\n",
      "2        1001   9  13314.82\n",
      "3        1001  10  22330.49\n",
      "4        1001  11  18504.30\n",
      "...       ...  ..       ...\n",
      "2272     1498  12  23137.69\n",
      "2273     1499   9  12984.76\n",
      "2274     1499  10  19492.43\n",
      "2275     1499  11  16813.83\n",
      "2276     1499  12  22059.21\n",
      "\n",
      "[2277 rows x 3 columns]\n"
     ]
    }
   ],
   "source": [
    "# The volume of internet used per month\n",
    "\n",
    "internet_pivot = pd.pivot_table(internet, index=['user_id', 'mm'], values = ['mb_used'], aggfunc='sum').reset_index()\n",
    "print(internet_pivot)"
   ]
  },
  {
   "cell_type": "code",
   "execution_count": 26,
   "metadata": {},
   "outputs": [],
   "source": [
    "total1= pd.merge(left = res , \n",
    "                right = messages_pivot, how='outer',on=['user_id', 'mm']).fillna(0)\n",
    "total2=pd.merge(left = total1 , \n",
    "                right = internet_pivot, how='outer',on=['user_id', 'mm']).fillna(0)"
   ]
  },
  {
   "cell_type": "code",
   "execution_count": 27,
   "metadata": {},
   "outputs": [
    {
     "name": "stdout",
     "output_type": "stream",
     "text": [
      "2293\n"
     ]
    },
    {
     "data": {
      "text/html": [
       "<div>\n",
       "<style scoped>\n",
       "    .dataframe tbody tr th:only-of-type {\n",
       "        vertical-align: middle;\n",
       "    }\n",
       "\n",
       "    .dataframe tbody tr th {\n",
       "        vertical-align: top;\n",
       "    }\n",
       "\n",
       "    .dataframe thead th {\n",
       "        text-align: right;\n",
       "    }\n",
       "</style>\n",
       "<table border=\"1\" class=\"dataframe\">\n",
       "  <thead>\n",
       "    <tr style=\"text-align: right;\">\n",
       "      <th></th>\n",
       "      <th>user_id</th>\n",
       "      <th>mm</th>\n",
       "      <th>call_duration</th>\n",
       "      <th>amount_of_calls</th>\n",
       "      <th>messages_amount</th>\n",
       "      <th>mb_used</th>\n",
       "    </tr>\n",
       "  </thead>\n",
       "  <tbody>\n",
       "    <tr>\n",
       "      <th>0</th>\n",
       "      <td>1000</td>\n",
       "      <td>12</td>\n",
       "      <td>117.0</td>\n",
       "      <td>16.0</td>\n",
       "      <td>11.0</td>\n",
       "      <td>1901.47</td>\n",
       "    </tr>\n",
       "    <tr>\n",
       "      <th>1</th>\n",
       "      <td>1001</td>\n",
       "      <td>8</td>\n",
       "      <td>172.0</td>\n",
       "      <td>27.0</td>\n",
       "      <td>30.0</td>\n",
       "      <td>6919.15</td>\n",
       "    </tr>\n",
       "    <tr>\n",
       "      <th>2</th>\n",
       "      <td>1001</td>\n",
       "      <td>9</td>\n",
       "      <td>298.0</td>\n",
       "      <td>49.0</td>\n",
       "      <td>44.0</td>\n",
       "      <td>13314.82</td>\n",
       "    </tr>\n",
       "    <tr>\n",
       "      <th>3</th>\n",
       "      <td>1001</td>\n",
       "      <td>10</td>\n",
       "      <td>375.0</td>\n",
       "      <td>65.0</td>\n",
       "      <td>53.0</td>\n",
       "      <td>22330.49</td>\n",
       "    </tr>\n",
       "    <tr>\n",
       "      <th>4</th>\n",
       "      <td>1001</td>\n",
       "      <td>11</td>\n",
       "      <td>405.0</td>\n",
       "      <td>64.0</td>\n",
       "      <td>36.0</td>\n",
       "      <td>18504.30</td>\n",
       "    </tr>\n",
       "    <tr>\n",
       "      <th>5</th>\n",
       "      <td>1001</td>\n",
       "      <td>12</td>\n",
       "      <td>393.0</td>\n",
       "      <td>56.0</td>\n",
       "      <td>44.0</td>\n",
       "      <td>19369.18</td>\n",
       "    </tr>\n",
       "    <tr>\n",
       "      <th>6</th>\n",
       "      <td>1002</td>\n",
       "      <td>10</td>\n",
       "      <td>55.0</td>\n",
       "      <td>11.0</td>\n",
       "      <td>15.0</td>\n",
       "      <td>6552.01</td>\n",
       "    </tr>\n",
       "    <tr>\n",
       "      <th>7</th>\n",
       "      <td>1002</td>\n",
       "      <td>11</td>\n",
       "      <td>360.0</td>\n",
       "      <td>55.0</td>\n",
       "      <td>32.0</td>\n",
       "      <td>19345.08</td>\n",
       "    </tr>\n",
       "    <tr>\n",
       "      <th>8</th>\n",
       "      <td>1002</td>\n",
       "      <td>12</td>\n",
       "      <td>364.0</td>\n",
       "      <td>47.0</td>\n",
       "      <td>41.0</td>\n",
       "      <td>14396.24</td>\n",
       "    </tr>\n",
       "    <tr>\n",
       "      <th>9</th>\n",
       "      <td>1003</td>\n",
       "      <td>12</td>\n",
       "      <td>1041.0</td>\n",
       "      <td>149.0</td>\n",
       "      <td>50.0</td>\n",
       "      <td>27044.14</td>\n",
       "    </tr>\n",
       "  </tbody>\n",
       "</table>\n",
       "</div>"
      ],
      "text/plain": [
       "   user_id  mm  call_duration  amount_of_calls  messages_amount   mb_used\n",
       "0     1000  12          117.0             16.0             11.0   1901.47\n",
       "1     1001   8          172.0             27.0             30.0   6919.15\n",
       "2     1001   9          298.0             49.0             44.0  13314.82\n",
       "3     1001  10          375.0             65.0             53.0  22330.49\n",
       "4     1001  11          405.0             64.0             36.0  18504.30\n",
       "5     1001  12          393.0             56.0             44.0  19369.18\n",
       "6     1002  10           55.0             11.0             15.0   6552.01\n",
       "7     1002  11          360.0             55.0             32.0  19345.08\n",
       "8     1002  12          364.0             47.0             41.0  14396.24\n",
       "9     1003  12         1041.0            149.0             50.0  27044.14"
      ]
     },
     "execution_count": 27,
     "metadata": {},
     "output_type": "execute_result"
    }
   ],
   "source": [
    "print(len(total2))\n",
    "\n",
    "total2.head(10)"
   ]
  },
  {
   "cell_type": "code",
   "execution_count": 28,
   "metadata": {},
   "outputs": [
    {
     "data": {
      "text/html": [
       "<div>\n",
       "<style scoped>\n",
       "    .dataframe tbody tr th:only-of-type {\n",
       "        vertical-align: middle;\n",
       "    }\n",
       "\n",
       "    .dataframe tbody tr th {\n",
       "        vertical-align: top;\n",
       "    }\n",
       "\n",
       "    .dataframe thead th {\n",
       "        text-align: right;\n",
       "    }\n",
       "</style>\n",
       "<table border=\"1\" class=\"dataframe\">\n",
       "  <thead>\n",
       "    <tr style=\"text-align: right;\">\n",
       "      <th></th>\n",
       "      <th>user_id</th>\n",
       "      <th>mm</th>\n",
       "      <th>call_duration</th>\n",
       "      <th>amount_of_calls</th>\n",
       "      <th>messages_amount</th>\n",
       "      <th>mb_used</th>\n",
       "      <th>plan</th>\n",
       "    </tr>\n",
       "  </thead>\n",
       "  <tbody>\n",
       "    <tr>\n",
       "      <th>0</th>\n",
       "      <td>1000</td>\n",
       "      <td>12</td>\n",
       "      <td>117.0</td>\n",
       "      <td>16.0</td>\n",
       "      <td>11.0</td>\n",
       "      <td>1901.47</td>\n",
       "      <td>ultimate</td>\n",
       "    </tr>\n",
       "    <tr>\n",
       "      <th>1</th>\n",
       "      <td>1001</td>\n",
       "      <td>8</td>\n",
       "      <td>172.0</td>\n",
       "      <td>27.0</td>\n",
       "      <td>30.0</td>\n",
       "      <td>6919.15</td>\n",
       "      <td>surf</td>\n",
       "    </tr>\n",
       "    <tr>\n",
       "      <th>2</th>\n",
       "      <td>1001</td>\n",
       "      <td>9</td>\n",
       "      <td>298.0</td>\n",
       "      <td>49.0</td>\n",
       "      <td>44.0</td>\n",
       "      <td>13314.82</td>\n",
       "      <td>surf</td>\n",
       "    </tr>\n",
       "    <tr>\n",
       "      <th>3</th>\n",
       "      <td>1001</td>\n",
       "      <td>10</td>\n",
       "      <td>375.0</td>\n",
       "      <td>65.0</td>\n",
       "      <td>53.0</td>\n",
       "      <td>22330.49</td>\n",
       "      <td>surf</td>\n",
       "    </tr>\n",
       "    <tr>\n",
       "      <th>4</th>\n",
       "      <td>1001</td>\n",
       "      <td>11</td>\n",
       "      <td>405.0</td>\n",
       "      <td>64.0</td>\n",
       "      <td>36.0</td>\n",
       "      <td>18504.30</td>\n",
       "      <td>surf</td>\n",
       "    </tr>\n",
       "    <tr>\n",
       "      <th>5</th>\n",
       "      <td>1001</td>\n",
       "      <td>12</td>\n",
       "      <td>393.0</td>\n",
       "      <td>56.0</td>\n",
       "      <td>44.0</td>\n",
       "      <td>19369.18</td>\n",
       "      <td>surf</td>\n",
       "    </tr>\n",
       "    <tr>\n",
       "      <th>6</th>\n",
       "      <td>1002</td>\n",
       "      <td>10</td>\n",
       "      <td>55.0</td>\n",
       "      <td>11.0</td>\n",
       "      <td>15.0</td>\n",
       "      <td>6552.01</td>\n",
       "      <td>surf</td>\n",
       "    </tr>\n",
       "    <tr>\n",
       "      <th>7</th>\n",
       "      <td>1002</td>\n",
       "      <td>11</td>\n",
       "      <td>360.0</td>\n",
       "      <td>55.0</td>\n",
       "      <td>32.0</td>\n",
       "      <td>19345.08</td>\n",
       "      <td>surf</td>\n",
       "    </tr>\n",
       "    <tr>\n",
       "      <th>8</th>\n",
       "      <td>1002</td>\n",
       "      <td>12</td>\n",
       "      <td>364.0</td>\n",
       "      <td>47.0</td>\n",
       "      <td>41.0</td>\n",
       "      <td>14396.24</td>\n",
       "      <td>surf</td>\n",
       "    </tr>\n",
       "    <tr>\n",
       "      <th>9</th>\n",
       "      <td>1003</td>\n",
       "      <td>12</td>\n",
       "      <td>1041.0</td>\n",
       "      <td>149.0</td>\n",
       "      <td>50.0</td>\n",
       "      <td>27044.14</td>\n",
       "      <td>surf</td>\n",
       "    </tr>\n",
       "  </tbody>\n",
       "</table>\n",
       "</div>"
      ],
      "text/plain": [
       "   user_id  mm  call_duration  amount_of_calls  messages_amount   mb_used  \\\n",
       "0     1000  12          117.0             16.0             11.0   1901.47   \n",
       "1     1001   8          172.0             27.0             30.0   6919.15   \n",
       "2     1001   9          298.0             49.0             44.0  13314.82   \n",
       "3     1001  10          375.0             65.0             53.0  22330.49   \n",
       "4     1001  11          405.0             64.0             36.0  18504.30   \n",
       "5     1001  12          393.0             56.0             44.0  19369.18   \n",
       "6     1002  10           55.0             11.0             15.0   6552.01   \n",
       "7     1002  11          360.0             55.0             32.0  19345.08   \n",
       "8     1002  12          364.0             47.0             41.0  14396.24   \n",
       "9     1003  12         1041.0            149.0             50.0  27044.14   \n",
       "\n",
       "       plan  \n",
       "0  ultimate  \n",
       "1      surf  \n",
       "2      surf  \n",
       "3      surf  \n",
       "4      surf  \n",
       "5      surf  \n",
       "6      surf  \n",
       "7      surf  \n",
       "8      surf  \n",
       "9      surf  "
      ]
     },
     "execution_count": 28,
     "metadata": {},
     "output_type": "execute_result"
    }
   ],
   "source": [
    "\n",
    "calls_pivot_new = total2.merge(users[['user_id', 'plan']], on = 'user_id', how = 'left')\n",
    "calls_pivot_new.head(10)"
   ]
  },
  {
   "cell_type": "code",
   "execution_count": 29,
   "metadata": {},
   "outputs": [
    {
     "name": "stdout",
     "output_type": "stream",
     "text": [
      "2293\n",
      "      user_id  mm  call_duration  amount_of_calls  messages_amount  gb_used  \\\n",
      "0        1000  12          117.0             16.0             11.0      2.0   \n",
      "1        1001   8          172.0             27.0             30.0      7.0   \n",
      "2        1001   9          298.0             49.0             44.0     14.0   \n",
      "3        1001  10          375.0             65.0             53.0     22.0   \n",
      "4        1001  11          405.0             64.0             36.0     19.0   \n",
      "...       ...  ..            ...              ...              ...      ...   \n",
      "2288     1349  12            0.0              0.0             61.0     13.0   \n",
      "2289     1361   5            0.0              0.0              2.0      2.0   \n",
      "2290     1482  10            0.0              0.0              2.0      0.0   \n",
      "2291     1108  12            0.0              0.0              0.0      1.0   \n",
      "2292     1311   6            0.0              0.0              0.0      2.0   \n",
      "\n",
      "     plan_name  messages_included  gb_per_month_included  minutes_included  \\\n",
      "0     ultimate               1000                   30.0              3000   \n",
      "1         surf                 50                   15.0               500   \n",
      "2         surf                 50                   15.0               500   \n",
      "3         surf                 50                   15.0               500   \n",
      "4         surf                 50                   15.0               500   \n",
      "...        ...                ...                    ...               ...   \n",
      "2288      surf                 50                   15.0               500   \n",
      "2289      surf                 50                   15.0               500   \n",
      "2290  ultimate               1000                   30.0              3000   \n",
      "2291  ultimate               1000                   30.0              3000   \n",
      "2292  ultimate               1000                   30.0              3000   \n",
      "\n",
      "      usd_monthly_pay  usd_per_gb  usd_per_message  usd_per_minute  \n",
      "0                  70           7             0.01            0.01  \n",
      "1                  20          10             0.03            0.03  \n",
      "2                  20          10             0.03            0.03  \n",
      "3                  20          10             0.03            0.03  \n",
      "4                  20          10             0.03            0.03  \n",
      "...               ...         ...              ...             ...  \n",
      "2288               20          10             0.03            0.03  \n",
      "2289               20          10             0.03            0.03  \n",
      "2290               70           7             0.01            0.01  \n",
      "2291               70           7             0.01            0.01  \n",
      "2292               70           7             0.01            0.01  \n",
      "\n",
      "[2293 rows x 14 columns]\n"
     ]
    }
   ],
   "source": [
    "calls_pivot_new.rename(columns = {'plan' : 'plan_name', 'mb_used': 'gb_used'}, inplace = True)\n",
    "\n",
    "final_pivot = calls_pivot_new.merge(plans, on = 'plan_name', how = 'left')\n",
    "final_pivot.rename(columns = {'mb_per_month_included' : 'gb_per_month_included'}, inplace = True)\n",
    "final_pivot['gb_used'] = np.ceil((final_pivot['gb_used']/1024))\n",
    "final_pivot['gb_per_month_included'] = final_pivot['gb_per_month_included']/1024\n",
    "print(len(final_pivot))\n",
    "print(final_pivot)"
   ]
  },
  {
   "cell_type": "code",
   "execution_count": 30,
   "metadata": {},
   "outputs": [],
   "source": [
    "# Let's write a function that calculates the revenue from messages per month\n",
    "def messages_rev(row):\n",
    "    messages_amount = row.messages_amount\n",
    "    messages_included = row.messages_included\n",
    "    usd_monthly_pay = row.usd_monthly_pay\n",
    "    usd_per_message = row.usd_per_message\n",
    "    if messages_amount > messages_included:\n",
    "        return (messages_amount-messages_included)*usd_per_message+usd_monthly_pay\n",
    "    return usd_monthly_pay  \n"
   ]
  },
  {
   "cell_type": "code",
   "execution_count": 31,
   "metadata": {},
   "outputs": [
    {
     "name": "stdout",
     "output_type": "stream",
     "text": [
      "70\n"
     ]
    }
   ],
   "source": [
    "# Test if the function works\n",
    "row = final_pivot.iloc[0,:]\n",
    "print(messages_rev(row)) "
   ]
  },
  {
   "cell_type": "code",
   "execution_count": 32,
   "metadata": {},
   "outputs": [
    {
     "data": {
      "text/plain": [
       "(0, 15)"
      ]
     },
     "execution_count": 32,
     "metadata": {},
     "output_type": "execute_result"
    }
   ],
   "source": [
    "# Creating new column based on function\n",
    "# Apply function to the messages_rev\n",
    "\n",
    "final_pivot['messages_rev'] = final_pivot.apply(messages_rev, axis = 1)\n",
    "            \n",
    "final_pivot[final_pivot['messages_rev'].isna()].shape"
   ]
  },
  {
   "cell_type": "code",
   "execution_count": 33,
   "metadata": {},
   "outputs": [],
   "source": [
    "# Let's write a function that calculates the revenue from calls per month\n",
    "def calls_rev(row):\n",
    "    call_duration = row.call_duration\n",
    "    minutes_included = row.minutes_included\n",
    "    usd_monthly_pay = row.usd_monthly_pay\n",
    "    usd_per_minute = row.usd_per_minute\n",
    "    if call_duration > minutes_included:\n",
    "        return (call_duration-minutes_included)*usd_per_minute+usd_monthly_pay\n",
    "    return usd_monthly_pay "
   ]
  },
  {
   "cell_type": "code",
   "execution_count": 34,
   "metadata": {},
   "outputs": [
    {
     "name": "stdout",
     "output_type": "stream",
     "text": [
      "70\n"
     ]
    }
   ],
   "source": [
    "# Test if the function works\n",
    "row = final_pivot.iloc[0,:]\n",
    "print(messages_rev(row))\n"
   ]
  },
  {
   "cell_type": "code",
   "execution_count": 35,
   "metadata": {},
   "outputs": [
    {
     "data": {
      "text/plain": [
       "(0, 16)"
      ]
     },
     "execution_count": 35,
     "metadata": {},
     "output_type": "execute_result"
    }
   ],
   "source": [
    "# Creating new column based on function\n",
    "# Apply function to the calls_rev\n",
    "\n",
    "final_pivot['calls_rev'] = final_pivot.apply(calls_rev, axis = 1)\n",
    "            \n",
    "final_pivot[final_pivot['calls_rev'].isna()].shape"
   ]
  },
  {
   "cell_type": "code",
   "execution_count": 36,
   "metadata": {},
   "outputs": [],
   "source": [
    "# Let's write a function that calculates the revenue from internet used per month\n",
    "def internet_rev(row):\n",
    "    gb_used = row.gb_used\n",
    "    gb_per_month_included = row.gb_per_month_included\n",
    "    usd_monthly_pay = row.usd_monthly_pay\n",
    "    usd_per_gb = row.usd_per_gb\n",
    "    if  gb_used > gb_per_month_included:\n",
    "        return (gb_used-gb_per_month_included)*usd_per_gb+usd_monthly_pay\n",
    "    return usd_monthly_pay "
   ]
  },
  {
   "cell_type": "code",
   "execution_count": 37,
   "metadata": {},
   "outputs": [
    {
     "name": "stdout",
     "output_type": "stream",
     "text": [
      "70\n"
     ]
    }
   ],
   "source": [
    "# Test if the function works\n",
    "row = final_pivot.iloc[0,:]\n",
    "print(internet_rev(row))"
   ]
  },
  {
   "cell_type": "code",
   "execution_count": 38,
   "metadata": {},
   "outputs": [
    {
     "data": {
      "text/plain": [
       "(0, 17)"
      ]
     },
     "execution_count": 38,
     "metadata": {},
     "output_type": "execute_result"
    }
   ],
   "source": [
    "# Creating new column based on function\n",
    "# Apply function to the internet_rev\n",
    "\n",
    "final_pivot['internet_rev'] = final_pivot.apply(internet_rev, axis = 1)\n",
    "            \n",
    "final_pivot[final_pivot['internet_rev'].isna()].shape"
   ]
  },
  {
   "cell_type": "code",
   "execution_count": 39,
   "metadata": {
    "scrolled": true
   },
   "outputs": [
    {
     "data": {
      "text/html": [
       "<div>\n",
       "<style scoped>\n",
       "    .dataframe tbody tr th:only-of-type {\n",
       "        vertical-align: middle;\n",
       "    }\n",
       "\n",
       "    .dataframe tbody tr th {\n",
       "        vertical-align: top;\n",
       "    }\n",
       "\n",
       "    .dataframe thead th {\n",
       "        text-align: right;\n",
       "    }\n",
       "</style>\n",
       "<table border=\"1\" class=\"dataframe\">\n",
       "  <thead>\n",
       "    <tr style=\"text-align: right;\">\n",
       "      <th></th>\n",
       "      <th>user_id</th>\n",
       "      <th>mm</th>\n",
       "      <th>call_duration</th>\n",
       "      <th>amount_of_calls</th>\n",
       "      <th>messages_amount</th>\n",
       "      <th>gb_used</th>\n",
       "      <th>plan_name</th>\n",
       "      <th>messages_included</th>\n",
       "      <th>gb_per_month_included</th>\n",
       "      <th>minutes_included</th>\n",
       "      <th>usd_monthly_pay</th>\n",
       "      <th>usd_per_gb</th>\n",
       "      <th>usd_per_message</th>\n",
       "      <th>usd_per_minute</th>\n",
       "      <th>messages_rev</th>\n",
       "      <th>calls_rev</th>\n",
       "      <th>internet_rev</th>\n",
       "      <th>total_rev</th>\n",
       "    </tr>\n",
       "  </thead>\n",
       "  <tbody>\n",
       "    <tr>\n",
       "      <th>0</th>\n",
       "      <td>1000</td>\n",
       "      <td>12</td>\n",
       "      <td>117.0</td>\n",
       "      <td>16.0</td>\n",
       "      <td>11.0</td>\n",
       "      <td>2.0</td>\n",
       "      <td>ultimate</td>\n",
       "      <td>1000</td>\n",
       "      <td>30.0</td>\n",
       "      <td>3000</td>\n",
       "      <td>70</td>\n",
       "      <td>7</td>\n",
       "      <td>0.01</td>\n",
       "      <td>0.01</td>\n",
       "      <td>70.00</td>\n",
       "      <td>70.00</td>\n",
       "      <td>70.0</td>\n",
       "      <td>70.00</td>\n",
       "    </tr>\n",
       "    <tr>\n",
       "      <th>1</th>\n",
       "      <td>1001</td>\n",
       "      <td>8</td>\n",
       "      <td>172.0</td>\n",
       "      <td>27.0</td>\n",
       "      <td>30.0</td>\n",
       "      <td>7.0</td>\n",
       "      <td>surf</td>\n",
       "      <td>50</td>\n",
       "      <td>15.0</td>\n",
       "      <td>500</td>\n",
       "      <td>20</td>\n",
       "      <td>10</td>\n",
       "      <td>0.03</td>\n",
       "      <td>0.03</td>\n",
       "      <td>20.00</td>\n",
       "      <td>20.00</td>\n",
       "      <td>20.0</td>\n",
       "      <td>20.00</td>\n",
       "    </tr>\n",
       "    <tr>\n",
       "      <th>2</th>\n",
       "      <td>1001</td>\n",
       "      <td>9</td>\n",
       "      <td>298.0</td>\n",
       "      <td>49.0</td>\n",
       "      <td>44.0</td>\n",
       "      <td>14.0</td>\n",
       "      <td>surf</td>\n",
       "      <td>50</td>\n",
       "      <td>15.0</td>\n",
       "      <td>500</td>\n",
       "      <td>20</td>\n",
       "      <td>10</td>\n",
       "      <td>0.03</td>\n",
       "      <td>0.03</td>\n",
       "      <td>20.00</td>\n",
       "      <td>20.00</td>\n",
       "      <td>20.0</td>\n",
       "      <td>20.00</td>\n",
       "    </tr>\n",
       "    <tr>\n",
       "      <th>3</th>\n",
       "      <td>1001</td>\n",
       "      <td>10</td>\n",
       "      <td>375.0</td>\n",
       "      <td>65.0</td>\n",
       "      <td>53.0</td>\n",
       "      <td>22.0</td>\n",
       "      <td>surf</td>\n",
       "      <td>50</td>\n",
       "      <td>15.0</td>\n",
       "      <td>500</td>\n",
       "      <td>20</td>\n",
       "      <td>10</td>\n",
       "      <td>0.03</td>\n",
       "      <td>0.03</td>\n",
       "      <td>20.09</td>\n",
       "      <td>20.00</td>\n",
       "      <td>90.0</td>\n",
       "      <td>90.09</td>\n",
       "    </tr>\n",
       "    <tr>\n",
       "      <th>4</th>\n",
       "      <td>1001</td>\n",
       "      <td>11</td>\n",
       "      <td>405.0</td>\n",
       "      <td>64.0</td>\n",
       "      <td>36.0</td>\n",
       "      <td>19.0</td>\n",
       "      <td>surf</td>\n",
       "      <td>50</td>\n",
       "      <td>15.0</td>\n",
       "      <td>500</td>\n",
       "      <td>20</td>\n",
       "      <td>10</td>\n",
       "      <td>0.03</td>\n",
       "      <td>0.03</td>\n",
       "      <td>20.00</td>\n",
       "      <td>20.00</td>\n",
       "      <td>60.0</td>\n",
       "      <td>60.00</td>\n",
       "    </tr>\n",
       "    <tr>\n",
       "      <th>5</th>\n",
       "      <td>1001</td>\n",
       "      <td>12</td>\n",
       "      <td>393.0</td>\n",
       "      <td>56.0</td>\n",
       "      <td>44.0</td>\n",
       "      <td>19.0</td>\n",
       "      <td>surf</td>\n",
       "      <td>50</td>\n",
       "      <td>15.0</td>\n",
       "      <td>500</td>\n",
       "      <td>20</td>\n",
       "      <td>10</td>\n",
       "      <td>0.03</td>\n",
       "      <td>0.03</td>\n",
       "      <td>20.00</td>\n",
       "      <td>20.00</td>\n",
       "      <td>60.0</td>\n",
       "      <td>60.00</td>\n",
       "    </tr>\n",
       "    <tr>\n",
       "      <th>6</th>\n",
       "      <td>1002</td>\n",
       "      <td>10</td>\n",
       "      <td>55.0</td>\n",
       "      <td>11.0</td>\n",
       "      <td>15.0</td>\n",
       "      <td>7.0</td>\n",
       "      <td>surf</td>\n",
       "      <td>50</td>\n",
       "      <td>15.0</td>\n",
       "      <td>500</td>\n",
       "      <td>20</td>\n",
       "      <td>10</td>\n",
       "      <td>0.03</td>\n",
       "      <td>0.03</td>\n",
       "      <td>20.00</td>\n",
       "      <td>20.00</td>\n",
       "      <td>20.0</td>\n",
       "      <td>20.00</td>\n",
       "    </tr>\n",
       "    <tr>\n",
       "      <th>7</th>\n",
       "      <td>1002</td>\n",
       "      <td>11</td>\n",
       "      <td>360.0</td>\n",
       "      <td>55.0</td>\n",
       "      <td>32.0</td>\n",
       "      <td>19.0</td>\n",
       "      <td>surf</td>\n",
       "      <td>50</td>\n",
       "      <td>15.0</td>\n",
       "      <td>500</td>\n",
       "      <td>20</td>\n",
       "      <td>10</td>\n",
       "      <td>0.03</td>\n",
       "      <td>0.03</td>\n",
       "      <td>20.00</td>\n",
       "      <td>20.00</td>\n",
       "      <td>60.0</td>\n",
       "      <td>60.00</td>\n",
       "    </tr>\n",
       "    <tr>\n",
       "      <th>8</th>\n",
       "      <td>1002</td>\n",
       "      <td>12</td>\n",
       "      <td>364.0</td>\n",
       "      <td>47.0</td>\n",
       "      <td>41.0</td>\n",
       "      <td>15.0</td>\n",
       "      <td>surf</td>\n",
       "      <td>50</td>\n",
       "      <td>15.0</td>\n",
       "      <td>500</td>\n",
       "      <td>20</td>\n",
       "      <td>10</td>\n",
       "      <td>0.03</td>\n",
       "      <td>0.03</td>\n",
       "      <td>20.00</td>\n",
       "      <td>20.00</td>\n",
       "      <td>20.0</td>\n",
       "      <td>20.00</td>\n",
       "    </tr>\n",
       "    <tr>\n",
       "      <th>9</th>\n",
       "      <td>1003</td>\n",
       "      <td>12</td>\n",
       "      <td>1041.0</td>\n",
       "      <td>149.0</td>\n",
       "      <td>50.0</td>\n",
       "      <td>27.0</td>\n",
       "      <td>surf</td>\n",
       "      <td>50</td>\n",
       "      <td>15.0</td>\n",
       "      <td>500</td>\n",
       "      <td>20</td>\n",
       "      <td>10</td>\n",
       "      <td>0.03</td>\n",
       "      <td>0.03</td>\n",
       "      <td>20.00</td>\n",
       "      <td>36.23</td>\n",
       "      <td>140.0</td>\n",
       "      <td>156.23</td>\n",
       "    </tr>\n",
       "  </tbody>\n",
       "</table>\n",
       "</div>"
      ],
      "text/plain": [
       "   user_id  mm  call_duration  amount_of_calls  messages_amount  gb_used  \\\n",
       "0     1000  12          117.0             16.0             11.0      2.0   \n",
       "1     1001   8          172.0             27.0             30.0      7.0   \n",
       "2     1001   9          298.0             49.0             44.0     14.0   \n",
       "3     1001  10          375.0             65.0             53.0     22.0   \n",
       "4     1001  11          405.0             64.0             36.0     19.0   \n",
       "5     1001  12          393.0             56.0             44.0     19.0   \n",
       "6     1002  10           55.0             11.0             15.0      7.0   \n",
       "7     1002  11          360.0             55.0             32.0     19.0   \n",
       "8     1002  12          364.0             47.0             41.0     15.0   \n",
       "9     1003  12         1041.0            149.0             50.0     27.0   \n",
       "\n",
       "  plan_name  messages_included  gb_per_month_included  minutes_included  \\\n",
       "0  ultimate               1000                   30.0              3000   \n",
       "1      surf                 50                   15.0               500   \n",
       "2      surf                 50                   15.0               500   \n",
       "3      surf                 50                   15.0               500   \n",
       "4      surf                 50                   15.0               500   \n",
       "5      surf                 50                   15.0               500   \n",
       "6      surf                 50                   15.0               500   \n",
       "7      surf                 50                   15.0               500   \n",
       "8      surf                 50                   15.0               500   \n",
       "9      surf                 50                   15.0               500   \n",
       "\n",
       "   usd_monthly_pay  usd_per_gb  usd_per_message  usd_per_minute  messages_rev  \\\n",
       "0               70           7             0.01            0.01         70.00   \n",
       "1               20          10             0.03            0.03         20.00   \n",
       "2               20          10             0.03            0.03         20.00   \n",
       "3               20          10             0.03            0.03         20.09   \n",
       "4               20          10             0.03            0.03         20.00   \n",
       "5               20          10             0.03            0.03         20.00   \n",
       "6               20          10             0.03            0.03         20.00   \n",
       "7               20          10             0.03            0.03         20.00   \n",
       "8               20          10             0.03            0.03         20.00   \n",
       "9               20          10             0.03            0.03         20.00   \n",
       "\n",
       "   calls_rev  internet_rev  total_rev  \n",
       "0      70.00          70.0      70.00  \n",
       "1      20.00          20.0      20.00  \n",
       "2      20.00          20.0      20.00  \n",
       "3      20.00          90.0      90.09  \n",
       "4      20.00          60.0      60.00  \n",
       "5      20.00          60.0      60.00  \n",
       "6      20.00          20.0      20.00  \n",
       "7      20.00          60.0      60.00  \n",
       "8      20.00          20.0      20.00  \n",
       "9      36.23         140.0     156.23  "
      ]
     },
     "execution_count": 39,
     "metadata": {},
     "output_type": "execute_result"
    }
   ],
   "source": [
    "# Creating new column for total revenue\n",
    "\n",
    "final_pivot['total_rev'] = final_pivot['calls_rev'] + final_pivot['messages_rev'] + final_pivot['internet_rev'] - 2*final_pivot['usd_monthly_pay']\n",
    "final_pivot.head(10)"
   ]
  },
  {
   "cell_type": "code",
   "execution_count": 40,
   "metadata": {},
   "outputs": [
    {
     "data": {
      "text/html": [
       "<div>\n",
       "<style scoped>\n",
       "    .dataframe tbody tr th:only-of-type {\n",
       "        vertical-align: middle;\n",
       "    }\n",
       "\n",
       "    .dataframe tbody tr th {\n",
       "        vertical-align: top;\n",
       "    }\n",
       "\n",
       "    .dataframe thead th {\n",
       "        text-align: right;\n",
       "    }\n",
       "</style>\n",
       "<table border=\"1\" class=\"dataframe\">\n",
       "  <thead>\n",
       "    <tr style=\"text-align: right;\">\n",
       "      <th></th>\n",
       "      <th>user_id</th>\n",
       "      <th>mm</th>\n",
       "      <th>call_duration</th>\n",
       "      <th>amount_of_calls</th>\n",
       "      <th>messages_amount</th>\n",
       "      <th>gb_used</th>\n",
       "      <th>plan_name</th>\n",
       "      <th>messages_included</th>\n",
       "      <th>gb_per_month_included</th>\n",
       "      <th>minutes_included</th>\n",
       "      <th>usd_monthly_pay</th>\n",
       "      <th>usd_per_gb</th>\n",
       "      <th>usd_per_message</th>\n",
       "      <th>usd_per_minute</th>\n",
       "      <th>messages_rev</th>\n",
       "      <th>calls_rev</th>\n",
       "      <th>internet_rev</th>\n",
       "      <th>total_rev</th>\n",
       "      <th>city</th>\n",
       "    </tr>\n",
       "  </thead>\n",
       "  <tbody>\n",
       "    <tr>\n",
       "      <th>0</th>\n",
       "      <td>1000</td>\n",
       "      <td>12</td>\n",
       "      <td>117.0</td>\n",
       "      <td>16.0</td>\n",
       "      <td>11.0</td>\n",
       "      <td>2.0</td>\n",
       "      <td>ultimate</td>\n",
       "      <td>1000</td>\n",
       "      <td>30.0</td>\n",
       "      <td>3000</td>\n",
       "      <td>70</td>\n",
       "      <td>7</td>\n",
       "      <td>0.01</td>\n",
       "      <td>0.01</td>\n",
       "      <td>70.00</td>\n",
       "      <td>70.0</td>\n",
       "      <td>70.0</td>\n",
       "      <td>70.00</td>\n",
       "      <td>other</td>\n",
       "    </tr>\n",
       "    <tr>\n",
       "      <th>1</th>\n",
       "      <td>1001</td>\n",
       "      <td>8</td>\n",
       "      <td>172.0</td>\n",
       "      <td>27.0</td>\n",
       "      <td>30.0</td>\n",
       "      <td>7.0</td>\n",
       "      <td>surf</td>\n",
       "      <td>50</td>\n",
       "      <td>15.0</td>\n",
       "      <td>500</td>\n",
       "      <td>20</td>\n",
       "      <td>10</td>\n",
       "      <td>0.03</td>\n",
       "      <td>0.03</td>\n",
       "      <td>20.00</td>\n",
       "      <td>20.0</td>\n",
       "      <td>20.0</td>\n",
       "      <td>20.00</td>\n",
       "      <td>other</td>\n",
       "    </tr>\n",
       "    <tr>\n",
       "      <th>2</th>\n",
       "      <td>1001</td>\n",
       "      <td>9</td>\n",
       "      <td>298.0</td>\n",
       "      <td>49.0</td>\n",
       "      <td>44.0</td>\n",
       "      <td>14.0</td>\n",
       "      <td>surf</td>\n",
       "      <td>50</td>\n",
       "      <td>15.0</td>\n",
       "      <td>500</td>\n",
       "      <td>20</td>\n",
       "      <td>10</td>\n",
       "      <td>0.03</td>\n",
       "      <td>0.03</td>\n",
       "      <td>20.00</td>\n",
       "      <td>20.0</td>\n",
       "      <td>20.0</td>\n",
       "      <td>20.00</td>\n",
       "      <td>other</td>\n",
       "    </tr>\n",
       "    <tr>\n",
       "      <th>3</th>\n",
       "      <td>1001</td>\n",
       "      <td>10</td>\n",
       "      <td>375.0</td>\n",
       "      <td>65.0</td>\n",
       "      <td>53.0</td>\n",
       "      <td>22.0</td>\n",
       "      <td>surf</td>\n",
       "      <td>50</td>\n",
       "      <td>15.0</td>\n",
       "      <td>500</td>\n",
       "      <td>20</td>\n",
       "      <td>10</td>\n",
       "      <td>0.03</td>\n",
       "      <td>0.03</td>\n",
       "      <td>20.09</td>\n",
       "      <td>20.0</td>\n",
       "      <td>90.0</td>\n",
       "      <td>90.09</td>\n",
       "      <td>other</td>\n",
       "    </tr>\n",
       "    <tr>\n",
       "      <th>4</th>\n",
       "      <td>1001</td>\n",
       "      <td>11</td>\n",
       "      <td>405.0</td>\n",
       "      <td>64.0</td>\n",
       "      <td>36.0</td>\n",
       "      <td>19.0</td>\n",
       "      <td>surf</td>\n",
       "      <td>50</td>\n",
       "      <td>15.0</td>\n",
       "      <td>500</td>\n",
       "      <td>20</td>\n",
       "      <td>10</td>\n",
       "      <td>0.03</td>\n",
       "      <td>0.03</td>\n",
       "      <td>20.00</td>\n",
       "      <td>20.0</td>\n",
       "      <td>60.0</td>\n",
       "      <td>60.00</td>\n",
       "      <td>other</td>\n",
       "    </tr>\n",
       "  </tbody>\n",
       "</table>\n",
       "</div>"
      ],
      "text/plain": [
       "   user_id  mm  call_duration  amount_of_calls  messages_amount  gb_used  \\\n",
       "0     1000  12          117.0             16.0             11.0      2.0   \n",
       "1     1001   8          172.0             27.0             30.0      7.0   \n",
       "2     1001   9          298.0             49.0             44.0     14.0   \n",
       "3     1001  10          375.0             65.0             53.0     22.0   \n",
       "4     1001  11          405.0             64.0             36.0     19.0   \n",
       "\n",
       "  plan_name  messages_included  gb_per_month_included  minutes_included  \\\n",
       "0  ultimate               1000                   30.0              3000   \n",
       "1      surf                 50                   15.0               500   \n",
       "2      surf                 50                   15.0               500   \n",
       "3      surf                 50                   15.0               500   \n",
       "4      surf                 50                   15.0               500   \n",
       "\n",
       "   usd_monthly_pay  usd_per_gb  usd_per_message  usd_per_minute  messages_rev  \\\n",
       "0               70           7             0.01            0.01         70.00   \n",
       "1               20          10             0.03            0.03         20.00   \n",
       "2               20          10             0.03            0.03         20.00   \n",
       "3               20          10             0.03            0.03         20.09   \n",
       "4               20          10             0.03            0.03         20.00   \n",
       "\n",
       "   calls_rev  internet_rev  total_rev   city  \n",
       "0       70.0          70.0      70.00  other  \n",
       "1       20.0          20.0      20.00  other  \n",
       "2       20.0          20.0      20.00  other  \n",
       "3       20.0          90.0      90.09  other  \n",
       "4       20.0          60.0      60.00  other  "
      ]
     },
     "execution_count": 40,
     "metadata": {},
     "output_type": "execute_result"
    }
   ],
   "source": [
    "final_pivot = final_pivot.merge(users[['user_id', 'city']], on = 'user_id', how = 'left')\n",
    "final_pivot.loc[final_pivot['city'] != \"New York-Newark-Jersey City, NY-NJ-PA MSA\", ['city']] = \"other\"\n",
    "final_pivot.loc[final_pivot['city'] == \"New York-Newark-Jersey City, NY-NJ-PA MSA\", ['city']] = \"ny_nj\"\n",
    "final_pivot.head()"
   ]
  },
  {
   "cell_type": "markdown",
   "metadata": {},
   "source": [
    "## Analyse the data"
   ]
  },
  {
   "cell_type": "markdown",
   "metadata": {},
   "source": [
    "### How are minutes, texts, and volume of data distributed? What is the average monthly cost? Are they the same for our categories? How are they different?"
   ]
  },
  {
   "cell_type": "code",
   "execution_count": 41,
   "metadata": {
    "scrolled": true
   },
   "outputs": [
    {
     "name": "stdout",
     "output_type": "stream",
     "text": [
      "Mean: 405.70606192760573\n",
      "Median: 401.0\n"
     ]
    },
    {
     "data": {
      "image/png": "[encoded data removed]",
      "text/plain": [
       "<Figure size 432x288 with 1 Axes>"
      ]
     },
     "metadata": {
      "needs_background": "light"
     },
     "output_type": "display_data"
    }
   ],
   "source": [
    "final_pivot.call_duration.hist()\n",
    "print(\"Mean:\", final_pivot.call_duration.mean())\n",
    "print(\"Median:\", final_pivot.call_duration.median())"
   ]
  },
  {
   "cell_type": "markdown",
   "metadata": {},
   "source": [
    "For calls duration mean is quite close to median - this is typical for normalised distribution."
   ]
  },
  {
   "cell_type": "code",
   "execution_count": 42,
   "metadata": {},
   "outputs": [
    {
     "name": "stdout",
     "output_type": "stream",
     "text": [
      "Mean: 33.166593981683384\n",
      "Median: 26.0\n"
     ]
    },
    {
     "data": {
      "image/png": "[encoded data removed]",
      "text/plain": [
       "<Figure size 432x288 with 1 Axes>"
      ]
     },
     "metadata": {
      "needs_background": "light"
     },
     "output_type": "display_data"
    }
   ],
   "source": [
    "final_pivot.messages_amount.hist()\n",
    "print(\"Mean:\", final_pivot.messages_amount.mean())\n",
    "print(\"Median:\", final_pivot.messages_amount.median())"
   ]
  },
  {
   "cell_type": "markdown",
   "metadata": {},
   "source": [
    "For messages the distribution is far from normal, meadian and mean are very different."
   ]
  },
  {
   "cell_type": "code",
   "execution_count": 43,
   "metadata": {},
   "outputs": [
    {
     "name": "stdout",
     "output_type": "stream",
     "text": [
      "16.870475359790667\n",
      "17.0\n"
     ]
    },
    {
     "data": {
      "image/png": "[encoded data removed]",
      "text/plain": [
       "<Figure size 432x288 with 1 Axes>"
      ]
     },
     "metadata": {
      "needs_background": "light"
     },
     "output_type": "display_data"
    }
   ],
   "source": [
    "final_pivot.gb_used.hist()\n",
    "print(final_pivot.gb_used.mean())\n",
    "print(final_pivot.gb_used.median())"
   ]
  },
  {
   "cell_type": "markdown",
   "metadata": {},
   "source": [
    "For internet usage the plot is very similar to normal distributon, the mean and median are almost the same."
   ]
  },
  {
   "cell_type": "code",
   "execution_count": 44,
   "metadata": {},
   "outputs": [
    {
     "data": {
      "image/png": "[encoded data removed]",
      "text/plain": [
       "<Figure size 432x288 with 2 Axes>"
      ]
     },
     "metadata": {
      "needs_background": "light"
     },
     "output_type": "display_data"
    }
   ],
   "source": [
    "final_pivot.call_duration.hist(by=final_pivot['plan_name'])\n",
    "plt.show()"
   ]
  },
  {
   "cell_type": "markdown",
   "metadata": {},
   "source": [
    "Distributions for different plans look similar with maximum in different points. "
   ]
  },
  {
   "cell_type": "code",
   "execution_count": 45,
   "metadata": {},
   "outputs": [
    {
     "data": {
      "image/png": "[encoded data removed]",
      "text/plain": [
       "<Figure size 432x288 with 2 Axes>"
      ]
     },
     "metadata": {
      "needs_background": "light"
     },
     "output_type": "display_data"
    }
   ],
   "source": [
    "final_pivot.messages_amount.hist(by=final_pivot['plan_name'])\n",
    "plt.show()"
   ]
  },
  {
   "cell_type": "markdown",
   "metadata": {},
   "source": [
    "Distribution of messages for ultimate plan is more similar to normal with a right screw. Very few clients of surf tends to send messages compared to ultimate clients."
   ]
  },
  {
   "cell_type": "code",
   "execution_count": 46,
   "metadata": {},
   "outputs": [
    {
     "data": {
      "image/png": "[encoded data removed]",
      "text/plain": [
       "<Figure size 432x288 with 2 Axes>"
      ]
     },
     "metadata": {
      "needs_background": "light"
     },
     "output_type": "display_data"
    }
   ],
   "source": [
    "final_pivot.gb_used.hist(by=final_pivot['plan_name'])\n",
    "plt.show()"
   ]
  },
  {
   "cell_type": "markdown",
   "metadata": {},
   "source": [
    "Ultimate distribution looks more smilar to normal again. Maximums for both plans are the same. "
   ]
  },
  {
   "cell_type": "code",
   "execution_count": 44,
   "metadata": {},
   "outputs": [
    {
     "data": {
      "text/html": [
       "<div>\n",
       "<style scoped>\n",
       "    .dataframe tbody tr th:only-of-type {\n",
       "        vertical-align: middle;\n",
       "    }\n",
       "\n",
       "    .dataframe tbody tr th {\n",
       "        vertical-align: top;\n",
       "    }\n",
       "\n",
       "    .dataframe thead th {\n",
       "        text-align: right;\n",
       "    }\n",
       "</style>\n",
       "<table border=\"1\" class=\"dataframe\">\n",
       "  <thead>\n",
       "    <tr style=\"text-align: right;\">\n",
       "      <th></th>\n",
       "      <th>plan_name</th>\n",
       "      <th>mean</th>\n",
       "      <th>median</th>\n",
       "    </tr>\n",
       "  </thead>\n",
       "  <tbody>\n",
       "    <tr>\n",
       "      <th>0</th>\n",
       "      <td>surf</td>\n",
       "      <td>405.250477</td>\n",
       "      <td>402.0</td>\n",
       "    </tr>\n",
       "    <tr>\n",
       "      <th>1</th>\n",
       "      <td>ultimate</td>\n",
       "      <td>406.708333</td>\n",
       "      <td>399.0</td>\n",
       "    </tr>\n",
       "  </tbody>\n",
       "</table>\n",
       "</div>"
      ],
      "text/plain": [
       "  plan_name        mean  median\n",
       "0      surf  405.250477   402.0\n",
       "1  ultimate  406.708333   399.0"
      ]
     },
     "execution_count": 44,
     "metadata": {},
     "output_type": "execute_result"
    }
   ],
   "source": [
    "final_pivot.groupby(['plan_name'])['call_duration'].agg(['mean','median']).reset_index()"
   ]
  },
  {
   "cell_type": "code",
   "execution_count": 45,
   "metadata": {
    "scrolled": true
   },
   "outputs": [
    {
     "data": {
      "text/html": [
       "<div>\n",
       "<style scoped>\n",
       "    .dataframe tbody tr th:only-of-type {\n",
       "        vertical-align: middle;\n",
       "    }\n",
       "\n",
       "    .dataframe tbody tr th {\n",
       "        vertical-align: top;\n",
       "    }\n",
       "\n",
       "    .dataframe thead th {\n",
       "        text-align: right;\n",
       "    }\n",
       "</style>\n",
       "<table border=\"1\" class=\"dataframe\">\n",
       "  <thead>\n",
       "    <tr style=\"text-align: right;\">\n",
       "      <th></th>\n",
       "      <th>plan_name</th>\n",
       "      <th>mean</th>\n",
       "      <th>median</th>\n",
       "    </tr>\n",
       "  </thead>\n",
       "  <tbody>\n",
       "    <tr>\n",
       "      <th>0</th>\n",
       "      <td>surf</td>\n",
       "      <td>31.159568</td>\n",
       "      <td>24.0</td>\n",
       "    </tr>\n",
       "    <tr>\n",
       "      <th>1</th>\n",
       "      <td>ultimate</td>\n",
       "      <td>37.551389</td>\n",
       "      <td>30.0</td>\n",
       "    </tr>\n",
       "  </tbody>\n",
       "</table>\n",
       "</div>"
      ],
      "text/plain": [
       "  plan_name       mean  median\n",
       "0      surf  31.159568    24.0\n",
       "1  ultimate  37.551389    30.0"
      ]
     },
     "execution_count": 45,
     "metadata": {},
     "output_type": "execute_result"
    }
   ],
   "source": [
    "final_pivot.groupby(['plan_name'])['messages_amount'].agg(['mean','median']).reset_index()"
   ]
  },
  {
   "cell_type": "code",
   "execution_count": 46,
   "metadata": {},
   "outputs": [
    {
     "data": {
      "text/html": [
       "<div>\n",
       "<style scoped>\n",
       "    .dataframe tbody tr th:only-of-type {\n",
       "        vertical-align: middle;\n",
       "    }\n",
       "\n",
       "    .dataframe tbody tr th {\n",
       "        vertical-align: top;\n",
       "    }\n",
       "\n",
       "    .dataframe thead th {\n",
       "        text-align: right;\n",
       "    }\n",
       "</style>\n",
       "<table border=\"1\" class=\"dataframe\">\n",
       "  <thead>\n",
       "    <tr style=\"text-align: right;\">\n",
       "      <th></th>\n",
       "      <th>plan_name</th>\n",
       "      <th>mean</th>\n",
       "      <th>median</th>\n",
       "    </tr>\n",
       "  </thead>\n",
       "  <tbody>\n",
       "    <tr>\n",
       "      <th>0</th>\n",
       "      <td>surf</td>\n",
       "      <td>16.670693</td>\n",
       "      <td>17.0</td>\n",
       "    </tr>\n",
       "    <tr>\n",
       "      <th>1</th>\n",
       "      <td>ultimate</td>\n",
       "      <td>17.306944</td>\n",
       "      <td>17.0</td>\n",
       "    </tr>\n",
       "  </tbody>\n",
       "</table>\n",
       "</div>"
      ],
      "text/plain": [
       "  plan_name       mean  median\n",
       "0      surf  16.670693    17.0\n",
       "1  ultimate  17.306944    17.0"
      ]
     },
     "execution_count": 46,
     "metadata": {},
     "output_type": "execute_result"
    }
   ],
   "source": [
    "final_pivot.groupby(['plan_name'])['gb_used'].agg(['mean','median']).reset_index()"
   ]
  },
  {
   "cell_type": "code",
   "execution_count": 47,
   "metadata": {},
   "outputs": [],
   "source": [
    "def trafic_stat(type):\n",
    "    fig, ax = plt.subplots(figsize=(8,7))\n",
    "    ax = sns.histplot(final_pivot, x=type, hue=\"plan_name\")\n",
    "    mean=final_pivot[type].mean()\n",
    "    std=final_pivot[type].std()\n",
    "    var=final_pivot[type].var()\n",
    "    cv=std/mean\n",
    "    plt.show()\n",
    "    print(\"Average is\",mean)\n",
    "    print(final_pivot.groupby(['plan_name'])[type].mean())\n",
    "    if cv>1:\n",
    "        print(\"Varies a lot\")\n",
    "    else:\n",
    "        print('Centered around average')"
   ]
  },
  {
   "cell_type": "code",
   "execution_count": 48,
   "metadata": {},
   "outputs": [
    {
     "data": {
      "image/png": "[encoded data removed]",
      "text/plain": [
       "<Figure size 576x504 with 1 Axes>"
      ]
     },
     "metadata": {
      "needs_background": "light"
     },
     "output_type": "display_data"
    },
    {
     "name": "stdout",
     "output_type": "stream",
     "text": [
      "Average is 405.70824247710425\n",
      "plan_name\n",
      "surf        405.250477\n",
      "ultimate    406.708333\n",
      "Name: call_duration, dtype: float64\n",
      "Centered around average\n"
     ]
    }
   ],
   "source": [
    "trafic_stat('call_duration')"
   ]
  },
  {
   "cell_type": "code",
   "execution_count": 49,
   "metadata": {},
   "outputs": [
    {
     "data": {
      "image/png": "[encoded data removed]",
      "text/plain": [
       "<Figure size 576x504 with 1 Axes>"
      ]
     },
     "metadata": {
      "needs_background": "light"
     },
     "output_type": "display_data"
    },
    {
     "name": "stdout",
     "output_type": "stream",
     "text": [
      "Average is 33.166593981683384\n",
      "plan_name\n",
      "surf        31.159568\n",
      "ultimate    37.551389\n",
      "Name: messages_amount, dtype: float64\n",
      "Varies a lot\n"
     ]
    }
   ],
   "source": [
    "trafic_stat('messages_amount')"
   ]
  },
  {
   "cell_type": "code",
   "execution_count": 50,
   "metadata": {},
   "outputs": [
    {
     "data": {
      "image/png": "[encoded data removed]",
      "text/plain": [
       "<Figure size 576x504 with 1 Axes>"
      ]
     },
     "metadata": {
      "needs_background": "light"
     },
     "output_type": "display_data"
    },
    {
     "name": "stdout",
     "output_type": "stream",
     "text": [
      "Average is 16.870475359790667\n",
      "plan_name\n",
      "surf        16.670693\n",
      "ultimate    17.306944\n",
      "Name: gb_used, dtype: float64\n",
      "Centered around average\n"
     ]
    }
   ],
   "source": [
    "trafic_stat('gb_used')"
   ]
  },
  {
   "cell_type": "markdown",
   "metadata": {},
   "source": [
    "## Test the hypotheses"
   ]
  },
  {
   "cell_type": "markdown",
   "metadata": {},
   "source": [
    "Let's test the hypotheses that the average revenue from users of Ultimate and Surf calling plans are the same.\n",
    "\n",
    "We'll take two samples of data (for two plans) and compare average revenue for them.\n",
    "\n",
    "H0: average of sample 1 is equal to average of sample 2\n",
    "\n",
    "H1: average of sample 1 is not equal to average of sample 2"
   ]
  },
  {
   "cell_type": "code",
   "execution_count": 51,
   "metadata": {},
   "outputs": [
    {
     "data": {
      "image/png": "[encoded data removed]",
      "text/plain": [
       "<Figure size 576x504 with 1 Axes>"
      ]
     },
     "metadata": {
      "needs_background": "light"
     },
     "output_type": "display_data"
    }
   ],
   "source": [
    "fig, ax = plt.subplots(figsize=(8,7))\n",
    "ax = sns.histplot(final_pivot, x=\"total_rev\", hue=\"plan_name\")"
   ]
  },
  {
   "cell_type": "code",
   "execution_count": 52,
   "metadata": {},
   "outputs": [
    {
     "data": {
      "text/plain": [
       "plan_name\n",
       "surf        40.15\n",
       "ultimate    70.00\n",
       "Name: total_rev, dtype: float64"
      ]
     },
     "execution_count": 52,
     "metadata": {},
     "output_type": "execute_result"
    }
   ],
   "source": [
    "final_pivot.groupby(['plan_name'])['total_rev'].median()"
   ]
  },
  {
   "cell_type": "code",
   "execution_count": 53,
   "metadata": {},
   "outputs": [],
   "source": [
    "surf=final_pivot.query('plan_name==\"surf\"')\n",
    "ultimate=final_pivot.query('plan_name==\"ultimate\"')"
   ]
  },
  {
   "cell_type": "code",
   "execution_count": 54,
   "metadata": {},
   "outputs": [],
   "source": [
    "sample1=surf['total_rev']\n",
    "sample2=ultimate['total_rev']"
   ]
  },
  {
   "cell_type": "code",
   "execution_count": 55,
   "metadata": {},
   "outputs": [
    {
     "data": {
      "text/plain": [
       "1        20.00\n",
       "2        20.00\n",
       "3        90.09\n",
       "4        60.00\n",
       "5        60.00\n",
       "         ...  \n",
       "2282    180.18\n",
       "2286     20.78\n",
       "2287     40.66\n",
       "2288     20.33\n",
       "2289     20.00\n",
       "Name: total_rev, Length: 1573, dtype: float64"
      ]
     },
     "execution_count": 55,
     "metadata": {},
     "output_type": "execute_result"
    }
   ],
   "source": [
    "sample1"
   ]
  },
  {
   "cell_type": "code",
   "execution_count": 56,
   "metadata": {},
   "outputs": [
    {
     "name": "stdout",
     "output_type": "stream",
     "text": [
      "1573\n",
      "720\n"
     ]
    }
   ],
   "source": [
    "print(len(sample1))\n",
    "print(len(sample2))"
   ]
  },
  {
   "cell_type": "code",
   "execution_count": 57,
   "metadata": {},
   "outputs": [
    {
     "data": {
      "text/plain": [
       "1202     20.00\n",
       "951      20.00\n",
       "1409     90.96\n",
       "543     100.00\n",
       "1247    260.00\n",
       "         ...  \n",
       "1156     81.74\n",
       "1148    100.00\n",
       "2216     20.00\n",
       "958      20.00\n",
       "961     160.00\n",
       "Name: total_rev, Length: 700, dtype: float64"
      ]
     },
     "execution_count": 57,
     "metadata": {},
     "output_type": "execute_result"
    }
   ],
   "source": [
    "sample1.sample(700)"
   ]
  },
  {
   "cell_type": "code",
   "execution_count": 58,
   "metadata": {},
   "outputs": [
    {
     "data": {
      "text/plain": [
       "Ttest_indResult(statistic=-5.7612805434369205, pvalue=9.470478215100237e-09)"
      ]
     },
     "execution_count": 58,
     "metadata": {},
     "output_type": "execute_result"
    }
   ],
   "source": [
    "from scipy import stats\n",
    "stats.ttest_ind(sample1, sample2)"
   ]
  },
  {
   "cell_type": "code",
   "execution_count": 59,
   "metadata": {},
   "outputs": [],
   "source": [
    "# We will set level of critical statistical significance alpha equal to common level of 5%\n",
    "alpha=0.05\n",
    "def t_test(sample1,sample2,alpha=0.05):\n",
    "    p_value=stats.ttest_ind(sample1, sample2).pvalue.astype(int)\n",
    "    if p_value<alpha:\n",
    "        print('Reject H0: average of sample 1 is not equal to average  sample 2')\n",
    "    else:\n",
    "        print( \"Fail to Reject H0: We don't have enough evidence to say that averages of sample 1 \\\n",
    "  and sample 2 are not the same\") "
   ]
  },
  {
   "cell_type": "code",
   "execution_count": 60,
   "metadata": {},
   "outputs": [
    {
     "name": "stdout",
     "output_type": "stream",
     "text": [
      "Reject H0: average of sample 1 is not equal to average  sample 2\n"
     ]
    }
   ],
   "source": [
    "t_test(surf['total_rev'],ultimate['total_rev'],alpha=0.05)"
   ]
  },
  {
   "cell_type": "markdown",
   "metadata": {},
   "source": [
    "**Conclusion**: average revenues from users of Ultimate and Surf calling plans are different."
   ]
  },
  {
   "cell_type": "markdown",
   "metadata": {},
   "source": [
    "Next hypotheses we are going to test is that the average revenue from users in NY-NJ area is the same as for the users from other regions.\n",
    "\n",
    "We'll take two samples of data (for two plans) and compare average revenue for them.\n",
    "\n",
    "H0: average of sample 1 is equal to average of sample 2\n",
    "\n",
    "H1: average of sample 1 is not equal to average of sample 2"
   ]
  },
  {
   "cell_type": "code",
   "execution_count": 61,
   "metadata": {},
   "outputs": [
    {
     "data": {
      "image/png": "[encoded data removed]",
      "text/plain": [
       "<Figure size 576x504 with 1 Axes>"
      ]
     },
     "metadata": {
      "needs_background": "light"
     },
     "output_type": "display_data"
    }
   ],
   "source": [
    "fig, ax = plt.subplots(figsize=(8,7))\n",
    "ax = sns.histplot(final_pivot, x=\"total_rev\", hue=\"city\")"
   ]
  },
  {
   "cell_type": "code",
   "execution_count": 62,
   "metadata": {},
   "outputs": [
    {
     "data": {
      "text/plain": [
       "city\n",
       "ny_nj    51.08\n",
       "other    70.00\n",
       "Name: total_rev, dtype: float64"
      ]
     },
     "execution_count": 62,
     "metadata": {},
     "output_type": "execute_result"
    }
   ],
   "source": [
    "final_pivot.groupby(['city'])['total_rev'].median()"
   ]
  },
  {
   "cell_type": "code",
   "execution_count": 63,
   "metadata": {},
   "outputs": [],
   "source": [
    "ny_nj=final_pivot.query('city==\"ny_nj\"')\n",
    "other=final_pivot.query('city==\"other\"')"
   ]
  },
  {
   "cell_type": "code",
   "execution_count": 64,
   "metadata": {},
   "outputs": [],
   "source": [
    "sample1=ny_nj['total_rev']\n",
    "sample2=other['total_rev']"
   ]
  },
  {
   "cell_type": "code",
   "execution_count": 65,
   "metadata": {},
   "outputs": [
    {
     "data": {
      "text/plain": [
       "56       20.00\n",
       "57       36.95\n",
       "75       20.00\n",
       "76      100.00\n",
       "77       20.00\n",
       "         ...  \n",
       "2260    120.42\n",
       "2261    170.27\n",
       "2262    200.00\n",
       "2263    110.33\n",
       "2290     70.00\n",
       "Name: total_rev, Length: 377, dtype: float64"
      ]
     },
     "execution_count": 65,
     "metadata": {},
     "output_type": "execute_result"
    }
   ],
   "source": [
    "sample1"
   ]
  },
  {
   "cell_type": "code",
   "execution_count": 66,
   "metadata": {},
   "outputs": [
    {
     "name": "stdout",
     "output_type": "stream",
     "text": [
      "377\n",
      "1916\n"
     ]
    }
   ],
   "source": [
    "print(len(sample1))\n",
    "print(len(sample2))"
   ]
  },
  {
   "cell_type": "code",
   "execution_count": 67,
   "metadata": {},
   "outputs": [
    {
     "data": {
      "text/plain": [
       "30      68.28\n",
       "2144    40.00\n",
       "402     91.64\n",
       "873     70.00\n",
       "254     70.00\n",
       "        ...  \n",
       "1608    20.00\n",
       "388     50.00\n",
       "1605    80.00\n",
       "2175    20.00\n",
       "716     70.00\n",
       "Name: total_rev, Length: 377, dtype: float64"
      ]
     },
     "execution_count": 67,
     "metadata": {},
     "output_type": "execute_result"
    }
   ],
   "source": [
    "sample2.sample(377)"
   ]
  },
  {
   "cell_type": "code",
   "execution_count": 68,
   "metadata": {},
   "outputs": [
    {
     "data": {
      "text/plain": [
       "Ttest_indResult(statistic=-2.0470417570370367, pvalue=0.04076784279879048)"
      ]
     },
     "execution_count": 68,
     "metadata": {},
     "output_type": "execute_result"
    }
   ],
   "source": [
    "stats.ttest_ind(sample1, sample2)"
   ]
  },
  {
   "cell_type": "code",
   "execution_count": 69,
   "metadata": {},
   "outputs": [],
   "source": [
    "# We will set level of critical statistical significance alpha equal to common level of 5%\n",
    "alpha=0.05\n",
    "def t_test(sample1,sample2,alpha=0.05):\n",
    "    p_value=stats.ttest_ind(sample1, sample2).pvalue.astype(int)\n",
    "    if p_value<alpha:\n",
    "        print('Reject H0: average of sample 1 is not equal to average of sample 2')\n",
    "    else:\n",
    "        print( \"Fail to Reject H0: We don't have enough evidence to say that averages of sample 1 \\\n",
    "  and sample 2 are not the same\") "
   ]
  },
  {
   "cell_type": "code",
   "execution_count": 70,
   "metadata": {},
   "outputs": [
    {
     "name": "stdout",
     "output_type": "stream",
     "text": [
      "Reject H0: average of sample 1 is not equal to average of sample 2\n"
     ]
    }
   ],
   "source": [
    "t_test(ny_nj['total_rev'],other['total_rev'],alpha=0.05)"
   ]
  },
  {
   "cell_type": "markdown",
   "metadata": {},
   "source": [
    "**Conclusion**: average revenues from users in NY-NJ area and for the users from other regions are different."
   ]
  },
  {
   "cell_type": "markdown",
   "metadata": {},
   "source": [
    "## Write an overall conclusion"
   ]
  },
  {
   "cell_type": "markdown",
   "metadata": {},
   "source": [
    "We have addressed all possible issues identified in the data received: missing values, duplicates, data types.\n",
    "\n",
    "Some missing data was identified - we considered corresponding column not relevant for our analysis so didn't fill this data in. \n",
    "\n",
    "For data with wrong data types we have changed them (from 'object' to 'date').\n",
    "\n",
    "We have checked data for duplicates and dind't found any.\n",
    "\n",
    "We have transformed initial datasets in order to calculate the monthly revenue for users of both tariff plans (merge several columns in one dataset and add a column with total monthly revenue calculated).\n",
    "\n",
    "We have prepared hystograms for the dataset as a whole as well as for different tariff plans. The minutes, texts, and volume of data the users of each plan require per month were calculated. Then we have calculated mean, variance, and standard deviation in order to compare them for both tariff plans.\n",
    "\n",
    "While testing call duration, amount of messages and gb used we identified that actually clients of different tariff plans uses very similar amount of minutes, messages and internet.\n",
    "\n",
    "Hystograms describing average revenue from different tariffs and different cities show that there is a big difference between average revenue for tariff plans and for the cities compared.\n",
    "\n",
    "Using t-test we have checked the hypotheses that average revenue from users of Ultimate and Surf calling plans are not the same (median for ultimate plan is almost twice bigger). \n",
    "We can conclude that ultimate plan is more profitable.\n",
    "\n",
    "The second hypotheses we have checked is that the average revenue from users in NY-NJ area is the same as for the users from other regions. The result as that we reject this hypotheses - it means that NY-NJ is not so profitable as others.\n"
   ]
  }
 ],
 "metadata": {
  "ExecuteTimeLog": [
   {
    "duration": 1735,
    "start_time": "2022-08-21T11:36:03.608Z"
   },
   {
    "duration": 449,
    "start_time": "2022-08-21T11:37:17.237Z"
   },
   {
    "duration": 23,
    "start_time": "2022-08-21T15:07:01.488Z"
   },
   {
    "duration": 13,
    "start_time": "2022-08-21T15:07:43.789Z"
   },
   {
    "duration": 15,
    "start_time": "2022-08-21T15:08:36.437Z"
   },
   {
    "duration": 7,
    "start_time": "2022-08-21T15:09:31.196Z"
   },
   {
    "duration": 15,
    "start_time": "2022-08-22T08:04:44.356Z"
   },
   {
    "duration": 12,
    "start_time": "2022-08-22T08:04:59.062Z"
   },
   {
    "duration": 7,
    "start_time": "2022-08-22T08:10:21.189Z"
   },
   {
    "duration": 338,
    "start_time": "2022-08-22T08:10:28.810Z"
   },
   {
    "duration": 10,
    "start_time": "2022-08-22T08:10:32.811Z"
   },
   {
    "duration": 10,
    "start_time": "2022-08-22T08:10:34.517Z"
   },
   {
    "duration": 18,
    "start_time": "2022-08-22T08:10:36.805Z"
   },
   {
    "duration": 8,
    "start_time": "2022-08-22T08:10:38.534Z"
   },
   {
    "duration": 14,
    "start_time": "2022-08-22T08:10:40.470Z"
   },
   {
    "duration": 7,
    "start_time": "2022-08-22T08:10:42.534Z"
   },
   {
    "duration": 10,
    "start_time": "2022-08-22T08:10:44.563Z"
   },
   {
    "duration": 17,
    "start_time": "2022-08-22T08:11:02.270Z"
   },
   {
    "duration": 8,
    "start_time": "2022-08-22T08:11:24.271Z"
   },
   {
    "duration": 11,
    "start_time": "2022-08-22T08:11:45.151Z"
   },
   {
    "duration": 8,
    "start_time": "2022-08-22T08:11:52.296Z"
   },
   {
    "duration": 90,
    "start_time": "2022-08-22T09:45:37.021Z"
   },
   {
    "duration": 12,
    "start_time": "2022-08-22T09:45:44.789Z"
   },
   {
    "duration": 32,
    "start_time": "2022-08-22T09:46:42.043Z"
   },
   {
    "duration": 9,
    "start_time": "2022-08-22T09:46:53.722Z"
   },
   {
    "duration": 21,
    "start_time": "2022-08-22T09:47:36.144Z"
   },
   {
    "duration": 27,
    "start_time": "2022-08-22T09:48:49.756Z"
   },
   {
    "duration": 97,
    "start_time": "2022-08-22T10:21:17.889Z"
   },
   {
    "duration": 6,
    "start_time": "2022-08-22T10:21:46.894Z"
   },
   {
    "duration": 8,
    "start_time": "2022-08-22T10:21:56.164Z"
   },
   {
    "duration": 50,
    "start_time": "2022-08-22T10:22:32.804Z"
   },
   {
    "duration": 865,
    "start_time": "2022-08-22T11:25:20.200Z"
   },
   {
    "duration": 43,
    "start_time": "2022-08-22T11:25:37.730Z"
   },
   {
    "duration": 9,
    "start_time": "2022-08-22T11:42:24.451Z"
   },
   {
    "duration": 9,
    "start_time": "2022-08-22T11:42:42.948Z"
   },
   {
    "duration": 8,
    "start_time": "2022-08-22T11:42:55.509Z"
   },
   {
    "duration": 31,
    "start_time": "2022-08-22T11:43:13.187Z"
   },
   {
    "duration": 8,
    "start_time": "2022-08-22T11:43:23.572Z"
   },
   {
    "duration": 8,
    "start_time": "2022-08-22T11:55:36.861Z"
   },
   {
    "duration": 9,
    "start_time": "2022-08-22T11:55:54.645Z"
   },
   {
    "duration": 10,
    "start_time": "2022-08-22T11:57:07.454Z"
   },
   {
    "duration": 15,
    "start_time": "2022-08-22T11:57:22.861Z"
   },
   {
    "duration": 9,
    "start_time": "2022-08-22T11:57:42.066Z"
   },
   {
    "duration": 61,
    "start_time": "2022-08-22T11:58:38.908Z"
   },
   {
    "duration": 49,
    "start_time": "2022-08-22T11:59:14.685Z"
   },
   {
    "duration": 9,
    "start_time": "2022-08-22T11:59:30.176Z"
   },
   {
    "duration": 10,
    "start_time": "2022-08-22T11:59:45.209Z"
   },
   {
    "duration": 19,
    "start_time": "2022-08-22T12:04:09.351Z"
   },
   {
    "duration": 26,
    "start_time": "2022-08-22T12:07:57.165Z"
   },
   {
    "duration": 28,
    "start_time": "2022-08-22T12:11:25.939Z"
   },
   {
    "duration": 48,
    "start_time": "2022-08-22T12:11:32.784Z"
   },
   {
    "duration": 51,
    "start_time": "2022-08-22T12:11:50.571Z"
   },
   {
    "duration": 42,
    "start_time": "2022-08-22T12:12:01.785Z"
   },
   {
    "duration": 35,
    "start_time": "2022-08-22T12:13:27.299Z"
   },
   {
    "duration": 35,
    "start_time": "2022-08-22T12:13:30.331Z"
   },
   {
    "duration": 34,
    "start_time": "2022-08-22T12:13:39.528Z"
   },
   {
    "duration": 10,
    "start_time": "2022-08-22T12:21:51.075Z"
   },
   {
    "duration": 13,
    "start_time": "2022-08-22T12:22:10.326Z"
   },
   {
    "duration": 17,
    "start_time": "2022-08-22T12:23:23.745Z"
   },
   {
    "duration": 8,
    "start_time": "2022-08-22T12:23:44.912Z"
   },
   {
    "duration": 4,
    "start_time": "2022-08-22T12:24:07.037Z"
   },
   {
    "duration": 4,
    "start_time": "2022-08-22T12:24:14.001Z"
   },
   {
    "duration": 3,
    "start_time": "2022-08-22T12:24:17.003Z"
   },
   {
    "duration": 143,
    "start_time": "2022-08-22T12:24:42.720Z"
   },
   {
    "duration": 164,
    "start_time": "2022-08-22T12:24:50.086Z"
   },
   {
    "duration": 12,
    "start_time": "2022-08-22T12:26:29.129Z"
   },
   {
    "duration": 18,
    "start_time": "2022-08-22T12:26:44.252Z"
   },
   {
    "duration": 154,
    "start_time": "2022-08-22T12:26:50.036Z"
   },
   {
    "duration": 9,
    "start_time": "2022-08-22T12:40:53.738Z"
   },
   {
    "duration": 6,
    "start_time": "2022-08-22T12:40:58.820Z"
   },
   {
    "duration": 9,
    "start_time": "2022-08-22T12:41:08.911Z"
   },
   {
    "duration": 18,
    "start_time": "2022-08-22T12:47:50.080Z"
   },
   {
    "duration": 113,
    "start_time": "2022-08-22T12:48:06.678Z"
   },
   {
    "duration": 28,
    "start_time": "2022-08-22T12:55:57.770Z"
   },
   {
    "duration": 24,
    "start_time": "2022-08-22T13:05:17.353Z"
   },
   {
    "duration": 43,
    "start_time": "2022-08-22T13:07:17.164Z"
   },
   {
    "duration": 43,
    "start_time": "2022-08-22T13:26:33.001Z"
   },
   {
    "duration": 41,
    "start_time": "2022-08-22T13:29:10.657Z"
   },
   {
    "duration": 26,
    "start_time": "2022-08-22T13:32:28.217Z"
   },
   {
    "duration": 24,
    "start_time": "2022-08-22T13:34:01.102Z"
   },
   {
    "duration": 24,
    "start_time": "2022-08-22T13:34:17.835Z"
   },
   {
    "duration": 21,
    "start_time": "2022-08-22T13:35:14.359Z"
   },
   {
    "duration": 34,
    "start_time": "2022-08-22T13:41:11.223Z"
   },
   {
    "duration": 24,
    "start_time": "2022-08-22T13:42:17.966Z"
   },
   {
    "duration": 14,
    "start_time": "2022-08-22T15:36:29.440Z"
   },
   {
    "duration": 10,
    "start_time": "2022-08-22T15:39:58.160Z"
   },
   {
    "duration": 19,
    "start_time": "2022-08-22T15:40:03.589Z"
   },
   {
    "duration": 14,
    "start_time": "2022-08-22T15:40:33.859Z"
   },
   {
    "duration": 20,
    "start_time": "2022-08-22T15:40:54.898Z"
   },
   {
    "duration": 16,
    "start_time": "2022-08-22T15:51:10.193Z"
   },
   {
    "duration": 17,
    "start_time": "2022-08-23T09:07:52.101Z"
   },
   {
    "duration": 19,
    "start_time": "2022-08-23T09:10:24.074Z"
   },
   {
    "duration": 9,
    "start_time": "2022-08-23T09:28:13.502Z"
   },
   {
    "duration": 8,
    "start_time": "2022-08-23T09:28:22.578Z"
   },
   {
    "duration": 23,
    "start_time": "2022-08-23T09:28:29.110Z"
   },
   {
    "duration": 21,
    "start_time": "2022-08-23T09:28:42.424Z"
   },
   {
    "duration": 21,
    "start_time": "2022-08-23T09:36:01.016Z"
   },
   {
    "duration": 24,
    "start_time": "2022-08-23T09:37:19.441Z"
   },
   {
    "duration": 34,
    "start_time": "2022-08-23T09:37:30.489Z"
   },
   {
    "duration": 32,
    "start_time": "2022-08-23T09:37:42.165Z"
   },
   {
    "duration": 35,
    "start_time": "2022-08-23T09:37:54.640Z"
   },
   {
    "duration": 40,
    "start_time": "2022-08-23T09:40:50.334Z"
   },
   {
    "duration": 31,
    "start_time": "2022-08-23T09:41:55.578Z"
   },
   {
    "duration": 37,
    "start_time": "2022-08-23T09:42:07.262Z"
   },
   {
    "duration": 206,
    "start_time": "2022-08-23T09:46:06.071Z"
   },
   {
    "duration": 1592,
    "start_time": "2022-08-23T09:46:12.455Z"
   },
   {
    "duration": 696,
    "start_time": "2022-08-23T09:46:34.063Z"
   },
   {
    "duration": 614,
    "start_time": "2022-08-23T09:47:14.083Z"
   },
   {
    "duration": 1371,
    "start_time": "2022-08-23T09:47:20.252Z"
   },
   {
    "duration": 356,
    "start_time": "2022-08-23T09:50:17.181Z"
   },
   {
    "duration": 292,
    "start_time": "2022-08-23T09:50:25.057Z"
   },
   {
    "duration": 236,
    "start_time": "2022-08-23T09:50:44.009Z"
   },
   {
    "duration": 16,
    "start_time": "2022-08-23T09:51:38.016Z"
   },
   {
    "duration": 769,
    "start_time": "2022-08-23T09:51:52.759Z"
   },
   {
    "duration": 13,
    "start_time": "2022-08-23T09:52:07.284Z"
   },
   {
    "duration": 4,
    "start_time": "2022-08-23T09:53:35.551Z"
   },
   {
    "duration": 9,
    "start_time": "2022-08-23T09:53:52.728Z"
   },
   {
    "duration": 15,
    "start_time": "2022-08-23T09:54:51.555Z"
   },
   {
    "duration": 39,
    "start_time": "2022-08-23T09:55:03.288Z"
   },
   {
    "duration": 34,
    "start_time": "2022-08-23T09:57:38.056Z"
   },
   {
    "duration": 3,
    "start_time": "2022-08-23T09:57:42.847Z"
   },
   {
    "duration": 49,
    "start_time": "2022-08-23T09:57:45.649Z"
   },
   {
    "duration": 40,
    "start_time": "2022-08-23T10:02:07.122Z"
   },
   {
    "duration": 35,
    "start_time": "2022-08-23T10:03:09.647Z"
   },
   {
    "duration": 35,
    "start_time": "2022-08-23T10:03:31.908Z"
   },
   {
    "duration": 40,
    "start_time": "2022-08-23T10:03:46.820Z"
   },
   {
    "duration": 33,
    "start_time": "2022-08-23T10:04:51.493Z"
   },
   {
    "duration": 28,
    "start_time": "2022-08-23T10:05:34.211Z"
   },
   {
    "duration": 33,
    "start_time": "2022-08-23T10:05:41.791Z"
   },
   {
    "duration": 33,
    "start_time": "2022-08-23T10:10:41.470Z"
   },
   {
    "duration": 33,
    "start_time": "2022-08-23T10:11:21.165Z"
   },
   {
    "duration": 34,
    "start_time": "2022-08-23T10:11:55.018Z"
   },
   {
    "duration": 40,
    "start_time": "2022-08-23T10:13:42.673Z"
   },
   {
    "duration": 35,
    "start_time": "2022-08-23T10:20:58.690Z"
   },
   {
    "duration": 9,
    "start_time": "2022-08-23T10:21:27.153Z"
   },
   {
    "duration": 44,
    "start_time": "2022-08-23T10:21:33.701Z"
   },
   {
    "duration": 36,
    "start_time": "2022-08-23T10:21:41.310Z"
   },
   {
    "duration": 15,
    "start_time": "2022-08-23T10:43:04.570Z"
   },
   {
    "duration": 25,
    "start_time": "2022-08-23T10:43:50.585Z"
   },
   {
    "duration": 16,
    "start_time": "2022-08-23T10:44:21.639Z"
   },
   {
    "duration": 37,
    "start_time": "2022-08-23T10:44:32.545Z"
   },
   {
    "duration": 39,
    "start_time": "2022-08-23T10:46:00.535Z"
   },
   {
    "duration": 13,
    "start_time": "2022-08-23T10:58:50.390Z"
   },
   {
    "duration": 8,
    "start_time": "2022-08-23T10:59:19.388Z"
   },
   {
    "duration": 37,
    "start_time": "2022-08-23T10:59:39.858Z"
   },
   {
    "duration": 45,
    "start_time": "2022-08-23T11:00:04.855Z"
   },
   {
    "duration": 41,
    "start_time": "2022-08-23T11:00:12.530Z"
   },
   {
    "duration": 9,
    "start_time": "2022-08-23T11:11:55.865Z"
   },
   {
    "duration": 308,
    "start_time": "2022-08-23T11:12:26.642Z"
   },
   {
    "duration": 46,
    "start_time": "2022-08-23T11:12:52.776Z"
   },
   {
    "duration": 8,
    "start_time": "2022-08-23T11:13:25.508Z"
   },
   {
    "duration": 1979,
    "start_time": "2022-08-23T11:13:38.666Z"
   },
   {
    "duration": 12,
    "start_time": "2022-08-23T11:13:41.554Z"
   },
   {
    "duration": 19,
    "start_time": "2022-08-23T11:13:44.139Z"
   },
   {
    "duration": 48,
    "start_time": "2022-08-23T11:14:04.968Z"
   },
   {
    "duration": 2053,
    "start_time": "2022-08-23T11:14:10.044Z"
   },
   {
    "duration": 19,
    "start_time": "2022-08-23T11:14:17.157Z"
   },
   {
    "duration": 48,
    "start_time": "2022-08-23T11:14:31.879Z"
   },
   {
    "duration": 1851,
    "start_time": "2022-08-23T11:14:36.663Z"
   },
   {
    "duration": 38,
    "start_time": "2022-08-23T11:14:43.645Z"
   },
   {
    "duration": 46,
    "start_time": "2022-08-23T11:15:20.905Z"
   },
   {
    "duration": 1877,
    "start_time": "2022-08-23T11:15:25.970Z"
   },
   {
    "duration": 77,
    "start_time": "2022-08-23T11:15:30.860Z"
   },
   {
    "duration": 12,
    "start_time": "2022-08-23T11:15:41.256Z"
   },
   {
    "duration": 15,
    "start_time": "2022-08-23T11:15:42.947Z"
   },
   {
    "duration": 19,
    "start_time": "2022-08-23T11:15:44.922Z"
   },
   {
    "duration": 9,
    "start_time": "2022-08-23T11:15:46.675Z"
   },
   {
    "duration": 14,
    "start_time": "2022-08-23T11:15:49.064Z"
   },
   {
    "duration": 16,
    "start_time": "2022-08-23T11:15:51.111Z"
   },
   {
    "duration": 9,
    "start_time": "2022-08-23T11:15:53.177Z"
   },
   {
    "duration": 15,
    "start_time": "2022-08-23T11:15:54.963Z"
   },
   {
    "duration": 13,
    "start_time": "2022-08-23T11:15:57.722Z"
   },
   {
    "duration": 34,
    "start_time": "2022-08-23T11:15:59.937Z"
   },
   {
    "duration": 23,
    "start_time": "2022-08-23T11:16:02.063Z"
   },
   {
    "duration": 25,
    "start_time": "2022-08-23T11:16:03.925Z"
   },
   {
    "duration": 104,
    "start_time": "2022-08-23T11:16:06.170Z"
   },
   {
    "duration": 35,
    "start_time": "2022-08-23T11:16:08.123Z"
   },
   {
    "duration": 47,
    "start_time": "2022-08-23T11:16:10.110Z"
   },
   {
    "duration": 26,
    "start_time": "2022-08-23T11:16:12.158Z"
   },
   {
    "duration": 29,
    "start_time": "2022-08-23T11:16:15.288Z"
   },
   {
    "duration": 28,
    "start_time": "2022-08-23T11:16:17.326Z"
   },
   {
    "duration": 24,
    "start_time": "2022-08-23T11:16:19.338Z"
   },
   {
    "duration": 18,
    "start_time": "2022-08-23T11:16:21.569Z"
   },
   {
    "duration": 20,
    "start_time": "2022-08-23T11:17:10.138Z"
   },
   {
    "duration": 22,
    "start_time": "2022-08-23T11:17:19.675Z"
   },
   {
    "duration": 47,
    "start_time": "2022-08-23T11:18:18.736Z"
   },
   {
    "duration": 6,
    "start_time": "2022-08-23T11:18:34.898Z"
   },
   {
    "duration": 1847,
    "start_time": "2022-08-23T11:18:39.210Z"
   },
   {
    "duration": 56,
    "start_time": "2022-08-23T11:18:42.941Z"
   },
   {
    "duration": 12,
    "start_time": "2022-08-23T11:18:48.738Z"
   },
   {
    "duration": 14,
    "start_time": "2022-08-23T11:18:50.572Z"
   },
   {
    "duration": 18,
    "start_time": "2022-08-23T11:18:52.680Z"
   },
   {
    "duration": 9,
    "start_time": "2022-08-23T11:18:54.811Z"
   },
   {
    "duration": 15,
    "start_time": "2022-08-23T11:18:56.941Z"
   },
   {
    "duration": 8,
    "start_time": "2022-08-23T11:18:58.450Z"
   },
   {
    "duration": 26,
    "start_time": "2022-08-23T11:19:00.274Z"
   },
   {
    "duration": 13,
    "start_time": "2022-08-23T11:19:02.979Z"
   },
   {
    "duration": 10,
    "start_time": "2022-08-23T11:19:04.634Z"
   },
   {
    "duration": 9,
    "start_time": "2022-08-23T11:19:06.566Z"
   },
   {
    "duration": 12,
    "start_time": "2022-08-23T11:19:08.689Z"
   },
   {
    "duration": 33,
    "start_time": "2022-08-23T11:19:10.689Z"
   },
   {
    "duration": 21,
    "start_time": "2022-08-23T11:19:12.406Z"
   },
   {
    "duration": 26,
    "start_time": "2022-08-23T11:19:14.159Z"
   },
   {
    "duration": 87,
    "start_time": "2022-08-23T11:19:15.968Z"
   },
   {
    "duration": 34,
    "start_time": "2022-08-23T11:19:17.794Z"
   },
   {
    "duration": 47,
    "start_time": "2022-08-23T11:19:20.012Z"
   },
   {
    "duration": 24,
    "start_time": "2022-08-23T11:19:22.057Z"
   },
   {
    "duration": 23,
    "start_time": "2022-08-23T11:19:24.661Z"
   },
   {
    "duration": 29,
    "start_time": "2022-08-23T11:19:26.577Z"
   },
   {
    "duration": 23,
    "start_time": "2022-08-23T11:19:28.873Z"
   },
   {
    "duration": 19,
    "start_time": "2022-08-23T11:19:31.055Z"
   },
   {
    "duration": 52,
    "start_time": "2022-08-23T11:19:37.956Z"
   },
   {
    "duration": 68,
    "start_time": "2022-08-23T11:22:29.138Z"
   },
   {
    "duration": 1912,
    "start_time": "2022-08-23T11:24:07.116Z"
   },
   {
    "duration": 12,
    "start_time": "2022-08-23T11:24:09.030Z"
   },
   {
    "duration": 20,
    "start_time": "2022-08-23T11:24:09.044Z"
   },
   {
    "duration": 18,
    "start_time": "2022-08-23T11:24:09.066Z"
   },
   {
    "duration": 9,
    "start_time": "2022-08-23T11:24:09.086Z"
   },
   {
    "duration": 49,
    "start_time": "2022-08-23T11:24:09.097Z"
   },
   {
    "duration": 85,
    "start_time": "2022-08-23T11:24:09.148Z"
   },
   {
    "duration": 70,
    "start_time": "2022-08-23T11:24:09.235Z"
   },
   {
    "duration": 20,
    "start_time": "2022-08-23T11:24:09.307Z"
   },
   {
    "duration": 18,
    "start_time": "2022-08-23T11:24:09.330Z"
   },
   {
    "duration": 11,
    "start_time": "2022-08-23T11:24:09.380Z"
   },
   {
    "duration": 14,
    "start_time": "2022-08-23T11:24:10.260Z"
   },
   {
    "duration": 32,
    "start_time": "2022-08-23T11:24:10.690Z"
   },
   {
    "duration": 22,
    "start_time": "2022-08-23T11:24:11.136Z"
   },
   {
    "duration": 29,
    "start_time": "2022-08-23T11:24:11.416Z"
   },
   {
    "duration": 91,
    "start_time": "2022-08-23T11:24:11.796Z"
   },
   {
    "duration": 35,
    "start_time": "2022-08-23T11:24:12.157Z"
   },
   {
    "duration": 46,
    "start_time": "2022-08-23T11:24:12.331Z"
   },
   {
    "duration": 24,
    "start_time": "2022-08-23T11:24:12.513Z"
   },
   {
    "duration": 22,
    "start_time": "2022-08-23T11:24:12.695Z"
   },
   {
    "duration": 31,
    "start_time": "2022-08-23T11:24:12.899Z"
   },
   {
    "duration": 22,
    "start_time": "2022-08-23T11:24:13.363Z"
   },
   {
    "duration": 16,
    "start_time": "2022-08-23T11:24:13.827Z"
   },
   {
    "duration": 97,
    "start_time": "2022-08-23T11:24:14.223Z"
   },
   {
    "duration": 46,
    "start_time": "2022-08-23T11:24:52.754Z"
   },
   {
    "duration": 1856,
    "start_time": "2022-08-23T11:25:13.457Z"
   },
   {
    "duration": 11,
    "start_time": "2022-08-23T11:25:15.315Z"
   },
   {
    "duration": 31,
    "start_time": "2022-08-23T11:25:15.328Z"
   },
   {
    "duration": 23,
    "start_time": "2022-08-23T11:25:15.589Z"
   },
   {
    "duration": 10,
    "start_time": "2022-08-23T11:25:16.124Z"
   },
   {
    "duration": 14,
    "start_time": "2022-08-23T11:25:16.553Z"
   },
   {
    "duration": 8,
    "start_time": "2022-08-23T11:25:16.987Z"
   },
   {
    "duration": 17,
    "start_time": "2022-08-23T11:25:17.400Z"
   },
   {
    "duration": 8,
    "start_time": "2022-08-23T11:25:17.850Z"
   },
   {
    "duration": 11,
    "start_time": "2022-08-23T11:25:18.298Z"
   },
   {
    "duration": 9,
    "start_time": "2022-08-23T11:25:18.722Z"
   },
   {
    "duration": 11,
    "start_time": "2022-08-23T11:25:20.090Z"
   },
   {
    "duration": 32,
    "start_time": "2022-08-23T11:25:20.571Z"
   },
   {
    "duration": 21,
    "start_time": "2022-08-23T11:25:21.020Z"
   },
   {
    "duration": 25,
    "start_time": "2022-08-23T11:25:21.540Z"
   },
   {
    "duration": 89,
    "start_time": "2022-08-23T11:25:22.416Z"
   },
   {
    "duration": 34,
    "start_time": "2022-08-23T11:25:23.355Z"
   },
   {
    "duration": 48,
    "start_time": "2022-08-23T11:25:23.899Z"
   },
   {
    "duration": 23,
    "start_time": "2022-08-23T11:25:24.371Z"
   },
   {
    "duration": 22,
    "start_time": "2022-08-23T11:25:25.037Z"
   },
   {
    "duration": 33,
    "start_time": "2022-08-23T11:25:25.721Z"
   },
   {
    "duration": 23,
    "start_time": "2022-08-23T11:25:26.223Z"
   },
   {
    "duration": 18,
    "start_time": "2022-08-23T11:25:27.366Z"
   },
   {
    "duration": 49,
    "start_time": "2022-08-23T11:25:50.111Z"
   },
   {
    "duration": 1933,
    "start_time": "2022-08-23T11:25:55.100Z"
   },
   {
    "duration": 12,
    "start_time": "2022-08-23T11:25:57.035Z"
   },
   {
    "duration": 19,
    "start_time": "2022-08-23T11:25:57.048Z"
   },
   {
    "duration": 17,
    "start_time": "2022-08-23T11:25:57.069Z"
   },
   {
    "duration": 8,
    "start_time": "2022-08-23T11:25:57.088Z"
   },
   {
    "duration": 16,
    "start_time": "2022-08-23T11:25:57.097Z"
   },
   {
    "duration": 7,
    "start_time": "2022-08-23T11:25:57.114Z"
   },
   {
    "duration": 40,
    "start_time": "2022-08-23T11:25:57.124Z"
   },
   {
    "duration": 8,
    "start_time": "2022-08-23T11:25:57.323Z"
   },
   {
    "duration": 11,
    "start_time": "2022-08-23T11:25:57.512Z"
   },
   {
    "duration": 9,
    "start_time": "2022-08-23T11:25:57.716Z"
   },
   {
    "duration": 13,
    "start_time": "2022-08-23T11:25:58.845Z"
   },
   {
    "duration": 34,
    "start_time": "2022-08-23T11:25:59.018Z"
   },
   {
    "duration": 22,
    "start_time": "2022-08-23T11:25:59.200Z"
   },
   {
    "duration": 27,
    "start_time": "2022-08-23T11:25:59.370Z"
   },
   {
    "duration": 103,
    "start_time": "2022-08-23T11:25:59.712Z"
   },
   {
    "duration": 36,
    "start_time": "2022-08-23T11:26:00.063Z"
   },
   {
    "duration": 47,
    "start_time": "2022-08-23T11:26:00.268Z"
   },
   {
    "duration": 26,
    "start_time": "2022-08-23T11:26:00.448Z"
   },
   {
    "duration": 25,
    "start_time": "2022-08-23T11:26:00.631Z"
   },
   {
    "duration": 30,
    "start_time": "2022-08-23T11:26:00.816Z"
   },
   {
    "duration": 26,
    "start_time": "2022-08-23T11:26:01.034Z"
   },
   {
    "duration": 18,
    "start_time": "2022-08-23T11:26:01.500Z"
   },
   {
    "duration": 113,
    "start_time": "2022-08-23T11:28:54.014Z"
   },
   {
    "duration": 45,
    "start_time": "2022-08-23T11:28:57.054Z"
   },
   {
    "duration": 8,
    "start_time": "2022-08-23T11:29:03.894Z"
   },
   {
    "duration": 2049,
    "start_time": "2022-08-23T11:29:10.146Z"
   },
   {
    "duration": 14,
    "start_time": "2022-08-23T11:29:12.197Z"
   },
   {
    "duration": 25,
    "start_time": "2022-08-23T11:29:12.213Z"
   },
   {
    "duration": 30,
    "start_time": "2022-08-23T11:29:12.241Z"
   },
   {
    "duration": 13,
    "start_time": "2022-08-23T11:29:12.273Z"
   },
   {
    "duration": 20,
    "start_time": "2022-08-23T11:29:12.289Z"
   },
   {
    "duration": 8,
    "start_time": "2022-08-23T11:29:12.310Z"
   },
   {
    "duration": 72,
    "start_time": "2022-08-23T11:29:12.319Z"
   },
   {
    "duration": 10,
    "start_time": "2022-08-23T11:29:12.394Z"
   },
   {
    "duration": 17,
    "start_time": "2022-08-23T11:29:12.555Z"
   },
   {
    "duration": 14,
    "start_time": "2022-08-23T11:29:12.721Z"
   },
   {
    "duration": 14,
    "start_time": "2022-08-23T11:29:13.208Z"
   },
   {
    "duration": 33,
    "start_time": "2022-08-23T11:29:13.385Z"
   },
   {
    "duration": 23,
    "start_time": "2022-08-23T11:29:13.580Z"
   },
   {
    "duration": 27,
    "start_time": "2022-08-23T11:29:13.752Z"
   },
   {
    "duration": 100,
    "start_time": "2022-08-23T11:29:14.087Z"
   },
   {
    "duration": 36,
    "start_time": "2022-08-23T11:29:14.435Z"
   },
   {
    "duration": 57,
    "start_time": "2022-08-23T11:29:14.608Z"
   },
   {
    "duration": 26,
    "start_time": "2022-08-23T11:29:14.770Z"
   },
   {
    "duration": 25,
    "start_time": "2022-08-23T11:29:14.928Z"
   },
   {
    "duration": 30,
    "start_time": "2022-08-23T11:29:15.105Z"
   },
   {
    "duration": 32,
    "start_time": "2022-08-23T11:29:15.280Z"
   },
   {
    "duration": 22,
    "start_time": "2022-08-23T11:29:15.475Z"
   },
   {
    "duration": 75,
    "start_time": "2022-08-23T11:29:32.441Z"
   },
   {
    "duration": 1955,
    "start_time": "2022-08-23T11:29:37.528Z"
   },
   {
    "duration": 29,
    "start_time": "2022-08-23T11:29:39.486Z"
   },
   {
    "duration": 32,
    "start_time": "2022-08-23T11:29:39.518Z"
   },
   {
    "duration": 42,
    "start_time": "2022-08-23T11:29:39.553Z"
   },
   {
    "duration": 24,
    "start_time": "2022-08-23T11:29:39.598Z"
   },
   {
    "duration": 48,
    "start_time": "2022-08-23T11:29:39.623Z"
   },
   {
    "duration": 36,
    "start_time": "2022-08-23T11:29:39.673Z"
   },
   {
    "duration": 64,
    "start_time": "2022-08-23T11:29:39.711Z"
   },
   {
    "duration": 17,
    "start_time": "2022-08-23T11:29:39.778Z"
   },
   {
    "duration": 12,
    "start_time": "2022-08-23T11:29:39.856Z"
   },
   {
    "duration": 13,
    "start_time": "2022-08-23T11:29:40.034Z"
   },
   {
    "duration": 14,
    "start_time": "2022-08-23T11:29:40.523Z"
   },
   {
    "duration": 34,
    "start_time": "2022-08-23T11:29:40.685Z"
   },
   {
    "duration": 22,
    "start_time": "2022-08-23T11:29:40.870Z"
   },
   {
    "duration": 29,
    "start_time": "2022-08-23T11:29:41.044Z"
   },
   {
    "duration": 108,
    "start_time": "2022-08-23T11:29:41.359Z"
   },
   {
    "duration": 36,
    "start_time": "2022-08-23T11:29:41.713Z"
   },
   {
    "duration": 54,
    "start_time": "2022-08-23T11:29:41.887Z"
   },
   {
    "duration": 27,
    "start_time": "2022-08-23T11:29:42.046Z"
   },
   {
    "duration": 35,
    "start_time": "2022-08-23T11:29:42.237Z"
   },
   {
    "duration": 29,
    "start_time": "2022-08-23T11:29:42.407Z"
   },
   {
    "duration": 27,
    "start_time": "2022-08-23T11:29:42.635Z"
   },
   {
    "duration": 17,
    "start_time": "2022-08-23T11:29:42.954Z"
   },
   {
    "duration": 62,
    "start_time": "2022-08-23T11:29:43.594Z"
   },
   {
    "duration": 2128,
    "start_time": "2022-08-23T11:30:33.002Z"
   },
   {
    "duration": 13,
    "start_time": "2022-08-23T11:30:35.132Z"
   },
   {
    "duration": 31,
    "start_time": "2022-08-23T11:30:35.147Z"
   },
   {
    "duration": 33,
    "start_time": "2022-08-23T11:30:35.182Z"
   },
   {
    "duration": 21,
    "start_time": "2022-08-23T11:30:35.217Z"
   },
   {
    "duration": 47,
    "start_time": "2022-08-23T11:30:35.240Z"
   },
   {
    "duration": 10,
    "start_time": "2022-08-23T11:30:35.312Z"
   },
   {
    "duration": 20,
    "start_time": "2022-08-23T11:30:35.495Z"
   },
   {
    "duration": 12,
    "start_time": "2022-08-23T11:30:35.690Z"
   },
   {
    "duration": 15,
    "start_time": "2022-08-23T11:30:35.876Z"
   },
   {
    "duration": 10,
    "start_time": "2022-08-23T11:30:36.048Z"
   },
   {
    "duration": 14,
    "start_time": "2022-08-23T11:30:36.588Z"
   },
   {
    "duration": 45,
    "start_time": "2022-08-23T11:30:36.785Z"
   },
   {
    "duration": 27,
    "start_time": "2022-08-23T11:30:37.264Z"
   },
   {
    "duration": 29,
    "start_time": "2022-08-23T11:30:37.663Z"
   },
   {
    "duration": 100,
    "start_time": "2022-08-23T11:30:38.450Z"
   },
   {
    "duration": 37,
    "start_time": "2022-08-23T11:30:39.383Z"
   },
   {
    "duration": 52,
    "start_time": "2022-08-23T11:30:39.827Z"
   },
   {
    "duration": 27,
    "start_time": "2022-08-23T11:30:40.275Z"
   },
   {
    "duration": 24,
    "start_time": "2022-08-23T11:30:40.629Z"
   },
   {
    "duration": 38,
    "start_time": "2022-08-23T11:30:41.442Z"
   },
   {
    "duration": 37,
    "start_time": "2022-08-23T11:30:42.011Z"
   },
   {
    "duration": 18,
    "start_time": "2022-08-23T11:30:42.498Z"
   },
   {
    "duration": 53,
    "start_time": "2022-08-23T11:31:19.775Z"
   },
   {
    "duration": 9,
    "start_time": "2022-08-23T11:31:27.185Z"
   },
   {
    "duration": 2098,
    "start_time": "2022-08-23T11:31:32.458Z"
   },
   {
    "duration": 13,
    "start_time": "2022-08-23T11:31:34.558Z"
   },
   {
    "duration": 22,
    "start_time": "2022-08-23T11:31:34.573Z"
   },
   {
    "duration": 18,
    "start_time": "2022-08-23T11:31:34.597Z"
   },
   {
    "duration": 13,
    "start_time": "2022-08-23T11:31:34.616Z"
   },
   {
    "duration": 33,
    "start_time": "2022-08-23T11:31:34.631Z"
   },
   {
    "duration": 10,
    "start_time": "2022-08-23T11:31:34.666Z"
   },
   {
    "duration": 21,
    "start_time": "2022-08-23T11:31:34.678Z"
   },
   {
    "duration": 10,
    "start_time": "2022-08-23T11:31:34.700Z"
   },
   {
    "duration": 33,
    "start_time": "2022-08-23T11:31:34.713Z"
   },
   {
    "duration": 13,
    "start_time": "2022-08-23T11:31:34.758Z"
   },
   {
    "duration": 18,
    "start_time": "2022-08-23T11:31:35.203Z"
   },
   {
    "duration": 45,
    "start_time": "2022-08-23T11:31:35.440Z"
   },
   {
    "duration": 31,
    "start_time": "2022-08-23T11:31:35.721Z"
   },
   {
    "duration": 29,
    "start_time": "2022-08-23T11:31:35.954Z"
   },
   {
    "duration": 102,
    "start_time": "2022-08-23T11:31:36.394Z"
   },
   {
    "duration": 36,
    "start_time": "2022-08-23T11:31:36.841Z"
   },
   {
    "duration": 59,
    "start_time": "2022-08-23T11:31:37.056Z"
   },
   {
    "duration": 33,
    "start_time": "2022-08-23T11:31:37.262Z"
   },
   {
    "duration": 25,
    "start_time": "2022-08-23T11:31:37.479Z"
   },
   {
    "duration": 29,
    "start_time": "2022-08-23T11:31:37.694Z"
   },
   {
    "duration": 25,
    "start_time": "2022-08-23T11:31:37.892Z"
   },
   {
    "duration": 18,
    "start_time": "2022-08-23T11:31:38.125Z"
   },
   {
    "duration": 1982,
    "start_time": "2022-08-23T11:35:24.853Z"
   },
   {
    "duration": 11,
    "start_time": "2022-08-23T11:35:26.837Z"
   },
   {
    "duration": 24,
    "start_time": "2022-08-23T11:35:26.849Z"
   },
   {
    "duration": 18,
    "start_time": "2022-08-23T11:35:26.875Z"
   },
   {
    "duration": 9,
    "start_time": "2022-08-23T11:35:26.941Z"
   },
   {
    "duration": 16,
    "start_time": "2022-08-23T11:35:27.131Z"
   },
   {
    "duration": 8,
    "start_time": "2022-08-23T11:35:27.337Z"
   },
   {
    "duration": 16,
    "start_time": "2022-08-23T11:35:27.538Z"
   },
   {
    "duration": 9,
    "start_time": "2022-08-23T11:35:27.756Z"
   },
   {
    "duration": 11,
    "start_time": "2022-08-23T11:35:27.965Z"
   },
   {
    "duration": 9,
    "start_time": "2022-08-23T11:35:28.164Z"
   },
   {
    "duration": 13,
    "start_time": "2022-08-23T11:35:28.775Z"
   },
   {
    "duration": 39,
    "start_time": "2022-08-23T11:35:28.972Z"
   },
   {
    "duration": 22,
    "start_time": "2022-08-23T11:35:29.162Z"
   },
   {
    "duration": 44,
    "start_time": "2022-08-23T11:35:29.357Z"
   },
   {
    "duration": 94,
    "start_time": "2022-08-23T11:35:29.714Z"
   },
   {
    "duration": 38,
    "start_time": "2022-08-23T11:35:30.522Z"
   },
   {
    "duration": 50,
    "start_time": "2022-08-23T11:35:30.951Z"
   },
   {
    "duration": 26,
    "start_time": "2022-08-23T11:35:31.378Z"
   },
   {
    "duration": 23,
    "start_time": "2022-08-23T11:35:31.841Z"
   },
   {
    "duration": 30,
    "start_time": "2022-08-23T11:35:32.290Z"
   },
   {
    "duration": 24,
    "start_time": "2022-08-23T11:35:32.902Z"
   },
   {
    "duration": 18,
    "start_time": "2022-08-23T11:35:33.896Z"
   },
   {
    "duration": 60,
    "start_time": "2022-08-23T11:35:58.755Z"
   },
   {
    "duration": 2107,
    "start_time": "2022-08-23T11:36:05.252Z"
   },
   {
    "duration": 18,
    "start_time": "2022-08-23T11:36:07.363Z"
   },
   {
    "duration": 32,
    "start_time": "2022-08-23T11:36:07.383Z"
   },
   {
    "duration": 31,
    "start_time": "2022-08-23T11:36:07.637Z"
   },
   {
    "duration": 10,
    "start_time": "2022-08-23T11:36:08.144Z"
   },
   {
    "duration": 23,
    "start_time": "2022-08-23T11:36:08.686Z"
   },
   {
    "duration": 8,
    "start_time": "2022-08-23T11:36:09.195Z"
   },
   {
    "duration": 26,
    "start_time": "2022-08-23T11:36:09.669Z"
   },
   {
    "duration": 11,
    "start_time": "2022-08-23T11:36:10.227Z"
   },
   {
    "duration": 16,
    "start_time": "2022-08-23T11:36:10.699Z"
   },
   {
    "duration": 10,
    "start_time": "2022-08-23T11:36:11.324Z"
   },
   {
    "duration": 18,
    "start_time": "2022-08-23T11:36:12.853Z"
   },
   {
    "duration": 34,
    "start_time": "2022-08-23T11:36:13.447Z"
   },
   {
    "duration": 22,
    "start_time": "2022-08-23T11:36:13.930Z"
   },
   {
    "duration": 26,
    "start_time": "2022-08-23T11:36:14.440Z"
   },
   {
    "duration": 116,
    "start_time": "2022-08-23T11:36:15.433Z"
   },
   {
    "duration": 47,
    "start_time": "2022-08-23T11:36:16.439Z"
   },
   {
    "duration": 69,
    "start_time": "2022-08-23T11:36:16.986Z"
   },
   {
    "duration": 34,
    "start_time": "2022-08-23T11:36:17.504Z"
   },
   {
    "duration": 23,
    "start_time": "2022-08-23T11:36:18.073Z"
   },
   {
    "duration": 30,
    "start_time": "2022-08-23T11:36:18.774Z"
   },
   {
    "duration": 23,
    "start_time": "2022-08-23T11:36:19.333Z"
   },
   {
    "duration": 18,
    "start_time": "2022-08-23T11:36:19.835Z"
   },
   {
    "duration": 2120,
    "start_time": "2022-08-23T11:36:53.274Z"
   },
   {
    "duration": 18,
    "start_time": "2022-08-23T11:36:55.397Z"
   },
   {
    "duration": 38,
    "start_time": "2022-08-23T11:36:55.417Z"
   },
   {
    "duration": 36,
    "start_time": "2022-08-23T11:36:55.458Z"
   },
   {
    "duration": 21,
    "start_time": "2022-08-23T11:36:55.497Z"
   },
   {
    "duration": 33,
    "start_time": "2022-08-23T11:36:55.520Z"
   },
   {
    "duration": 32,
    "start_time": "2022-08-23T11:36:55.555Z"
   },
   {
    "duration": 39,
    "start_time": "2022-08-23T11:36:55.590Z"
   },
   {
    "duration": 16,
    "start_time": "2022-08-23T11:36:55.670Z"
   },
   {
    "duration": 17,
    "start_time": "2022-08-23T11:36:55.859Z"
   },
   {
    "duration": 14,
    "start_time": "2022-08-23T11:36:56.243Z"
   },
   {
    "duration": 14,
    "start_time": "2022-08-23T11:36:56.840Z"
   },
   {
    "duration": 36,
    "start_time": "2022-08-23T11:36:57.092Z"
   },
   {
    "duration": 36,
    "start_time": "2022-08-23T11:36:57.326Z"
   },
   {
    "duration": 46,
    "start_time": "2022-08-23T11:36:57.512Z"
   },
   {
    "duration": 106,
    "start_time": "2022-08-23T11:36:57.922Z"
   },
   {
    "duration": 39,
    "start_time": "2022-08-23T11:36:58.491Z"
   },
   {
    "duration": 53,
    "start_time": "2022-08-23T11:36:58.693Z"
   },
   {
    "duration": 26,
    "start_time": "2022-08-23T11:36:58.878Z"
   },
   {
    "duration": 27,
    "start_time": "2022-08-23T11:36:59.092Z"
   },
   {
    "duration": 39,
    "start_time": "2022-08-23T11:36:59.268Z"
   },
   {
    "duration": 35,
    "start_time": "2022-08-23T11:36:59.494Z"
   },
   {
    "duration": 29,
    "start_time": "2022-08-23T11:36:59.699Z"
   },
   {
    "duration": 1890,
    "start_time": "2022-08-23T11:47:58.551Z"
   },
   {
    "duration": 12,
    "start_time": "2022-08-23T11:48:00.443Z"
   },
   {
    "duration": 28,
    "start_time": "2022-08-23T11:48:00.456Z"
   },
   {
    "duration": 24,
    "start_time": "2022-08-23T11:48:00.486Z"
   },
   {
    "duration": 11,
    "start_time": "2022-08-23T11:48:00.512Z"
   },
   {
    "duration": 14,
    "start_time": "2022-08-23T11:48:00.661Z"
   },
   {
    "duration": 7,
    "start_time": "2022-08-23T11:48:00.828Z"
   },
   {
    "duration": 16,
    "start_time": "2022-08-23T11:48:01.965Z"
   },
   {
    "duration": 10,
    "start_time": "2022-08-23T11:48:02.168Z"
   },
   {
    "duration": 10,
    "start_time": "2022-08-23T11:48:02.340Z"
   },
   {
    "duration": 9,
    "start_time": "2022-08-23T11:48:02.511Z"
   },
   {
    "duration": 12,
    "start_time": "2022-08-23T11:48:03.263Z"
   },
   {
    "duration": 31,
    "start_time": "2022-08-23T11:48:03.656Z"
   },
   {
    "duration": 22,
    "start_time": "2022-08-23T11:48:04.324Z"
   },
   {
    "duration": 26,
    "start_time": "2022-08-23T11:48:04.857Z"
   },
   {
    "duration": 89,
    "start_time": "2022-08-23T11:48:06.472Z"
   },
   {
    "duration": 34,
    "start_time": "2022-08-23T11:48:07.725Z"
   },
   {
    "duration": 50,
    "start_time": "2022-08-23T11:48:08.499Z"
   },
   {
    "duration": 24,
    "start_time": "2022-08-23T11:48:09.381Z"
   },
   {
    "duration": 22,
    "start_time": "2022-08-23T11:48:10.062Z"
   },
   {
    "duration": 30,
    "start_time": "2022-08-23T11:48:10.663Z"
   },
   {
    "duration": 24,
    "start_time": "2022-08-23T11:48:11.089Z"
   },
   {
    "duration": 18,
    "start_time": "2022-08-23T11:48:40.124Z"
   },
   {
    "duration": 50,
    "start_time": "2022-08-23T11:52:54.862Z"
   },
   {
    "duration": 1995,
    "start_time": "2022-08-23T11:53:00.217Z"
   },
   {
    "duration": 11,
    "start_time": "2022-08-23T11:53:02.214Z"
   },
   {
    "duration": 64,
    "start_time": "2022-08-23T11:53:02.227Z"
   },
   {
    "duration": 19,
    "start_time": "2022-08-23T11:53:02.293Z"
   },
   {
    "duration": 17,
    "start_time": "2022-08-23T11:53:02.313Z"
   },
   {
    "duration": 22,
    "start_time": "2022-08-23T11:53:02.331Z"
   },
   {
    "duration": 18,
    "start_time": "2022-08-23T11:53:02.355Z"
   },
   {
    "duration": 29,
    "start_time": "2022-08-23T11:53:02.375Z"
   },
   {
    "duration": 15,
    "start_time": "2022-08-23T11:53:02.405Z"
   },
   {
    "duration": 31,
    "start_time": "2022-08-23T11:53:02.422Z"
   },
   {
    "duration": 17,
    "start_time": "2022-08-23T11:53:02.455Z"
   },
   {
    "duration": 12,
    "start_time": "2022-08-23T11:53:03.394Z"
   },
   {
    "duration": 34,
    "start_time": "2022-08-23T11:53:03.575Z"
   },
   {
    "duration": 21,
    "start_time": "2022-08-23T11:53:03.739Z"
   },
   {
    "duration": 25,
    "start_time": "2022-08-23T11:53:03.913Z"
   },
   {
    "duration": 104,
    "start_time": "2022-08-23T11:53:04.253Z"
   },
   {
    "duration": 37,
    "start_time": "2022-08-23T11:53:04.588Z"
   },
   {
    "duration": 47,
    "start_time": "2022-08-23T11:53:04.771Z"
   },
   {
    "duration": 24,
    "start_time": "2022-08-23T11:53:04.972Z"
   },
   {
    "duration": 22,
    "start_time": "2022-08-23T11:53:05.138Z"
   },
   {
    "duration": 35,
    "start_time": "2022-08-23T11:53:05.323Z"
   },
   {
    "duration": 23,
    "start_time": "2022-08-23T11:53:05.853Z"
   },
   {
    "duration": 17,
    "start_time": "2022-08-23T11:53:06.485Z"
   },
   {
    "duration": 51,
    "start_time": "2022-08-23T11:53:35.793Z"
   },
   {
    "duration": 2041,
    "start_time": "2022-08-23T11:53:42.151Z"
   },
   {
    "duration": 11,
    "start_time": "2022-08-23T11:53:44.194Z"
   },
   {
    "duration": 19,
    "start_time": "2022-08-23T11:53:44.207Z"
   },
   {
    "duration": 16,
    "start_time": "2022-08-23T11:53:44.228Z"
   },
   {
    "duration": 8,
    "start_time": "2022-08-23T11:53:44.246Z"
   },
   {
    "duration": 15,
    "start_time": "2022-08-23T11:53:44.255Z"
   },
   {
    "duration": 8,
    "start_time": "2022-08-23T11:53:44.272Z"
   },
   {
    "duration": 17,
    "start_time": "2022-08-23T11:53:44.282Z"
   },
   {
    "duration": 9,
    "start_time": "2022-08-23T11:53:44.301Z"
   },
   {
    "duration": 13,
    "start_time": "2022-08-23T11:53:44.313Z"
   },
   {
    "duration": 14,
    "start_time": "2022-08-23T11:53:44.328Z"
   },
   {
    "duration": 12,
    "start_time": "2022-08-23T11:53:44.615Z"
   },
   {
    "duration": 32,
    "start_time": "2022-08-23T11:53:44.782Z"
   },
   {
    "duration": 22,
    "start_time": "2022-08-23T11:53:44.953Z"
   },
   {
    "duration": 27,
    "start_time": "2022-08-23T11:53:45.131Z"
   },
   {
    "duration": 113,
    "start_time": "2022-08-23T11:53:45.452Z"
   },
   {
    "duration": 35,
    "start_time": "2022-08-23T11:53:45.783Z"
   },
   {
    "duration": 46,
    "start_time": "2022-08-23T11:53:45.969Z"
   },
   {
    "duration": 24,
    "start_time": "2022-08-23T11:53:46.132Z"
   },
   {
    "duration": 24,
    "start_time": "2022-08-23T11:53:46.307Z"
   },
   {
    "duration": 27,
    "start_time": "2022-08-23T11:53:46.504Z"
   },
   {
    "duration": 24,
    "start_time": "2022-08-23T11:53:46.951Z"
   },
   {
    "duration": 17,
    "start_time": "2022-08-23T11:53:47.400Z"
   },
   {
    "duration": 56,
    "start_time": "2022-08-23T11:54:19.523Z"
   },
   {
    "duration": 7,
    "start_time": "2022-08-23T12:03:16.325Z"
   },
   {
    "duration": 47,
    "start_time": "2022-08-23T15:15:51.757Z"
   },
   {
    "duration": 2180,
    "start_time": "2022-08-23T15:15:59.436Z"
   },
   {
    "duration": 12,
    "start_time": "2022-08-23T15:16:01.618Z"
   },
   {
    "duration": 20,
    "start_time": "2022-08-23T15:16:01.632Z"
   },
   {
    "duration": 18,
    "start_time": "2022-08-23T15:16:01.655Z"
   },
   {
    "duration": 19,
    "start_time": "2022-08-23T15:16:01.675Z"
   },
   {
    "duration": 27,
    "start_time": "2022-08-23T15:16:01.695Z"
   },
   {
    "duration": 19,
    "start_time": "2022-08-23T15:16:01.724Z"
   },
   {
    "duration": 29,
    "start_time": "2022-08-23T15:16:01.745Z"
   },
   {
    "duration": 74,
    "start_time": "2022-08-23T15:16:01.776Z"
   },
   {
    "duration": 49,
    "start_time": "2022-08-23T15:16:01.852Z"
   },
   {
    "duration": 9,
    "start_time": "2022-08-23T15:16:02.965Z"
   },
   {
    "duration": 13,
    "start_time": "2022-08-23T15:16:04.096Z"
   },
   {
    "duration": 35,
    "start_time": "2022-08-23T15:16:04.748Z"
   },
   {
    "duration": 22,
    "start_time": "2022-08-23T15:16:06.459Z"
   },
   {
    "duration": 27,
    "start_time": "2022-08-23T15:16:06.889Z"
   },
   {
    "duration": 111,
    "start_time": "2022-08-23T15:16:07.662Z"
   },
   {
    "duration": 39,
    "start_time": "2022-08-23T15:16:10.118Z"
   },
   {
    "duration": 54,
    "start_time": "2022-08-23T15:16:10.493Z"
   },
   {
    "duration": 23,
    "start_time": "2022-08-23T15:16:10.881Z"
   },
   {
    "duration": 26,
    "start_time": "2022-08-23T15:16:11.607Z"
   },
   {
    "duration": 29,
    "start_time": "2022-08-23T15:16:13.457Z"
   },
   {
    "duration": 27,
    "start_time": "2022-08-23T15:16:14.080Z"
   },
   {
    "duration": 18,
    "start_time": "2022-08-23T15:16:26.105Z"
   },
   {
    "duration": 69,
    "start_time": "2022-08-23T15:16:30.476Z"
   },
   {
    "duration": 10955,
    "start_time": "2022-08-23T15:20:58.555Z"
   },
   {
    "duration": 47,
    "start_time": "2022-08-23T15:44:53.013Z"
   },
   {
    "duration": 1909,
    "start_time": "2022-08-23T15:45:03.481Z"
   },
   {
    "duration": 14,
    "start_time": "2022-08-23T15:45:05.392Z"
   },
   {
    "duration": 22,
    "start_time": "2022-08-23T15:45:05.408Z"
   },
   {
    "duration": 34,
    "start_time": "2022-08-23T15:45:05.432Z"
   },
   {
    "duration": 9,
    "start_time": "2022-08-23T15:45:05.467Z"
   },
   {
    "duration": 30,
    "start_time": "2022-08-23T15:45:05.478Z"
   },
   {
    "duration": 14,
    "start_time": "2022-08-23T15:45:05.510Z"
   },
   {
    "duration": 18,
    "start_time": "2022-08-23T15:45:05.594Z"
   },
   {
    "duration": 9,
    "start_time": "2022-08-23T15:45:05.813Z"
   },
   {
    "duration": 13,
    "start_time": "2022-08-23T15:45:06.016Z"
   },
   {
    "duration": 9,
    "start_time": "2022-08-23T15:45:06.185Z"
   },
   {
    "duration": 13,
    "start_time": "2022-08-23T15:45:06.779Z"
   },
   {
    "duration": 34,
    "start_time": "2022-08-23T15:45:06.970Z"
   },
   {
    "duration": 22,
    "start_time": "2022-08-23T15:45:07.917Z"
   },
   {
    "duration": 26,
    "start_time": "2022-08-23T15:45:08.882Z"
   },
   {
    "duration": 99,
    "start_time": "2022-08-23T15:45:10.511Z"
   },
   {
    "duration": 35,
    "start_time": "2022-08-23T15:45:12.151Z"
   },
   {
    "duration": 53,
    "start_time": "2022-08-23T15:45:13.350Z"
   },
   {
    "duration": 25,
    "start_time": "2022-08-23T15:45:14.868Z"
   },
   {
    "duration": 24,
    "start_time": "2022-08-23T15:45:15.617Z"
   },
   {
    "duration": 28,
    "start_time": "2022-08-23T15:45:16.524Z"
   },
   {
    "duration": 24,
    "start_time": "2022-08-23T15:45:17.278Z"
   },
   {
    "duration": 16,
    "start_time": "2022-08-23T15:45:18.435Z"
   },
   {
    "duration": 50,
    "start_time": "2022-08-23T15:45:57.223Z"
   },
   {
    "duration": 44,
    "start_time": "2022-08-23T15:46:10.035Z"
   },
   {
    "duration": 46,
    "start_time": "2022-08-23T15:46:22.279Z"
   },
   {
    "duration": 43,
    "start_time": "2022-08-23T15:47:04.320Z"
   },
   {
    "duration": 62,
    "start_time": "2022-08-23T15:47:15.486Z"
   },
   {
    "duration": 95,
    "start_time": "2022-08-23T15:54:04.320Z"
   },
   {
    "duration": 48,
    "start_time": "2022-08-23T15:59:00.559Z"
   },
   {
    "duration": 48,
    "start_time": "2022-08-23T16:05:32.132Z"
   },
   {
    "duration": 46,
    "start_time": "2022-08-23T16:05:54.417Z"
   },
   {
    "duration": 43,
    "start_time": "2022-08-23T16:05:59.534Z"
   },
   {
    "duration": 45,
    "start_time": "2022-08-23T16:06:11.369Z"
   },
   {
    "duration": 18,
    "start_time": "2022-08-23T16:13:18.616Z"
   },
   {
    "duration": 19,
    "start_time": "2022-08-23T16:14:23.920Z"
   },
   {
    "duration": 45,
    "start_time": "2022-08-23T16:14:47.650Z"
   },
   {
    "duration": 48,
    "start_time": "2022-08-23T16:20:51.883Z"
   },
   {
    "duration": 57,
    "start_time": "2022-08-23T16:21:25.305Z"
   },
   {
    "duration": 18,
    "start_time": "2022-08-23T16:22:26.185Z"
   },
   {
    "duration": 17,
    "start_time": "2022-08-23T16:24:22.774Z"
   },
   {
    "duration": 12,
    "start_time": "2022-08-23T16:24:49.521Z"
   },
   {
    "duration": 15,
    "start_time": "2022-08-23T16:25:27.908Z"
   },
   {
    "duration": 15,
    "start_time": "2022-08-23T16:46:39.459Z"
   },
   {
    "duration": 15,
    "start_time": "2022-08-23T16:47:30.079Z"
   },
   {
    "duration": 15,
    "start_time": "2022-08-23T16:48:15.804Z"
   },
   {
    "duration": 15,
    "start_time": "2022-08-23T16:49:18.427Z"
   },
   {
    "duration": 17,
    "start_time": "2022-08-23T16:52:32.495Z"
   },
   {
    "duration": 22,
    "start_time": "2022-08-23T19:32:25.577Z"
   },
   {
    "duration": 56,
    "start_time": "2022-08-23T19:32:35.450Z"
   },
   {
    "duration": 19,
    "start_time": "2022-08-23T19:32:38.704Z"
   },
   {
    "duration": 16,
    "start_time": "2022-08-23T19:34:03.745Z"
   },
   {
    "duration": 19,
    "start_time": "2022-08-23T19:34:05.661Z"
   },
   {
    "duration": 14,
    "start_time": "2022-08-23T19:35:00.121Z"
   },
   {
    "duration": 12,
    "start_time": "2022-08-23T19:35:03.158Z"
   },
   {
    "duration": 15,
    "start_time": "2022-08-23T19:35:20.794Z"
   },
   {
    "duration": 52,
    "start_time": "2022-08-24T11:35:40.236Z"
   },
   {
    "duration": 6,
    "start_time": "2022-08-24T11:35:47.326Z"
   },
   {
    "duration": 10,
    "start_time": "2022-08-24T11:35:51.956Z"
   },
   {
    "duration": 2081,
    "start_time": "2022-08-24T11:35:56.735Z"
   },
   {
    "duration": 12,
    "start_time": "2022-08-24T11:35:58.818Z"
   },
   {
    "duration": 18,
    "start_time": "2022-08-24T11:35:58.831Z"
   },
   {
    "duration": 21,
    "start_time": "2022-08-24T11:35:58.852Z"
   },
   {
    "duration": 9,
    "start_time": "2022-08-24T11:35:58.875Z"
   },
   {
    "duration": 18,
    "start_time": "2022-08-24T11:35:58.886Z"
   },
   {
    "duration": 18,
    "start_time": "2022-08-24T11:35:58.906Z"
   },
   {
    "duration": 20,
    "start_time": "2022-08-24T11:35:58.936Z"
   },
   {
    "duration": 10,
    "start_time": "2022-08-24T11:35:59.182Z"
   },
   {
    "duration": 13,
    "start_time": "2022-08-24T11:35:59.420Z"
   },
   {
    "duration": 10,
    "start_time": "2022-08-24T11:35:59.693Z"
   },
   {
    "duration": 16,
    "start_time": "2022-08-24T11:36:00.437Z"
   },
   {
    "duration": 39,
    "start_time": "2022-08-24T11:36:00.690Z"
   },
   {
    "duration": 29,
    "start_time": "2022-08-24T11:36:00.945Z"
   },
   {
    "duration": 51,
    "start_time": "2022-08-24T11:36:01.197Z"
   },
   {
    "duration": 138,
    "start_time": "2022-08-24T11:36:01.660Z"
   },
   {
    "duration": 41,
    "start_time": "2022-08-24T11:36:02.138Z"
   },
   {
    "duration": 67,
    "start_time": "2022-08-24T11:36:02.413Z"
   },
   {
    "duration": 29,
    "start_time": "2022-08-24T11:36:02.686Z"
   },
   {
    "duration": 20,
    "start_time": "2022-08-24T11:36:02.947Z"
   },
   {
    "duration": 37,
    "start_time": "2022-08-24T11:36:03.152Z"
   },
   {
    "duration": 28,
    "start_time": "2022-08-24T11:36:03.405Z"
   },
   {
    "duration": 13,
    "start_time": "2022-08-24T11:36:03.672Z"
   },
   {
    "duration": 19,
    "start_time": "2022-08-24T11:36:03.930Z"
   },
   {
    "duration": 22,
    "start_time": "2022-08-24T11:36:04.201Z"
   },
   {
    "duration": 10,
    "start_time": "2022-08-24T11:36:05.107Z"
   },
   {
    "duration": 64,
    "start_time": "2022-08-24T11:36:51.467Z"
   },
   {
    "duration": 74,
    "start_time": "2022-08-24T11:37:17.672Z"
   },
   {
    "duration": 16,
    "start_time": "2022-08-24T11:37:23.714Z"
   },
   {
    "duration": 20,
    "start_time": "2022-08-24T11:59:36.123Z"
   },
   {
    "duration": 20,
    "start_time": "2022-08-24T12:00:18.353Z"
   },
   {
    "duration": 99,
    "start_time": "2022-08-24T12:20:38.721Z"
   },
   {
    "duration": 80,
    "start_time": "2022-08-24T12:21:06.402Z"
   },
   {
    "duration": 84,
    "start_time": "2022-08-24T12:21:18.523Z"
   },
   {
    "duration": 74,
    "start_time": "2022-08-24T12:21:34.431Z"
   },
   {
    "duration": 4,
    "start_time": "2022-08-24T12:21:56.414Z"
   },
   {
    "duration": 83,
    "start_time": "2022-08-24T12:22:15.815Z"
   },
   {
    "duration": 140,
    "start_time": "2022-08-24T12:22:37.552Z"
   },
   {
    "duration": 5,
    "start_time": "2022-08-24T12:23:16.035Z"
   },
   {
    "duration": 5,
    "start_time": "2022-08-24T12:23:26.929Z"
   },
   {
    "duration": 22,
    "start_time": "2022-08-24T12:23:44.566Z"
   },
   {
    "duration": 24,
    "start_time": "2022-08-24T12:23:57.320Z"
   },
   {
    "duration": 22,
    "start_time": "2022-08-24T12:24:40.493Z"
   },
   {
    "duration": 22,
    "start_time": "2022-08-24T12:25:12.383Z"
   },
   {
    "duration": 20,
    "start_time": "2022-08-24T12:25:26.319Z"
   },
   {
    "duration": 23,
    "start_time": "2022-08-24T12:29:38.981Z"
   },
   {
    "duration": 505,
    "start_time": "2022-08-24T12:41:00.014Z"
   },
   {
    "duration": 6,
    "start_time": "2022-08-24T12:41:07.276Z"
   },
   {
    "duration": 23,
    "start_time": "2022-08-24T12:41:26.309Z"
   },
   {
    "duration": 347,
    "start_time": "2022-08-24T12:42:40.317Z"
   },
   {
    "duration": 515,
    "start_time": "2022-08-24T12:43:32.575Z"
   },
   {
    "duration": 4,
    "start_time": "2022-08-24T12:59:41.934Z"
   },
   {
    "duration": 9,
    "start_time": "2022-08-24T13:00:18.374Z"
   },
   {
    "duration": 4,
    "start_time": "2022-08-24T13:00:37.434Z"
   },
   {
    "duration": 73,
    "start_time": "2022-08-24T13:02:04.916Z"
   },
   {
    "duration": 93,
    "start_time": "2022-08-24T13:02:13.771Z"
   },
   {
    "duration": 66,
    "start_time": "2022-08-24T13:03:26.745Z"
   },
   {
    "duration": 53,
    "start_time": "2022-08-24T13:05:34.548Z"
   },
   {
    "duration": 22,
    "start_time": "2022-08-24T13:06:05.407Z"
   },
   {
    "duration": 362,
    "start_time": "2022-08-24T13:06:17.707Z"
   },
   {
    "duration": 15,
    "start_time": "2022-08-24T13:06:18.496Z"
   },
   {
    "duration": 17,
    "start_time": "2022-08-24T13:06:18.721Z"
   },
   {
    "duration": 21,
    "start_time": "2022-08-24T13:06:18.965Z"
   },
   {
    "duration": 9,
    "start_time": "2022-08-24T13:06:19.228Z"
   },
   {
    "duration": 15,
    "start_time": "2022-08-24T13:06:19.491Z"
   },
   {
    "duration": 7,
    "start_time": "2022-08-24T13:06:19.754Z"
   },
   {
    "duration": 20,
    "start_time": "2022-08-24T13:06:19.990Z"
   },
   {
    "duration": 12,
    "start_time": "2022-08-24T13:06:20.266Z"
   },
   {
    "duration": 11,
    "start_time": "2022-08-24T13:06:20.523Z"
   },
   {
    "duration": 9,
    "start_time": "2022-08-24T13:06:20.793Z"
   },
   {
    "duration": 12,
    "start_time": "2022-08-24T13:06:21.516Z"
   },
   {
    "duration": 36,
    "start_time": "2022-08-24T13:06:21.753Z"
   },
   {
    "duration": 25,
    "start_time": "2022-08-24T13:06:21.965Z"
   },
   {
    "duration": 31,
    "start_time": "2022-08-24T13:06:22.196Z"
   },
   {
    "duration": 106,
    "start_time": "2022-08-24T13:06:22.710Z"
   },
   {
    "duration": 39,
    "start_time": "2022-08-24T13:06:23.174Z"
   },
   {
    "duration": 54,
    "start_time": "2022-08-24T13:06:23.413Z"
   },
   {
    "duration": 27,
    "start_time": "2022-08-24T13:06:23.656Z"
   },
   {
    "duration": 22,
    "start_time": "2022-08-24T13:06:23.931Z"
   },
   {
    "duration": 31,
    "start_time": "2022-08-24T13:06:24.180Z"
   },
   {
    "duration": 25,
    "start_time": "2022-08-24T13:06:24.443Z"
   },
   {
    "duration": 14,
    "start_time": "2022-08-24T13:06:24.726Z"
   },
   {
    "duration": 12,
    "start_time": "2022-08-24T13:06:24.962Z"
   },
   {
    "duration": 16,
    "start_time": "2022-08-24T13:06:25.208Z"
   },
   {
    "duration": 22,
    "start_time": "2022-08-24T13:06:26.242Z"
   },
   {
    "duration": 3,
    "start_time": "2022-08-24T13:06:26.954Z"
   },
   {
    "duration": 4,
    "start_time": "2022-08-24T13:06:27.670Z"
   },
   {
    "duration": 68,
    "start_time": "2022-08-24T13:06:28.405Z"
   },
   {
    "duration": 3,
    "start_time": "2022-08-24T13:07:54.854Z"
   },
   {
    "duration": 4,
    "start_time": "2022-08-24T13:08:05.530Z"
   },
   {
    "duration": 66,
    "start_time": "2022-08-24T13:08:40.178Z"
   },
   {
    "duration": 4,
    "start_time": "2022-08-24T13:08:56.143Z"
   },
   {
    "duration": 4,
    "start_time": "2022-08-24T13:08:59.717Z"
   },
   {
    "duration": 5,
    "start_time": "2022-08-24T13:09:03.748Z"
   },
   {
    "duration": 3,
    "start_time": "2022-08-24T13:09:07.734Z"
   },
   {
    "duration": 4,
    "start_time": "2022-08-24T13:09:10.472Z"
   },
   {
    "duration": 13,
    "start_time": "2022-08-24T13:09:36.144Z"
   },
   {
    "duration": 4,
    "start_time": "2022-08-24T13:10:25.350Z"
   },
   {
    "duration": 3,
    "start_time": "2022-08-24T13:22:06.375Z"
   },
   {
    "duration": 3,
    "start_time": "2022-08-24T13:22:15.915Z"
   },
   {
    "duration": 17,
    "start_time": "2022-08-24T13:22:55.746Z"
   },
   {
    "duration": 3,
    "start_time": "2022-08-24T13:23:25.453Z"
   },
   {
    "duration": 4,
    "start_time": "2022-08-24T13:23:26.839Z"
   },
   {
    "duration": 82,
    "start_time": "2022-08-24T13:23:28.079Z"
   },
   {
    "duration": 1356,
    "start_time": "2022-08-24T13:25:27.473Z"
   },
   {
    "duration": 5,
    "start_time": "2022-08-24T13:25:46.912Z"
   },
   {
    "duration": 26,
    "start_time": "2022-08-24T13:26:01.401Z"
   },
   {
    "duration": 28,
    "start_time": "2022-08-24T13:26:33.656Z"
   },
   {
    "duration": 5,
    "start_time": "2022-08-24T13:36:48.096Z"
   },
   {
    "duration": 7,
    "start_time": "2022-08-24T13:37:12.998Z"
   },
   {
    "duration": 11,
    "start_time": "2022-08-24T13:37:19.937Z"
   },
   {
    "duration": 10,
    "start_time": "2022-08-24T13:37:25.635Z"
   },
   {
    "duration": 12,
    "start_time": "2022-08-24T13:37:30.336Z"
   },
   {
    "duration": 10,
    "start_time": "2022-08-24T13:44:19.342Z"
   },
   {
    "duration": 346,
    "start_time": "2022-08-24T13:44:33.536Z"
   },
   {
    "duration": 12,
    "start_time": "2022-08-24T13:44:34.192Z"
   },
   {
    "duration": 12,
    "start_time": "2022-08-24T13:44:34.411Z"
   },
   {
    "duration": 35,
    "start_time": "2022-08-24T13:44:34.634Z"
   },
   {
    "duration": 9,
    "start_time": "2022-08-24T13:44:34.845Z"
   },
   {
    "duration": 17,
    "start_time": "2022-08-24T13:44:35.058Z"
   },
   {
    "duration": 9,
    "start_time": "2022-08-24T13:44:35.279Z"
   },
   {
    "duration": 26,
    "start_time": "2022-08-24T13:44:35.498Z"
   },
   {
    "duration": 11,
    "start_time": "2022-08-24T13:44:35.734Z"
   },
   {
    "duration": 10,
    "start_time": "2022-08-24T13:44:35.931Z"
   },
   {
    "duration": 12,
    "start_time": "2022-08-24T13:44:36.157Z"
   },
   {
    "duration": 12,
    "start_time": "2022-08-24T13:44:36.741Z"
   },
   {
    "duration": 34,
    "start_time": "2022-08-24T13:44:36.950Z"
   },
   {
    "duration": 24,
    "start_time": "2022-08-24T13:44:37.168Z"
   },
   {
    "duration": 36,
    "start_time": "2022-08-24T13:44:37.386Z"
   },
   {
    "duration": 9,
    "start_time": "2022-08-24T13:44:37.781Z"
   },
   {
    "duration": 123,
    "start_time": "2022-08-24T13:44:38.188Z"
   },
   {
    "duration": 83,
    "start_time": "2022-08-24T13:44:38.621Z"
   },
   {
    "duration": 52,
    "start_time": "2022-08-24T13:44:38.855Z"
   },
   {
    "duration": 27,
    "start_time": "2022-08-24T13:44:39.085Z"
   },
   {
    "duration": 20,
    "start_time": "2022-08-24T13:44:39.317Z"
   },
   {
    "duration": 31,
    "start_time": "2022-08-24T13:44:39.553Z"
   },
   {
    "duration": 25,
    "start_time": "2022-08-24T13:44:39.782Z"
   },
   {
    "duration": 14,
    "start_time": "2022-08-24T13:44:40.024Z"
   },
   {
    "duration": 14,
    "start_time": "2022-08-24T13:44:40.270Z"
   },
   {
    "duration": 20,
    "start_time": "2022-08-24T13:44:40.516Z"
   },
   {
    "duration": 23,
    "start_time": "2022-08-24T13:44:40.904Z"
   },
   {
    "duration": 4,
    "start_time": "2022-08-24T13:44:41.427Z"
   },
   {
    "duration": 4,
    "start_time": "2022-08-24T13:44:42.074Z"
   },
   {
    "duration": 59,
    "start_time": "2022-08-24T13:44:42.257Z"
   },
   {
    "duration": 4,
    "start_time": "2022-08-24T13:44:42.441Z"
   },
   {
    "duration": 5,
    "start_time": "2022-08-24T13:44:42.628Z"
   },
   {
    "duration": 59,
    "start_time": "2022-08-24T13:44:42.860Z"
   },
   {
    "duration": 4,
    "start_time": "2022-08-24T13:44:43.087Z"
   },
   {
    "duration": 4,
    "start_time": "2022-08-24T13:44:43.294Z"
   },
   {
    "duration": 63,
    "start_time": "2022-08-24T13:44:43.512Z"
   },
   {
    "duration": 28,
    "start_time": "2022-08-24T13:44:43.744Z"
   },
   {
    "duration": 11,
    "start_time": "2022-08-24T13:45:11.782Z"
   },
   {
    "duration": 11,
    "start_time": "2022-08-24T13:45:15.830Z"
   },
   {
    "duration": 107,
    "start_time": "2022-08-24T13:45:16.285Z"
   },
   {
    "duration": 45,
    "start_time": "2022-08-24T13:45:16.728Z"
   },
   {
    "duration": 53,
    "start_time": "2022-08-24T13:45:16.968Z"
   },
   {
    "duration": 25,
    "start_time": "2022-08-24T13:45:17.193Z"
   },
   {
    "duration": 19,
    "start_time": "2022-08-24T13:45:17.417Z"
   },
   {
    "duration": 28,
    "start_time": "2022-08-24T13:45:17.649Z"
   },
   {
    "duration": 24,
    "start_time": "2022-08-24T13:45:17.881Z"
   },
   {
    "duration": 17,
    "start_time": "2022-08-24T13:45:18.104Z"
   },
   {
    "duration": 12,
    "start_time": "2022-08-24T13:45:18.314Z"
   },
   {
    "duration": 17,
    "start_time": "2022-08-24T13:45:18.554Z"
   },
   {
    "duration": 22,
    "start_time": "2022-08-24T13:45:18.772Z"
   },
   {
    "duration": 3,
    "start_time": "2022-08-24T13:45:18.995Z"
   },
   {
    "duration": 4,
    "start_time": "2022-08-24T13:45:19.205Z"
   },
   {
    "duration": 61,
    "start_time": "2022-08-24T13:45:19.424Z"
   },
   {
    "duration": 4,
    "start_time": "2022-08-24T13:45:19.648Z"
   },
   {
    "duration": 4,
    "start_time": "2022-08-24T13:45:19.907Z"
   },
   {
    "duration": 65,
    "start_time": "2022-08-24T13:45:20.134Z"
   },
   {
    "duration": 3,
    "start_time": "2022-08-24T13:45:20.357Z"
   },
   {
    "duration": 4,
    "start_time": "2022-08-24T13:45:20.601Z"
   },
   {
    "duration": 65,
    "start_time": "2022-08-24T13:45:20.843Z"
   },
   {
    "duration": 29,
    "start_time": "2022-08-24T13:45:21.200Z"
   },
   {
    "duration": 4,
    "start_time": "2022-08-24T13:55:20.281Z"
   },
   {
    "duration": 4,
    "start_time": "2022-08-24T13:55:24.040Z"
   },
   {
    "duration": 5,
    "start_time": "2022-08-24T13:55:36.062Z"
   },
   {
    "duration": 4,
    "start_time": "2022-08-24T13:55:39.630Z"
   },
   {
    "duration": 4,
    "start_time": "2022-08-24T13:55:43.745Z"
   },
   {
    "duration": 5,
    "start_time": "2022-08-24T13:55:47.203Z"
   },
   {
    "duration": 9,
    "start_time": "2022-08-24T13:57:05.805Z"
   },
   {
    "duration": 26,
    "start_time": "2022-08-24T14:18:33.719Z"
   },
   {
    "duration": 182,
    "start_time": "2022-08-24T14:20:21.779Z"
   },
   {
    "duration": 164,
    "start_time": "2022-08-24T14:20:44.013Z"
   },
   {
    "duration": 130,
    "start_time": "2022-08-24T14:20:55.280Z"
   },
   {
    "duration": 140,
    "start_time": "2022-08-24T14:21:04.586Z"
   },
   {
    "duration": 206,
    "start_time": "2022-08-24T14:21:10.601Z"
   },
   {
    "duration": 133,
    "start_time": "2022-08-24T14:21:51.481Z"
   },
   {
    "duration": 145,
    "start_time": "2022-08-24T14:22:23.268Z"
   },
   {
    "duration": 133,
    "start_time": "2022-08-24T14:22:55.217Z"
   },
   {
    "duration": 137,
    "start_time": "2022-08-24T14:23:17.342Z"
   },
   {
    "duration": 12,
    "start_time": "2022-08-24T14:26:34.315Z"
   },
   {
    "duration": 300,
    "start_time": "2022-08-24T14:26:48.021Z"
   },
   {
    "duration": 228,
    "start_time": "2022-08-24T14:36:27.837Z"
   },
   {
    "duration": 214,
    "start_time": "2022-08-24T15:06:31.303Z"
   },
   {
    "duration": 378,
    "start_time": "2022-08-25T08:08:42.562Z"
   },
   {
    "duration": 12,
    "start_time": "2022-08-25T08:08:43.597Z"
   },
   {
    "duration": 11,
    "start_time": "2022-08-25T08:08:43.982Z"
   },
   {
    "duration": 32,
    "start_time": "2022-08-25T08:08:44.503Z"
   },
   {
    "duration": 12,
    "start_time": "2022-08-25T08:08:44.853Z"
   },
   {
    "duration": 17,
    "start_time": "2022-08-25T08:08:45.219Z"
   },
   {
    "duration": 12,
    "start_time": "2022-08-25T08:08:45.908Z"
   },
   {
    "duration": 30,
    "start_time": "2022-08-25T08:08:46.552Z"
   },
   {
    "duration": 12,
    "start_time": "2022-08-25T08:08:47.485Z"
   },
   {
    "duration": 18,
    "start_time": "2022-08-25T08:08:47.814Z"
   },
   {
    "duration": 15,
    "start_time": "2022-08-25T08:08:48.031Z"
   },
   {
    "duration": 21,
    "start_time": "2022-08-25T08:08:48.642Z"
   },
   {
    "duration": 58,
    "start_time": "2022-08-25T08:08:49.301Z"
   },
   {
    "duration": 27,
    "start_time": "2022-08-25T08:08:50.053Z"
   },
   {
    "duration": 33,
    "start_time": "2022-08-25T08:08:51.252Z"
   },
   {
    "duration": 118,
    "start_time": "2022-08-25T08:08:51.954Z"
   },
   {
    "duration": 40,
    "start_time": "2022-08-25T08:08:53.400Z"
   },
   {
    "duration": 53,
    "start_time": "2022-08-25T08:08:54.223Z"
   },
   {
    "duration": 111,
    "start_time": "2022-08-25T08:08:56.208Z"
   },
   {
    "duration": 30,
    "start_time": "2022-08-25T08:08:56.895Z"
   },
   {
    "duration": 39,
    "start_time": "2022-08-25T08:08:58.085Z"
   },
   {
    "duration": 26,
    "start_time": "2022-08-25T08:08:59.754Z"
   },
   {
    "duration": 16,
    "start_time": "2022-08-25T08:09:01.751Z"
   },
   {
    "duration": 13,
    "start_time": "2022-08-25T08:09:13.987Z"
   },
   {
    "duration": 16,
    "start_time": "2022-08-25T08:09:22.213Z"
   },
   {
    "duration": 22,
    "start_time": "2022-08-25T08:09:24.521Z"
   },
   {
    "duration": 4,
    "start_time": "2022-08-25T08:09:32.252Z"
   },
   {
    "duration": 5,
    "start_time": "2022-08-25T08:09:33.192Z"
   },
   {
    "duration": 65,
    "start_time": "2022-08-25T08:09:33.834Z"
   },
   {
    "duration": 4,
    "start_time": "2022-08-25T08:09:34.700Z"
   },
   {
    "duration": 3,
    "start_time": "2022-08-25T08:09:40.624Z"
   },
   {
    "duration": 4,
    "start_time": "2022-08-25T08:09:50.370Z"
   },
   {
    "duration": 4,
    "start_time": "2022-08-25T08:09:51.093Z"
   },
   {
    "duration": 64,
    "start_time": "2022-08-25T08:09:53.823Z"
   },
   {
    "duration": 1381,
    "start_time": "2022-08-25T08:09:54.966Z"
   },
   {
    "duration": 6,
    "start_time": "2022-08-25T08:10:06.817Z"
   },
   {
    "duration": 5,
    "start_time": "2022-08-25T08:10:07.759Z"
   },
   {
    "duration": 96,
    "start_time": "2022-08-25T08:10:08.553Z"
   },
   {
    "duration": 4,
    "start_time": "2022-08-25T08:10:09.338Z"
   },
   {
    "duration": 5,
    "start_time": "2022-08-25T08:10:09.903Z"
   },
   {
    "duration": 83,
    "start_time": "2022-08-25T08:10:10.895Z"
   },
   {
    "duration": 23,
    "start_time": "2022-08-25T08:10:12.583Z"
   },
   {
    "duration": 141,
    "start_time": "2022-08-25T08:10:27.610Z"
   },
   {
    "duration": 192,
    "start_time": "2022-08-25T08:12:16.981Z"
   },
   {
    "duration": 148,
    "start_time": "2022-08-25T08:12:56.557Z"
   },
   {
    "duration": 151,
    "start_time": "2022-08-25T08:13:28.175Z"
   },
   {
    "duration": 180,
    "start_time": "2022-08-25T08:13:35.676Z"
   },
   {
    "duration": 161,
    "start_time": "2022-08-25T08:13:55.066Z"
   },
   {
    "duration": 162,
    "start_time": "2022-08-25T08:15:02.486Z"
   },
   {
    "duration": 86,
    "start_time": "2022-08-25T08:15:15.223Z"
   },
   {
    "duration": 170,
    "start_time": "2022-08-25T08:15:21.300Z"
   },
   {
    "duration": 172,
    "start_time": "2022-08-25T08:21:52.329Z"
   },
   {
    "duration": 173,
    "start_time": "2022-08-25T08:22:11.794Z"
   },
   {
    "duration": 208,
    "start_time": "2022-08-25T08:23:10.087Z"
   },
   {
    "duration": 234,
    "start_time": "2022-08-25T08:23:44.521Z"
   },
   {
    "duration": 18,
    "start_time": "2022-08-25T08:28:21.788Z"
   },
   {
    "duration": 15,
    "start_time": "2022-08-25T08:28:37.804Z"
   },
   {
    "duration": 12,
    "start_time": "2022-08-25T08:28:46.624Z"
   },
   {
    "duration": 14,
    "start_time": "2022-08-25T08:29:07.589Z"
   },
   {
    "duration": 13,
    "start_time": "2022-08-25T08:30:41.799Z"
   },
   {
    "duration": 16,
    "start_time": "2022-08-25T08:30:56.684Z"
   },
   {
    "duration": 6,
    "start_time": "2022-08-25T08:37:12.085Z"
   },
   {
    "duration": 6,
    "start_time": "2022-08-25T08:37:55.367Z"
   },
   {
    "duration": 138,
    "start_time": "2022-08-25T08:38:20.989Z"
   },
   {
    "duration": 523,
    "start_time": "2022-08-25T08:38:57.270Z"
   },
   {
    "duration": 326,
    "start_time": "2022-08-25T08:39:02.072Z"
   },
   {
    "duration": 5,
    "start_time": "2022-08-25T08:49:33.571Z"
   },
   {
    "duration": 319,
    "start_time": "2022-08-25T08:49:34.861Z"
   },
   {
    "duration": 5,
    "start_time": "2022-08-25T08:55:39.928Z"
   },
   {
    "duration": 346,
    "start_time": "2022-08-25T08:55:42.919Z"
   },
   {
    "duration": 4,
    "start_time": "2022-08-25T08:55:52.811Z"
   },
   {
    "duration": 331,
    "start_time": "2022-08-25T08:55:54.578Z"
   },
   {
    "duration": 5,
    "start_time": "2022-08-25T08:56:06.553Z"
   },
   {
    "duration": 430,
    "start_time": "2022-08-25T09:23:11.675Z"
   },
   {
    "duration": 19,
    "start_time": "2022-08-25T09:23:12.487Z"
   },
   {
    "duration": 11,
    "start_time": "2022-08-25T09:23:12.671Z"
   },
   {
    "duration": 39,
    "start_time": "2022-08-25T09:23:12.860Z"
   },
   {
    "duration": 9,
    "start_time": "2022-08-25T09:23:13.042Z"
   },
   {
    "duration": 28,
    "start_time": "2022-08-25T09:23:13.213Z"
   },
   {
    "duration": 14,
    "start_time": "2022-08-25T09:23:13.392Z"
   },
   {
    "duration": 30,
    "start_time": "2022-08-25T09:23:13.573Z"
   },
   {
    "duration": 13,
    "start_time": "2022-08-25T09:23:13.764Z"
   },
   {
    "duration": 112,
    "start_time": "2022-08-25T09:23:13.946Z"
   },
   {
    "duration": 10,
    "start_time": "2022-08-25T09:23:14.121Z"
   },
   {
    "duration": 15,
    "start_time": "2022-08-25T09:23:14.782Z"
   },
   {
    "duration": 36,
    "start_time": "2022-08-25T09:23:15.127Z"
   },
   {
    "duration": 39,
    "start_time": "2022-08-25T09:23:15.337Z"
   },
   {
    "duration": 49,
    "start_time": "2022-08-25T09:23:15.552Z"
   },
   {
    "duration": 135,
    "start_time": "2022-08-25T09:23:16.532Z"
   },
   {
    "duration": 39,
    "start_time": "2022-08-25T09:23:17.279Z"
   },
   {
    "duration": 56,
    "start_time": "2022-08-25T09:23:17.698Z"
   },
   {
    "duration": 35,
    "start_time": "2022-08-25T09:23:18.270Z"
   },
   {
    "duration": 29,
    "start_time": "2022-08-25T09:23:18.810Z"
   },
   {
    "duration": 42,
    "start_time": "2022-08-25T09:23:19.259Z"
   },
   {
    "duration": 28,
    "start_time": "2022-08-25T09:23:19.802Z"
   },
   {
    "duration": 19,
    "start_time": "2022-08-25T09:23:20.338Z"
   },
   {
    "duration": 18,
    "start_time": "2022-08-25T09:23:20.961Z"
   },
   {
    "duration": 21,
    "start_time": "2022-08-25T09:23:21.798Z"
   },
   {
    "duration": 32,
    "start_time": "2022-08-25T09:23:22.389Z"
   },
   {
    "duration": 4,
    "start_time": "2022-08-25T09:23:22.844Z"
   },
   {
    "duration": 4,
    "start_time": "2022-08-25T09:23:23.327Z"
   },
   {
    "duration": 70,
    "start_time": "2022-08-25T09:23:23.756Z"
   },
   {
    "duration": 3,
    "start_time": "2022-08-25T09:23:24.171Z"
   },
   {
    "duration": 5,
    "start_time": "2022-08-25T09:23:24.577Z"
   },
   {
    "duration": 75,
    "start_time": "2022-08-25T09:23:24.956Z"
   },
   {
    "duration": 3,
    "start_time": "2022-08-25T09:23:25.188Z"
   },
   {
    "duration": 10,
    "start_time": "2022-08-25T09:23:25.401Z"
   },
   {
    "duration": 76,
    "start_time": "2022-08-25T09:23:25.581Z"
   },
   {
    "duration": 24,
    "start_time": "2022-08-25T09:23:25.766Z"
   },
   {
    "duration": 147,
    "start_time": "2022-08-25T09:23:26.436Z"
   },
   {
    "duration": 137,
    "start_time": "2022-08-25T09:23:26.845Z"
   },
   {
    "duration": 154,
    "start_time": "2022-08-25T09:23:27.265Z"
   },
   {
    "duration": 232,
    "start_time": "2022-08-25T09:23:27.720Z"
   },
   {
    "duration": 347,
    "start_time": "2022-08-25T09:23:28.190Z"
   },
   {
    "duration": 243,
    "start_time": "2022-08-25T09:23:29.081Z"
   },
   {
    "duration": 13,
    "start_time": "2022-08-25T09:23:29.734Z"
   },
   {
    "duration": 13,
    "start_time": "2022-08-25T09:23:30.473Z"
   },
   {
    "duration": 16,
    "start_time": "2022-08-25T09:23:31.348Z"
   },
   {
    "duration": 5,
    "start_time": "2022-08-25T09:23:32.185Z"
   },
   {
    "duration": 448,
    "start_time": "2022-08-25T09:23:33.180Z"
   },
   {
    "duration": 8,
    "start_time": "2022-08-25T09:25:33.756Z"
   },
   {
    "duration": 8,
    "start_time": "2022-08-25T09:25:44.559Z"
   },
   {
    "duration": 9,
    "start_time": "2022-08-25T09:26:20.024Z"
   },
   {
    "duration": 20,
    "start_time": "2022-08-25T09:26:23.948Z"
   },
   {
    "duration": 323,
    "start_time": "2022-08-25T09:27:44.409Z"
   },
   {
    "duration": 325,
    "start_time": "2022-08-25T09:27:59.529Z"
   },
   {
    "duration": 109,
    "start_time": "2022-08-25T09:39:57.250Z"
   },
   {
    "duration": 667,
    "start_time": "2022-08-25T09:40:20.891Z"
   },
   {
    "duration": 19,
    "start_time": "2022-08-25T09:40:43.735Z"
   },
   {
    "duration": 318,
    "start_time": "2022-08-25T09:41:08.880Z"
   },
   {
    "duration": 126,
    "start_time": "2022-08-25T09:43:21.245Z"
   },
   {
    "duration": 328,
    "start_time": "2022-08-25T09:43:26.073Z"
   },
   {
    "duration": 12,
    "start_time": "2022-08-25T09:55:44.264Z"
   },
   {
    "duration": 4,
    "start_time": "2022-08-25T09:56:32.524Z"
   },
   {
    "duration": 426,
    "start_time": "2022-08-25T09:56:35.088Z"
   },
   {
    "duration": 419,
    "start_time": "2022-08-25T10:00:23.580Z"
   },
   {
    "duration": 6,
    "start_time": "2022-08-25T10:00:29.845Z"
   },
   {
    "duration": 328,
    "start_time": "2022-08-25T10:00:31.446Z"
   },
   {
    "duration": 5,
    "start_time": "2022-08-25T10:03:13.631Z"
   },
   {
    "duration": 312,
    "start_time": "2022-08-25T10:03:15.572Z"
   },
   {
    "duration": 5,
    "start_time": "2022-08-25T10:06:55.400Z"
   },
   {
    "duration": 297,
    "start_time": "2022-08-25T10:06:56.626Z"
   },
   {
    "duration": 289,
    "start_time": "2022-08-25T10:11:26.185Z"
   },
   {
    "duration": 128,
    "start_time": "2022-08-25T10:11:41.651Z"
   },
   {
    "duration": 472,
    "start_time": "2022-08-25T10:11:48.281Z"
   },
   {
    "duration": 451,
    "start_time": "2022-08-25T10:21:15.418Z"
   },
   {
    "duration": 687,
    "start_time": "2022-08-25T10:21:45.124Z"
   },
   {
    "duration": 429,
    "start_time": "2022-08-25T10:21:54.064Z"
   },
   {
    "duration": 100,
    "start_time": "2022-08-25T10:22:50.342Z"
   },
   {
    "duration": 86,
    "start_time": "2022-08-25T10:22:54.886Z"
   },
   {
    "duration": 6,
    "start_time": "2022-08-25T10:23:19.720Z"
   },
   {
    "duration": 9,
    "start_time": "2022-08-25T10:24:49.052Z"
   },
   {
    "duration": 3,
    "start_time": "2022-08-25T10:25:27.267Z"
   },
   {
    "duration": 7,
    "start_time": "2022-08-25T10:25:37.944Z"
   },
   {
    "duration": 3,
    "start_time": "2022-08-25T10:25:52.789Z"
   },
   {
    "duration": 8,
    "start_time": "2022-08-25T10:26:13.790Z"
   },
   {
    "duration": 8,
    "start_time": "2022-08-25T10:26:52.248Z"
   },
   {
    "duration": 430,
    "start_time": "2022-08-25T10:27:08.081Z"
   },
   {
    "duration": 11,
    "start_time": "2022-08-25T10:27:11.720Z"
   },
   {
    "duration": 3,
    "start_time": "2022-08-25T10:27:18.107Z"
   },
   {
    "duration": 100,
    "start_time": "2022-08-25T10:27:19.578Z"
   },
   {
    "duration": 348,
    "start_time": "2022-08-25T10:27:59.761Z"
   },
   {
    "duration": 11,
    "start_time": "2022-08-25T10:28:00.328Z"
   },
   {
    "duration": 12,
    "start_time": "2022-08-25T10:28:00.496Z"
   },
   {
    "duration": 23,
    "start_time": "2022-08-25T10:28:00.682Z"
   },
   {
    "duration": 9,
    "start_time": "2022-08-25T10:28:00.854Z"
   },
   {
    "duration": 17,
    "start_time": "2022-08-25T10:28:01.044Z"
   },
   {
    "duration": 9,
    "start_time": "2022-08-25T10:28:01.225Z"
   },
   {
    "duration": 21,
    "start_time": "2022-08-25T10:28:01.388Z"
   },
   {
    "duration": 9,
    "start_time": "2022-08-25T10:28:01.570Z"
   },
   {
    "duration": 12,
    "start_time": "2022-08-25T10:28:01.987Z"
   },
   {
    "duration": 10,
    "start_time": "2022-08-25T10:28:02.195Z"
   },
   {
    "duration": 14,
    "start_time": "2022-08-25T10:28:02.889Z"
   },
   {
    "duration": 62,
    "start_time": "2022-08-25T10:28:03.108Z"
   },
   {
    "duration": 36,
    "start_time": "2022-08-25T10:28:03.330Z"
   },
   {
    "duration": 30,
    "start_time": "2022-08-25T10:28:03.535Z"
   },
   {
    "duration": 90,
    "start_time": "2022-08-25T10:28:04.287Z"
   },
   {
    "duration": 147,
    "start_time": "2022-08-25T10:28:04.729Z"
   },
   {
    "duration": 40,
    "start_time": "2022-08-25T10:28:04.934Z"
   },
   {
    "duration": 26,
    "start_time": "2022-08-25T10:28:05.158Z"
   },
   {
    "duration": 18,
    "start_time": "2022-08-25T10:28:05.403Z"
   },
   {
    "duration": 31,
    "start_time": "2022-08-25T10:28:05.619Z"
   },
   {
    "duration": 20,
    "start_time": "2022-08-25T10:28:05.864Z"
   },
   {
    "duration": 14,
    "start_time": "2022-08-25T10:28:06.062Z"
   },
   {
    "duration": 13,
    "start_time": "2022-08-25T10:28:06.264Z"
   },
   {
    "duration": 25,
    "start_time": "2022-08-25T10:28:06.498Z"
   },
   {
    "duration": 30,
    "start_time": "2022-08-25T10:28:06.694Z"
   },
   {
    "duration": 4,
    "start_time": "2022-08-25T10:28:06.918Z"
   },
   {
    "duration": 4,
    "start_time": "2022-08-25T10:28:07.123Z"
   },
   {
    "duration": 65,
    "start_time": "2022-08-25T10:28:07.341Z"
   },
   {
    "duration": 3,
    "start_time": "2022-08-25T10:28:07.551Z"
   },
   {
    "duration": 4,
    "start_time": "2022-08-25T10:28:07.794Z"
   },
   {
    "duration": 81,
    "start_time": "2022-08-25T10:28:08.019Z"
   },
   {
    "duration": 5,
    "start_time": "2022-08-25T10:28:08.239Z"
   },
   {
    "duration": 4,
    "start_time": "2022-08-25T10:28:08.444Z"
   },
   {
    "duration": 64,
    "start_time": "2022-08-25T10:28:08.652Z"
   },
   {
    "duration": 23,
    "start_time": "2022-08-25T10:28:08.858Z"
   },
   {
    "duration": 143,
    "start_time": "2022-08-25T10:28:09.509Z"
   },
   {
    "duration": 128,
    "start_time": "2022-08-25T10:28:09.971Z"
   },
   {
    "duration": 135,
    "start_time": "2022-08-25T10:28:10.479Z"
   },
   {
    "duration": 229,
    "start_time": "2022-08-25T10:28:10.928Z"
   },
   {
    "duration": 234,
    "start_time": "2022-08-25T10:28:11.353Z"
   },
   {
    "duration": 219,
    "start_time": "2022-08-25T10:28:11.788Z"
   },
   {
    "duration": 13,
    "start_time": "2022-08-25T10:28:12.211Z"
   },
   {
    "duration": 11,
    "start_time": "2022-08-25T10:28:12.423Z"
   },
   {
    "duration": 11,
    "start_time": "2022-08-25T10:28:12.669Z"
   },
   {
    "duration": 4,
    "start_time": "2022-08-25T10:28:12.863Z"
   },
   {
    "duration": 336,
    "start_time": "2022-08-25T10:28:13.124Z"
   },
   {
    "duration": 421,
    "start_time": "2022-08-25T10:28:13.462Z"
   },
   {
    "duration": 353,
    "start_time": "2022-08-25T10:28:14.014Z"
   },
   {
    "duration": 437,
    "start_time": "2022-08-25T10:28:14.701Z"
   },
   {
    "duration": 7,
    "start_time": "2022-08-25T10:28:15.140Z"
   },
   {
    "duration": 11,
    "start_time": "2022-08-25T10:28:15.208Z"
   },
   {
    "duration": 3,
    "start_time": "2022-08-25T10:28:15.418Z"
   },
   {
    "duration": 5,
    "start_time": "2022-08-25T10:28:15.636Z"
   },
   {
    "duration": 3,
    "start_time": "2022-08-25T10:28:15.840Z"
   },
   {
    "duration": 6,
    "start_time": "2022-08-25T10:28:16.422Z"
   },
   {
    "duration": 3,
    "start_time": "2022-08-25T10:28:16.794Z"
   },
   {
    "duration": 153,
    "start_time": "2022-08-25T10:28:17.020Z"
   },
   {
    "duration": 6,
    "start_time": "2022-08-25T10:29:06.103Z"
   },
   {
    "duration": 2,
    "start_time": "2022-08-25T10:29:06.722Z"
   },
   {
    "duration": 128,
    "start_time": "2022-08-25T10:29:07.379Z"
   },
   {
    "duration": 4,
    "start_time": "2022-08-25T10:48:24.205Z"
   },
   {
    "duration": 8,
    "start_time": "2022-08-25T10:48:26.173Z"
   },
   {
    "duration": 4,
    "start_time": "2022-08-25T10:48:28.669Z"
   },
   {
    "duration": 6,
    "start_time": "2022-08-25T10:48:34.858Z"
   },
   {
    "duration": 3,
    "start_time": "2022-08-25T10:49:07.981Z"
   },
   {
    "duration": 9,
    "start_time": "2022-08-25T10:49:21.028Z"
   },
   {
    "duration": 5,
    "start_time": "2022-08-25T10:49:23.475Z"
   },
   {
    "duration": 5,
    "start_time": "2022-08-25T10:49:53.454Z"
   },
   {
    "duration": 5,
    "start_time": "2022-08-25T10:50:03.237Z"
   },
   {
    "duration": 4,
    "start_time": "2022-08-25T10:50:50.159Z"
   },
   {
    "duration": 6,
    "start_time": "2022-08-25T10:51:25.960Z"
   },
   {
    "duration": 4,
    "start_time": "2022-08-25T10:51:50.003Z"
   },
   {
    "duration": 40,
    "start_time": "2022-08-25T10:56:58.748Z"
   },
   {
    "duration": 19,
    "start_time": "2022-08-25T11:36:36.813Z"
   },
   {
    "duration": 19,
    "start_time": "2022-08-25T11:36:51.974Z"
   },
   {
    "duration": 41,
    "start_time": "2022-08-25T11:37:08.843Z"
   },
   {
    "duration": 31,
    "start_time": "2022-08-25T11:37:50.588Z"
   },
   {
    "duration": 19,
    "start_time": "2022-08-25T11:38:29.954Z"
   },
   {
    "duration": 1689,
    "start_time": "2022-08-25T11:39:37.477Z"
   },
   {
    "duration": 8,
    "start_time": "2022-08-25T11:41:33.592Z"
   },
   {
    "duration": 17,
    "start_time": "2022-08-25T11:41:42.148Z"
   },
   {
    "duration": 19,
    "start_time": "2022-08-25T11:42:01.049Z"
   },
   {
    "duration": 124,
    "start_time": "2022-08-25T11:42:29.545Z"
   },
   {
    "duration": 73,
    "start_time": "2022-08-25T11:42:38.907Z"
   },
   {
    "duration": 84,
    "start_time": "2022-08-25T11:43:06.892Z"
   },
   {
    "duration": 143,
    "start_time": "2022-08-25T11:43:10.197Z"
   },
   {
    "duration": 26,
    "start_time": "2022-08-25T11:43:18.032Z"
   },
   {
    "duration": 376,
    "start_time": "2022-08-25T11:43:40.670Z"
   },
   {
    "duration": 11,
    "start_time": "2022-08-25T11:43:41.270Z"
   },
   {
    "duration": 12,
    "start_time": "2022-08-25T11:43:41.453Z"
   },
   {
    "duration": 35,
    "start_time": "2022-08-25T11:43:41.636Z"
   },
   {
    "duration": 9,
    "start_time": "2022-08-25T11:43:41.854Z"
   },
   {
    "duration": 17,
    "start_time": "2022-08-25T11:43:42.052Z"
   },
   {
    "duration": 9,
    "start_time": "2022-08-25T11:43:42.232Z"
   },
   {
    "duration": 19,
    "start_time": "2022-08-25T11:43:42.443Z"
   },
   {
    "duration": 13,
    "start_time": "2022-08-25T11:43:42.634Z"
   },
   {
    "duration": 16,
    "start_time": "2022-08-25T11:43:42.829Z"
   },
   {
    "duration": 10,
    "start_time": "2022-08-25T11:43:43.012Z"
   },
   {
    "duration": 12,
    "start_time": "2022-08-25T11:43:43.834Z"
   },
   {
    "duration": 37,
    "start_time": "2022-08-25T11:43:44.030Z"
   },
   {
    "duration": 24,
    "start_time": "2022-08-25T11:43:44.212Z"
   },
   {
    "duration": 29,
    "start_time": "2022-08-25T11:43:44.437Z"
   },
   {
    "duration": 99,
    "start_time": "2022-08-25T11:43:45.013Z"
   },
   {
    "duration": 47,
    "start_time": "2022-08-25T11:43:45.420Z"
   },
   {
    "duration": 56,
    "start_time": "2022-08-25T11:43:45.878Z"
   },
   {
    "duration": 28,
    "start_time": "2022-08-25T11:43:46.242Z"
   },
   {
    "duration": 19,
    "start_time": "2022-08-25T11:43:46.417Z"
   },
   {
    "duration": 33,
    "start_time": "2022-08-25T11:43:46.579Z"
   },
   {
    "duration": 21,
    "start_time": "2022-08-25T11:43:47.007Z"
   },
   {
    "duration": 20,
    "start_time": "2022-08-25T11:43:47.185Z"
   },
   {
    "duration": 17,
    "start_time": "2022-08-25T11:43:47.357Z"
   },
   {
    "duration": 19,
    "start_time": "2022-08-25T11:43:47.533Z"
   },
   {
    "duration": 17,
    "start_time": "2022-08-25T11:43:47.708Z"
   },
   {
    "duration": 4,
    "start_time": "2022-08-25T11:43:47.912Z"
   },
   {
    "duration": 6,
    "start_time": "2022-08-25T11:43:48.100Z"
   },
   {
    "duration": 78,
    "start_time": "2022-08-25T11:43:48.354Z"
   },
   {
    "duration": 3,
    "start_time": "2022-08-25T11:43:48.533Z"
   },
   {
    "duration": 5,
    "start_time": "2022-08-25T11:43:48.719Z"
   },
   {
    "duration": 63,
    "start_time": "2022-08-25T11:43:48.927Z"
   },
   {
    "duration": 4,
    "start_time": "2022-08-25T11:43:49.121Z"
   },
   {
    "duration": 4,
    "start_time": "2022-08-25T11:43:49.308Z"
   },
   {
    "duration": 65,
    "start_time": "2022-08-25T11:43:49.513Z"
   },
   {
    "duration": 23,
    "start_time": "2022-08-25T11:43:49.725Z"
   },
   {
    "duration": 24,
    "start_time": "2022-08-25T11:43:49.928Z"
   },
   {
    "duration": 188,
    "start_time": "2022-08-25T11:43:50.122Z"
   },
   {
    "duration": 267,
    "start_time": "2022-08-25T11:43:50.748Z"
   },
   {
    "duration": 153,
    "start_time": "2022-08-25T11:43:51.185Z"
   },
   {
    "duration": 145,
    "start_time": "2022-08-25T11:44:13.833Z"
   },
   {
    "duration": 1226,
    "start_time": "2022-08-25T11:51:43.538Z"
   },
   {
    "duration": 29,
    "start_time": "2022-08-25T11:51:56.464Z"
   },
   {
    "duration": 374,
    "start_time": "2022-08-25T11:52:07.688Z"
   },
   {
    "duration": 12,
    "start_time": "2022-08-25T11:52:08.455Z"
   },
   {
    "duration": 12,
    "start_time": "2022-08-25T11:52:08.657Z"
   },
   {
    "duration": 24,
    "start_time": "2022-08-25T11:52:08.853Z"
   },
   {
    "duration": 9,
    "start_time": "2022-08-25T11:52:09.019Z"
   },
   {
    "duration": 18,
    "start_time": "2022-08-25T11:52:09.214Z"
   },
   {
    "duration": 9,
    "start_time": "2022-08-25T11:52:09.408Z"
   },
   {
    "duration": 20,
    "start_time": "2022-08-25T11:52:09.613Z"
   },
   {
    "duration": 9,
    "start_time": "2022-08-25T11:52:09.817Z"
   },
   {
    "duration": 12,
    "start_time": "2022-08-25T11:52:10.027Z"
   },
   {
    "duration": 11,
    "start_time": "2022-08-25T11:52:10.217Z"
   },
   {
    "duration": 13,
    "start_time": "2022-08-25T11:52:10.790Z"
   },
   {
    "duration": 41,
    "start_time": "2022-08-25T11:52:10.989Z"
   },
   {
    "duration": 24,
    "start_time": "2022-08-25T11:52:11.170Z"
   },
   {
    "duration": 32,
    "start_time": "2022-08-25T11:52:11.381Z"
   },
   {
    "duration": 99,
    "start_time": "2022-08-25T11:52:12.005Z"
   },
   {
    "duration": 35,
    "start_time": "2022-08-25T11:52:12.441Z"
   },
   {
    "duration": 41,
    "start_time": "2022-08-25T11:52:12.717Z"
   },
   {
    "duration": 26,
    "start_time": "2022-08-25T11:52:12.975Z"
   },
   {
    "duration": 27,
    "start_time": "2022-08-25T11:52:13.185Z"
   },
   {
    "duration": 31,
    "start_time": "2022-08-25T11:52:13.397Z"
   },
   {
    "duration": 29,
    "start_time": "2022-08-25T11:52:13.606Z"
   },
   {
    "duration": 15,
    "start_time": "2022-08-25T11:52:13.837Z"
   },
   {
    "duration": 12,
    "start_time": "2022-08-25T11:52:14.052Z"
   },
   {
    "duration": 18,
    "start_time": "2022-08-25T11:52:14.250Z"
   },
   {
    "duration": 21,
    "start_time": "2022-08-25T11:52:14.437Z"
   },
   {
    "duration": 3,
    "start_time": "2022-08-25T11:52:14.640Z"
   },
   {
    "duration": 5,
    "start_time": "2022-08-25T11:52:14.850Z"
   },
   {
    "duration": 83,
    "start_time": "2022-08-25T11:52:15.032Z"
   },
   {
    "duration": 4,
    "start_time": "2022-08-25T11:52:15.231Z"
   },
   {
    "duration": 5,
    "start_time": "2022-08-25T11:52:15.939Z"
   },
   {
    "duration": 63,
    "start_time": "2022-08-25T11:52:16.385Z"
   },
   {
    "duration": 3,
    "start_time": "2022-08-25T11:52:16.716Z"
   },
   {
    "duration": 4,
    "start_time": "2022-08-25T11:52:16.905Z"
   },
   {
    "duration": 67,
    "start_time": "2022-08-25T11:52:17.307Z"
   },
   {
    "duration": 23,
    "start_time": "2022-08-25T11:52:17.480Z"
   },
   {
    "duration": 36,
    "start_time": "2022-08-25T11:52:17.678Z"
   },
   {
    "duration": 1317,
    "start_time": "2022-08-25T11:52:29.898Z"
   },
   {
    "duration": 33,
    "start_time": "2022-08-25T11:52:37.581Z"
   },
   {
    "duration": 1553,
    "start_time": "2022-08-25T11:52:48.301Z"
   },
   {
    "duration": 40,
    "start_time": "2022-08-25T11:52:51.599Z"
   },
   {
    "duration": 1525,
    "start_time": "2022-08-25T11:53:12.829Z"
   },
   {
    "duration": 43,
    "start_time": "2022-08-25T11:53:15.409Z"
   },
   {
    "duration": 1755,
    "start_time": "2022-08-25T11:53:31.852Z"
   },
   {
    "duration": 51,
    "start_time": "2022-08-25T11:53:34.619Z"
   },
   {
    "duration": 1786,
    "start_time": "2022-08-25T11:53:53.583Z"
   },
   {
    "duration": 29,
    "start_time": "2022-08-25T11:53:56.939Z"
   },
   {
    "duration": 495,
    "start_time": "2022-08-25T11:56:10.065Z"
   },
   {
    "duration": 7,
    "start_time": "2022-08-25T12:18:22.148Z"
   },
   {
    "duration": 484,
    "start_time": "2022-08-25T12:19:43.144Z"
   },
   {
    "duration": 9,
    "start_time": "2022-08-25T12:20:26.300Z"
   },
   {
    "duration": 1807,
    "start_time": "2022-08-25T12:20:54.641Z"
   },
   {
    "duration": 31,
    "start_time": "2022-08-25T12:20:59.982Z"
   },
   {
    "duration": 2128,
    "start_time": "2022-08-25T12:21:25.040Z"
   },
   {
    "duration": 42,
    "start_time": "2022-08-25T12:21:28.382Z"
   },
   {
    "duration": 10,
    "start_time": "2022-08-25T12:21:44.352Z"
   },
   {
    "duration": 1879,
    "start_time": "2022-08-25T12:22:01.975Z"
   },
   {
    "duration": 53,
    "start_time": "2022-08-25T12:22:08.183Z"
   },
   {
    "duration": 358,
    "start_time": "2022-08-25T12:22:20.583Z"
   },
   {
    "duration": 12,
    "start_time": "2022-08-25T12:22:21.163Z"
   },
   {
    "duration": 13,
    "start_time": "2022-08-25T12:22:21.366Z"
   },
   {
    "duration": 34,
    "start_time": "2022-08-25T12:22:21.569Z"
   },
   {
    "duration": 10,
    "start_time": "2022-08-25T12:22:21.801Z"
   },
   {
    "duration": 17,
    "start_time": "2022-08-25T12:22:22.061Z"
   },
   {
    "duration": 9,
    "start_time": "2022-08-25T12:22:22.264Z"
   },
   {
    "duration": 23,
    "start_time": "2022-08-25T12:22:22.454Z"
   },
   {
    "duration": 9,
    "start_time": "2022-08-25T12:22:22.678Z"
   },
   {
    "duration": 11,
    "start_time": "2022-08-25T12:22:22.894Z"
   },
   {
    "duration": 12,
    "start_time": "2022-08-25T12:22:23.080Z"
   },
   {
    "duration": 18,
    "start_time": "2022-08-25T12:22:23.669Z"
   },
   {
    "duration": 47,
    "start_time": "2022-08-25T12:22:23.850Z"
   },
   {
    "duration": 25,
    "start_time": "2022-08-25T12:22:24.097Z"
   },
   {
    "duration": 32,
    "start_time": "2022-08-25T12:22:24.316Z"
   },
   {
    "duration": 95,
    "start_time": "2022-08-25T12:22:24.928Z"
   },
   {
    "duration": 40,
    "start_time": "2022-08-25T12:22:25.350Z"
   },
   {
    "duration": 63,
    "start_time": "2022-08-25T12:22:25.550Z"
   },
   {
    "duration": 37,
    "start_time": "2022-08-25T12:22:25.748Z"
   },
   {
    "duration": 18,
    "start_time": "2022-08-25T12:22:25.950Z"
   },
   {
    "duration": 158,
    "start_time": "2022-08-25T12:22:26.157Z"
   },
   {
    "duration": 20,
    "start_time": "2022-08-25T12:22:26.384Z"
   },
   {
    "duration": 17,
    "start_time": "2022-08-25T12:22:26.596Z"
   },
   {
    "duration": 13,
    "start_time": "2022-08-25T12:22:26.800Z"
   },
   {
    "duration": 20,
    "start_time": "2022-08-25T12:22:27.019Z"
   },
   {
    "duration": 19,
    "start_time": "2022-08-25T12:22:27.552Z"
   },
   {
    "duration": 3,
    "start_time": "2022-08-25T12:22:27.756Z"
   },
   {
    "duration": 5,
    "start_time": "2022-08-25T12:22:27.973Z"
   },
   {
    "duration": 87,
    "start_time": "2022-08-25T12:22:28.177Z"
   },
   {
    "duration": 3,
    "start_time": "2022-08-25T12:22:28.390Z"
   },
   {
    "duration": 4,
    "start_time": "2022-08-25T12:22:28.611Z"
   },
   {
    "duration": 63,
    "start_time": "2022-08-25T12:22:28.822Z"
   },
   {
    "duration": 4,
    "start_time": "2022-08-25T12:22:29.018Z"
   },
   {
    "duration": 4,
    "start_time": "2022-08-25T12:22:29.228Z"
   },
   {
    "duration": 65,
    "start_time": "2022-08-25T12:22:29.447Z"
   },
   {
    "duration": 23,
    "start_time": "2022-08-25T12:22:29.656Z"
   },
   {
    "duration": 31,
    "start_time": "2022-08-25T12:22:30.499Z"
   },
   {
    "duration": 169,
    "start_time": "2022-08-25T12:22:31.427Z"
   },
   {
    "duration": 136,
    "start_time": "2022-08-25T12:22:31.827Z"
   },
   {
    "duration": 143,
    "start_time": "2022-08-25T12:22:32.231Z"
   },
   {
    "duration": 242,
    "start_time": "2022-08-25T12:22:32.610Z"
   },
   {
    "duration": 251,
    "start_time": "2022-08-25T12:22:33.024Z"
   },
   {
    "duration": 209,
    "start_time": "2022-08-25T12:22:33.460Z"
   },
   {
    "duration": 13,
    "start_time": "2022-08-25T12:22:33.946Z"
   },
   {
    "duration": 12,
    "start_time": "2022-08-25T12:22:34.141Z"
   },
   {
    "duration": 17,
    "start_time": "2022-08-25T12:22:34.358Z"
   },
   {
    "duration": 5,
    "start_time": "2022-08-25T12:22:34.579Z"
   },
   {
    "duration": 307,
    "start_time": "2022-08-25T12:22:34.761Z"
   },
   {
    "duration": 317,
    "start_time": "2022-08-25T12:22:35.070Z"
   },
   {
    "duration": 410,
    "start_time": "2022-08-25T12:22:35.393Z"
   },
   {
    "duration": 589,
    "start_time": "2022-08-25T12:22:35.818Z"
   },
   {
    "duration": 8,
    "start_time": "2022-08-25T12:22:36.409Z"
   },
   {
    "duration": 10,
    "start_time": "2022-08-25T12:22:36.515Z"
   },
   {
    "duration": 4,
    "start_time": "2022-08-25T12:22:36.724Z"
   },
   {
    "duration": 6,
    "start_time": "2022-08-25T12:22:36.992Z"
   },
   {
    "duration": 4,
    "start_time": "2022-08-25T12:22:37.216Z"
   },
   {
    "duration": 8,
    "start_time": "2022-08-25T12:22:37.420Z"
   },
   {
    "duration": 5,
    "start_time": "2022-08-25T12:22:37.651Z"
   },
   {
    "duration": 6,
    "start_time": "2022-08-25T12:22:37.855Z"
   },
   {
    "duration": 5,
    "start_time": "2022-08-25T12:22:38.079Z"
   },
   {
    "duration": 5,
    "start_time": "2022-08-25T12:22:38.278Z"
   },
   {
    "duration": 5,
    "start_time": "2022-08-25T12:22:38.481Z"
   },
   {
    "duration": 208,
    "start_time": "2022-08-25T12:22:38.707Z"
   },
   {
    "duration": 456,
    "start_time": "2022-08-25T12:22:39.182Z"
   },
   {
    "duration": 6,
    "start_time": "2022-08-25T12:22:39.640Z"
   },
   {
    "duration": 9,
    "start_time": "2022-08-25T12:22:44.103Z"
   },
   {
    "duration": 8,
    "start_time": "2022-08-25T12:23:49.993Z"
   },
   {
    "duration": 8,
    "start_time": "2022-08-25T12:23:50.831Z"
   },
   {
    "duration": 10,
    "start_time": "2022-08-25T12:23:53.210Z"
   },
   {
    "duration": 8,
    "start_time": "2022-08-25T12:23:53.926Z"
   },
   {
    "duration": 4,
    "start_time": "2022-08-25T12:23:55.431Z"
   },
   {
    "duration": 6,
    "start_time": "2022-08-25T12:24:13.909Z"
   },
   {
    "duration": 3,
    "start_time": "2022-08-25T12:24:34.473Z"
   },
   {
    "duration": 7,
    "start_time": "2022-08-25T12:24:58.102Z"
   },
   {
    "duration": 5,
    "start_time": "2022-08-25T12:25:18.765Z"
   },
   {
    "duration": 4,
    "start_time": "2022-08-25T12:25:32.990Z"
   },
   {
    "duration": 4,
    "start_time": "2022-08-25T12:25:44.477Z"
   },
   {
    "duration": 4,
    "start_time": "2022-08-25T12:26:00.181Z"
   },
   {
    "duration": 5,
    "start_time": "2022-08-25T12:26:31.419Z"
   },
   {
    "duration": 185,
    "start_time": "2022-08-25T12:27:06.736Z"
   },
   {
    "duration": 200,
    "start_time": "2022-08-25T12:27:22.625Z"
   },
   {
    "duration": 268,
    "start_time": "2022-08-25T12:39:09.044Z"
   },
   {
    "duration": 361,
    "start_time": "2022-08-25T12:39:23.838Z"
   },
   {
    "duration": 14,
    "start_time": "2022-08-25T12:39:24.522Z"
   },
   {
    "duration": 12,
    "start_time": "2022-08-25T12:39:24.689Z"
   },
   {
    "duration": 23,
    "start_time": "2022-08-25T12:39:24.899Z"
   },
   {
    "duration": 15,
    "start_time": "2022-08-25T12:39:25.089Z"
   },
   {
    "duration": 16,
    "start_time": "2022-08-25T12:39:25.260Z"
   },
   {
    "duration": 8,
    "start_time": "2022-08-25T12:39:25.427Z"
   },
   {
    "duration": 20,
    "start_time": "2022-08-25T12:39:25.602Z"
   },
   {
    "duration": 9,
    "start_time": "2022-08-25T12:39:25.792Z"
   },
   {
    "duration": 11,
    "start_time": "2022-08-25T12:39:25.960Z"
   },
   {
    "duration": 9,
    "start_time": "2022-08-25T12:39:26.150Z"
   },
   {
    "duration": 13,
    "start_time": "2022-08-25T12:39:26.714Z"
   },
   {
    "duration": 34,
    "start_time": "2022-08-25T12:39:26.903Z"
   },
   {
    "duration": 25,
    "start_time": "2022-08-25T12:39:27.104Z"
   },
   {
    "duration": 28,
    "start_time": "2022-08-25T12:39:27.266Z"
   },
   {
    "duration": 88,
    "start_time": "2022-08-25T12:39:27.829Z"
   },
   {
    "duration": 51,
    "start_time": "2022-08-25T12:39:28.216Z"
   },
   {
    "duration": 41,
    "start_time": "2022-08-25T12:39:28.404Z"
   },
   {
    "duration": 28,
    "start_time": "2022-08-25T12:39:28.607Z"
   },
   {
    "duration": 19,
    "start_time": "2022-08-25T12:39:28.803Z"
   },
   {
    "duration": 38,
    "start_time": "2022-08-25T12:39:28.993Z"
   },
   {
    "duration": 20,
    "start_time": "2022-08-25T12:39:29.173Z"
   },
   {
    "duration": 18,
    "start_time": "2022-08-25T12:39:29.378Z"
   },
   {
    "duration": 18,
    "start_time": "2022-08-25T12:39:29.546Z"
   },
   {
    "duration": 26,
    "start_time": "2022-08-25T12:39:29.784Z"
   },
   {
    "duration": 18,
    "start_time": "2022-08-25T12:39:30.002Z"
   },
   {
    "duration": 3,
    "start_time": "2022-08-25T12:39:30.248Z"
   },
   {
    "duration": 6,
    "start_time": "2022-08-25T12:39:30.479Z"
   },
   {
    "duration": 69,
    "start_time": "2022-08-25T12:39:30.717Z"
   },
   {
    "duration": 4,
    "start_time": "2022-08-25T12:39:30.894Z"
   },
   {
    "duration": 4,
    "start_time": "2022-08-25T12:39:31.096Z"
   },
   {
    "duration": 69,
    "start_time": "2022-08-25T12:39:31.300Z"
   },
   {
    "duration": 4,
    "start_time": "2022-08-25T12:39:31.482Z"
   },
   {
    "duration": 5,
    "start_time": "2022-08-25T12:39:31.664Z"
   },
   {
    "duration": 64,
    "start_time": "2022-08-25T12:39:31.864Z"
   },
   {
    "duration": 24,
    "start_time": "2022-08-25T12:39:32.049Z"
   },
   {
    "duration": 26,
    "start_time": "2022-08-25T12:39:32.262Z"
   },
   {
    "duration": 139,
    "start_time": "2022-08-25T12:39:32.837Z"
   },
   {
    "duration": 142,
    "start_time": "2022-08-25T12:39:33.238Z"
   },
   {
    "duration": 276,
    "start_time": "2022-08-25T12:39:34.185Z"
   },
   {
    "duration": 241,
    "start_time": "2022-08-25T12:39:34.592Z"
   },
   {
    "duration": 227,
    "start_time": "2022-08-25T12:39:35.029Z"
   },
   {
    "duration": 225,
    "start_time": "2022-08-25T12:39:35.442Z"
   },
   {
    "duration": 11,
    "start_time": "2022-08-25T12:39:35.853Z"
   },
   {
    "duration": 13,
    "start_time": "2022-08-25T12:39:36.044Z"
   },
   {
    "duration": 12,
    "start_time": "2022-08-25T12:39:36.262Z"
   },
   {
    "duration": 4,
    "start_time": "2022-08-25T12:39:36.466Z"
   },
   {
    "duration": 331,
    "start_time": "2022-08-25T12:39:36.683Z"
   },
   {
    "duration": 342,
    "start_time": "2022-08-25T12:39:37.016Z"
   },
   {
    "duration": 387,
    "start_time": "2022-08-25T12:39:37.361Z"
   },
   {
    "duration": 722,
    "start_time": "2022-08-25T12:39:37.751Z"
   },
   {
    "duration": 7,
    "start_time": "2022-08-25T12:39:38.475Z"
   },
   {
    "duration": 21,
    "start_time": "2022-08-25T12:39:38.484Z"
   },
   {
    "duration": 6,
    "start_time": "2022-08-25T12:39:38.507Z"
   },
   {
    "duration": 10,
    "start_time": "2022-08-25T12:39:38.514Z"
   },
   {
    "duration": 4,
    "start_time": "2022-08-25T12:39:38.627Z"
   },
   {
    "duration": 6,
    "start_time": "2022-08-25T12:39:39.019Z"
   },
   {
    "duration": 5,
    "start_time": "2022-08-25T12:39:39.224Z"
   },
   {
    "duration": 6,
    "start_time": "2022-08-25T12:39:39.435Z"
   },
   {
    "duration": 5,
    "start_time": "2022-08-25T12:39:39.637Z"
   },
   {
    "duration": 3,
    "start_time": "2022-08-25T12:39:39.890Z"
   },
   {
    "duration": 6,
    "start_time": "2022-08-25T12:39:40.292Z"
   },
   {
    "duration": 390,
    "start_time": "2022-08-25T12:39:40.592Z"
   },
   {
    "duration": 463,
    "start_time": "2022-08-25T12:39:41.064Z"
   },
   {
    "duration": 8,
    "start_time": "2022-08-25T12:39:41.529Z"
   },
   {
    "duration": 9,
    "start_time": "2022-08-25T12:39:41.839Z"
   },
   {
    "duration": 4,
    "start_time": "2022-08-25T12:39:42.306Z"
   },
   {
    "duration": 6,
    "start_time": "2022-08-25T12:39:42.772Z"
   },
   {
    "duration": 4,
    "start_time": "2022-08-25T12:39:43.174Z"
   },
   {
    "duration": 6,
    "start_time": "2022-08-25T12:39:43.546Z"
   },
   {
    "duration": 5,
    "start_time": "2022-08-25T12:39:43.912Z"
   },
   {
    "duration": 6,
    "start_time": "2022-08-25T12:39:44.303Z"
   },
   {
    "duration": 4,
    "start_time": "2022-08-25T12:39:44.625Z"
   },
   {
    "duration": 5,
    "start_time": "2022-08-25T12:39:44.990Z"
   },
   {
    "duration": 6,
    "start_time": "2022-08-25T12:39:45.366Z"
   },
   {
    "duration": 409,
    "start_time": "2022-08-25T12:39:45.743Z"
   },
   {
    "duration": 292,
    "start_time": "2022-08-25T12:42:17.342Z"
   },
   {
    "duration": 6,
    "start_time": "2022-08-25T12:43:41.843Z"
   },
   {
    "duration": 4,
    "start_time": "2022-08-25T12:43:46.923Z"
   },
   {
    "duration": 4,
    "start_time": "2022-08-25T12:43:59.218Z"
   },
   {
    "duration": 6,
    "start_time": "2022-08-25T12:44:11.551Z"
   },
   {
    "duration": 425,
    "start_time": "2022-08-25T12:44:19.776Z"
   },
   {
    "duration": 4,
    "start_time": "2022-08-25T12:46:05.659Z"
   },
   {
    "duration": 5,
    "start_time": "2022-08-25T12:46:08.297Z"
   },
   {
    "duration": 4,
    "start_time": "2022-08-25T12:46:11.020Z"
   },
   {
    "duration": 5,
    "start_time": "2022-08-25T12:46:14.760Z"
   },
   {
    "duration": 4,
    "start_time": "2022-08-25T12:46:31.229Z"
   },
   {
    "duration": 198,
    "start_time": "2022-08-25T12:46:32.701Z"
   },
   {
    "duration": 185,
    "start_time": "2022-08-25T12:46:57.099Z"
   },
   {
    "duration": 359,
    "start_time": "2022-08-25T12:47:30.718Z"
   },
   {
    "duration": 12,
    "start_time": "2022-08-25T12:47:31.269Z"
   },
   {
    "duration": 12,
    "start_time": "2022-08-25T12:47:31.443Z"
   },
   {
    "duration": 21,
    "start_time": "2022-08-25T12:47:31.641Z"
   },
   {
    "duration": 10,
    "start_time": "2022-08-25T12:47:31.805Z"
   },
   {
    "duration": 18,
    "start_time": "2022-08-25T12:47:31.984Z"
   },
   {
    "duration": 8,
    "start_time": "2022-08-25T12:47:32.176Z"
   },
   {
    "duration": 20,
    "start_time": "2022-08-25T12:47:32.364Z"
   },
   {
    "duration": 10,
    "start_time": "2022-08-25T12:47:32.538Z"
   },
   {
    "duration": 13,
    "start_time": "2022-08-25T12:47:32.737Z"
   },
   {
    "duration": 10,
    "start_time": "2022-08-25T12:47:32.933Z"
   },
   {
    "duration": 18,
    "start_time": "2022-08-25T12:47:33.768Z"
   },
   {
    "duration": 38,
    "start_time": "2022-08-25T12:47:33.957Z"
   },
   {
    "duration": 27,
    "start_time": "2022-08-25T12:47:34.176Z"
   },
   {
    "duration": 32,
    "start_time": "2022-08-25T12:47:34.379Z"
   },
   {
    "duration": 125,
    "start_time": "2022-08-25T12:47:34.997Z"
   },
   {
    "duration": 40,
    "start_time": "2022-08-25T12:47:35.363Z"
   },
   {
    "duration": 46,
    "start_time": "2022-08-25T12:47:35.574Z"
   },
   {
    "duration": 28,
    "start_time": "2022-08-25T12:47:35.785Z"
   },
   {
    "duration": 19,
    "start_time": "2022-08-25T12:47:36.003Z"
   },
   {
    "duration": 31,
    "start_time": "2022-08-25T12:47:36.234Z"
   },
   {
    "duration": 20,
    "start_time": "2022-08-25T12:47:36.454Z"
   },
   {
    "duration": 14,
    "start_time": "2022-08-25T12:47:36.670Z"
   },
   {
    "duration": 12,
    "start_time": "2022-08-25T12:47:36.872Z"
   },
   {
    "duration": 18,
    "start_time": "2022-08-25T12:47:37.076Z"
   },
   {
    "duration": 18,
    "start_time": "2022-08-25T12:47:37.280Z"
   },
   {
    "duration": 3,
    "start_time": "2022-08-25T12:47:37.461Z"
   },
   {
    "duration": 6,
    "start_time": "2022-08-25T12:47:37.893Z"
   },
   {
    "duration": 81,
    "start_time": "2022-08-25T12:47:38.216Z"
   },
   {
    "duration": 5,
    "start_time": "2022-08-25T12:47:38.410Z"
   },
   {
    "duration": 4,
    "start_time": "2022-08-25T12:47:38.594Z"
   },
   {
    "duration": 65,
    "start_time": "2022-08-25T12:47:38.777Z"
   },
   {
    "duration": 4,
    "start_time": "2022-08-25T12:47:39.016Z"
   },
   {
    "duration": 5,
    "start_time": "2022-08-25T12:47:39.248Z"
   },
   {
    "duration": 63,
    "start_time": "2022-08-25T12:47:40.014Z"
   },
   {
    "duration": 25,
    "start_time": "2022-08-25T12:47:40.884Z"
   },
   {
    "duration": 27,
    "start_time": "2022-08-25T12:47:41.076Z"
   },
   {
    "duration": 154,
    "start_time": "2022-08-25T12:47:41.683Z"
   },
   {
    "duration": 129,
    "start_time": "2022-08-25T12:47:42.068Z"
   },
   {
    "duration": 140,
    "start_time": "2022-08-25T12:47:42.478Z"
   },
   {
    "duration": 239,
    "start_time": "2022-08-25T12:47:42.877Z"
   },
   {
    "duration": 236,
    "start_time": "2022-08-25T12:47:43.278Z"
   },
   {
    "duration": 205,
    "start_time": "2022-08-25T12:47:43.938Z"
   },
   {
    "duration": 12,
    "start_time": "2022-08-25T12:47:44.342Z"
   },
   {
    "duration": 13,
    "start_time": "2022-08-25T12:47:44.519Z"
   },
   {
    "duration": 11,
    "start_time": "2022-08-25T12:47:44.736Z"
   },
   {
    "duration": 5,
    "start_time": "2022-08-25T12:47:44.961Z"
   },
   {
    "duration": 472,
    "start_time": "2022-08-25T12:47:45.143Z"
   },
   {
    "duration": 312,
    "start_time": "2022-08-25T12:47:45.617Z"
   },
   {
    "duration": 386,
    "start_time": "2022-08-25T12:47:45.930Z"
   },
   {
    "duration": 450,
    "start_time": "2022-08-25T12:47:46.318Z"
   },
   {
    "duration": 7,
    "start_time": "2022-08-25T12:47:46.770Z"
   },
   {
    "duration": 26,
    "start_time": "2022-08-25T12:47:46.778Z"
   },
   {
    "duration": 4,
    "start_time": "2022-08-25T12:47:46.806Z"
   },
   {
    "duration": 6,
    "start_time": "2022-08-25T12:47:47.001Z"
   },
   {
    "duration": 3,
    "start_time": "2022-08-25T12:47:47.194Z"
   },
   {
    "duration": 6,
    "start_time": "2022-08-25T12:47:47.398Z"
   },
   {
    "duration": 5,
    "start_time": "2022-08-25T12:47:47.614Z"
   },
   {
    "duration": 5,
    "start_time": "2022-08-25T12:47:47.818Z"
   },
   {
    "duration": 5,
    "start_time": "2022-08-25T12:47:48.015Z"
   },
   {
    "duration": 5,
    "start_time": "2022-08-25T12:47:48.227Z"
   },
   {
    "duration": 5,
    "start_time": "2022-08-25T12:47:48.409Z"
   },
   {
    "duration": 211,
    "start_time": "2022-08-25T12:47:48.832Z"
   },
   {
    "duration": 426,
    "start_time": "2022-08-25T12:47:49.251Z"
   },
   {
    "duration": 14,
    "start_time": "2022-08-25T12:47:49.679Z"
   },
   {
    "duration": 8,
    "start_time": "2022-08-25T12:47:49.709Z"
   },
   {
    "duration": 3,
    "start_time": "2022-08-25T12:47:49.921Z"
   },
   {
    "duration": 8,
    "start_time": "2022-08-25T12:47:50.142Z"
   },
   {
    "duration": 3,
    "start_time": "2022-08-25T12:47:50.360Z"
   },
   {
    "duration": 6,
    "start_time": "2022-08-25T12:47:50.577Z"
   },
   {
    "duration": 5,
    "start_time": "2022-08-25T12:47:50.787Z"
   },
   {
    "duration": 5,
    "start_time": "2022-08-25T12:47:51.006Z"
   },
   {
    "duration": 4,
    "start_time": "2022-08-25T12:47:51.247Z"
   },
   {
    "duration": 4,
    "start_time": "2022-08-25T12:47:51.448Z"
   },
   {
    "duration": 6,
    "start_time": "2022-08-25T12:47:51.659Z"
   },
   {
    "duration": 5,
    "start_time": "2022-08-25T12:47:51.884Z"
   },
   {
    "duration": 184,
    "start_time": "2022-08-25T12:47:52.110Z"
   },
   {
    "duration": 207,
    "start_time": "2022-08-25T12:47:52.680Z"
   },
   {
    "duration": 9,
    "start_time": "2022-08-25T12:48:04.065Z"
   },
   {
    "duration": 6,
    "start_time": "2022-08-25T12:48:06.905Z"
   },
   {
    "duration": 6,
    "start_time": "2022-08-25T12:48:07.088Z"
   },
   {
    "duration": 5,
    "start_time": "2022-08-25T12:48:07.298Z"
   },
   {
    "duration": 5,
    "start_time": "2022-08-25T12:48:07.531Z"
   },
   {
    "duration": 6,
    "start_time": "2022-08-25T12:48:07.759Z"
   },
   {
    "duration": 5,
    "start_time": "2022-08-25T12:48:07.954Z"
   },
   {
    "duration": 395,
    "start_time": "2022-08-25T12:48:08.162Z"
   },
   {
    "duration": 0,
    "start_time": "2022-08-25T12:48:08.559Z"
   },
   {
    "duration": 231,
    "start_time": "2022-08-25T12:48:16.953Z"
   },
   {
    "duration": 4,
    "start_time": "2022-08-25T13:11:12.897Z"
   },
   {
    "duration": 5,
    "start_time": "2022-08-25T13:11:15.410Z"
   },
   {
    "duration": 5,
    "start_time": "2022-08-25T13:11:18.359Z"
   },
   {
    "duration": 221,
    "start_time": "2022-08-25T13:11:20.166Z"
   },
   {
    "duration": 220,
    "start_time": "2022-08-25T13:11:28.429Z"
   },
   {
    "duration": 257,
    "start_time": "2022-08-25T13:12:15.036Z"
   },
   {
    "duration": 4,
    "start_time": "2022-08-25T13:28:32.065Z"
   },
   {
    "duration": 5,
    "start_time": "2022-08-25T13:45:03.904Z"
   },
   {
    "duration": 5,
    "start_time": "2022-08-25T13:47:23.714Z"
   },
   {
    "duration": 205,
    "start_time": "2022-08-25T13:47:27.194Z"
   },
   {
    "duration": 51,
    "start_time": "2022-08-25T16:50:36.787Z"
   },
   {
    "duration": 2229,
    "start_time": "2022-08-25T16:50:42.366Z"
   },
   {
    "duration": 13,
    "start_time": "2022-08-25T16:50:44.597Z"
   },
   {
    "duration": 16,
    "start_time": "2022-08-25T16:50:44.612Z"
   },
   {
    "duration": 20,
    "start_time": "2022-08-25T16:50:44.631Z"
   },
   {
    "duration": 9,
    "start_time": "2022-08-25T16:50:44.653Z"
   },
   {
    "duration": 15,
    "start_time": "2022-08-25T16:50:44.667Z"
   },
   {
    "duration": 10,
    "start_time": "2022-08-25T16:50:44.684Z"
   },
   {
    "duration": 19,
    "start_time": "2022-08-25T16:50:44.696Z"
   },
   {
    "duration": 10,
    "start_time": "2022-08-25T16:50:44.716Z"
   },
   {
    "duration": 39,
    "start_time": "2022-08-25T16:50:44.729Z"
   },
   {
    "duration": 13,
    "start_time": "2022-08-25T16:50:44.770Z"
   },
   {
    "duration": 13,
    "start_time": "2022-08-25T16:50:45.834Z"
   },
   {
    "duration": 36,
    "start_time": "2022-08-25T16:50:46.058Z"
   },
   {
    "duration": 22,
    "start_time": "2022-08-25T16:50:46.269Z"
   },
   {
    "duration": 30,
    "start_time": "2022-08-25T16:50:46.480Z"
   },
   {
    "duration": 112,
    "start_time": "2022-08-25T16:50:47.120Z"
   },
   {
    "duration": 40,
    "start_time": "2022-08-25T16:50:47.485Z"
   },
   {
    "duration": 56,
    "start_time": "2022-08-25T16:50:47.687Z"
   },
   {
    "duration": 28,
    "start_time": "2022-08-25T16:50:47.887Z"
   },
   {
    "duration": 22,
    "start_time": "2022-08-25T16:50:48.074Z"
   },
   {
    "duration": 32,
    "start_time": "2022-08-25T16:50:48.264Z"
   },
   {
    "duration": 27,
    "start_time": "2022-08-25T16:50:48.454Z"
   },
   {
    "duration": 14,
    "start_time": "2022-08-25T16:50:48.649Z"
   },
   {
    "duration": 12,
    "start_time": "2022-08-25T16:50:48.848Z"
   },
   {
    "duration": 17,
    "start_time": "2022-08-25T16:50:49.045Z"
   },
   {
    "duration": 17,
    "start_time": "2022-08-25T16:50:49.225Z"
   },
   {
    "duration": 4,
    "start_time": "2022-08-25T16:50:49.424Z"
   },
   {
    "duration": 4,
    "start_time": "2022-08-25T16:50:49.627Z"
   },
   {
    "duration": 63,
    "start_time": "2022-08-25T16:50:49.820Z"
   },
   {
    "duration": 3,
    "start_time": "2022-08-25T16:50:50.022Z"
   },
   {
    "duration": 4,
    "start_time": "2022-08-25T16:50:50.194Z"
   },
   {
    "duration": 61,
    "start_time": "2022-08-25T16:50:50.377Z"
   },
   {
    "duration": 4,
    "start_time": "2022-08-25T16:50:50.574Z"
   },
   {
    "duration": 5,
    "start_time": "2022-08-25T16:50:50.767Z"
   },
   {
    "duration": 76,
    "start_time": "2022-08-25T16:50:50.951Z"
   },
   {
    "duration": 23,
    "start_time": "2022-08-25T16:50:51.128Z"
   },
   {
    "duration": 31,
    "start_time": "2022-08-25T16:50:51.325Z"
   },
   {
    "duration": 144,
    "start_time": "2022-08-25T16:50:51.881Z"
   },
   {
    "duration": 150,
    "start_time": "2022-08-25T16:50:52.260Z"
   },
   {
    "duration": 154,
    "start_time": "2022-08-25T16:50:52.637Z"
   },
   {
    "duration": 237,
    "start_time": "2022-08-25T16:50:53.015Z"
   },
   {
    "duration": 225,
    "start_time": "2022-08-25T16:50:53.382Z"
   },
   {
    "duration": 288,
    "start_time": "2022-08-25T16:50:53.751Z"
   },
   {
    "duration": 11,
    "start_time": "2022-08-25T16:50:54.126Z"
   },
   {
    "duration": 15,
    "start_time": "2022-08-25T16:50:54.329Z"
   },
   {
    "duration": 15,
    "start_time": "2022-08-25T16:50:54.524Z"
   },
   {
    "duration": 4,
    "start_time": "2022-08-25T16:50:54.684Z"
   },
   {
    "duration": 293,
    "start_time": "2022-08-25T16:50:54.858Z"
   },
   {
    "duration": 295,
    "start_time": "2022-08-25T16:50:55.152Z"
   },
   {
    "duration": 404,
    "start_time": "2022-08-25T16:50:55.450Z"
   },
   {
    "duration": 472,
    "start_time": "2022-08-25T16:50:55.856Z"
   },
   {
    "duration": 8,
    "start_time": "2022-08-25T16:50:56.330Z"
   },
   {
    "duration": 28,
    "start_time": "2022-08-25T16:50:56.340Z"
   },
   {
    "duration": 3,
    "start_time": "2022-08-25T16:50:56.373Z"
   },
   {
    "duration": 8,
    "start_time": "2022-08-25T16:50:56.570Z"
   },
   {
    "duration": 4,
    "start_time": "2022-08-25T16:50:56.761Z"
   },
   {
    "duration": 7,
    "start_time": "2022-08-25T16:50:56.949Z"
   },
   {
    "duration": 72,
    "start_time": "2022-08-25T16:50:57.147Z"
   },
   {
    "duration": 10,
    "start_time": "2022-08-25T16:50:57.349Z"
   },
   {
    "duration": 11,
    "start_time": "2022-08-25T16:50:57.549Z"
   },
   {
    "duration": 11,
    "start_time": "2022-08-25T16:50:57.758Z"
   },
   {
    "duration": 11,
    "start_time": "2022-08-25T16:50:58.066Z"
   },
   {
    "duration": 5,
    "start_time": "2022-08-25T16:50:58.311Z"
   },
   {
    "duration": 5,
    "start_time": "2022-08-25T16:50:58.524Z"
   },
   {
    "duration": 10,
    "start_time": "2022-08-25T16:51:05.429Z"
   },
   {
    "duration": 413,
    "start_time": "2022-08-25T16:51:26.455Z"
   },
   {
    "duration": 9,
    "start_time": "2022-08-25T16:51:33.929Z"
   },
   {
    "duration": 12,
    "start_time": "2022-08-25T16:52:36.932Z"
   },
   {
    "duration": 10,
    "start_time": "2022-08-25T16:56:19.151Z"
   },
   {
    "duration": 5,
    "start_time": "2022-08-25T16:57:39.794Z"
   },
   {
    "duration": 5,
    "start_time": "2022-08-25T16:57:42.946Z"
   },
   {
    "duration": 4,
    "start_time": "2022-08-25T16:57:44.292Z"
   },
   {
    "duration": 4,
    "start_time": "2022-08-25T16:57:45.170Z"
   },
   {
    "duration": 6,
    "start_time": "2022-08-25T16:57:46.532Z"
   },
   {
    "duration": 4,
    "start_time": "2022-08-25T16:57:47.810Z"
   },
   {
    "duration": 5,
    "start_time": "2022-08-25T16:57:50.362Z"
   },
   {
    "duration": 244,
    "start_time": "2022-08-25T16:57:52.465Z"
   },
   {
    "duration": 2248,
    "start_time": "2022-08-26T13:51:35.454Z"
   },
   {
    "duration": 12,
    "start_time": "2022-08-26T13:51:37.704Z"
   },
   {
    "duration": 18,
    "start_time": "2022-08-26T13:51:37.717Z"
   },
   {
    "duration": 19,
    "start_time": "2022-08-26T13:51:37.737Z"
   },
   {
    "duration": 14,
    "start_time": "2022-08-26T13:51:37.758Z"
   },
   {
    "duration": 24,
    "start_time": "2022-08-26T13:51:37.773Z"
   },
   {
    "duration": 7,
    "start_time": "2022-08-26T13:51:37.799Z"
   },
   {
    "duration": 20,
    "start_time": "2022-08-26T13:51:37.807Z"
   },
   {
    "duration": 8,
    "start_time": "2022-08-26T13:51:37.828Z"
   },
   {
    "duration": 15,
    "start_time": "2022-08-26T13:51:37.838Z"
   },
   {
    "duration": 9,
    "start_time": "2022-08-26T13:51:37.915Z"
   },
   {
    "duration": 12,
    "start_time": "2022-08-26T13:51:39.143Z"
   },
   {
    "duration": 36,
    "start_time": "2022-08-26T13:51:39.346Z"
   },
   {
    "duration": 22,
    "start_time": "2022-08-26T13:51:39.537Z"
   },
   {
    "duration": 32,
    "start_time": "2022-08-26T13:51:39.741Z"
   },
   {
    "duration": 94,
    "start_time": "2022-08-26T13:51:40.380Z"
   },
   {
    "duration": 37,
    "start_time": "2022-08-26T13:51:52.855Z"
   },
   {
    "duration": 52,
    "start_time": "2022-08-26T13:51:53.523Z"
   },
   {
    "duration": 24,
    "start_time": "2022-08-26T13:51:54.717Z"
   },
   {
    "duration": 19,
    "start_time": "2022-08-26T13:51:55.395Z"
   },
   {
    "duration": 31,
    "start_time": "2022-08-26T13:51:55.974Z"
   },
   {
    "duration": 24,
    "start_time": "2022-08-26T13:51:56.742Z"
   },
   {
    "duration": 13,
    "start_time": "2022-08-26T13:51:57.389Z"
   },
   {
    "duration": 12,
    "start_time": "2022-08-26T13:51:58.274Z"
   },
   {
    "duration": 14,
    "start_time": "2022-08-26T13:51:59.239Z"
   },
   {
    "duration": 16,
    "start_time": "2022-08-26T13:52:08.716Z"
   },
   {
    "duration": 3,
    "start_time": "2022-08-26T13:52:09.298Z"
   },
   {
    "duration": 3,
    "start_time": "2022-08-26T13:52:09.956Z"
   },
   {
    "duration": 58,
    "start_time": "2022-08-26T13:52:10.534Z"
   },
   {
    "duration": 3,
    "start_time": "2022-08-26T13:52:11.171Z"
   },
   {
    "duration": 4,
    "start_time": "2022-08-26T13:52:11.698Z"
   },
   {
    "duration": 57,
    "start_time": "2022-08-26T13:52:12.307Z"
   },
   {
    "duration": 3,
    "start_time": "2022-08-26T13:52:12.893Z"
   },
   {
    "duration": 4,
    "start_time": "2022-08-26T13:52:13.461Z"
   },
   {
    "duration": 57,
    "start_time": "2022-08-26T13:52:14.207Z"
   },
   {
    "duration": 21,
    "start_time": "2022-08-26T13:52:14.899Z"
   },
   {
    "duration": 24,
    "start_time": "2022-08-26T13:52:15.462Z"
   },
   {
    "duration": 135,
    "start_time": "2022-08-26T13:52:17.717Z"
   },
   {
    "duration": 121,
    "start_time": "2022-08-26T13:52:18.367Z"
   },
   {
    "duration": 127,
    "start_time": "2022-08-26T13:52:18.950Z"
   },
   {
    "duration": 216,
    "start_time": "2022-08-26T13:52:19.827Z"
   },
   {
    "duration": 256,
    "start_time": "2022-08-26T13:52:20.963Z"
   },
   {
    "duration": 183,
    "start_time": "2022-08-26T13:52:21.766Z"
   },
   {
    "duration": 11,
    "start_time": "2022-08-26T13:52:22.872Z"
   },
   {
    "duration": 12,
    "start_time": "2022-08-26T13:52:23.415Z"
   },
   {
    "duration": 11,
    "start_time": "2022-08-26T13:52:23.841Z"
   },
   {
    "duration": 4,
    "start_time": "2022-08-26T13:52:24.291Z"
   },
   {
    "duration": 260,
    "start_time": "2022-08-26T13:52:27.969Z"
   },
   {
    "duration": 254,
    "start_time": "2022-08-26T13:52:29.507Z"
   },
   {
    "duration": 336,
    "start_time": "2022-08-26T13:52:30.523Z"
   },
   {
    "duration": 400,
    "start_time": "2022-08-26T14:12:13.223Z"
   },
   {
    "duration": 7,
    "start_time": "2022-08-26T14:12:18.053Z"
   },
   {
    "duration": 10,
    "start_time": "2022-08-26T14:12:20.313Z"
   },
   {
    "duration": 3,
    "start_time": "2022-08-26T14:12:21.028Z"
   },
   {
    "duration": 6,
    "start_time": "2022-08-26T14:12:30.802Z"
   },
   {
    "duration": 3,
    "start_time": "2022-08-26T14:12:33.729Z"
   },
   {
    "duration": 6,
    "start_time": "2022-08-26T14:12:35.420Z"
   },
   {
    "duration": 5,
    "start_time": "2022-08-26T14:12:41.353Z"
   },
   {
    "duration": 5,
    "start_time": "2022-08-26T14:12:43.114Z"
   },
   {
    "duration": 4,
    "start_time": "2022-08-26T14:16:40.178Z"
   },
   {
    "duration": 3,
    "start_time": "2022-08-26T14:16:41.719Z"
   },
   {
    "duration": 3,
    "start_time": "2022-08-26T14:16:43.525Z"
   },
   {
    "duration": 3,
    "start_time": "2022-08-26T14:16:44.725Z"
   },
   {
    "duration": 3,
    "start_time": "2022-08-26T14:16:46.521Z"
   },
   {
    "duration": 3,
    "start_time": "2022-08-26T14:16:49.670Z"
   },
   {
    "duration": 5,
    "start_time": "2022-08-26T14:16:53.277Z"
   },
   {
    "duration": 5,
    "start_time": "2022-08-26T14:16:54.125Z"
   },
   {
    "duration": 6,
    "start_time": "2022-08-26T14:16:54.891Z"
   },
   {
    "duration": 5,
    "start_time": "2022-08-26T14:16:55.874Z"
   },
   {
    "duration": 5,
    "start_time": "2022-08-26T14:17:00.607Z"
   },
   {
    "duration": 6,
    "start_time": "2022-08-26T14:17:03.624Z"
   },
   {
    "duration": 92,
    "start_time": "2022-08-26T14:17:05.382Z"
   },
   {
    "duration": 5,
    "start_time": "2022-08-26T14:17:08.582Z"
   },
   {
    "duration": 5,
    "start_time": "2022-08-26T14:17:11.674Z"
   },
   {
    "duration": 4,
    "start_time": "2022-08-26T14:17:12.383Z"
   },
   {
    "duration": 5,
    "start_time": "2022-08-26T14:17:12.998Z"
   },
   {
    "duration": 5,
    "start_time": "2022-08-26T14:26:44.007Z"
   },
   {
    "duration": 3,
    "start_time": "2022-08-26T14:33:41.746Z"
   },
   {
    "duration": 4,
    "start_time": "2022-08-26T14:34:19.324Z"
   },
   {
    "duration": 5,
    "start_time": "2022-08-26T14:52:51.624Z"
   },
   {
    "duration": 5,
    "start_time": "2022-08-26T14:52:55.631Z"
   },
   {
    "duration": 97,
    "start_time": "2022-08-26T15:16:28.004Z"
   },
   {
    "duration": 7,
    "start_time": "2022-08-26T15:16:38.282Z"
   },
   {
    "duration": 7,
    "start_time": "2022-08-26T15:16:40.405Z"
   },
   {
    "duration": 3,
    "start_time": "2022-08-26T15:16:44.963Z"
   },
   {
    "duration": 6,
    "start_time": "2022-08-26T15:16:54.098Z"
   },
   {
    "duration": 3,
    "start_time": "2022-08-26T15:17:00.584Z"
   },
   {
    "duration": 8,
    "start_time": "2022-08-26T15:17:07.058Z"
   },
   {
    "duration": 4,
    "start_time": "2022-08-26T15:17:14.558Z"
   },
   {
    "duration": 5,
    "start_time": "2022-08-26T15:17:22.523Z"
   },
   {
    "duration": 3,
    "start_time": "2022-08-26T15:17:58.449Z"
   },
   {
    "duration": 3,
    "start_time": "2022-08-26T15:18:00.806Z"
   },
   {
    "duration": 7,
    "start_time": "2022-08-26T15:18:04.410Z"
   },
   {
    "duration": 4,
    "start_time": "2022-08-26T15:18:10.228Z"
   },
   {
    "duration": 7,
    "start_time": "2022-08-26T15:18:17.542Z"
   },
   {
    "duration": 5,
    "start_time": "2022-08-26T15:18:25.101Z"
   },
   {
    "duration": 5,
    "start_time": "2022-08-26T15:19:11.224Z"
   },
   {
    "duration": 15,
    "start_time": "2022-08-26T15:30:28.998Z"
   },
   {
    "duration": 14,
    "start_time": "2022-08-26T15:30:34.269Z"
   },
   {
    "duration": 326,
    "start_time": "2022-08-26T15:30:49.190Z"
   },
   {
    "duration": 10,
    "start_time": "2022-08-26T15:30:49.875Z"
   },
   {
    "duration": 14,
    "start_time": "2022-08-26T15:30:50.044Z"
   },
   {
    "duration": 21,
    "start_time": "2022-08-26T15:30:50.241Z"
   },
   {
    "duration": 10,
    "start_time": "2022-08-26T15:30:50.425Z"
   },
   {
    "duration": 16,
    "start_time": "2022-08-26T15:30:50.964Z"
   },
   {
    "duration": 7,
    "start_time": "2022-08-26T15:30:51.410Z"
   },
   {
    "duration": 18,
    "start_time": "2022-08-26T15:30:51.760Z"
   },
   {
    "duration": 9,
    "start_time": "2022-08-26T15:30:52.194Z"
   },
   {
    "duration": 11,
    "start_time": "2022-08-26T15:30:52.831Z"
   },
   {
    "duration": 8,
    "start_time": "2022-08-26T15:30:53.809Z"
   },
   {
    "duration": 12,
    "start_time": "2022-08-26T15:30:55.760Z"
   },
   {
    "duration": 39,
    "start_time": "2022-08-26T15:30:56.244Z"
   },
   {
    "duration": 23,
    "start_time": "2022-08-26T15:30:56.904Z"
   },
   {
    "duration": 29,
    "start_time": "2022-08-26T15:30:57.502Z"
   },
   {
    "duration": 108,
    "start_time": "2022-08-26T15:30:59.243Z"
   },
   {
    "duration": 39,
    "start_time": "2022-08-26T15:31:02.697Z"
   },
   {
    "duration": 51,
    "start_time": "2022-08-26T15:31:03.808Z"
   },
   {
    "duration": 24,
    "start_time": "2022-08-26T15:31:04.820Z"
   },
   {
    "duration": 21,
    "start_time": "2022-08-26T15:31:05.490Z"
   },
   {
    "duration": 31,
    "start_time": "2022-08-26T15:31:06.635Z"
   },
   {
    "duration": 25,
    "start_time": "2022-08-26T15:31:07.360Z"
   },
   {
    "duration": 12,
    "start_time": "2022-08-26T15:31:08.102Z"
   },
   {
    "duration": 12,
    "start_time": "2022-08-26T15:31:16.520Z"
   },
   {
    "duration": 17,
    "start_time": "2022-08-26T15:31:17.376Z"
   },
   {
    "duration": 13,
    "start_time": "2022-08-26T15:31:21.898Z"
   },
   {
    "duration": 3,
    "start_time": "2022-08-26T15:31:23.146Z"
   },
   {
    "duration": 15,
    "start_time": "2022-08-26T15:31:41.675Z"
   },
   {
    "duration": 4,
    "start_time": "2022-08-26T15:37:28.216Z"
   },
   {
    "duration": 4,
    "start_time": "2022-08-26T15:37:29.900Z"
   },
   {
    "duration": 4,
    "start_time": "2022-08-26T15:37:32.079Z"
   },
   {
    "duration": 4,
    "start_time": "2022-08-26T15:38:52.154Z"
   },
   {
    "duration": 4,
    "start_time": "2022-08-26T15:39:10.990Z"
   },
   {
    "duration": 5,
    "start_time": "2022-08-26T15:39:21.346Z"
   },
   {
    "duration": 4,
    "start_time": "2022-08-26T15:39:21.878Z"
   },
   {
    "duration": 2062,
    "start_time": "2022-08-27T10:19:47.821Z"
   },
   {
    "duration": 12,
    "start_time": "2022-08-27T10:19:49.885Z"
   },
   {
    "duration": 19,
    "start_time": "2022-08-27T10:19:49.899Z"
   },
   {
    "duration": 18,
    "start_time": "2022-08-27T10:19:49.920Z"
   },
   {
    "duration": 8,
    "start_time": "2022-08-27T10:19:49.940Z"
   },
   {
    "duration": 15,
    "start_time": "2022-08-27T10:19:49.950Z"
   },
   {
    "duration": 8,
    "start_time": "2022-08-27T10:19:49.966Z"
   },
   {
    "duration": 16,
    "start_time": "2022-08-27T10:19:50.005Z"
   },
   {
    "duration": 9,
    "start_time": "2022-08-27T10:19:50.023Z"
   },
   {
    "duration": 13,
    "start_time": "2022-08-27T10:19:50.036Z"
   },
   {
    "duration": 18,
    "start_time": "2022-08-27T10:19:50.051Z"
   },
   {
    "duration": 36,
    "start_time": "2022-08-27T10:19:50.071Z"
   },
   {
    "duration": 37,
    "start_time": "2022-08-27T10:19:50.108Z"
   },
   {
    "duration": 21,
    "start_time": "2022-08-27T10:19:50.146Z"
   },
   {
    "duration": 42,
    "start_time": "2022-08-27T10:19:50.168Z"
   },
   {
    "duration": 111,
    "start_time": "2022-08-27T10:19:50.211Z"
   },
   {
    "duration": 34,
    "start_time": "2022-08-27T10:19:50.324Z"
   },
   {
    "duration": 68,
    "start_time": "2022-08-27T10:19:50.360Z"
   },
   {
    "duration": 23,
    "start_time": "2022-08-27T10:19:50.430Z"
   },
   {
    "duration": 19,
    "start_time": "2022-08-27T10:19:50.455Z"
   },
   {
    "duration": 47,
    "start_time": "2022-08-27T10:19:50.475Z"
   },
   {
    "duration": 23,
    "start_time": "2022-08-27T10:19:50.523Z"
   },
   {
    "duration": 14,
    "start_time": "2022-08-27T10:19:50.547Z"
   },
   {
    "duration": 12,
    "start_time": "2022-08-27T10:19:50.563Z"
   },
   {
    "duration": 15,
    "start_time": "2022-08-27T10:19:50.607Z"
   },
   {
    "duration": 16,
    "start_time": "2022-08-27T10:19:50.623Z"
   },
   {
    "duration": 3,
    "start_time": "2022-08-27T10:19:50.641Z"
   },
   {
    "duration": 4,
    "start_time": "2022-08-27T10:19:50.648Z"
   },
   {
    "duration": 93,
    "start_time": "2022-08-27T10:19:50.653Z"
   },
   {
    "duration": 15,
    "start_time": "2022-08-27T10:19:50.748Z"
   },
   {
    "duration": 14,
    "start_time": "2022-08-27T10:19:50.765Z"
   },
   {
    "duration": 63,
    "start_time": "2022-08-27T10:19:50.781Z"
   },
   {
    "duration": 3,
    "start_time": "2022-08-27T10:19:50.846Z"
   },
   {
    "duration": 16,
    "start_time": "2022-08-27T10:19:50.851Z"
   },
   {
    "duration": 71,
    "start_time": "2022-08-27T10:19:50.869Z"
   },
   {
    "duration": 20,
    "start_time": "2022-08-27T10:19:50.941Z"
   },
   {
    "duration": 30,
    "start_time": "2022-08-27T10:19:50.962Z"
   },
   {
    "duration": 160,
    "start_time": "2022-08-27T10:19:50.993Z"
   },
   {
    "duration": 118,
    "start_time": "2022-08-27T10:19:51.154Z"
   },
   {
    "duration": 124,
    "start_time": "2022-08-27T10:19:51.273Z"
   },
   {
    "duration": 211,
    "start_time": "2022-08-27T10:19:51.399Z"
   },
   {
    "duration": 257,
    "start_time": "2022-08-27T10:19:51.611Z"
   },
   {
    "duration": 171,
    "start_time": "2022-08-27T10:19:51.870Z"
   },
   {
    "duration": 12,
    "start_time": "2022-08-27T10:19:52.043Z"
   },
   {
    "duration": 13,
    "start_time": "2022-08-27T10:19:52.056Z"
   },
   {
    "duration": 13,
    "start_time": "2022-08-27T10:19:52.071Z"
   },
   {
    "duration": 22,
    "start_time": "2022-08-27T10:19:52.086Z"
   },
   {
    "duration": 257,
    "start_time": "2022-08-27T10:19:52.110Z"
   },
   {
    "duration": 257,
    "start_time": "2022-08-27T10:19:52.369Z"
   },
   {
    "duration": 330,
    "start_time": "2022-08-27T10:19:52.627Z"
   },
   {
    "duration": 383,
    "start_time": "2022-08-27T10:19:52.958Z"
   },
   {
    "duration": 6,
    "start_time": "2022-08-27T10:19:53.343Z"
   },
   {
    "duration": 11,
    "start_time": "2022-08-27T10:19:53.350Z"
   },
   {
    "duration": 7,
    "start_time": "2022-08-27T10:19:53.362Z"
   },
   {
    "duration": 11,
    "start_time": "2022-08-27T10:19:53.370Z"
   },
   {
    "duration": 9,
    "start_time": "2022-08-27T10:19:53.383Z"
   },
   {
    "duration": 89,
    "start_time": "2022-08-27T10:19:53.393Z"
   },
   {
    "duration": 6,
    "start_time": "2022-08-27T10:19:53.484Z"
   },
   {
    "duration": 15,
    "start_time": "2022-08-27T10:19:53.491Z"
   },
   {
    "duration": 87,
    "start_time": "2022-08-27T10:19:53.507Z"
   },
   {
    "duration": 0,
    "start_time": "2022-08-27T10:19:53.595Z"
   },
   {
    "duration": 0,
    "start_time": "2022-08-27T10:19:53.606Z"
   },
   {
    "duration": 0,
    "start_time": "2022-08-27T10:19:53.607Z"
   },
   {
    "duration": 0,
    "start_time": "2022-08-27T10:19:53.608Z"
   },
   {
    "duration": 0,
    "start_time": "2022-08-27T10:19:53.609Z"
   },
   {
    "duration": 0,
    "start_time": "2022-08-27T10:19:53.611Z"
   },
   {
    "duration": 0,
    "start_time": "2022-08-27T10:19:53.612Z"
   },
   {
    "duration": 0,
    "start_time": "2022-08-27T10:19:53.613Z"
   },
   {
    "duration": 0,
    "start_time": "2022-08-27T10:19:53.614Z"
   },
   {
    "duration": 0,
    "start_time": "2022-08-27T10:19:53.615Z"
   },
   {
    "duration": 0,
    "start_time": "2022-08-27T10:19:53.616Z"
   },
   {
    "duration": 0,
    "start_time": "2022-08-27T10:19:53.617Z"
   },
   {
    "duration": 0,
    "start_time": "2022-08-27T10:19:53.618Z"
   },
   {
    "duration": 0,
    "start_time": "2022-08-27T10:19:53.619Z"
   },
   {
    "duration": 0,
    "start_time": "2022-08-27T10:19:53.621Z"
   },
   {
    "duration": 21,
    "start_time": "2022-08-27T10:22:17.423Z"
   },
   {
    "duration": 27,
    "start_time": "2022-08-27T10:24:30.896Z"
   },
   {
    "duration": 18,
    "start_time": "2022-08-27T10:24:39.962Z"
   },
   {
    "duration": 7,
    "start_time": "2022-08-27T10:29:02.722Z"
   },
   {
    "duration": 9,
    "start_time": "2022-08-27T10:29:03.528Z"
   },
   {
    "duration": 108,
    "start_time": "2022-08-27T10:29:03.919Z"
   },
   {
    "duration": 18,
    "start_time": "2022-08-27T10:29:04.069Z"
   },
   {
    "duration": 41,
    "start_time": "2022-08-27T10:29:04.244Z"
   },
   {
    "duration": 8,
    "start_time": "2022-08-27T10:29:04.421Z"
   },
   {
    "duration": 5,
    "start_time": "2022-08-27T10:29:04.759Z"
   },
   {
    "duration": 3,
    "start_time": "2022-08-27T10:29:04.926Z"
   },
   {
    "duration": 8,
    "start_time": "2022-08-27T10:29:05.101Z"
   },
   {
    "duration": 5,
    "start_time": "2022-08-27T10:29:05.273Z"
   },
   {
    "duration": 8,
    "start_time": "2022-08-27T10:29:05.454Z"
   },
   {
    "duration": 4,
    "start_time": "2022-08-27T10:29:05.622Z"
   },
   {
    "duration": 8,
    "start_time": "2022-08-27T10:29:05.791Z"
   },
   {
    "duration": 5,
    "start_time": "2022-08-27T10:29:05.972Z"
   },
   {
    "duration": 2210,
    "start_time": "2022-08-27T10:51:40.436Z"
   },
   {
    "duration": 13,
    "start_time": "2022-08-27T10:51:42.648Z"
   },
   {
    "duration": 31,
    "start_time": "2022-08-27T10:51:42.662Z"
   },
   {
    "duration": 20,
    "start_time": "2022-08-27T10:51:42.786Z"
   },
   {
    "duration": 11,
    "start_time": "2022-08-27T10:51:42.808Z"
   },
   {
    "duration": 32,
    "start_time": "2022-08-27T10:51:42.820Z"
   },
   {
    "duration": 7,
    "start_time": "2022-08-27T10:51:42.854Z"
   },
   {
    "duration": 18,
    "start_time": "2022-08-27T10:51:42.987Z"
   },
   {
    "duration": 9,
    "start_time": "2022-08-27T10:51:43.857Z"
   },
   {
    "duration": 15,
    "start_time": "2022-08-27T10:51:44.089Z"
   },
   {
    "duration": 9,
    "start_time": "2022-08-27T10:51:44.289Z"
   },
   {
    "duration": 12,
    "start_time": "2022-08-27T10:51:45.244Z"
   },
   {
    "duration": 37,
    "start_time": "2022-08-27T10:51:45.441Z"
   },
   {
    "duration": 23,
    "start_time": "2022-08-27T10:51:45.645Z"
   },
   {
    "duration": 28,
    "start_time": "2022-08-27T10:51:45.842Z"
   },
   {
    "duration": 99,
    "start_time": "2022-08-27T10:51:46.432Z"
   },
   {
    "duration": 35,
    "start_time": "2022-08-27T10:51:47.190Z"
   },
   {
    "duration": 52,
    "start_time": "2022-08-27T10:51:47.297Z"
   },
   {
    "duration": 25,
    "start_time": "2022-08-27T10:51:47.753Z"
   },
   {
    "duration": 20,
    "start_time": "2022-08-27T10:51:48.776Z"
   },
   {
    "duration": 29,
    "start_time": "2022-08-27T10:51:49.444Z"
   },
   {
    "duration": 25,
    "start_time": "2022-08-27T10:51:50.126Z"
   },
   {
    "duration": 13,
    "start_time": "2022-08-27T10:51:50.681Z"
   },
   {
    "duration": 13,
    "start_time": "2022-08-27T10:51:52.070Z"
   },
   {
    "duration": 18,
    "start_time": "2022-08-27T10:51:52.638Z"
   },
   {
    "duration": 17,
    "start_time": "2022-08-27T10:51:52.985Z"
   },
   {
    "duration": 3,
    "start_time": "2022-08-27T10:51:54.366Z"
   },
   {
    "duration": 4,
    "start_time": "2022-08-27T10:51:54.975Z"
   },
   {
    "duration": 59,
    "start_time": "2022-08-27T10:51:55.371Z"
   },
   {
    "duration": 4,
    "start_time": "2022-08-27T10:51:56.088Z"
   },
   {
    "duration": 4,
    "start_time": "2022-08-27T10:51:56.580Z"
   },
   {
    "duration": 59,
    "start_time": "2022-08-27T10:51:57.026Z"
   },
   {
    "duration": 3,
    "start_time": "2022-08-27T10:51:58.846Z"
   },
   {
    "duration": 4,
    "start_time": "2022-08-27T10:52:38.664Z"
   },
   {
    "duration": 57,
    "start_time": "2022-08-27T10:52:39.287Z"
   },
   {
    "duration": 21,
    "start_time": "2022-08-27T10:52:40.016Z"
   },
   {
    "duration": 23,
    "start_time": "2022-08-27T10:52:40.743Z"
   },
   {
    "duration": 139,
    "start_time": "2022-08-27T10:52:42.342Z"
   },
   {
    "duration": 119,
    "start_time": "2022-08-27T10:52:43.810Z"
   },
   {
    "duration": 124,
    "start_time": "2022-08-27T10:52:46.611Z"
   },
   {
    "duration": 212,
    "start_time": "2022-08-27T10:52:48.432Z"
   },
   {
    "duration": 263,
    "start_time": "2022-08-27T10:52:51.117Z"
   },
   {
    "duration": 183,
    "start_time": "2022-08-27T10:52:52.572Z"
   },
   {
    "duration": 11,
    "start_time": "2022-08-27T10:52:54.205Z"
   },
   {
    "duration": 11,
    "start_time": "2022-08-27T10:52:55.008Z"
   },
   {
    "duration": 12,
    "start_time": "2022-08-27T10:52:55.731Z"
   },
   {
    "duration": 4,
    "start_time": "2022-08-27T10:52:56.718Z"
   },
   {
    "duration": 283,
    "start_time": "2022-08-27T10:52:57.601Z"
   },
   {
    "duration": 276,
    "start_time": "2022-08-27T10:52:58.323Z"
   },
   {
    "duration": 329,
    "start_time": "2022-08-27T10:52:58.975Z"
   },
   {
    "duration": 402,
    "start_time": "2022-08-27T10:53:02.099Z"
   },
   {
    "duration": 8,
    "start_time": "2022-08-27T10:53:03.079Z"
   },
   {
    "duration": 10,
    "start_time": "2022-08-27T10:53:03.904Z"
   },
   {
    "duration": 4,
    "start_time": "2022-08-27T10:53:04.506Z"
   },
   {
    "duration": 5,
    "start_time": "2022-08-27T10:53:05.392Z"
   },
   {
    "duration": 3,
    "start_time": "2022-08-27T10:53:06.065Z"
   },
   {
    "duration": 7,
    "start_time": "2022-08-27T10:53:06.780Z"
   },
   {
    "duration": 5,
    "start_time": "2022-08-27T10:53:08.662Z"
   },
   {
    "duration": 5,
    "start_time": "2022-08-27T10:53:11.464Z"
   },
   {
    "duration": 91,
    "start_time": "2022-08-27T10:53:15.048Z"
   },
   {
    "duration": 4,
    "start_time": "2022-08-27T10:53:15.917Z"
   },
   {
    "duration": 386,
    "start_time": "2022-08-27T10:53:27.877Z"
   },
   {
    "duration": 6,
    "start_time": "2022-08-27T10:53:32.196Z"
   },
   {
    "duration": 7,
    "start_time": "2022-08-27T10:53:33.014Z"
   },
   {
    "duration": 3,
    "start_time": "2022-08-27T10:53:34.023Z"
   },
   {
    "duration": 6,
    "start_time": "2022-08-27T10:53:34.840Z"
   },
   {
    "duration": 4,
    "start_time": "2022-08-27T10:53:35.441Z"
   },
   {
    "duration": 92,
    "start_time": "2022-08-27T10:53:36.939Z"
   },
   {
    "duration": 6,
    "start_time": "2022-08-27T10:53:46.778Z"
   },
   {
    "duration": 6,
    "start_time": "2022-08-27T10:53:59.239Z"
   },
   {
    "duration": 6,
    "start_time": "2022-08-27T10:54:09.635Z"
   },
   {
    "duration": 6,
    "start_time": "2022-08-27T10:54:30.742Z"
   },
   {
    "duration": 4,
    "start_time": "2022-08-27T10:54:34.548Z"
   },
   {
    "duration": 8,
    "start_time": "2022-08-27T10:54:35.272Z"
   },
   {
    "duration": 9,
    "start_time": "2022-08-27T10:54:40.224Z"
   },
   {
    "duration": 5,
    "start_time": "2022-08-27T10:54:49.649Z"
   },
   {
    "duration": 3,
    "start_time": "2022-08-27T10:54:52.694Z"
   },
   {
    "duration": 4,
    "start_time": "2022-08-27T10:54:55.122Z"
   },
   {
    "duration": 56,
    "start_time": "2022-08-27T11:00:52.526Z"
   },
   {
    "duration": 53,
    "start_time": "2022-08-27T11:02:40.031Z"
   },
   {
    "duration": 326,
    "start_time": "2022-08-27T11:03:36.303Z"
   },
   {
    "duration": 19,
    "start_time": "2022-08-27T11:04:16.535Z"
   },
   {
    "duration": 344,
    "start_time": "2022-08-27T11:04:26.970Z"
   },
   {
    "duration": 12,
    "start_time": "2022-08-27T11:04:27.557Z"
   },
   {
    "duration": 11,
    "start_time": "2022-08-27T11:04:27.759Z"
   },
   {
    "duration": 21,
    "start_time": "2022-08-27T11:04:27.965Z"
   },
   {
    "duration": 9,
    "start_time": "2022-08-27T11:04:28.146Z"
   },
   {
    "duration": 18,
    "start_time": "2022-08-27T11:04:28.341Z"
   },
   {
    "duration": 8,
    "start_time": "2022-08-27T11:04:28.510Z"
   },
   {
    "duration": 17,
    "start_time": "2022-08-27T11:04:28.707Z"
   },
   {
    "duration": 12,
    "start_time": "2022-08-27T11:04:28.910Z"
   },
   {
    "duration": 12,
    "start_time": "2022-08-27T11:04:29.113Z"
   },
   {
    "duration": 9,
    "start_time": "2022-08-27T11:04:29.317Z"
   },
   {
    "duration": 13,
    "start_time": "2022-08-27T11:04:30.410Z"
   },
   {
    "duration": 35,
    "start_time": "2022-08-27T11:04:30.635Z"
   },
   {
    "duration": 23,
    "start_time": "2022-08-27T11:04:30.829Z"
   },
   {
    "duration": 28,
    "start_time": "2022-08-27T11:04:31.040Z"
   },
   {
    "duration": 93,
    "start_time": "2022-08-27T11:04:32.148Z"
   },
   {
    "duration": 34,
    "start_time": "2022-08-27T11:04:33.268Z"
   },
   {
    "duration": 62,
    "start_time": "2022-08-27T11:04:48.857Z"
   },
   {
    "duration": 47,
    "start_time": "2022-08-27T11:18:07.595Z"
   },
   {
    "duration": 48,
    "start_time": "2022-08-27T11:18:17.591Z"
   },
   {
    "duration": 48,
    "start_time": "2022-08-27T11:18:21.093Z"
   },
   {
    "duration": 24,
    "start_time": "2022-08-27T11:20:16.878Z"
   },
   {
    "duration": 20,
    "start_time": "2022-08-27T11:20:17.567Z"
   },
   {
    "duration": 28,
    "start_time": "2022-08-27T11:20:18.177Z"
   },
   {
    "duration": 24,
    "start_time": "2022-08-27T11:20:18.766Z"
   },
   {
    "duration": 13,
    "start_time": "2022-08-27T11:20:19.749Z"
   },
   {
    "duration": 12,
    "start_time": "2022-08-27T11:20:35.638Z"
   },
   {
    "duration": 24,
    "start_time": "2022-08-27T11:20:36.517Z"
   },
   {
    "duration": 26,
    "start_time": "2022-08-27T11:20:37.614Z"
   },
   {
    "duration": 3,
    "start_time": "2022-08-27T11:20:44.093Z"
   },
   {
    "duration": 5,
    "start_time": "2022-08-27T11:20:44.607Z"
   },
   {
    "duration": 58,
    "start_time": "2022-08-27T11:20:45.238Z"
   },
   {
    "duration": 3,
    "start_time": "2022-08-27T11:20:45.925Z"
   },
   {
    "duration": 4,
    "start_time": "2022-08-27T11:20:46.444Z"
   },
   {
    "duration": 57,
    "start_time": "2022-08-27T11:20:47.050Z"
   },
   {
    "duration": 16,
    "start_time": "2022-08-27T11:35:34.094Z"
   },
   {
    "duration": 68,
    "start_time": "2022-08-27T11:35:46.218Z"
   },
   {
    "duration": 16,
    "start_time": "2022-08-27T11:35:53.936Z"
   },
   {
    "duration": 1556,
    "start_time": "2022-08-27T11:36:28.613Z"
   },
   {
    "duration": 16,
    "start_time": "2022-08-27T11:36:53.149Z"
   },
   {
    "duration": 3,
    "start_time": "2022-08-27T11:37:04.376Z"
   },
   {
    "duration": 4,
    "start_time": "2022-08-27T11:37:05.077Z"
   },
   {
    "duration": 60,
    "start_time": "2022-08-27T11:37:06.384Z"
   },
   {
    "duration": 3,
    "start_time": "2022-08-27T11:37:07.368Z"
   },
   {
    "duration": 4,
    "start_time": "2022-08-27T11:37:10.484Z"
   },
   {
    "duration": 799,
    "start_time": "2022-08-27T11:41:10.185Z"
   },
   {
    "duration": 724,
    "start_time": "2022-08-27T11:41:27.824Z"
   },
   {
    "duration": 1405,
    "start_time": "2022-08-27T11:41:54.356Z"
   },
   {
    "duration": 17,
    "start_time": "2022-08-27T11:42:00.958Z"
   },
   {
    "duration": 328,
    "start_time": "2022-08-27T11:42:17.866Z"
   },
   {
    "duration": 14,
    "start_time": "2022-08-27T11:42:18.911Z"
   },
   {
    "duration": 11,
    "start_time": "2022-08-27T11:42:19.255Z"
   },
   {
    "duration": 21,
    "start_time": "2022-08-27T11:42:19.472Z"
   },
   {
    "duration": 9,
    "start_time": "2022-08-27T11:42:19.669Z"
   },
   {
    "duration": 16,
    "start_time": "2022-08-27T11:42:19.876Z"
   },
   {
    "duration": 8,
    "start_time": "2022-08-27T11:42:20.069Z"
   },
   {
    "duration": 17,
    "start_time": "2022-08-27T11:42:20.266Z"
   },
   {
    "duration": 9,
    "start_time": "2022-08-27T11:42:20.491Z"
   },
   {
    "duration": 11,
    "start_time": "2022-08-27T11:42:20.709Z"
   },
   {
    "duration": 10,
    "start_time": "2022-08-27T11:42:20.955Z"
   },
   {
    "duration": 11,
    "start_time": "2022-08-27T11:42:22.161Z"
   },
   {
    "duration": 33,
    "start_time": "2022-08-27T11:42:22.632Z"
   },
   {
    "duration": 22,
    "start_time": "2022-08-27T11:42:23.027Z"
   },
   {
    "duration": 28,
    "start_time": "2022-08-27T11:42:25.070Z"
   },
   {
    "duration": 97,
    "start_time": "2022-08-27T11:42:26.714Z"
   },
   {
    "duration": 33,
    "start_time": "2022-08-27T11:42:27.725Z"
   },
   {
    "duration": 55,
    "start_time": "2022-08-27T11:42:33.379Z"
   },
   {
    "duration": 25,
    "start_time": "2022-08-27T11:42:35.562Z"
   },
   {
    "duration": 20,
    "start_time": "2022-08-27T11:42:36.244Z"
   },
   {
    "duration": 30,
    "start_time": "2022-08-27T11:42:36.835Z"
   },
   {
    "duration": 24,
    "start_time": "2022-08-27T11:42:37.438Z"
   },
   {
    "duration": 13,
    "start_time": "2022-08-27T11:42:39.108Z"
   },
   {
    "duration": 12,
    "start_time": "2022-08-27T11:42:40.675Z"
   },
   {
    "duration": 16,
    "start_time": "2022-08-27T11:42:41.489Z"
   },
   {
    "duration": 17,
    "start_time": "2022-08-27T11:42:48.070Z"
   },
   {
    "duration": 17,
    "start_time": "2022-08-27T11:43:37.416Z"
   },
   {
    "duration": 53,
    "start_time": "2022-08-27T11:43:47.853Z"
   },
   {
    "duration": 17,
    "start_time": "2022-08-27T11:43:57.710Z"
   },
   {
    "duration": 17,
    "start_time": "2022-08-27T11:44:51.730Z"
   },
   {
    "duration": 18,
    "start_time": "2022-08-27T11:46:50.891Z"
   },
   {
    "duration": 17,
    "start_time": "2022-08-27T11:47:18.734Z"
   },
   {
    "duration": 18,
    "start_time": "2022-08-27T11:47:28.081Z"
   },
   {
    "duration": 23,
    "start_time": "2022-08-27T11:50:11.686Z"
   },
   {
    "duration": 3,
    "start_time": "2022-08-27T11:50:15.167Z"
   },
   {
    "duration": 4,
    "start_time": "2022-08-27T11:50:19.064Z"
   },
   {
    "duration": 61,
    "start_time": "2022-08-27T11:50:19.817Z"
   },
   {
    "duration": 3,
    "start_time": "2022-08-27T11:50:20.555Z"
   },
   {
    "duration": 4,
    "start_time": "2022-08-27T11:50:21.254Z"
   },
   {
    "duration": 57,
    "start_time": "2022-08-27T11:50:23.413Z"
   },
   {
    "duration": 3,
    "start_time": "2022-08-27T11:50:52.739Z"
   },
   {
    "duration": 8,
    "start_time": "2022-08-27T11:51:48.903Z"
   },
   {
    "duration": 59,
    "start_time": "2022-08-27T11:51:49.953Z"
   },
   {
    "duration": 22,
    "start_time": "2022-08-27T11:51:51.428Z"
   },
   {
    "duration": 30,
    "start_time": "2022-08-27T11:51:56.115Z"
   },
   {
    "duration": 133,
    "start_time": "2022-08-27T11:52:01.994Z"
   },
   {
    "duration": 204,
    "start_time": "2022-08-27T11:52:06.456Z"
   },
   {
    "duration": 127,
    "start_time": "2022-08-27T11:52:22.242Z"
   },
   {
    "duration": 209,
    "start_time": "2022-08-27T11:52:31.181Z"
   },
   {
    "duration": 198,
    "start_time": "2022-08-27T11:52:40.595Z"
   },
   {
    "duration": 11,
    "start_time": "2022-08-27T11:52:44.464Z"
   },
   {
    "duration": 187,
    "start_time": "2022-08-27T11:52:49.369Z"
   },
   {
    "duration": 10,
    "start_time": "2022-08-27T11:52:57.264Z"
   },
   {
    "duration": 11,
    "start_time": "2022-08-27T11:52:58.278Z"
   },
   {
    "duration": 14,
    "start_time": "2022-08-27T11:52:58.910Z"
   },
   {
    "duration": 12,
    "start_time": "2022-08-27T11:53:04.628Z"
   },
   {
    "duration": 5,
    "start_time": "2022-08-27T11:53:18.369Z"
   },
   {
    "duration": 269,
    "start_time": "2022-08-27T11:53:35.339Z"
   },
   {
    "duration": 264,
    "start_time": "2022-08-27T11:53:43.824Z"
   },
   {
    "duration": 112,
    "start_time": "2022-08-27T11:53:47.918Z"
   },
   {
    "duration": 416,
    "start_time": "2022-08-27T11:53:52.115Z"
   },
   {
    "duration": 400,
    "start_time": "2022-08-27T11:59:47.502Z"
   },
   {
    "duration": 9,
    "start_time": "2022-08-27T11:59:48.914Z"
   },
   {
    "duration": 9,
    "start_time": "2022-08-27T11:59:49.943Z"
   },
   {
    "duration": 3,
    "start_time": "2022-08-27T11:59:50.730Z"
   },
   {
    "duration": 6,
    "start_time": "2022-08-27T11:59:51.582Z"
   },
   {
    "duration": 3,
    "start_time": "2022-08-27T11:59:52.254Z"
   },
   {
    "duration": 6,
    "start_time": "2022-08-27T11:59:52.870Z"
   },
   {
    "duration": 5,
    "start_time": "2022-08-27T11:59:53.789Z"
   },
   {
    "duration": 5,
    "start_time": "2022-08-27T11:59:54.486Z"
   },
   {
    "duration": 3,
    "start_time": "2022-08-27T12:01:07.285Z"
   },
   {
    "duration": 4,
    "start_time": "2022-08-27T12:01:08.191Z"
   },
   {
    "duration": 383,
    "start_time": "2022-08-27T12:01:24.757Z"
   },
   {
    "duration": 7,
    "start_time": "2022-08-27T12:01:29.161Z"
   },
   {
    "duration": 8,
    "start_time": "2022-08-27T12:01:31.815Z"
   },
   {
    "duration": 3,
    "start_time": "2022-08-27T12:01:36.708Z"
   },
   {
    "duration": 6,
    "start_time": "2022-08-27T12:01:37.784Z"
   },
   {
    "duration": 5,
    "start_time": "2022-08-27T12:01:38.873Z"
   },
   {
    "duration": 6,
    "start_time": "2022-08-27T12:01:41.289Z"
   },
   {
    "duration": 4,
    "start_time": "2022-08-27T12:01:43.208Z"
   },
   {
    "duration": 4,
    "start_time": "2022-08-27T12:01:43.999Z"
   },
   {
    "duration": 3,
    "start_time": "2022-08-27T12:01:46.985Z"
   },
   {
    "duration": 4,
    "start_time": "2022-08-27T12:01:47.775Z"
   },
   {
    "duration": 1478,
    "start_time": "2022-08-27T12:03:07.025Z"
   },
   {
    "duration": 12,
    "start_time": "2022-08-27T12:03:08.505Z"
   },
   {
    "duration": 18,
    "start_time": "2022-08-27T12:03:08.518Z"
   },
   {
    "duration": 19,
    "start_time": "2022-08-27T12:03:08.538Z"
   },
   {
    "duration": 8,
    "start_time": "2022-08-27T12:03:08.559Z"
   },
   {
    "duration": 18,
    "start_time": "2022-08-27T12:03:08.569Z"
   },
   {
    "duration": 7,
    "start_time": "2022-08-27T12:03:08.589Z"
   },
   {
    "duration": 41,
    "start_time": "2022-08-27T12:03:08.597Z"
   },
   {
    "duration": 17,
    "start_time": "2022-08-27T12:03:08.640Z"
   },
   {
    "duration": 14,
    "start_time": "2022-08-27T12:03:08.662Z"
   },
   {
    "duration": 12,
    "start_time": "2022-08-27T12:03:08.678Z"
   },
   {
    "duration": 15,
    "start_time": "2022-08-27T12:03:08.691Z"
   },
   {
    "duration": 44,
    "start_time": "2022-08-27T12:03:08.707Z"
   },
   {
    "duration": 21,
    "start_time": "2022-08-27T12:03:08.753Z"
   },
   {
    "duration": 29,
    "start_time": "2022-08-27T12:03:08.776Z"
   },
   {
    "duration": 155,
    "start_time": "2022-08-27T12:03:08.807Z"
   },
   {
    "duration": 42,
    "start_time": "2022-08-27T12:03:08.964Z"
   },
   {
    "duration": 71,
    "start_time": "2022-08-27T12:03:09.008Z"
   },
   {
    "duration": 26,
    "start_time": "2022-08-27T12:03:09.080Z"
   },
   {
    "duration": 38,
    "start_time": "2022-08-27T12:03:09.108Z"
   },
   {
    "duration": 29,
    "start_time": "2022-08-27T12:03:09.149Z"
   },
   {
    "duration": 25,
    "start_time": "2022-08-27T12:03:09.181Z"
   },
   {
    "duration": 40,
    "start_time": "2022-08-27T12:03:09.208Z"
   },
   {
    "duration": 11,
    "start_time": "2022-08-27T12:03:09.250Z"
   },
   {
    "duration": 21,
    "start_time": "2022-08-27T12:03:09.263Z"
   },
   {
    "duration": 18,
    "start_time": "2022-08-27T12:03:09.286Z"
   },
   {
    "duration": 3,
    "start_time": "2022-08-27T12:03:09.306Z"
   },
   {
    "duration": 4,
    "start_time": "2022-08-27T12:03:09.339Z"
   },
   {
    "duration": 68,
    "start_time": "2022-08-27T12:03:09.345Z"
   },
   {
    "duration": 4,
    "start_time": "2022-08-27T12:03:09.415Z"
   },
   {
    "duration": 7,
    "start_time": "2022-08-27T12:03:09.420Z"
   },
   {
    "duration": 61,
    "start_time": "2022-08-27T12:03:09.438Z"
   },
   {
    "duration": 3,
    "start_time": "2022-08-27T12:03:09.500Z"
   },
   {
    "duration": 10,
    "start_time": "2022-08-27T12:03:09.505Z"
   },
   {
    "duration": 69,
    "start_time": "2022-08-27T12:03:09.517Z"
   },
   {
    "duration": 22,
    "start_time": "2022-08-27T12:03:09.587Z"
   },
   {
    "duration": 41,
    "start_time": "2022-08-27T12:03:09.611Z"
   },
   {
    "duration": 148,
    "start_time": "2022-08-27T12:03:09.654Z"
   },
   {
    "duration": 136,
    "start_time": "2022-08-27T12:03:09.804Z"
   },
   {
    "duration": 123,
    "start_time": "2022-08-27T12:03:09.941Z"
   },
   {
    "duration": 231,
    "start_time": "2022-08-27T12:03:10.066Z"
   },
   {
    "duration": 270,
    "start_time": "2022-08-27T12:03:10.298Z"
   },
   {
    "duration": 202,
    "start_time": "2022-08-27T12:03:10.569Z"
   },
   {
    "duration": 11,
    "start_time": "2022-08-27T12:03:10.772Z"
   },
   {
    "duration": 12,
    "start_time": "2022-08-27T12:03:10.784Z"
   },
   {
    "duration": 12,
    "start_time": "2022-08-27T12:03:10.797Z"
   },
   {
    "duration": 8,
    "start_time": "2022-08-27T12:03:10.810Z"
   },
   {
    "duration": 277,
    "start_time": "2022-08-27T12:03:10.819Z"
   },
   {
    "duration": 289,
    "start_time": "2022-08-27T12:03:11.097Z"
   },
   {
    "duration": 353,
    "start_time": "2022-08-27T12:03:11.388Z"
   },
   {
    "duration": 390,
    "start_time": "2022-08-27T12:03:11.743Z"
   },
   {
    "duration": 6,
    "start_time": "2022-08-27T12:03:12.138Z"
   },
   {
    "duration": 12,
    "start_time": "2022-08-27T12:03:12.146Z"
   },
   {
    "duration": 3,
    "start_time": "2022-08-27T12:03:12.159Z"
   },
   {
    "duration": 12,
    "start_time": "2022-08-27T12:03:12.164Z"
   },
   {
    "duration": 6,
    "start_time": "2022-08-27T12:03:12.177Z"
   },
   {
    "duration": 107,
    "start_time": "2022-08-27T12:03:12.184Z"
   },
   {
    "duration": 8,
    "start_time": "2022-08-27T12:03:12.292Z"
   },
   {
    "duration": 6,
    "start_time": "2022-08-27T12:03:12.301Z"
   },
   {
    "duration": 5,
    "start_time": "2022-08-27T12:03:12.308Z"
   },
   {
    "duration": 6,
    "start_time": "2022-08-27T12:03:12.314Z"
   },
   {
    "duration": 404,
    "start_time": "2022-08-27T12:03:12.321Z"
   },
   {
    "duration": 13,
    "start_time": "2022-08-27T12:03:12.726Z"
   },
   {
    "duration": 27,
    "start_time": "2022-08-27T12:03:12.740Z"
   },
   {
    "duration": 21,
    "start_time": "2022-08-27T12:03:12.769Z"
   },
   {
    "duration": 16,
    "start_time": "2022-08-27T12:03:12.792Z"
   },
   {
    "duration": 18,
    "start_time": "2022-08-27T12:03:12.810Z"
   },
   {
    "duration": 23,
    "start_time": "2022-08-27T12:03:12.829Z"
   },
   {
    "duration": 24,
    "start_time": "2022-08-27T12:03:12.854Z"
   },
   {
    "duration": 9,
    "start_time": "2022-08-27T12:03:12.880Z"
   },
   {
    "duration": 5,
    "start_time": "2022-08-27T12:03:12.891Z"
   },
   {
    "duration": 7,
    "start_time": "2022-08-27T12:03:12.898Z"
   },
   {
    "duration": 337,
    "start_time": "2022-08-27T12:03:20.884Z"
   },
   {
    "duration": 10,
    "start_time": "2022-08-27T12:03:21.629Z"
   },
   {
    "duration": 10,
    "start_time": "2022-08-27T12:03:21.994Z"
   },
   {
    "duration": 21,
    "start_time": "2022-08-27T12:03:22.377Z"
   },
   {
    "duration": 9,
    "start_time": "2022-08-27T12:03:22.722Z"
   },
   {
    "duration": 15,
    "start_time": "2022-08-27T12:03:23.129Z"
   },
   {
    "duration": 8,
    "start_time": "2022-08-27T12:03:23.488Z"
   },
   {
    "duration": 18,
    "start_time": "2022-08-27T12:03:23.895Z"
   },
   {
    "duration": 10,
    "start_time": "2022-08-27T12:03:24.238Z"
   },
   {
    "duration": 12,
    "start_time": "2022-08-27T12:03:24.638Z"
   },
   {
    "duration": 9,
    "start_time": "2022-08-27T12:03:24.967Z"
   },
   {
    "duration": 13,
    "start_time": "2022-08-27T12:03:26.437Z"
   },
   {
    "duration": 38,
    "start_time": "2022-08-27T12:03:26.824Z"
   },
   {
    "duration": 23,
    "start_time": "2022-08-27T12:03:27.152Z"
   },
   {
    "duration": 27,
    "start_time": "2022-08-27T12:03:27.587Z"
   },
   {
    "duration": 106,
    "start_time": "2022-08-27T12:03:28.732Z"
   },
   {
    "duration": 34,
    "start_time": "2022-08-27T12:03:29.413Z"
   },
   {
    "duration": 53,
    "start_time": "2022-08-27T12:03:30.061Z"
   },
   {
    "duration": 25,
    "start_time": "2022-08-27T12:03:31.772Z"
   },
   {
    "duration": 22,
    "start_time": "2022-08-27T12:03:32.152Z"
   },
   {
    "duration": 28,
    "start_time": "2022-08-27T12:03:32.518Z"
   },
   {
    "duration": 25,
    "start_time": "2022-08-27T12:04:05.273Z"
   },
   {
    "duration": 12,
    "start_time": "2022-08-27T12:04:05.755Z"
   },
   {
    "duration": 12,
    "start_time": "2022-08-27T12:04:06.637Z"
   },
   {
    "duration": 15,
    "start_time": "2022-08-27T12:04:07.156Z"
   },
   {
    "duration": 19,
    "start_time": "2022-08-27T12:04:07.558Z"
   },
   {
    "duration": 4,
    "start_time": "2022-08-27T12:04:08.475Z"
   },
   {
    "duration": 5,
    "start_time": "2022-08-27T12:04:08.973Z"
   },
   {
    "duration": 59,
    "start_time": "2022-08-27T12:04:09.431Z"
   },
   {
    "duration": 3,
    "start_time": "2022-08-27T12:04:09.902Z"
   },
   {
    "duration": 4,
    "start_time": "2022-08-27T12:04:10.386Z"
   },
   {
    "duration": 59,
    "start_time": "2022-08-27T12:04:18.178Z"
   },
   {
    "duration": 4,
    "start_time": "2022-08-27T12:04:18.619Z"
   },
   {
    "duration": 4,
    "start_time": "2022-08-27T12:04:19.902Z"
   },
   {
    "duration": 62,
    "start_time": "2022-08-27T12:04:20.332Z"
   },
   {
    "duration": 23,
    "start_time": "2022-08-27T12:04:20.817Z"
   },
   {
    "duration": 26,
    "start_time": "2022-08-27T12:04:21.272Z"
   },
   {
    "duration": 132,
    "start_time": "2022-08-27T12:04:22.563Z"
   },
   {
    "duration": 122,
    "start_time": "2022-08-27T12:04:23.470Z"
   },
   {
    "duration": 132,
    "start_time": "2022-08-27T12:04:24.797Z"
   },
   {
    "duration": 213,
    "start_time": "2022-08-27T12:04:25.717Z"
   },
   {
    "duration": 295,
    "start_time": "2022-08-27T12:04:27.119Z"
   },
   {
    "duration": 191,
    "start_time": "2022-08-27T12:04:28.027Z"
   },
   {
    "duration": 15,
    "start_time": "2022-08-27T12:04:28.913Z"
   },
   {
    "duration": 11,
    "start_time": "2022-08-27T12:04:29.361Z"
   },
   {
    "duration": 12,
    "start_time": "2022-08-27T12:04:29.804Z"
   },
   {
    "duration": 4,
    "start_time": "2022-08-27T12:04:30.261Z"
   },
   {
    "duration": 268,
    "start_time": "2022-08-27T12:04:30.747Z"
   },
   {
    "duration": 261,
    "start_time": "2022-08-27T12:04:31.188Z"
   },
   {
    "duration": 330,
    "start_time": "2022-08-27T12:04:31.615Z"
   },
   {
    "duration": 401,
    "start_time": "2022-08-27T12:04:34.167Z"
   },
   {
    "duration": 6,
    "start_time": "2022-08-27T12:04:34.622Z"
   },
   {
    "duration": 10,
    "start_time": "2022-08-27T12:04:35.010Z"
   },
   {
    "duration": 4,
    "start_time": "2022-08-27T12:04:35.445Z"
   },
   {
    "duration": 5,
    "start_time": "2022-08-27T12:04:35.930Z"
   },
   {
    "duration": 3,
    "start_time": "2022-08-27T12:04:36.428Z"
   },
   {
    "duration": 7,
    "start_time": "2022-08-27T12:04:36.856Z"
   },
   {
    "duration": 4,
    "start_time": "2022-08-27T12:04:37.650Z"
   },
   {
    "duration": 528,
    "start_time": "2022-08-27T12:04:45.136Z"
   },
   {
    "duration": 6,
    "start_time": "2022-08-27T12:04:45.665Z"
   },
   {
    "duration": 8,
    "start_time": "2022-08-27T12:04:46.041Z"
   },
   {
    "duration": 3,
    "start_time": "2022-08-27T12:04:46.534Z"
   },
   {
    "duration": 6,
    "start_time": "2022-08-27T12:04:46.963Z"
   },
   {
    "duration": 3,
    "start_time": "2022-08-27T12:04:47.431Z"
   },
   {
    "duration": 6,
    "start_time": "2022-08-27T12:04:47.888Z"
   },
   {
    "duration": 4,
    "start_time": "2022-08-27T12:04:48.332Z"
   },
   {
    "duration": 5,
    "start_time": "2022-08-27T12:04:54.083Z"
   },
   {
    "duration": 4,
    "start_time": "2022-08-27T12:04:55.482Z"
   },
   {
    "duration": 4,
    "start_time": "2022-08-27T12:05:00.284Z"
   },
   {
    "duration": 403,
    "start_time": "2022-08-27T12:05:01.717Z"
   },
   {
    "duration": 7,
    "start_time": "2022-08-27T12:05:02.384Z"
   },
   {
    "duration": 8,
    "start_time": "2022-08-27T12:05:03.001Z"
   },
   {
    "duration": 4,
    "start_time": "2022-08-27T12:05:03.717Z"
   },
   {
    "duration": 6,
    "start_time": "2022-08-27T12:05:04.140Z"
   },
   {
    "duration": 4,
    "start_time": "2022-08-27T12:05:04.639Z"
   },
   {
    "duration": 6,
    "start_time": "2022-08-27T12:05:05.364Z"
   },
   {
    "duration": 5,
    "start_time": "2022-08-27T12:05:06.043Z"
   },
   {
    "duration": 5,
    "start_time": "2022-08-27T12:05:06.648Z"
   },
   {
    "duration": 3,
    "start_time": "2022-08-27T12:05:10.861Z"
   },
   {
    "duration": 5,
    "start_time": "2022-08-27T12:05:12.629Z"
   },
   {
    "duration": 2034,
    "start_time": "2022-08-28T09:36:25.044Z"
   },
   {
    "duration": 12,
    "start_time": "2022-08-28T09:36:27.080Z"
   },
   {
    "duration": 16,
    "start_time": "2022-08-28T09:36:27.093Z"
   },
   {
    "duration": 16,
    "start_time": "2022-08-28T09:36:27.110Z"
   },
   {
    "duration": 8,
    "start_time": "2022-08-28T09:36:27.128Z"
   },
   {
    "duration": 14,
    "start_time": "2022-08-28T09:36:27.137Z"
   },
   {
    "duration": 7,
    "start_time": "2022-08-28T09:36:27.152Z"
   },
   {
    "duration": 16,
    "start_time": "2022-08-28T09:36:27.160Z"
   },
   {
    "duration": 30,
    "start_time": "2022-08-28T09:36:27.178Z"
   },
   {
    "duration": 11,
    "start_time": "2022-08-28T09:36:27.209Z"
   },
   {
    "duration": 10,
    "start_time": "2022-08-28T09:36:27.221Z"
   },
   {
    "duration": 16,
    "start_time": "2022-08-28T09:36:27.233Z"
   },
   {
    "duration": 33,
    "start_time": "2022-08-28T09:36:27.250Z"
   },
   {
    "duration": 33,
    "start_time": "2022-08-28T09:36:27.286Z"
   },
   {
    "duration": 23,
    "start_time": "2022-08-28T09:36:27.321Z"
   },
   {
    "duration": 102,
    "start_time": "2022-08-28T09:36:27.345Z"
   },
   {
    "duration": 29,
    "start_time": "2022-08-28T09:36:27.449Z"
   },
   {
    "duration": 64,
    "start_time": "2022-08-28T09:36:27.480Z"
   },
   {
    "duration": 23,
    "start_time": "2022-08-28T09:36:27.545Z"
   },
   {
    "duration": 17,
    "start_time": "2022-08-28T09:36:27.570Z"
   },
   {
    "duration": 43,
    "start_time": "2022-08-28T09:36:27.588Z"
   },
   {
    "duration": 21,
    "start_time": "2022-08-28T09:36:27.632Z"
   },
   {
    "duration": 11,
    "start_time": "2022-08-28T09:36:27.654Z"
   },
   {
    "duration": 9,
    "start_time": "2022-08-28T09:36:27.667Z"
   },
   {
    "duration": 38,
    "start_time": "2022-08-28T09:36:27.677Z"
   },
   {
    "duration": 16,
    "start_time": "2022-08-28T09:36:27.717Z"
   },
   {
    "duration": 3,
    "start_time": "2022-08-28T09:36:27.734Z"
   },
   {
    "duration": 9,
    "start_time": "2022-08-28T09:36:27.738Z"
   },
   {
    "duration": 68,
    "start_time": "2022-08-28T09:36:27.749Z"
   },
   {
    "duration": 3,
    "start_time": "2022-08-28T09:36:27.818Z"
   },
   {
    "duration": 10,
    "start_time": "2022-08-28T09:36:27.823Z"
   },
   {
    "duration": 55,
    "start_time": "2022-08-28T09:36:27.834Z"
   },
   {
    "duration": 3,
    "start_time": "2022-08-28T09:36:27.890Z"
   },
   {
    "duration": 3,
    "start_time": "2022-08-28T09:36:27.906Z"
   },
   {
    "duration": 57,
    "start_time": "2022-08-28T09:36:27.910Z"
   },
   {
    "duration": 22,
    "start_time": "2022-08-28T09:36:27.969Z"
   },
   {
    "duration": 32,
    "start_time": "2022-08-28T09:36:28.006Z"
   },
   {
    "duration": 138,
    "start_time": "2022-08-28T09:36:28.041Z"
   },
   {
    "duration": 134,
    "start_time": "2022-08-28T09:36:28.180Z"
   },
   {
    "duration": 126,
    "start_time": "2022-08-28T09:36:28.316Z"
   },
   {
    "duration": 215,
    "start_time": "2022-08-28T09:36:28.446Z"
   },
   {
    "duration": 258,
    "start_time": "2022-08-28T09:36:28.662Z"
   },
   {
    "duration": 180,
    "start_time": "2022-08-28T09:36:28.922Z"
   },
   {
    "duration": 10,
    "start_time": "2022-08-28T09:36:29.106Z"
   },
   {
    "duration": 11,
    "start_time": "2022-08-28T09:36:29.117Z"
   },
   {
    "duration": 9,
    "start_time": "2022-08-28T09:36:29.130Z"
   },
   {
    "duration": 4,
    "start_time": "2022-08-28T09:36:29.140Z"
   },
   {
    "duration": 270,
    "start_time": "2022-08-28T09:36:29.145Z"
   },
   {
    "duration": 260,
    "start_time": "2022-08-28T09:36:29.417Z"
   },
   {
    "duration": 354,
    "start_time": "2022-08-28T09:36:29.679Z"
   },
   {
    "duration": 411,
    "start_time": "2022-08-28T09:36:30.035Z"
   },
   {
    "duration": 7,
    "start_time": "2022-08-28T09:36:30.448Z"
   },
   {
    "duration": 10,
    "start_time": "2022-08-28T09:36:30.457Z"
   },
   {
    "duration": 3,
    "start_time": "2022-08-28T09:36:30.469Z"
   },
   {
    "duration": 8,
    "start_time": "2022-08-28T09:36:30.473Z"
   },
   {
    "duration": 25,
    "start_time": "2022-08-28T09:36:30.483Z"
   },
   {
    "duration": 99,
    "start_time": "2022-08-28T09:36:30.510Z"
   },
   {
    "duration": 4,
    "start_time": "2022-08-28T09:36:30.611Z"
   },
   {
    "duration": 17,
    "start_time": "2022-08-28T09:36:30.617Z"
   },
   {
    "duration": 21,
    "start_time": "2022-08-28T09:36:30.636Z"
   },
   {
    "duration": 16,
    "start_time": "2022-08-28T09:36:30.658Z"
   },
   {
    "duration": 409,
    "start_time": "2022-08-28T09:36:30.676Z"
   },
   {
    "duration": 6,
    "start_time": "2022-08-28T09:36:31.086Z"
   },
   {
    "duration": 16,
    "start_time": "2022-08-28T09:36:31.093Z"
   },
   {
    "duration": 13,
    "start_time": "2022-08-28T09:36:31.110Z"
   },
   {
    "duration": 15,
    "start_time": "2022-08-28T09:36:31.125Z"
   },
   {
    "duration": 13,
    "start_time": "2022-08-28T09:36:31.142Z"
   },
   {
    "duration": 24,
    "start_time": "2022-08-28T09:36:31.157Z"
   },
   {
    "duration": 12,
    "start_time": "2022-08-28T09:36:31.182Z"
   },
   {
    "duration": 11,
    "start_time": "2022-08-28T09:36:31.196Z"
   },
   {
    "duration": 21,
    "start_time": "2022-08-28T09:36:31.208Z"
   },
   {
    "duration": 10,
    "start_time": "2022-08-28T09:36:31.231Z"
   },
   {
    "duration": 5,
    "start_time": "2022-08-28T09:37:43.172Z"
   },
   {
    "duration": 6,
    "start_time": "2022-08-28T09:37:46.646Z"
   },
   {
    "duration": 5,
    "start_time": "2022-08-28T09:37:51.050Z"
   },
   {
    "duration": 4,
    "start_time": "2022-08-28T09:38:08.244Z"
   },
   {
    "duration": 21,
    "start_time": "2022-08-28T09:42:50.846Z"
   },
   {
    "duration": 88,
    "start_time": "2022-08-28T09:47:53.123Z"
   },
   {
    "duration": 4,
    "start_time": "2022-08-28T09:48:01.384Z"
   },
   {
    "duration": 131,
    "start_time": "2022-08-28T09:51:36.146Z"
   },
   {
    "duration": 55,
    "start_time": "2022-08-28T12:28:48.157Z"
   },
   {
    "duration": 2246,
    "start_time": "2022-08-28T12:28:54.765Z"
   },
   {
    "duration": 18,
    "start_time": "2022-08-28T12:28:57.014Z"
   },
   {
    "duration": 14,
    "start_time": "2022-08-28T12:28:57.059Z"
   },
   {
    "duration": 20,
    "start_time": "2022-08-28T12:28:57.784Z"
   },
   {
    "duration": 12,
    "start_time": "2022-08-28T12:28:58.524Z"
   },
   {
    "duration": 15,
    "start_time": "2022-08-28T12:28:58.997Z"
   },
   {
    "duration": 13,
    "start_time": "2022-08-28T12:28:59.602Z"
   },
   {
    "duration": 17,
    "start_time": "2022-08-28T12:29:00.243Z"
   },
   {
    "duration": 10,
    "start_time": "2022-08-28T12:29:00.908Z"
   },
   {
    "duration": 14,
    "start_time": "2022-08-28T12:29:01.602Z"
   },
   {
    "duration": 10,
    "start_time": "2022-08-28T12:29:02.498Z"
   },
   {
    "duration": 11,
    "start_time": "2022-08-28T12:29:05.253Z"
   },
   {
    "duration": 47,
    "start_time": "2022-08-28T12:29:06.104Z"
   },
   {
    "duration": 22,
    "start_time": "2022-08-28T12:29:07.143Z"
   },
   {
    "duration": 28,
    "start_time": "2022-08-28T12:29:08.266Z"
   },
   {
    "duration": 112,
    "start_time": "2022-08-28T12:29:10.957Z"
   },
   {
    "duration": 39,
    "start_time": "2022-08-28T12:29:12.219Z"
   },
   {
    "duration": 65,
    "start_time": "2022-08-28T12:29:14.698Z"
   },
   {
    "duration": 54,
    "start_time": "2022-08-28T12:29:18.945Z"
   },
   {
    "duration": 55,
    "start_time": "2022-08-28T12:29:28.611Z"
   },
   {
    "duration": 59,
    "start_time": "2022-08-28T12:29:35.711Z"
   },
   {
    "duration": 111,
    "start_time": "2022-08-28T12:29:53.226Z"
   },
   {
    "duration": 54,
    "start_time": "2022-08-28T12:30:22.355Z"
   },
   {
    "duration": 58,
    "start_time": "2022-08-28T12:31:01.871Z"
   },
   {
    "duration": 26,
    "start_time": "2022-08-28T12:31:11.471Z"
   },
   {
    "duration": 21,
    "start_time": "2022-08-28T12:31:11.948Z"
   },
   {
    "duration": 37,
    "start_time": "2022-08-28T12:31:12.614Z"
   },
   {
    "duration": 24,
    "start_time": "2022-08-28T12:31:13.555Z"
   },
   {
    "duration": 14,
    "start_time": "2022-08-28T12:31:18.448Z"
   },
   {
    "duration": 12,
    "start_time": "2022-08-28T12:31:19.653Z"
   },
   {
    "duration": 17,
    "start_time": "2022-08-28T12:31:20.776Z"
   },
   {
    "duration": 22,
    "start_time": "2022-08-28T12:31:44.622Z"
   },
   {
    "duration": 19,
    "start_time": "2022-08-28T12:32:42.782Z"
   },
   {
    "duration": 4,
    "start_time": "2022-08-28T12:32:45.053Z"
   },
   {
    "duration": 5,
    "start_time": "2022-08-28T12:32:45.718Z"
   },
   {
    "duration": 88,
    "start_time": "2022-08-28T12:32:46.394Z"
   },
   {
    "duration": 3,
    "start_time": "2022-08-28T12:32:46.883Z"
   },
   {
    "duration": 3,
    "start_time": "2022-08-28T12:32:47.391Z"
   },
   {
    "duration": 66,
    "start_time": "2022-08-28T12:32:47.943Z"
   },
   {
    "duration": 3,
    "start_time": "2022-08-28T12:32:48.388Z"
   },
   {
    "duration": 7,
    "start_time": "2022-08-28T12:32:55.218Z"
   },
   {
    "duration": 72,
    "start_time": "2022-08-28T12:32:55.894Z"
   },
   {
    "duration": 29,
    "start_time": "2022-08-28T12:32:56.485Z"
   },
   {
    "duration": 30,
    "start_time": "2022-08-28T12:32:57.219Z"
   },
   {
    "duration": 148,
    "start_time": "2022-08-28T12:32:59.947Z"
   },
   {
    "duration": 155,
    "start_time": "2022-08-28T12:33:01.283Z"
   },
   {
    "duration": 138,
    "start_time": "2022-08-28T12:33:03.432Z"
   },
   {
    "duration": 252,
    "start_time": "2022-08-28T12:33:05.103Z"
   },
   {
    "duration": 313,
    "start_time": "2022-08-28T12:33:07.283Z"
   },
   {
    "duration": 240,
    "start_time": "2022-08-28T12:33:08.583Z"
   },
   {
    "duration": 16,
    "start_time": "2022-08-28T12:33:11.006Z"
   },
   {
    "duration": 12,
    "start_time": "2022-08-28T12:33:11.790Z"
   },
   {
    "duration": 11,
    "start_time": "2022-08-28T12:33:12.467Z"
   },
   {
    "duration": 4,
    "start_time": "2022-08-28T12:33:13.363Z"
   },
   {
    "duration": 337,
    "start_time": "2022-08-28T12:33:14.453Z"
   },
   {
    "duration": 335,
    "start_time": "2022-08-28T12:33:15.008Z"
   },
   {
    "duration": 399,
    "start_time": "2022-08-28T12:33:15.579Z"
   },
   {
    "duration": 468,
    "start_time": "2022-08-28T12:33:46.741Z"
   },
   {
    "duration": 7,
    "start_time": "2022-08-28T12:33:47.268Z"
   },
   {
    "duration": 10,
    "start_time": "2022-08-28T12:33:48.145Z"
   },
   {
    "duration": 3,
    "start_time": "2022-08-28T12:33:48.760Z"
   },
   {
    "duration": 6,
    "start_time": "2022-08-28T12:33:49.327Z"
   },
   {
    "duration": 5,
    "start_time": "2022-08-28T12:33:50.014Z"
   },
   {
    "duration": 6,
    "start_time": "2022-08-28T12:33:50.780Z"
   },
   {
    "duration": 5,
    "start_time": "2022-08-28T12:33:59.735Z"
   },
   {
    "duration": 5,
    "start_time": "2022-08-28T12:34:00.390Z"
   },
   {
    "duration": 100,
    "start_time": "2022-08-28T12:34:02.685Z"
   },
   {
    "duration": 5,
    "start_time": "2022-08-28T12:34:03.238Z"
   },
   {
    "duration": 555,
    "start_time": "2022-08-28T12:34:05.709Z"
   },
   {
    "duration": 7,
    "start_time": "2022-08-28T12:34:09.436Z"
   },
   {
    "duration": 9,
    "start_time": "2022-08-28T12:34:10.098Z"
   },
   {
    "duration": 4,
    "start_time": "2022-08-28T12:34:10.609Z"
   },
   {
    "duration": 6,
    "start_time": "2022-08-28T12:34:11.139Z"
   },
   {
    "duration": 4,
    "start_time": "2022-08-28T12:34:11.798Z"
   },
   {
    "duration": 7,
    "start_time": "2022-08-28T12:34:12.494Z"
   },
   {
    "duration": 5,
    "start_time": "2022-08-28T12:34:13.272Z"
   },
   {
    "duration": 6,
    "start_time": "2022-08-28T12:34:13.929Z"
   },
   {
    "duration": 1905,
    "start_time": "2022-08-28T12:37:54.512Z"
   },
   {
    "duration": 14,
    "start_time": "2022-08-28T12:37:56.420Z"
   },
   {
    "duration": 18,
    "start_time": "2022-08-28T12:37:56.436Z"
   },
   {
    "duration": 20,
    "start_time": "2022-08-28T12:37:56.457Z"
   },
   {
    "duration": 25,
    "start_time": "2022-08-28T12:37:56.479Z"
   },
   {
    "duration": 23,
    "start_time": "2022-08-28T12:37:56.507Z"
   },
   {
    "duration": 8,
    "start_time": "2022-08-28T12:37:56.533Z"
   },
   {
    "duration": 31,
    "start_time": "2022-08-28T12:37:56.543Z"
   },
   {
    "duration": 13,
    "start_time": "2022-08-28T12:37:56.605Z"
   },
   {
    "duration": 17,
    "start_time": "2022-08-28T12:37:56.621Z"
   },
   {
    "duration": 17,
    "start_time": "2022-08-28T12:37:56.640Z"
   },
   {
    "duration": 14,
    "start_time": "2022-08-28T12:37:56.659Z"
   },
   {
    "duration": 69,
    "start_time": "2022-08-28T12:37:56.674Z"
   },
   {
    "duration": 25,
    "start_time": "2022-08-28T12:37:56.745Z"
   },
   {
    "duration": 56,
    "start_time": "2022-08-28T12:37:56.772Z"
   },
   {
    "duration": 142,
    "start_time": "2022-08-28T12:37:56.832Z"
   },
   {
    "duration": 44,
    "start_time": "2022-08-28T12:37:56.976Z"
   },
   {
    "duration": 60,
    "start_time": "2022-08-28T12:37:57.022Z"
   },
   {
    "duration": 45,
    "start_time": "2022-08-28T12:37:57.084Z"
   },
   {
    "duration": 20,
    "start_time": "2022-08-28T12:37:57.131Z"
   },
   {
    "duration": 59,
    "start_time": "2022-08-28T12:37:57.154Z"
   },
   {
    "duration": 28,
    "start_time": "2022-08-28T12:37:57.215Z"
   },
   {
    "duration": 14,
    "start_time": "2022-08-28T12:37:57.245Z"
   },
   {
    "duration": 12,
    "start_time": "2022-08-28T12:37:57.261Z"
   },
   {
    "duration": 46,
    "start_time": "2022-08-28T12:37:57.275Z"
   },
   {
    "duration": 22,
    "start_time": "2022-08-28T12:37:57.324Z"
   },
   {
    "duration": 4,
    "start_time": "2022-08-28T12:37:57.348Z"
   },
   {
    "duration": 5,
    "start_time": "2022-08-28T12:37:57.359Z"
   },
   {
    "duration": 88,
    "start_time": "2022-08-28T12:37:57.403Z"
   },
   {
    "duration": 11,
    "start_time": "2022-08-28T12:37:57.493Z"
   },
   {
    "duration": 30,
    "start_time": "2022-08-28T12:37:57.506Z"
   },
   {
    "duration": 89,
    "start_time": "2022-08-28T12:37:57.541Z"
   },
   {
    "duration": 4,
    "start_time": "2022-08-28T12:37:57.632Z"
   },
   {
    "duration": 7,
    "start_time": "2022-08-28T12:37:57.638Z"
   },
   {
    "duration": 99,
    "start_time": "2022-08-28T12:37:57.647Z"
   },
   {
    "duration": 25,
    "start_time": "2022-08-28T12:37:57.748Z"
   },
   {
    "duration": 48,
    "start_time": "2022-08-28T12:37:57.776Z"
   },
   {
    "duration": 179,
    "start_time": "2022-08-28T12:37:57.827Z"
   },
   {
    "duration": 173,
    "start_time": "2022-08-28T12:37:58.009Z"
   },
   {
    "duration": 177,
    "start_time": "2022-08-28T12:37:58.183Z"
   },
   {
    "duration": 284,
    "start_time": "2022-08-28T12:37:58.362Z"
   },
   {
    "duration": 361,
    "start_time": "2022-08-28T12:37:58.648Z"
   },
   {
    "duration": 254,
    "start_time": "2022-08-28T12:37:59.012Z"
   },
   {
    "duration": 12,
    "start_time": "2022-08-28T12:37:59.269Z"
   },
   {
    "duration": 31,
    "start_time": "2022-08-28T12:37:59.282Z"
   },
   {
    "duration": 14,
    "start_time": "2022-08-28T12:37:59.316Z"
   },
   {
    "duration": 9,
    "start_time": "2022-08-28T12:37:59.332Z"
   },
   {
    "duration": 376,
    "start_time": "2022-08-28T12:37:59.343Z"
   },
   {
    "duration": 351,
    "start_time": "2022-08-28T12:37:59.721Z"
   },
   {
    "duration": 438,
    "start_time": "2022-08-28T12:38:00.074Z"
   },
   {
    "duration": 532,
    "start_time": "2022-08-28T12:38:00.515Z"
   },
   {
    "duration": 7,
    "start_time": "2022-08-28T12:38:01.049Z"
   },
   {
    "duration": 30,
    "start_time": "2022-08-28T12:38:01.058Z"
   },
   {
    "duration": 34,
    "start_time": "2022-08-28T12:38:01.090Z"
   },
   {
    "duration": 18,
    "start_time": "2022-08-28T12:38:01.127Z"
   },
   {
    "duration": 33,
    "start_time": "2022-08-28T12:38:01.147Z"
   },
   {
    "duration": 13,
    "start_time": "2022-08-28T12:38:01.182Z"
   },
   {
    "duration": 114,
    "start_time": "2022-08-28T12:38:01.197Z"
   },
   {
    "duration": 26,
    "start_time": "2022-08-28T12:38:01.313Z"
   },
   {
    "duration": 12,
    "start_time": "2022-08-28T12:38:01.342Z"
   },
   {
    "duration": 522,
    "start_time": "2022-08-28T12:38:01.356Z"
   },
   {
    "duration": 7,
    "start_time": "2022-08-28T12:38:01.880Z"
   },
   {
    "duration": 30,
    "start_time": "2022-08-28T12:38:01.889Z"
   },
   {
    "duration": 11,
    "start_time": "2022-08-28T12:38:01.921Z"
   },
   {
    "duration": 7,
    "start_time": "2022-08-28T12:38:01.934Z"
   },
   {
    "duration": 12,
    "start_time": "2022-08-28T12:38:01.943Z"
   },
   {
    "duration": 9,
    "start_time": "2022-08-28T12:38:01.957Z"
   },
   {
    "duration": 14,
    "start_time": "2022-08-28T12:38:01.968Z"
   },
   {
    "duration": 19,
    "start_time": "2022-08-28T12:38:01.984Z"
   },
   {
    "duration": 27,
    "start_time": "2022-08-28T12:38:02.005Z"
   },
   {
    "duration": 1698,
    "start_time": "2022-08-29T09:21:59.336Z"
   },
   {
    "duration": 13,
    "start_time": "2022-08-29T09:22:01.036Z"
   },
   {
    "duration": 51,
    "start_time": "2022-08-29T09:22:01.050Z"
   },
   {
    "duration": 44,
    "start_time": "2022-08-29T09:22:01.102Z"
   },
   {
    "duration": 20,
    "start_time": "2022-08-29T09:22:01.148Z"
   },
   {
    "duration": 35,
    "start_time": "2022-08-29T09:22:01.169Z"
   },
   {
    "duration": 8,
    "start_time": "2022-08-29T09:22:01.206Z"
   },
   {
    "duration": 70,
    "start_time": "2022-08-29T09:22:01.215Z"
   },
   {
    "duration": 37,
    "start_time": "2022-08-29T09:22:01.287Z"
   },
   {
    "duration": 73,
    "start_time": "2022-08-29T09:22:01.326Z"
   },
   {
    "duration": 25,
    "start_time": "2022-08-29T09:22:01.400Z"
   },
   {
    "duration": 49,
    "start_time": "2022-08-29T09:22:01.427Z"
   },
   {
    "duration": 62,
    "start_time": "2022-08-29T09:22:01.478Z"
   },
   {
    "duration": 38,
    "start_time": "2022-08-29T09:22:01.545Z"
   },
   {
    "duration": 35,
    "start_time": "2022-08-29T09:22:01.585Z"
   },
   {
    "duration": 160,
    "start_time": "2022-08-29T09:22:01.623Z"
   },
   {
    "duration": 38,
    "start_time": "2022-08-29T09:22:01.785Z"
   },
   {
    "duration": 89,
    "start_time": "2022-08-29T09:22:01.824Z"
   },
   {
    "duration": 28,
    "start_time": "2022-08-29T09:22:01.915Z"
   },
   {
    "duration": 37,
    "start_time": "2022-08-29T09:22:01.945Z"
   },
   {
    "duration": 33,
    "start_time": "2022-08-29T09:22:01.983Z"
   },
   {
    "duration": 50,
    "start_time": "2022-08-29T09:22:02.018Z"
   },
   {
    "duration": 14,
    "start_time": "2022-08-29T09:22:02.070Z"
   },
   {
    "duration": 15,
    "start_time": "2022-08-29T09:22:02.086Z"
   },
   {
    "duration": 30,
    "start_time": "2022-08-29T09:22:02.103Z"
   },
   {
    "duration": 37,
    "start_time": "2022-08-29T09:22:02.135Z"
   },
   {
    "duration": 4,
    "start_time": "2022-08-29T09:22:02.173Z"
   },
   {
    "duration": 12,
    "start_time": "2022-08-29T09:22:02.178Z"
   },
   {
    "duration": 82,
    "start_time": "2022-08-29T09:22:02.192Z"
   },
   {
    "duration": 3,
    "start_time": "2022-08-29T09:22:02.275Z"
   },
   {
    "duration": 19,
    "start_time": "2022-08-29T09:22:02.280Z"
   },
   {
    "duration": 73,
    "start_time": "2022-08-29T09:22:02.301Z"
   },
   {
    "duration": 3,
    "start_time": "2022-08-29T09:22:02.376Z"
   },
   {
    "duration": 18,
    "start_time": "2022-08-29T09:22:02.380Z"
   },
   {
    "duration": 70,
    "start_time": "2022-08-29T09:22:02.399Z"
   },
   {
    "duration": 26,
    "start_time": "2022-08-29T09:22:02.471Z"
   },
   {
    "duration": 39,
    "start_time": "2022-08-29T09:22:02.498Z"
   },
   {
    "duration": 170,
    "start_time": "2022-08-29T09:22:02.539Z"
   },
   {
    "duration": 147,
    "start_time": "2022-08-29T09:22:02.710Z"
   },
   {
    "duration": 163,
    "start_time": "2022-08-29T09:22:02.859Z"
   },
   {
    "duration": 255,
    "start_time": "2022-08-29T09:22:03.026Z"
   },
   {
    "duration": 324,
    "start_time": "2022-08-29T09:22:03.282Z"
   },
   {
    "duration": 233,
    "start_time": "2022-08-29T09:22:03.608Z"
   },
   {
    "duration": 12,
    "start_time": "2022-08-29T09:22:03.843Z"
   },
   {
    "duration": 13,
    "start_time": "2022-08-29T09:22:03.868Z"
   },
   {
    "duration": 11,
    "start_time": "2022-08-29T09:22:03.883Z"
   },
   {
    "duration": 6,
    "start_time": "2022-08-29T09:22:03.896Z"
   },
   {
    "duration": 338,
    "start_time": "2022-08-29T09:22:03.903Z"
   },
   {
    "duration": 312,
    "start_time": "2022-08-29T09:22:04.243Z"
   },
   {
    "duration": 375,
    "start_time": "2022-08-29T09:22:04.568Z"
   },
   {
    "duration": 504,
    "start_time": "2022-08-29T09:22:04.945Z"
   },
   {
    "duration": 7,
    "start_time": "2022-08-29T09:22:05.450Z"
   },
   {
    "duration": 12,
    "start_time": "2022-08-29T09:22:05.467Z"
   },
   {
    "duration": 4,
    "start_time": "2022-08-29T09:22:05.481Z"
   },
   {
    "duration": 12,
    "start_time": "2022-08-29T09:22:05.487Z"
   },
   {
    "duration": 9,
    "start_time": "2022-08-29T09:22:05.501Z"
   },
   {
    "duration": 116,
    "start_time": "2022-08-29T09:22:05.512Z"
   },
   {
    "duration": 8,
    "start_time": "2022-08-29T09:22:05.630Z"
   },
   {
    "duration": 15,
    "start_time": "2022-08-29T09:22:05.640Z"
   },
   {
    "duration": 10,
    "start_time": "2022-08-29T09:22:05.657Z"
   },
   {
    "duration": 487,
    "start_time": "2022-08-29T09:22:05.669Z"
   },
   {
    "duration": 12,
    "start_time": "2022-08-29T09:22:06.157Z"
   },
   {
    "duration": 54,
    "start_time": "2022-08-29T09:22:06.171Z"
   },
   {
    "duration": 29,
    "start_time": "2022-08-29T09:22:06.228Z"
   },
   {
    "duration": 61,
    "start_time": "2022-08-29T09:22:06.259Z"
   },
   {
    "duration": 19,
    "start_time": "2022-08-29T09:22:06.322Z"
   },
   {
    "duration": 26,
    "start_time": "2022-08-29T09:22:06.342Z"
   },
   {
    "duration": 48,
    "start_time": "2022-08-29T09:22:06.370Z"
   },
   {
    "duration": 11,
    "start_time": "2022-08-29T09:22:06.421Z"
   },
   {
    "duration": 22,
    "start_time": "2022-08-29T09:22:06.434Z"
   }
  ],
  "kernelspec": {
   "display_name": "Python 3 (ipykernel)",
   "language": "python",
   "name": "python3"
  },
  "language_info": {
   "codemirror_mode": {
    "name": "ipython",
    "version": 3
   },
   "file_extension": ".py",
   "mimetype": "text/x-python",
   "name": "python",
   "nbconvert_exporter": "python",
   "pygments_lexer": "ipython3",
   "version": "3.9.12"
  },
  "toc": {
   "base_numbering": 1,
   "nav_menu": {},
   "number_sections": true,
   "sideBar": true,
   "skip_h1_title": true,
   "title_cell": "Table of Contents",
   "title_sidebar": "Contents",
   "toc_cell": false,
   "toc_position": {},
   "toc_section_display": true,
   "toc_window_display": false
  }
 },
 "nbformat": 4,
 "nbformat_minor": 2
}
